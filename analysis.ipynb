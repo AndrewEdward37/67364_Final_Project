{
 "metadata": {
  "language_info": {
   "codemirror_mode": {
    "name": "ipython",
    "version": 3
   },
   "file_extension": ".py",
   "mimetype": "text/x-python",
   "name": "python",
   "nbconvert_exporter": "python",
   "pygments_lexer": "ipython3",
   "version": "3.7.6-final"
  },
  "orig_nbformat": 2,
  "kernelspec": {
   "name": "python3",
   "display_name": "Python 3"
  }
 },
 "nbformat": 4,
 "nbformat_minor": 2,
 "cells": [
  {
   "source": [
    "# COVID-19 Tweets Sentiment Analysis\n",
    "### By: Andrej Pozderac, Andrew Edward, Faaiz Joad\n",
    "# -----------------------------------------------------------------------------\n",
    "Loading all necessary libraries"
   ],
   "cell_type": "markdown",
   "metadata": {}
  },
  {
   "cell_type": "code",
   "execution_count": 54,
   "metadata": {},
   "outputs": [],
   "source": [
    "#pip install gensim "
   ]
  },
  {
   "cell_type": "code",
   "execution_count": 55,
   "metadata": {},
   "outputs": [],
   "source": [
    "#!pip install pyLDAvis"
   ]
  },
  {
   "cell_type": "code",
   "execution_count": 56,
   "metadata": {},
   "outputs": [],
   "source": [
    "import pandas as pd\n",
    "import re\n",
    "import nltk\n",
    "import collections\n",
    "import string\n",
    "import numpy as np\n",
    "import sklearn\n",
    "import gzip\n",
    "import csv\n",
    "import matplotlib.pyplot as plt\n",
    "from nltk.tokenize import word_tokenize\n",
    "from sklearn.feature_extraction.text import TfidfVectorizer\n",
    "from gensim.models import Word2Vec\n",
    "from time import time\n",
    "from nltk import bigrams\n",
    "import itertools\n",
    "import collections\n",
    "from sklearn.decomposition import PCA\n",
    "from sklearn.manifold import TSNE\n",
    "import networkx as nx\n",
    "from wordcloud import WordCloud\n",
    "from textblob import TextBlob\n",
    "from sklearn.feature_extraction.text import CountVectorizer\n",
    "from sklearn.decomposition import LatentDirichletAllocation\n",
    "# from plotnine import *\n",
    "# from plotnine.data import *\n",
    "import plotly as py\n",
    "import plotly.express as px\n",
    "import pyLDAvis.sklearn\n",
    "\n",
    "%matplotlib inline\n",
    "import matplotlib.pyplot as plt\n",
    "import seaborn as sns; sns.set()"
   ]
  },
  {
   "source": [
    "# -----------------------------------------------------------------------------\n",
    "## Loading the tweets data"
   ],
   "cell_type": "markdown",
   "metadata": {}
  },
  {
   "cell_type": "code",
   "execution_count": 57,
   "metadata": {},
   "outputs": [],
   "source": [
    "covid_19_tweets = pd.read_csv('final_tweets.csv')"
   ]
  },
  {
   "cell_type": "code",
   "execution_count": 58,
   "metadata": {},
   "outputs": [
    {
     "output_type": "execute_result",
     "data": {
      "text/plain": [
       "             Date                                              Tweet  \\\n",
       "0      11/26/2020  OlgaNYC1211 Me Hello FBI and DHSgov Id like to...   \n",
       "1      11/26/2020  gilliland1tide Must have been a contest of the...   \n",
       "2      11/26/2020  I invented a diet called the Chimp Diet You ea...   \n",
       "3      11/26/2020  People have told youll find the one someday So...   \n",
       "4      11/26/2020  I havent seen mfs in a while This COVID19 fuck...   \n",
       "...           ...                                                ...   \n",
       "25822  03/01/2020  People its CoronaVirus or COVID19 Pick one Als...   \n",
       "25823  03/01/2020  swkoti Rice Pasta Canned soup Getting ready fo...   \n",
       "25824  03/01/2020  Theyre chasing me the journalist who wouldnt s...   \n",
       "25825  03/01/2020  Calling it now it will be the 2021 Summer Olym...   \n",
       "25826  03/01/2020  douginnc HurricaneEve81 madmamavotes Beantownd...   \n",
       "\n",
       "                  User Keyword  \n",
       "0      HereNowForever1   COVID  \n",
       "1           profstan72   COVID  \n",
       "2       blackbettyblog  corona  \n",
       "3       GravityOcean13  corona  \n",
       "4      In_Jay_We_Trust   COVID  \n",
       "...                ...     ...  \n",
       "25822         _lydiamj   COVID  \n",
       "25823    babybellarose   COVID  \n",
       "25824          amici09   COVID  \n",
       "25825         kraichdm   COVID  \n",
       "25826          Frodo60   COVID  \n",
       "\n",
       "[25827 rows x 4 columns]"
      ],
      "text/html": "<div>\n<style scoped>\n    .dataframe tbody tr th:only-of-type {\n        vertical-align: middle;\n    }\n\n    .dataframe tbody tr th {\n        vertical-align: top;\n    }\n\n    .dataframe thead th {\n        text-align: right;\n    }\n</style>\n<table border=\"1\" class=\"dataframe\">\n  <thead>\n    <tr style=\"text-align: right;\">\n      <th></th>\n      <th>Date</th>\n      <th>Tweet</th>\n      <th>User</th>\n      <th>Keyword</th>\n    </tr>\n  </thead>\n  <tbody>\n    <tr>\n      <th>0</th>\n      <td>11/26/2020</td>\n      <td>OlgaNYC1211 Me Hello FBI and DHSgov Id like to...</td>\n      <td>HereNowForever1</td>\n      <td>COVID</td>\n    </tr>\n    <tr>\n      <th>1</th>\n      <td>11/26/2020</td>\n      <td>gilliland1tide Must have been a contest of the...</td>\n      <td>profstan72</td>\n      <td>COVID</td>\n    </tr>\n    <tr>\n      <th>2</th>\n      <td>11/26/2020</td>\n      <td>I invented a diet called the Chimp Diet You ea...</td>\n      <td>blackbettyblog</td>\n      <td>corona</td>\n    </tr>\n    <tr>\n      <th>3</th>\n      <td>11/26/2020</td>\n      <td>People have told youll find the one someday So...</td>\n      <td>GravityOcean13</td>\n      <td>corona</td>\n    </tr>\n    <tr>\n      <th>4</th>\n      <td>11/26/2020</td>\n      <td>I havent seen mfs in a while This COVID19 fuck...</td>\n      <td>In_Jay_We_Trust</td>\n      <td>COVID</td>\n    </tr>\n    <tr>\n      <th>...</th>\n      <td>...</td>\n      <td>...</td>\n      <td>...</td>\n      <td>...</td>\n    </tr>\n    <tr>\n      <th>25822</th>\n      <td>03/01/2020</td>\n      <td>People its CoronaVirus or COVID19 Pick one Als...</td>\n      <td>_lydiamj</td>\n      <td>COVID</td>\n    </tr>\n    <tr>\n      <th>25823</th>\n      <td>03/01/2020</td>\n      <td>swkoti Rice Pasta Canned soup Getting ready fo...</td>\n      <td>babybellarose</td>\n      <td>COVID</td>\n    </tr>\n    <tr>\n      <th>25824</th>\n      <td>03/01/2020</td>\n      <td>Theyre chasing me the journalist who wouldnt s...</td>\n      <td>amici09</td>\n      <td>COVID</td>\n    </tr>\n    <tr>\n      <th>25825</th>\n      <td>03/01/2020</td>\n      <td>Calling it now it will be the 2021 Summer Olym...</td>\n      <td>kraichdm</td>\n      <td>COVID</td>\n    </tr>\n    <tr>\n      <th>25826</th>\n      <td>03/01/2020</td>\n      <td>douginnc HurricaneEve81 madmamavotes Beantownd...</td>\n      <td>Frodo60</td>\n      <td>COVID</td>\n    </tr>\n  </tbody>\n</table>\n<p>25827 rows × 4 columns</p>\n</div>"
     },
     "metadata": {},
     "execution_count": 58
    }
   ],
   "source": [
    "covid_19_tweets"
   ]
  },
  {
   "cell_type": "code",
   "execution_count": 59,
   "metadata": {},
   "outputs": [
    {
     "output_type": "execute_result",
     "data": {
      "text/plain": [
       "      Date                                              Tweet  \\\n",
       "0       11  OlgaNYC1211 Me Hello FBI and DHSgov Id like to...   \n",
       "1       11  gilliland1tide Must have been a contest of the...   \n",
       "2       11  I invented a diet called the Chimp Diet You ea...   \n",
       "3       11  People have told youll find the one someday So...   \n",
       "4       11  I havent seen mfs in a while This COVID19 fuck...   \n",
       "...    ...                                                ...   \n",
       "25822   03  People its CoronaVirus or COVID19 Pick one Als...   \n",
       "25823   03  swkoti Rice Pasta Canned soup Getting ready fo...   \n",
       "25824   03  Theyre chasing me the journalist who wouldnt s...   \n",
       "25825   03  Calling it now it will be the 2021 Summer Olym...   \n",
       "25826   03  douginnc HurricaneEve81 madmamavotes Beantownd...   \n",
       "\n",
       "                  User Keyword  \n",
       "0      HereNowForever1   COVID  \n",
       "1           profstan72   COVID  \n",
       "2       blackbettyblog  corona  \n",
       "3       GravityOcean13  corona  \n",
       "4      In_Jay_We_Trust   COVID  \n",
       "...                ...     ...  \n",
       "25822         _lydiamj   COVID  \n",
       "25823    babybellarose   COVID  \n",
       "25824          amici09   COVID  \n",
       "25825         kraichdm   COVID  \n",
       "25826          Frodo60   COVID  \n",
       "\n",
       "[25827 rows x 4 columns]"
      ],
      "text/html": "<div>\n<style scoped>\n    .dataframe tbody tr th:only-of-type {\n        vertical-align: middle;\n    }\n\n    .dataframe tbody tr th {\n        vertical-align: top;\n    }\n\n    .dataframe thead th {\n        text-align: right;\n    }\n</style>\n<table border=\"1\" class=\"dataframe\">\n  <thead>\n    <tr style=\"text-align: right;\">\n      <th></th>\n      <th>Date</th>\n      <th>Tweet</th>\n      <th>User</th>\n      <th>Keyword</th>\n    </tr>\n  </thead>\n  <tbody>\n    <tr>\n      <th>0</th>\n      <td>11</td>\n      <td>OlgaNYC1211 Me Hello FBI and DHSgov Id like to...</td>\n      <td>HereNowForever1</td>\n      <td>COVID</td>\n    </tr>\n    <tr>\n      <th>1</th>\n      <td>11</td>\n      <td>gilliland1tide Must have been a contest of the...</td>\n      <td>profstan72</td>\n      <td>COVID</td>\n    </tr>\n    <tr>\n      <th>2</th>\n      <td>11</td>\n      <td>I invented a diet called the Chimp Diet You ea...</td>\n      <td>blackbettyblog</td>\n      <td>corona</td>\n    </tr>\n    <tr>\n      <th>3</th>\n      <td>11</td>\n      <td>People have told youll find the one someday So...</td>\n      <td>GravityOcean13</td>\n      <td>corona</td>\n    </tr>\n    <tr>\n      <th>4</th>\n      <td>11</td>\n      <td>I havent seen mfs in a while This COVID19 fuck...</td>\n      <td>In_Jay_We_Trust</td>\n      <td>COVID</td>\n    </tr>\n    <tr>\n      <th>...</th>\n      <td>...</td>\n      <td>...</td>\n      <td>...</td>\n      <td>...</td>\n    </tr>\n    <tr>\n      <th>25822</th>\n      <td>03</td>\n      <td>People its CoronaVirus or COVID19 Pick one Als...</td>\n      <td>_lydiamj</td>\n      <td>COVID</td>\n    </tr>\n    <tr>\n      <th>25823</th>\n      <td>03</td>\n      <td>swkoti Rice Pasta Canned soup Getting ready fo...</td>\n      <td>babybellarose</td>\n      <td>COVID</td>\n    </tr>\n    <tr>\n      <th>25824</th>\n      <td>03</td>\n      <td>Theyre chasing me the journalist who wouldnt s...</td>\n      <td>amici09</td>\n      <td>COVID</td>\n    </tr>\n    <tr>\n      <th>25825</th>\n      <td>03</td>\n      <td>Calling it now it will be the 2021 Summer Olym...</td>\n      <td>kraichdm</td>\n      <td>COVID</td>\n    </tr>\n    <tr>\n      <th>25826</th>\n      <td>03</td>\n      <td>douginnc HurricaneEve81 madmamavotes Beantownd...</td>\n      <td>Frodo60</td>\n      <td>COVID</td>\n    </tr>\n  </tbody>\n</table>\n<p>25827 rows × 4 columns</p>\n</div>"
     },
     "metadata": {},
     "execution_count": 59
    }
   ],
   "source": [
    "covid_19_tweets['Date'] = covid_19_tweets['Date'].apply(lambda row: row.split('/')[0])\n",
    "covid_19_tweets"
   ]
  },
  {
   "cell_type": "code",
   "execution_count": 60,
   "metadata": {},
   "outputs": [],
   "source": [
    "def clean_tweet(tweet):\n",
    "    #Step 1 - drop links\n",
    "    regex = re.compile(r'https?://t.co/[a-zA-Z0-9]{10}')\n",
    "    remove_links = re.split(regex,tweet)\n",
    "    remove_links = ' '.join(remove_links)\n",
    "\n",
    "    #Step 2 - Remove any non-ascii characters\n",
    "    remove_non_ascii =  re.sub(r'[^\\x00-\\x7F]+',' ', remove_links).lower()\n",
    "\n",
    "    #Step 3 - check for apostrophes\n",
    "    remove_apostroph = remove_non_ascii.replace(\"'s\",\"\")\n",
    "    remove_apostroph = remove_apostroph.replace(\"'\",\"\")\n",
    "    remove_apostroph = remove_apostroph.split(' ')\n",
    "    \n",
    "    #Step 4 - Remove dashes\n",
    "    remove_dashes = ' '.join(remove_apostroph).split('-')\n",
    "    remove_dashes = ' '.join(remove_dashes)\n",
    "\n",
    "    #Step 5 - Keep letters and digits only\n",
    "    keep_letters =  re.sub(r'[^a-zA-Z0-9]',' ', remove_dashes)\n",
    "\n",
    "    keep_letters = keep_letters.split(' ')\n",
    "\n",
    "    keep_letters = ' '.join(keep_letters)\n",
    "\n",
    "    #Step 6 - Tokenize \n",
    "    tokenize = nltk.word_tokenize(keep_letters)\n",
    "\n",
    "    #Step 7 - Lemmatize    \n",
    "    lemmatizer=nltk.stem.wordnet.WordNetLemmatizer()\n",
    "    lemmatize_text = map(lambda x: lemmatizer.lemmatize(x), tokenize)\n",
    "\n",
    "    #Step 8 - Remove stop words\n",
    "    stopwords = set(nltk.corpus.stopwords.words('english'))\n",
    "    remove_stop = list(filter(lambda x: x not in stopwords, lemmatize_text))\n",
    "\n",
    "    #Step 9 - Remove any empty strings from list\n",
    "    processed_list = list(filter(lambda a: a != \"\", remove_stop))\n",
    "\n",
    "    processed_string = \" \".join(processed_list)\n",
    "\n",
    "    return processed_string"
   ]
  },
  {
   "cell_type": "code",
   "execution_count": 61,
   "metadata": {},
   "outputs": [],
   "source": [
    "covid_19_tweets['Tweet'] = covid_19_tweets['Tweet'].apply(lambda x: clean_tweet(x))"
   ]
  },
  {
   "source": [
    "# -------------------------------------------------------------------------"
   ],
   "cell_type": "markdown",
   "metadata": {}
  },
  {
   "cell_type": "code",
   "execution_count": 62,
   "metadata": {},
   "outputs": [],
   "source": [
    "def sent_to_list(sentence):\n",
    "    return sentence.split(\" \")"
   ]
  },
  {
   "cell_type": "code",
   "execution_count": 63,
   "metadata": {},
   "outputs": [],
   "source": [
    "covid_19_tweets['words_list'] = covid_19_tweets['Tweet'].apply(lambda x: sent_to_list(x))"
   ]
  },
  {
   "cell_type": "code",
   "execution_count": 64,
   "metadata": {},
   "outputs": [
    {
     "output_type": "execute_result",
     "data": {
      "text/plain": [
       "      Date                                              Tweet  \\\n",
       "0       11  olganyc1211 hello fbi dhsgov id like report ac...   \n",
       "1       11  gilliland1tide must contest three worst disast...   \n",
       "2       11  invented diet called chimp diet eat mostly fru...   \n",
       "3       11  people told youll find one someday like whens ...   \n",
       "4       11                 havent seen mf covid19 fucked link   \n",
       "...    ...                                                ...   \n",
       "22583   11  roxymojo please listen vet also doctor fightin...   \n",
       "22584   11  beschlossdc please listen vet also doctor figh...   \n",
       "22585   11  jerry deli studio city close friday covid19 fa...   \n",
       "22586   11  urocklive1 johnwdean please listen vet also do...   \n",
       "22587   11  johnwdean please listen vet also doctor fighti...   \n",
       "\n",
       "                  User Keyword  \\\n",
       "0      HereNowForever1   COVID   \n",
       "1           profstan72   COVID   \n",
       "2       blackbettyblog  corona   \n",
       "3       GravityOcean13  corona   \n",
       "4      In_Jay_We_Trust   COVID   \n",
       "...                ...     ...   \n",
       "22583          Frodo60   COVID   \n",
       "22584          Frodo60   COVID   \n",
       "22585  needcollegehelp   COVID   \n",
       "22586          Frodo60   COVID   \n",
       "22587          Frodo60   COVID   \n",
       "\n",
       "                                              words_list  \n",
       "0      [olganyc1211, hello, fbi, dhsgov, id, like, re...  \n",
       "1      [gilliland1tide, must, contest, three, worst, ...  \n",
       "2      [invented, diet, called, chimp, diet, eat, mos...  \n",
       "3      [people, told, youll, find, one, someday, like...  \n",
       "4              [havent, seen, mf, covid19, fucked, link]  \n",
       "...                                                  ...  \n",
       "22583  [roxymojo, please, listen, vet, also, doctor, ...  \n",
       "22584  [beschlossdc, please, listen, vet, also, docto...  \n",
       "22585  [jerry, deli, studio, city, close, friday, cov...  \n",
       "22586  [urocklive1, johnwdean, please, listen, vet, a...  \n",
       "22587  [johnwdean, please, listen, vet, also, doctor,...  \n",
       "\n",
       "[22588 rows x 5 columns]"
      ],
      "text/html": "<div>\n<style scoped>\n    .dataframe tbody tr th:only-of-type {\n        vertical-align: middle;\n    }\n\n    .dataframe tbody tr th {\n        vertical-align: top;\n    }\n\n    .dataframe thead th {\n        text-align: right;\n    }\n</style>\n<table border=\"1\" class=\"dataframe\">\n  <thead>\n    <tr style=\"text-align: right;\">\n      <th></th>\n      <th>Date</th>\n      <th>Tweet</th>\n      <th>User</th>\n      <th>Keyword</th>\n      <th>words_list</th>\n    </tr>\n  </thead>\n  <tbody>\n    <tr>\n      <th>0</th>\n      <td>11</td>\n      <td>olganyc1211 hello fbi dhsgov id like report ac...</td>\n      <td>HereNowForever1</td>\n      <td>COVID</td>\n      <td>[olganyc1211, hello, fbi, dhsgov, id, like, re...</td>\n    </tr>\n    <tr>\n      <th>1</th>\n      <td>11</td>\n      <td>gilliland1tide must contest three worst disast...</td>\n      <td>profstan72</td>\n      <td>COVID</td>\n      <td>[gilliland1tide, must, contest, three, worst, ...</td>\n    </tr>\n    <tr>\n      <th>2</th>\n      <td>11</td>\n      <td>invented diet called chimp diet eat mostly fru...</td>\n      <td>blackbettyblog</td>\n      <td>corona</td>\n      <td>[invented, diet, called, chimp, diet, eat, mos...</td>\n    </tr>\n    <tr>\n      <th>3</th>\n      <td>11</td>\n      <td>people told youll find one someday like whens ...</td>\n      <td>GravityOcean13</td>\n      <td>corona</td>\n      <td>[people, told, youll, find, one, someday, like...</td>\n    </tr>\n    <tr>\n      <th>4</th>\n      <td>11</td>\n      <td>havent seen mf covid19 fucked link</td>\n      <td>In_Jay_We_Trust</td>\n      <td>COVID</td>\n      <td>[havent, seen, mf, covid19, fucked, link]</td>\n    </tr>\n    <tr>\n      <th>...</th>\n      <td>...</td>\n      <td>...</td>\n      <td>...</td>\n      <td>...</td>\n      <td>...</td>\n    </tr>\n    <tr>\n      <th>22583</th>\n      <td>11</td>\n      <td>roxymojo please listen vet also doctor fightin...</td>\n      <td>Frodo60</td>\n      <td>COVID</td>\n      <td>[roxymojo, please, listen, vet, also, doctor, ...</td>\n    </tr>\n    <tr>\n      <th>22584</th>\n      <td>11</td>\n      <td>beschlossdc please listen vet also doctor figh...</td>\n      <td>Frodo60</td>\n      <td>COVID</td>\n      <td>[beschlossdc, please, listen, vet, also, docto...</td>\n    </tr>\n    <tr>\n      <th>22585</th>\n      <td>11</td>\n      <td>jerry deli studio city close friday covid19 fa...</td>\n      <td>needcollegehelp</td>\n      <td>COVID</td>\n      <td>[jerry, deli, studio, city, close, friday, cov...</td>\n    </tr>\n    <tr>\n      <th>22586</th>\n      <td>11</td>\n      <td>urocklive1 johnwdean please listen vet also do...</td>\n      <td>Frodo60</td>\n      <td>COVID</td>\n      <td>[urocklive1, johnwdean, please, listen, vet, a...</td>\n    </tr>\n    <tr>\n      <th>22587</th>\n      <td>11</td>\n      <td>johnwdean please listen vet also doctor fighti...</td>\n      <td>Frodo60</td>\n      <td>COVID</td>\n      <td>[johnwdean, please, listen, vet, also, doctor,...</td>\n    </tr>\n  </tbody>\n</table>\n<p>22588 rows × 5 columns</p>\n</div>"
     },
     "metadata": {},
     "execution_count": 64
    }
   ],
   "source": [
    "covid_19_tweets_3 = covid_19_tweets.loc[covid_19_tweets['Date'] == '03']\n",
    "covid_19_tweets_4 = covid_19_tweets.loc[covid_19_tweets['Date'] == '04']\n",
    "covid_19_tweets_5 = covid_19_tweets.loc[covid_19_tweets['Date'] == '05']\n",
    "covid_19_tweets_6 = covid_19_tweets.loc[covid_19_tweets['Date'] == '06']\n",
    "covid_19_tweets_7 = covid_19_tweets.loc[covid_19_tweets['Date'] == '07']\n",
    "covid_19_tweets_8 = covid_19_tweets.loc[covid_19_tweets['Date'] == '08']\n",
    "covid_19_tweets_9 = covid_19_tweets.loc[covid_19_tweets['Date'] == '09']\n",
    "covid_19_tweets_10 = covid_19_tweets.loc[covid_19_tweets['Date'] == '10']\n",
    "covid_19_tweets_11 = covid_19_tweets.loc[covid_19_tweets['Date'] == '11']\n",
    "covid_19_tweets_11"
   ]
  },
  {
   "cell_type": "code",
   "execution_count": 65,
   "metadata": {},
   "outputs": [
    {
     "output_type": "execute_result",
     "data": {
      "text/plain": [
       "      Date                                              Tweet  \\\n",
       "0       11  olganyc1211 hello fbi dhsgov id like report ac...   \n",
       "1       11  gilliland1tide must contest three worst disast...   \n",
       "2       11  invented diet called chimp diet eat mostly fru...   \n",
       "3       11  people told youll find one someday like whens ...   \n",
       "4       11                 havent seen mf covid19 fucked link   \n",
       "...    ...                                                ...   \n",
       "25822   03  people coronavirus covid19 pick one also yall ...   \n",
       "25823   03  swkoti rice pasta canned soup getting ready co...   \n",
       "25824   03  theyre chasing journalist wouldnt stay quiet c...   \n",
       "25825   03  calling 2021 summer olympics olympics tokyo co...   \n",
       "25826   03  douginnc hurricaneeve81 madmamavotes beantownd...   \n",
       "\n",
       "                  User Keyword  \\\n",
       "0      HereNowForever1   COVID   \n",
       "1           profstan72   COVID   \n",
       "2       blackbettyblog  corona   \n",
       "3       GravityOcean13  corona   \n",
       "4      In_Jay_We_Trust   COVID   \n",
       "...                ...     ...   \n",
       "25822         _lydiamj   COVID   \n",
       "25823    babybellarose   COVID   \n",
       "25824          amici09   COVID   \n",
       "25825         kraichdm   COVID   \n",
       "25826          Frodo60   COVID   \n",
       "\n",
       "                                              words_list  \n",
       "0      [olganyc1211, hello, fbi, dhsgov, id, like, re...  \n",
       "1      [gilliland1tide, must, contest, three, worst, ...  \n",
       "2      [invented, diet, called, chimp, diet, eat, mos...  \n",
       "3      [people, told, youll, find, one, someday, like...  \n",
       "4              [havent, seen, mf, covid19, fucked, link]  \n",
       "...                                                  ...  \n",
       "25822  [people, coronavirus, covid19, pick, one, also...  \n",
       "25823  [swkoti, rice, pasta, canned, soup, getting, r...  \n",
       "25824  [theyre, chasing, journalist, wouldnt, stay, q...  \n",
       "25825  [calling, 2021, summer, olympics, olympics, to...  \n",
       "25826  [douginnc, hurricaneeve81, madmamavotes, beant...  \n",
       "\n",
       "[25827 rows x 5 columns]"
      ],
      "text/html": "<div>\n<style scoped>\n    .dataframe tbody tr th:only-of-type {\n        vertical-align: middle;\n    }\n\n    .dataframe tbody tr th {\n        vertical-align: top;\n    }\n\n    .dataframe thead th {\n        text-align: right;\n    }\n</style>\n<table border=\"1\" class=\"dataframe\">\n  <thead>\n    <tr style=\"text-align: right;\">\n      <th></th>\n      <th>Date</th>\n      <th>Tweet</th>\n      <th>User</th>\n      <th>Keyword</th>\n      <th>words_list</th>\n    </tr>\n  </thead>\n  <tbody>\n    <tr>\n      <th>0</th>\n      <td>11</td>\n      <td>olganyc1211 hello fbi dhsgov id like report ac...</td>\n      <td>HereNowForever1</td>\n      <td>COVID</td>\n      <td>[olganyc1211, hello, fbi, dhsgov, id, like, re...</td>\n    </tr>\n    <tr>\n      <th>1</th>\n      <td>11</td>\n      <td>gilliland1tide must contest three worst disast...</td>\n      <td>profstan72</td>\n      <td>COVID</td>\n      <td>[gilliland1tide, must, contest, three, worst, ...</td>\n    </tr>\n    <tr>\n      <th>2</th>\n      <td>11</td>\n      <td>invented diet called chimp diet eat mostly fru...</td>\n      <td>blackbettyblog</td>\n      <td>corona</td>\n      <td>[invented, diet, called, chimp, diet, eat, mos...</td>\n    </tr>\n    <tr>\n      <th>3</th>\n      <td>11</td>\n      <td>people told youll find one someday like whens ...</td>\n      <td>GravityOcean13</td>\n      <td>corona</td>\n      <td>[people, told, youll, find, one, someday, like...</td>\n    </tr>\n    <tr>\n      <th>4</th>\n      <td>11</td>\n      <td>havent seen mf covid19 fucked link</td>\n      <td>In_Jay_We_Trust</td>\n      <td>COVID</td>\n      <td>[havent, seen, mf, covid19, fucked, link]</td>\n    </tr>\n    <tr>\n      <th>...</th>\n      <td>...</td>\n      <td>...</td>\n      <td>...</td>\n      <td>...</td>\n      <td>...</td>\n    </tr>\n    <tr>\n      <th>25822</th>\n      <td>03</td>\n      <td>people coronavirus covid19 pick one also yall ...</td>\n      <td>_lydiamj</td>\n      <td>COVID</td>\n      <td>[people, coronavirus, covid19, pick, one, also...</td>\n    </tr>\n    <tr>\n      <th>25823</th>\n      <td>03</td>\n      <td>swkoti rice pasta canned soup getting ready co...</td>\n      <td>babybellarose</td>\n      <td>COVID</td>\n      <td>[swkoti, rice, pasta, canned, soup, getting, r...</td>\n    </tr>\n    <tr>\n      <th>25824</th>\n      <td>03</td>\n      <td>theyre chasing journalist wouldnt stay quiet c...</td>\n      <td>amici09</td>\n      <td>COVID</td>\n      <td>[theyre, chasing, journalist, wouldnt, stay, q...</td>\n    </tr>\n    <tr>\n      <th>25825</th>\n      <td>03</td>\n      <td>calling 2021 summer olympics olympics tokyo co...</td>\n      <td>kraichdm</td>\n      <td>COVID</td>\n      <td>[calling, 2021, summer, olympics, olympics, to...</td>\n    </tr>\n    <tr>\n      <th>25826</th>\n      <td>03</td>\n      <td>douginnc hurricaneeve81 madmamavotes beantownd...</td>\n      <td>Frodo60</td>\n      <td>COVID</td>\n      <td>[douginnc, hurricaneeve81, madmamavotes, beant...</td>\n    </tr>\n  </tbody>\n</table>\n<p>25827 rows × 5 columns</p>\n</div>"
     },
     "metadata": {},
     "execution_count": 65
    }
   ],
   "source": [
    "covid_19_tweets"
   ]
  },
  {
   "source": [
    "# -------------------------------------------------------------------------\n",
    "## Word2Vec Model"
   ],
   "cell_type": "markdown",
   "metadata": {}
  },
  {
   "cell_type": "code",
   "execution_count": 66,
   "metadata": {},
   "outputs": [
    {
     "output_type": "stream",
     "name": "stdout",
     "text": [
      "Time to build vocab: 0.04 mins\n"
     ]
    }
   ],
   "source": [
    "t = time()\n",
    "\n",
    "w2v_model = Word2Vec()\n",
    "w2v_model.build_vocab(covid_19_tweets['words_list'].tolist())\n",
    "\n",
    "print('Time to build vocab: {} mins'.format(round((time() - t) / 60, 2)))"
   ]
  },
  {
   "cell_type": "code",
   "execution_count": 67,
   "metadata": {},
   "outputs": [
    {
     "output_type": "execute_result",
     "data": {
      "text/plain": [
       "(9692394, 12396900)"
      ]
     },
     "metadata": {},
     "execution_count": 67
    }
   ],
   "source": [
    "w2v_model.train(covid_19_tweets['words_list'].tolist(), total_examples=w2v_model.corpus_count, epochs=30, report_delay=1)"
   ]
  },
  {
   "cell_type": "code",
   "execution_count": 68,
   "metadata": {},
   "outputs": [],
   "source": [
    "# w2v_model.wv.vocab"
   ]
  },
  {
   "cell_type": "code",
   "execution_count": 69,
   "metadata": {},
   "outputs": [
    {
     "output_type": "execute_result",
     "data": {
      "text/plain": [
       "[('lol', 0.47615742683410645),\n",
       " ('aint', 0.4500991702079773),\n",
       " ('cuz', 0.43848568201065063),\n",
       " ('tho', 0.41768190264701843),\n",
       " ('imma', 0.4073386788368225),\n",
       " ('covid19', 0.40688323974609375),\n",
       " ('mad', 0.40651702880859375),\n",
       " ('dj', 0.40366330742836),\n",
       " ('dropping', 0.39931029081344604),\n",
       " ('nasty', 0.39568743109703064)]"
      ]
     },
     "metadata": {},
     "execution_count": 69
    }
   ],
   "source": [
    "w2v_model.wv.most_similar(positive=[\"corona\"])"
   ]
  },
  {
   "cell_type": "code",
   "execution_count": 70,
   "metadata": {},
   "outputs": [
    {
     "output_type": "execute_result",
     "data": {
      "text/plain": [
       "0.40688324"
      ]
     },
     "metadata": {},
     "execution_count": 70
    }
   ],
   "source": [
    "w2v_model.wv.similarity('corona','covid19')"
   ]
  },
  {
   "cell_type": "code",
   "execution_count": 71,
   "metadata": {},
   "outputs": [],
   "source": [
    "def tsnescatterplot(model, word, list_names):\n",
    "    \"\"\" Plot in seaborn the results from the t-SNE dimensionality reduction algorithm of the vectors of a query word,\n",
    "    its list of most similar words, and a list of words.\n",
    "    \"\"\"\n",
    "    arrays = np.empty((0, 100), dtype='f')\n",
    "    word_labels = [word]\n",
    "    color_list  = ['red']\n",
    "\n",
    "    # adds the vector of the query word\n",
    "    arrays = np.append(arrays, model.wv.__getitem__([word]), axis=0)\n",
    "    \n",
    "    # gets list of most similar words\n",
    "    close_words = model.wv.most_similar([word])\n",
    "    \n",
    "    # adds the vector for each of the closest words to the array\n",
    "    for wrd_score in close_words:\n",
    "        wrd_vector = model.wv.__getitem__([wrd_score[0]])\n",
    "        word_labels.append(wrd_score[0])\n",
    "        color_list.append('blue')\n",
    "        arrays = np.append(arrays, wrd_vector, axis=0)\n",
    "    \n",
    "    # adds the vector for each of the words from list_names to the array\n",
    "    for wrd in list_names:\n",
    "        wrd_vector = model.wv.__getitem__([wrd])\n",
    "        word_labels.append(wrd)\n",
    "        color_list.append('green')\n",
    "        arrays = np.append(arrays, wrd_vector, axis=0)\n",
    "        \n",
    "    # Reduces the dimensionality from 300 to 50 dimensions with PCA\n",
    "    reduc = PCA().fit_transform(arrays)\n",
    "    \n",
    "    # Finds t-SNE coordinates for 2 dimensions\n",
    "    np.set_printoptions(suppress=True)\n",
    "    \n",
    "    Y = TSNE(n_components=2, random_state=0, perplexity=15).fit_transform(reduc)\n",
    "    \n",
    "    # Sets everything up to plot\n",
    "    df = pd.DataFrame({'x': [x for x in Y[:, 0]],\n",
    "                       'y': [y for y in Y[:, 1]],\n",
    "                       'words': word_labels,\n",
    "                       'color': color_list})\n",
    "    \n",
    "    fig, _ = plt.subplots()\n",
    "    fig.set_size_inches(9, 9)\n",
    "    \n",
    "    # Basic plot\n",
    "    p1 = sns.regplot(data=df,\n",
    "                     x=\"x\",\n",
    "                     y=\"y\",\n",
    "                     fit_reg=False,\n",
    "                     marker=\"o\",\n",
    "                     scatter_kws={'s': 40,\n",
    "                                  'facecolors': df['color']\n",
    "                                 }\n",
    "                    )\n",
    "    \n",
    "    # Adds annotations one by one with a loop\n",
    "    for line in range(0, df.shape[0]):\n",
    "         p1.text(df[\"x\"][line],\n",
    "                 df['y'][line],\n",
    "                 '  ' + df[\"words\"][line].title(),\n",
    "                 horizontalalignment='left',\n",
    "                 verticalalignment='bottom', size='medium',\n",
    "                 color=df['color'][line],\n",
    "                 weight='normal'\n",
    "                ).set_size(15)\n",
    "\n",
    "    \n",
    "    plt.xlim(Y[:, 0].min()-50, Y[:, 0].max()+50)\n",
    "    plt.ylim(Y[:, 1].min()-50, Y[:, 1].max()+50)\n",
    "            \n",
    "    plt.title('t-SNE visualization for {}'.format(word.title()))"
   ]
  },
  {
   "cell_type": "code",
   "execution_count": 72,
   "metadata": {},
   "outputs": [
    {
     "output_type": "display_data",
     "data": {
      "text/plain": "<Figure size 648x648 with 1 Axes>",
      "image/svg+xml": "<?xml version=\"1.0\" encoding=\"utf-8\" standalone=\"no\"?>\r\n<!DOCTYPE svg PUBLIC \"-//W3C//DTD SVG 1.1//EN\"\r\n  \"http://www.w3.org/Graphics/SVG/1.1/DTD/svg11.dtd\">\r\n<!-- Created with matplotlib (https://matplotlib.org/) -->\r\n<svg height=\"552.763594pt\" version=\"1.1\" viewBox=\"0 0 566.863295 552.763594\" width=\"566.863295pt\" xmlns=\"http://www.w3.org/2000/svg\" xmlns:xlink=\"http://www.w3.org/1999/xlink\">\r\n <defs>\r\n  <style type=\"text/css\">\r\n*{stroke-linecap:butt;stroke-linejoin:round;}\r\n  </style>\r\n </defs>\r\n <g id=\"figure_1\">\r\n  <g id=\"patch_1\">\r\n   <path d=\"M 0 552.763594 \r\nL 566.863295 552.763594 \r\nL 566.863295 0 \r\nL 0 0 \r\nz\r\n\" style=\"fill:#ffffff;\"/>\r\n  </g>\r\n  <g id=\"axes_1\">\r\n   <g id=\"patch_2\">\r\n    <path d=\"M 56.450156 511.029375 \r\nL 558.650156 511.029375 \r\nL 558.650156 21.789375 \r\nL 56.450156 21.789375 \r\nz\r\n\" style=\"fill:#eaeaf2;\"/>\r\n   </g>\r\n   <g id=\"matplotlib.axis_1\">\r\n    <g id=\"xtick_1\">\r\n     <g id=\"line2d_1\">\r\n      <path clip-path=\"url(#p58af60d0f7)\" d=\"M 77.504801 511.029375 \r\nL 77.504801 21.789375 \r\n\" style=\"fill:none;stroke:#ffffff;stroke-linecap:round;\"/>\r\n     </g>\r\n     <g id=\"text_1\">\r\n      <!-- −150 -->\r\n      <defs>\r\n       <path d=\"M 52.828125 31.203125 \r\nL 5.5625 31.203125 \r\nL 5.5625 39.40625 \r\nL 52.828125 39.40625 \r\nz\r\n\" id=\"ArialMT-8722\"/>\r\n       <path d=\"M 37.25 0 \r\nL 28.46875 0 \r\nL 28.46875 56 \r\nQ 25.296875 52.984375 20.140625 49.953125 \r\nQ 14.984375 46.921875 10.890625 45.40625 \r\nL 10.890625 53.90625 \r\nQ 18.265625 57.375 23.78125 62.296875 \r\nQ 29.296875 67.234375 31.59375 71.875 \r\nL 37.25 71.875 \r\nz\r\n\" id=\"ArialMT-49\"/>\r\n       <path d=\"M 4.15625 18.75 \r\nL 13.375 19.53125 \r\nQ 14.40625 12.796875 18.140625 9.390625 \r\nQ 21.875 6 27.15625 6 \r\nQ 33.5 6 37.890625 10.78125 \r\nQ 42.28125 15.578125 42.28125 23.484375 \r\nQ 42.28125 31 38.0625 35.34375 \r\nQ 33.84375 39.703125 27 39.703125 \r\nQ 22.75 39.703125 19.328125 37.765625 \r\nQ 15.921875 35.84375 13.96875 32.765625 \r\nL 5.71875 33.84375 \r\nL 12.640625 70.609375 \r\nL 48.25 70.609375 \r\nL 48.25 62.203125 \r\nL 19.671875 62.203125 \r\nL 15.828125 42.96875 \r\nQ 22.265625 47.46875 29.34375 47.46875 \r\nQ 38.71875 47.46875 45.15625 40.96875 \r\nQ 51.609375 34.46875 51.609375 24.265625 \r\nQ 51.609375 14.546875 45.953125 7.46875 \r\nQ 39.0625 -1.21875 27.15625 -1.21875 \r\nQ 17.390625 -1.21875 11.203125 4.25 \r\nQ 5.03125 9.71875 4.15625 18.75 \r\nz\r\n\" id=\"ArialMT-53\"/>\r\n       <path d=\"M 4.15625 35.296875 \r\nQ 4.15625 48 6.765625 55.734375 \r\nQ 9.375 63.484375 14.515625 67.671875 \r\nQ 19.671875 71.875 27.484375 71.875 \r\nQ 33.25 71.875 37.59375 69.546875 \r\nQ 41.9375 67.234375 44.765625 62.859375 \r\nQ 47.609375 58.5 49.21875 52.21875 \r\nQ 50.828125 45.953125 50.828125 35.296875 \r\nQ 50.828125 22.703125 48.234375 14.96875 \r\nQ 45.65625 7.234375 40.5 3 \r\nQ 35.359375 -1.21875 27.484375 -1.21875 \r\nQ 17.140625 -1.21875 11.234375 6.203125 \r\nQ 4.15625 15.140625 4.15625 35.296875 \r\nz\r\nM 13.1875 35.296875 \r\nQ 13.1875 17.671875 17.3125 11.828125 \r\nQ 21.4375 6 27.484375 6 \r\nQ 33.546875 6 37.671875 11.859375 \r\nQ 41.796875 17.71875 41.796875 35.296875 \r\nQ 41.796875 52.984375 37.671875 58.78125 \r\nQ 33.546875 64.59375 27.390625 64.59375 \r\nQ 21.34375 64.59375 17.71875 59.46875 \r\nQ 13.1875 52.9375 13.1875 35.296875 \r\nz\r\n\" id=\"ArialMT-48\"/>\r\n      </defs>\r\n      <g style=\"fill:#262626;\" transform=\"translate(65.116911 528.402969)scale(0.11 -0.11)\">\r\n       <use xlink:href=\"#ArialMT-8722\"/>\r\n       <use x=\"58.398438\" xlink:href=\"#ArialMT-49\"/>\r\n       <use x=\"114.013672\" xlink:href=\"#ArialMT-53\"/>\r\n       <use x=\"169.628906\" xlink:href=\"#ArialMT-48\"/>\r\n      </g>\r\n     </g>\r\n    </g>\r\n    <g id=\"xtick_2\">\r\n     <g id=\"line2d_2\">\r\n      <path clip-path=\"url(#p58af60d0f7)\" d=\"M 145.073794 511.029375 \r\nL 145.073794 21.789375 \r\n\" style=\"fill:none;stroke:#ffffff;stroke-linecap:round;\"/>\r\n     </g>\r\n     <g id=\"text_2\">\r\n      <!-- −100 -->\r\n      <g style=\"fill:#262626;\" transform=\"translate(132.685903 528.402969)scale(0.11 -0.11)\">\r\n       <use xlink:href=\"#ArialMT-8722\"/>\r\n       <use x=\"58.398438\" xlink:href=\"#ArialMT-49\"/>\r\n       <use x=\"114.013672\" xlink:href=\"#ArialMT-48\"/>\r\n       <use x=\"169.628906\" xlink:href=\"#ArialMT-48\"/>\r\n      </g>\r\n     </g>\r\n    </g>\r\n    <g id=\"xtick_3\">\r\n     <g id=\"line2d_3\">\r\n      <path clip-path=\"url(#p58af60d0f7)\" d=\"M 212.642786 511.029375 \r\nL 212.642786 21.789375 \r\n\" style=\"fill:none;stroke:#ffffff;stroke-linecap:round;\"/>\r\n     </g>\r\n     <g id=\"text_3\">\r\n      <!-- −50 -->\r\n      <g style=\"fill:#262626;\" transform=\"translate(203.313411 528.402969)scale(0.11 -0.11)\">\r\n       <use xlink:href=\"#ArialMT-8722\"/>\r\n       <use x=\"58.398438\" xlink:href=\"#ArialMT-53\"/>\r\n       <use x=\"114.013672\" xlink:href=\"#ArialMT-48\"/>\r\n      </g>\r\n     </g>\r\n    </g>\r\n    <g id=\"xtick_4\">\r\n     <g id=\"line2d_4\">\r\n      <path clip-path=\"url(#p58af60d0f7)\" d=\"M 280.211779 511.029375 \r\nL 280.211779 21.789375 \r\n\" style=\"fill:none;stroke:#ffffff;stroke-linecap:round;\"/>\r\n     </g>\r\n     <g id=\"text_4\">\r\n      <!-- 0 -->\r\n      <g style=\"fill:#262626;\" transform=\"translate(277.153263 528.402969)scale(0.11 -0.11)\">\r\n       <use xlink:href=\"#ArialMT-48\"/>\r\n      </g>\r\n     </g>\r\n    </g>\r\n    <g id=\"xtick_5\">\r\n     <g id=\"line2d_5\">\r\n      <path clip-path=\"url(#p58af60d0f7)\" d=\"M 347.780771 511.029375 \r\nL 347.780771 21.789375 \r\n\" style=\"fill:none;stroke:#ffffff;stroke-linecap:round;\"/>\r\n     </g>\r\n     <g id=\"text_5\">\r\n      <!-- 50 -->\r\n      <g style=\"fill:#262626;\" transform=\"translate(341.66374 528.402969)scale(0.11 -0.11)\">\r\n       <use xlink:href=\"#ArialMT-53\"/>\r\n       <use x=\"55.615234\" xlink:href=\"#ArialMT-48\"/>\r\n      </g>\r\n     </g>\r\n    </g>\r\n    <g id=\"xtick_6\">\r\n     <g id=\"line2d_6\">\r\n      <path clip-path=\"url(#p58af60d0f7)\" d=\"M 415.349764 511.029375 \r\nL 415.349764 21.789375 \r\n\" style=\"fill:none;stroke:#ffffff;stroke-linecap:round;\"/>\r\n     </g>\r\n     <g id=\"text_6\">\r\n      <!-- 100 -->\r\n      <g style=\"fill:#262626;\" transform=\"translate(406.174217 528.402969)scale(0.11 -0.11)\">\r\n       <use xlink:href=\"#ArialMT-49\"/>\r\n       <use x=\"55.615234\" xlink:href=\"#ArialMT-48\"/>\r\n       <use x=\"111.230469\" xlink:href=\"#ArialMT-48\"/>\r\n      </g>\r\n     </g>\r\n    </g>\r\n    <g id=\"xtick_7\">\r\n     <g id=\"line2d_7\">\r\n      <path clip-path=\"url(#p58af60d0f7)\" d=\"M 482.918756 511.029375 \r\nL 482.918756 21.789375 \r\n\" style=\"fill:none;stroke:#ffffff;stroke-linecap:round;\"/>\r\n     </g>\r\n     <g id=\"text_7\">\r\n      <!-- 150 -->\r\n      <g style=\"fill:#262626;\" transform=\"translate(473.743209 528.402969)scale(0.11 -0.11)\">\r\n       <use xlink:href=\"#ArialMT-49\"/>\r\n       <use x=\"55.615234\" xlink:href=\"#ArialMT-53\"/>\r\n       <use x=\"111.230469\" xlink:href=\"#ArialMT-48\"/>\r\n      </g>\r\n     </g>\r\n    </g>\r\n    <g id=\"xtick_8\">\r\n     <g id=\"line2d_8\">\r\n      <path clip-path=\"url(#p58af60d0f7)\" d=\"M 550.487749 511.029375 \r\nL 550.487749 21.789375 \r\n\" style=\"fill:none;stroke:#ffffff;stroke-linecap:round;\"/>\r\n     </g>\r\n     <g id=\"text_8\">\r\n      <!-- 200 -->\r\n      <defs>\r\n       <path d=\"M 50.34375 8.453125 \r\nL 50.34375 0 \r\nL 3.03125 0 \r\nQ 2.9375 3.171875 4.046875 6.109375 \r\nQ 5.859375 10.9375 9.828125 15.625 \r\nQ 13.8125 20.3125 21.34375 26.46875 \r\nQ 33.015625 36.03125 37.109375 41.625 \r\nQ 41.21875 47.21875 41.21875 52.203125 \r\nQ 41.21875 57.421875 37.46875 61 \r\nQ 33.734375 64.59375 27.734375 64.59375 \r\nQ 21.390625 64.59375 17.578125 60.78125 \r\nQ 13.765625 56.984375 13.71875 50.25 \r\nL 4.6875 51.171875 \r\nQ 5.609375 61.28125 11.65625 66.578125 \r\nQ 17.71875 71.875 27.9375 71.875 \r\nQ 38.234375 71.875 44.234375 66.15625 \r\nQ 50.25 60.453125 50.25 52 \r\nQ 50.25 47.703125 48.484375 43.546875 \r\nQ 46.734375 39.40625 42.65625 34.8125 \r\nQ 38.578125 30.21875 29.109375 22.21875 \r\nQ 21.1875 15.578125 18.9375 13.203125 \r\nQ 16.703125 10.84375 15.234375 8.453125 \r\nz\r\n\" id=\"ArialMT-50\"/>\r\n      </defs>\r\n      <g style=\"fill:#262626;\" transform=\"translate(541.312202 528.402969)scale(0.11 -0.11)\">\r\n       <use xlink:href=\"#ArialMT-50\"/>\r\n       <use x=\"55.615234\" xlink:href=\"#ArialMT-48\"/>\r\n       <use x=\"111.230469\" xlink:href=\"#ArialMT-48\"/>\r\n      </g>\r\n     </g>\r\n    </g>\r\n    <g id=\"text_9\">\r\n     <!-- x -->\r\n     <defs>\r\n      <path d=\"M 0.734375 0 \r\nL 19.671875 26.953125 \r\nL 2.15625 51.859375 \r\nL 13.140625 51.859375 \r\nL 21.09375 39.703125 \r\nQ 23.34375 36.234375 24.703125 33.890625 \r\nQ 26.859375 37.109375 28.65625 39.59375 \r\nL 37.40625 51.859375 \r\nL 47.90625 51.859375 \r\nL 29.984375 27.4375 \r\nL 49.265625 0 \r\nL 38.484375 0 \r\nL 27.828125 16.109375 \r\nL 25 20.453125 \r\nL 11.375 0 \r\nz\r\n\" id=\"ArialMT-120\"/>\r\n     </defs>\r\n     <g style=\"fill:#262626;\" transform=\"translate(304.550156 543.178594)scale(0.12 -0.12)\">\r\n      <use xlink:href=\"#ArialMT-120\"/>\r\n     </g>\r\n    </g>\r\n   </g>\r\n   <g id=\"matplotlib.axis_2\">\r\n    <g id=\"ytick_1\">\r\n     <g id=\"line2d_9\">\r\n      <path clip-path=\"url(#p58af60d0f7)\" d=\"M 56.450156 457.874887 \r\nL 558.650156 457.874887 \r\n\" style=\"fill:none;stroke:#ffffff;stroke-linecap:round;\"/>\r\n     </g>\r\n     <g id=\"text_10\">\r\n      <!-- −100 -->\r\n      <g style=\"fill:#262626;\" transform=\"translate(22.174375 461.811683)scale(0.11 -0.11)\">\r\n       <use xlink:href=\"#ArialMT-8722\"/>\r\n       <use x=\"58.398438\" xlink:href=\"#ArialMT-49\"/>\r\n       <use x=\"114.013672\" xlink:href=\"#ArialMT-48\"/>\r\n       <use x=\"169.628906\" xlink:href=\"#ArialMT-48\"/>\r\n      </g>\r\n     </g>\r\n    </g>\r\n    <g id=\"ytick_2\">\r\n     <g id=\"line2d_10\">\r\n      <path clip-path=\"url(#p58af60d0f7)\" d=\"M 56.450156 392.515731 \r\nL 558.650156 392.515731 \r\n\" style=\"fill:none;stroke:#ffffff;stroke-linecap:round;\"/>\r\n     </g>\r\n     <g id=\"text_11\">\r\n      <!-- −50 -->\r\n      <g style=\"fill:#262626;\" transform=\"translate(28.291406 396.452527)scale(0.11 -0.11)\">\r\n       <use xlink:href=\"#ArialMT-8722\"/>\r\n       <use x=\"58.398438\" xlink:href=\"#ArialMT-53\"/>\r\n       <use x=\"114.013672\" xlink:href=\"#ArialMT-48\"/>\r\n      </g>\r\n     </g>\r\n    </g>\r\n    <g id=\"ytick_3\">\r\n     <g id=\"line2d_11\">\r\n      <path clip-path=\"url(#p58af60d0f7)\" d=\"M 56.450156 327.156575 \r\nL 558.650156 327.156575 \r\n\" style=\"fill:none;stroke:#ffffff;stroke-linecap:round;\"/>\r\n     </g>\r\n     <g id=\"text_12\">\r\n      <!-- 0 -->\r\n      <g style=\"fill:#262626;\" transform=\"translate(40.833125 331.093372)scale(0.11 -0.11)\">\r\n       <use xlink:href=\"#ArialMT-48\"/>\r\n      </g>\r\n     </g>\r\n    </g>\r\n    <g id=\"ytick_4\">\r\n     <g id=\"line2d_12\">\r\n      <path clip-path=\"url(#p58af60d0f7)\" d=\"M 56.450156 261.797419 \r\nL 558.650156 261.797419 \r\n\" style=\"fill:none;stroke:#ffffff;stroke-linecap:round;\"/>\r\n     </g>\r\n     <g id=\"text_13\">\r\n      <!-- 50 -->\r\n      <g style=\"fill:#262626;\" transform=\"translate(34.716094 265.734216)scale(0.11 -0.11)\">\r\n       <use xlink:href=\"#ArialMT-53\"/>\r\n       <use x=\"55.615234\" xlink:href=\"#ArialMT-48\"/>\r\n      </g>\r\n     </g>\r\n    </g>\r\n    <g id=\"ytick_5\">\r\n     <g id=\"line2d_13\">\r\n      <path clip-path=\"url(#p58af60d0f7)\" d=\"M 56.450156 196.438263 \r\nL 558.650156 196.438263 \r\n\" style=\"fill:none;stroke:#ffffff;stroke-linecap:round;\"/>\r\n     </g>\r\n     <g id=\"text_14\">\r\n      <!-- 100 -->\r\n      <g style=\"fill:#262626;\" transform=\"translate(28.599063 200.37506)scale(0.11 -0.11)\">\r\n       <use xlink:href=\"#ArialMT-49\"/>\r\n       <use x=\"55.615234\" xlink:href=\"#ArialMT-48\"/>\r\n       <use x=\"111.230469\" xlink:href=\"#ArialMT-48\"/>\r\n      </g>\r\n     </g>\r\n    </g>\r\n    <g id=\"ytick_6\">\r\n     <g id=\"line2d_14\">\r\n      <path clip-path=\"url(#p58af60d0f7)\" d=\"M 56.450156 131.079107 \r\nL 558.650156 131.079107 \r\n\" style=\"fill:none;stroke:#ffffff;stroke-linecap:round;\"/>\r\n     </g>\r\n     <g id=\"text_15\">\r\n      <!-- 150 -->\r\n      <g style=\"fill:#262626;\" transform=\"translate(28.599063 135.015904)scale(0.11 -0.11)\">\r\n       <use xlink:href=\"#ArialMT-49\"/>\r\n       <use x=\"55.615234\" xlink:href=\"#ArialMT-53\"/>\r\n       <use x=\"111.230469\" xlink:href=\"#ArialMT-48\"/>\r\n      </g>\r\n     </g>\r\n    </g>\r\n    <g id=\"ytick_7\">\r\n     <g id=\"line2d_15\">\r\n      <path clip-path=\"url(#p58af60d0f7)\" d=\"M 56.450156 65.719951 \r\nL 558.650156 65.719951 \r\n\" style=\"fill:none;stroke:#ffffff;stroke-linecap:round;\"/>\r\n     </g>\r\n     <g id=\"text_16\">\r\n      <!-- 200 -->\r\n      <g style=\"fill:#262626;\" transform=\"translate(28.599063 69.656748)scale(0.11 -0.11)\">\r\n       <use xlink:href=\"#ArialMT-50\"/>\r\n       <use x=\"55.615234\" xlink:href=\"#ArialMT-48\"/>\r\n       <use x=\"111.230469\" xlink:href=\"#ArialMT-48\"/>\r\n      </g>\r\n     </g>\r\n    </g>\r\n    <g id=\"text_17\">\r\n     <!-- y -->\r\n     <defs>\r\n      <path d=\"M 6.203125 -19.96875 \r\nL 5.21875 -11.71875 \r\nQ 8.109375 -12.5 10.25 -12.5 \r\nQ 13.1875 -12.5 14.9375 -11.515625 \r\nQ 16.703125 -10.546875 17.828125 -8.796875 \r\nQ 18.65625 -7.46875 20.515625 -2.25 \r\nQ 20.75 -1.515625 21.296875 -0.09375 \r\nL 1.609375 51.859375 \r\nL 11.078125 51.859375 \r\nL 21.875 21.828125 \r\nQ 23.96875 16.109375 25.640625 9.8125 \r\nQ 27.15625 15.875 29.25 21.625 \r\nL 40.328125 51.859375 \r\nL 49.125 51.859375 \r\nL 29.390625 -0.875 \r\nQ 26.21875 -9.421875 24.46875 -12.640625 \r\nQ 22.125 -17 19.09375 -19.015625 \r\nQ 16.0625 -21.046875 11.859375 -21.046875 \r\nQ 9.328125 -21.046875 6.203125 -19.96875 \r\nz\r\n\" id=\"ArialMT-121\"/>\r\n     </defs>\r\n     <g style=\"fill:#262626;\" transform=\"translate(15.64875 269.409375)rotate(-90)scale(0.12 -0.12)\">\r\n      <use xlink:href=\"#ArialMT-121\"/>\r\n     </g>\r\n    </g>\r\n   </g>\r\n   <g id=\"PathCollection_1\">\r\n    <defs>\r\n     <path d=\"M 0 3.162278 \r\nC 0.838646 3.162278 1.643056 2.82908 2.236068 2.236068 \r\nC 2.82908 1.643056 3.162278 0.838646 3.162278 0 \r\nC 3.162278 -0.838646 2.82908 -1.643056 2.236068 -2.236068 \r\nC 1.643056 -2.82908 0.838646 -3.162278 0 -3.162278 \r\nC -0.838646 -3.162278 -1.643056 -2.82908 -2.236068 -2.236068 \r\nC -2.82908 -1.643056 -3.162278 -0.838646 -3.162278 0 \r\nC -3.162278 0.838646 -2.82908 1.643056 -2.236068 2.236068 \r\nC -1.643056 2.82908 -0.838646 3.162278 0 3.162278 \r\nz\r\n\" id=\"C0_0_22a3904d0b\"/>\r\n    </defs>\r\n    <g clip-path=\"url(#p58af60d0f7)\">\r\n     <use style=\"fill:#ff0000;fill-opacity:0.8;stroke:#4c72b0;stroke-opacity:0.8;\" x=\"241.87292\" xlink:href=\"#C0_0_22a3904d0b\" y=\"228.180966\"/>\r\n    </g>\r\n    <g clip-path=\"url(#p58af60d0f7)\">\r\n     <use style=\"fill:#0000ff;fill-opacity:0.8;stroke:#4c72b0;stroke-opacity:0.8;\" x=\"470.114609\" xlink:href=\"#C0_0_22a3904d0b\" y=\"163.708461\"/>\r\n    </g>\r\n    <g clip-path=\"url(#p58af60d0f7)\">\r\n     <use style=\"fill:#0000ff;fill-opacity:0.8;stroke:#4c72b0;stroke-opacity:0.8;\" x=\"258.977032\" xlink:href=\"#C0_0_22a3904d0b\" y=\"335.652046\"/>\r\n    </g>\r\n    <g clip-path=\"url(#p58af60d0f7)\">\r\n     <use style=\"fill:#0000ff;fill-opacity:0.8;stroke:#4c72b0;stroke-opacity:0.8;\" x=\"233.420602\" xlink:href=\"#C0_0_22a3904d0b\" y=\"106.988031\"/>\r\n    </g>\r\n    <g clip-path=\"url(#p58af60d0f7)\">\r\n     <use style=\"fill:#0000ff;fill-opacity:0.8;stroke:#4c72b0;stroke-opacity:0.8;\" x=\"369.712732\" xlink:href=\"#C0_0_22a3904d0b\" y=\"316.95465\"/>\r\n    </g>\r\n    <g clip-path=\"url(#p58af60d0f7)\">\r\n     <use style=\"fill:#0000ff;fill-opacity:0.8;stroke:#4c72b0;stroke-opacity:0.8;\" x=\"353.189054\" xlink:href=\"#C0_0_22a3904d0b\" y=\"208.706289\"/>\r\n    </g>\r\n    <g clip-path=\"url(#p58af60d0f7)\">\r\n     <use style=\"fill:#0000ff;fill-opacity:0.8;stroke:#4c72b0;stroke-opacity:0.8;\" x=\"124.019149\" xlink:href=\"#C0_0_22a3904d0b\" y=\"185.026001\"/>\r\n    </g>\r\n    <g clip-path=\"url(#p58af60d0f7)\">\r\n     <use style=\"fill:#0000ff;fill-opacity:0.8;stroke:#4c72b0;stroke-opacity:0.8;\" x=\"491.081164\" xlink:href=\"#C0_0_22a3904d0b\" y=\"285.731425\"/>\r\n    </g>\r\n    <g clip-path=\"url(#p58af60d0f7)\">\r\n     <use style=\"fill:#0000ff;fill-opacity:0.8;stroke:#4c72b0;stroke-opacity:0.8;\" x=\"322.516429\" xlink:href=\"#C0_0_22a3904d0b\" y=\"445.670219\"/>\r\n    </g>\r\n    <g clip-path=\"url(#p58af60d0f7)\">\r\n     <use style=\"fill:#0000ff;fill-opacity:0.8;stroke:#4c72b0;stroke-opacity:0.8;\" x=\"449.841169\" xlink:href=\"#C0_0_22a3904d0b\" y=\"411.025588\"/>\r\n    </g>\r\n    <g clip-path=\"url(#p58af60d0f7)\">\r\n     <use style=\"fill:#0000ff;fill-opacity:0.8;stroke:#4c72b0;stroke-opacity:0.8;\" x=\"130.909875\" xlink:href=\"#C0_0_22a3904d0b\" y=\"312.763129\"/>\r\n    </g>\r\n    <g clip-path=\"url(#p58af60d0f7)\">\r\n     <use style=\"fill:#008000;fill-opacity:0.8;stroke:#4c72b0;stroke-opacity:0.8;\" x=\"359.627007\" xlink:href=\"#C0_0_22a3904d0b\" y=\"87.148531\"/>\r\n    </g>\r\n    <g clip-path=\"url(#p58af60d0f7)\">\r\n     <use style=\"fill:#008000;fill-opacity:0.8;stroke:#4c72b0;stroke-opacity:0.8;\" x=\"186.348059\" xlink:href=\"#C0_0_22a3904d0b\" y=\"433.678096\"/>\r\n    </g>\r\n   </g>\r\n   <g id=\"patch_3\">\r\n    <path d=\"M 56.450156 511.029375 \r\nL 56.450156 21.789375 \r\n\" style=\"fill:none;stroke:#ffffff;stroke-linecap:square;stroke-linejoin:miter;stroke-width:1.25;\"/>\r\n   </g>\r\n   <g id=\"patch_4\">\r\n    <path d=\"M 558.650156 511.029375 \r\nL 558.650156 21.789375 \r\n\" style=\"fill:none;stroke:#ffffff;stroke-linecap:square;stroke-linejoin:miter;stroke-width:1.25;\"/>\r\n   </g>\r\n   <g id=\"patch_5\">\r\n    <path d=\"M 56.450156 511.029375 \r\nL 558.650156 511.029375 \r\n\" style=\"fill:none;stroke:#ffffff;stroke-linecap:square;stroke-linejoin:miter;stroke-width:1.25;\"/>\r\n   </g>\r\n   <g id=\"patch_6\">\r\n    <path d=\"M 56.450156 21.789375 \r\nL 558.650156 21.789375 \r\n\" style=\"fill:none;stroke:#ffffff;stroke-linecap:square;stroke-linejoin:miter;stroke-width:1.25;\"/>\r\n   </g>\r\n   <g id=\"text_18\">\r\n    <!--   Covid19 -->\r\n    <defs>\r\n     <path id=\"ArialMT-32\"/>\r\n     <path d=\"M 58.796875 25.09375 \r\nL 68.265625 22.703125 \r\nQ 65.28125 11.03125 57.546875 4.90625 \r\nQ 49.8125 -1.21875 38.625 -1.21875 \r\nQ 27.046875 -1.21875 19.796875 3.484375 \r\nQ 12.546875 8.203125 8.765625 17.140625 \r\nQ 4.984375 26.078125 4.984375 36.328125 \r\nQ 4.984375 47.515625 9.25 55.828125 \r\nQ 13.53125 64.15625 21.40625 68.46875 \r\nQ 29.296875 72.796875 38.765625 72.796875 \r\nQ 49.515625 72.796875 56.828125 67.328125 \r\nQ 64.15625 61.859375 67.046875 51.953125 \r\nL 57.71875 49.75 \r\nQ 55.21875 57.5625 50.484375 61.125 \r\nQ 45.75 64.703125 38.578125 64.703125 \r\nQ 30.328125 64.703125 24.78125 60.734375 \r\nQ 19.234375 56.78125 16.984375 50.109375 \r\nQ 14.75 43.453125 14.75 36.375 \r\nQ 14.75 27.25 17.40625 20.4375 \r\nQ 20.0625 13.625 25.671875 10.25 \r\nQ 31.296875 6.890625 37.84375 6.890625 \r\nQ 45.796875 6.890625 51.3125 11.46875 \r\nQ 56.84375 16.0625 58.796875 25.09375 \r\nz\r\n\" id=\"ArialMT-67\"/>\r\n     <path d=\"M 3.328125 25.921875 \r\nQ 3.328125 40.328125 11.328125 47.265625 \r\nQ 18.015625 53.03125 27.640625 53.03125 \r\nQ 38.328125 53.03125 45.109375 46.015625 \r\nQ 51.90625 39.015625 51.90625 26.65625 \r\nQ 51.90625 16.65625 48.90625 10.90625 \r\nQ 45.90625 5.171875 40.15625 2 \r\nQ 34.421875 -1.171875 27.640625 -1.171875 \r\nQ 16.75 -1.171875 10.03125 5.8125 \r\nQ 3.328125 12.796875 3.328125 25.921875 \r\nz\r\nM 12.359375 25.921875 \r\nQ 12.359375 15.96875 16.703125 11.015625 \r\nQ 21.046875 6.0625 27.640625 6.0625 \r\nQ 34.1875 6.0625 38.53125 11.03125 \r\nQ 42.875 16.015625 42.875 26.21875 \r\nQ 42.875 35.84375 38.5 40.796875 \r\nQ 34.125 45.75 27.640625 45.75 \r\nQ 21.046875 45.75 16.703125 40.8125 \r\nQ 12.359375 35.890625 12.359375 25.921875 \r\nz\r\n\" id=\"ArialMT-111\"/>\r\n     <path d=\"M 21 0 \r\nL 1.265625 51.859375 \r\nL 10.546875 51.859375 \r\nL 21.6875 20.796875 \r\nQ 23.484375 15.765625 25 10.359375 \r\nQ 26.171875 14.453125 28.265625 20.21875 \r\nL 39.796875 51.859375 \r\nL 48.828125 51.859375 \r\nL 29.203125 0 \r\nz\r\n\" id=\"ArialMT-118\"/>\r\n     <path d=\"M 6.640625 61.46875 \r\nL 6.640625 71.578125 \r\nL 15.4375 71.578125 \r\nL 15.4375 61.46875 \r\nz\r\nM 6.640625 0 \r\nL 6.640625 51.859375 \r\nL 15.4375 51.859375 \r\nL 15.4375 0 \r\nz\r\n\" id=\"ArialMT-105\"/>\r\n     <path d=\"M 40.234375 0 \r\nL 40.234375 6.546875 \r\nQ 35.296875 -1.171875 25.734375 -1.171875 \r\nQ 19.53125 -1.171875 14.328125 2.25 \r\nQ 9.125 5.671875 6.265625 11.796875 \r\nQ 3.421875 17.921875 3.421875 25.875 \r\nQ 3.421875 33.640625 6 39.96875 \r\nQ 8.59375 46.296875 13.765625 49.65625 \r\nQ 18.953125 53.03125 25.34375 53.03125 \r\nQ 30.03125 53.03125 33.6875 51.046875 \r\nQ 37.359375 49.078125 39.65625 45.90625 \r\nL 39.65625 71.578125 \r\nL 48.390625 71.578125 \r\nL 48.390625 0 \r\nz\r\nM 12.453125 25.875 \r\nQ 12.453125 15.921875 16.640625 10.984375 \r\nQ 20.84375 6.0625 26.5625 6.0625 \r\nQ 32.328125 6.0625 36.34375 10.765625 \r\nQ 40.375 15.484375 40.375 25.140625 \r\nQ 40.375 35.796875 36.265625 40.765625 \r\nQ 32.171875 45.75 26.171875 45.75 \r\nQ 20.3125 45.75 16.375 40.96875 \r\nQ 12.453125 36.1875 12.453125 25.875 \r\nz\r\n\" id=\"ArialMT-100\"/>\r\n     <path d=\"M 5.46875 16.546875 \r\nL 13.921875 17.328125 \r\nQ 14.984375 11.375 18.015625 8.6875 \r\nQ 21.046875 6 25.78125 6 \r\nQ 29.828125 6 32.875 7.859375 \r\nQ 35.9375 9.71875 37.890625 12.8125 \r\nQ 39.84375 15.921875 41.15625 21.1875 \r\nQ 42.484375 26.46875 42.484375 31.9375 \r\nQ 42.484375 32.515625 42.4375 33.6875 \r\nQ 39.796875 29.5 35.234375 26.875 \r\nQ 30.671875 24.265625 25.34375 24.265625 \r\nQ 16.453125 24.265625 10.296875 30.703125 \r\nQ 4.15625 37.15625 4.15625 47.703125 \r\nQ 4.15625 58.59375 10.578125 65.234375 \r\nQ 17 71.875 26.65625 71.875 \r\nQ 33.640625 71.875 39.421875 68.109375 \r\nQ 45.21875 64.359375 48.21875 57.390625 \r\nQ 51.21875 50.4375 51.21875 37.25 \r\nQ 51.21875 23.53125 48.234375 15.40625 \r\nQ 45.265625 7.28125 39.375 3.03125 \r\nQ 33.5 -1.21875 25.59375 -1.21875 \r\nQ 17.1875 -1.21875 11.859375 3.4375 \r\nQ 6.546875 8.109375 5.46875 16.546875 \r\nz\r\nM 41.453125 48.140625 \r\nQ 41.453125 55.71875 37.421875 60.15625 \r\nQ 33.40625 64.59375 27.734375 64.59375 \r\nQ 21.875 64.59375 17.53125 59.8125 \r\nQ 13.1875 55.03125 13.1875 47.40625 \r\nQ 13.1875 40.578125 17.3125 36.296875 \r\nQ 21.4375 32.03125 27.484375 32.03125 \r\nQ 33.59375 32.03125 37.515625 36.296875 \r\nQ 41.453125 40.578125 41.453125 48.140625 \r\nz\r\n\" id=\"ArialMT-57\"/>\r\n    </defs>\r\n    <g style=\"fill:#ff0000;\" transform=\"translate(241.87292 225.199716)scale(0.15 -0.15)\">\r\n     <use xlink:href=\"#ArialMT-32\"/>\r\n     <use x=\"27.783203\" xlink:href=\"#ArialMT-32\"/>\r\n     <use x=\"55.566406\" xlink:href=\"#ArialMT-67\"/>\r\n     <use x=\"127.783203\" xlink:href=\"#ArialMT-111\"/>\r\n     <use x=\"183.398438\" xlink:href=\"#ArialMT-118\"/>\r\n     <use x=\"233.398438\" xlink:href=\"#ArialMT-105\"/>\r\n     <use x=\"255.615234\" xlink:href=\"#ArialMT-100\"/>\r\n     <use x=\"311.230469\" xlink:href=\"#ArialMT-49\"/>\r\n     <use x=\"366.845703\" xlink:href=\"#ArialMT-57\"/>\r\n    </g>\r\n   </g>\r\n   <g id=\"text_19\">\r\n    <!--   Corona -->\r\n    <defs>\r\n     <path d=\"M 6.5 0 \r\nL 6.5 51.859375 \r\nL 14.40625 51.859375 \r\nL 14.40625 44 \r\nQ 17.4375 49.515625 20 51.265625 \r\nQ 22.5625 53.03125 25.640625 53.03125 \r\nQ 30.078125 53.03125 34.671875 50.203125 \r\nL 31.640625 42.046875 \r\nQ 28.421875 43.953125 25.203125 43.953125 \r\nQ 22.3125 43.953125 20.015625 42.21875 \r\nQ 17.71875 40.484375 16.75 37.40625 \r\nQ 15.28125 32.71875 15.28125 27.15625 \r\nL 15.28125 0 \r\nz\r\n\" id=\"ArialMT-114\"/>\r\n     <path d=\"M 6.59375 0 \r\nL 6.59375 51.859375 \r\nL 14.5 51.859375 \r\nL 14.5 44.484375 \r\nQ 20.21875 53.03125 31 53.03125 \r\nQ 35.6875 53.03125 39.625 51.34375 \r\nQ 43.5625 49.65625 45.515625 46.921875 \r\nQ 47.46875 44.1875 48.25 40.4375 \r\nQ 48.734375 37.984375 48.734375 31.890625 \r\nL 48.734375 0 \r\nL 39.9375 0 \r\nL 39.9375 31.546875 \r\nQ 39.9375 36.921875 38.90625 39.578125 \r\nQ 37.890625 42.234375 35.28125 43.8125 \r\nQ 32.671875 45.40625 29.15625 45.40625 \r\nQ 23.53125 45.40625 19.453125 41.84375 \r\nQ 15.375 38.28125 15.375 28.328125 \r\nL 15.375 0 \r\nz\r\n\" id=\"ArialMT-110\"/>\r\n     <path d=\"M 40.4375 6.390625 \r\nQ 35.546875 2.25 31.03125 0.53125 \r\nQ 26.515625 -1.171875 21.34375 -1.171875 \r\nQ 12.796875 -1.171875 8.203125 3 \r\nQ 3.609375 7.171875 3.609375 13.671875 \r\nQ 3.609375 17.484375 5.34375 20.625 \r\nQ 7.078125 23.78125 9.890625 25.6875 \r\nQ 12.703125 27.59375 16.21875 28.5625 \r\nQ 18.796875 29.25 24.03125 29.890625 \r\nQ 34.671875 31.15625 39.703125 32.90625 \r\nQ 39.75 34.71875 39.75 35.203125 \r\nQ 39.75 40.578125 37.25 42.78125 \r\nQ 33.890625 45.75 27.25 45.75 \r\nQ 21.046875 45.75 18.09375 43.578125 \r\nQ 15.140625 41.40625 13.71875 35.890625 \r\nL 5.125 37.0625 \r\nQ 6.296875 42.578125 8.984375 45.96875 \r\nQ 11.671875 49.359375 16.75 51.1875 \r\nQ 21.828125 53.03125 28.515625 53.03125 \r\nQ 35.15625 53.03125 39.296875 51.46875 \r\nQ 43.453125 49.90625 45.40625 47.53125 \r\nQ 47.359375 45.171875 48.140625 41.546875 \r\nQ 48.578125 39.3125 48.578125 33.453125 \r\nL 48.578125 21.734375 \r\nQ 48.578125 9.46875 49.140625 6.21875 \r\nQ 49.703125 2.984375 51.375 0 \r\nL 42.1875 0 \r\nQ 40.828125 2.734375 40.4375 6.390625 \r\nz\r\nM 39.703125 26.03125 \r\nQ 34.90625 24.078125 25.34375 22.703125 \r\nQ 19.921875 21.921875 17.671875 20.9375 \r\nQ 15.4375 19.96875 14.203125 18.09375 \r\nQ 12.984375 16.21875 12.984375 13.921875 \r\nQ 12.984375 10.40625 15.640625 8.0625 \r\nQ 18.3125 5.71875 23.4375 5.71875 \r\nQ 28.515625 5.71875 32.46875 7.9375 \r\nQ 36.421875 10.15625 38.28125 14.015625 \r\nQ 39.703125 17 39.703125 22.796875 \r\nz\r\n\" id=\"ArialMT-97\"/>\r\n    </defs>\r\n    <g style=\"fill:#0000ff;\" transform=\"translate(470.114609 160.727211)scale(0.15 -0.15)\">\r\n     <use xlink:href=\"#ArialMT-32\"/>\r\n     <use x=\"27.783203\" xlink:href=\"#ArialMT-32\"/>\r\n     <use x=\"55.566406\" xlink:href=\"#ArialMT-67\"/>\r\n     <use x=\"127.783203\" xlink:href=\"#ArialMT-111\"/>\r\n     <use x=\"183.398438\" xlink:href=\"#ArialMT-114\"/>\r\n     <use x=\"216.699219\" xlink:href=\"#ArialMT-111\"/>\r\n     <use x=\"272.314453\" xlink:href=\"#ArialMT-110\"/>\r\n     <use x=\"327.929688\" xlink:href=\"#ArialMT-97\"/>\r\n    </g>\r\n   </g>\r\n   <g id=\"text_20\">\r\n    <!--   Covid -->\r\n    <g style=\"fill:#0000ff;\" transform=\"translate(258.977032 332.670796)scale(0.15 -0.15)\">\r\n     <use xlink:href=\"#ArialMT-32\"/>\r\n     <use x=\"27.783203\" xlink:href=\"#ArialMT-32\"/>\r\n     <use x=\"55.566406\" xlink:href=\"#ArialMT-67\"/>\r\n     <use x=\"127.783203\" xlink:href=\"#ArialMT-111\"/>\r\n     <use x=\"183.398438\" xlink:href=\"#ArialMT-118\"/>\r\n     <use x=\"233.398438\" xlink:href=\"#ArialMT-105\"/>\r\n     <use x=\"255.615234\" xlink:href=\"#ArialMT-100\"/>\r\n    </g>\r\n   </g>\r\n   <g id=\"text_21\">\r\n    <!--   Needing -->\r\n    <defs>\r\n     <path d=\"M 7.625 0 \r\nL 7.625 71.578125 \r\nL 17.328125 71.578125 \r\nL 54.9375 15.375 \r\nL 54.9375 71.578125 \r\nL 64.015625 71.578125 \r\nL 64.015625 0 \r\nL 54.296875 0 \r\nL 16.703125 56.25 \r\nL 16.703125 0 \r\nz\r\n\" id=\"ArialMT-78\"/>\r\n     <path d=\"M 42.09375 16.703125 \r\nL 51.171875 15.578125 \r\nQ 49.03125 7.625 43.21875 3.21875 \r\nQ 37.40625 -1.171875 28.375 -1.171875 \r\nQ 17 -1.171875 10.328125 5.828125 \r\nQ 3.65625 12.84375 3.65625 25.484375 \r\nQ 3.65625 38.578125 10.390625 45.796875 \r\nQ 17.140625 53.03125 27.875 53.03125 \r\nQ 38.28125 53.03125 44.875 45.953125 \r\nQ 51.46875 38.875 51.46875 26.03125 \r\nQ 51.46875 25.25 51.421875 23.6875 \r\nL 12.75 23.6875 \r\nQ 13.234375 15.140625 17.578125 10.59375 \r\nQ 21.921875 6.0625 28.421875 6.0625 \r\nQ 33.25 6.0625 36.671875 8.59375 \r\nQ 40.09375 11.140625 42.09375 16.703125 \r\nz\r\nM 13.234375 30.90625 \r\nL 42.1875 30.90625 \r\nQ 41.609375 37.453125 38.875 40.71875 \r\nQ 34.671875 45.796875 27.984375 45.796875 \r\nQ 21.921875 45.796875 17.796875 41.75 \r\nQ 13.671875 37.703125 13.234375 30.90625 \r\nz\r\n\" id=\"ArialMT-101\"/>\r\n     <path d=\"M 4.984375 -4.296875 \r\nL 13.53125 -5.5625 \r\nQ 14.0625 -9.515625 16.5 -11.328125 \r\nQ 19.78125 -13.765625 25.4375 -13.765625 \r\nQ 31.546875 -13.765625 34.859375 -11.328125 \r\nQ 38.1875 -8.890625 39.359375 -4.5 \r\nQ 40.046875 -1.8125 39.984375 6.78125 \r\nQ 34.234375 0 25.640625 0 \r\nQ 14.9375 0 9.078125 7.71875 \r\nQ 3.21875 15.4375 3.21875 26.21875 \r\nQ 3.21875 33.640625 5.90625 39.90625 \r\nQ 8.59375 46.1875 13.6875 49.609375 \r\nQ 18.796875 53.03125 25.6875 53.03125 \r\nQ 34.859375 53.03125 40.828125 45.609375 \r\nL 40.828125 51.859375 \r\nL 48.921875 51.859375 \r\nL 48.921875 7.03125 \r\nQ 48.921875 -5.078125 46.453125 -10.125 \r\nQ 44 -15.1875 38.640625 -18.109375 \r\nQ 33.296875 -21.046875 25.484375 -21.046875 \r\nQ 16.21875 -21.046875 10.5 -16.875 \r\nQ 4.78125 -12.703125 4.984375 -4.296875 \r\nz\r\nM 12.25 26.859375 \r\nQ 12.25 16.65625 16.296875 11.96875 \r\nQ 20.359375 7.28125 26.46875 7.28125 \r\nQ 32.515625 7.28125 36.609375 11.9375 \r\nQ 40.71875 16.609375 40.71875 26.5625 \r\nQ 40.71875 36.078125 36.5 40.90625 \r\nQ 32.28125 45.75 26.3125 45.75 \r\nQ 20.453125 45.75 16.34375 40.984375 \r\nQ 12.25 36.234375 12.25 26.859375 \r\nz\r\n\" id=\"ArialMT-103\"/>\r\n    </defs>\r\n    <g style=\"fill:#0000ff;\" transform=\"translate(233.420602 103.830999)scale(0.15 -0.15)\">\r\n     <use xlink:href=\"#ArialMT-32\"/>\r\n     <use x=\"27.783203\" xlink:href=\"#ArialMT-32\"/>\r\n     <use x=\"55.566406\" xlink:href=\"#ArialMT-78\"/>\r\n     <use x=\"127.783203\" xlink:href=\"#ArialMT-101\"/>\r\n     <use x=\"183.398438\" xlink:href=\"#ArialMT-101\"/>\r\n     <use x=\"239.013672\" xlink:href=\"#ArialMT-100\"/>\r\n     <use x=\"294.628906\" xlink:href=\"#ArialMT-105\"/>\r\n     <use x=\"316.845703\" xlink:href=\"#ArialMT-110\"/>\r\n     <use x=\"372.460938\" xlink:href=\"#ArialMT-103\"/>\r\n    </g>\r\n   </g>\r\n   <g id=\"text_22\">\r\n    <!--   Virus -->\r\n    <defs>\r\n     <path d=\"M 28.171875 0 \r\nL 0.4375 71.578125 \r\nL 10.6875 71.578125 \r\nL 29.296875 19.578125 \r\nQ 31.546875 13.328125 33.0625 7.859375 \r\nQ 34.71875 13.71875 36.921875 19.578125 \r\nL 56.25 71.578125 \r\nL 65.921875 71.578125 \r\nL 37.890625 0 \r\nz\r\n\" id=\"ArialMT-86\"/>\r\n     <path d=\"M 40.578125 0 \r\nL 40.578125 7.625 \r\nQ 34.515625 -1.171875 24.125 -1.171875 \r\nQ 19.53125 -1.171875 15.546875 0.578125 \r\nQ 11.578125 2.34375 9.640625 5 \r\nQ 7.71875 7.671875 6.9375 11.53125 \r\nQ 6.390625 14.109375 6.390625 19.734375 \r\nL 6.390625 51.859375 \r\nL 15.1875 51.859375 \r\nL 15.1875 23.09375 \r\nQ 15.1875 16.21875 15.71875 13.8125 \r\nQ 16.546875 10.359375 19.234375 8.375 \r\nQ 21.921875 6.390625 25.875 6.390625 \r\nQ 29.828125 6.390625 33.296875 8.421875 \r\nQ 36.765625 10.453125 38.203125 13.9375 \r\nQ 39.65625 17.4375 39.65625 24.078125 \r\nL 39.65625 51.859375 \r\nL 48.4375 51.859375 \r\nL 48.4375 0 \r\nz\r\n\" id=\"ArialMT-117\"/>\r\n     <path d=\"M 3.078125 15.484375 \r\nL 11.765625 16.84375 \r\nQ 12.5 11.625 15.84375 8.84375 \r\nQ 19.1875 6.0625 25.203125 6.0625 \r\nQ 31.25 6.0625 34.171875 8.515625 \r\nQ 37.109375 10.984375 37.109375 14.3125 \r\nQ 37.109375 17.28125 34.515625 19 \r\nQ 32.71875 20.171875 25.53125 21.96875 \r\nQ 15.875 24.421875 12.140625 26.203125 \r\nQ 8.40625 27.984375 6.46875 31.125 \r\nQ 4.546875 34.28125 4.546875 38.09375 \r\nQ 4.546875 41.546875 6.125 44.5 \r\nQ 7.71875 47.46875 10.453125 49.421875 \r\nQ 12.5 50.921875 16.03125 51.96875 \r\nQ 19.578125 53.03125 23.640625 53.03125 \r\nQ 29.734375 53.03125 34.34375 51.265625 \r\nQ 38.96875 49.515625 41.15625 46.5 \r\nQ 43.359375 43.5 44.1875 38.484375 \r\nL 35.59375 37.3125 \r\nQ 35.015625 41.3125 32.203125 43.546875 \r\nQ 29.390625 45.796875 24.265625 45.796875 \r\nQ 18.21875 45.796875 15.625 43.796875 \r\nQ 13.03125 41.796875 13.03125 39.109375 \r\nQ 13.03125 37.40625 14.109375 36.03125 \r\nQ 15.1875 34.625 17.484375 33.6875 \r\nQ 18.796875 33.203125 25.25 31.453125 \r\nQ 34.578125 28.953125 38.25 27.359375 \r\nQ 41.9375 25.78125 44.03125 22.75 \r\nQ 46.140625 19.734375 46.140625 15.234375 \r\nQ 46.140625 10.84375 43.578125 6.953125 \r\nQ 41.015625 3.078125 36.171875 0.953125 \r\nQ 31.34375 -1.171875 25.25 -1.171875 \r\nQ 15.140625 -1.171875 9.84375 3.03125 \r\nQ 4.546875 7.234375 3.078125 15.484375 \r\nz\r\n\" id=\"ArialMT-115\"/>\r\n    </defs>\r\n    <g style=\"fill:#0000ff;\" transform=\"translate(369.712732 313.9734)scale(0.15 -0.15)\">\r\n     <use xlink:href=\"#ArialMT-32\"/>\r\n     <use x=\"27.783203\" xlink:href=\"#ArialMT-32\"/>\r\n     <use x=\"55.566406\" xlink:href=\"#ArialMT-86\"/>\r\n     <use x=\"122.25\" xlink:href=\"#ArialMT-105\"/>\r\n     <use x=\"144.466797\" xlink:href=\"#ArialMT-114\"/>\r\n     <use x=\"177.767578\" xlink:href=\"#ArialMT-117\"/>\r\n     <use x=\"233.382812\" xlink:href=\"#ArialMT-115\"/>\r\n    </g>\r\n   </g>\r\n   <g id=\"text_23\">\r\n    <!--   Especially -->\r\n    <defs>\r\n     <path d=\"M 7.90625 0 \r\nL 7.90625 71.578125 \r\nL 59.671875 71.578125 \r\nL 59.671875 63.140625 \r\nL 17.390625 63.140625 \r\nL 17.390625 41.21875 \r\nL 56.984375 41.21875 \r\nL 56.984375 32.8125 \r\nL 17.390625 32.8125 \r\nL 17.390625 8.453125 \r\nL 61.328125 8.453125 \r\nL 61.328125 0 \r\nz\r\n\" id=\"ArialMT-69\"/>\r\n     <path d=\"M 6.59375 -19.875 \r\nL 6.59375 51.859375 \r\nL 14.59375 51.859375 \r\nL 14.59375 45.125 \r\nQ 17.4375 49.078125 21 51.046875 \r\nQ 24.5625 53.03125 29.640625 53.03125 \r\nQ 36.28125 53.03125 41.359375 49.609375 \r\nQ 46.4375 46.1875 49.015625 39.953125 \r\nQ 51.609375 33.734375 51.609375 26.3125 \r\nQ 51.609375 18.359375 48.75 11.984375 \r\nQ 45.90625 5.609375 40.453125 2.21875 \r\nQ 35.015625 -1.171875 29 -1.171875 \r\nQ 24.609375 -1.171875 21.109375 0.6875 \r\nQ 17.625 2.546875 15.375 5.375 \r\nL 15.375 -19.875 \r\nz\r\nM 14.546875 25.640625 \r\nQ 14.546875 15.625 18.59375 10.84375 \r\nQ 22.65625 6.0625 28.421875 6.0625 \r\nQ 34.28125 6.0625 38.453125 11.015625 \r\nQ 42.625 15.96875 42.625 26.375 \r\nQ 42.625 36.28125 38.546875 41.203125 \r\nQ 34.46875 46.140625 28.8125 46.140625 \r\nQ 23.1875 46.140625 18.859375 40.890625 \r\nQ 14.546875 35.640625 14.546875 25.640625 \r\nz\r\n\" id=\"ArialMT-112\"/>\r\n     <path d=\"M 40.4375 19 \r\nL 49.078125 17.875 \r\nQ 47.65625 8.9375 41.8125 3.875 \r\nQ 35.984375 -1.171875 27.484375 -1.171875 \r\nQ 16.84375 -1.171875 10.375 5.78125 \r\nQ 3.90625 12.75 3.90625 25.734375 \r\nQ 3.90625 34.125 6.6875 40.421875 \r\nQ 9.46875 46.734375 15.15625 49.875 \r\nQ 20.84375 53.03125 27.546875 53.03125 \r\nQ 35.984375 53.03125 41.359375 48.75 \r\nQ 46.734375 44.484375 48.25 36.625 \r\nL 39.703125 35.296875 \r\nQ 38.484375 40.53125 35.375 43.15625 \r\nQ 32.28125 45.796875 27.875 45.796875 \r\nQ 21.234375 45.796875 17.078125 41.03125 \r\nQ 12.9375 36.28125 12.9375 25.984375 \r\nQ 12.9375 15.53125 16.9375 10.796875 \r\nQ 20.953125 6.0625 27.390625 6.0625 \r\nQ 32.5625 6.0625 36.03125 9.234375 \r\nQ 39.5 12.40625 40.4375 19 \r\nz\r\n\" id=\"ArialMT-99\"/>\r\n     <path d=\"M 6.390625 0 \r\nL 6.390625 71.578125 \r\nL 15.1875 71.578125 \r\nL 15.1875 0 \r\nz\r\n\" id=\"ArialMT-108\"/>\r\n    </defs>\r\n    <g style=\"fill:#0000ff;\" transform=\"translate(353.189054 205.549258)scale(0.15 -0.15)\">\r\n     <use xlink:href=\"#ArialMT-32\"/>\r\n     <use x=\"27.783203\" xlink:href=\"#ArialMT-32\"/>\r\n     <use x=\"55.566406\" xlink:href=\"#ArialMT-69\"/>\r\n     <use x=\"122.265625\" xlink:href=\"#ArialMT-115\"/>\r\n     <use x=\"172.265625\" xlink:href=\"#ArialMT-112\"/>\r\n     <use x=\"227.880859\" xlink:href=\"#ArialMT-101\"/>\r\n     <use x=\"283.496094\" xlink:href=\"#ArialMT-99\"/>\r\n     <use x=\"333.496094\" xlink:href=\"#ArialMT-105\"/>\r\n     <use x=\"355.712891\" xlink:href=\"#ArialMT-97\"/>\r\n     <use x=\"411.328125\" xlink:href=\"#ArialMT-108\"/>\r\n     <use x=\"433.544922\" xlink:href=\"#ArialMT-108\"/>\r\n     <use x=\"455.761719\" xlink:href=\"#ArialMT-121\"/>\r\n    </g>\r\n   </g>\r\n   <g id=\"text_24\">\r\n    <!--   Vastly -->\r\n    <defs>\r\n     <path d=\"M 25.78125 7.859375 \r\nL 27.046875 0.09375 \r\nQ 23.34375 -0.6875 20.40625 -0.6875 \r\nQ 15.625 -0.6875 12.984375 0.828125 \r\nQ 10.359375 2.34375 9.28125 4.8125 \r\nQ 8.203125 7.28125 8.203125 15.1875 \r\nL 8.203125 45.015625 \r\nL 1.765625 45.015625 \r\nL 1.765625 51.859375 \r\nL 8.203125 51.859375 \r\nL 8.203125 64.703125 \r\nL 16.9375 69.96875 \r\nL 16.9375 51.859375 \r\nL 25.78125 51.859375 \r\nL 25.78125 45.015625 \r\nL 16.9375 45.015625 \r\nL 16.9375 14.703125 \r\nQ 16.9375 10.9375 17.40625 9.859375 \r\nQ 17.875 8.796875 18.921875 8.15625 \r\nQ 19.96875 7.515625 21.921875 7.515625 \r\nQ 23.390625 7.515625 25.78125 7.859375 \r\nz\r\n\" id=\"ArialMT-116\"/>\r\n    </defs>\r\n    <g style=\"fill:#0000ff;\" transform=\"translate(124.019149 181.86897)scale(0.15 -0.15)\">\r\n     <use xlink:href=\"#ArialMT-32\"/>\r\n     <use x=\"27.783203\" xlink:href=\"#ArialMT-32\"/>\r\n     <use x=\"55.566406\" xlink:href=\"#ArialMT-86\"/>\r\n     <use x=\"122.15625\" xlink:href=\"#ArialMT-97\"/>\r\n     <use x=\"177.771484\" xlink:href=\"#ArialMT-115\"/>\r\n     <use x=\"227.771484\" xlink:href=\"#ArialMT-116\"/>\r\n     <use x=\"255.554688\" xlink:href=\"#ArialMT-108\"/>\r\n     <use x=\"277.771484\" xlink:href=\"#ArialMT-121\"/>\r\n    </g>\r\n   </g>\r\n   <g id=\"text_25\">\r\n    <!--   Texan -->\r\n    <defs>\r\n     <path d=\"M 25.921875 0 \r\nL 25.921875 63.140625 \r\nL 2.34375 63.140625 \r\nL 2.34375 71.578125 \r\nL 59.078125 71.578125 \r\nL 59.078125 63.140625 \r\nL 35.40625 63.140625 \r\nL 35.40625 0 \r\nz\r\n\" id=\"ArialMT-84\"/>\r\n    </defs>\r\n    <g style=\"fill:#0000ff;\" transform=\"translate(491.081164 282.750175)scale(0.15 -0.15)\">\r\n     <use xlink:href=\"#ArialMT-32\"/>\r\n     <use x=\"27.783203\" xlink:href=\"#ArialMT-32\"/>\r\n     <use x=\"55.550781\" xlink:href=\"#ArialMT-84\"/>\r\n     <use x=\"116.462891\" xlink:href=\"#ArialMT-101\"/>\r\n     <use x=\"172.078125\" xlink:href=\"#ArialMT-120\"/>\r\n     <use x=\"222.078125\" xlink:href=\"#ArialMT-97\"/>\r\n     <use x=\"277.693359\" xlink:href=\"#ArialMT-110\"/>\r\n    </g>\r\n   </g>\r\n   <g id=\"text_26\">\r\n    <!--   Climbing -->\r\n    <defs>\r\n     <path d=\"M 6.59375 0 \r\nL 6.59375 51.859375 \r\nL 14.453125 51.859375 \r\nL 14.453125 44.578125 \r\nQ 16.890625 48.390625 20.9375 50.703125 \r\nQ 25 53.03125 30.171875 53.03125 \r\nQ 35.9375 53.03125 39.625 50.640625 \r\nQ 43.3125 48.25 44.828125 43.953125 \r\nQ 50.984375 53.03125 60.84375 53.03125 \r\nQ 68.5625 53.03125 72.703125 48.75 \r\nQ 76.859375 44.484375 76.859375 35.59375 \r\nL 76.859375 0 \r\nL 68.109375 0 \r\nL 68.109375 32.671875 \r\nQ 68.109375 37.9375 67.25 40.25 \r\nQ 66.40625 42.578125 64.15625 43.984375 \r\nQ 61.921875 45.40625 58.890625 45.40625 \r\nQ 53.421875 45.40625 49.796875 41.765625 \r\nQ 46.1875 38.140625 46.1875 30.125 \r\nL 46.1875 0 \r\nL 37.40625 0 \r\nL 37.40625 33.6875 \r\nQ 37.40625 39.546875 35.25 42.46875 \r\nQ 33.109375 45.40625 28.21875 45.40625 \r\nQ 24.515625 45.40625 21.359375 43.453125 \r\nQ 18.21875 41.5 16.796875 37.734375 \r\nQ 15.375 33.984375 15.375 26.90625 \r\nL 15.375 0 \r\nz\r\n\" id=\"ArialMT-109\"/>\r\n     <path d=\"M 14.703125 0 \r\nL 6.546875 0 \r\nL 6.546875 71.578125 \r\nL 15.328125 71.578125 \r\nL 15.328125 46.046875 \r\nQ 20.90625 53.03125 29.546875 53.03125 \r\nQ 34.328125 53.03125 38.59375 51.09375 \r\nQ 42.875 49.171875 45.625 45.671875 \r\nQ 48.390625 42.1875 49.953125 37.25 \r\nQ 51.515625 32.328125 51.515625 26.703125 \r\nQ 51.515625 13.375 44.921875 6.09375 \r\nQ 38.328125 -1.171875 29.109375 -1.171875 \r\nQ 19.921875 -1.171875 14.703125 6.5 \r\nz\r\nM 14.59375 26.3125 \r\nQ 14.59375 17 17.140625 12.84375 \r\nQ 21.296875 6.0625 28.375 6.0625 \r\nQ 34.125 6.0625 38.328125 11.0625 \r\nQ 42.53125 16.0625 42.53125 25.984375 \r\nQ 42.53125 36.140625 38.5 40.96875 \r\nQ 34.46875 45.796875 28.765625 45.796875 \r\nQ 23 45.796875 18.796875 40.796875 \r\nQ 14.59375 35.796875 14.59375 26.3125 \r\nz\r\n\" id=\"ArialMT-98\"/>\r\n    </defs>\r\n    <g style=\"fill:#0000ff;\" transform=\"translate(322.516429 442.513188)scale(0.15 -0.15)\">\r\n     <use xlink:href=\"#ArialMT-32\"/>\r\n     <use x=\"27.783203\" xlink:href=\"#ArialMT-32\"/>\r\n     <use x=\"55.566406\" xlink:href=\"#ArialMT-67\"/>\r\n     <use x=\"127.783203\" xlink:href=\"#ArialMT-108\"/>\r\n     <use x=\"150\" xlink:href=\"#ArialMT-105\"/>\r\n     <use x=\"172.216797\" xlink:href=\"#ArialMT-109\"/>\r\n     <use x=\"255.517578\" xlink:href=\"#ArialMT-98\"/>\r\n     <use x=\"311.132812\" xlink:href=\"#ArialMT-105\"/>\r\n     <use x=\"333.349609\" xlink:href=\"#ArialMT-110\"/>\r\n     <use x=\"388.964844\" xlink:href=\"#ArialMT-103\"/>\r\n    </g>\r\n   </g>\r\n   <g id=\"text_27\">\r\n    <!--   Fyi -->\r\n    <defs>\r\n     <path d=\"M 8.203125 0 \r\nL 8.203125 71.578125 \r\nL 56.5 71.578125 \r\nL 56.5 63.140625 \r\nL 17.671875 63.140625 \r\nL 17.671875 40.96875 \r\nL 51.265625 40.96875 \r\nL 51.265625 32.515625 \r\nL 17.671875 32.515625 \r\nL 17.671875 0 \r\nz\r\n\" id=\"ArialMT-70\"/>\r\n    </defs>\r\n    <g style=\"fill:#0000ff;\" transform=\"translate(449.841169 407.868557)scale(0.15 -0.15)\">\r\n     <use xlink:href=\"#ArialMT-32\"/>\r\n     <use x=\"27.783203\" xlink:href=\"#ArialMT-32\"/>\r\n     <use x=\"55.566406\" xlink:href=\"#ArialMT-70\"/>\r\n     <use x=\"116.650391\" xlink:href=\"#ArialMT-121\"/>\r\n     <use x=\"166.650391\" xlink:href=\"#ArialMT-105\"/>\r\n    </g>\r\n   </g>\r\n   <g id=\"text_28\">\r\n    <!--   Regular -->\r\n    <defs>\r\n     <path d=\"M 7.859375 0 \r\nL 7.859375 71.578125 \r\nL 39.59375 71.578125 \r\nQ 49.171875 71.578125 54.140625 69.640625 \r\nQ 59.125 67.71875 62.109375 62.828125 \r\nQ 65.09375 57.953125 65.09375 52.046875 \r\nQ 65.09375 44.4375 60.15625 39.203125 \r\nQ 55.21875 33.984375 44.921875 32.5625 \r\nQ 48.6875 30.765625 50.640625 29 \r\nQ 54.78125 25.203125 58.5 19.484375 \r\nL 70.953125 0 \r\nL 59.03125 0 \r\nL 49.5625 14.890625 \r\nQ 45.40625 21.34375 42.71875 24.75 \r\nQ 40.046875 28.171875 37.921875 29.53125 \r\nQ 35.796875 30.90625 33.59375 31.453125 \r\nQ 31.984375 31.78125 28.328125 31.78125 \r\nL 17.328125 31.78125 \r\nL 17.328125 0 \r\nz\r\nM 17.328125 39.984375 \r\nL 37.703125 39.984375 \r\nQ 44.1875 39.984375 47.84375 41.328125 \r\nQ 51.515625 42.671875 53.421875 45.625 \r\nQ 55.328125 48.578125 55.328125 52.046875 \r\nQ 55.328125 57.125 51.640625 60.390625 \r\nQ 47.953125 63.671875 39.984375 63.671875 \r\nL 17.328125 63.671875 \r\nz\r\n\" id=\"ArialMT-82\"/>\r\n    </defs>\r\n    <g style=\"fill:#0000ff;\" transform=\"translate(130.909875 309.606098)scale(0.15 -0.15)\">\r\n     <use xlink:href=\"#ArialMT-32\"/>\r\n     <use x=\"27.783203\" xlink:href=\"#ArialMT-32\"/>\r\n     <use x=\"55.566406\" xlink:href=\"#ArialMT-82\"/>\r\n     <use x=\"127.783203\" xlink:href=\"#ArialMT-101\"/>\r\n     <use x=\"183.398438\" xlink:href=\"#ArialMT-103\"/>\r\n     <use x=\"239.013672\" xlink:href=\"#ArialMT-117\"/>\r\n     <use x=\"294.628906\" xlink:href=\"#ArialMT-108\"/>\r\n     <use x=\"316.845703\" xlink:href=\"#ArialMT-97\"/>\r\n     <use x=\"372.460938\" xlink:href=\"#ArialMT-114\"/>\r\n    </g>\r\n   </g>\r\n   <g id=\"text_29\">\r\n    <!--   Corona -->\r\n    <g style=\"fill:#008000;\" transform=\"translate(359.627007 84.167281)scale(0.15 -0.15)\">\r\n     <use xlink:href=\"#ArialMT-32\"/>\r\n     <use x=\"27.783203\" xlink:href=\"#ArialMT-32\"/>\r\n     <use x=\"55.566406\" xlink:href=\"#ArialMT-67\"/>\r\n     <use x=\"127.783203\" xlink:href=\"#ArialMT-111\"/>\r\n     <use x=\"183.398438\" xlink:href=\"#ArialMT-114\"/>\r\n     <use x=\"216.699219\" xlink:href=\"#ArialMT-111\"/>\r\n     <use x=\"272.314453\" xlink:href=\"#ArialMT-110\"/>\r\n     <use x=\"327.929688\" xlink:href=\"#ArialMT-97\"/>\r\n    </g>\r\n   </g>\r\n   <g id=\"text_30\">\r\n    <!--   Mad -->\r\n    <defs>\r\n     <path d=\"M 7.421875 0 \r\nL 7.421875 71.578125 \r\nL 21.6875 71.578125 \r\nL 38.625 20.90625 \r\nQ 40.96875 13.8125 42.046875 10.296875 \r\nQ 43.265625 14.203125 45.84375 21.78125 \r\nL 62.984375 71.578125 \r\nL 75.734375 71.578125 \r\nL 75.734375 0 \r\nL 66.609375 0 \r\nL 66.609375 59.90625 \r\nL 45.796875 0 \r\nL 37.25 0 \r\nL 16.546875 60.9375 \r\nL 16.546875 0 \r\nz\r\n\" id=\"ArialMT-77\"/>\r\n    </defs>\r\n    <g style=\"fill:#008000;\" transform=\"translate(186.348059 430.696846)scale(0.15 -0.15)\">\r\n     <use xlink:href=\"#ArialMT-32\"/>\r\n     <use x=\"27.783203\" xlink:href=\"#ArialMT-32\"/>\r\n     <use x=\"55.566406\" xlink:href=\"#ArialMT-77\"/>\r\n     <use x=\"138.867188\" xlink:href=\"#ArialMT-97\"/>\r\n     <use x=\"194.482422\" xlink:href=\"#ArialMT-100\"/>\r\n    </g>\r\n   </g>\r\n   <g id=\"text_31\">\r\n    <!-- t-SNE visualization for Covid19 -->\r\n    <defs>\r\n     <path d=\"M 3.171875 21.484375 \r\nL 3.171875 30.328125 \r\nL 30.171875 30.328125 \r\nL 30.171875 21.484375 \r\nz\r\n\" id=\"ArialMT-45\"/>\r\n     <path d=\"M 4.5 23 \r\nL 13.421875 23.78125 \r\nQ 14.0625 18.40625 16.375 14.96875 \r\nQ 18.703125 11.53125 23.578125 9.40625 \r\nQ 28.46875 7.28125 34.578125 7.28125 \r\nQ 39.984375 7.28125 44.140625 8.890625 \r\nQ 48.296875 10.5 50.3125 13.296875 \r\nQ 52.34375 16.109375 52.34375 19.4375 \r\nQ 52.34375 22.796875 50.390625 25.3125 \r\nQ 48.4375 27.828125 43.953125 29.546875 \r\nQ 41.0625 30.671875 31.203125 33.03125 \r\nQ 21.34375 35.40625 17.390625 37.5 \r\nQ 12.25 40.1875 9.734375 44.15625 \r\nQ 7.234375 48.140625 7.234375 53.078125 \r\nQ 7.234375 58.5 10.296875 63.203125 \r\nQ 13.375 67.921875 19.28125 70.359375 \r\nQ 25.203125 72.796875 32.421875 72.796875 \r\nQ 40.375 72.796875 46.453125 70.234375 \r\nQ 52.546875 67.671875 55.8125 62.6875 \r\nQ 59.078125 57.71875 59.328125 51.421875 \r\nL 50.25 50.734375 \r\nQ 49.515625 57.515625 45.28125 60.984375 \r\nQ 41.0625 64.453125 32.8125 64.453125 \r\nQ 24.21875 64.453125 20.28125 61.296875 \r\nQ 16.359375 58.15625 16.359375 53.71875 \r\nQ 16.359375 49.859375 19.140625 47.359375 \r\nQ 21.875 44.875 33.421875 42.265625 \r\nQ 44.96875 39.65625 49.265625 37.703125 \r\nQ 55.515625 34.8125 58.484375 30.390625 \r\nQ 61.46875 25.984375 61.46875 20.21875 \r\nQ 61.46875 14.5 58.203125 9.4375 \r\nQ 54.9375 4.390625 48.796875 1.578125 \r\nQ 42.671875 -1.21875 35.015625 -1.21875 \r\nQ 25.296875 -1.21875 18.71875 1.609375 \r\nQ 12.15625 4.4375 8.421875 10.125 \r\nQ 4.6875 15.828125 4.5 23 \r\nz\r\n\" id=\"ArialMT-83\"/>\r\n     <path d=\"M 1.953125 0 \r\nL 1.953125 7.125 \r\nL 34.96875 45.015625 \r\nQ 29.34375 44.734375 25.046875 44.734375 \r\nL 3.90625 44.734375 \r\nL 3.90625 51.859375 \r\nL 46.296875 51.859375 \r\nL 46.296875 46.046875 \r\nL 18.21875 13.140625 \r\nL 12.796875 7.125 \r\nQ 18.703125 7.5625 23.875 7.5625 \r\nL 47.859375 7.5625 \r\nL 47.859375 0 \r\nz\r\n\" id=\"ArialMT-122\"/>\r\n     <path d=\"M 8.6875 0 \r\nL 8.6875 45.015625 \r\nL 0.921875 45.015625 \r\nL 0.921875 51.859375 \r\nL 8.6875 51.859375 \r\nL 8.6875 57.375 \r\nQ 8.6875 62.59375 9.625 65.140625 \r\nQ 10.890625 68.5625 14.078125 70.671875 \r\nQ 17.28125 72.796875 23.046875 72.796875 \r\nQ 26.765625 72.796875 31.25 71.921875 \r\nL 29.9375 64.265625 \r\nQ 27.203125 64.75 24.75 64.75 \r\nQ 20.75 64.75 19.09375 63.03125 \r\nQ 17.4375 61.328125 17.4375 56.640625 \r\nL 17.4375 51.859375 \r\nL 27.546875 51.859375 \r\nL 27.546875 45.015625 \r\nL 17.4375 45.015625 \r\nL 17.4375 0 \r\nz\r\n\" id=\"ArialMT-102\"/>\r\n    </defs>\r\n    <g style=\"fill:#262626;\" transform=\"translate(224.851406 15.789375)scale(0.12 -0.12)\">\r\n     <use xlink:href=\"#ArialMT-116\"/>\r\n     <use x=\"27.783203\" xlink:href=\"#ArialMT-45\"/>\r\n     <use x=\"61.083984\" xlink:href=\"#ArialMT-83\"/>\r\n     <use x=\"127.783203\" xlink:href=\"#ArialMT-78\"/>\r\n     <use x=\"200\" xlink:href=\"#ArialMT-69\"/>\r\n     <use x=\"266.699219\" xlink:href=\"#ArialMT-32\"/>\r\n     <use x=\"294.482422\" xlink:href=\"#ArialMT-118\"/>\r\n     <use x=\"344.482422\" xlink:href=\"#ArialMT-105\"/>\r\n     <use x=\"366.699219\" xlink:href=\"#ArialMT-115\"/>\r\n     <use x=\"416.699219\" xlink:href=\"#ArialMT-117\"/>\r\n     <use x=\"472.314453\" xlink:href=\"#ArialMT-97\"/>\r\n     <use x=\"527.929688\" xlink:href=\"#ArialMT-108\"/>\r\n     <use x=\"550.146484\" xlink:href=\"#ArialMT-105\"/>\r\n     <use x=\"572.363281\" xlink:href=\"#ArialMT-122\"/>\r\n     <use x=\"622.363281\" xlink:href=\"#ArialMT-97\"/>\r\n     <use x=\"677.978516\" xlink:href=\"#ArialMT-116\"/>\r\n     <use x=\"705.761719\" xlink:href=\"#ArialMT-105\"/>\r\n     <use x=\"727.978516\" xlink:href=\"#ArialMT-111\"/>\r\n     <use x=\"783.59375\" xlink:href=\"#ArialMT-110\"/>\r\n     <use x=\"839.208984\" xlink:href=\"#ArialMT-32\"/>\r\n     <use x=\"866.992188\" xlink:href=\"#ArialMT-102\"/>\r\n     <use x=\"894.775391\" xlink:href=\"#ArialMT-111\"/>\r\n     <use x=\"950.390625\" xlink:href=\"#ArialMT-114\"/>\r\n     <use x=\"983.691406\" xlink:href=\"#ArialMT-32\"/>\r\n     <use x=\"1011.474609\" xlink:href=\"#ArialMT-67\"/>\r\n     <use x=\"1083.691406\" xlink:href=\"#ArialMT-111\"/>\r\n     <use x=\"1139.306641\" xlink:href=\"#ArialMT-118\"/>\r\n     <use x=\"1189.306641\" xlink:href=\"#ArialMT-105\"/>\r\n     <use x=\"1211.523438\" xlink:href=\"#ArialMT-100\"/>\r\n     <use x=\"1267.138672\" xlink:href=\"#ArialMT-49\"/>\r\n     <use x=\"1322.753906\" xlink:href=\"#ArialMT-57\"/>\r\n    </g>\r\n   </g>\r\n  </g>\r\n </g>\r\n <defs>\r\n  <clipPath id=\"p58af60d0f7\">\r\n   <rect height=\"489.24\" width=\"502.2\" x=\"56.450156\" y=\"21.789375\"/>\r\n  </clipPath>\r\n </defs>\r\n</svg>\r\n",
      "image/png": "[encoded data removed]"
     },
     "metadata": {}
    }
   ],
   "source": [
    "tsnescatterplot(w2v_model, 'covid19', ['corona', 'mad'])"
   ]
  },
  {
   "cell_type": "code",
   "execution_count": 73,
   "metadata": {},
   "outputs": [],
   "source": [
    "tweets = covid_19_tweets['Tweet'].tolist()\n",
    "tweets_list = []\n",
    "\n",
    "for tweet in tweets:\n",
    "    tweets_list.append(tweet.split(\" \"))"
   ]
  },
  {
   "source": [
    "# -------------------------------------------------------------------------\n",
    "## Bigrams"
   ],
   "cell_type": "markdown",
   "metadata": {}
  },
  {
   "cell_type": "code",
   "execution_count": 74,
   "metadata": {},
   "outputs": [],
   "source": [
    "# Create list of lists containing bigrams in tweets\n",
    "terms_bigram = [list(bigrams(tweet)) for tweet in covid_19_tweets['words_list'].tolist()]"
   ]
  },
  {
   "cell_type": "code",
   "execution_count": 75,
   "metadata": {},
   "outputs": [
    {
     "output_type": "display_data",
     "data": {
      "text/plain": "<Figure size 720x576 with 1 Axes>",
      "image/svg+xml": "<?xml version=\"1.0\" encoding=\"utf-8\" standalone=\"no\"?>\r\n<!DOCTYPE svg PUBLIC \"-//W3C//DTD SVG 1.1//EN\"\r\n  \"http://www.w3.org/Graphics/SVG/1.1/DTD/svg11.dtd\">\r\n<!-- Created with matplotlib (https://matplotlib.org/) -->\r\n<svg height=\"463.869375pt\" version=\"1.1\" viewBox=\"0 0 600.995774 463.869375\" width=\"600.995774pt\" xmlns=\"http://www.w3.org/2000/svg\" xmlns:xlink=\"http://www.w3.org/1999/xlink\">\r\n <defs>\r\n  <style type=\"text/css\">\r\n*{stroke-linecap:butt;stroke-linejoin:round;}\r\n  </style>\r\n </defs>\r\n <g id=\"figure_1\">\r\n  <g id=\"patch_1\">\r\n   <path d=\"M 0 463.869375 \r\nL 600.995774 463.869375 \r\nL 600.995774 0 \r\nL 0 0 \r\nz\r\n\" style=\"fill:#ffffff;\"/>\r\n  </g>\r\n  <g id=\"axes_1\">\r\n   <g id=\"patch_2\">\r\n    <path d=\"M 7.2 456.669375 \r\nL 565.2 456.669375 \r\nL 565.2 21.789375 \r\nL 7.2 21.789375 \r\nz\r\n\" style=\"fill:#eaeaf2;\"/>\r\n   </g>\r\n   <g id=\"matplotlib.axis_1\">\r\n    <g id=\"xtick_1\">\r\n     <g id=\"line2d_1\">\r\n      <path clip-path=\"url(#pad1a0e1961)\" d=\"M 37.587134 456.669375 \r\nL 37.587134 21.789375 \r\n\" style=\"fill:none;stroke:#ffffff;stroke-linecap:round;\"/>\r\n     </g>\r\n    </g>\r\n    <g id=\"xtick_2\">\r\n     <g id=\"line2d_2\">\r\n      <path clip-path=\"url(#pad1a0e1961)\" d=\"M 102.32223 456.669375 \r\nL 102.32223 21.789375 \r\n\" style=\"fill:none;stroke:#ffffff;stroke-linecap:round;\"/>\r\n     </g>\r\n    </g>\r\n    <g id=\"xtick_3\">\r\n     <g id=\"line2d_3\">\r\n      <path clip-path=\"url(#pad1a0e1961)\" d=\"M 167.057325 456.669375 \r\nL 167.057325 21.789375 \r\n\" style=\"fill:none;stroke:#ffffff;stroke-linecap:round;\"/>\r\n     </g>\r\n    </g>\r\n    <g id=\"xtick_4\">\r\n     <g id=\"line2d_4\">\r\n      <path clip-path=\"url(#pad1a0e1961)\" d=\"M 231.79242 456.669375 \r\nL 231.79242 21.789375 \r\n\" style=\"fill:none;stroke:#ffffff;stroke-linecap:round;\"/>\r\n     </g>\r\n    </g>\r\n    <g id=\"xtick_5\">\r\n     <g id=\"line2d_5\">\r\n      <path clip-path=\"url(#pad1a0e1961)\" d=\"M 296.527516 456.669375 \r\nL 296.527516 21.789375 \r\n\" style=\"fill:none;stroke:#ffffff;stroke-linecap:round;\"/>\r\n     </g>\r\n    </g>\r\n    <g id=\"xtick_6\">\r\n     <g id=\"line2d_6\">\r\n      <path clip-path=\"url(#pad1a0e1961)\" d=\"M 361.262611 456.669375 \r\nL 361.262611 21.789375 \r\n\" style=\"fill:none;stroke:#ffffff;stroke-linecap:round;\"/>\r\n     </g>\r\n    </g>\r\n    <g id=\"xtick_7\">\r\n     <g id=\"line2d_7\">\r\n      <path clip-path=\"url(#pad1a0e1961)\" d=\"M 425.997707 456.669375 \r\nL 425.997707 21.789375 \r\n\" style=\"fill:none;stroke:#ffffff;stroke-linecap:round;\"/>\r\n     </g>\r\n    </g>\r\n    <g id=\"xtick_8\">\r\n     <g id=\"line2d_8\">\r\n      <path clip-path=\"url(#pad1a0e1961)\" d=\"M 490.732802 456.669375 \r\nL 490.732802 21.789375 \r\n\" style=\"fill:none;stroke:#ffffff;stroke-linecap:round;\"/>\r\n     </g>\r\n    </g>\r\n    <g id=\"xtick_9\">\r\n     <g id=\"line2d_9\">\r\n      <path clip-path=\"url(#pad1a0e1961)\" d=\"M 555.467897 456.669375 \r\nL 555.467897 21.789375 \r\n\" style=\"fill:none;stroke:#ffffff;stroke-linecap:round;\"/>\r\n     </g>\r\n    </g>\r\n   </g>\r\n   <g id=\"matplotlib.axis_2\">\r\n    <g id=\"ytick_1\">\r\n     <g id=\"line2d_10\">\r\n      <path clip-path=\"url(#pad1a0e1961)\" d=\"M 7.2 405.351882 \r\nL 565.2 405.351882 \r\n\" style=\"fill:none;stroke:#ffffff;stroke-linecap:round;\"/>\r\n     </g>\r\n    </g>\r\n    <g id=\"ytick_2\">\r\n     <g id=\"line2d_11\">\r\n      <path clip-path=\"url(#pad1a0e1961)\" d=\"M 7.2 351.366293 \r\nL 565.2 351.366293 \r\n\" style=\"fill:none;stroke:#ffffff;stroke-linecap:round;\"/>\r\n     </g>\r\n    </g>\r\n    <g id=\"ytick_3\">\r\n     <g id=\"line2d_12\">\r\n      <path clip-path=\"url(#pad1a0e1961)\" d=\"M 7.2 297.380705 \r\nL 565.2 297.380705 \r\n\" style=\"fill:none;stroke:#ffffff;stroke-linecap:round;\"/>\r\n     </g>\r\n    </g>\r\n    <g id=\"ytick_4\">\r\n     <g id=\"line2d_13\">\r\n      <path clip-path=\"url(#pad1a0e1961)\" d=\"M 7.2 243.395117 \r\nL 565.2 243.395117 \r\n\" style=\"fill:none;stroke:#ffffff;stroke-linecap:round;\"/>\r\n     </g>\r\n    </g>\r\n    <g id=\"ytick_5\">\r\n     <g id=\"line2d_14\">\r\n      <path clip-path=\"url(#pad1a0e1961)\" d=\"M 7.2 189.409528 \r\nL 565.2 189.409528 \r\n\" style=\"fill:none;stroke:#ffffff;stroke-linecap:round;\"/>\r\n     </g>\r\n    </g>\r\n    <g id=\"ytick_6\">\r\n     <g id=\"line2d_15\">\r\n      <path clip-path=\"url(#pad1a0e1961)\" d=\"M 7.2 135.42394 \r\nL 565.2 135.42394 \r\n\" style=\"fill:none;stroke:#ffffff;stroke-linecap:round;\"/>\r\n     </g>\r\n    </g>\r\n    <g id=\"ytick_7\">\r\n     <g id=\"line2d_16\">\r\n      <path clip-path=\"url(#pad1a0e1961)\" d=\"M 7.2 81.438352 \r\nL 565.2 81.438352 \r\n\" style=\"fill:none;stroke:#ffffff;stroke-linecap:round;\"/>\r\n     </g>\r\n    </g>\r\n    <g id=\"ytick_8\">\r\n     <g id=\"line2d_17\">\r\n      <path clip-path=\"url(#pad1a0e1961)\" d=\"M 7.2 27.452763 \r\nL 565.2 27.452763 \r\n\" style=\"fill:none;stroke:#ffffff;stroke-linecap:round;\"/>\r\n     </g>\r\n    </g>\r\n   </g>\r\n   <g id=\"LineCollection_1\">\r\n    <path clip-path=\"url(#pad1a0e1961)\" d=\"M 62.231678 172.016757 \r\nL 37.587134 178.629045 \r\n\" style=\"fill:none;stroke:#808080;stroke-width:2;\"/>\r\n    <path clip-path=\"url(#pad1a0e1961)\" d=\"M 456.593663 253.543288 \r\nL 458.979868 283.316015 \r\n\" style=\"fill:none;stroke:#808080;stroke-width:2;\"/>\r\n    <path clip-path=\"url(#pad1a0e1961)\" d=\"M 456.593663 253.543288 \r\nL 427.494633 274.032162 \r\n\" style=\"fill:none;stroke:#808080;stroke-width:2;\"/>\r\n    <path clip-path=\"url(#pad1a0e1961)\" d=\"M 456.593663 253.543288 \r\nL 429.812462 217.6509 \r\n\" style=\"fill:none;stroke:#808080;stroke-width:2;\"/>\r\n    <path clip-path=\"url(#pad1a0e1961)\" d=\"M 456.593663 253.543288 \r\nL 505.241981 242.000026 \r\n\" style=\"fill:none;stroke:#808080;stroke-width:2;\"/>\r\n    <path clip-path=\"url(#pad1a0e1961)\" d=\"M 456.593663 253.543288 \r\nL 496.719713 282.535368 \r\n\" style=\"fill:none;stroke:#808080;stroke-width:2;\"/>\r\n    <path clip-path=\"url(#pad1a0e1961)\" d=\"M 456.593663 253.543288 \r\nL 410.022764 234.613167 \r\n\" style=\"fill:none;stroke:#808080;stroke-width:2;\"/>\r\n    <path clip-path=\"url(#pad1a0e1961)\" d=\"M 456.593663 253.543288 \r\nL 500.583361 214.53156 \r\n\" style=\"fill:none;stroke:#808080;stroke-width:2;\"/>\r\n    <path clip-path=\"url(#pad1a0e1961)\" d=\"M 456.593663 253.543288 \r\nL 534.812866 263.246045 \r\n\" style=\"fill:none;stroke:#808080;stroke-width:2;\"/>\r\n    <path clip-path=\"url(#pad1a0e1961)\" d=\"M 456.593663 253.543288 \r\nL 382.320277 270.597507 \r\n\" style=\"fill:none;stroke:#808080;stroke-width:2;\"/>\r\n    <path clip-path=\"url(#pad1a0e1961)\" d=\"M 429.812462 217.6509 \r\nL 406.662331 179.654984 \r\n\" style=\"fill:none;stroke:#808080;stroke-width:2;\"/>\r\n    <path clip-path=\"url(#pad1a0e1961)\" d=\"M 429.812462 217.6509 \r\nL 410.022764 234.613167 \r\n\" style=\"fill:none;stroke:#808080;stroke-width:2;\"/>\r\n    <path clip-path=\"url(#pad1a0e1961)\" d=\"M 92.010677 299.610683 \r\nL 50.684694 314.785395 \r\n\" style=\"fill:none;stroke:#808080;stroke-width:2;\"/>\r\n    <path clip-path=\"url(#pad1a0e1961)\" d=\"M 359.281033 56.016558 \r\nL 326.609207 45.85695 \r\n\" style=\"fill:none;stroke:#808080;stroke-width:2;\"/>\r\n    <path clip-path=\"url(#pad1a0e1961)\" d=\"M 471.723381 409.26901 \r\nL 454.617889 432.6018 \r\n\" style=\"fill:none;stroke:#808080;stroke-width:2;\"/>\r\n   </g>\r\n   <g id=\"PathCollection_1\">\r\n    <defs>\r\n     <path d=\"M 0 8.660254 \r\nC 2.296726 8.660254 4.499694 7.747755 6.123724 6.123724 \r\nC 7.747755 4.499694 8.660254 2.296726 8.660254 0 \r\nC 8.660254 -2.296726 7.747755 -4.499694 6.123724 -6.123724 \r\nC 4.499694 -7.747755 2.296726 -8.660254 0 -8.660254 \r\nC -2.296726 -8.660254 -4.499694 -7.747755 -6.123724 -6.123724 \r\nC -7.747755 -4.499694 -8.660254 -2.296726 -8.660254 0 \r\nC -8.660254 2.296726 -7.747755 4.499694 -6.123724 6.123724 \r\nC -4.499694 7.747755 -2.296726 8.660254 0 8.660254 \r\nz\r\n\" id=\"m4ded288556\" style=\"stroke:#808080;\"/>\r\n    </defs>\r\n    <g clip-path=\"url(#pad1a0e1961)\">\r\n     <use style=\"fill:#808080;stroke:#808080;\" x=\"62.231678\" xlink:href=\"#m4ded288556\" y=\"172.016757\"/>\r\n     <use style=\"fill:#808080;stroke:#808080;\" x=\"37.587134\" xlink:href=\"#m4ded288556\" y=\"178.629045\"/>\r\n     <use style=\"fill:#808080;stroke:#808080;\" x=\"456.593663\" xlink:href=\"#m4ded288556\" y=\"253.543288\"/>\r\n     <use style=\"fill:#808080;stroke:#808080;\" x=\"458.979868\" xlink:href=\"#m4ded288556\" y=\"283.316015\"/>\r\n     <use style=\"fill:#808080;stroke:#808080;\" x=\"427.494633\" xlink:href=\"#m4ded288556\" y=\"274.032162\"/>\r\n     <use style=\"fill:#808080;stroke:#808080;\" x=\"429.812462\" xlink:href=\"#m4ded288556\" y=\"217.6509\"/>\r\n     <use style=\"fill:#808080;stroke:#808080;\" x=\"505.241981\" xlink:href=\"#m4ded288556\" y=\"242.000026\"/>\r\n     <use style=\"fill:#808080;stroke:#808080;\" x=\"496.719713\" xlink:href=\"#m4ded288556\" y=\"282.535368\"/>\r\n     <use style=\"fill:#808080;stroke:#808080;\" x=\"92.010677\" xlink:href=\"#m4ded288556\" y=\"299.610683\"/>\r\n     <use style=\"fill:#808080;stroke:#808080;\" x=\"50.684694\" xlink:href=\"#m4ded288556\" y=\"314.785395\"/>\r\n     <use style=\"fill:#808080;stroke:#808080;\" x=\"359.281033\" xlink:href=\"#m4ded288556\" y=\"56.016558\"/>\r\n     <use style=\"fill:#808080;stroke:#808080;\" x=\"326.609207\" xlink:href=\"#m4ded288556\" y=\"45.85695\"/>\r\n     <use style=\"fill:#808080;stroke:#808080;\" x=\"410.022764\" xlink:href=\"#m4ded288556\" y=\"234.613167\"/>\r\n     <use style=\"fill:#808080;stroke:#808080;\" x=\"406.662331\" xlink:href=\"#m4ded288556\" y=\"179.654984\"/>\r\n     <use style=\"fill:#808080;stroke:#808080;\" x=\"471.723381\" xlink:href=\"#m4ded288556\" y=\"409.26901\"/>\r\n     <use style=\"fill:#808080;stroke:#808080;\" x=\"454.617889\" xlink:href=\"#m4ded288556\" y=\"432.6018\"/>\r\n     <use style=\"fill:#808080;stroke:#808080;\" x=\"500.583361\" xlink:href=\"#m4ded288556\" y=\"214.53156\"/>\r\n     <use style=\"fill:#808080;stroke:#808080;\" x=\"534.812866\" xlink:href=\"#m4ded288556\" y=\"263.246045\"/>\r\n     <use style=\"fill:#808080;stroke:#808080;\" x=\"382.320277\" xlink:href=\"#m4ded288556\" y=\"270.597507\"/>\r\n    </g>\r\n   </g>\r\n   <g id=\"patch_3\">\r\n    <path d=\"M 7.2 456.669375 \r\nL 7.2 21.789375 \r\n\" style=\"fill:none;stroke:#ffffff;stroke-linecap:square;stroke-linejoin:miter;stroke-width:1.25;\"/>\r\n   </g>\r\n   <g id=\"patch_4\">\r\n    <path d=\"M 565.2 456.669375 \r\nL 565.2 21.789375 \r\n\" style=\"fill:none;stroke:#ffffff;stroke-linecap:square;stroke-linejoin:miter;stroke-width:1.25;\"/>\r\n   </g>\r\n   <g id=\"patch_5\">\r\n    <path d=\"M 7.2 456.669375 \r\nL 565.2 456.669375 \r\n\" style=\"fill:none;stroke:#ffffff;stroke-linecap:square;stroke-linejoin:miter;stroke-width:1.25;\"/>\r\n   </g>\r\n   <g id=\"patch_6\">\r\n    <path d=\"M 7.2 21.789375 \r\nL 565.2 21.789375 \r\n\" style=\"fill:none;stroke:#ffffff;stroke-linecap:square;stroke-linejoin:miter;stroke-width:1.25;\"/>\r\n   </g>\r\n   <g id=\"text_1\">\r\n    <g id=\"patch_7\">\r\n     <path d=\"M 90.255992 168.286851 \r\nL 121.599742 168.286851 \r\nL 121.599742 151.141538 \r\nL 90.255992 151.141538 \r\nz\r\n\" style=\"opacity:0.25;stroke:#ffffff;stroke-linejoin:miter;\"/>\r\n    </g>\r\n    <!-- covid -->\r\n    <defs>\r\n     <path d=\"M 40.4375 19 \r\nL 49.078125 17.875 \r\nQ 47.65625 8.9375 41.8125 3.875 \r\nQ 35.984375 -1.171875 27.484375 -1.171875 \r\nQ 16.84375 -1.171875 10.375 5.78125 \r\nQ 3.90625 12.75 3.90625 25.734375 \r\nQ 3.90625 34.125 6.6875 40.421875 \r\nQ 9.46875 46.734375 15.15625 49.875 \r\nQ 20.84375 53.03125 27.546875 53.03125 \r\nQ 35.984375 53.03125 41.359375 48.75 \r\nQ 46.734375 44.484375 48.25 36.625 \r\nL 39.703125 35.296875 \r\nQ 38.484375 40.53125 35.375 43.15625 \r\nQ 32.28125 45.796875 27.875 45.796875 \r\nQ 21.234375 45.796875 17.078125 41.03125 \r\nQ 12.9375 36.28125 12.9375 25.984375 \r\nQ 12.9375 15.53125 16.9375 10.796875 \r\nQ 20.953125 6.0625 27.390625 6.0625 \r\nQ 32.5625 6.0625 36.03125 9.234375 \r\nQ 39.5 12.40625 40.4375 19 \r\nz\r\n\" id=\"ArialMT-99\"/>\r\n     <path d=\"M 3.328125 25.921875 \r\nQ 3.328125 40.328125 11.328125 47.265625 \r\nQ 18.015625 53.03125 27.640625 53.03125 \r\nQ 38.328125 53.03125 45.109375 46.015625 \r\nQ 51.90625 39.015625 51.90625 26.65625 \r\nQ 51.90625 16.65625 48.90625 10.90625 \r\nQ 45.90625 5.171875 40.15625 2 \r\nQ 34.421875 -1.171875 27.640625 -1.171875 \r\nQ 16.75 -1.171875 10.03125 5.8125 \r\nQ 3.328125 12.796875 3.328125 25.921875 \r\nz\r\nM 12.359375 25.921875 \r\nQ 12.359375 15.96875 16.703125 11.015625 \r\nQ 21.046875 6.0625 27.640625 6.0625 \r\nQ 34.1875 6.0625 38.53125 11.03125 \r\nQ 42.875 16.015625 42.875 26.21875 \r\nQ 42.875 35.84375 38.5 40.796875 \r\nQ 34.125 45.75 27.640625 45.75 \r\nQ 21.046875 45.75 16.703125 40.8125 \r\nQ 12.359375 35.890625 12.359375 25.921875 \r\nz\r\n\" id=\"ArialMT-111\"/>\r\n     <path d=\"M 21 0 \r\nL 1.265625 51.859375 \r\nL 10.546875 51.859375 \r\nL 21.6875 20.796875 \r\nQ 23.484375 15.765625 25 10.359375 \r\nQ 26.171875 14.453125 28.265625 20.21875 \r\nL 39.796875 51.859375 \r\nL 48.828125 51.859375 \r\nL 29.203125 0 \r\nz\r\n\" id=\"ArialMT-118\"/>\r\n     <path d=\"M 6.640625 61.46875 \r\nL 6.640625 71.578125 \r\nL 15.4375 71.578125 \r\nL 15.4375 61.46875 \r\nz\r\nM 6.640625 0 \r\nL 6.640625 51.859375 \r\nL 15.4375 51.859375 \r\nL 15.4375 0 \r\nz\r\n\" id=\"ArialMT-105\"/>\r\n     <path d=\"M 40.234375 0 \r\nL 40.234375 6.546875 \r\nQ 35.296875 -1.171875 25.734375 -1.171875 \r\nQ 19.53125 -1.171875 14.328125 2.25 \r\nQ 9.125 5.671875 6.265625 11.796875 \r\nQ 3.421875 17.921875 3.421875 25.875 \r\nQ 3.421875 33.640625 6 39.96875 \r\nQ 8.59375 46.296875 13.765625 49.65625 \r\nQ 18.953125 53.03125 25.34375 53.03125 \r\nQ 30.03125 53.03125 33.6875 51.046875 \r\nQ 37.359375 49.078125 39.65625 45.90625 \r\nL 39.65625 71.578125 \r\nL 48.390625 71.578125 \r\nL 48.390625 0 \r\nz\r\nM 12.453125 25.875 \r\nQ 12.453125 15.921875 16.640625 10.984375 \r\nQ 20.84375 6.0625 26.5625 6.0625 \r\nQ 32.328125 6.0625 36.34375 10.765625 \r\nQ 40.375 15.484375 40.375 25.140625 \r\nQ 40.375 35.796875 36.265625 40.765625 \r\nQ 32.171875 45.75 26.171875 45.75 \r\nQ 20.3125 45.75 16.375 40.96875 \r\nQ 12.453125 36.1875 12.453125 25.875 \r\nz\r\n\" id=\"ArialMT-100\"/>\r\n    </defs>\r\n    <g style=\"fill:#262626;\" transform=\"translate(94.255992 162.299351)scale(0.1 -0.1)\">\r\n     <use xlink:href=\"#ArialMT-99\"/>\r\n     <use x=\"50\" xlink:href=\"#ArialMT-111\"/>\r\n     <use x=\"105.615234\" xlink:href=\"#ArialMT-118\"/>\r\n     <use x=\"155.615234\" xlink:href=\"#ArialMT-105\"/>\r\n     <use x=\"177.832031\" xlink:href=\"#ArialMT-100\"/>\r\n    </g>\r\n   </g>\r\n   <g id=\"text_2\">\r\n    <g id=\"patch_8\">\r\n     <path d=\"M 71.722386 174.899139 \r\nL 90.844261 174.899139 \r\nL 90.844261 157.753826 \r\nL 71.722386 157.753826 \r\nz\r\n\" style=\"opacity:0.25;stroke:#ffffff;stroke-linejoin:miter;\"/>\r\n    </g>\r\n    <!-- 19 -->\r\n    <defs>\r\n     <path d=\"M 37.25 0 \r\nL 28.46875 0 \r\nL 28.46875 56 \r\nQ 25.296875 52.984375 20.140625 49.953125 \r\nQ 14.984375 46.921875 10.890625 45.40625 \r\nL 10.890625 53.90625 \r\nQ 18.265625 57.375 23.78125 62.296875 \r\nQ 29.296875 67.234375 31.59375 71.875 \r\nL 37.25 71.875 \r\nz\r\n\" id=\"ArialMT-49\"/>\r\n     <path d=\"M 5.46875 16.546875 \r\nL 13.921875 17.328125 \r\nQ 14.984375 11.375 18.015625 8.6875 \r\nQ 21.046875 6 25.78125 6 \r\nQ 29.828125 6 32.875 7.859375 \r\nQ 35.9375 9.71875 37.890625 12.8125 \r\nQ 39.84375 15.921875 41.15625 21.1875 \r\nQ 42.484375 26.46875 42.484375 31.9375 \r\nQ 42.484375 32.515625 42.4375 33.6875 \r\nQ 39.796875 29.5 35.234375 26.875 \r\nQ 30.671875 24.265625 25.34375 24.265625 \r\nQ 16.453125 24.265625 10.296875 30.703125 \r\nQ 4.15625 37.15625 4.15625 47.703125 \r\nQ 4.15625 58.59375 10.578125 65.234375 \r\nQ 17 71.875 26.65625 71.875 \r\nQ 33.640625 71.875 39.421875 68.109375 \r\nQ 45.21875 64.359375 48.21875 57.390625 \r\nQ 51.21875 50.4375 51.21875 37.25 \r\nQ 51.21875 23.53125 48.234375 15.40625 \r\nQ 45.265625 7.28125 39.375 3.03125 \r\nQ 33.5 -1.21875 25.59375 -1.21875 \r\nQ 17.1875 -1.21875 11.859375 3.4375 \r\nQ 6.546875 8.109375 5.46875 16.546875 \r\nz\r\nM 41.453125 48.140625 \r\nQ 41.453125 55.71875 37.421875 60.15625 \r\nQ 33.40625 64.59375 27.734375 64.59375 \r\nQ 21.875 64.59375 17.53125 59.8125 \r\nQ 13.1875 55.03125 13.1875 47.40625 \r\nQ 13.1875 40.578125 17.3125 36.296875 \r\nQ 21.4375 32.03125 27.484375 32.03125 \r\nQ 33.59375 32.03125 37.515625 36.296875 \r\nQ 41.453125 40.578125 41.453125 48.140625 \r\nz\r\n\" id=\"ArialMT-57\"/>\r\n    </defs>\r\n    <g style=\"fill:#262626;\" transform=\"translate(75.722386 168.911639)scale(0.1 -0.1)\">\r\n     <use xlink:href=\"#ArialMT-49\"/>\r\n     <use x=\"55.615234\" xlink:href=\"#ArialMT-57\"/>\r\n    </g>\r\n   </g>\r\n   <g id=\"text_3\">\r\n    <g id=\"patch_9\">\r\n     <path d=\"M 479.05704 249.813382 \r\nL 521.522665 249.813382 \r\nL 521.522665 232.668069 \r\nL 479.05704 232.668069 \r\nz\r\n\" style=\"opacity:0.25;stroke:#ffffff;stroke-linejoin:miter;\"/>\r\n    </g>\r\n    <!-- covid19 -->\r\n    <g style=\"fill:#262626;\" transform=\"translate(483.05704 243.825882)scale(0.1 -0.1)\">\r\n     <use xlink:href=\"#ArialMT-99\"/>\r\n     <use x=\"50\" xlink:href=\"#ArialMT-111\"/>\r\n     <use x=\"105.615234\" xlink:href=\"#ArialMT-118\"/>\r\n     <use x=\"155.615234\" xlink:href=\"#ArialMT-105\"/>\r\n     <use x=\"177.832031\" xlink:href=\"#ArialMT-100\"/>\r\n     <use x=\"233.447266\" xlink:href=\"#ArialMT-49\"/>\r\n     <use x=\"289.0625\" xlink:href=\"#ArialMT-57\"/>\r\n    </g>\r\n   </g>\r\n   <g id=\"text_4\">\r\n    <g id=\"patch_10\">\r\n     <path d=\"M 488.11512 279.586109 \r\nL 517.236995 279.586109 \r\nL 517.236995 262.440797 \r\nL 488.11512 262.440797 \r\nz\r\n\" style=\"opacity:0.25;stroke:#ffffff;stroke-linejoin:miter;\"/>\r\n    </g>\r\n    <!-- case -->\r\n    <defs>\r\n     <path d=\"M 40.4375 6.390625 \r\nQ 35.546875 2.25 31.03125 0.53125 \r\nQ 26.515625 -1.171875 21.34375 -1.171875 \r\nQ 12.796875 -1.171875 8.203125 3 \r\nQ 3.609375 7.171875 3.609375 13.671875 \r\nQ 3.609375 17.484375 5.34375 20.625 \r\nQ 7.078125 23.78125 9.890625 25.6875 \r\nQ 12.703125 27.59375 16.21875 28.5625 \r\nQ 18.796875 29.25 24.03125 29.890625 \r\nQ 34.671875 31.15625 39.703125 32.90625 \r\nQ 39.75 34.71875 39.75 35.203125 \r\nQ 39.75 40.578125 37.25 42.78125 \r\nQ 33.890625 45.75 27.25 45.75 \r\nQ 21.046875 45.75 18.09375 43.578125 \r\nQ 15.140625 41.40625 13.71875 35.890625 \r\nL 5.125 37.0625 \r\nQ 6.296875 42.578125 8.984375 45.96875 \r\nQ 11.671875 49.359375 16.75 51.1875 \r\nQ 21.828125 53.03125 28.515625 53.03125 \r\nQ 35.15625 53.03125 39.296875 51.46875 \r\nQ 43.453125 49.90625 45.40625 47.53125 \r\nQ 47.359375 45.171875 48.140625 41.546875 \r\nQ 48.578125 39.3125 48.578125 33.453125 \r\nL 48.578125 21.734375 \r\nQ 48.578125 9.46875 49.140625 6.21875 \r\nQ 49.703125 2.984375 51.375 0 \r\nL 42.1875 0 \r\nQ 40.828125 2.734375 40.4375 6.390625 \r\nz\r\nM 39.703125 26.03125 \r\nQ 34.90625 24.078125 25.34375 22.703125 \r\nQ 19.921875 21.921875 17.671875 20.9375 \r\nQ 15.4375 19.96875 14.203125 18.09375 \r\nQ 12.984375 16.21875 12.984375 13.921875 \r\nQ 12.984375 10.40625 15.640625 8.0625 \r\nQ 18.3125 5.71875 23.4375 5.71875 \r\nQ 28.515625 5.71875 32.46875 7.9375 \r\nQ 36.421875 10.15625 38.28125 14.015625 \r\nQ 39.703125 17 39.703125 22.796875 \r\nz\r\n\" id=\"ArialMT-97\"/>\r\n     <path d=\"M 3.078125 15.484375 \r\nL 11.765625 16.84375 \r\nQ 12.5 11.625 15.84375 8.84375 \r\nQ 19.1875 6.0625 25.203125 6.0625 \r\nQ 31.25 6.0625 34.171875 8.515625 \r\nQ 37.109375 10.984375 37.109375 14.3125 \r\nQ 37.109375 17.28125 34.515625 19 \r\nQ 32.71875 20.171875 25.53125 21.96875 \r\nQ 15.875 24.421875 12.140625 26.203125 \r\nQ 8.40625 27.984375 6.46875 31.125 \r\nQ 4.546875 34.28125 4.546875 38.09375 \r\nQ 4.546875 41.546875 6.125 44.5 \r\nQ 7.71875 47.46875 10.453125 49.421875 \r\nQ 12.5 50.921875 16.03125 51.96875 \r\nQ 19.578125 53.03125 23.640625 53.03125 \r\nQ 29.734375 53.03125 34.34375 51.265625 \r\nQ 38.96875 49.515625 41.15625 46.5 \r\nQ 43.359375 43.5 44.1875 38.484375 \r\nL 35.59375 37.3125 \r\nQ 35.015625 41.3125 32.203125 43.546875 \r\nQ 29.390625 45.796875 24.265625 45.796875 \r\nQ 18.21875 45.796875 15.625 43.796875 \r\nQ 13.03125 41.796875 13.03125 39.109375 \r\nQ 13.03125 37.40625 14.109375 36.03125 \r\nQ 15.1875 34.625 17.484375 33.6875 \r\nQ 18.796875 33.203125 25.25 31.453125 \r\nQ 34.578125 28.953125 38.25 27.359375 \r\nQ 41.9375 25.78125 44.03125 22.75 \r\nQ 46.140625 19.734375 46.140625 15.234375 \r\nQ 46.140625 10.84375 43.578125 6.953125 \r\nQ 41.015625 3.078125 36.171875 0.953125 \r\nQ 31.34375 -1.171875 25.25 -1.171875 \r\nQ 15.140625 -1.171875 9.84375 3.03125 \r\nQ 4.546875 7.234375 3.078125 15.484375 \r\nz\r\n\" id=\"ArialMT-115\"/>\r\n     <path d=\"M 42.09375 16.703125 \r\nL 51.171875 15.578125 \r\nQ 49.03125 7.625 43.21875 3.21875 \r\nQ 37.40625 -1.171875 28.375 -1.171875 \r\nQ 17 -1.171875 10.328125 5.828125 \r\nQ 3.65625 12.84375 3.65625 25.484375 \r\nQ 3.65625 38.578125 10.390625 45.796875 \r\nQ 17.140625 53.03125 27.875 53.03125 \r\nQ 38.28125 53.03125 44.875 45.953125 \r\nQ 51.46875 38.875 51.46875 26.03125 \r\nQ 51.46875 25.25 51.421875 23.6875 \r\nL 12.75 23.6875 \r\nQ 13.234375 15.140625 17.578125 10.59375 \r\nQ 21.921875 6.0625 28.421875 6.0625 \r\nQ 33.25 6.0625 36.671875 8.59375 \r\nQ 40.09375 11.140625 42.09375 16.703125 \r\nz\r\nM 13.234375 30.90625 \r\nL 42.1875 30.90625 \r\nQ 41.609375 37.453125 38.875 40.71875 \r\nQ 34.671875 45.796875 27.984375 45.796875 \r\nQ 21.921875 45.796875 17.796875 41.75 \r\nQ 13.671875 37.703125 13.234375 30.90625 \r\nz\r\n\" id=\"ArialMT-101\"/>\r\n    </defs>\r\n    <g style=\"fill:#262626;\" transform=\"translate(492.11512 273.598609)scale(0.1 -0.1)\">\r\n     <use xlink:href=\"#ArialMT-99\"/>\r\n     <use x=\"50\" xlink:href=\"#ArialMT-97\"/>\r\n     <use x=\"105.615234\" xlink:href=\"#ArialMT-115\"/>\r\n     <use x=\"155.615234\" xlink:href=\"#ArialMT-101\"/>\r\n    </g>\r\n   </g>\r\n   <g id=\"text_5\">\r\n    <g id=\"patch_11\">\r\n     <path d=\"M 450.238479 270.302256 \r\nL 492.143167 270.302256 \r\nL 492.143167 253.156943 \r\nL 450.238479 253.156943 \r\nz\r\n\" style=\"opacity:0.25;stroke:#ffffff;stroke-linejoin:miter;\"/>\r\n    </g>\r\n    <!-- vaccine -->\r\n    <defs>\r\n     <path d=\"M 6.59375 0 \r\nL 6.59375 51.859375 \r\nL 14.5 51.859375 \r\nL 14.5 44.484375 \r\nQ 20.21875 53.03125 31 53.03125 \r\nQ 35.6875 53.03125 39.625 51.34375 \r\nQ 43.5625 49.65625 45.515625 46.921875 \r\nQ 47.46875 44.1875 48.25 40.4375 \r\nQ 48.734375 37.984375 48.734375 31.890625 \r\nL 48.734375 0 \r\nL 39.9375 0 \r\nL 39.9375 31.546875 \r\nQ 39.9375 36.921875 38.90625 39.578125 \r\nQ 37.890625 42.234375 35.28125 43.8125 \r\nQ 32.671875 45.40625 29.15625 45.40625 \r\nQ 23.53125 45.40625 19.453125 41.84375 \r\nQ 15.375 38.28125 15.375 28.328125 \r\nL 15.375 0 \r\nz\r\n\" id=\"ArialMT-110\"/>\r\n    </defs>\r\n    <g style=\"fill:#262626;\" transform=\"translate(454.238479 264.314756)scale(0.1 -0.1)\">\r\n     <use xlink:href=\"#ArialMT-118\"/>\r\n     <use x=\"50\" xlink:href=\"#ArialMT-97\"/>\r\n     <use x=\"105.615234\" xlink:href=\"#ArialMT-99\"/>\r\n     <use x=\"155.615234\" xlink:href=\"#ArialMT-99\"/>\r\n     <use x=\"205.615234\" xlink:href=\"#ArialMT-105\"/>\r\n     <use x=\"227.832031\" xlink:href=\"#ArialMT-110\"/>\r\n     <use x=\"283.447266\" xlink:href=\"#ArialMT-101\"/>\r\n    </g>\r\n   </g>\r\n   <g id=\"text_6\">\r\n    <g id=\"patch_12\">\r\n     <path d=\"M 452.556308 213.920994 \r\nL 494.460996 213.920994 \r\nL 494.460996 196.775681 \r\nL 452.556308 196.775681 \r\nz\r\n\" style=\"opacity:0.25;stroke:#ffffff;stroke-linejoin:miter;\"/>\r\n    </g>\r\n    <!-- positive -->\r\n    <defs>\r\n     <path d=\"M 6.59375 -19.875 \r\nL 6.59375 51.859375 \r\nL 14.59375 51.859375 \r\nL 14.59375 45.125 \r\nQ 17.4375 49.078125 21 51.046875 \r\nQ 24.5625 53.03125 29.640625 53.03125 \r\nQ 36.28125 53.03125 41.359375 49.609375 \r\nQ 46.4375 46.1875 49.015625 39.953125 \r\nQ 51.609375 33.734375 51.609375 26.3125 \r\nQ 51.609375 18.359375 48.75 11.984375 \r\nQ 45.90625 5.609375 40.453125 2.21875 \r\nQ 35.015625 -1.171875 29 -1.171875 \r\nQ 24.609375 -1.171875 21.109375 0.6875 \r\nQ 17.625 2.546875 15.375 5.375 \r\nL 15.375 -19.875 \r\nz\r\nM 14.546875 25.640625 \r\nQ 14.546875 15.625 18.59375 10.84375 \r\nQ 22.65625 6.0625 28.421875 6.0625 \r\nQ 34.28125 6.0625 38.453125 11.015625 \r\nQ 42.625 15.96875 42.625 26.375 \r\nQ 42.625 36.28125 38.546875 41.203125 \r\nQ 34.46875 46.140625 28.8125 46.140625 \r\nQ 23.1875 46.140625 18.859375 40.890625 \r\nQ 14.546875 35.640625 14.546875 25.640625 \r\nz\r\n\" id=\"ArialMT-112\"/>\r\n     <path d=\"M 25.78125 7.859375 \r\nL 27.046875 0.09375 \r\nQ 23.34375 -0.6875 20.40625 -0.6875 \r\nQ 15.625 -0.6875 12.984375 0.828125 \r\nQ 10.359375 2.34375 9.28125 4.8125 \r\nQ 8.203125 7.28125 8.203125 15.1875 \r\nL 8.203125 45.015625 \r\nL 1.765625 45.015625 \r\nL 1.765625 51.859375 \r\nL 8.203125 51.859375 \r\nL 8.203125 64.703125 \r\nL 16.9375 69.96875 \r\nL 16.9375 51.859375 \r\nL 25.78125 51.859375 \r\nL 25.78125 45.015625 \r\nL 16.9375 45.015625 \r\nL 16.9375 14.703125 \r\nQ 16.9375 10.9375 17.40625 9.859375 \r\nQ 17.875 8.796875 18.921875 8.15625 \r\nQ 19.96875 7.515625 21.921875 7.515625 \r\nQ 23.390625 7.515625 25.78125 7.859375 \r\nz\r\n\" id=\"ArialMT-116\"/>\r\n    </defs>\r\n    <g style=\"fill:#262626;\" transform=\"translate(456.556308 207.933494)scale(0.1 -0.1)\">\r\n     <use xlink:href=\"#ArialMT-112\"/>\r\n     <use x=\"55.615234\" xlink:href=\"#ArialMT-111\"/>\r\n     <use x=\"111.230469\" xlink:href=\"#ArialMT-115\"/>\r\n     <use x=\"161.230469\" xlink:href=\"#ArialMT-105\"/>\r\n     <use x=\"183.447266\" xlink:href=\"#ArialMT-116\"/>\r\n     <use x=\"211.230469\" xlink:href=\"#ArialMT-105\"/>\r\n     <use x=\"233.447266\" xlink:href=\"#ArialMT-118\"/>\r\n     <use x=\"283.447266\" xlink:href=\"#ArialMT-101\"/>\r\n    </g>\r\n   </g>\r\n   <g id=\"text_7\">\r\n    <g id=\"patch_13\">\r\n     <path d=\"M 523.260045 238.27012 \r\nL 574.616295 238.27012 \r\nL 574.616295 221.124807 \r\nL 523.260045 221.124807 \r\nz\r\n\" style=\"opacity:0.25;stroke:#ffffff;stroke-linejoin:miter;\"/>\r\n    </g>\r\n    <!-- pandemic -->\r\n    <defs>\r\n     <path d=\"M 6.59375 0 \r\nL 6.59375 51.859375 \r\nL 14.453125 51.859375 \r\nL 14.453125 44.578125 \r\nQ 16.890625 48.390625 20.9375 50.703125 \r\nQ 25 53.03125 30.171875 53.03125 \r\nQ 35.9375 53.03125 39.625 50.640625 \r\nQ 43.3125 48.25 44.828125 43.953125 \r\nQ 50.984375 53.03125 60.84375 53.03125 \r\nQ 68.5625 53.03125 72.703125 48.75 \r\nQ 76.859375 44.484375 76.859375 35.59375 \r\nL 76.859375 0 \r\nL 68.109375 0 \r\nL 68.109375 32.671875 \r\nQ 68.109375 37.9375 67.25 40.25 \r\nQ 66.40625 42.578125 64.15625 43.984375 \r\nQ 61.921875 45.40625 58.890625 45.40625 \r\nQ 53.421875 45.40625 49.796875 41.765625 \r\nQ 46.1875 38.140625 46.1875 30.125 \r\nL 46.1875 0 \r\nL 37.40625 0 \r\nL 37.40625 33.6875 \r\nQ 37.40625 39.546875 35.25 42.46875 \r\nQ 33.109375 45.40625 28.21875 45.40625 \r\nQ 24.515625 45.40625 21.359375 43.453125 \r\nQ 18.21875 41.5 16.796875 37.734375 \r\nQ 15.375 33.984375 15.375 26.90625 \r\nL 15.375 0 \r\nz\r\n\" id=\"ArialMT-109\"/>\r\n    </defs>\r\n    <g style=\"fill:#262626;\" transform=\"translate(527.260045 232.28262)scale(0.1 -0.1)\">\r\n     <use xlink:href=\"#ArialMT-112\"/>\r\n     <use x=\"55.615234\" xlink:href=\"#ArialMT-97\"/>\r\n     <use x=\"111.230469\" xlink:href=\"#ArialMT-110\"/>\r\n     <use x=\"166.845703\" xlink:href=\"#ArialMT-100\"/>\r\n     <use x=\"222.460938\" xlink:href=\"#ArialMT-101\"/>\r\n     <use x=\"278.076172\" xlink:href=\"#ArialMT-109\"/>\r\n     <use x=\"361.376953\" xlink:href=\"#ArialMT-105\"/>\r\n     <use x=\"383.59375\" xlink:href=\"#ArialMT-99\"/>\r\n    </g>\r\n   </g>\r\n   <g id=\"text_8\">\r\n    <g id=\"patch_14\">\r\n     <path d=\"M 528.074496 278.805462 \r\nL 552.757308 278.805462 \r\nL 552.757308 261.66015 \r\nL 528.074496 261.66015 \r\nz\r\n\" style=\"opacity:0.25;stroke:#ffffff;stroke-linejoin:miter;\"/>\r\n    </g>\r\n    <!-- due -->\r\n    <defs>\r\n     <path d=\"M 40.578125 0 \r\nL 40.578125 7.625 \r\nQ 34.515625 -1.171875 24.125 -1.171875 \r\nQ 19.53125 -1.171875 15.546875 0.578125 \r\nQ 11.578125 2.34375 9.640625 5 \r\nQ 7.71875 7.671875 6.9375 11.53125 \r\nQ 6.390625 14.109375 6.390625 19.734375 \r\nL 6.390625 51.859375 \r\nL 15.1875 51.859375 \r\nL 15.1875 23.09375 \r\nQ 15.1875 16.21875 15.71875 13.8125 \r\nQ 16.546875 10.359375 19.234375 8.375 \r\nQ 21.921875 6.390625 25.875 6.390625 \r\nQ 29.828125 6.390625 33.296875 8.421875 \r\nQ 36.765625 10.453125 38.203125 13.9375 \r\nQ 39.65625 17.4375 39.65625 24.078125 \r\nL 39.65625 51.859375 \r\nL 48.4375 51.859375 \r\nL 48.4375 0 \r\nz\r\n\" id=\"ArialMT-117\"/>\r\n    </defs>\r\n    <g style=\"fill:#262626;\" transform=\"translate(532.074496 272.817962)scale(0.1 -0.1)\">\r\n     <use xlink:href=\"#ArialMT-100\"/>\r\n     <use x=\"55.615234\" xlink:href=\"#ArialMT-117\"/>\r\n     <use x=\"111.230469\" xlink:href=\"#ArialMT-101\"/>\r\n    </g>\r\n   </g>\r\n   <g id=\"text_9\">\r\n    <g id=\"patch_15\">\r\n     <path d=\"M 116.420147 295.880777 \r\nL 154.993585 295.880777 \r\nL 154.993585 278.735464 \r\nL 116.420147 278.735464 \r\nz\r\n\" style=\"opacity:0.25;stroke:#ffffff;stroke-linejoin:miter;\"/>\r\n    </g>\r\n    <!-- corona -->\r\n    <defs>\r\n     <path d=\"M 6.5 0 \r\nL 6.5 51.859375 \r\nL 14.40625 51.859375 \r\nL 14.40625 44 \r\nQ 17.4375 49.515625 20 51.265625 \r\nQ 22.5625 53.03125 25.640625 53.03125 \r\nQ 30.078125 53.03125 34.671875 50.203125 \r\nL 31.640625 42.046875 \r\nQ 28.421875 43.953125 25.203125 43.953125 \r\nQ 22.3125 43.953125 20.015625 42.21875 \r\nQ 17.71875 40.484375 16.75 37.40625 \r\nQ 15.28125 32.71875 15.28125 27.15625 \r\nL 15.28125 0 \r\nz\r\n\" id=\"ArialMT-114\"/>\r\n    </defs>\r\n    <g style=\"fill:#262626;\" transform=\"translate(120.420147 289.893277)scale(0.1 -0.1)\">\r\n     <use xlink:href=\"#ArialMT-99\"/>\r\n     <use x=\"50\" xlink:href=\"#ArialMT-111\"/>\r\n     <use x=\"105.615234\" xlink:href=\"#ArialMT-114\"/>\r\n     <use x=\"138.916016\" xlink:href=\"#ArialMT-111\"/>\r\n     <use x=\"194.53125\" xlink:href=\"#ArialMT-110\"/>\r\n     <use x=\"250.146484\" xlink:href=\"#ArialMT-97\"/>\r\n    </g>\r\n   </g>\r\n   <g id=\"text_10\">\r\n    <g id=\"patch_16\">\r\n     <path d=\"M 79.824633 311.055489 \r\nL 108.937133 311.055489 \r\nL 108.937133 293.910176 \r\nL 79.824633 293.910176 \r\nz\r\n\" style=\"opacity:0.25;stroke:#ffffff;stroke-linejoin:miter;\"/>\r\n    </g>\r\n    <!-- virus -->\r\n    <g style=\"fill:#262626;\" transform=\"translate(83.824633 305.067989)scale(0.1 -0.1)\">\r\n     <use xlink:href=\"#ArialMT-118\"/>\r\n     <use x=\"50\" xlink:href=\"#ArialMT-105\"/>\r\n     <use x=\"72.216797\" xlink:href=\"#ArialMT-114\"/>\r\n     <use x=\"105.517578\" xlink:href=\"#ArialMT-117\"/>\r\n     <use x=\"161.132812\" xlink:href=\"#ArialMT-115\"/>\r\n    </g>\r\n   </g>\r\n   <g id=\"text_11\">\r\n    <g id=\"patch_17\">\r\n     <path d=\"M 388.140504 52.286652 \r\nL 417.813941 52.286652 \r\nL 417.813941 35.141339 \r\nL 388.140504 35.141339 \r\nz\r\n\" style=\"opacity:0.25;stroke:#ffffff;stroke-linejoin:miter;\"/>\r\n    </g>\r\n    <!-- wear -->\r\n    <defs>\r\n     <path d=\"M 16.15625 0 \r\nL 0.296875 51.859375 \r\nL 9.375 51.859375 \r\nL 17.625 21.921875 \r\nL 20.703125 10.796875 \r\nQ 20.90625 11.625 23.390625 21.484375 \r\nL 31.640625 51.859375 \r\nL 40.671875 51.859375 \r\nL 48.4375 21.78125 \r\nL 51.03125 11.859375 \r\nL 54 21.875 \r\nL 62.890625 51.859375 \r\nL 71.4375 51.859375 \r\nL 55.21875 0 \r\nL 46.09375 0 \r\nL 37.84375 31.0625 \r\nL 35.84375 39.890625 \r\nL 25.34375 0 \r\nz\r\n\" id=\"ArialMT-119\"/>\r\n    </defs>\r\n    <g style=\"fill:#262626;\" transform=\"translate(392.140504 46.299152)scale(0.1 -0.1)\">\r\n     <use xlink:href=\"#ArialMT-119\"/>\r\n     <use x=\"72.216797\" xlink:href=\"#ArialMT-101\"/>\r\n     <use x=\"127.832031\" xlink:href=\"#ArialMT-97\"/>\r\n     <use x=\"183.447266\" xlink:href=\"#ArialMT-114\"/>\r\n    </g>\r\n   </g>\r\n   <g id=\"text_12\">\r\n    <g id=\"patch_18\">\r\n     <path d=\"M 354.360084 42.127045 \r\nL 386.250709 42.127045 \r\nL 386.250709 24.981732 \r\nL 354.360084 24.981732 \r\nz\r\n\" style=\"opacity:0.25;stroke:#ffffff;stroke-linejoin:miter;\"/>\r\n    </g>\r\n    <!-- mask -->\r\n    <defs>\r\n     <path d=\"M 6.640625 0 \r\nL 6.640625 71.578125 \r\nL 15.4375 71.578125 \r\nL 15.4375 30.765625 \r\nL 36.234375 51.859375 \r\nL 47.609375 51.859375 \r\nL 27.78125 32.625 \r\nL 49.609375 0 \r\nL 38.765625 0 \r\nL 21.625 26.515625 \r\nL 15.4375 20.5625 \r\nL 15.4375 0 \r\nz\r\n\" id=\"ArialMT-107\"/>\r\n    </defs>\r\n    <g style=\"fill:#262626;\" transform=\"translate(358.360084 36.139545)scale(0.1 -0.1)\">\r\n     <use xlink:href=\"#ArialMT-109\"/>\r\n     <use x=\"83.300781\" xlink:href=\"#ArialMT-97\"/>\r\n     <use x=\"138.916016\" xlink:href=\"#ArialMT-115\"/>\r\n     <use x=\"188.916016\" xlink:href=\"#ArialMT-107\"/>\r\n    </g>\r\n   </g>\r\n   <g id=\"text_13\">\r\n    <g id=\"patch_19\">\r\n     <path d=\"M 441.66036 230.883261 \r\nL 465.777548 230.883261 \r\nL 465.777548 213.737949 \r\nL 441.66036 213.737949 \r\nz\r\n\" style=\"opacity:0.25;stroke:#ffffff;stroke-linejoin:miter;\"/>\r\n    </g>\r\n    <!-- test -->\r\n    <g style=\"fill:#262626;\" transform=\"translate(445.66036 224.895761)scale(0.1 -0.1)\">\r\n     <use xlink:href=\"#ArialMT-116\"/>\r\n     <use x=\"27.783203\" xlink:href=\"#ArialMT-101\"/>\r\n     <use x=\"83.398438\" xlink:href=\"#ArialMT-115\"/>\r\n     <use x=\"133.398438\" xlink:href=\"#ArialMT-116\"/>\r\n    </g>\r\n   </g>\r\n   <g id=\"text_14\">\r\n    <g id=\"patch_20\">\r\n     <path d=\"M 432.738989 175.925078 \r\nL 467.978051 175.925078 \r\nL 467.978051 158.779765 \r\nL 432.738989 158.779765 \r\nz\r\n\" style=\"opacity:0.25;stroke:#ffffff;stroke-linejoin:miter;\"/>\r\n    </g>\r\n    <!-- tested -->\r\n    <g style=\"fill:#262626;\" transform=\"translate(436.738989 169.937578)scale(0.1 -0.1)\">\r\n     <use xlink:href=\"#ArialMT-116\"/>\r\n     <use x=\"27.783203\" xlink:href=\"#ArialMT-101\"/>\r\n     <use x=\"83.398438\" xlink:href=\"#ArialMT-115\"/>\r\n     <use x=\"133.398438\" xlink:href=\"#ArialMT-116\"/>\r\n     <use x=\"161.181641\" xlink:href=\"#ArialMT-101\"/>\r\n     <use x=\"216.796875\" xlink:href=\"#ArialMT-100\"/>\r\n    </g>\r\n   </g>\r\n   <g id=\"text_15\">\r\n    <g id=\"patch_21\">\r\n     <path d=\"M 498.082852 405.539104 \r\nL 532.756289 405.539104 \r\nL 532.756289 388.393792 \r\nL 498.082852 388.393792 \r\nz\r\n\" style=\"opacity:0.25;stroke:#ffffff;stroke-linejoin:miter;\"/>\r\n    </g>\r\n    <!-- cruise -->\r\n    <g style=\"fill:#262626;\" transform=\"translate(502.082852 399.551604)scale(0.1 -0.1)\">\r\n     <use xlink:href=\"#ArialMT-99\"/>\r\n     <use x=\"50\" xlink:href=\"#ArialMT-114\"/>\r\n     <use x=\"83.300781\" xlink:href=\"#ArialMT-117\"/>\r\n     <use x=\"138.916016\" xlink:href=\"#ArialMT-105\"/>\r\n     <use x=\"161.132812\" xlink:href=\"#ArialMT-115\"/>\r\n     <use x=\"211.132812\" xlink:href=\"#ArialMT-101\"/>\r\n    </g>\r\n   </g>\r\n   <g id=\"text_16\">\r\n    <g id=\"patch_22\">\r\n     <path d=\"M 485.142204 428.871894 \r\nL 511.485954 428.871894 \r\nL 511.485954 411.726581 \r\nL 485.142204 411.726581 \r\nz\r\n\" style=\"opacity:0.25;stroke:#ffffff;stroke-linejoin:miter;\"/>\r\n    </g>\r\n    <!-- ship -->\r\n    <defs>\r\n     <path d=\"M 6.59375 0 \r\nL 6.59375 71.578125 \r\nL 15.375 71.578125 \r\nL 15.375 45.90625 \r\nQ 21.53125 53.03125 30.90625 53.03125 \r\nQ 36.671875 53.03125 40.921875 50.75 \r\nQ 45.171875 48.484375 47 44.484375 \r\nQ 48.828125 40.484375 48.828125 32.859375 \r\nL 48.828125 0 \r\nL 40.046875 0 \r\nL 40.046875 32.859375 \r\nQ 40.046875 39.453125 37.1875 42.453125 \r\nQ 34.328125 45.453125 29.109375 45.453125 \r\nQ 25.203125 45.453125 21.75 43.421875 \r\nQ 18.3125 41.40625 16.84375 37.9375 \r\nQ 15.375 34.46875 15.375 28.375 \r\nL 15.375 0 \r\nz\r\n\" id=\"ArialMT-104\"/>\r\n    </defs>\r\n    <g style=\"fill:#262626;\" transform=\"translate(489.142204 422.884394)scale(0.1 -0.1)\">\r\n     <use xlink:href=\"#ArialMT-115\"/>\r\n     <use x=\"50\" xlink:href=\"#ArialMT-104\"/>\r\n     <use x=\"105.615234\" xlink:href=\"#ArialMT-105\"/>\r\n     <use x=\"127.832031\" xlink:href=\"#ArialMT-112\"/>\r\n    </g>\r\n   </g>\r\n   <g id=\"text_17\">\r\n    <g id=\"patch_23\">\r\n     <path d=\"M 527.768613 210.801654 \r\nL 560.790488 210.801654 \r\nL 560.790488 193.656341 \r\nL 527.768613 193.656341 \r\nz\r\n\" style=\"opacity:0.25;stroke:#ffffff;stroke-linejoin:miter;\"/>\r\n    </g>\r\n    <!-- death -->\r\n    <g style=\"fill:#262626;\" transform=\"translate(531.768613 204.814154)scale(0.1 -0.1)\">\r\n     <use xlink:href=\"#ArialMT-100\"/>\r\n     <use x=\"55.615234\" xlink:href=\"#ArialMT-101\"/>\r\n     <use x=\"111.230469\" xlink:href=\"#ArialMT-97\"/>\r\n     <use x=\"166.845703\" xlink:href=\"#ArialMT-116\"/>\r\n     <use x=\"194.628906\" xlink:href=\"#ArialMT-104\"/>\r\n    </g>\r\n   </g>\r\n   <g id=\"text_18\">\r\n    <g id=\"patch_24\">\r\n     <path d=\"M 559.222336 259.516139 \r\nL 597.795774 259.516139 \r\nL 597.795774 242.370826 \r\nL 559.222336 242.370826 \r\nz\r\n\" style=\"opacity:0.25;stroke:#ffffff;stroke-linejoin:miter;\"/>\r\n    </g>\r\n    <!-- spread -->\r\n    <g style=\"fill:#262626;\" transform=\"translate(563.222336 253.528639)scale(0.1 -0.1)\">\r\n     <use xlink:href=\"#ArialMT-115\"/>\r\n     <use x=\"50\" xlink:href=\"#ArialMT-112\"/>\r\n     <use x=\"105.615234\" xlink:href=\"#ArialMT-114\"/>\r\n     <use x=\"138.916016\" xlink:href=\"#ArialMT-101\"/>\r\n     <use x=\"194.53125\" xlink:href=\"#ArialMT-97\"/>\r\n     <use x=\"250.146484\" xlink:href=\"#ArialMT-100\"/>\r\n    </g>\r\n   </g>\r\n   <g id=\"text_19\">\r\n    <g id=\"patch_25\">\r\n     <path d=\"M 412.844592 266.867601 \r\nL 439.188342 266.867601 \r\nL 439.188342 249.722288 \r\nL 412.844592 249.722288 \r\nz\r\n\" style=\"opacity:0.25;stroke:#ffffff;stroke-linejoin:miter;\"/>\r\n    </g>\r\n    <!-- new -->\r\n    <g style=\"fill:#262626;\" transform=\"translate(416.844592 260.880101)scale(0.1 -0.1)\">\r\n     <use xlink:href=\"#ArialMT-110\"/>\r\n     <use x=\"55.615234\" xlink:href=\"#ArialMT-101\"/>\r\n     <use x=\"111.230469\" xlink:href=\"#ArialMT-119\"/>\r\n    </g>\r\n   </g>\r\n   <g id=\"text_20\">\r\n    <!-- Most occuring bigrams in the tweets -->\r\n    <defs>\r\n     <path d=\"M 7.421875 0 \r\nL 7.421875 71.578125 \r\nL 21.6875 71.578125 \r\nL 38.625 20.90625 \r\nQ 40.96875 13.8125 42.046875 10.296875 \r\nQ 43.265625 14.203125 45.84375 21.78125 \r\nL 62.984375 71.578125 \r\nL 75.734375 71.578125 \r\nL 75.734375 0 \r\nL 66.609375 0 \r\nL 66.609375 59.90625 \r\nL 45.796875 0 \r\nL 37.25 0 \r\nL 16.546875 60.9375 \r\nL 16.546875 0 \r\nz\r\n\" id=\"ArialMT-77\"/>\r\n     <path id=\"ArialMT-32\"/>\r\n     <path d=\"M 4.984375 -4.296875 \r\nL 13.53125 -5.5625 \r\nQ 14.0625 -9.515625 16.5 -11.328125 \r\nQ 19.78125 -13.765625 25.4375 -13.765625 \r\nQ 31.546875 -13.765625 34.859375 -11.328125 \r\nQ 38.1875 -8.890625 39.359375 -4.5 \r\nQ 40.046875 -1.8125 39.984375 6.78125 \r\nQ 34.234375 0 25.640625 0 \r\nQ 14.9375 0 9.078125 7.71875 \r\nQ 3.21875 15.4375 3.21875 26.21875 \r\nQ 3.21875 33.640625 5.90625 39.90625 \r\nQ 8.59375 46.1875 13.6875 49.609375 \r\nQ 18.796875 53.03125 25.6875 53.03125 \r\nQ 34.859375 53.03125 40.828125 45.609375 \r\nL 40.828125 51.859375 \r\nL 48.921875 51.859375 \r\nL 48.921875 7.03125 \r\nQ 48.921875 -5.078125 46.453125 -10.125 \r\nQ 44 -15.1875 38.640625 -18.109375 \r\nQ 33.296875 -21.046875 25.484375 -21.046875 \r\nQ 16.21875 -21.046875 10.5 -16.875 \r\nQ 4.78125 -12.703125 4.984375 -4.296875 \r\nz\r\nM 12.25 26.859375 \r\nQ 12.25 16.65625 16.296875 11.96875 \r\nQ 20.359375 7.28125 26.46875 7.28125 \r\nQ 32.515625 7.28125 36.609375 11.9375 \r\nQ 40.71875 16.609375 40.71875 26.5625 \r\nQ 40.71875 36.078125 36.5 40.90625 \r\nQ 32.28125 45.75 26.3125 45.75 \r\nQ 20.453125 45.75 16.34375 40.984375 \r\nQ 12.25 36.234375 12.25 26.859375 \r\nz\r\n\" id=\"ArialMT-103\"/>\r\n     <path d=\"M 14.703125 0 \r\nL 6.546875 0 \r\nL 6.546875 71.578125 \r\nL 15.328125 71.578125 \r\nL 15.328125 46.046875 \r\nQ 20.90625 53.03125 29.546875 53.03125 \r\nQ 34.328125 53.03125 38.59375 51.09375 \r\nQ 42.875 49.171875 45.625 45.671875 \r\nQ 48.390625 42.1875 49.953125 37.25 \r\nQ 51.515625 32.328125 51.515625 26.703125 \r\nQ 51.515625 13.375 44.921875 6.09375 \r\nQ 38.328125 -1.171875 29.109375 -1.171875 \r\nQ 19.921875 -1.171875 14.703125 6.5 \r\nz\r\nM 14.59375 26.3125 \r\nQ 14.59375 17 17.140625 12.84375 \r\nQ 21.296875 6.0625 28.375 6.0625 \r\nQ 34.125 6.0625 38.328125 11.0625 \r\nQ 42.53125 16.0625 42.53125 25.984375 \r\nQ 42.53125 36.140625 38.5 40.96875 \r\nQ 34.46875 45.796875 28.765625 45.796875 \r\nQ 23 45.796875 18.796875 40.796875 \r\nQ 14.59375 35.796875 14.59375 26.3125 \r\nz\r\n\" id=\"ArialMT-98\"/>\r\n    </defs>\r\n    <g style=\"fill:#262626;\" transform=\"translate(190.499063 15.789375)scale(0.12 -0.12)\">\r\n     <use xlink:href=\"#ArialMT-77\"/>\r\n     <use x=\"83.300781\" xlink:href=\"#ArialMT-111\"/>\r\n     <use x=\"138.916016\" xlink:href=\"#ArialMT-115\"/>\r\n     <use x=\"188.916016\" xlink:href=\"#ArialMT-116\"/>\r\n     <use x=\"216.699219\" xlink:href=\"#ArialMT-32\"/>\r\n     <use x=\"244.482422\" xlink:href=\"#ArialMT-111\"/>\r\n     <use x=\"300.097656\" xlink:href=\"#ArialMT-99\"/>\r\n     <use x=\"350.097656\" xlink:href=\"#ArialMT-99\"/>\r\n     <use x=\"400.097656\" xlink:href=\"#ArialMT-117\"/>\r\n     <use x=\"455.712891\" xlink:href=\"#ArialMT-114\"/>\r\n     <use x=\"489.013672\" xlink:href=\"#ArialMT-105\"/>\r\n     <use x=\"511.230469\" xlink:href=\"#ArialMT-110\"/>\r\n     <use x=\"566.845703\" xlink:href=\"#ArialMT-103\"/>\r\n     <use x=\"622.460938\" xlink:href=\"#ArialMT-32\"/>\r\n     <use x=\"650.244141\" xlink:href=\"#ArialMT-98\"/>\r\n     <use x=\"705.859375\" xlink:href=\"#ArialMT-105\"/>\r\n     <use x=\"728.076172\" xlink:href=\"#ArialMT-103\"/>\r\n     <use x=\"783.691406\" xlink:href=\"#ArialMT-114\"/>\r\n     <use x=\"816.992188\" xlink:href=\"#ArialMT-97\"/>\r\n     <use x=\"872.607422\" xlink:href=\"#ArialMT-109\"/>\r\n     <use x=\"955.908203\" xlink:href=\"#ArialMT-115\"/>\r\n     <use x=\"1005.908203\" xlink:href=\"#ArialMT-32\"/>\r\n     <use x=\"1033.691406\" xlink:href=\"#ArialMT-105\"/>\r\n     <use x=\"1055.908203\" xlink:href=\"#ArialMT-110\"/>\r\n     <use x=\"1111.523438\" xlink:href=\"#ArialMT-32\"/>\r\n     <use x=\"1139.306641\" xlink:href=\"#ArialMT-116\"/>\r\n     <use x=\"1167.089844\" xlink:href=\"#ArialMT-104\"/>\r\n     <use x=\"1222.705078\" xlink:href=\"#ArialMT-101\"/>\r\n     <use x=\"1278.320312\" xlink:href=\"#ArialMT-32\"/>\r\n     <use x=\"1306.103516\" xlink:href=\"#ArialMT-116\"/>\r\n     <use x=\"1333.886719\" xlink:href=\"#ArialMT-119\"/>\r\n     <use x=\"1406.103516\" xlink:href=\"#ArialMT-101\"/>\r\n     <use x=\"1461.71875\" xlink:href=\"#ArialMT-101\"/>\r\n     <use x=\"1517.333984\" xlink:href=\"#ArialMT-116\"/>\r\n     <use x=\"1545.117188\" xlink:href=\"#ArialMT-115\"/>\r\n    </g>\r\n   </g>\r\n  </g>\r\n </g>\r\n <defs>\r\n  <clipPath id=\"pad1a0e1961\">\r\n   <rect height=\"434.88\" width=\"558\" x=\"7.2\" y=\"21.789375\"/>\r\n  </clipPath>\r\n </defs>\r\n</svg>\r\n",
      "image/png": "[encoded data removed]"
     },
     "metadata": {}
    }
   ],
   "source": [
    "# Flatten list of bigrams in clean tweets\n",
    "bigrams = list(itertools.chain(*terms_bigram))\n",
    "\n",
    "# Create counter of words in clean bigrams\n",
    "bigram_counts = collections.Counter(bigrams)\n",
    "\n",
    "bigram_df = pd.DataFrame(bigram_counts.most_common(15),\n",
    "                             columns=['bigram', 'count'])\n",
    "\n",
    "# Create dictionary of bigrams and their counts\n",
    "d = bigram_df.set_index('bigram').T.to_dict('records')\n",
    "# Create network plot \n",
    "G = nx.Graph()\n",
    "\n",
    "# Create connections between nodes\n",
    "for k, v in d[0].items():\n",
    "    G.add_edge(k[0], k[1], weight=(v * 5))\n",
    "\n",
    "fig, ax = plt.subplots(figsize=(10, 8))\n",
    "\n",
    "pos = nx.spring_layout(G, k=4)\n",
    "\n",
    "# Plot networks\n",
    "nx.draw_networkx(G, pos,\n",
    "                 font_size=10,\n",
    "                 width=2,\n",
    "                 edge_color='grey',\n",
    "                 node_color='gray',\n",
    "                 with_labels = False,\n",
    "                 ax=ax)\n",
    "\n",
    "# Create offset labels\n",
    "for key, value in pos.items():\n",
    "    x, y = value[0]+.135, value[1]+.045\n",
    "    ax.text(x, y,\n",
    "            s=key,\n",
    "            bbox=dict(facecolor='black', alpha=0.25),\n",
    "            horizontalalignment='center', fontsize=10)\n",
    "\n",
    "plt.title(\"Most occuring bigrams in the tweets\")\n",
    "\n",
    "plt.show()"
   ]
  },
  {
   "source": [
    "# -------------------------------------------------------------------------\n",
    "## Word Cloud"
   ],
   "cell_type": "markdown",
   "metadata": {}
  },
  {
   "cell_type": "code",
   "execution_count": 76,
   "metadata": {},
   "outputs": [
    {
     "output_type": "execute_result",
     "data": {
      "text/plain": [
       "<matplotlib.image.AxesImage at 0x15f085be548>"
      ]
     },
     "metadata": {},
     "execution_count": 76
    },
    {
     "output_type": "display_data",
     "data": {
      "text/plain": "<Figure size 720x576 with 1 Axes>",
      "image/svg+xml": "<?xml version=\"1.0\" encoding=\"utf-8\" standalone=\"no\"?>\r\n<!DOCTYPE svg PUBLIC \"-//W3C//DTD SVG 1.1//EN\"\r\n  \"http://www.w3.org/Graphics/SVG/1.1/DTD/svg11.dtd\">\r\n<!-- Created with matplotlib (https://matplotlib.org/) -->\r\n<svg height=\"472.504841pt\" version=\"1.1\" viewBox=\"0 0 477.131094 472.504841\" width=\"477.131094pt\" xmlns=\"http://www.w3.org/2000/svg\" xmlns:xlink=\"http://www.w3.org/1999/xlink\">\r\n <defs>\r\n  <style type=\"text/css\">\r\n*{stroke-linecap:butt;stroke-linejoin:round;}\r\n  </style>\r\n </defs>\r\n <g id=\"figure_1\">\r\n  <g id=\"patch_1\">\r\n   <path d=\"M 0 472.504841 \r\nL 477.131094 472.504841 \r\nL 477.131094 0 \r\nL 0 0 \r\nz\r\n\" style=\"fill:#ffffff;\"/>\r\n  </g>\r\n  <g id=\"axes_1\">\r\n   <g id=\"patch_2\">\r\n    <path d=\"M 35.051094 445.744997 \r\nL 469.931094 445.744997 \r\nL 469.931094 10.864997 \r\nL 35.051094 10.864997 \r\nz\r\n\" style=\"fill:#eaeaf2;\"/>\r\n   </g>\r\n   <g clip-path=\"url(#p5f5fb72d57)\">\r\n    <image height=\"435\" id=\"image045fde48a9\" transform=\"scale(1 -1)translate(0 -435)\" width=\"435\" x=\"35.051094\" xlink:href=\"data:image/png;base64,\r\niVBORw0KGgoAAAANSUhEUgAAAbMAAAGzCAYAAACl7fmHAAAABHNCSVQICAgIfAhkiAAAIABJREFUeJzsnXV4FFcXh39rcXcXCCQECVrcXYtbcStQXIq1QCluQYpLsWINDsHdEiRAICEkgYS4u63O98ews7uZWc0G6cf7PDzMXJu7kztz5p577jksgiAIfOc73/nOd77zDcP+0h34zne+853vfKeifBdm3/nOd77znW8e7pfuQGVxJvkAHmbdgJgQwZJng6U1t+NF7iPUs26GBa/HYKjHJNS2bIQtMUswrdofVL1H2TdwOulv1LJsiFFeMxFV+Ar7PqyHu4k3xnrPhSnXHCHZt3Em+QDW1Dmot/6GZy1HWvENmHBdYW/SHL7WkwEAMXl7EZ27HVy2GVq4HIYpzxMAEJo2GdmlT2Fp6A8bo7qoYTMTb3M2oarlKNxK7AExwUdT5z2wMaqL7NKneJQ6VuF6PauEAwBSi2/gZeZiGLAtYGVYGw0c1+ntNyljfvgwNLJpDQueNbIFGRjsPhlX0k6grlUzOBm5AwAWR4zDspp7ISEk+DV8CHq4DMOtjHOYWOV3uBh7Kk3PF2bjfMpheJv64XbGeUys+jvsDZ0BAHNeDUInx/7gS8pQJi7BAPefaX07+eoNLkZGoZNvNdyIfo+QjwmImjcDAFBz3Rb0rV0T3jZWCEtOxV99eqhMr7Y6EFNbNEGxQIgnCUk4M2ooykQivElNx5B/TmL/oL4wNzRAXRdnpeWl6THzZyrt57k3b/E6NY3qp5ggUGf9Vsxv1wo+drZo6ulOa7+Iz8eKrh0V2twVOx58STHcTGqir9sibH43BCXifJjz7DCl2iGFMpOrHQCXZYCDcTORXvYBzsY+GO61AQDwV8wIGHPMMbbKNlodFlgIfDcIBmwjWBs4U3U0Ja7oGS6lbAALLNS26ohWDqMBACmlUcjmJyC97D1e5Qajsd1ANLEbBC7LgFa3TFwEB0NvdHedA1tDD6SVxuBi8lqM89lDlV0b2RW/+l9WuPbpxD/woeiZQl0ACIzqA6GkTKGst1kDDPBYTqtrzDFX6LeIEGDj2x8xp8ZFsFkc2u+NLw7DtdStyBekw8WkBoZ4rlUotzayK63OVN8TMOZY0Or6W7ZFPeseVDkxIcShD9OQK0iBk3F1DPVaC4AFANgePQxFomyFdllgY67/JQAAX1yMg3FTIZSUYYjXWuyNnYBf/YMZ7x8BAkEJv8OQbYpebgto/dUbhJ7p0nktcePGmwq18ST0PTFo4NYK9+VN/nNifvho6jws5yFBEAQxP3w0EZ73hCAIgtgcvZjKXxE5nbiRdlahje2xy2ntzngxqMJ9kye16AbxMmMJdX7+fW2CIAjiY0EQEZ27m0q/9KEhQRAEkVh4gXifd4hWPjI7kHiaNouWLn/+PH0+dZ5dGkY8T5+rvx+iAR+K3hJnkvbT0i+nHidSSxOo89/fjCUIgiC2xy4lBOIyKn32y4Eq0+U5n3yIeJZzlyAIgghK3EOkliaq7d+0MxeJt+kZ1LnPqo0EQRDE04QkYtm1W7TyytJ/v3KDiM7MUnodabualC9ftnw/Qz8mKpR5lphM7Al5plV/dsaMZUzf+m6Y0jLBKZtp5VNKogmRRKC0zrboUdTxyoiuSvvDxJOsIGKnXP2E4tfUcXLJW2JNRBeiUJhNEARB7IgeQayJ6KK0LkFIiLf55NhILYkm9sSMU7iWfF3peUbpB1pdgiCIlJIoYlfMaEIZinUV+y2U8Ik1EV0IsUTEWPd17nWCICQEQRBEoTCL1i9l/WWquydmHBFT8FihjvQZKhBkMrYh7Z88sYWhxJqILkSJKJ8gCII4n7iK8X7JH2+OGsDYb32i95nZ5StzsWfPbbRvX1PnNhr9UAXHT0xB4MbLmDmL/uWhKwKCrzI/i5+Oi6nHcDH1GAAgsO5xuJtU0dv1lfGx8DTq2a+gzq2NAgAAUTnb0MnzFpVezXoCMksfo0gQB1cz2X2xMqxFHVe3nkgdO5m2B1+cDUOOLeN13+Vuh5NpO3wsOEmluZh1AY9tUfEfpYRsfjocDF0Z8/jlvm4BIKMsBTy2ocbpAPB3/DpEF4ZjrPd8+JiR4zBbkI7172YrlFsfcIJWd3Pv7lhx8y4uvX2HIr6ASk/Iy0cVWxtaeaXpufnotveQQtrlcSPgY8f8t9C2vHw/c4pLFPII0G261LWfK0jFqshuVN4Cua9sABATIoUyLe2HIZufRLuOBGKwPq1eMNUpEGZSZeVnTZpwO32vwmzJ3aSWQj6XZQAzLvm3GFN1BzZF9UOpuADGHAtaXYAFP4tWGl03rug5bAzcYG/kzVjX2dgXdoYeCMu5gPo2PdXUpfdbFbWsOlDHbNBnbtrUZbFY4EvIsRKa9S9qW3WiniFznh1sDd2RUBwOD9M6KtstEGYAAIw55Huip9t8vI28y1h2d+xotHEchx9s+2nVd11QWDO7eOEFOndagz+WngafLwIATJ1yCAkfsxnLAED7dqtojfK4HPD5QgBAn96bEBr6Hp07rUVMTBoAYN/eO+jaZR3mziWFhlAoRvdu63HmzDPcuxtFtXPr1luFdpcEXsTouYfQ/qfN6DZ6Gzbuu6nVj00tTSSvJ+HDiGNCy7czdMJwz6kIrHscJhwzAEB8cYzadhetP4/m/dejef/1WvVHCgssgOEFxFSSqRybxSvXlmbtssDGm6xVCM9aTv0rE2UqLa8P7AydkVqWwJiXxU+ljrks8jvL1tARQomAVlZZOgC8K3iFJf67KEEGAPaGzpjvtwnrA04wCjF5FrVvjUdTJiB89hQqzcvGCu8ys2hllaV721jh+s+jETN/JmLmz0RzL0/YmNDHnK7l5ft57edRKssxtQ9AoX1rAxcs8A/GAv9gGHPMafU5LK5CGUueA+w+qdmUwVTHkudA5YsI5r+frpjz7KhjA7YJTDiWyBOkVbjdbEEi7I28VJbp5jIbt9P30NI1qasJeYJU7IkdR6k2dambzU+En0VLAEAW/yNsDd0VytkYuCFbkKi2PW/ThmCzuHidd01ludjCEOQJ0j6LIAPKrZkVFpXh6rV5CgXs7c2xYOFJ/PPPJIwYsQtdu9ahlSnP3btReP06CRs2kjr/iIgkXL32Kzp3WoPgy3Ph5+eCy1fmQiyW4Nq11zh44D4uBc9Bbm4xXoeTNzMkJBa//f6jQrs3HsoEXRlfiFOXX+DU5RfYs/on+Ps4K5TNFWThQFwguGzZi97LtDrmvhqOYZ5TUM2sJta/m4/k0njMfjUUC/wCsbBGIG5lXMC88JGY4rMEANDFqT9+DR8BJyM3TKgyH7vek8J79quhWFfnCNisitvQeJj3Q2ROIOraLyP7XvYKAFDNaixi8vaimtU4AEBM7i50836K7NLnStuKzfsb9RzIWV5q8Q00dNyotGx164mwMKgOf9vZ4ItzcCuxO8wNqlb496jCy7Q6dn1YDhEhhDXPDgZsQ7Rx6AUAuJ1xDtn8dLzMe4yuToMBAJOqLsG88KHo4fwTbmWcw1zfDSrTAUACCZ7m3kFcURQGuP8MY44p+riOwZxXg9DD+Sc8yL6KyT5Llfax695DGBRQC6mFRTAzJGcP9V1dMOr4KQjEYvjY2uL2+w/4Z+gApelLOrVDtdWBmNe2JQ4/f4nM4hLYmBgrvaaq8jwOB+127sew+gF4m5GJdT26KPRz84PHVD+fJ6XgSUIS4nPycCUqBlXtbFDNzpbW/tGfBir052efPdgWMxKWPEcM9lxB72C5MsO81qK2VQccjp+LtNIY2Bt5YpjXOhyNnw8xQX4Iz/e/SKvjb9kGG6L6gcc2VBA+mlJ+jaiv+1L4mDf+dMZSLMxSPGdaX5LO1oQEXSsghQ023hU8oNWXn+kZcczR0mEEziatQG+3RWrrKvYb4EuKqZlOedZGdoUFzwFjqu6AOc9eaT+1q8v0kavZR7WVgRPm1LiAB5mHsTt2DIqE2Yzl7mbsp9YGPwtSfaNQKCLatV1J/Tt08D4RHZ1KlJYKiNWrLxAEQRDt261SKEMQBPW/lJycIiIlJZdYufI8QRAE0fvHQOLaNVJHPHTINiIxMZtITc2jyu/adYvo0H4VdX73zluCIAiiU8fVBEEQxIED96i824/fEZExqURyWh5xJySaaDM4kGjWbx3RrN86YuKiozQdamxhBLE2SvWa0D8ftxOFwnyiWFSoTiVLsfLtTIXzhevOUf3QlfDM5cTV+DbEvaQhREjqJCo9Kmc7cfFDfeJKfCuiSECuKb3N3kIU8GOoMg+SRxAEQa6Z5ZVFEpfjWhCXPjQksktfKFyj/JoZQRBEfP6/xMUPDYmQ1ElEbtlr4ktRfs3svw7TOpi+SMrLp62Z6Yr8mpmmKFv/KU9glHZrz5ujBhDFwlzqnFzzKSUIQrZmJiUy/47Cefm6mWVxxPrIHgRBkGtmayK6EG/ybii0LUUo4RMbInsx1i3P9ujhRGpJtNK65fstXZO6nBzI2N79jEPE48xjjHnl29SmblppDLH13WBaG/LrnfL90/b60vMtUQOJyLzbauvrA2pmxuVy4OFpi82bh2PkiF3o9WMDjB+3Fyf/nYrZs7siNPQ9Zs/uipP/hlJlAMDAgIvIyGSUlQpRv4EXZkw/goOHfsacOd3w4sVHAMC+fXfRoAGpM3Zzs8GY0Xuwbv0QnDgeggk/t4WJiQFiYtJw9OhjtG1TAwAwbXpnAEDQv08xciQ5NW7TpDolhF0cLXH72Ax0G70N+YWlCI9KRnGpAKbGMj18VTN/zPVdq1KYD/WYpPUHwAI/5bMdXalttwi17cgvukcpY6h0X+tJ8LVW7KOfzVSF8+YuMqtKDtsIXbzua3xdT4v+8LTor0uXv/OV4mppAXcr3dY9CRAKquop1Q9r3QaTVR4TM3yPa9XuVN/jWBfZHc7GvsjmJ8DJqBp4bCMq39GoKgKjesPJqBoSS97A07QeY10W2EgpfYsZfqepfC/T+gjLOY9n2WdRIMxQWM/jsgzgY94EgVF9YG/oTasbmX8bCcWkNsXbtD4OxU1DS4cRaGo3hFY3ix9P67eriT9qWrXH9uhhMOVaw9m4Ojo5k8/4D7b9sCmqH+KKwpAnTEOJKBeza1yg6r7Ou4aMsg+M96t83UJhJqb4HocJxxKORj4w4Vhh87v+cDLyQVJJBOpYdQFHbslCFS9zL+Fa6l/wMK2DxOI3StcBp/qeQGBUH1xK2YA5cv2uDFgEUbkeQPr03oSZs7qiVStfjcrfuxuFVq39NG6fIIAWA8i1KjsbM5zbPVFNDf2zaP153AmJBgA8DJpT4fYepYxBM5f9Wtd7m7MJ7uY/woznTcvL5YfjQfIwuJp1R30H+jrnl6a8af5/mWqrAwGAZm7/NbA5ijQa8DZrgp5uyyhjjvJsj+6JydUr9+WkDSmlUbie+hdGVvnrS3flP4V060D5bQrqYNraUNl8nn1mlSgvWSzA1soU2XnFyMopqrTrfE50EWQAUMNmhtI8a8M61N6yr5EuToO+dBc+G1+jEJMy3e8GAOBt/jVsiSK1I91cf0M189ZUmZCsQ3A00uzj9HPCZMX5/wGB3bFjMcFHt/fGf4VK9wBy5uwMrWZa2pSV0qdLXeo4NSNf6/rf+c53FKlh2Qmjqh6EGdcWwcl/4n7GbuQKEvE8+wRCsw6hhcOEL93F73yiTFyMPEGq+oJaQECCh5n/4HYa3ULza0WtmlEoEqPj8C0QCsW0vJaNfLB6Xm8AoMzSrx6cCjNT+v6f7LxijJx9ELn5JbQ8KW5OVji2dSzY5ayQ1DHglz1ISSeFmIOtOc7sont2kOdAUAj2HH8AgK4WDL79Biu2XaHlhbyIw+wVpwAAJ/4aBzcnKyqvvJpx/Z4bOHP1Je267Zv7YdnMHrR0dfSduBvpWQWMefY2ZjirRrW6/+Qj7Dv5iDFv7YI+aN6A2YJR1X2S34ag6X0C9DeemNDlPq3acRUXb77WqH151KmT45OyMXL2QYjEEsZ8NpuFXSuH0qxwtaHDtO24sWWyQtrNZ9Fo37C6khq6QOB+xi6E5QQBAHwt2qGLy0K9tJxWdBZJhUdRJIgCwIIx1xVGXDe4mPeHvUknDds4j5yyB8gquQkJIYSlYQCqWs+BhWGAXvr4JcksuY6skpvIKLkKAHAw6Qw/uxVgabnf7P8FtWrGNoMDFc6NDHkQCEWQSAjcfxqLNoMD8dcy9Sqiq/ciVQoyAEhKy0PLARvgZG+BUzs0//KTCjIAyMgu1LheZdBr/A5k5xYz5t18GIXQF3HYtXIovNyYN8OWR9e9a1I6Dt+CklLl+3l+XXUG1b0d8Pe6ERW6jqaUH08WZkYoKCLNorUZT+Wp6H3SJ9P+OInnr5n30kmRSAg8DourkDCrTEKzDiEki9xk3dJhIqV+rCgEIcadhNogCPrHTLHwPYqF75FdSm7Abef1Tmk7RYJoPEnpSUvPLXuCZ6kDAQCOpt1Q0z6QVkYZEkKIOx9lhgzeVr/A22qaRnVvxWuvdlX1+5jaSy06g9SiM/C2mgoPi9G4l9AQBCQIcNwLW+OWWl//ayYntxirNgbjyfM4xvyfR7fG0AGNFdJUCrMZy/6lji/umwxrS8VNnE9exWPmn0H4eeFRjTrYrqkv5k/urGBxKEUslqDt0E0QiyVIyyzA7cfRaNtU/RfmwVMh1HHHFn64/iAKJy4+x6AeDTTqk77Jzi3G0F6N8MuI1grp0hlAUQkfP834WyNDkYfP3yuea2lcMnLOQUqQ7Vg+BHX8FD1v7Dn+AAeCQhAdl4G//32M0QOaatW+tuh7PEmpyH1aMKkzFkzqrJAW9T4NY+cdAQDU8XPFjuVDNG7v0OlQSpAZ8Lg4u/tnWJrT95dduv1G6UePlGuh79CpsS/a/rINt7f9gu2nH2J8ryYYvPgQTi4fCQB4EZ2My4/fIjTiI86tHYv1/9xG3WquGLPiOM6tHYv2U7dj6dgu8Haxga2lKXrP24erm8gZqrRdeaQGILWsumG633XQ9m5VCAK3P/orpFga1oeDaRdw2WYoFn5AqTAemSWqBWexMEZOkLFgY9wMXpaTwGWbIa34AhLy9wEA0ouDUSZKRQNnzawmX2eQm+QtDOuggB+OuLxtGguz6ja/gy9ORZkoFWWiFIgkRSgWkg4X2CweTHnVYMh1ApdtDiOOMwy5TkrbKi/IatitgqVhAxQJIvE2awHi8rYin/8cBJhn/f8F+vxE+vX8ZXxbDOzTiEp/GhaPY0Gh2PX3XaSk5WHOVNmzq1KYPQ0nTeu5HDbtxQMAPwR44a9lgzBlsWqPCgAwtFcjlfkcDhvXDk1F+582AwAC993USJjtPvaAOp74UytcfxCFLQdufzFh5ulqQxNkAPnSvBMSjaJi0qVWUHAY+nerr7KtY+efUcfLZ/fSqh/5haWIjSe9eexfOxy+VRxpZcYPboGU9Hxcu/8We088RFxStk5qUE2Iic/Q63iSpyL3Sd/sOkpui+DxOLh9TLlBTve2mrs0khKdkIG8wlIsGSN7gOtVd0W96q7oNXcvAOCX/i1ha2kKgiAgEIrw54SuaOhHWohyOOqXyPU1A2PidrzMIwuPY4OW7o91aic0mRyjxlx3NHVT7K+PQQ34WP9KCYR8/gsUCiJhbuBPa0eej/l7kV16BwBQw24ldQ2RpBBcNt0jSnncLIbR0qR9MDeojQbOx9S2AQAJ+Xup43pOB2BtJPvANOF5wsG0K8LShiGnlHnZ4L+A9B0JQEGQAUCj+l5oVN8LA0fuxIXLrxSEmUYGIBbmRkrz6vnrz5Ta0EC2xyE7T/VXKwBkylkvNq7rBSd72d6ask/utD43O1cMVZq3Sy4vcP8tpeWkJKfnUcd1/d206seouTI/fEyCTMqS6d2p45tyHlb0jbyKWd/jqSL3SZ8EBYdRx1cOTFFRUjMi4khXTGUCcixvmtEH9takmzV5zzPFpQJk5ZPPS1o2uWaYlV8MAx4XhSV8GPC4MOBxcfmx7O8rIQiqXVXkC1PxPOckJAxqQW0QiDNBgGyjqvVsnQVZfP4O6ri8IJOnmdttys3bs1T1+yjf58qiRZjyqoHHsQYAvEwfp1M/dSX2Uz9YLK6CIJOnvtORz9mlz44ma+SNG9F95qqcmRnwuBAIRcjJU73WZWTI04vw6DJqK3WsyaxswsJ/AADGRjysnEu6vvJys0V8UjZm/hmklXpIX1iYKX9Ra7pOJoWQyGxz2GzN1T2X70QgI4tcO2zWQDtHyQRB8wKkF+r4uVbaeNL1Pumbf849pY6NDDXbfKoKa3NjNJ+wGX9OIB31Tt1wCpHx6ajiYos9C8h1xVF/HoVQLMa+haT7ryqutmg+YTN1npFbhB5z9sDFzgK75w/C1n/vYezK48gpKKHalScy/wqup67HdL8bKBCm4cD74ahi1gwPMnajrnUftHb8hVZHE2JyVlLHnpa6W0J+yN0EADBQ4jxbihHXBb62y/A2awHj+pw8EjlXVgYc0uWTv906vEofhwL+S7zPXYeq1nN17rMuVLHSbftG626kk4i7wb8iN68E85eewvu4DDT9oSo6tvFHq+bM71X5euq4efctlq1RvcfQyIiHq6fJ3yAQiNCx90al7W/fexsnTj9VyKtW1REx79OxcNlpLFvYG1wu+fFWxhciITEH54PpBnYqhVnT+t64G0rqfQuLy2BuyvyitjQ3rrAwW7vrmsL0sm/nuipKk0hf2G2b+lIvj04ta2D3sQcIj0quUH++ZSJiZGa6mghQHpcDoYh84JPScuHubK33PhkZ8j7rePrcFBaX6d34yMXOEg93T6fOt85WdNha3pIRANo1qIZ2cnWGd2mI4V0aUufS9TJlvC98SB1H5l9FB+c5qGnZBbtj+iGuKFRnYZbHD1NfSAvMDWqrLaNo0UhA2fpfRsl16tjJlFQv2sjNilKLzn52YWZuoHqLEodlDDFRqrLMiJ/3oqCQFNT3Hkbj3sNonD8+FZYWyn2Efi38tW4o9h1+gJNnnqLDj+th+On9XlYmey8E1FLU4qhUM0pnOwDQZeRfWLD2LK7cjaSVk0pNbSkq4WPUnENo3n89zl2XbehtUs8b9Wup9g4tb4K96Jcu1PHIfk2oY7ESs+j/OnGJMi/u1bwcVJQkkRd4CSk5ldIngHk8ZTJsdNd1PH1JklJlqk4mg49vhfjiJ3Az+RSCKP8malqSz5ajsR+Eal6equCLSJUpi6UfPw12Jm3UljHlybac5PNfKC0XmSkTVD428wEo9lMgpkdFqAzKRCnUsbVRExUlATM1wq51t7Wo4euCu8G/4m7wr2jW2AcA0GvwVpX1NKF96xpUu3eDfwWPR24VkE+Tzsp0xciIhxFDyA8KgiCFWFmZEDweB/Z25vhtbg9sWauoeVM7sh4GzcHAKXuRnJaHe09ice9JLP7cGqyumkoWrjtHfaHL066ZL/6cRTe3ZWLCJ4s3Hpe+54LLYUMklmDB2nNYu6BPhfr6LZJfKFObMFmOlsfURFamoFC593B9wDSe/guUlsm2PxgbVVzFCACdGn9+Lxs2Bl5ILiH33RV/ijQslJQhpeQ1Bnttq3D7Rhz9bEUw5ChfB2aiVJgIS0MmgysCUk/x5V13eViOpSwjkwoOwc2icrev8MXp1LE6oc/j0GPoycNms7B2mWytcNWSvkhKycVP4/Zg/5EHGDOsRcU6+xl48Jh8N2ii+gQ0dGd18i9yETQyNhWx8Zl4EZGIj8k5KCgqQ0FhKYpV7GOSJ7+wFN1G0x+IOeM7oI8GakV5pK6r1synC6vF07phceBFPHz+HodPh2J438a0Mv9lXBwsqdmZJoY08m7AXMttcq4M5MfTjQdRiEvMRn5hqdbj6WvCxVF23770XseKMMhzC84mLaBM9KX/A8ChD2M+mevrjlCiHw89YkL1umt5lFkkRmbJwlnVsFutkOdj/SslzKJzVlS6MOOyzTQuK5IwOweQ0v/HhrQ0Nxdy+eDoydBvQph17VgLazYFY9ueW/hlfDu15bWa8/v7OMPfxxm9OihGIh055yBlBq4KeUE2fnAL9O9WD2Ymmnl3kGfnUZlX+MZ1vWj57Zv7YXHgRaqsKmFWWibU+kv6y5kYaEbjel7U3qvHYR9of6/yJKXJVGS1fZmjQFfGfZKOp/JoOp6+JpzsLSjjI4nk2/URyGUbor+H/qNCSGNlqXsJa0qxIAYwVV1Gaj0JACY8Zi83aUXnAADOZn3gZPYjLZ8FDtWOhBAqBMLVN0ZcmSVuiTAeJjwvpWVLhao35ftWUz5zla6PfwuYmBji5JlnOHlGtv3G1sYMp4/Q14v1osDOzJZ92WvywgvaPh7ODpY6X+/w6VAA5NqaMuxszKgZR1EJX6nQ/JCQhZrVZS/UfCVqthI5NZIq01GRWAKukv088kKjMundMQA7/7mPklKB1mo8ZZaM5e+TMjS9T6rQdjx9LQzr8wOWbyU9hRcUlam0bNUWv6XqPVnM79wao5qq3rv4pXAxH4CUwpN6ay+16DSqWKtel0kvukQdm/A8afklwnjquIYdcyQJf/t1iMicBQB4nfELAhx369BbzeCwZGutGcXB8LKiv7ClyKskmWB99Z/cqpEQBIaN34viYj5unJtNrcvNWnQCz198xKhJ+3FgxxiFOnpZac8vlC0Ma7IxsyKCTB5VM46OLWQLpDceKN8/Jb9HCQAyc5hVRHkFst9oaKD8G+DZp43BTMj3o7q3esMMXeFw2OjSSvUmUSnyKjFVv6v8fVKGpvdJFdLxZGpsoNF4+lpo01hm9nwgSLd9VBVh9dW7OPHs64yMYGUoc2JQEVUjh01Ox/jiDLVlM0quqMxPLTold8b88rc36UCpKHNKHzCWqQyyS+9VqL4qF3bfAq9eJyI5JRcAKEEGANN+JtXecR/pRjkavSlUmUmr87fIBJMFmzyqrBC3H5H9kVs3rqa03JQRbajjdbuV6/nlPYgUlwpw9tor6jwtU6YSkRdEqvYQSZ3sMiF12gsAGxbeZ5kDAAAgAElEQVRVbkDM2eNlax1DpikPDdHnZzLIqpEhD4c3jlJarvx9kkfb+6TpeOrYoobScl8jxkY8aiZ54uJzhLxg9itXmSy5eBPd/jqovmA5XuWeU5n/LPu4wvqZtjiZ9aaOHyQ0QW5ZqE7tNHSWuUQrFtCNyKREZv2KrJKbAAAX84GMZT7mk7MsVU6J2SxD1HHYDkBRbVlZmBmQH0SqrC9zSh8qzZNyW8UHfFVve6V5lRvdkpkcBrdu4RFJAABvTzuFdC8PW7goWddX++l870ksFqw9C4Dcw1Xd2xH1P9n3n7n6EhfkPI57u9sxtiHFxNgAJaUC9J6wEz3a1Ub9Wu7wq+qE4lI+Ql/G4+i5p9QXBZN/vZsPo/DP2ScAgIAa6j09sFiyP45QKFaQ8FKEIjE27r2J3p0CMHL2QUg+VZgzvgP6TdqNtfP7QEIQePU2SePrNe+/HmMGNkMdX1fY25rh+oO3OBAk8yHp5mQFGyu6O6fY+EzMXC57WPPyZbOcn2b8rVQFeGEvszpizbw+mLfmDBJSctBywAbMmdARnq42MDbi4eq9SJy4+Jwqe/Of6YxtSCl/n6Roe5/Kj6eubWrCxdEKxSV82niaM6EjYxs9x21XOK/ofQJI7x0JKblISMnBh0TdTbFvHJlOOT2Wftj071YfDjZmsLY0QWRsGi7cCIdILMGDf+dUygb1D1k5GLr/BI6O0dxhc47gI8SE8q/5AqFqtZYm+NuvR2TmHBCQ4EXaCDiZ9Ya/3RpauaySmygRJcDDYjQtz5RXFTyODYTiHISm9EBD539hYaioofmQu4laCwMAP9s/ae3Izw4DHFWHObEy+oE6jsr+nbE9fdHI+Szlv/JeQgPUsFulEEGgSBCNl+ljlFWneP5CUUMkIQgs+oOMjv3HQvraoJTuAzYhOEi5G7aKMmTsbhzbp7hp/vpt+nav5o19sP/wA9oM7OXrRKQoWa5RK8yuP3hLHV+7/xbX7r9lLPfn7J5o11S1KfH1w9PQbugm8AUiXLz1GhdvKQ+9cflOBLq2qamQJjXqAIDA39XPbOZO6IS1u66Rx6tPY9PvA2hlgraPR5vBgTh1RfYlxGax0KdzXWw7fBe/rj6jUH7ysFZKr9ehuR+mjmqLXuN2YL+SkCt7Vv+k1FM6h8NS6h1Dlxlwi0ZVsXZ+H/y6+gwkBEHdC3lYLODu8Vlq29LXfdJmPCl70QsEYhSV8BnzdLlPgGbuxTTlYdAchWgF8m6u5FkceEHjrSh/9uqIxl5uMDM0hLWJMUQSMSJTM7DnwVPciHpPKx+WkIK7MXFoXU35urI84bnnEZ57XqOyuuJk2hO5pY+QWkS+VNOKziKt6KzS8kzCDABauj/G7fgaICDBs1T6My1PG0/md8zLNFnbPLb6ZQ8Lw7oo4L9ESuFJpcJMF8/55WGxOKhiNR0f8jZDJCnC64ypjOWq2SxU8KpSnikT2qF1t7WwsTYFl8tGRia5nOBTxQHursxm/Q725mjTwo/yBiIPk3l88LXXSEjKhlik+X7evLwStO62Fh5uNkjPKABfIAIAjB+p+L7wqeKAHYHDMWnmYXTttwnDBjVBfEI2rt2KAAA0aVQFoc8+oHFDmYcjtfHMpCSm5OLo+aeIjc9EfHI22GwWPJxt0L1dLfTupF3soMLiMmw/fI9qiyAIuDpZoXmDqhjep/FnX/TPLyzF6LmHIRSJEFDDTcFZ7eodV3HlbiR+CPBCrw510KIRs1VUeY6df4an4fF4EZEEUxMD9O4YgHGDm2vVr1FzDiEmnlwbCP77lwptxr146zX+vRSGtKwCCARi1KzujGmj2mq1did/n9bM76MglLW9T9LxFPIyDtm5xTA24uk8nvR5n/SJUCjG7uMPcCckGnkFpRCKxHCwNUej2p4Y0L2+1u7NVPE0PgnDD/xLS49aqp+o1g8z9+JZ9nG9OCIWiLOQkL8XCQV/Ky1jxHVFMzfVHxjR2cuQVPgPY159pyOwMlLu3FwqeNwshqO6zW9q+yySFOBeAtleM7dbMOLSrX6VCTNLw/oaOxqWklP6kHEGZsR1QTO324jK/p0yqJEPASMVROuXD0QVLzss+OM0PsRnotkPVdFBjTurFk2qYcXiPkhKycWSleeQkJQDaysT9OwSgOGD6X4iyws9ZfvBpO6s/H2dsSNwOE6fD8PRoFCUlgrgYG+B3+b2UKr6LCsT4o81FxD28iPj8oT8NTUWZt/5/Dx7nYDpf5AD9mt6SX9tfL9PJMFv3mFWkKJDg87+1bB5YMUjIbzOu4DbaVsxzY8+u//O5yc8YzK1JsgkzFYs7oMWTZTbFPwX+XZMxf4PCfBj3vP1HUW+3yeSbrXoM4Nrb2MQnV5xd0y1rXp+F2TfEP+PU5TvwuwrhslgRd8Mmr0f3SftoHTXoeHxaDVyEyYsJdUiO048QLeJOzBtZRAAoPskWQiOjuP+osq0HrkZCak5uHQvAlNX/ovrn8KNjFt8FIGHbqPViE1oOnQDek3ZxXidivA57tO3wuTWig4CCALos4tZFff/QlExGR8vNaMXiksvIjWjO0rL7uBjsgfK+E9AQASCECArdyYSU+sgNYNcZpCeFxTtQ3HpRQBiJKbURnomaViTnTsXSWmkD8WElM/veuxrYd2Wqxjzi3KV8efiuzD7ymEKYqkvBs7ajxMbxuDSjknUnrB/Lj7DvYMzsHvpEIjFEtSs6oTgnZMQOK8vLt+nWx1Jy9w9OB2T/2TeFDtzRFusmtkLZiaGOP/Xz7Tr6AN936e+E3ejw7DNn22juzxpeYWo/+sWiCUSBIdF4UlsosZ1p7VtRksTSyQQqPH6oC5q8dv869gXO1jjfnztpGcNhadrAkQicvtEcnoLGPD84e4cDr6ADOUjPTc1JoVbQrIv3F1ew8H+HxSV/ItS/l2YmfQFAJib0oNz/r9w8corvI/78h57vguzr5yL+ybjYdCcSlkHSk7PQ9OhG9B06AbsP01u8q0hF8gzOSMf1TxJAxEOh40PSXR1lXwZ708GDYQG7pxqqAgYqgv6vE/bDt9FelYBSsuEGDRlr/oK5ag9W9Fbx7+Pw9Fj9QG0WboLfKEIZ55EoOH8rZiw6zRi00hnvq2X7ELt2YFov2wPzI0NYW1mDIFIjPpVXPE6IQ1tlu6i2mu6SHFrQnnqubvQ0iYeVW41CABPslQHfMwVJKBI9Hm8x1cesnHp7hKO5PQ2yC0g/TGKRCngcck1JhbLEARE1DnnU4wzCUHuh2KBC6HwHYwMmsDUZABKy27A2KgTynMr3he34n0RmlI50duZkHqtb9n0862XSa8JACXp2vnY1Sffhdn/MfPHd8TBlcMxaVAL9O1IDsJjwc+RnlWA209i4OFsjdlrTyM6PgObDt/BhAGkNebDFx9w5MJTCEViqkxWbhG1eToqLh2PX8bhTUwKPJTERpO/ztdGXbk9jPLRy3WloJSPi/NH4c7Sn2HI46LPDzXxbPVU9PmhJoZsJqM/3P3jZ5gZGeLm4vEwNTTAzvF9wBeK4WRljrHtlFvlMfH3iH60tEcfVPvyC8k6hM1RHZT+e5pdcXXwl0QgjIRQFA0+PwQ8bhVIJAVwtDsKY8NWYIELK4s5yM6dA5E4FQQhBAtc6jwzezwAwNJ8KgTCN8jJWwwri3kwMe4GHtcbhUWHYGTYGCIR8z1Wtbn7v0hpVi+UZnUFAEiEkSAIxU3RgsK1KE6rDonoAwCgLGcoRKXnP9XtDUCMkvT6CmUAoCSjCUqzZOG+SjPboiS9ASANrkp85zvf0Su1Zm2kjgUiEVFr1kbq346rj4kSvoCo/+tm4nVCmkK9Jgu3UceBF+8TfKGImLLvLEEQBNF6yU7GcsrwXbKR9u/xhwSl5UUSvsp/N1MDiU1v22t8D75lPibXoKUVlVzQup24vB3EnfgAIr8sXB/dUuBV+iTiZlx14mZcdSKr5J7e29eV4rQAgiAIQiIpIERl9wixIIKQSIrkSggJUemVT2UbEMKSIKI0ewghLDlHEARBlGT+SBSn1pBrrwFBEAQhFrwiCAmfSi/JaE27tsLM7MCH+VgZ0R+h2RdAgMCyN6SuOKU0FttiJilIV2melAvJf2Fj1Ehsi5kEgpDQ8mOLwrAhajg2RI3AzfRDtLYkSkKbfyh6ia3RE/Dnmx/x94d5eJZDj6VWJi5CcMoOLI/og12x0+TSi3EldQ9WRPRFUOJalImLcDtdpk4p38dlb3oppBWJchV+07GPyyBS4SXhO8p58TYJw+cfUl/wPwaPw8GaYd3wesNMvN4wE87WFrjw7C0uLxqDWu7KVa3xmbkw4HJQ35tuqVkmVB+FO8CNvjH/1Is3SstzWAYq/xlyNA9P8h0SL8uJaO35EhaG6qNia0sdh+1o5/UO7bzeUWb5XxMsljkIMd1PrUSUCDaP9HDC5vpAIoqmlZGfybG5Pp+OxABLJq4koniA4JP/QBqvUR5AtkZPQDXzhhhVZTU+FkdgTaTmi72nE9ejWJSHKdV3woBtjA1RinF/HmedxdOcS5jtdxgA8LE4QuO2C0U5mFp9FwAWCoXZOBT/G8x5dvA1l7mYWft2KIw4pvitpqIXirVvh8CEY4FFNU9DICnF6shBaGnP7KeNiY1RIzHf/wT1m4pFn88YQCwhsOLybRx9+kp9YQCGXC4mt26Mcc0bgcOuHI/ZzdfvQnYRs4cNdZtz69Vww+HV+okHFRqXiKuRMRrfmybe7mhaxaPC94bJc/3EVo0xo52i0YW7rRVG/HUCaXmFuPbbOKTnFaLjn3vhYmOBg78MhIQg0HHZXnA4LPRs4I+pXZuh/R+KLpXWDOuKjn/uRVpeIdLySO8Nw7eeQGRSOlYP7aq2r6+SUmlpF8KjsK6v+rpMWPAcacEr1V1/4tFzyC1RHZ3aw8YKO4f+iCp2qoNNqmPllTs4FEL3Z6jLpnEPF9LQif73DsSq3p3Qp25NeiUtCY1LxLwzV5BWoNpPrZQm3u6Y2b4FAtycKnztzwFBFIHF8QAASISvwDEgnxE2xw1i/h1wOO6QiGLBNRkIMf8BAHKSwGIZAixZtAmJiDnqB5vrDbDIqByi0iBwjfvLhFmuIA1dnEmfWZ6mNTHSeyX2vNdsILzJv4fFtWSucEZ6r8D2mF8AAO+LwnA9bb9Cvqep5oMhwEoWlI3N4oIFFgRi+gu1hgXdigsArA3IP74B2xi1rdpofN2YwmewM3SHAZs0KJD/TZWJUCxGk7U7UczXbgbIF4kQePMhAm+STkjdrC1xZPRAOFno74tamSADgNMvItC3XsUfclXsefAUG25o77k8JC4RIXGJ1L2Z1rYZzYRdnwQvVHTDNLptQ4xuKwuWyGaxcHPJeIUyN5eMR7/1h6lzQy4X138fR50v6NNW4+sXqRg7sRnZ8HHQ3vNIbaueqG2l3vVWbEY2emzXfAaekJNHOUa+Pn0M3K31E1Hja0QoFuPA4zCdx/CgveS6ZWU82/qkNOtHAAIY212GRBgJFtsJZdn9IBGnwMThMcSCJyjL+wXG9tfB5nhCLHgGQcEqCIuPwNDyD7B5NVGS3gAEUQhj++sAwUdp9mCAIDUSps4xMLa/jZKMpmBz3GBkS3q+Ueqb0d7IXecfY2Mgs6ZKKSUl67GPyxTKtLQfBDcTzfZmfCx+g4Nxi8BmsRFg1U5jodTLdRoupWzHjphfUMOyOcrERQBPM/dNWfxEOBh5UOfyv6kyEEsI7LgXgr/uhKgvrAFJufnYcOO+zl/i5TkYwuxfUMrCc9cqTZiJJQTqLN8MsZ6CXm65/UipMJMQfLBZusVhqyin5gzXSztD959Qmjfi4L94NHeiXq5TnsnHzuPWO7qfSE3puJmM7vBy0VQY8fQSavGr4a87j7/os/00OwgsFgt30vdgTg1ZaJyzSUsRWxiCLi6zUCYuxJ303ZhT46rOfTNxfKlwLlUpGtnKookYWCyCgcUi6tzQciVgqehn0sTxucK5qdM7kOpE2bgwcVAMs6TxiMnhp2haFBl8ma7UzZgUWEM8F1NpKyP6o4W9ooPQ1LL3cDWm+w2LLQrDmcQN+L3WWa0DztW17oC61rKwFQ8ygyCUKDqoFUrKwGPLprWsT3pZe0MPhOXKPB7I/yZ9U1jGR6PVqs2tvzSrrtxVOG9axQOPy1nISQgCbD27gf9c9ya9YCcMuM7gsCwQnz0dddy+zrhgmqDK40dOsWq1n6702nFYL55GAKDuiq14On8yzI2+zEeFvvlp/0k8T0j+on1oZEs6ZheIS/Ch6AmqmJHLNKml71DVrDFqWZJbC8y4dkgofgEP03pfrK/KUS2uNBZmBAiklX2Ak1EVCCSK0ZhrW7XBobhFGOS5CIZsExyKkznu9DYLQHvHEfgnfgl+8voDpeJCiAgB3E0UY1X9m7AaM3z3AWChRFwAEw5pEp0nSIObiS8lyLL5ybA11Mx9kVDCx5PsC2huT/4hH2YGYaDnQoUyW6LHY7bfYeo3+VuQ5uc+5g1w9OMf4EtKaL9JnxAEVL6sf/qhLhZ0bq00ejVAqmouvXmHHfdC1W6O1QWhmN7mzqE/ovGaHSgTiqi0uacvY0O/bnq77qygYAS/eac0X929EUsI3I+Nx/5Hz/AyKVXlvUnN34S67lGQEHzUdLlf4b5/KfY+fKZw3r22L9ILivDsY7JCmXHNG5avqjNzT19mFGTNq3piYqvGaOTJ/LwKRGL8uPMw4rJyaXmNVm/Xm5PkL8msoGClgszCyBBbBvVEE2/lWjD5MfwkXn0YqgeZBxCSdYyaXR2Ln4UhXhupfG+zH3D84yzM9COjcE+qdgwJJa+w/m1nAIC7SR0M8lwHAAjNOoY3+TdQJi7EUK+NsDaQbVm5lb4Dkfk3MaV6EJWWWfYBodknEF14H45GPvjJawsA4FTib0grjYaNgRtcTWqilcNYpe2vf9sZc2pcxfq3ndHaYTwa2fbHrfSdaOc4EaFZx/Aw6wgM2aa0/gBaCLMqZnWxJ3YmnIyrIE+QAS7bgMrr6DQaG6NGYvO7sbA2cIaHiT+iC59Q+c3s+uJm+iHsez8HmfwEOBv70Nrv4zYLgVGjYcazRkbZRyyqSYaJqG3VBsEpO3EwbiFyBWkoEGZhjt9hmHAt8aHoFSLyyWCdCSWRuJC8FQDQ05UMmxCedws30w/hee4VGHMswJeUwNtU0bLIkueAPe9nUr9J3kDEysBB4TcllNA9YFSUAyHPlebN79wao5rWV9uGh40VJrVqjNFNG2D73RDsfvBUn13ErXcfaGmGXC4ae7njbowsAOWNt7qrmJhQJsgsjAwxuXUTtfeGw2ahTXVvtKnujTKhSOW9MTGoRR2LJHngaBAW5Gvk5HPFkCdV7WzhamWpIMxOvXijN2F27OkrXAinB4K0NTXBvuF9VdY14HJwcfJIBKzYAhFDQN5b796jna9mUSq+VlSN4XuzJ6hVp8qP4UcfErDs0i3EZ9OFv6a8yD0HMSFSSAvPvYSJ1f6BGVcWj5KABPczD6C6eQtYGjjhSNw0TPUl38liQojI/JsoExcqtHMkfhrYLDZaOYxFyqd3JV9chITilwiw7gahpAzvi0LQymGsyvaZkJZv7TAeJeJcxvLUnZQ30AAALsuASnMx9sEwL8U1L3nMuNYK9SWEGMsj+lDnLBab1r480ryZfgdoeYZsE6V1q5gFoIpZAF7kXoeHiT8lxKQ0sOmKBjbK9cqq+gQA06rLvD+U/036gCCANVeZw6O/XTJT68CNRjwuZnVogVkdWgAA3ulB7ZNZWIxZQZcU0iyMSbXssp4d0HqjzAqPL1J8SCrCgD1HGdNHNa2P+Z1ba92e/L2Rn01Kqe4YhOziINiY9gaPozwS79dOQo6ixe2IJvXAZrGw+77s45JpJqQrf1yih2nxtLXC1anMscjKw2Gz8Ob36aizfAtt5jz52Plvenam7zHcrIoHrkwdBUD3Zzsy/ybq2/RGFj8OdoZkrLuOTtOwLWYgLHlOGFllB7gsQ5z8OA/Tfc+DxyZVvSWiPOQL02DJc8LpxMVgg40fbAeiQJgBC54DkkreIMC6G9o5fgqAa0Nu3A/LPYchXhvhZEQuIW2PIf1aKmtfGar6I+U/4QHEhWGm9y3Qact+xvSIxTP0EoHY11F15G9NGHkwiGZ4saQ7aWHqyGBNte56xVV0YokEr5PpkY0be7vr9BIoD9PXcGRqB9ia9gcLXBSWaW9t9jXw153HtDQzQwOYGNDjA559WXEtw/C/mX1xairI5An/bRpjOpOw/Bao7DGsy7P9ruAeurvMQzvHSTiZMB8AkC9Mx9bofpjlF4yxVfdjUxS5zzZHkEgJDgCwMXBDroCc3X8sDkN/j5Vo5TAWxz/O/tROKmwM6OpSMSEElyXT4lnzXNW2L0XeX6gm5f8Twmxc1Y20Wdm3QGJuPi1tcuvGlbZPTBc+ZOXQ0rrLhRopvz9o38NnuBNNV0tqw9jDzOqGgyPVRxfXFX/nG4hMbYs3KU1hzKuhvsJXSHlrOXkzd09bK4W8+Wev0mZx2vL0I30taH0/3a1nfwyg3/djGu4l/NpgGsOTWzeu1DEsj/iTGXsGn7Qmz+LH4ULyCtSwJD9EpSpCQ7ZpuZrku6ex7WCEZh+nUh9nHYOXaQN8LA5DW8eJcDAiJxBFIvL9UMOiHe6k70YWPw6aoKx9eRJLXkEgKYURx0yj8pUizNgsjloV3reG9DfJf2VUhCOhLxnTmbyefymY1kJ4HMVwK0wvr6knLlbouiFxdC/x+tioqooyYTQAFtysFiMpV7lK/WuFSTBtHSTbF8ZkmMMUmVpTbkYxr4/2qO2nc5tr+nShCV2g8iwwK4sjoS8Zx/DneraNOZa4lb4Dm9/1QhuHT1Eq4qdTFowA0NN1EcJyzsCIY4YZfhew//3YT0YgBJ5mB6G+TW+IJULsez8W26MHYlQV0tH16cTFaGAjW27p5boIYTlnwWZxMKLKdjzNPoXAqO44FKd6T66y9gHgSPxUNLMbhq7Oc7AzZiia2v1ElQ+M6k4rL6VCmzlKBUK0WLSD0dpt69gf0bpmFYW0OrPIHfXhGzXXg9+JeI9p+5gF48WFo+FhJxv8BAEEzKZ7aTg4dRB2XQvBo3cflV5bWV1l5Xus/BsJWfQXiLO1Oa7KbXZVBpM6zphBHfQlmXfmCi1tdZ/OCuf+zvR9e0zjQVPEEuZQJMt6tte5TU0QijPg70yqtKxM9LM3Txv69ArEsuX9ceP6G0yf2QVsNgvt26zEzTsy69vRI3dj0W8/4vq11xg3oS0Vx00gEmPQ3uO0Nv2cZGt/tVzorrPSNfQ+wcTKK3doaQbciseV+61rW4w/oujJZ/2N+1j5I90r/dfKl3y2W9iPQgv7UQDItTAp030V36Edz5J9jB9O2keMqbqP1lYz++FoZq+493Gmn+KHqo+5TEDbGLijq8scdHWZo9AfeeQtK8u373V4NQDSOYABJw1rmqRgmu8ZpeXLo7MwE4rFaDyfDM44v09bDGpeBxw2Gym5Bfj3UbheTMRPPgrH8qCbsDQxwt+/DISPsy0kBIGwD8nYfT0UecWlCsKs+aJtAIB/pg9BbU9yYfBNQhqGblLv8bv5p7Aa9hamuLmU9ISiLFqrVChP6doMY9o1ApfDRlZhMc4/jcSW4Ica/TYmY4nhP3y58AnlIQhy31h5ujNEM3aztkRSOZXpist3sKhrG62ve1rJWk75GaG+icti/pKs4/b51Fy167ijdh13XDgfhp69FC01k5NysGr1QDg5W8GnmiN277qFCT+TKqORB4NobqPaVPemtV/d0Y5mQn849AWGN9Z+T1FyXgEtbUD9WgwltaOljxct7Xz4W/zRo32ljwF98bU/218r8cPJdbyQ9AQMvnYUMx9eQCf3ajDlaaYN01nNeOA2uZ+ldc0qGNqyLjhssikXawtM794C7WpX3KR2zZk7AICgOcPh40y64GGzWGhY1Q27J/aDl4NieJGiMtKNj1SQAUAtDye0qOGl9lpFZeRm6nl92lBpTEYYSdnkS9vbwQYTOjam9jjZmZtiTLtGuL5Y/axMGdX1YLChL559VL+nRUpnf3rspAuv3+p03Q+Z9DW6z4GHzSrYm4+Gq/XvYLF48LBZBQ+bVV+kL0wfUQQB5gEJ4EUi3aFBv3p0wdKTQQV46oXmflLV4WXLHO6noojEEr1aYH4JvqZn+2uniaMHbIzIYLt7Ip+oKS1DZ2G2NfgR+f/YHxnzpcJNV8QSCYRiMbo38IOjFbMPMqmJuDq2j9fMpN7K1BidAuheSOTp/8l/3rn5Ixnz7SvgL62Bh2abwT8HExiCOY5p1oChJDC3I91rd15JGUNJ9YQlfhlPCXHZ0+BsOQO2pv3h53QZVibdYGWivw3gmhDxJgmBGy6jew/yK97AgIvIyGSEPY+Dm7sNFs4/gdiYdGz/6wbGjCEt4koEzB70O9agW/iOb0GPixaVpr8IwZU5fl8yOE7+lvianu1vgcd9J8PSwAibwjW3LK7QmllVR+0dlmrK2SfkF+O0bi00rsNmsSAhCJ3dKmliRVjCVx9+Q1eYTN2/FKUML8lfO7VSWp7Fos8o9j18hrFabs5NyqWrrz4Hvo5n8CKxKngcBwBs1HLRTF2sT2rWckPNWjKvBpev/aqQv/8Aqf72qSZb//qJwQ+jKo8SRjwubZ9d8Jt36MagPtaWypqZAfrdG/cl+Jqe7W8BQw4XRzsOQfdLfyM2Pxs+luplTYWEmZtt5XlJSM0lTUdn/n1BZbnjs4ZSxyGrpuCH+VtRd/YmuNhYoEPtarA2M4a9RXnz04rBYgGDNzJviASAad2bo5mvp9bt+v+xqSLdUoq2G0833XpES1M3017eqxMWnbumkLbu+n2thVlBGZ8xnSn8SkWp6eKIUxPI8WNiUBv13PXrweRz8JZhZrVnmHJNxKYBPTCx3Kx7zqnLehFmTPvZ9EV+mXNOcXcAACAASURBVG4z/a+Fynq25cewLlxJeIf5IZeRx5fd3+ZOXvinIz0EWGZpMRoFbcXB9gPR2qUKLb88BADvw6tp6UGdh2Hz64e4nxKHd0PnwJDDLIYOvyOdmw+9fgxP+k9Re70KCbO4SlzfkArKyCT6xkNlGBlwEb5xJsI/puL4g1d4HP0RxWUC5KmJqaQtBKG6X0yzmm+JnfdCaWnr+nZhKCmjX72aNGEGkIvhhlzNh5mJAQ/5pfr3L6mM18kNUdv1mfqClcyZ89p7ujjwmDmSgSpDCSbDEAlBgCCULslpjFgiqfDygjK0GUPf0ZyJd8+gjWsVHGhHuvEbdzsIN5JisfTpdSxt1LFCbdc+Tn6Anu06AnXtyKgjr7JS8ePlg2rrHn4XhuOxr9DE0QMh6QlqywMVFGYJmbptutTkwenV0B+Lj1/D+pHdGdexpBaFTNTxdEYdT8VIu3VmBerFo7uZkQGKygSMJvt/33qGwIv3EeBFj/L7raBsZqTJl7udmSmyiooV0iYdO4/9anz0yeNgbor80s/5Fc7G6+QfaKm1XTVbeNanCy9tWX31Li1Nk7AgVe1t8L7ch+iCs1dp2y60Jbu4BA7mlaNOszExrpR2/9952HcSXE1lGra9bfujypE1OBD1vMLCrEhIvkukggwAAuycETZwOuqf3Kyy7u9PyA/jwx0Godo/63D4XRiG+6r2xarzZ5SLDenVvkCHF8+VF8o9oUthf1q/Ov9UudsdqYWjppgbVzykRI+Gyr1DPHwXD4C0bPxWUeWlXh1M1nIhHzT7qpLyOdcWuGw2ars+YfynKYIvKMyY6OSv3rVbrzr0MXwlkh6+XltydTT60QSHb/iZqky4FZwJywsyKfXsKjd2o42h5h8mPDapZfj3vfqQTDrPzIIXjUHd2ZvQYtEOTO3WDCPaNIAhl4u4jBxsDX6IjaOYo9JyOWzMOxKMp+8T0bNhDdTzdsWbhHT8dfkhdv6s+AU/q2dLbLxwHxsv3MOsnqTxQVGZAG2XkLu/T8z6idZ+nVmBmNe7DYa2rEfN/sZtJ8MU/NKl4jvwF/Zth+MPXqHunE24+ts4ytLy0N3neBKTCF8X3Z3UHhjZX+XivTrmn71aYZ97Sy/epKVNadNEo7rzOrfC348VowAw7VVTRX13VzyIpceOq6jDWaZ7Y22imTWsKpjWrD4HOxhUwYBm6rifW/5ARd2WwuR8WVteJKboxR8oE/W/cWvAij7bAPO6sT7GcHmGVquL55nJiCvMhbe57kY9uhrk7Y8i1f4OxuS7tbGjB0I1UDXqLMzYLBbC1k1Hi9+2Y2vwI8pUX8q2K48YhYefqwOOzhiCurM3Iejxa1q+PKPaNgSbzcL6c/dw4LbiS/Lm0gmMawMuNhZYc/YO1py9o5Be18sFg1sEKKQde/ASq07fps6zC0to6suna6fSXhDhG2ei6YJt6Lhsj0L6D9XcsXeS7r7X7sbEVWjApzBsZNUGpkjO9T1cMKVNU43b4LBZtHYWnrumsQeHHwNqYMttugFKRWG6NzWdZVaBxYIXMDWoh+j0vuCLPqK2q/LQPPKEJWgetFafbGYw0lndW3M1oSGXS1ORrrt+n3GbhaYEv3mHwQ3r6FwfAIr4AlpaTRdHVHOoPMtpbdA2QLCUij7bypAfw/rCydQcAJBeUlghYRYxeBZqHNuAKkfWAAA6e1RHXVsXOBirnmUve3oDLAD/dh4GANjTpi/qnNiEm0mxaO+mXPNQoTUzLoeNkFXqrUykyK8zvdwwQ6M6I1o3wIjWzPubmLjy21iNyw5pURdDWpB7eurMCoStuQlu//GzRnUfr1Lte0wd3Wv54lI5ld6psDeYp8L8XR3hycpDKGjCjH/pPhV3Du2tVRtr+nTBnFOXFdJOv4jQWJi5WlkwplfEuEAsIRjvTTtfmUXW+4yRqOMWDm+77eCyv44XpzKYvG8AQO+6/hq3sXlgd0w8ek4hbd/DZxoLs1bVvHAvJl4hTZPgkepgMj6a2JK+pqkpSbn5cLPWn9W1qaF6bxSV8WwzfWgCimNYX2SUkOvejsbMKv/sshKN2jHm8hA/fD5eZKXgaUYibid/wJHoF8jjKzfIy/mUt7llL3iak96dLAzI2efEu2cQ89NcpXX/E17z9UFl7pljYlHXtrQ0ZcYXmsKkKtJ0s+ahkBe4/jaWlm6hZej6HrX9GJ0Ca+OhnUlobbihe1iWMy8jGO9NTTl/hUa8aijmP4dAlIzIVO0WvssHxKxsBu6hu2cLcHNiKKmcNtWrYFhjuoul7CLNXlS/MYxfQHu1sjyvk9NpkbIB5g3gmvIrg3/RiuBhQ3eEXJ5FXdvSxnBFn+0zL5k9tdRk8LlZUY7Hki7cvC1sGPO3vXkMbf7K9excMMG/MY51HIKHfSchYsgsAKR2T7omJqXv5UMAgF5eih9mQ6rVhVCi2sr5uzD7xIyemm/O1gc2psyLoIdDX+jUXpoSp7HLenbQqD6T49gRTbT32QeAcRY28mCQxi+6TQO609L2P9JM7cfEkos31Jap7ngKpob1YWIYAH8X9eXlWXxBu/IVJbtYUeCYGRrgwAjt1dtMAmnkwSCN6ip7qQ9gELSaMngf3VmydQWtGHVVA2cUMj9PmqwJ2pgaM45hXZ9tQLMxrAu/Pg5WOJcQBELTE1SucSUV5VNm9+r4UEDfviX45Ii8qaMn7TrxhbmMBigrm5Bbg/58Rl/Tl1Jpwqx+8G+M6TfTItDy2p/ocXsD5r2QeS/odWcjOt9ag2IRH4MfkA6Mn2XHoX7wb9S/jjfJDXixhekK6U2uLAUA3E5/q5A+6/k/jNd9kRNP69cPPu6Y0vXzhl9heiHseaDbnqcTz5itfaraM39daULvAM3VVvIwPQep+YWMYTGYaOfL7NdTVyMFJhVNPXcmiy0WWOCCpYP2nSkQY2VQ3qQeIGfD+vLKHpuZjVdJmqmrrRiMDyJSdL8PTBETdP2gkueVDq6wKjrbZhrDex48+wxjWDtOxoZj+gOZR/0Jd04BII1AlLGuWTcUCflYGHIFpSIh8gVl2PiKOShvu3O7sT/qmYJQG3mLDOra2UNxy1VWGaneHFxN0bYBALVSeTYuAiIlkTUUhNnDLOYYW/riZe5H3EiLwP1Ov+Ni29lYU48MoT077CgON5uIq+3mYW3kRUQXkA9TQ1tvhHVbDgAI67Yc19uTXpV9zB0R1m052Cw2wrotR0iXpQCAto41qLSwbsuxscFPjNf1taQPAmMDHvo1qV2pv788l6fQ/TtmFBZp/QUnEksYrds0UYkAwLXIGMZ0pvAumlLbla7+mHzsHENJOhw2ixb0EwDqrtiqdT/67Wb21HJk9ACF89fJdL+F2jBgz1G0DdxboTbUUSYUYQjD7GVpD93D4zTypKuhxx4+pVHdm9OZ16f77DyidT8CljP/bSe1aqx1W+UZtPe41urP8oFOtYVpDGcUFultDHvYWNHGsLbYGpngSIfBeJj6EV6HV8Pr8GrcSIpFMydPLG+s3Jiol5c/4ofPx/HYV6hxbAMCTmzClvCH2BlBv2duZpZY9vQG2p3bTV3jcdpHNLB3xYhy+8Z6f1IxDvKhCzMAqGnjiOyyEky+R/cbCwAsgpD9lR9mvURzO/2EKqgf/BsliKRM/B97Zx0WRffF8e8GnZKKgoCJioEBtqKgKKHYLbYY2K/dgYkodqLYLSoY2IqgKIqKKKiEIEh3bPz+GGFZNma2wPf3+nkeHmX2zp27y+yce88953vCjqFnbSswaDwb6ljHGvEF6Vj4+gxWWA8Am8vBnFcBfOcK6wsA2gWtxCsnwUKKnW+vxbM+K0mvq61U84mYK67fxYXX7wWO97duIrSgYlVScvJEPkSjV82lpOrQfK2vwKy4c4P6OCJBsnNVsgqL0HHLfoHjkoTYi5KwernYE1oU9vIGHzyN90JWCnYWpjj+u+LvxxR70KCEUjZ/8EKreoJ7FMLGE7lslsAD6tKUkZT2Mg4/e4UrkR9wc4Zw0eqqCHs/6spKeL2UehBWVfKKS9Dee6/Acap/p8kBV/Ak9rvA8To6Wngwl7yCBJvDQcv1u4Wuyq5PH0NZbX5j8EOceCF+EnjDcywaUoiKbL52p9CV0PiONljcpzul8ZQjyz2ckpOHWecChd7DVL/b/yX4/CkH4y6gmbYlFr7dgYPtVmJ8+Aoc7bAWMyM2Yk/bZXiV+QEaTDWYqhtjWdRu+NkshWfEBmywnoUFb7djf9sVUKKLdtGYaxqgo0EjmGkQN5Rn+HH0qt0c1rqmCLYnRFWTCmWXyLreYx4mhB7C0Y6ThV7X5tZy9Kqt2MrFVFnn6oDb0bECyec3o2JwMyoG7erXhWc3Wxhra8FcXxe5xSWISU2H38NQvBJSth4g3Hy7hrpQvtmFPUj2DHeV+L1URtRex7a7T7CAYsTcndkeGHzojMBnU/7wLf9smtQ2RC11NcRnZCM1L5/0szleqXR9eUFOaVFVYmJJ3+7YFMxT4yifSdfW1kRvq4Yw16sFJQYdyTl5eBoXL+CKyy8phSaFKDlhD7XK70UaRD1Qdz14Tqky8qHRA/Hux0+BoJSUnLyKB/n4jjYY3KYFGhjqg83hICr5J2JS07Ht7hOhofgAMNq2tcxlU0a0b4UzL3n16Jz3EjN/67rGmNG9I2zN60FVSQmJWdm4+OYDwr4liHWxSmrIAOIedtx1TOB4e++9UGIwMLlLO/Rv0RS66qoV9/DN959w4MlLkUVudw+j/t3+L8G3MgtJDUMvY1tMDF+FwaYOeJD2Ev9YeSCtOAuNtepXrGx8P5+CiZohOhu0AYNGh7GqPpZF7UIjzfoYb0GUhLENXgUjVR0Mq2+LmNwUrGtFfOlsbi2HV9M+OBcfhoySPIT1XQMAGPx4F9xN22HfF2KD74njiopBCluZvc9OwvjQA3jltI7v+L2fxIz6YWo0OuhbwrWejcB117caDBs9c7l9iPKg3aY9Ir/YkiLJ6mfVjRCh+22yJinLs++a+myqImyWXd7f1FNX8ejLN6n6HdC6GWmOWEBYJNYHPRA4Lo+/07pbD3AqXHCLQZK+Qz7FYcZZ4RXhJcWtlRU2DxSvBVoVYSuza9OJqsRu+07KPKbDo93RpaHk4uEAEYQyUkh1A2mY2cNOorzP/xJ8xuxsQhCGmzlh4NM5WNl8GtrUIuSJonO/oam2OYJTnuFyUggOtV8FAGBx2YjI/AhbfWuMDVsGDws39DSSPidEFKLcjP9vZBcWw27LPqnP19dUx7MF1PLkyhH2gJ7atQPm9uos9TjI+n+xaLrQ4AFxzDx7Hfc+Sa9qT/bZZBXeREFJBDRUCDd7LXXBlak4YwYQkWDSqqOTGQ5h1x7Yujk2DaCWv0eGsP7D/5lOuWYgAKTm5qP7jkPkDUWgr6mO9S4O6ClF7lRVY9bE2KDCmAlbOVKFQadhjXNvDJaxiras320A8B83GLYKSLz+f4EvAOTuzxfIKs2FnooOWuo2RnLRL6SXZOH2z2eggQZVBuEKKWAVITI7BkwaA/7fryOzNAeqDBV0NaSe3PwXQXTVVYWG9FKBRiP2BOSBtFGMVLkR9Unic/yGu8JAUzp9vkFtmpN+Nml5h1Gv1krUUncVasiEUTWsmE6jSf33k4ZhbRUbsBQYJZlOp7G2JuXk+KrQaEDQjHFSGTJhNDHmycq1rFtb6lVVgMdQmQ0ZwPtuy3IP/zVk4uFbmf2JRGUnYtzzA0JXZgMf7cSV7tSURP5t3I+Jw4JLQSIrCZfTwFAPe4e7ob4+tcjFyux7HCZUFkkerqtyRh09j4gEwf0raa/BYnOw4HIQHn/5RvrZzOhuh1k9qblkPiR3RXOTRxCXrVJ19dKybm2cnzxCaNsd957i4NOXYq+pq66KtmZ1scHVUexK9eDTl9ghJGn8T/47hXyKw8LL1O7fQ6MGwkSE8gtVqq7MjoxxR+cG/AaMywVmnL2O51/jxYbIM+g0rOxnj2EySnOJovweDv4gXty5gaEe+jZrTPke/q9T48YsOTkbkW/j8f7DD8TGpiI3twglpWXIzS0Gk0mHqooS9PQ0YFxbB5YWRjA00EKzZnXRpLFkigc1SVFRKZ49/4Kw8DjEfU1DUVEZsrIKwGDQoaurDgN9Tdi0MYeJiS7sbBtCS0v+4qF/ISev+DnYXKIorK6abOVQ/iuEh39FYlIGQl/EISUlG5lZ+WAwGDDQ14SZmT7qm+mjW7emaNRQ/koVf5EfJSVlCH/5FRGvvyMhMRM/fmSioKAULBYbZWUsqKgoQVtLDXXq6KJBAyMYGWrBxsYcDRv8OX/Xajdm/ieewv+k9NJEwujUsRHatbPAAFfx9W6qCzabg3UbruF5aCxYLOkLTU6bao+hg+W/B1kdREUlwmveKfKGv5k8sQdGDKemzq9o7B0Eq+P+ydy/u7har7d+43XcfyBddYbZsxwpf0/F/R2q+z1Tgey+UVVVwq3A+dU0Gmps9A7EvRDhUlmSoKKihMkTu6OjXUPUqSO5l0geKNyYcbnAq4hvWLz0PKrLbk7w6IbRI6tXzQMA0n7lYvTY/WCxhGeoS0u9enoYOdwOffsoxu2hCPq77kBRkWQRiH/KA+qvMRMk9EUsDh56gPiEDLn0p6LCRODVuWAyhVfFjo1LxZRpgiHt5fwp90pl/svGrCpduzTBmlUD5d6vOBSqzThn3in0cvTGP0vOVZshA4Cjxx5X+wPJfcguDB+5V+6GDACSkjKxZdst2Dt440dyltz7VwSSGjIAKC7m7a+cS7yKrwXxmBe5Amwu8ZmODpuOYjZPsDWfVYDHv0KRWUp8JiNeTOF7fXrEArC4LMyLXIERL6ZU9JFVmo1XWZEVfVTt9y/8uAzwwbIVF+VmyACgpIQFR6et2LNXuObg7TuCQgLyoNHJbbiXGIv8shI0O7VDIdf4C/DkaQzsHbzhMUmxqjiVUYgxe/suAfYO3ngXRU2L79/MwMG+sHfwRnY2NbVxWRkz7gDmSOC+u/bdXuBYUr5ihXGPHH1E3kgIS5dfqPj/94JEWGrUx7QG4yuOsblsqDJ4Sb4pxanobGALPWXhNZeMVY2QW5bP14eziSNqKeuiXa3WFX1U7fcvBIWFJbB38EZBgeIM/aUrrzBitGDI+p07iqlEoK+qjmJ2GZToDDTUIUQUel45COcbx/EyLQms3xMn91sBiM3hGe+253bD3H8z7C4QCfuB36J5Y00QLgcnimEd15E3+j8hPj4d9g7ecHTaCjZb/hP9ysjdmLHZHMxbIL1y9r+JwBtvkJMjujaPongXlYgvX2SrXaYouFwu7tyTblb99h2vmmxtVUPMfL0Yvl8OSNQHi8uLUpvXeDo2Re/k7+PPDt79o5g7X7iupbxJTc1BfHw637G8/GIRrWXjXN+RWBp6G00CtsNEk4ig7Fe/KTZ27ItFz3h1+D5np+PaV96+YMSwWdBSVsGLIZ4KGdf/OywWG54z/RV6Dbkas4yMfDj03VKtLsWaYuXqy/DxvV1j15/qeRw3g94KHA9KGIh7SaOQXhwJLpcIPglJGou7SSMr2uSVJeDSVztklRD5Xhfi+PMDueDg+ncHPE7m/+Je+caTofqaewnBCe4I/O4ANpc3c1+34Rp+/cqT6j1xuai4d8w1zLDRehla6PBraopDia6EfXHHkc8i1LcL2UVYbDUbLXSsYKFBhGnfTLmH9JJMhGe+lmqM/xWmzziOL7HVUwkAADwmHUZqao7Cr2Ogqg4LbT2YaeliSydC+/RjVhpa6tfGts48LVTvTn3g/0n6skNkeA3dgxkDdwEAvn5KgZPVEr7Xb50Lg4v1cozssgGlv93v80bsQ2JcmkCbDV6Ep+bRLd7zIDSEMMS3L73CgDYr8SfwJTYV9g7eCrMPfEKKF1+/x8rr92CqpwPP7nZwa2VFuSP3wbuQnVM9rraaZs26q3j6THyOCBl0Og0MBh1lZdJHO27fEYQdPkEIuUNshrO5pbAxXAxjNVt8zwuEvgqRVNur3gmUcfKRWhQGYzVbsLnFGGT5Ape+2mKQpaDa/tVv3THQ4gm4XDbi826gvpYzorMOo1PtbRVtSjl56Gt2WeDch4/EJ0T/s7A/Nm+9KfL1DZsCsXypK7obEgE80xt4iGyrr8yvSn6iwx6+32urGgn0cdKWcBMZqOgJ7QMAZnj2xq+0XBQUlCA1LRdpablI+5XLt6dXE9SqpQENdWUYGmrDyOj3j6GW3K9z4NADxHyWbeWvrq6MwkLJ9k1HjN4HF+fWmOslmZSVJMx7ehMdjE2xrF1PDA0+hfN9R+FYL56+JYNGx/qX97G8vT3UmMpgcTlgCplMRaanwMXCChwuF5pK5LqaVfE9PwMFecV4/fwLdPUEKzrn5xYhMIo/t9agtg5WTjuOY3cXYVLf7XAc1FagTVV2Lr+EoOhNlMdlYKCFdm0t0KqlKXR11aGiogQGg46cnEJkZxfiXVQiXr/5jszMAsp9VqWX42bcuDYX6uryde3zGbNmdYzA4XJxe7YHHsR8pdzJ9BnHZTJkHdpbwtWlDdq0rg81NeE3BofDRXR0MlLTchD6IhaPn8TIZAik5fzFcDx6LJmCxfSp9hhCMcQ+5P5HbPQOpDx74XIBZzcf3Lg2FwyaMlIKHuNV2hpwwUV9Td5MU4muifyyRBir2UJbmVBZUGMIL/HC4hB/SxqNgZxS4j6IzjoKd8vneJO+Ga305yEqYzeiMgi1+OZ609Cs1mR8/ZomtL/K9HG0FmvM7j/4iOVLhStwnLbjdznqKcseAqynrCvQ76CB7aTuj8vl4tevPAwfJahEX5XjRydDQ0MF+kIeZjXFkOF+yMgQXphSFA0sjbBtywjo6IivQlFSUobNW2+KnfAE3ohEbq5iXIwAsKubC9aEh6DZqR2g/zZSY+6ex+tfP9CslhEuOI1CQMwbLG9vj171GsDrSSB8u7rA9gL/RMnG0ASNA7ahjroWHrlLJiFXjoaWKlLiMwSMGauMjWM7buPYDsLzM2ZWb3ToYYV5Gwdjz1qijFJyYgZfm6DoTSgpknyypaamhD6O1vhnITXlGuf+/FVVWCw2Nm2+gQcPo0WcIaIfNx8E3ZgPFRX51OEDqhizp5VKOVAt6nj6TKjEszgGg45dO0fDqin14nJ0Og3Nm9dF8+Z1Yd+zGZZVWpU/fhKD12++43qg9JVcqZCcnI39B6iprLduZYapU+wlTu7uZd8MveybISMzH0OH+1Ha4iksLMGyFRexYd1g6Ko0hVWtiXiX4QsajQh7zih+h+95gbAxIFZwURl+MFLj1e9i0JSRURwFLeX6UKZro6nueGSXxOB73g201J8NLjhob7QaABCfdwttDP6BtrIFbI024Gfhc1hoEyG4CxYJ1toSBoNBF7sZ/O37L1iYGwocp0ExUuHy7JdGo8HIiJqahZkpeTmS6uTZ8y8SGbKF8/vBqS/1dBEVFSWsXD4AK5cTkav9XXcInbRJOlmUBBUGExs79sHGjryk+JMOQ/nafBrNC5/37eoCAAgbMgN9rx+tON7fvCn6mzeVehzRkQm4eyUCM1a6If5LKpRVmPj0NgFFhaVo07EhTBsYYVvAVASdD4fTkPbwHLALAY+WwGutO14+joHXWndcOvYE2wKmYrLTdgDA4a1BsOvVDLcvvYLjQGrSgrKugplMBlYsc8OKZW54+uwzTgY8o+yednLejv79WmP+XPmsxPnyzLIKi3A6/C1m9LBDUWkZafVaFosDR6ctEl1w/97xaNxIseodFy+9xN79IXLNRTl3PgwHDgmqlgvj0IEJaGApfWHLysxfeAZvIuMptb14bhb09KTTfpMHZOkQ9erp4cSxKTh/IQz7D4r+LHV11XH5wuyK3z8n1UejenHIKwwEk2EEdRX5iCArEiqpIX9arpQk6Sy3AudDVVX2WfVUz+NSBTP9aZ8d8GfmmTlZLZHIzSgP8vOL4TqQuuC2366xaGYle9VsPmewjpoqZvQgVBiolGE/ESCZksfY0Z0VbsgAYPCg9jh+dLJc+zx+QnhZ8KqYmurJzZABgPfGoeSNfrN7z125XVdSqPjQ29mYAyAUW8RRNc2BTtMGDUxoqw9EQRG1CcVfJEOS/cCW1qZyMWQAsHP7SPJGf5EaU0tBD4ei0dRUhfcG6s+t9RuoVaAng8+YBX/4jNbrd2PfozAkZZFHFgWcEhSpFcXhAxMwfhy1oozyQJ4unPsPolFSIlqYtBwtTVX4H50it+sCgJISA0E3FqBJkzqkbR89/lRjkaTzF4oP41ZWZmLqlJ4AiBUaGVlZPONY3zgQMYkm+JLUCPo6c5GR64NvP7uDxU7D1xRbAEBMIv/MLr/oDticTKRl8+rixac6o4yViM+JZgCIFR+LnQoW+xc4nFzEJbeqdH4w6Rj/nxg/kVrpFhUVJnbuGCW366qpKWPPbvlUe/iLIAdvzquR63boYImrl7wotf2ZSsRByAqfMevXogkil89CK9M6OBYqPnR55WrBSDZhMJkM7Nk9FpZyXK1UN+s3Ups5XLuiGAV/FRUm9vmNo9TWY2L1ZdxXhkwdYvpUe77NXrKgh/mLeLmKDIYBGHRdaKj1Ap2mgfScrahncBJMhhGUGGZCz9dUc0QZKwnZ+ScqjulpTYYS0xTlZXr1tKaByTAGk2EIOl021fZ/O2lpuZTaKcJNZtXUBAYG8o/K/EvNoq2thhvXqBnTZSsuynw9PmPWftNerLt5H50szbCiX0+xJ1INTb8TtFCiQI8/jTt3qSUAb1gnW/l6Klw4N5O0TUKi/CSHqHKXgrabWxVx2cWLnMW2//6dl0SbkuGFhnU/QlWZCDag0VRRUkYECZSyhKsvZOefAJNhjMb1BPcbaTQi6q6o5JWIq3NAp/05EYaKxv8Ete2CjnYNQaMpJgjn1IlpCun3LzWLuroy/I9OoeSWXrPuqkzX4jNmL5d4YkV/e5SwxLvU3KNhewAAIABJREFUQu5TU8yeN0fyKJX9556ijMXGsPlHwWZzcPTKC3z+ngbfgIcVofhdx/ggPSsfjyNkX5qS4b3lBqV2He0aKngkxGqGSijrrt13FD6WynhvDpT4nLZtzUnblN9nJvp7EZfcDr+y1yMtazka1Y1BUUkYPidZwMyI+AIoMc2RkOaGz0nmYLFToas5GvGpffE1ub3I/vV15uNzkiW+JDUCm00Yz4Q0V3xN6QJ11S4Sv6d/K1SqWDRpUkehEzYlJQbkZSevnQ7FhoXnsHJmAHzXXsOHyATyk/4AXt+LwrjGs9FHZQTmdl8FdqWKG58jvmJCc94qp7S4DI5Kw/nOn9djNZy1xmBK64XgcrgCrwPA7plH4KQ2CtNsFvEdd1QaLvBT+TVhbaliaqpHaUUvaxQrX2j+lTcf8PHnL/RsYomwb4mY20t41NhGb2oPr6o5CVT4Ep+G7NwiLJ9KGMJDF55hwkA7NDY3wp4zjzFjRDeMdG4Pg1qa6NZWsQaEqmiw57ReCh1HZXy2jYTnLPGyMFevv4a1tSl69qCe9C4thGqH+DYTJ3QXepwssXaj93VYt6gHIyNtNDDhX0UZ6q6AoS5vP8yyjuD+bQMT/lQNLXU3AECjusSXRl2lExrX48+nNDO6Luad/Dk8fhCNbj15f99BTttxKUhxkXKbJQhEkhbP6b1FCg9TYdHEo3j36pvA8aBLxL1z8clSaGqLz4WrSTKSM3E8xhc0Gg3pPzLhpDYKay4vREcX8jD7cY1nw7afDXY8XA0AcNMTFBt4/+wTHpx7jqAiQW3XO2VEWo2j0vCK/8ubWTMcSIPU1qy7ilUrBkjVP9/KzM7SDKFfE9DJ0gwze4iuLUUlyKBObekSWuvVroU53hexbJcYg1lNQQ6vX38nbcNkMuDQW/ay6lRp2pQ8EAQAnj3ndwM7zt1f8f8eM4kE0MuP3sFuyk4s2kt81qHvv6PjVF9EfvkBNoeDzwm/UFgiPsrtTeR30rH06C48H8fOVvxkhMsFbitIcPYvBFTr7WlXgxGws20g9blcLrfCkNl1b4rJ8/ti5lIXDJvYDRqaRLHbVbMC5DJOReEwtnuFG9egLhEk9e09tVVlyrc0eKznrZaGzncRaBP/MQltelXfs6oqLs5tSNs8fhIjdf98xsz3/nPkFZfgypsPcNlzUugJVKPldvuOkWpAjc2NsOOfQWjfoj4YDDrGunbA5+9p2HnyIaYMIVaKZ25FIDU9Fw/CJVOrLmfpxivoPmArgkLe49zVl+jmtlX4e6AQ6j5rhgOp8kFNcP8BeUZ+bkExXhycgy2eLigtY2H2zssIPeCFxLRsytehsnFb10S4qv3C+f2EHq/MMX9qKRHyoK7+K4yZ749uw30wa815XL0jqH1ZEwxz2QlWGRsew/fCoRMhX7Rnx21kZuRjzGC/inZRbxOwc/MtcDjEd9Sp20YUFZXil5jgjkuXRe0bVj91TWqhr6O1VOcu9zwBGo2G4LfrsHrXKAwa2xnOwzrAY7YDLj1bho37x8vobiSPZpYXyV9TMdBgAupb1cOQeeL3liujpsmrUO8yzUHg9ZKiUmhoq8tljNLAZNLRiCQ1i8vlorRUus+az83oPbAP2BzCteYqQpfx6jVqAq3SJu/279YcALBiGuFmnD6cCOdvbM6Lhnx8gogaNDaQLgIt+nMKOrVrAKffsxRDAy1EvI1H21b1+dpRqR3m4iy5K1VWXJxbI/BGpEx9lLHY8Lv0FH6XiP2SV0fm4faOaRi6wh/5RSXo15H4+5eVsQEx+3RkKQvWLeqJfE1FhSnytcoUFpbIXcdNGL3H7MLT8zxX3c5jDxAb/wsN61d/rk5l6tSthezsQixY5oo5U48DACZOt4eevia4HN7k0rqVGaxbmeHGlQg4D2wLFosDNTVlkRJxACEwQEYv+2YyvwequLm1RbAUq/G3L7/BfYzogrw2HaVb9eWm2kFFcxIYzMYozP4H2sahUvVDFUel4TAyM8DBN1thWCW9qLiQusyXqoYqeaMaYM+uMXB0Er54KGflmssS5amVw7cy67z1ALptP1TxI4yg4HeknUriYvTwOo5Nu4LQe4gP3n/6wfea17Kz6DV4B1ZtJfYx3rxPRDe3rXw/5bDYHIyafhguY/yQ+NsIHQ54wtdmxmIiF+rKcU8MdWtX0cfVoEgBQ/Yn4z5QdFBDZapGNj55+xU5+cUoY7OhxGTAoo4eQnw9ofN7RpdfVILdc93RwcoMDDpxa6w5GoyorykI/yg4qxWn4lHO2tWDxL7erWsT0j7+WXqetI082LbEHat9b+Lqnbc4dvEFnkd8heEfoJu4c/84GPwWFGYyib9L2k8iD7Sq/FRhQQnq1BW+EhZGRia5fFV1VjiXVP6tHLvuTfH9i/xV/jUNrkBFYxKYKt2gaSBbtB0ZJ9ZcgMe64QiI8xMwZACQnpRZ8f+4t98VOpaq3Avg95Do1ZFuG4nJZIBOFx/pEx5OXReYr+/Kv2xwc0CPxpYiG8fGpSI2jvyGGTNa9AypKnHff+HozvFYMtsJ3dy24vG1hQCAbm5b8ejqQr4IpzYtTPH42kLkF5TA58A9rJhHiGMG3nmHrXtuV5zrMMQHdy/MFXvdpJRsBOyZCDMRCbxUCosqKQkv+a5o6ptRSwi/fTsKkyf1AADc8eGFPj/bR0hFXVg/HgAQ4kuUejEzJh6CqycSq+LGZobYMVv4Zmzoi1icvyCouF8VMhfs4kXOpH7yDx9+iH0dAHqM3In+PZrD1EQPUTE/sGG+KzhcLroO3YGZY7vjV0Y+wt5+xymf8XztDfQ0ERv/Cxvmu8KujQU2H7iL1V7EfeUxmNg35nC46DpsB2aM6Y6Aq+Fgszm47U+kSZSVsTFv4yUMcGiFXp3IDbM0fPrwA0vnn0V9CwP4HZkIAKhvaYh+3Tdh14HxFe1mTTqKsjI29vtPhqcHkW/Yp8sGAMDtp8ukvn7b38otfzLLtw9H31YrEBudjIZCpJFmDN0L56HUxL4BIOcnYcC5nBwAHNBomuByi6Br8l1OIxZk8FxnDND3QMTdd0j5loqs1Byc+b4XOoaEB6pBK3P0URmBll2t8PbRR6iIWXFX5nVIFB6ee474j0nIyyrAjimEsPa8gzyB5NvHHyDurWjZvGt7gnF51y2kJaRDRU0Zm24tlfp9es3qAx9f8aIEOTlFEm/f8Bmz2LRMscYsIuI7pU67d5NMgLPcYHWza4Ss7ALU0iVclNdv81xp9l2aQktT+NL5yOmnqGOsU/H7mKEd8YokMOHJi8+g0YB30Ul4+yEJy+bw79/cpZBf1q6tBWkbcTx48Rk97RrL1IfY/h9GVxgzebNqDXnSfD+nVqRtqMoivQiLExkg8DY6CW69W2LuBKKq9nBnIvpr++EQHPEejaYNjAEAA6YeENq+MloaKugxcidGu7XHmIG2UFFmYvaa8wgJmA1VFSWMdG2H9X5BSEnLQR0jHSz0voKdywej+wgfNG9UB7UN5Z983bR5XVwO5o9U7NqjKbo+4qltV41k3HtsEiaM2IejZ6bLfTx/An1brRB6fOZwwarV5WRm5GHmMsHACGHo1K7kgeKWgcNOAp0p2/edDHVtNbGRhCVFpbhdIrzwcdXzlFWVKo7Z9LKGTS9rPDofioh77/iMWDl9xhN5xZ6/J3vi+pYVF+fWpMbMxzcYq1cOlKhfPjej38NQtN+0t+KnKunp1IouivPRi4NGp/EFKm7fd7fiJyNLvPZf5WROGsQHPP5My8GLiG9wdmgJZ4eWuP1AMOk37Re5IoKJlEvt6iJdwlIekkAlbcGhd3NKfVHJnQu+Ldq9nZyaAwtTA4Hjqem5qFNJwb58j1VUewD4kZqDgxtG4kxgBLYcIAKAEpKzoFppjKYmekj6SQTJREQlgMGgg8sFbj6QrsK2ojhy6m8icmWy0iX/PhTneiPnZzPkpnVDcZ6vAkZVfbR1qD53say8eRMvsTQf38oscvksvhfDviXC1sK04vfoT8kyDI+cR88/Y90/bhW/l7sN+w73hbkYrcXRg+2w61BIxe8nzofi7oW5ePuBcBWWlbGhpMTAl9/1tjSqBBMIS9b8GE3+Xq2s6lb8v9Ow7Xh+jjc7vnrvHc7eeIX8whJc8psMJSYDLtP2o6GZIeZPsIeZiR4SUrLQfdROHFw/Ak0siNXD8DlHK84ZNPMQbhwkZtaOHn64c4xcAaQyVMOuJYVqyZ9WLYVLTVVlzcqBWLxM/L6YOFdkvTq1EPxYMJG/toE2fqTmQEeLcFf8/D1BEdU+OvYnpozojMYWRpg4tBP2nHyEFbOcULe2LkpKWVBRJr4uicmZcOxqBS4XsDQjjKKXR0/4HnuAiUOpu9gVDY1kb4KK3qgw/GPdUMzOhgbTEKMbXAQXHJyMdYeeiiWcTXfgU84tPEvdidrq1uhkOBO1VCzwMfs6nqX5wlyzMxxM1kp13coEv10ncx9UUFJzhqr27+K3ZX/WZEVSNGtpYMAsJ5Gv52cVwN1oosLyzCqjpaWKvDzRAS15+cU4ffYFRo3oSLlPPmM26MBpKDMY+JGdi+KyMoQv8YTr3pO47kmE2X+PTxfaiaxs9A3Cg6efsHczT0H78bWFmDjXH8k/c+CzTnxky2BnG7g4tsSo6YeRV1CC47t5CYM62mrYdfg+bj/4gBkTegAgBIHvXZiL0Z5HkPCD2FQ9e+UlhlcKrCgoKCEdt6mpaMHcvPxinN05oeL3XuN2IcR/NthsDgZ4HkTggWkoKS3Do1Nz0G2kDx6fnothc47iXKVzxKGiwpT6YSQri/4hv9mbNatL2qacDh0sMWRwB1y4GC623ZfYVDRqaCxw3LqJCeasu4iyMjbM6+njeUQc/NYMw7xJvdB1KLHXlZKWU7HHWbm9sYEW3nxIhN+aYbBqWBvTV5xFw/qGOHD6Cczr6aOklIXdq4ei+3AfzBjTDSevhIPLBZbPdMJKnxvwXTkEADC0nw1ev09Ebn4xtEW4wyXhwM0XqKOvBVc7aqtbaUhIkO77PK7hNQTEDcLoBhfB4bJxPLY/JjQKBofLxufc22iq0w9NdfohNi8ElxOmYWKj2yjl5GFy4xDyzv8wSgsvQU2nKQAmSosuQ02pZvK0Gre1xNEPO2Tux9Ja9ARTs5ZGtRgyABg+zA6HDj8U2+bc+TDpjdnZScNAp9HBoNPQdJUPACA1l7c0l7QMOlWWejlhqZfgjOGIDzVxXQBQUWbi1L5JfMcmje6KSaOJ0P750/nzLpSVmQjYO1GK0fKoU1tH6PEyFhv7zjzBvjNEBNCkIZ1Q9LvEBoNBh0U9YpVpXpf411BPE2UsNn78zEanYdsrzhFHbWMdUnFfRZGXTx4i7L1hiER9Tp9qT2rMFiw6g2uXhYs5hwTw6p+NdCUqRdNpNDy7wFstz1x9Xmj7yjw8Q/T/6Cx/AFF5PyNdeROetXP5c4C8F7lBXtwI+4jJ/Wzl1p8wqEzYyMgrS0YZpwgAQKcxkFXyDSxOMY7HOsPNzA8TG90Gh1uGsF8HEfbrIABgapNHYvtUUVFCCUmyvjiunXmB8EcxKCgogbGJLkZM6g7zRoKTICqoaS9FadE1sMtioKb159VQ+7cyZFB7UmOWT+E5Uxk+Y7Yx6BHodBpW9OsJB6uGWHApCOvdBJPvapKsnEJEUog0rA5UVXl7g8pKTHz4koLC4lK0t64P87p6WD27P15EfoNrr5YoKWPh8/c0BD36iJ/phLtr/9mnaNuCmCkpMRn4Z4oDmlgaV5xz+U4knr3+im9JGSir4jJUlXJfUlaolv3RlGJ1QqfTKhJ+hSHOLUGJGiqPQ5XMvELsuvoU10KJPdxVJ+5g1QnhOps6Gqq4u2kKlJjSR9QWyGFyqqNsitZ6o5Be8gWfc27DznAqYvMeYIj5MRSz8/CjMAJ11duilnJ9uJr54dw38vIx0mo0Bp4Nw55N/Fqqn94l4lFwFJRVlHA9fKXEfZaV3AeHnQJW6QvkZQyCloHkOqQ1xfPwOHTqQARNxX5Nw8SZx/Ho1iKSs6oHpgz3rcg+K/+yytkeZWziobl7OLWoH1kp3xejSi0ddfTs0gQ9uygmDFoSynN+AOBhAH/tntM7CFdnebL39BG85G+vcT0AAJf9iAKil37/62JvzXdO+X5ZZxtLjHblzy2TNshGVo4ef0zaZpA7tTy4qixd7Epabuf0mVCMlMD18G9iy/mHSM3OQ+sGJoiMS4aZkS70tAQVG4pKyhCT9AsdZu/Cm73iU1DEIUlBTnHYGhI1/AyMiKKrjbUdAQCV/RZDLYhSPOMakhsDaeYcudmF2LPpBqYt6ocBozpWRDsGv12H0hIWXDusgYezD47dkOzzKinwB5eTDSXVPlDW+O8WEmWzObgX8gGRbxPwMfoHiovLkJtbBDqdDn19TZiY6KJHt6Ywr29IWXKPCj+Ss0QqCFWFz5hdfP0eK6/fg6meDjy728FNhArIX2oeDpuaCHJN4Ogg3b5Cl87iK1ADRFSjtMbMb80wqc6rLrwn8tJD2nj6YGLfDiL3zPYGPsehIPI8P3FUnoz9SbDZkgculYsJDxgleG8oqzDRb3B73LpIrnZSFRpNBUxVJyirDwGdXrNKMDUBl8vF4SOPcPlqhEjXb1JSJpKSMiuSna2tTbFgrpPYmAKqJCRkUDZmfHdzszpG4HC5uD3bA9qqipcP+rcjSkNs/qj9fL/777yDL++T4GRF5AVtWXgOacnZWDPjBEJDPiIxLg1nDzxARlouQkN4UXaDO6wRee2iIsXsX4qDivrLtCk9hQZpUEFZmVzeKukHucTYfwFPF9mjJjU0pP+Oj25wSebri4JqtYrKXD0VCudhopOiZ69wlWosGnrHoKIxBqySEORnyK/Cdk2grMzEx0/JiHgjOjkaIEQCPGf5w97BG70cN+PMuRcS7WFGRSVi3ISDsHfwxomAZyLbkRXoBYBnz6nr7/IZs6ex3yv+38BQ0Kqqq0vu2uq34giiE9Ow4sRt3HvzBTfDo/Eo6iuS0rNx8SnxcMwpKMaNsI9IzSaCTSq3KSolXCqV1duvvyD2FDy2n8O9N7w3+/g9Twal9+IDFf/vuoDImeuxaB9yC4tx8ek7FJXK7mKhuoEeF52MRpU0CiNDY2FkootVe4hy8b6rrmD41J7QN9JGx17UdPDy5bB5Lylbt98ibTN0iGxBC2NGCy87VJmqSvoRIe/hbDgFH0K/wMWIcHntmHEUIxrNwTzHjRXt5jpsQEJMCgBg3z+n4Ww4BQNNpmOUFRHcMaHNYgwynYH4aJ7iyMS2SzGi0RyU1sDkQdFUh95ldVKqgOheDjsRNLoulNVHQVNfsHTKn0z5fhkANLQ0wt2r89CsqQnathEt3bdg0Vn07rMZnz6lyGUMx/2fwN7BG0uXXxB4jYo78pWQkj6i4DNmQ9paY1ZPYpluqCkoFGxGUUapHDaHgxUje8PK1AjrxvYBAKw4EYyOTc1gpKMJV1viwZ2QlgWn9k1hrKuJ0jIWXxtlOW0UlpaxsGGcE1SVmHC1bSaXfhMraaWJY+1vySFRm57SRFqlpFBXtpcH4gIzypHHw9FjXFfSNpu33kRyMu/9Lx/kgxu/DiL5axrKfj/QLFuY4syXnfgYxivgamCih5VDiCjd6ZtHYsXJGbiSvA+nookI0qNvvHEpcQ9m9yRymCbaLMGRiI0482UnlGtoj1Icmmqyfd7GxvJXK6kphnh0xZ2rr8HhyNf9nverH4py16K06DpKi/4dte7KiYxKpLz/mJ9fDHsHb7x+810hY3kRFicgMNy0qaDsWFWoiFeUQweAr+nEQ7mWuhpm/K5jpqYsqMpgReHilWHQ6fj6kwgf/5lJqIeYGdaCshITykpMOC4TFDNWVmLytbkVThRSfP9dMFE3u6AILAp7R8WlZVBWYiKvqKTiuuX9isLAQIu03/h4wdD4me678fF1PPq3WIb+LQg9vGWTjsK93Wr4XpghtJ+ZqwZgwegDcGuzErOHELXGRnffRHr96mTdBvGBGQCwab18KhFT0byct+B0xf/PfPHBVLsVOL6ekNhiszgwbUzM+pR/y2XFvo3H/H0TYN1ZdODQ6uG7sGnCAVz7uR+sUhaSv6Whr84E9NWZgFObq/dB9mbvXNIcsyfbPWW6BhU3z78F9zGdiL2xNquESl29fPpZyFnkaBs9hpr2SiiruUJZTTpXZU3R2tqUUmTo9+/pcB24U+HjYbHYsHfwrvjd0kK+e5B0AHDbG4Drb6MFfqpCxZICxIZgOXHJGeg8zw933xA309VV4+G0/DAm+pzHvpnuKC1jYbLvRXTw2oW2s3YKtHGxI1ZvxrU0Yeu1C04rCAHVSTsvYMVIB2y7ROSs/MzMw8JD/GG547efg63XLmwYT+SwpWbnodNcP+yb6V7RryiaNiFfAgsrTOl3eRZ6D7DBqUdL4H+PCIPdcHgCLr9aDcvfy+rTlURfy92K2wKm4tqbtdj12+AFPFoCIxPZ5LKkLZAqDColza2tTUnbUIGKJlvlGVtBbhHWX5oLmx7N0Ki1ORhMOnxn+yM9OQtlpSxwOVysGuYLVXUVePmOw8s7wvf+4qN/YJbPGLx5+BFMZSbm+I7Hnier4bFqEFwmCeo4/td5kv4EUyOmwvO1J34UEa7Zh78eYtKrSdgTu6ei3ZKoJfCK9EIppxRbY7YiLDMMG6M34lWWfGupXQ9fhemL+4PBEAxsMaytg4NXhOcWiiM3tQOyUyyQ87MZcn5WXymc6sJ98C5MmHy4Wq/pMoDwjhgaki8YJIHGlUAAq7i4DP1dd5BqZo0e1QkTxncTOH7vzRf0biM8Yo3N4VSUHZGWiC9JaNtIdP0sSbhz9z28t9wQ20ZDQwWBV6UPjZaFyjMcUYwe2QkTPAT/DpIS9zUNk6ceFdvGukU9+PqMlvla5VB5f16zHOHmaiO2zVCL2Tj/bZe8hkUZKuO/f7fmk3CpjPPe7X9Iy3ZMjZiKA20P4GbKTfSv07/i+OKoxfC25l1ja8xWdDPshpDUEDjWdkS7Wu2kGtOf8NlVhWzcqqpKuBU4X2yb6mT5ykt4Hip5geP69Q3QpHFttGldH8ZG2lBSYiIruwBR75OQlJSJ0BexpH2MGd0Z7gPaYeBgcr1Lqn9ratURf6OqqoR69WohMVH8XtHbt5JXdJXVkJXD5UqfdFmZhg2MSNvIQ0FBkTSUMqqwKlSiGB2lrBAsC8G335EaM3FEPY2B9R+Qr/ink5iUKbLs0PeC7whJC4GriSvKOGUwVTdFGYcXXJVWnFbxO4NWMyWTZKG8FExV+FT1/6VIashUVZWwdLELunQWXumj/HhycjZ27AwWu/925mwoxowiD/aSBImMGUAU6iOTIYl6nyT0uKhVmbyQ16oMACwtyY1ZTUHF5QdQK3xJxuMnMbh8hdwd1J9CuRdJmDypB+l9RkXwWNyq7E82ZG08fSi1kyVpGiCqTZB5Wu7ee49JE7oLHH+Q9gBtarXBRAueLFwRuwhKdCXMfDMTfm38YKxqDCU6sW/5LP0ZClgFYHFYyGPlgc0VzCeLlGIiLIz83CIUFpRA30hbqNuRKhp6x8BUJkoKsUrDwVSmXhPtT2bBIuoajEwmAzeuzaWUOgMAJia62LZlOADg/IUwoUV8WSwOHJ22UB4DpXFKeoL7gHakDxmAyBinehNZBGzCt9FLhB73atkFBWWlyCsrgbddP3C4XDQ45Y2lbe2x730oWBwO3g2bh9zSYrS/tAsLW/eA77unUKLT8XoIobPX5MwWDLZsCWN1TSTkZWNbJ2eR/UtKfn6xVNJNsnDc/wl5Izmxdj15dV1FBBKMoCBECgBPn30WOVP8N/Nm71yk5xTAYclBdLO2REer+mDK8FAWhUPv5rhDUrvv0uVXQo1ZD6MemBc5D/msfDjVcYJ7XXdklmZiWsQ0LG5KuIY2WW/C/LfzYaBigCVNlyA2Pxbnk85jRoMZ2Bu3F7Z6/KkcVdMuJIHN5sC1/RqwhQSFOQ1qB6+VkmtnlhZeAEOpCWg0TZQWXpaLMTt54inOnwuDshID4yd0g4sM3gVp4HK5lKMW7WwbYON6yXRWKzN0iC2GDrHF/QfRpOo+oqDqbWMCQH8/f9ycOU6ghtnLJYLRUioq1Ozf+o3XsWqF8CrFVFgeHozbzpPRWJe/7tTKl7dx3Wk8rPXrYLKVLVqeI5Sk/WMicNFxDKz162CSVQfYXCCCSV6mJWJEwzZY3d6BUv+VadKkDmJixOdb7NkXgn8W9hfbRt5QERimmjVPBpWQ/M3eilHWUFNTJk0OX7PuKu4G/xl6c/KEywUclhxExJ45oMvDby6CEcPsSI2ZqIRZGmjwac2/gnSq7QSn2vyi4dtbba/4/zjzcRgHQkB8Z2v+CLrk5GyZjFl/m1UAgNkr3GDfvyVU1ZSRnJAJnzVXEHTpFRgMOuXinOWo664Hq+Q52Kx4qOtukHps5bDZHCQmZCDwJrF3tmf3XXyNS4MlhW0NeTF+omAUuTDuBC2Um4aifU8rtLUxp7RHVpX8/GJoaZEvGJgAcHMmcXMJM17CMDHR5cvzEQZVV5go4vOy0ecG/4f+bfQSpBTkoa6GoFp9KZsFFYagoU3Iz0YDHUF/v6j+KzN7pgNmzDohdpy370TBpk19OPSuntIQ379TK9uxSA4GdvuOIErt5B1iW876tYMwf6HwyrrlCJuF/z8wZ/81NKproFBDBhCb+VRI+pGFenXlM0ESxS4/4aLKVDh/lPBWVK1zZmKmh61HJsLf7x7OHHpE2ZixWbFgMBsCYIKp0g1MOeWXMxh0vAz/issXX4LBpONFaCzGjOsin84pQhbzAAC7d46Ruxiwjo4arl+ZI3EaQG5eESVjJpXfYsc2aoKby1ZcpNxnMZs/e9/LugsmW9ni2+gleDXYC81q/S5e2bA1vN8QPtinKeTZ4QMsmmNDhGAdJVH9V4ZVtuvnAAAgAElEQVRqXt2mzeKjHuXJrDknSdtMm2oP6xay7x/eDHpL2qajXUOZryOKNq3rU9JhJCvBrigKSkvR6qCfQvp+ER0PE73qSWomi1QEgIX/nKW0SpeF8JdfyRuJ4Mb5MDQQk04zbmZvifrL++WI0qLLAj/ywKadBbr1aAq3AW1x8vR0aGsTxWN79diIO8FRWLTgDBzsiTzTHz+ycO/ue5SWsnD+HKHFucePqIB+cP99eE47hovnwzB9Ci/aeP++EPwQIftGtgoHiCjt5s2p1yOUBE1NVezcIZksGKuMmlYn31ImITMby67egYWBHsZ1tBEqaQUARobUvmRUQjQBQInOQJ/AQxjTpC1YHA6mNbdDO6N6GHLnJAzU1OEfEwGfzkTCYq96DTHl0UU00jGAb9RT0CH+i8ig0UGn0bAo9CZMNLShzlTClGai+68KWVmS6oZKBGUfh+qLLJRWVJgqfRyscfpMqNg29x9EY65XX4WOQxgaysoY2UK+gS/laKqpIDmDuvqBLLRsaYbISPF6fampOXjyNAbduzWtljFJSk5WISwp5IZShU7XR3GuoHCBspq7zH3b2JiLrA3p2Ncajn2t0avHRqGvl/M+KhHnzr7AvQdLQaMBg4dSk5ELC48jbSNLhDAVWkqYj8qm+PzlW5ldexuNkxOGYq1rb9yLFm+IjIyoGbR5C8+QGoPPIxfh0YDpmGTVAdOa21Uc/zZ6CaY0s8OzgTPQwYj4AOg0Gr6NXoLJzWzxfhgvZ2N+6+5orMtzd5UHfwDAx+ELsKVjf8xp2RVTmonvvypbKO4HTZ/pT6mdLJDlvQHERqmOjprM1zpGMchE0Q83KsrbVQ387pcv8P5XKubfDUJQ7Gdc+fQRbQ7tQU5JMU6/J0Kqw34kIaOoEH1O8/5ujfb4oLCM2B/6+CsNFru38/XrcOoYfhUWYP2Thyj9rex+NSYaVz59hLzpb2uFuJ/VU3x1xVJqyhZr1pEHA0mL19wAmc7X1dNAeqr8jL+28UuhP/Lg6ZMYvI9KxK2bkfDeyFOWUVFVwtnToYiOTibtw/8Y8f28EfgagdeJHyr1/h48FBTDqIqwYB95s37tIMpt2SxqKzM+Yza8HS+nYrCN+Bn36ZPTKV0gMjIevftsptT2T8SmjTmldjExKfj67ZfCxpGdXUjJRXDsyGS5XO+kGLXrchS9h1IOlWhF/5NPK/6/M+w5WhgaY7sDEYgw/24QfBz7QZXJxCArQsXBtm49bH72BG6NecaYxeFAXUlQxg0Avmdn4aiLOwzVNbC8aw/seEF8PsObW2P14/tSvzdRzHPvhgg/4VW15U2tWoI6rKKgcl9ISn5+sch0Hqq069wIsWKMwK+fOTL1L0/Cw+LQr39r9OvfGnfv8L7Tt4IXYvjIjrCy4t/eKCgoAYvFQV5eeUVvGkzrE3EALq42cHG1wZPHMXz7x3FxqVKNTVVV+P0vbzp1pJ6mpU6xugOfMTPU4t3UZEK8dDoNjRvVpjwgewdvuRUDrG58Kfp4J005IlO5d1GsXX8V7kPIVSw0NFRgZiqZGLQwqLgyaTRg6+bhMl+LCiuXk4dU+5/gGbO6WoTXIDmPmKmb69ZCbkkJVBhM2B0lqil0P3EYW3r3gWc7au6ZulraiMkggm/YHA6a6Btgf0Q4vDp0xHYHJ/w5jmjpoBqRe8z/CXJyiuR6bXnoAk6Y44jLz5eLfD0vpwhr/SRXqCktJNTeCzLHoThXPnlRfZ1a4vSp5zh96jnqmxug5Lc49jyvAOzbcw/79obwPcCvXonA0sXn8DYyARvWXUObtuaY7dUHbgPbYtmS8zh+9DHevk2Ari6vkOvX2DQcOviAb+VH5dk0lkLVCnnh6tKGUjsNigLmfHJW8RnZ0FRVRpetB6CvoYGnC6eQdkBFeqYyoqSu5EFBQQmWrrhI2fhIwuBhu5GZWUCp7dlTnpTdsGTMW3iGdD+jnJA7i+WifuI5y5+0BMSiBf3Qt49wdQRFQOU+u3FtLtTVVVDGZqP1oT2Ya9sZdbW04NSwMQ6+fgnf8FCcdR8GayNjbH7+BEcjIzDFph3m23WBy9kAvP+VCgaNhpgZcxGT/gueQYEwVNdAcn4eno2fjI3PHuHE20jY1q0Hf7dBaLrXF588iQrj8+4GYYcDLyRdVkmm269iRL5WS0sdHZrIRwezMpJ8l69fmSOX/EpJnx/lVJecFZeTDhqdiPhkl70DQ0n0Pf+ny1mFvoglDcq7ctFLLtsUVMjPL6Y0kQm+uYBSwjafMUvJycPkgCu4MWMsythsKDHIQzPjEzLgQTFvoTIe47rCxaUNdHUEy8JLQuCNN9izL4SvUObB/R5o2EA+Uk6VWb/xGu4/IPc5A4T6xqSJPaR2xaX9ysXwkXvJG/5m8SJnuQVj/InaeAGnn+Poscdi2zSzMoHfrrF8x4JiP8OpIbWk6t4Bx3BvtIfUY6yMrJ8hFQUQr4FdMd5BUNtQWj59SoHnLOp7v3O9+sLFubVU16LyYBUH2f1XVspCUWEptHVle77k/eoHNisa4BLPF12TRJFt/3RjdvT4YwScei62TXV/r6lM1qXSZlRmMlBQQkTZxKSmo4UJuUGob6ZPSRKnKsf8n+BEwDNMm2qPQQMl/0Lef/ARJwOeCU0gvnXrLWbPcpS4TzIWzOtH2Zg9fhKDZ8+/4NjhSahXT7Ly4T9TczDO46BE58jLkP2peVuOvVuQGrOP0cmIT8gQqSNIxp1R46U6TxH0EiP9lvQrGzFJv7Dr6hO5GjMqxRIr4+MbjPr19SWOTpvpdRIfP/4gbygFmel52PTPeUS9+g4A0NRSxcipPeA+Rjr3mZbhLQBcANSCEP5kqHqWqhNtCvljVOFbmQ06cBofknkbh5/WUNd9k9ZdUBUdHTXo62lCW1sNmpqqKCgoQUpKNn6mSraBq6gZxquIb1i0+JzE59Wpo4uBbm3Rvp0F9PQ0K5IA8/KK8f5DEp49/4K3bxPwI1l4fog4rl7yqshVkZUVqy6RliofMcwOkyf1kMv1JIHKPaanp4GL52YpfCzZ2YVISMxAQkIGEpMykZCQgZzcQiQkZKKwkJoAtSz3aEFxKbrM2yOzNmNVYuNS4TnTHyyWZJMaGo2GkcPt0K1rE1hYGILJZKCkhIWi4lJERibg/oOPePqMWk0xX5/RpNGNwj67JVOP480L0aHnQW/WgkYhp64yuWndoaI+DCqaPEGJnJSG0KkjGO39p6/MqKjkV/fKbOv2W6RC5lKtzC5NpZYMLYyQO4uxZ989SqK04sjJKZLLBnNiYialsG5JadfWAosW9seWrTclOi8lJRt79wsmb8tCbWMd+GwfKTdDBoDUkAGoEUMGAL17Nce9kA9i2yhi9imviZo80VBVTOXrhg2McSdokcTvmcvl4tSZUJwiyQkUB5PJgM+2kbCQQlEmNjoZb17EYc95T6HJ06N6b4Fzu9W4+XqNRP1qGxH1EovzfFBaeAZKagOhprtN4vH9CeTlk4fuVzdU0gmoQgeArtskc2kJg0YDZnr2rnadQlF4zZMtb0UcfR2tsZxibo6iaNyoNk4HTIexsaC0l7SQ6VACAJMpf7Fbqiz5x5lSu0uX5ZMP9F+mulcQNBqhBdi8eV18/ZYm8flbl12CdVtzkSogp+4tks6Fzi1FWfFdlBQchqr2P1DTXgJlNek1Z2sSWaoHKApRSiXSwASIvIXu2wWDOB7NlzxnqY+jNex7NkPf/lsh4TaaXMnOLlRo//Y9m8GmjTmlkHl5M3FCd4yiIPMkCaWlLCyk4D5dubzmvsg0iqGae/aFYJB7ewWPpmbpuWg/xvRuq7D+VVWVcCdokdzLdAiDyaTjThBPLJqq/mhlUpIyYdtd/iV9WKUvoaTaGzq1xXsE/g1oVXN1DzJKSlj49l18bq4kgulMQDqjJQ4lJQZC7izG9cA32Lnrtlz7loTj/k8wflxXhfWvq6uO+3cXI+lHFsaOP6Cw65TDYNBxK3A+lJTkX+Rw2cqLyKfghqjpciszpvfCnn3k7tqyMrZCPqfqgko047XnHzDPXTFpLgBhZO7fXYyhI/YgPT1PIddo384Cmzfxq+zEx0tuzGy7N8WNc+GY4CU88CtfQnfWvZAP6N2rOZgq1Zd3RcauL7ugo6SDxlqN8Sz9GT7kfsCx9scon6+rWz0h91R5+Ig8mK5zJ+rJ1Qpdd7q6tMHokZ2gQTGDW95kVFP0Tr26tbB4ETUXmCzs9RunsAf069fUctlqml72zSm1o7L3928nt7B69kAOH5igkH61NFXhvXGowPHcXMn3zLv3aYHCghKRrkTfNdSluM6ee4GN3oESR2grmsjsSIwzH4eO+h2xoMkCOBg7ILFQdKpAVfQUUHdQFr5RUEyqqoYiDomLc0rKBI9umOBBzB43egeSbuDLin3PZvCa7VjtS2pHhxZwdGiBBw+jsX7jdbl9EXr2sMKKZZIXFZQELheUxlsdmm1k6FLMG1q34Rp6dP8zRXGpIO8oRVnQ1lariCibPuM4pQrf4ujjaI0hgzuILB2UJMU+SpfezWFgrI3+NqugoqqElu0toKqqhOTETMT9FgA4fM2LtJ+0tFwc/F0UtpfjZpw6OQ11autKPB5FMKfxHOyP248mWk2Qx8rD2+y3cDWhvndPpQpISQmLcs1KWblEIVhQEu1XvtD86uT+g2jEfE7BzVuRIhWkxcFg0NGhvSWc+rascdeXKNLT83D6TCiuBb6RyLi5urTB+LFdKT+4//KX6iYsPA77Dz6g7BJs07o+Znj2plT7bsgwP2Rk5ottIypcO/hyBHZWWYXVMzfA3vMzoEzhIS0sirPqnp4k51amami+x0sPHGt/DB4vPTDMdBj61u6L0wmnUU+tHl5kvkDbWm3xJusNovOicaTdEQDA/Lfz+YqdAsDjX48r2odmhOJbwbeK9pUpLCyFs9sOsWNcvtQN9j2tSN+rPJC3OEP1mGAh2Pe0gn1PK0yfal9TQ1A4BgZamD3LUSEJ3H/5/4bKnhlQcys42w4NYNuhgUL6LiSpLi6Ovu5t0ddd8sCYT59SREZAs1gc2Dt449rlOWKLRDIYdLmIDnzI/YARpiNgqm6KXka94PGSp0qjzlDH5FeT0a9OP/Sv0x/KdGW+9vXU6sH7k3Ajoa5Ons5x7kJYtRgzKrXrTEwkWxHXmDH7y1/+Ipo3e+di1Yk7oNGArtaW0NdSB0PChN9/K9XtLOJwuJRkvNzcd2LThiEijbi6urLUeVMcLs8ITm8wHWcSziA8MxxFbN7+YXpJOpppN8O6FusQEB+AqRFTcaz9Mb72uSzZyuB8+SKbC5kqS5dfIG0jaRzCX2P2l79UMyGvPqNXO/Gu8Uk+F9CsvrFCoxX/QjB67H7KbZcsu4C+fVpi0YJ+Aq9paqhKbcw+5X2CvZE9NJhE5ZIRZiMwwmwEAFSszNQYaijmEP2XcEpAq1SYuLx9WGYY9seJfj/NrEzwkaReWmFhCdQpKtVLQ2ZmAWmNSxfnNmjRvJ5E/cpkzJ6kHUNE5mWMtdwHPeV6yGel40jcJHQ19IC2kiEaanVCVHYwnqefhCpdC+Ms9yM4ZTu+5r+ErlIdtNNzRyPtztj3ZQQMVSwwxMwbXHDwNM2fr99t0X2wwKrmQvz/8pfq5mN8KtRUqqe21P8DPqupRSvOXS2YJ3lgnwfc3KmXoQm+/Q4zPXsJPPCliTS++oMYdxG7CMe/H0dHfSJ/dNn7Zehu2B2ZpZlQYxAh9RpMDTxPfw47PTuEZoSijlodlHJKoUxXrmh/9cfVivbCaN/ektSYBd2Okkovlyr+J8kL/zr3l1zAWuoAEA6Xja/5YWio1Qn7vgzH9EZncTjOA5MaHENO2U/8Kv6KhlqdsC26D+Y2vQEGjfhivs68Ahu9gdgW3QeudZcjKGU7vJpcBYfLRnTuA9z76Yf+Jov4+v1rzHiUlbLg2mUjOBxB3/ztV6v5fo96HY8FUwTzUJSUmbhRqfZTn3arBdqU065jQ2zYzV8HavyAXUhJyhRoe+jCDJj93uC/ExiJ7WuuYs2OEVg17wxfu41+Y9DWjt9V47PuOoKvvRZ4D1V5ev8j1i06z3esTQdLtOlgiaN+9xD4fLlAuQhWGRur5p/Bq+c8PT0NTVVcfsi/uUz186rM3svP0MOmIcauO4WwQ3Nw7GY4urS0xJl7r9GtlSW2nH6AG1sm4UtSOsauO4VXR+ah77wDOLVqNDw2nsXVTRNAp9NgN2Un7u+eAfXfBuzS0yisP31P7GcB/FlRj/Kin8t20tqHVQMDRjtupVRpOvjtOpGvSarkf+TQRFiY8wJaZs4+IdZQ1LQ2I0C4cHs5khdLVpRGI5cL9HJUTFUOqVdmOWUpMFQlHkj6KuYAgFIO4d/VUaqNX8W8DT7a73Q2DpcNPRVCYZtJIzYjyzjl1VMZyCiJRxmnSKBfaWjk7YMvi///vujOndaDRqfh8sPF0KiUfnDzMn+Y69fPP7FgyjH0d2+H2Ut5vufiolL4bb7F17ayAenTbjWM6ujiZKDwKseunTegpKQMZ+8sQK1KeSsvn38R6jpYPf8sgl+uqlDvmDfxKJbOPIng8FUSi74CwLpF51Gnbi3sPT2tooDh1lVXcNRP9IN/eJ9tyMstwsiJ3TBuuvCAI0k+r8rEJKbB052XWHvwWigmudhhzcS+CHn1GfUMdZCVV4Rm5rwKFDMHd4W+jga4XC6uPI7CoB4twWJzKgwZAAzqYo3MvEIcDg5Hz5YNoKetjj9hx6xf5w0IfLwEj+59hL6BJlq1Na/pIQEAAu4sxD+TjkJDSw0rfUZI1UdHu4YIujEfTs7byRsDmDj5CJSVmQi+uQAA5FLfTdHQaDTQaCBVZzrm/wQeChCcIIumBCC1ulFF0vTgA6fReesBpORQy/SvpVwPlxOXI5+VgdwyaiW66TQG7qT4Iq8sHWwuMfOy1R+GtOJYPEjdj86G42CrP0ygXyZNGSlF0YgveCPp+/u/Yv/2YABAcPgqPkMGAP3deW6Bb7GpmD5yP3RqafA9mAFAVU0ZC4S4WqjwLTYVJSVlCHy+nM+QAUD7To1g3sBI4JxDF2bwyVDtOEIk4O5Yf12gLVWGjO3MV4l34ZqBYtvn/U7CFWXIAEj9efl6EddmMuig0+iorU8UZf2ZSXyPjiwZDqNamhVtACAlnVhBpOcUoK6hcG3NJUdvISYxDWG+s+A9sR8WDemBhUJ+JOHhHSLHc6A9MTN/9SIO/TpvwPvIhIoovDkTj8KtB2/mPLTPdjh2WIuR/X0Q9uwLdHXVUVbKhnVrM0S//4FXL+LgMcgPnmMPoX+XDRXnjXTeiWkjeao4EwbvwbC+2yuqKsub5/ej8e7Vd6kNWTkqKkq4f3cxDAy0KLUvLWVVrHQ0NWtGHEJSqEjSnQx4JlXyutjrrr6MIgqRqhOlzGetWJld/K2Y33SVD+XSLx6WhJ7jpAaEa8az0dmK1xpqdRJ6zpSGJwEAqgziZulqRDzcjFQbVvxefqy83zlNAymNpypf0jOw/dEzPPsWDx+3fujdiFjxfc3IRJ9D/iJXbmn5+Rhy4ixKWGwcGToQzWvzP6Q/pf3ChHNXwAUXobOmVhwvZbPxP/bOOi6K7vvjn2WX7i6llFABUbEDVAQREbsLu/OxuzFRUVQMbBERLBQQRCxQsRMBBYPurt35/TGyy7K9LOj3+T3v18uXuzN37twddufMPfeczxl34Qo+Zmahm4kR+lm0xMi2rDpjs6/ewP3kb1CUkcFQm9ZY3deBrc+9MY/x6FsqupsY4cRIzhv0tctPhfrcAadIn/S4aZINHqjtV5iqr7U0N9Hiuj3y1hssXS9eMriPVyikpalwHsQquy4rJ41KAa4pQYhzvebtu4q3yek4u3YcKBTg6rbJ6DXHBzMHd4OehjLef03Hgv0hqKEzcHYtWQG9haEmus08gFOrR6OVsS7GbyZDwjtN90bcsUWQkqLgycdUSElRQBCQSPXw+lRV1WDNwgsIf7oeEbfeoJUNudiupaOCiTMdme0Cw5diSJ+duBhK/la2HRiHqqoaaOuqYPSk7nDpvBk7fMajfSczOHfaDAD48ikNZ4LnQ1qGXEPyHHYI/lfnSf5D1OHortvo2ltySfKBl+biqF80Aq8I/s2RrjsvuA9sJ7Dt34CwiciDhx3gKjcmKgRB1r4TpgTQ4oUuYp+H4660YWAfHLofh3mOXcTutC5LW4WxRd00JWfjX+HwkIGgSknBaud+xC6YCXV5/vpkNQwGehw6ji+/DZ3dvsMInToBhqoqzDbup85zNYRtdh/Eu3/mQ45GQzWdjpivKcx95l7euDppLI4MIzP2v+Wxqxy4nzqPwdat8Gk5b5UCgkEIJbabmV4AAPDdfQe+u+9wbeNzdgYsWgsvFVO3X35rbILWvGrhtuYnDOHxGzHaeQ/2br6OvZuvi9UHL8S5XoeWDGN7L02j4oEvWU8tKv4LrM30ce/gHLY2fTqY48kx1t/5/PrxGL72NIK2TmZuu7puIvqt8kP7ufzzzURZM6tr7GVkaLgcthTTRx9BaXEF+rraIOlzOv5Z7wE5eWkc2n0H85a5cvQRHf4OE6Y7Yv3SAGzeOxqXw5bi4qmH2LuFNdOm0xmQorK+p2m/8pmGbuIMR4yX8EMWAFRVViPtB+c6bkOYNaM3XPvbYsPGYHz/wVkEuC4EAdy4KbrnaJjrXly90/TraPv3jcOiJRcEtnse/w2jx/ki4MIcgW258fVrFqbNPCVUWxqN2qAHAg5jFvD8LRIyc9DByABdzYyY24cfu4j0omK00tNGaWU1Xv1IY87gAuPf4VnqT9x6+xmL+naDvqoKPNqSiXdX4t+juLISuyMesu2ba3EFheUVsNrgjR4tjTn6rD9DFGXGWMuW/k7M12ucHLEr+iF2DOCfwLwuLBLb67Q5M3oY5obcxLXJ4/ged/r5S4xpZws5GnlJpalU5kywvLoGVAoFtvqsdRNTDU41aGcL/qKaNBoVNTWCK94aNNfEp3c/4Tm3L0Z7svu9c7KKMG7APqiKoS5S2y83g8XPwHFDnPWyWgIi/uHYNqLvLhQVNqxSgqSvl6Dw+7rUNWQAoKWqKPHgDr+Dd9HVwRI11eR3qLSkEtsPjMPpo9GgUqWwbmkALv2egUXdecvVmCkoyoJOZ6C6itVHS0t9jJ3SE2sWXuR63sWrB6KlpT7iY5PgOri9RD9TLX0H2iHkvPi11HhhbKSJ06emI/DKUxz1i5Z4/wAwb+opJCdl4qCfJ8wt9dCv21bcrRdw5DnaF6UllTh3dT5kZWlYNOsMOnZpgXGTewAAbl17icP7wtC1hwVWbBiMn99zYdBMHfLy3BOlbW2aQ1tbGdnZgpeVsrKK0KefF8aN6Sq0C7C4uAJTpp0QqORSl9q1R3HhMGYJmTmgUICgl+/ZjNn7tEy8XjsfctLkIVGfWRVdR9rbQF9NGbfefsasXp3Z+htpbwMA2B3xkGPf6msRGNOxLTYM7MPRp6TRVVLCw2+CxXTTiorhpsxaD9JTVkJ6keA/eEZxCd6kZWBFKHvU5U43F+SVlUFDseHSVC0s9ZDwQXC5ecs2Boi6/QbfuQh5FvwWX1bXEl10tLZfXohSL6mZkabI5+dH7ZpPQ3wAkr5efxsLV7lhjNs+LN9IurCLC8uxZtFFGJuREXklddZIuvQkDfEYN/aZ4dCxXeA57BCyM4vguycMffrbIDr8PQ7vuYN9fpNRVVWD5bPPovq3wbz9ZC36D2qHce77oauvhtG/b76SxsndDqOnNZ526MgRnREQ+LRRSkvNXOAEw2YaWDjzNM4FcbpjI8PeYea8fjAy1QLBIz/r1NFoXAldgvtRH3m2qc/Sxa5YuTpQcMPfXLgUi4QvGVi80AX6+rzVOe7HfMbO3aGorBTe7a+sJAepBooCsBmz/LJyNFNXxbhObbEz/AH2DicTA8/EvsTojrZMQwYAfa0aJmVzJvYloj4ns822GtLnhAdn8DyHNFafh67n2J9TVgoNBcElEPSUlZBRzHqayCgugb6K4MVgA1UV2OjrYuvv2eClV2+xPjwKO91coKWogNzShv8I1u4ciQkDvRF49jFGTuRdmsJjVGc8jv6MqNtvsXzzUOZ2BoPBdM2Jsu5Vt1/f3XcQcikOQ8aw3NC1LsOZSzj93acORWLKPNYMuTCfNA6zlvTneo7Nyy5j/W7RffSlJRXQM1CHtBifCwDa2ptyXC8ADbpex45H43Ig55qLQy8rbFjHfxH+Rpz4gtyDunCvLNCrb2v06tua+d7K2hBXI5cx3998uJr5esXvoJpLoYvZAjlkZGi4UC/SdYcPu9fi5sPVoNMZbA839Y+RNKYWeo3aPwAEX1mAgz4RuHbjpUT7tWlLThp4GaFdW67jVjQZqs7tgbGqqgYrNwyGjCwNzgNshX6o7NTRDA69rBDz4LPQY41/8Q3jREgyF5brIQ3/frD9Qkf6XcKFKSOhq6KEh4kp+JyRDSs9bWQVlyLg+VsEPH/LdrCobr+6ZBWTNzWrDexPfg3psz47ox9gmWNPSFEo2BwRjdgFM9n2O/udRsSMyWzbNrn0he0eHwy3JW8IEwOCED6dvQ03Jnawg7mXNza79IUUhYLtUTGgSZFfKlkaDQyCwPMfv9CxuSEAICE7B5ba3IMjeKGjp4pOPSxw8uBdnDoUiS49LECRouDVs29gMBi48WgNs+2uo5PgYr8RLvYb4T6iIyoraxBxg/Tp10YUisPc5QNweNdt3Al5CdsOxsx+ZWRo8BjVmaN9yMU4PHuUiM49LZCVUYh7d95CVlYa9t1acu2/pLgC/TtuQlcHS6T/zEfK1yxciVwOZRXyQaQgrxSjnHcDAPq42kJLRwXBF0j30ub97JFsETdf833v7M5KzOR2veKfJCEvp1is67Vrz22Ehb/lui/mwWcMGX4AIUG810c3nI0Q+Zy18Nu9uRwAACAASURBVDJmopKXUYBZ9qtRUVYJn4WyGDKvP5qZC2c0/saqxpJgwXxnDHSzE3odSBRyc7m75AybazAfpiJuv4XzAFu2/TIyNJSWVEBGhoah/fdi1oJ+aGGui4SPabATkDqxYd1gFBaWY8jwAxL5DOIQFbFCIv2wGbMf+YXQVSHdKYfGDEIf7xOIWzEbQ9q1RuTnJIQvYAle1jdCojKkXWucfByPDxsWMTXn6veZW1IGTSXx3XMj29pgXshNPPqWCp8h7hzBHxEzJsP91HmkFxXj4riRsNDWhByNhujZU+HgewJVdDquTBgDvd9ux5ivKVh1m7zJmHuRY/28fCGov43Wq8Vz4XriLHJKS+E3YjC6Gjdnnitx5WIsun4bkwKuQo5Gw4BWFtja34mtzznBN9jac2PL/rHIzy3B7g0hePmMzOUzaaGDUVzcN+HxGxHg/xDXLpGzg5lLXDBgSAfI8fCjC8OgkZ3g4GyNTUsD8CjqE7PfoWO554bcfLIWxw9E4PrlpwAoGDW5B9tMrS5aOirYdXQSntz/jCN7w1BVWY2WlvrIySxiGjM1DUX4nJ2OJ/c/I+z6K5QWV6CNnRGWbx4CLR0Vtv6y0gsQGcpyi+6tp6Ze15gBnNeruakW/EPmi3W9eBmyWgoLy/HiRQo68LjZvPJdjB5LDmOMYzvMHcQeGZySkYehW87Ae5YHHGzMRB6bsFSWVUFBRR50OgO3/KJwyy8KXqEr0U7ImnJNTUFeKdQ0FNm29W+7jvl67d7R6OHU8LGbmekgKmIlnFx2SkRHcv60U0hOzMTBY5MBAAaG6lg06wyyM4vgc8IT/gFzMHbIQejpqWHfkYmYPfkEkr5k4OP7nzh7Igbhj9YgO6sI7n13Yt/hiTC30kdyYia0tFUwwGEHzgfPh4Ymbze5qqo8rgcvEkkFRRKMH9uNWR5MEjAVQA7cewIqhYJ5vVk3pbpBF64+p0FnELDS08a9hGSsG9Abo+xZTwgPk1Iw/VwIz5kVtwCO7OJS9NzjB+fW5hx9Wm3whrqCPDqZNMPDpBTYGurh9OThPD+IIDejJGmMhGxzL2/4Dh2EfhaNo0QuLIKSpoWlVgFE2OjGxmS8mzeyMwubbCzCRnDp6qri0vnZXPf5XH+Mh++/InDNBK77CQJoP9e7yRRA8jMLMdN+FQpzihFefq5RzyWOAsiXD7+wYOxRpsJHTQ0dE5z3oCCvFPPWuCPo9EOk/8znqwAiDhmZhRg7/ohQbSWpALJ76w1kZRZh+bpB0K73ENcQnF13oaam4cr/gjjhN1WockB1uRvygmNbvyGsCgnMmdnCPpx5YXWNz535k0U6sTBoKyvyNH6SdDdKmgdzpjVKn2ryf7+CwP8iU+c7wWvt1SY736eEdKHaZWYWIjOzELq6nInTl2NeY5QDb326xsg944e6rirOJx6Au/oU3D4ZjQFTezftAARw0jsczerkNJ7zvYf83BKm8XIb0ZFtliYp9HRVce/uSrgM2M0MemkKlq0VviinKETcWY7gkHgc8hUspSYOZmY6YlcuvxvyArvOzuC5/9/p2G5khAkIEadPeek/IyxbVVWDpM/peBHXeNGkf5J2ncxg0Fyjyc5XIUI9rpLSSp77MvIbVs5D0sjIkd/P8DMxf3gknHz/lg2LNobM96lJWU16/oP7uc+gm5LnmT/xOZ8zIldUhg6xx9BGEBpWU1XA8aOeghvy4OfXbERee4mY22+Y/+oikRIw1998wsOkFJ778sskK4vyH5Ll8M7bCLsu2Qitvwk1DUX4hyxosvMJK4UEANo82o50aAv/8Of4Z7gj1JU4o3A9914WeVxVFdVwV5+CVWfnwnEEpyiCi/wEGLc2hN8L/kKwn58L99CT/TMX0YFxuOUXieyfedA11oLzhF4Yu1I85Rd+lBZXQEuX5W771kR1uWqxtNBDVMSK3+tojXOOroFHkF5Kpgm11zHABZdRkKexHoCPvnuKqB/J2NXDFSPNbRp0rnlznDBvjhMqK2uw3esmHj5KEKsfeXkZeG0bARub5oIbC0C3mQac+OQpim3Miioq0cHbF77DBsGjbSt4tG2FPcM4kyxrk6cnd20P8x1k0ETiqsZ3IXo+OofYrG8c21fYOMPTXLC6iVUwqVggifW3f54H49aP9xzbpSgUhDnPg5EiZwJ1/XEIGktiURbcI4/ybDfrySXcz0jkfnAbAG1Yk/RUFMEqeDPXfqyCN0NJWhbx7mQEEr/rzG+Niu94eCDs32Lnuwj4J8Zx3belvTtGmDSu7FDPHpZCtetobwoVFe7pIgs8euDivVfos5x3GLTv/KE89zUGZXXy0J6Hv0FHl7Y8287quBrf3v9gvpeRk0b61yyc2RSE5pb66Dmkk0TH1sq2OYLPPsGUhaTgQVEh+wP0nrVX0a5L465HUygUREU0jtr84/RUpJcWY3VHR0T9SMbTjB+wPr8fyZNZqRVrO/VG1I9kXEh43WBjVousLA2bNrCk9V6/+Y4XL74hPaMASUlZyC8oRVlZFTQ1laClqQR1dUV0726Bnt0toKgoWa3K2WvcsXyiH6rq6Hvuv8xSJvnXFefUV1CFzbVtqGZw91/vfBeBx1nJONZtLKhNsPBQ1xjVh0EQcA73wUzLHljchrcI7t9GSXUlnmWnYOrjCwKv84nu/JVTJM2K+Gu4/p1/JGEtGd9zEXI8Gooq8pi4zA0A8DTyPTo7sfQ0x3dYB5+wZVji4Q3/Jxsw0nollnqPh5GFHtS1VSDHpRS9sMmfG9bxF0iOOzAfTz6mYHdQDFIy8ph9u3dujfXj+0GqiRfOljiR609UGhWbRu3HrQLOcjkAcGnndXx7/wNd3Nph9dl5kK13jehCqNiIyvLtwzGu3270b7sOikpyKP/tvvXovJkp4+W5sJ/Ez9tUeD0nU31mWHfCDOtOMPHfBTpBoLCqAqoy5Fq7qQrpSv+Sn9No47BrawS7tkaCGzYCBEFg19kZKMgtwdie27HFbzLb/n+dMUsvKwQAnOg+Dj102Z/ERt0/iTd5v/AoMxkdbnjhtceqRhvHz9ICDL7HSjZ9OnAZVGXYn8IXPL2CiF+fcCzhEQYZ2aKFsmh5Z6JwtBunmrhfwmPs+xAFQPQZ6MSHZwFwXueM8iIsfHqFeZ3Tywqhr8AZ4CDp8QDAtjdhTEOmJ6+C+678IzLXTzwK38iVGG27mmnM6jN5pTvUtVXAYBCoqqzGcp+JsO1Gyo5RqbyLMYbeWAK3QbzLXXgMag8FLoawPt1amyBkvYnAdo3N7mnH8O3dD/QZ3Q0t25nAbwV36SoAOL2RrAm2KWgJ1/1UmuhFLAWhqaOCY8HzsWH+eWT8Yume1tWj9D9wF6Om/G9W7v6UnwULNdb9YVmHXtj94gFG3wnAHY/JbG0lkS7QFGx5cxs3vr9FSQ1r3ViBJoNrfWahORdv1boZpxEYtw4rJ5/A7Y/b4W67FjffbmXu/9cZMwCY1LIzhyEDgMuOU5kzpQp6NcpqqqBAEz/nih9O4QeZr98OXgMZKc4f8MHOI9Dj9j7kVJTA7a4vzvWahI5axo0ynsaA23XWk1dhu84DIn3xalDjPTTU5dI3Vk23uy7zBbY3ttAHjUbFsoMTQK9hgErjjIfK+C0wm5dZCBlZaZQUlkPmd92xyCvP4DSCu7tMXl4G9+6uxNXg5wi5/gJFRRWQkqKgc0czLFncH7L/Y1WkIy88AgAsOzETUlQp+K24iOOrLmH6Du4lV4xaGXLd3pgYt9DB6dvcDaikSU8zh74B6SYvLFyHstKzAGSgrnEEDEYOSooPgsHIg5bWddCkLZGbOxY11Z+gpDQfVJoBKJBDXt4kaGpdgYxMewA0ZKTbgMHIBZWqD1099jB0FRk5fC1kCSnPte2C55k/cf8nq27ktyJyf3udpr/2otIqZBPbewoAAkBZTRWcIw5iXitHzLVilyczaqmDj69SUVJcjrshL+Dlzx5V/q+MZpxqwb38DAC0VGHlNtxNE17GpSFwM2S1zLViPSmeTRKuxMvfAAXCXefymoaVZRGFmjpK/NJ8rjlASgf1HEiGvndwaIWXPCR9IgLikJ9dBE09cnZ58UAYkt//xOVDd9Gpr+AE3GFDO+L8mVm4EbII164uxKqV7iIbsoD7rzHHJxgzD1zFylO3kZjWeG4kQUjVUfaIuviYZzsNLukG/xbo9O9QUBjJfK+qugXqGiegb5AIOTknSElpQE1tL3R0HyEvn8wjJBhF0NK+gcrKBwCA/IJF0NNPQkE+y/jq6b8DlarHYcgAoLmSKiro7LXgJliRa7/xWaRe64kP5MOcve6fNWbfivNAJ3jnqp1OIhV7HPTM4d1pBACgtZo+7rksgntzcq3v8Kf7uJfOHnQyZ+0grJh4HLmZRdi3Ogirppxk2882M4v/+Qv/3AhDbmkZ1BXkMa2zPSba2+Hgw1j4PIrjGrghS6Mit6wMMwKv4XtBIeSlpbHWyRHOltzlimrxffIUUV+S8TkrB44tTXF4qDvf9qKgI8c7mmyjnRvGPzgNADj+5TE8jGx5thWXB5lJzNdOBvxrB40xs8em12Ql46YyrpJgsnkXoa/z3whFioJeg8jIKJo0FR37kJqFddfLAGDGxiFQ11bB6diNAAC/aFIyrIV1s0Yf4+WYN/C6fI9je3h8AmSlaYg7IHj2yY0qEVIHAMBrki8AwM6RpevYfZA9Ht+I53UI16rjwiKpxOLGIjdnPLR1olBV9QIyMh049svJkUEoBfmLoSBProsqKk0HldocGpqnUVERBhrVGAxGLtTUhVPdmGDVDm8esecv9m1OekWGh7JKuQxraY0l7Rom5lxeVY3OKw4BAORlpPF0J7v4se1iMpDvrTe7Pdj5NhL305Nwosdo3EtLxNu8NCy14cxH3PkuAlPMu2GZNbmGWduLvoIqdtkPxZI2Tugd5o25cQH4NGQD8zgzK33cfLeVo79amI9Zx+PiMeZcINIKi9Dd1BgW2prYcjcaNrt9cCaed52epJxcdDlwDL8Ki5kK83ODb8LjFO9aOVZe++Ed8wS/CouhraSIiIQkmO/wRmmVaD8ycbDXYi1eJhU1PCeDG5e+sn7k7s2t+bT836WnLv+HlbrX+Vsx/1pQfxPv4pLY1xz+0PJDQUk5vC7fw7IRjkyVj5luXfDKdzGeHpiPyuoauG/gHoAhiA+xvIskSnHRVIwOjIWKhhK2XmNFzq0+NxcAcN2Xu4bku4dN+2B2/mg07l4XrxJ9SUmFwDZDBrGk9mjSlqBQpJGXOwkAZ+Xs0tKzyMzsCjV1bygpc3/g0NK+Diq1VudS8BricHNrBLiO5tie4rkcHXQMQZOSwooOvbC35wCBfQmi84pD0FBSQKeWzVFeVY1OK3zY9jfX4q6Yfy4pHmd6jYOhohr6GVrCP5G3p6nWkHFDT567osl4hx1s78fUqWwO1JmZ7Yomqwh/qTf7mhYYgpjkFJ4n3hH1AAkrF7FFVtUe8z2/AEbqnB/csaUZjg5nZbAzCAKWXvvRYZ8vPq9sXHXtpuB7Ccu3baTUdMm6TQm/WVl90ssLYaos2ZIvjYVNF3Yj3cONtwpHY7L42A200NfE2N6caQQy0jREes2E08pjXI4UTNjpGCw+wl3FxqQV+4zzVTSp3r87Yg2kZVmOHNpv4Vvfpedg27MVTOvkEekaayEzNQclBaVQUmPXSmwsom6+wtgZ4qmShN56jVGj+afrWFiShqey8hHU1UlRXlm53sjPXwgVldXIz5sOfYMUAICi4njQ6T+QnmYCJaXZUFbhFNKtqnqJvNzxoNEsoKV9jWM/N7rocY8ivOom+Yjh+1tIUfbCsgr0XHMEFVU1kPv9N3dsY4ZzMZx5qbedZ2Ls/XMwVFBFYlE2bvabLvb5Zak0VNZxq84ZfAAV5VUY3om11lZazP4QIjAA5MTIIcz8MG50aGbAESJce8z8kFBcn8J5oesaMoDMt2rfzAAvf6YJGs7/BIw6j/N/qsp2YyNMxev/EJ/3KRmY1I+3CoOmivgC3DQZGia1WoIZXmPR3cMeNVU1GGYwCwAwey+7ksVaD7JCgUkbTrfq6GXuCNh9EyvdvHD5+2Hm9jMf96G/4kQM058FVS1l7AhdgRa2xviRkAb/DVewPoB3tQBRKMgrxakDEXgVl4zsjELsXR+MveuDubZVVpXHpagVoElzzoJycwQXkHwRT+ZSysqyXHjq6qwZi6bmpTqtpaCisgYqKqwqFvLyrERxOTmy/JGe/keB5/3TqCqQYf8zj17FmQVkaSYqj9QTIyV1RLoKV5H6dFIsJrfkLk4OgM2QAYDvNc7vzHhH9pka05hJUShgEAQYBCFS/sqgNrzXhD5mCi8pM8rOBi9/piElrwAmGrwLvzU1eZVl0JAV7cZhpKjBdK39KM2HlaqugCP+98itKBE6lYCX2+A/eGPXwgDXYz9g3iDedevEJbTQH+PNF2HzaPayHyOXuEG1jiIJwSBQU02H6xTuMx7PzSMRsPsmCrLZZbcoUhSEFp3GcINZKMwpxpzO7FWTz26+ionrhzX4cxzxCkVOZiF09FSRnVEIQyNNDtV8AKgor0ZyQjoG2m9kajW6D9gDALh5+x9cDXqGq0HP+J5r4CD+ifYysrxvzKKgq/f3KfGsHtYH26+y1m6vxnEKQABA+M/P2PHmLpba9EZSUQ7kqNIwVdZA/2at2Np10TbFzncRiMlI5Bp1Lizn77NHSTON2Sg7G1x69RbTA6/h5Cj+yZx1UZaVTJa3mhz5BFBcyVurThKUVLP6F8ZoZ5QXimzMTJU0EQMybDe5KBv9BASB/C/ys6wA/DQc6l5nffl/b2RbY+Fg2wLxQTFgMIgGV+DlxrH47Yi88AiB+0JRUVKB3qO7Yeo29jWZ+Ltkzt6AKY4C+yvMKWYzhDRpKs598UbMlacI9glD+rcsaDfTgMOwzhKTs1q1ixVR2L/tOoye5oB+HtyNzpnDUbjkd5/5ftNWVgUOfoaKKiUFdXVFTJjUOBWyhaWoqmH3RRUZ0e7TNXQGaL/XTz06tcb2q/dwMuo5RnVvi+Jy7mPxS3gC7y5D0E6TnMUPizqFq305RYV32Q9Frzt7EZf9DXHZnOpBvBhbb40MAC7WqeHINGab+/dFaz0drLsTydetWB8ZCSVA1hqWxl5vP1Mn/N3FsBWfliR7P9zDSRFVLKZadMPpJFJO6fiXx5hl1ZNn26Jqlt9XUDg5v1lzZnmxSGNsKCGpbzDUmPd6Ut3rXFc/7j+EY3yf9vC5/hgd5nGPdnv8IUXkPmXkpJnlWxRVFeAxxxkec5x5tu/o0lZguRd++5XVlTBwRl8MnNFX5LFKmklz+7IZs/btTZivFy/hlOH727C90LDimSmey0Vq7xsWiwVupFdAXkYaPVuZ4sCtRzhw6xHkZGjwm8U5s65m0BGc8hbtNJuhuLqSpzqQtpwS3nqsxbBoPyQWcXrviqorEOAwFer1JhH6RprYe3EWzzGzrZmNtrPBaDtOTS9+xu1TZjZcLM257qstWikMr9PIsFMrnYarYJxNeoqJLTmrHgOAz6f7zNeb2wlOB3icmYwaBoNZNVoYtOVYhfBKa6pQzaDzNFRud32Zry878i+NMCbGn2cbn09Nq2T+PCcVfgmPMcOSuxus9jrLUv/evPzNL+7iQuJLqMrIIcBpPPrdOobksasBAN2u+SCjjP0BgUqhIHHMKqH2VzHo8Ajzx6/SQmzu6AIPE2vm6umiJ9dRUVONo73I2UHry7uwsl0fTLRgXyN7emA+Au6/xp6gGNAZ7Hk7uurKCF4/SSLX4T/+flI8lyPm1zdMirgCx2ZmcDW2gIqMHKoYNXiXkwn/j/GgEwSuD5yAgqoKjjUnUagfcg8Ah2cMFnjcjX7TQScYuJj8AsZK6rjBJwBEWoqKG3251/JTkZZDWw3ONdr83BIQDAIUHp4Koe/QqjxqbR2P48w1+VFASkrN6MJ9AbugnDMU9ugT0mctw0ciSFi2vw3HFy4Wf9R9VsFEWSoNytKCp96t1fRhfW0rVzHd/KoypNaJXKzLBYfJzFmUzbVtbDOwWubHXUF2Bbn4fN91EVqr6fMdy5u8n9j57i7H9td5P/Em7ydzvE3Fvg9ReJ/PHrSTXl7Edp1vOXH/wv5potOScD3lAxJGr8CzoQtx4N1DNq/Ak8Hz8XXsanwaRT7Rfh27mmmo6u4HgE+jlnPstwrYiWDnSXg7YimOf4pDi4vbmftCUz8i4icrPL6CXoPAZPZyFrWMdrRD/KGFeOW7GLPcWOsyLQ00YarHP1J25cwzuB/+Dks8T+JhJBlsMH3oIeTnlmCimzeqq2pw4XgMkj6lY/e6EDyM/Iio0DcY7uiFkqJyhAaRv22XdhvY+h3ttJt1HaLJEPzTh6Lw5WMaR9u/CUUl3vUCE79k4Py5x1i/NggBF2ObcFTCkVdRjkkRV5DiuRyn+w3HKAtbuJpYwMOsNdZ26o3kycvg2MwMk+5egbWmLpyNzNn+NRXBKW+x6VUYNr4Mk3jfp8L/wdtnXxEb9ZH5ry5sj83mO7yx1skREzu2Yz5FTrhI6qwt6sld7YFBEFhy4w72DSKn6qn5BXA6Sua/LHHg/tTecf8R3J3pyQz0mBl0HXSCwNj2vFW4haWXbku8zvuJQZG81ca76pjieDfhXIfBfaajTchWeD7i7k6x1zLC+V6TObZ30DTC+8Fr0TqEXHDudHMXz3Oss3MVKkhCU1YR/omx8E/k/WML7sP7aWhu7GVEpYtXyqE+gb2nYuKDMxgefYJnm646plw11iQ1nidZXzHl0Xmu+3gJPHuad8UKm374VVoIIyVWoNGB7oNxM1Uy0WVHP8ZiuJkt070a6joN/W4dQ1xmKrroGoNOEGwyal11jRGbmSqRc/Pj1/dcbPEZB3VNJegZquPskWhcOfsY46Y7YNmWIXgY+RG714Vgi884yMhJo98g4dMSkhPSMXnen3MnClNB+urjNVy3T/M8jvyCMnTt2hId7E3xJSEdfR23I+zuCkhziX4Ul9ZrvWGpp42QeeNFPtYzMgg6Ckp825zuNxwm/rsw5e5VXHdv+vpqvUIP4mj3kWAQBO66zoFzmC8i+nNGN4oya6zr2Zk/zAc+V3kLBbAZM0NVFWyNvI+tkffZGrVvZoDxHbgbmk8rFqLrwWMcrsinC7n7NjUVFLDPwxX9jrEnfHY1bo5NLg1Xjh9jZg+/7mMxJ/YyhxwKACy36Ycp5qJFHn0YshYTH57Fs+wUjn0vcr7jQWYSenFJIpaiUPB56HrMeHyRTRWkFipFCvddF7G5Jfnx2G0pz3IyijQZPB0oml+8IbRU1sZrj9WY8OAMnudw3ojFuc6i0k3HDLecZiPk+xtcS32D3MpSoY8db94BW15EwiXUD+20DNFSRXIiz69zfqGHvinbNhsNfbzOTUMXXWMYKKqgr6E56AQDb3LTMLqlXaMYs+LiclRX0VFYUIaaGjp09dXw/EkS9AzV8f1rNlw82kFXnzToWRmkN8XQSAMlxRWQkaFhuKMXgu7zLmlCMAgo/C7zscWHvEHTGkFEuLHJzi7G9Vvsmo4LFrpg9kx/nDgl+ary4vApLwuacsIFon3Kb1hhUtvF3lxdjYIwVFDDgwxWrbviau6BInY3OAM5eFGrADLDbR9+fM2GayuW92PR1mFwGcby/rEZs/tzpgp9EhU5Waa8VeyCmUIdU1cOS9I1zc71Yl8/8O06qkH91VdtP9tzoth9+XUf26Cx1GVPx6HY01G8OlaHG3hN6lJcXQkFmgzHdW/q8bRU0cYyaycss3bC5IfnmNFRwqjuJ4xmT2bd/iqqweMBAGsNfbzLYy8O+T4vA6Na2uFTfhYGGLXC2JbtcD3lA55kpGBPV3dcTn4DOkEwyxK1myNcEFatOgg3LNsY4uSBu1i7ayS2Lg9E7/42eP8yFduXB8Lv6lzoN9OAg7M1BnffhgmzekNHXw0nry3AlTOP4dFtG/acJKsC6zfTwBLPk/jyMQ1nQ0lRg8WTTyA/txSnb5L5P6vnnMXHtz9x8Dzvsvb18U3ogz56y1FBL8KT7COYYxkt9LH8uH4pDs9iElBaWgldAzWMmeYAE3Pe6TFGxpwJ/bJy0sjMLJTIeCRB3+YtcCflC98gsGmRZI5dn2aNW7eNF5d6T0R+ZRlTIzV6APdZ1KchG2B7fSuqGXQ0U1DDuBadBIow+IUugZv1GoS+ZxnCwe3W8zZm//EfwsLgIyT6p+imYypSqG9j4WjQAp73WZWgPxdkIakoB+20DHEj5QMsVLVhoqyBC4mv8D6fNHpWajr4WpQLc1VyhqirpoTMAsHJvPxYsMYdC9aQQU4BkaQU1fTFzpi+mBXBSJOm4tpv91vtutqISd0xYhJriaDWYNVS21ddtvuK9rDHIOgwV+kDK1UygbikJhO5lV+hKWsmUj/1WTHtFN48Z30HPr/9gZiwd/ANnAszSz2ux3z5wlmVOju7GC1a6DRoLNwQV2vAw6w17qR8wfSoYJx04owk/FaUj8gfpPdncIvWHPuF5ctvEeu4L9+57tdVU4KpDu+1WnVZBcxrTUZvy/EI/nqR+x3VDDqOdxvfoDwzg3oPIf8Zs/8QC8afEi3kwzSL7jiZGIvCqnLBjQGYXdyOZoqqaKakhudZ39FJRzJFB6019KAppwC7oH1oqaKJlzm/MKqFHWSkqLjy9Q38Hcl8rpOfWekLg02sEZj8Bmvak+tOYdunY8b+ICgryGLvDMmJcP8tSFGo+FH6HG/zr0KKQkNqSRzsNRsWndm/7ToAQB+3trgXSgbUzF7phovH7mPOyMPYfWoqbDqYcBzn7GyDvo7bYWSsBQsLPXxJSMf377mIjF4t8hhGH72Ebzn5aG2gg5epaXCxNseuEazQf5qUFNpt9IFtcz08//YT7zYvFCrqu7+xBVpp6CDqRzJM/Hmvv78cMx8actyrqxb+ZgAAIABJREFUl/Nj4DZ/fM8pYL6fceQq3/bdrUxwZCZ7PnLfO4eRWV7MtiaWOGJt/UMx/oE/DnYeKbIhqzsrq6qs4VQFIXjw7PlXwtl1FzFv4VmCIAji+Mn7hMuA3cQ/yy8x28xdcJZISc0hCIIgfA7fJYYMP0D0dtpBjBh9iCAIgti5O5QYOuIgERwST9yP+UT4HL5L9Ou/ixjgvpeIjUti6/f791xmv6G3XxP93fbwGhqx5cN25uv5LxcT1Yxq4mvJN2Li0ynM7QtfLWW+fpn3iiiqLibOpVwkCIIgHmU/IWa/mE+UVJcS9zLv8zwPQRAEg6ATr7K2EY/T5hEvs7YSDILOt7041DB492l5dRPz399A7Vh+lub/6aFw5fLXFxK9VhU11YTphW0895te2EZU1FRL7Hy13HudRLSbs0+sY59kHSWupMwiXucFEoEpM4jo9N0EQRDE4c+OzDbBqfOIk4mDCIIgiNSSZ8SxLy7E67xAIuzXeiIyfQdBEARx88cKIuzXeuJx1hHi+Bc3IruC/M2eShxMPMg8SNxL30lc/DqJ2c/jLF+ioPInx3gOf3YkPheEETd+/EP4fu7D3B7+axNRUp0tcPzCEHAihnCxXct872K7lu39gc3X2d7Xp6qqhnj9OpW4dOEJ8fpVilDnrE9yVi7RffsRtm2t1uwjKqqrma9brWH9TW++/kQMPHBGpHN8LcwlXEJOEcandjL/tTy9h9j38qFYY+aGzSLe37uqmhrCZtE+rm1G3TtNvMrh/PvXxyp4o1jjWj31JEEQBHFk2w3i5ZNEYqoLu43gOjPb6x2GjIwChN8m3Ql0OgNWlvoIC/0HdDoDEXffw7mfNbS1lLF6zRVcODcL8+Y4Yd4cJ7gP9kbgJVJRu0ULHSz/ZwDy80vx9t0PzJvjhA7tTdD1t5hr3X6Hj/JB0OX5SPiSgT377uDeXd4Lz3XRkdVGcXUxTBVNeLZpp26HlNJU3MuKxnjjMTj+9SSWWC6EjJQ0emjxrskFACHJHdC72Tko0pqjtOYXQpI7YGgL8dS5ueF45yC2tHfD1+JcnE6MQ7TrAon1LYjtb8OZNdTEqewsaSQxnpGm7THStL0kh/VH2H3lPhxtxXPBvMoLYK4/tVUfIbD9rZ/Lubb/WfYCsyzIVJDymnwEpkzDHMtolNML0FOHXA/xTxJOLchS1QWWqi7wTWBJYznoLYF/0mAoS+tjlMkJ0CiyYo0fAK5diMXAUbw1aRasG4TbQc957peWpqJtWyO0bSv+7Pz4g+eY0oM9HalvqxYIefkBozuRAXRGmqwI2oFtrbD8yh2RzmGqooGwwZ5ij7GhSFOpGNerHS484LwHppcVoaxGuMon/HJvefHpNen6fHL3A2atdoe8InthZa7G7MePXLRpwyrwlp5egJYtyQVUKlUKKak5SEzMwIplbjjgw70EBJ3OgFFz0qeprs5dObtuvybG2szjRGFta1Z0C5XC/eLcy7qP9mp2ONXRDwCgK6eDspoySEtJY87LBfBtf5DrcQBgo7kY6rJkGRcZqipsNCVbyTbAcTL05FXQU7cFXJsJViSRJM+zGz8cXBT+pvFU0mvQ6jJvd46g/Q0+f3UNfmaLH4BQ12gAECu4QonGKmSrJsP9Jq8m0wz5Vaz1FTrBWYx1nOk5BKXORn5VCtv2k4nuzHH5JvRmG2Pd8Y8xPQ11GcEV2KsqxUsUZjAIDB28H8VFLPf0rNl9MWIUd+EFnv0QnK53CoWCupup/2KB7hg3VsBHJb2Gr2BC51s78XKQaG7cPednwt1mLWpq6HBttQrSMuz9cz3bsn8GwHPqCXi4t8fnhHT06mkJz2knsGfnaAQEPsXM6Y4YM/4IrgTMw9LF/fH0WTI6d2J/iqRSpbDX+w589k+A79EoODpw6hM2a6bB7FfYyKH17zchtew7PJ9Px07bbSiuLsHeL/tBJ+jY2IbTPwsAvXUcsOj1P6BCCvvsdmOn7XbcTg/DjPg5WN2KszxDXT7l+8FcjbW4nVBwEuZqDc/h6HSTFDotqq6AtBQVlfQaUCkUfBrK/TM0Bmd6TYRzuA8c9JouqZIff9N4ZKk0ZlK0OPsbilvnVrhwT3zR2VrDcDzRDarSBsztdKIaVIo0sisToS1rAQBQkdbnGnxRVM0qBvki9xz05AVX1r6X4YXhxuw5ngo0TQw3PgKA08iyYL/J1x2/MIZshGdP+O25g0UbPCAlgloPAPTrswNXQxZCTV0Ra1YGYpvXSIwb4wsTU2107CR8QMqkbu0x40wIpvRkzc4iPyZhz0hWjbFvOfnM17ffJsBMW/QSUXSCQHDSe+RXloPOYKCznhHa6xgIPlBCpGbnQ0mOU3DC88FFuBu1wYeCDPTVt8CGl3dwl4uK/lTz7jiZ+BitQjZx7KuPKMU5uRozQwN17PIahUlT/GBirIVePS3RuVMLjJt4FG1tm4NGozIL2tFoVERGfYCpiTbmLjjL1k/HDqaYNfc0Ro8kn3CysoqwcXMI030JgNnvqePTUFVVg6XLLgIAnFx2IuLOcg6R1c3WG7DtkxfWtCLdkDqyOnxnVgBZhuWA3V62bQP0+2OAfn+u7R+kTWMeJ0tVw+1UZyjQ9FFekwE5qmTqcm1u7yZUu8Z0/6lIyyFuIGdkGj/+tvH8W3Hv3BpTXfhJOfPGWm0wbv9aDS1Zc9CJKvTQZT0xB6XOQkvlPqhhVKKVKhmY0FtvOYJSZ6Gz1lSklMbCWLEL2mmMhr68LcLTNkCJpguqlAx66wn+2xgpdkZsth/KanLRV5/0moT+WsU0nDJSrFwpK1VXvMwli/iqyxihhqgEjSLLMX5hGDDcHn577mDe6CNYsonT9VnBp7q2nJw01Op5j7ZsHQ7/UzEiGbPWBjrIKy1DRXUN5KRpyCwio1Hr69fml5VDXUEe+yIewbMHZ6Vqfnwryof7jTMoqWb/PGMt22J7NxeBx9MZDFTRGZCX5j1rer6bfwVz3xncXcvv8tOx3X4gTiTEYZ2dC36VcZ+gLGnTF+e/PhVZcisrvQA6+iw37dHtNzFrNSs4ikIQXObGDWDazFM4cYxTPzDmwWc49LLCm7ff0daWv1968pTjOH2Kt5JFdmU21r7fgFHNR6KPjiPH/oWvloBCkcJ+uz0ij7+p2fv+Ho4lPIYCTQbTLbphbiveosT/8R//wZsPr79j6aTjbNtqlUH2rgvG/bB3uPmcU25r/twz8DlMRlLWzswAwMXJC+GRwq3d11JeVY0xxwLwPa8A1oa6ODuNpezfeq03Zjl2RllVNQKevcH0Xh0xt4/wwgKrn4TjYgJ32bNa6gsK+z58itc/00GjSsF3JFlH0vmwPyLmSn7dbUz0GRgpqeNx5jcssXaEkZIG7LWaCz5QCN49/4Y1005hzQGWctPWBedx8y1rpiZxY/Zvg0HU4GHadJRW/4CSjAl6GviBIrykpUA+FmSgtZoex+t/OyXFFfD3DkfoZf51pGqRlqFh6hIXDJ7AP2Dnf4GK8ipcPBKNoNOPwBByjZhCocB1REdYdzBBn4ENl337E7x4nIizPpFIePdT6GOMWuhg9AxH2NibQFtPuFJCVZU1+PEtG3Q6AxZ11v550ddxO074T4eJiTbWriKNGUEAc2aewhE//uLfTUVOeSnsAw7joIM7Bpm1Yobn1xqvxIJc9As5CRMVdUQNncZKvt95CK9WzEPbHT4Y38kOy/r2RJttB/BhjWQKpHKDXicHlUqR3L2yPkM7bEDwC5arstGNWf823PXQ/lYOBs5h+wEEJ7eDh1kcqBRZ0IkKXP/alWc044eXqVg6wY9v/4MndMOslSwX4/Y3EVjd1hl0goFd7yKxypZ3SQ5xEOb6h30QXl6modwJeo4DG4QrE88LJWU59B/eEdP+4e4mrmWg3XrUVHMvQ9HMVAsnbklWhUYQfrtuI/jMY4n0RZGiYOXOkXAYYCuR/hqLrLQCLBjli4I84aXG+GHX2Qw7TkzhqZwuDmVlVRji4Y2aajq6dGmJbV4jcT/6E0xNtWFswl3mbNeKQNy7xX+WBEjutzUmLACx6d+Zxqu+MQMAnzex2PvyIUaa22BXD9KFPODIGdyePQlPU35g4rkgBE4Zg3PPXmHPEP5lbz79zMKovRc4tne2MMLx2dwLqw6OPIFrTk0n//Us5jM61YnF4Js0fT/zA1a/DuCoS9NV2wIH7CeBgn9vZE4t1pqLQP0dMkylyMFGU7I3wGU2fbH7XRTMVbSx1PrP1n3yiNmLn2WsKgAvXCVn5FZ4nsSbZ18l0ldJcQWC/B8iyP8hth/3RPtunLqYAHgasqakqKAMYx29JD4WgkFgx7LL2LHsMpZuH4Z+Hn9XOsKhrTdw69JTwQ1F5PXTr3C1WQtdQ3WcifhHIn0qKMgg/C57IJhj76aNLBZEfOYvWKlr820z26Yz9r58iIjvidgF0lidGkcans4mzfFx7SKcfBIv0JDdjP+ENRfCoK4kj+5WJrgV/wl9bVpCVVEOwXHv0f6fAzg+ezg6tGA99LuEHcHX4lyYX2G5/bbbD8QIU+HFqmsprCpHUnE2lGiysFRlyZAJXZyzLl9LMjH72UnkVXKX04nN/oJOd9bgYo/5MFduupIjf4Iv+f6wUGMpEyQUnGKLbmwoDrdZRfd2vYvEk4GSDf0XBU1ZZVx3WCrRPqsqazCofeOVBVk93R9tO5lhp7/wuqJNxZaFF/E48kOjn2fv6qvYu/oqPBc5Y9R0h0Y/Hz/yc4oxxsGr0c+T+Ssf/dusgeciZwyf0hNUqmjurI8ffwnVrnVrwW7KpsBYRQ2JBTl829RqNlbRWQ9OeiosEXMqhYIZ3TsKPNeaC2HYNq4/3O1Jg34r/hMsDLQwu39XbBzVD7aLveF5KJBNjDi8/2xYBW3D5+Es42IbvJOrMUsvK0SfcFbRWTuNZrjkwPr9qsrIY/wDUoi+bjSjSMU5a1n1KoBpyMaadMfg5h2hI6eK3MpipJbmYOeH68isKMSqV5cQ1OvP3XybAgIE4rPWQUnaGCXVqSAIyT5hVxMMrLBxgjz1z1dj/lQo3A9cFNbM8BfcqIG8efYVKV8yYWLBW0y2qXn3/FuTGLK6+O+PQP9h9lDV4J7X2RTMHMw/sljS+O+PQPyjL9h9hnfAGDfmzzkjVLuo+42XfiEKnXSbI6kgl2+b3IoyAIB6PTmrs89e4dhjMmF8oUNXjGzPWYC5PrWGjBtUKSmOYrHcMFbiXv7pn3h2qazXecKtoSZ+4H9/4jkzA4DnrtvZtivSZGGkqIWeOlbY//k2Lnx7JNQg/pdxN41BWU0aSqq/o7mSK+x1BNdNEoW7LnOhJiO6llpjcNNRMm6bWqa6eeNXCv+nSUkxa8hBnLy9BIa/xUfjoj81yXm5cWjLDdwKkLyLTRhG9dyOlbtHwbGJ19LodAbcbNc16TlreRefgkEdNuLGi41CH1PXSE3zPI7FS13RurUhKFIUMBgEZkw7Ce8Dotcdayy2d3PGxYTXMPHfhZX23GffQUlkaajBZiyhYZ+YWMjQqHi8mKxmcOTRUxx99AyzeoiX9gEAva3NEPmWs6RV7aysVt3jpjP3Cgovc39gW3sPDDW2Qw2DAZvrW7D25Q1sbT+I2UaOSkNFvdD9f7xGwN1mLWTlWQ/+Qc9YMzeec/NmCvyT+RZZDeC7/9+EAs0AOvJdoChtCDrBvUaPuPS6vR8dbuxi/hOHbR/P4E56XIPHoiWrjKEPvGF/Zy1CfzVMsmvzwgtNZshqmTpgH+aNOAwAiLgmfsJxQ9iy8OIfM2S1eC27jPCrnBXgG4s/achqqaqohqu1eIIDSspyaGPdjBlUIiVFwYlT0zDN87iAI5uWh8PJUlte8TFc9+958QAGiipY2p6V3nPs8XPM7M4yXLN7dIZPjOBK2pU1vHPAyqu47zuREIv+4UfR+uoOHPv8BAFfef8GhxqT7kealBSMFNVxNZX9fmOixBl408vVFjffbUXQsw3Mf3XhGQCSX8U/+ogQUjWdVzRPcWE5SosrkJ1egKz0AmRnFCIrvRDZ6QXk9oxC5GQWQdRgSymqFLT1VJn/FJRkoaOvxnyvpU/+z6+IYHByO54Ri/mVH6AlJ7nF9reDV3FsK66uhLI0Z4Z9XaY/98LxjitxNDkEY4yccCz5Glz1uzRoLAOid+F27+WoYtQgLofzyUtY4h99wZNI0as2W7QxhMf4rujY0xIq6mRyLYPOQPqPPLyN/4bbgc8FuhqSPqbh3q03iI1q+pnZntVBYrkWHQfYoqeLNWw7mkFZlZylM+gMZKYVIP7RF4RefoaUxEyR+vReHwJVTSV0ceRU3pEke1YHIfK66A8+mjoqGDy+K+x7WqCZiRakZWhg0BmoKK/GpzffERv9CaEBz0T6/RMEAVfrtbjznrdKBDc+f0rj2JaRUQhpmb+r0GhzZVWkeC5HdnkpXmaloYrBblSSJ3MmtfdvZY5fBUUwVCMr2f8qKIJzK/4KO9qqSui4zAdrhveBrTFnTASv8jAHPz7AA7cF6Hh9L2ZadUOrq9sx2kzwvfJMz8noHeaNd/lpsFEnlUzSygoEHMUJV2NmrKiF1NIcFFdXQFlajuuBM+OOw1xZ/JwoZVV5KKvKQ68Zd79qXYQJL+/Q3Rzb/CaLPZ76BCe347lPkkLD3Oh8aw8+DuH/mQfok8mWMVmvMKvFEHTXbnjukYE8629hpiReLSevZZdx//ZbodtbWDfDwcuzee6XokrB0EQLhiZacB1OLl6XFFfg5oVYnPGJ5HrMrhWBog1aAgywXSd0zhgAHLw8GxbWzXjul6JKQb+5BtzHdIH7GPIhJTujEDcvxiHw5AOhzrFx7jkEP10PBSX+D0bi8uJJokiGrLtTG6w7wLtQrRRVCgpKsujQ3Rwduptj3lrS7XRqXziuXYhFVQWn7mN9CILAtIHeIqVd2Ngaoa/jdlAogK6uKjJ+V92+E9F0ldtFQVteES7Gwkm+7RniitH+l/HqJ2mwbQ30cGXqGL7HRG2cDpfNJ7At6B7X/XQGg0PVBAAuOk5Evzu+zPd9DSx4niO5OActlMnZl548aWhHx5zAh8GkwlBRdQXfMXKDBgB+iewVdseYdEd+VSn6RG6GIk0W/fRtoSWrjIKqMmSU5+NRdgKoFCnc7P13/rEbCj9jlVn2RCLnOP7lCaZbdMOlry/Ytlcz6BjY3Frg8WdT7qCLZhsUVJfgbUES7mXGY5BBjwaN6USX6bj16yVcDeygKask+IB60OkMkQzZqTtLYGAkujyYkrIcxszqjTGzemOi025kpYv+FCdJFoz0FdqQzVgxAEMndhfckAvaeqqYssQFU5a4YFzvncjNKhJ4zNDOm7Fo0xD0H24vsK0oMOgMrJl+Wqi20jI03Hi5ERQxRXZrP/Or2GSsmnZKYPuf33IQFhQv9GfevZe8uRcWliHlWzZMTLWhqqog4Kj/DVLzCrDTw4Vjm7GGGo8jSMLXk/lilTU1+JaZB00l1vWoG8VYF2t1fTz3YEVDH+o6nGf/m17fwtmek5nvz/SchEkPz7DpNQ42Eu0BnQYAx5N4l4svranEtR+cpRPoBAMD7nlxBIn825GW4l/eW1iSisj1pNNJ7OsrclRpnO8lXOj/5GekO2XZm0OQklCm/UBD0i0gT5UR0JITUdZp7Lq0EMuQ1Wf/pVkY69j4oeD8+CLA9VmLtp6q2IasPkdC5mNkd+HyAE/suSNxYyZK8veBgFliG7K6tOvaAnadzfD6qeB8xRN77qCzoyXUtYT/vaqqKqCtnWBR4z+BqDqGtYr1zoe5RxMnrBNu5ipLo8HKULIVt6kUKeRWsi9jddIyYXvfVqMZ1rUVLS6DBgD68vyt9H+w0JATHNYqDDvtSRdKuDOnqrQwhPSQ/A3cJyEcdzPe44bDUrzI+4YOGqYiHX9w03Wh2hmZacPrpGRkgjS0lXHx/so/ZtBWeJ4Uqp2hiRZOhkou4V5FTQG3327BACECL0qKKxAX/QldJJQITBAETuwNE9jO0EQL+87NkGiqgNepqdi25BIehr/n266kuAJjHLyaVN2mMbE8u0+k9rXKIDYGugiaytu1+yd4P5j7d7ZuTpk40ADghuO/013YGNCJSqYiiCT4VJDB9r6VkNqM2z+ewarWEyWqwnIx5QliXTZh07tgzLcUrMBdF1ECPvxuLhJ1aHzR0FbGsMk9cPV006aKMOgMoVRNvE5OgV0X8Qpt8kOKKiW0Id8477zEbuwz3A8IbEORokjUeNdlzb4xGOPghfycYoFto0PfoLcbf3fVndtv4DqAs01fx+1/TZ5ZiudyPExLwYTwQDRXVsWkVu2hKiMHORpfESc4tDSF5RZvju38Zma2iznbCwMv92NTwf9K/D+lKaMZD3yMgZf9IMiIWHV1rvkwzI7fjW+laWivbonN1tMhLdWwP+cEU3LNzUhBE7OenURgD+GrXm9eyKnjxg3vCzPFGpsgpi9zbXJjNtVN8I9ev5lGoxiyWjS0ldHT2RoPI/jPVADg3q03DRYpptMZ+PEtW2C7kGeNW7n8UsxKoQLDdi4P5GrMaoMkKRTga3KWpIcncYqrKjEhPBAvxsyDppzw63mPv34X2qVYy8Gpg7Dg5A1QKEAzTTW0aa6L6ho63qamI7uoFF0sjGBlqI2c4jKRo80bE4F3PwbBQOivV/hVlgc9eTW0UNaFjZr4pcX/V2iqaMad9oOgKkbStKq0Eo7akzNqOsHAqrdHsKvt3AaNZY5FPwCAZwsHeLZoHFmkVnaN990ZP6cPzvtyj8BqDNJ/5Als4x8uWXkwbqzxHoNjO0MRcpZ/cNKuFYENNmbLJgrOvbJoYwg5edHXXEVlyMRuAj8zQKZrtGzNXrxyzEgfSEvTcO7ibARffY7gq5xxAX8T06NCIE+TFsmQAYCljhYst3hDWZbdmxS/nPfyxvqACOwY7wq3DtzTOmwXe+P990w82SHeEgm/9T9+1akFwfNIAgS6h6/nEBmuZWUbDwwzEq2s+P8KTRHNWIs4hqyWkF8xuJvxDF9L0rCqdcP1IqMyPuBrSSb05dXgkxCBZa0HAgCc9PhHVwadeihU/ws2eDR4jPwYP7cv3r9IESpAoKH47botsI1xS8kunPNj5go3oW7s1VU1HOXmReHja+45RnU5GCjeTU5UhP3MK6eeQlAse0J1wBVWAUpersS+jn9PcNuLrF8wURE9tmGTW19schNNwLygtIKnIQOAkd3bIvCx4IoBvLC7Idjd7WRghZ0dhkCBJvxDEc9v9Y7319kMGQUUtkRprw/X/7XGjB+SimZsKBs/nERszjvoyGngbOd10JETvfx6fc58fYCz3cicL0MFDbRTNxHquKcxnwW2oVKl0MNZcMpBQ+nSu1WTGLOom68FtnEZJtkIQknwJOoTHFzFC2KqqfnzVQjEoaSo/E8PocHI02j4Ucy9crMgXvz4hcMPnoJBEJjv0AUdmjdMPFlFvnHyFusSmfYZy4hgHO4yWuhjuBozh7ubUFZTia12o+Ci3xYd76yGlaoBznYj3VjfSrIw8uF+DI3Zi2AJq6z/7UgqmrGhLLUcA+U2klWKryHoKK2phCJNFrd/vRbamL2LTxHYZs4ad6ioNX7uzuAJ3XDUK1To9vdSuRf77GPM/4m/UIj6XJIKwxeWqUtccHJfON82h7fdENuYHd91R2CbxlYcqY8wnxkgS+aIWgMt+LpkA5UagodZa5z7/Aq3UxIwwMRS6OMuv3yHlNx8PP6ainX9e+PC8zfIKSmDiwAVkILScqgpcvcaXW7ArAwQHLWYWpKH/nd9cC89QaR+uRqzshpSf9BFn7t/3VRJB7Ms+uHol7sinYwbn9O7QE91JSqrv4BCkYcszQwAoKrgJuDIpuFl9ha01+YeSno7xQkDTLirUDQ28lRZLHl9AGnluWiuoIOdtnManGt2sfs8xOUk4mdZPla1GST4ABFwGyW+sGljoiDdHFaaq6AmS2rFxaWNRBcD/goiad/5q5f/KUZM7SXwxl6UXyZW32nfc3H9gmBNv7nrJPu9EcSIqb1w89JTgYnzAcdjMGamo0h9/02J01u69sO5z68wJ1q49Jfa0Pxt4ffxdtV8nIp7AaqUFPYNHYAOuw7zNWbK8rLotfYoRvdoi+5WJujQwhAEATxP+onVF+6grLIaKgrclaEkgbGSBtRk5FFQJdqMmqebUZBU1SSzXhIxZi11boJGJYvOvf9pCutm3xrcpySxUp+K0JQ+kKLIwFRlGKzUyVIT1YxSyFAFS3E1Fm4PluJGz92QlZJGJaMKrg+WINxhv+AD+VBD0LHk5QVU0qtRUFWKaS17CzympFh02ZnGRooqJbQiB4Ooxq/ia1CTtUMNoxgMQnByqr93hMA2A0YIrhv1p2DQGZASsf6XMJ8ZIBPDm5qJ852wZ3UQ3zaX/O7zNGZ5eaUYM9IHNTWs70yfvm2wZl3jrvGKSorncpz+9BK3v31GQaVwv7vOJs2QW8r+AKMqz98QPd4+ByP3nEfAozcIeMQ5CwtYMhatmzduuSVVSRqz5BL+4apSvAX3RSI5i3ySq6ano4XOTYn0KUkUaAZwMyEj5IqqkhGa4oRKei6UZUzRr3nwHxvXNLNBkJUiSyHISslgulnDn4hdo3fhifNGAEBCEaf4Kjdi74kuKNzYtOvcAi+eJArVtpthMAiCjh9FAVCQNkI3Q/5/07KSSjy6K1hM2H1sw0SfxUVeURblpfwrOzwMfw8HEUvECPOZ/xR9B9kJNGb8dB1HDD2AM+dmoVlz1rrzP0suYu/u21i67O+qDjK5VXtMbiV8atDxMUMw+Ph55vuyqmrs8ugv8LjAf1jlb4rKKkChUKDcBGtltaSWCI4Urg9Pi8QgGIjN/sLzwNf5KSKfjBuW+rGw1I+FdbMUyMv8HetR9UksOIfg5HaI/DEcVurTMLTFqz9qyADg8nd29+blH7wCUij8AAAgAElEQVQlyYTFUlkfdIJ8Og39JTjAAQCeRgsO/jBv07TVeu26mP0fe2cd3kT29fFvpGmqqbu3lFJanOIUK+7usFCWxRdfYHFd3Iq7L1Lc3bWlQGkL1N3dI/P+MTRpGptIS/d9fp/n4SEzuXPnTpPMmXvuOd9DuW1BeQQKuT9gxG4EFsMEBeXyr+fe5SBKuTXO7qqLcKtD++6Kf0P3VVC5p3LNDi7mSverCdSVymrSxEnMkAHA5q0jcf/eF7X6rS1cmTQa35bOxoimDaDL0kIzB+V+j4a67BozZCV8Lnxvb4WDngnudqWe5wrImJnd7rQIY18FYOaHYzIPPBz5WKkTySI00RVEpRph3vbUqo6qCpfPx+PPUSgoKQMBwNPeQu6U+Up0c7Sw3FztSvnKsrXxTHR7Klqg3ttUsvyDsuxuPh43kz4iqjAd0+t2pXRMVHiKwjbezZzUHJlyOClhSOg0Nr5lb4K3+VrQoTgM+P1z2Q94tYGmrd0UamSGvI2qlnM3aUNNyf1XQRCEVMP3MSROYl9cbCYm+HeogVEpD1fAx924HyjgloEgAG8zS3ibSv/O99l/Etcnj1Gqf6oKIKoqflQWE5ZHt3s7lZK4kmrMzLQNcKjlZPR7sknmgR+yo2GlAU1HA3Z72JlsBY1W/UmWjz5HYsHRW+DyxUOM29RzQsAfAyDtAa+n432wGLVPu9JB1wonWixDYkk6bHXMYcVWX7QXAHrZyk4Wl0ZOVqHCNqYWhqoORyWMTakr/odm/o26JvOhRaf2GWemqRYeXVNY2StO0eBxqyfE3tpO/fSQ6iQ/p1ioE8mvtKbasqUbzp55jeY+LnByMkdyUjbmzj6N85eUmxnUBHfjfmD6k2sS+b++ts441nWIhLhdVGY2ghJEQtgmurpwNpW/1m9vZoSEzF9biUIVZK6Z2egY432PdcgqK8CX3Hiwq6iov+1OKraP6ChdF+7s478oDcDOZBsYFG8k6tBpyX5kFUiP5HoZHotGs7bh/MLRqGsr7ir5nntCbr9epr/uC2/JNoHlz/wyHsEHk6ZeMcEHqaH4nBOP+kZkna1u1orXVUpLyhW20YQ6vjIoE4RQyksBX0A9wi8uUvPSR2+SE7Dtwys0tbLBgU/vETlpjsp9ObpqPlGbymcMAA7VcG5N8u1LInx8ybD2rp3F71uvX/3AoQPi3ia/TutrjTYjADQ7F4DMEukpIU+TYuB8dCNu9xuPeibk53D4dRD4AgFCEkX6ryl5+UjIzcP+4f1lnqe4rBwPV/4Oc0PNCURXRl1BYVkolAIw1TZAB8v6Mt+vMFpvn35DC1/q+Q8V1IQhu/TqC7IKiuHf1Qczekvm/nD5fDSbvRND/zmFv4d2xpC2opt4eskbeJpMgS7TCsW8FHzO3IpW1upFDWqCiPw4eBg6im17caivFUlj6acLeN2NmgtAGWQVYF3Sez3W3liERT3XYfKmMeDz+LBxtYKOvni01QCzCbicSdaxKsguxJubwWg7wAc6+mw8OPUc+ka6cPC0g4mlEdh62sIq1VTwtSfXGgUEF3SalopXqB7jb19CxETSZTyuvnIz46poszV/DVSrXNs5i5e67/Z4FZZ6DYGzngVMtA0w5MUmXG73F0a/2ob44ky87roBre79hdddRYal15M1uNmBVOt4lv4V7S1k33sqY27FQUaq/FlzQkyG0JjVJiNFhbPfPyGzpAjTGrTE/KbtJd7nCvioc3wLelw9hrWtumKURyNMbNUUGx88w8RWTcXaeq3bKfdcWQXF1WbIqhOpxux5uuJF/QraWZBJkvHR6fBp5650YmJq3npk5AeATtODp10YaNB8qfK9t9+AQadLNWQAoMVg4Mm6P9Bh8T7su/NGzJjZ6XeFlW47AIAhqw7yDKNgoOWk8TFSYeK7tTjsQ4qr/vlxu5j/nyAI3PFVTe26glUNBqPFnWVgM8gb4lM/xeVFqKCjK7l4HPs1AV3HdUBmUjbaDWyBO0cfw2+M5I+0Kok/UtBpRBswfla63TRhD67nk7NnBpOMZ1ImICAm7wiSCgJRxI2Gu/FsMBkc2BsMpXy8JnA3FhmBzxmp8NNzq9HzK4KqgkblpPhyAQ8rvIehqQkpssyg0WGrY4JcbhH+9hqC39/t1egYDTi6Co2ZvOsoK+Ph69dEhH9NgruHNZo3V+/BUNNs//gSTDpdqiEDAC06A8EjpqPJ2d3YHvISozzIvMkpbSVVmjb0VVwRg8q62a9Wya+KVGM2J0i+a60yFcU5u/Zvgk8fYlBcSAZztO5ErXYSR6cPrDiLAADhyY1Qz4ZaFJ2yOFrI9xMb60vPdv+WcxjuRuOF299zjqKu0W+aHBplKgwZAAnD9SGb+gOILPysveFn7Q0+IQBDQ8U+AUBbR3K2cOfoY0zeNAZnN1xBn8l+GOs+E35j2uPb+yg06kjtaRwAbN2swPo5G7l/4in8xionkByVEwBfh4d4FNcazkaTcC+2gdrGTNnoumsDRWHQfk61y5ABQEEeNWNWeVbIojNRyCsF62clh1vJQdjvQ0qlpZbkKHSJCwgCukzqibk6uorX3AtkGLPVKy/j1csfcHe3QlpaHtj3WEhIyKp1szdnQ/n3MJOfIsSVv39/dpRUuOntJd+D9u6fGWi5aDc87SxhZ8qBqcGvTx7vYzQeY/4ehKHz+gj3lRSUQsdA9B2Rasw2NxmNjWHXMc+zNzrKcTFW5s3jCJw/+hzJ8VmYt2YQ5UHmFl+EDssLBHhga2mmeGBVJndrgTXn5Yeuh8aRfuXpvcQ//HY2B3A1uqWwjpmvrfTKrb8aC7b6CdyrQy/DVd8SLvrmWBN6BTc6qB8hCUBqAvO940/xx+axuLj1BkYuGgC3xmQhUDM7E/TSH4OTP3aBx+VhVjvR7LC8lIsFfqvBLScTm28VncKRsG0Y5TINlo7m2Pp4hdJj87E+gecJolwiC91OSvdRFWW9E9cjRQ8ih78E4cqAUWqPQZNQTUCvSnppHvo/Ww9rHRPsbT4ZX/MSMCf4KJz1LHCkJSmNZ6trisnv9iKtNA9X2pNLFr+/24vs8kJcbEv9+0dnKP6bC/jS0wvevI7E7XukYsaSv85j7YahiI5Kx9IlF7B67RDKY6hOZjZsjSWv5Seuf8ogI4vnNm4rtYZZZeSVhfFZuKtaZ11UoxkB0fra9dxjAIBTawLx5MJrtB/UAlf33MWlVFEVB6nGbMHH02DQ6JQNGQBcOvECY6Z2gp4BGxsXXUDnPo0oHZdf8gCl3AiUcr/BxUJ+4qOq9G3hiTXnH6KgpExmvsSWK8/gbmOG3j7iBtVIux76Or9EuSAXLIYxaBpKFtc0DrrqZ+TfS/6M513JL8/mJpq7oUqLngvMOCz2/6b7IqN1s/Ck8PXZOJE7isXWwtHw7TC25AjdjABwOjpA5bEZatdHW7ubSCg4CwDwNle/YrWyN/8+biI9wyaWNnJa/hpY2tTW4arqH45yao9RTiK3WH2OPe52FK9zVtVgVayXKQu3XHGEpjZbeoiAk7NkfpyLqwXCwqgJB9QEg+t4Ycnre8gvL4MhS/o9bO37x/AwNsdAt/poMpnMJSvhcbHq9iP83b0j9LSqP2K8uhm+oC/cm7lg/djd2PVitdh7Uj9dAUFAi67cTXvzsUkwNNJFeRkPR29Sj8aqa/0McnK3VWLvbXENOS0GA1N7tkLbhXugx2ahW2N3GOhog8VkIiIpHc+/xoBBp+PuyonQYki6P2g0Boq4yfiUuREWOi3hZDhA5bEpUmegCgECu39cRHpZDsy1jTGjzmC1q05PrtMFqSW5sNIxwtnYV1jZYLBGxlpaIlt9gQr+3nNx6MsWAICZreLw7zI5ag9VISBAZslzOHFI13Fq4S3YGgxUbaAaYMWrhzjYTfXvV3Wgb0itTFFJcTl09WtOJUL83Ip/VwYytBbjYjOl7tdcDXfl2f7xpdi2FoOB2Y3bosHpHdDXYqG3swcMWWywGAyEZafjUUIUmHQ6Xg75A1p0BupYkBHEbbbux8s5yhfEbTB7G1ytTKHDYsp0m5/+c4TyFwZytnUzMRTz3l+Ci4EZJru3g7G2fFfmxt/2IvTVN2y8uwQ+3RvhcvohiTYyoxnL+Fw0v63YZ1yxZubfdzsIgsDpBwvx7G4oZW26vOIbSMyeA3PDGbAwnEXpGEXsu/1G5ntFpeUIfC1ZlZcvEKDLUnLK+mmnaIr9IGEQuthfwtu0eWhtvQufM7eoZ8yKqYU5K6L709nY2WQOrNgmSCvNQfens1XWZnyQSv49rHQ4CM1LRGheojCwRxNkpOaqVdurwpBRJSdTce5bBU/jO6G59TE8imsFP6cQhGetqXFjdi82Uvh6SN3ap4JjaETNmGWm5cFB/9eE5ysK/gAAjrH0CD17exN07rAOLBYTTZo4AQA+f4pH9x7KSX5pku0hL2W+V8gtx7nvnyX28wQCtPh3DwCR0LCxng6yi0tgoku9buLHLbOw+sJDfIhMREFJGfgC1dzMstgd/gT7vz9XKkR/wdEp4JXzkBafCT6PL+aZqUCqMXvfYx0SirMw8Cl5E9FlakNLwYLt+Wek4Ssv4yklssrR7QuObl8Ulj7H18S6qG+nnOy/NCobI3VxMiRvbE3Ml4HDcoetnnprKppSXJ/k0hd1DciqzRwtffzuqrooqqLim/Kg0WgKpY5SE3JU7l8VUpOon49GY4AryIOP9SmkFN2CEVu+7p0yIsZU6eTgAq+jO1HK42FO8zboqkYQSHZGgQZHRuJS15pSu4SYjF+Wa1YReCaPut52UvfvPTABpaVcREamgf7TTdqgoQMaNKy+quiKqDBG6nJ98liMOnYeUZni952386bIPIZBp2PFMD+NnF8aARFPcaq9ckF0BxedgVcbDzh72ePtrY/49iEKv60aJtZGqjFrcWcJBAQhnHVR4ff+OzByckfhmtmF50sUHwQgLKkejHQHwcZ4jUYMmaYJz94La11fCAgeMkuCEF94Ey6cYYoPlEF8dIZGxnUq7i4G24sM67n4Bxhkp1jlXtPYOZkhIUb+Nf0IS5L7vqZJVDCeylTkmQEAR9sL1nryhWXreNrg2xfNSq61PLVPmGf2NVO9pOzvXxX/rZlayqW/UA1o+R6ahDZdqK+z1zSu9WQbZTZbC15e0o3dfxkagDPjVYvO3X/vLd5+j8eHKPL73rquIzaN66URncampso9KFzbew+T1o8EAFg5mWP92N3UjJmAIGDOVk6CSNU1M0/bcKXOU9N0sb+ImPxA4GeVbQsd9aprl5dyEfE5AR4N7JU+duBLkaoKnUYT2/5VuHvbKTRmoUGxNTMYFc5XyksBmym6yUVkrYOHqWz3uldTJ40bM08zC/AEAjDpdAT++Ir6ZqrPbj68UKwd2bilq8r9yyP4VSR++5OapuevQNbaT+cOsh/aa1t4vrIcePkev7cR95TVXb1NbjQjl89H03mSidWvvsWhzeI96NnEA+tGdwddDYHnLznJ8DamHux0IPgfDHecBgcPG8RHJGPvu/USbWSumWWU5uNHQarCumYV3L74HsP8yRyfgrwSyovGlUnOXQYbo1VKH6cMjz5H4fyLT8gvJusBtfJwxNSercCQEfCiw7SCp8lUjY4hOS5LJWMW2Eb9SDtNY+dkprBNekrN6hlmKHG+N8kj0MHhiXA7peiWXGNWHWr4q9t2QavT++FmZIqEgjwsbaX6DDslXnHpDDfP6omYrK1FSxXRtJkzgj7EgEanwY5CgNF/iS2PXkgYM0WsvUiWvOrWyB2dvN3Qqq4jAAIvwmPx95m7uBUcAWtjA8zq3VblcT1O/aaUMbN2scSk9SNIsYWx7WHnLjnLlmrM3AysEFmQipEv5MueAKIAkB6Dm+P+tY/o1KshjM0UC70Wlb2BnnZLFJSISplkF56sNmOWlJWHniuPSOz/Gp+GQ/fewcfdHgenayZ6TxHP7oaiE8XUhdpOq071cHyn/CKtFXlhyiIgBDgacxsXE57iQPN5sNclZyzDX61CPq8Yt9pLN+5fP0qqoEvjVdIA8IkSPIwTzbZ5AvlrTh16NcD25ZcVivU+u/OFUjkWAHifkoiFPu0otVVE0EvFddy6DWymdL9MLYbCay76RYVa05PVE8UNDo6tthnY969JcK/hEkgA0G3PMdydOh4A4LlGucCwwDehODtnJOpXqSbSu1k99G5WDw3nbMPhh+9VNmbzvLpgYh3pakyyGO4gmlDoGLDRqKMXzGzEc2ulGrOzbUXiuZllBSjhK47Ay0jNg4u7lVDHzdVD/qKxnjZZvNBAp4twH41CCQ5V6bnyCOg0Gs4tGCUhJrz8zD1cefMVy8/cw8qR4m6SK9E+EBDiod7qloN587h2u1aVwalO9VWc7ft8CRZ5jsRt340Y8nI5LrRZiW8FCTjZcjG06AplRRXS2vayxL6n8fJnRUwmA136Ncadi/LLrFw9/ZqyMbvw7Sv+7av6OqyyyNLKlAeVa/5VXDn1SmGb5u3cZb7XoEH1BXqc3PUAq/eNq7b+ZVFhyKS5ExUlVAOQMGSVGdW+CU49DVZ5bMoaMgA4F79HbLu/2URcyTwstk/hHcFM24DSyU4GPET/Ma1RV41FVAfTPYobqcDmy08BAB93/Cn1/ZUju8LK2AD7br8BR5eNOf1FiZ46TEt0c6h9FbD/a3z9GIf6jR0VN6xECb8MrvrkU62THune4xMC0DUotVUBQfBBozHg66C4Tt/EOd0V3ti/BlObHQLA3OZt0OnfIzBhk675i/1Uy99JTay+qNGJc7rjbmAQCIH8yFVlZqSaIDUxB4HHZYexVzBlcW+Z730KiUNYWBIcHEzBYonfEqtuK0ttrH/HkpJLqwyZ+dKV+2uK1NgM/LZKMqhF4Sf1JC0Ml+LfIrUkFza6xqhraIPJdbpIaPfNXTMIBhzl18nS83cgPW8rtJg2cLd6qvTxVLj+LhzWJvIDWqb0aIV9t9/gypuvYsbMxbB6RGc/vYtGQ5/aJWaqKgYcHYX6fXvW3kDAxWlK9TvCsTMWfz6ITQ2nIK2U2o369sX3Sp3ja+YyZJa8RH2zlSjixqCgPAJeZmvlHkP1e15eyhXqRspj2oPrWNqqI5hKChVU5Z+F5xW26Te6lUp9G3B0MPz3Dji7T76x37niSo0aMyrXDMgvQ3ToiD8Wzj+HnJwiCKoYa024H3Ozi2BkUntU6L8sVly2as7R69j6Wx+J/XyBAHc+ai7qnE8QuBr/CYlFObDW5WCgYyOpurCvrok/PJrbSX6eMo1ZckmORHHO2KIMvMr4jqNRT9Dc1BV7fCYK31PFkAGAAbuTMFn6a6I76ttp/kmGyaCjnEtt3UarSjIeAdXWexSx9I/juBas+XIrleHxqqcIY1X85/XAtqWBcttEhSfj7L7HGPEH9eAGf5de8HfpBQA40ZK8qVhoyy4ZlJ9TjN2rrlHuHwDSix+jlc1FsJmWMNNpi8fx1Nau7J3NFUZxLvnjODYd81fY1/sxU8AV8JFYkA9njuoam+Eh8QrbTFkke4aiiHEzuig0ZoU1vG5G5ZrtpchVVcbZxaJaC3H699yKi280U4FCWVpu2YecYskHTXnRjPeW+6PrykNoMHsb2CwmmruSwWrvIhNQxuXBSE8HJ2aq5xY//OMVNodKrrUv+3gdWnQGPvcTlzU7vf4yAl7Lf8iU+iiYXV6I6e9EwRLNTF3Q07YxGps4g6NFyo68z4pCMU99aSYmQxQNR6dXz9OLvZmRzMKcFcSmk0/+dmbihR3dq0khv7yseoxkZSI+JVT7OQAyCIQKty+pv+Zipi278Oazu1/EKghTwZkzERHZZJhvOT8LrkZ/UDrOb4D85GoA+PI+hlJfPIEA3kd3oeO5w9gZ/FrxAVKgWqalJoisIU1DqtfcfbDyAS+apKYNfGXuT/8N3jaW+HfCcNyYPFb4Tx5WRgbwciDXzErLeXgeHoPn4TEo+zkhODJtCJwUVCFRRFVDVjnInyvgIyBC3EuXEJGM8HeRCH8Xie9B0VL7lDoz6/aQjFDc3mwc2phLLxfQ+u5SdLi/Cu96kNby/tVg+PVrgqXTTsC1rjXGz5SfQR6WRLoi+II80GhaIIgy6GpXz5du42894bf0IHZcf4FZfSQjcPgCAfqtOQYWk4ENY3uIvZdVGgJTdvVEHv576KkwnaE62L5cMsChKp6N1F/8rlzHSh7qRp1VIKs8ze7Vys3K0oruQYdpAx2mDdKKSEVybYb8p/gKhk5sjyNb7yps9+1LokzliQrUTZrOzynGuK6bFLbz7am+PJOPb128eyrfzTR9SADufJX/FK0JxnTeSKndoPHSo+6+5L6At1FbrA0bhSWepyEgBNgYMQFWbCeMd14BAAjKeYBHaeegyzDAtDqq1wucN/YgNp+YpPLxqtI94JhK2oxnZpMJyhl5hXgaFgMagLb1nGFppDhSXRHNrq8Hg0ZDaH9SdLre5ZXwNLLGxY6/AwB6PQjA7vAnuBb/GXe7zgCfxwe3nAf3JmRlDQFfgFGuM3A6apdYvzLdjHQaTaYhA4AbHRcKjR4ANG9Htl0dMJaSCoGn7Rfha4LgglaNVX4tOPro1cwDR+6/x5H776HFYMDgZ8HI7EoztrebZwjlbACgmJeMjJL3qEiYBmgwYTfQmHL+0W33qtWYJcZIF1CtTJd+6lU2rqBDzwZ4cktSL64qE3psxZHb1JPqqfKUwrmrYqlHRq4mFlxCWOZy6GjZo53dbcrH12/sqDANYNbwvQpv7OomTQ9tS81wLNqkfsTkqj1j0b2+YnWfi0eeY/AEzaQbSOP9s2+UdE59e1BbvxMQfKwNG42l9c9CQPARkvMYjYw74kpiAJZ7nQdTzftTaFAs3j39Jqx0XVOoos1YGXOOPga30uwaaBGvHI+7y3Zz3uwyDfUur0R8EZkzWaHDWPl/AxNJoyrTmLnoyw+5NmGJd7Z06nHEfE8TrtPc+bxG7vEVfE/tiDLuD1hxFoFB58BEf7Tig1Rg3dgeGOnbGGO2ngOXzxczYm09nRDwh7h4cFLRQxRzk1DIjQeDJpJveZ48Gf1d3mpsXP2arsDVoBUa66+CvyZK5tRJo+dQH82cb9MwSsYsOT4LYSHxGpkRVmb9/H9VOu5pQic0tgwAAQHa2d3Gi8SeaGt3i9KxW079TunGPtZvE3b+O1VmEMCJnoMR+D0M33MysdBHcbXtyswetZ9Su859NfPQAlAz4oe23EGX/k2qJfChvIyHpVOoFRBetHm4zPe4hGiZJLs8DeUC0h1IpzGQXiZy0dM19PC6bOoJGHB0cOGVamVuVEEVbUYqVaYB9SpNW+kopzB1u+ik2Pa+90oogEQWpMrtPK5I/Kl/1znVVDJcLQIRluQNc8NpCE10qjZjBgBejlYyw/OrYqvXGQCQVPgAtvqiXDg6TbO5cGWlXIz124QT9zVTCBMA+jZZXiNrclVxdLNAXKRiN9mcUfsR+HaZxsqF9PBS/eagw7RFZvFz4TZXQdJ0VboNaoa7CtYC05NzMbzdOlx8/bdMZZyB7p5KnRcAVs86QykAAgDmr9ecIABVIz683Tp4NnLA1tPKu7lkwS3noW8TamrrM1f0l/v+nZRj8DD0AZ/gwUzbBu3NByKlJBohuU/Q1Ur+uhIVWnf2xKuHYWL7CvJK0LPBUtwMWaV0EVdVUEWb8eHK39Fv/XFM79kaFhx9mBrogqHhsRbyyqDPpP77f3JetJZcUlSKF4HvsPb6QrE2Uo2ZDoOFEn45Ar7dxbS63STe5xMCDH62FSw6E8umkxaTRgO0tJgIeh0J76ZOWLV7DKVBfksRPYkasmufrpsBy1ls25Cl+XD69ORc9GqwFCMmd8DoaZ3V6mtom7WUDZmm3UD7r86idJMDgIEtVuHgjT8VRprJo6igFINarlbcUA4+1idRzs8RRq22t5evZlKV2asGKDRmFQxutQYLNw5Fx14NlR5nVUZ22EBJIZ/F1sL+K4oj9QpLbkBfh3qk45KtI7B2zlmF7cJC4jGo5Wpc0kA0X9DLH1jy+zFKbY/emQtre/nSVH1sJkOXYYBl9clZvZ8Vec+y1tHMb3zZzlEY4bsBOZnin5OAL0AP778xYGxrTF7YSyPnunvpA7Ytuyzh0i7j8dBgPbm21N7NCX513eBoYoRjb4Px+Hs0IqRENXZefqBaK00DQLtbm/GxL7V7BQB0GCqeUnJipWQhZ6nGbIJrBwR8v4dj0U9hqm2AoY4tQafRISAEiCvKxMKPZwAAI53aYNpukbGL+Z4KCxsj/D6vh7RupeJu/RTZhccBAHamiuWzahpDlrgoq7mOZtxyVeHzBTi15xEatXSFV1Mnlfo4u+8x8nPlR21WprsKskaKoNFpChNrK5g1fC8uvV6q8hPqH/01831hMYzhakR6Fhg0ttLH+/ZsQHnN7p8F5+HuZQdbR9l5T4rY+ncg5VIvM5f1U3hTV4V23aiXDSoqKMWaP8/g7+0jVT5fRmoeZUMGQGPXbK6tnhTV7FUDsGyqdJfo5ROvQBDAH3+pbtBKS8qxZfElPL8nWaMRIIWGhzT2gi6LhfPBX/A+LhHlfAHClszCspsPpB5T3bQ0d8abjBj89uIE2loqL3qdGpuB4Qv6SuynETKKUfEJAVrfXQqBjFpVgx1aYGF9UQ2tQa3XYOqi3nCqY4lTex9h+Y5RSg9SGjmZBRjhq1hgt2mbOlh7YLzU9xrOVC4KqXI9NAHBw/PkSSjiJkCf5YR2NgdkBoB8DY7D3DEH5PY9+Ld2uHTshcIaYCP/6Igx0zvLVPquzMWjz3Fo8x2F7SpDo9Nw+wu1dU1l4HH5mD40ALHf0ygf41rPBn1HtkS3gU0Vtj25+yFO732kzhABAHbOZjh0YzZSi+4iLHMF6prMB51OGjJFZWCkMbjVGqXD42cu7wcf37ows5SdblDB3cAgbF92WeH3pjKNWrhgwzJb14oAACAASURBVJGJihsCiElpDAeLu0jI6Asnq5eITmkKZ6v3iE/rCAerJ6BJee5NSczGb92UK5zq0dAef28bQemas9LzsWHBecopDhXc+rwadIbmVWIqs3HheTy68Ulum4pZ0sxhe/E9VHGlBac6lugzoiVad/GEsalkgAOPx8eH599x5+IHvHkSIbWP2asGoNsg0UNq/bU78HUJmccblpoOTysLoWr+tS/h6OstmVZTE2tmAx7tQ0Se6B5Rv1I0Y3ppAXxvb4W1LgePupHLQlWTpgGgdV/xh3GZxqyCfG4Jzse9RlJxNmx1TeBmYIUOlvL9+wKBAHQZagZ3Ln5AQkwGEmMykZdbhMToDI3kYcgzZqO3nMWXOPlrgJWpbMwCoxqjn8sbMGja4BOluBrdSqY2IxVjdufrWvC4fPRutIzyeCqg0WjQ0maivJSruLECzr9cQjmkXhWouhtlwdRigM8XUJ7lVebUowWY2HMbyuT8nSqM2f3YRujg8ARadNnJ2FS5fzUYWxZfUqsPxs+bsLL5clWxsjPGsbvzKLfPLz4PQ92hiEnxgYnhdBQUXYKV6X7w+InQZjWSaswA8pq3/h2o0udUGR1dlkaqsJ94MB8W1up/lopQxpgBQO9GyxQKNWsCHV0WLrz6W1izru7qbRjYsD50tJgI/PQVIX/NQLONe/BhwVRMOB2II6Mkq6qXlvPQctFueNpZws6UA1MD6feJhQM6qD3ezNJChGQnQoephTYW0mdpQ2ykr7leSBYPflIoZ2WopQN/N+WqK8syZAC13CdNc2ruCLSeHwATA13cWKZcErSX6Z/CaEYGjQ1vU/V9yUwtBv7aNAwblIzAIwhCI4as26Bm1WrIAOD2lzXo4a16YIaqP/zZqwfCzJIj15BVxtt8A57GdxJLDensqFq0ql+/JhDwCYVqKPJQ14gBgIWNkVKGDAB4PHLmwBekQYvhCDuLq+R+fiJokK3l59evCfz6NUEPr7+VmjVWRROG7Pi9eTViyFThRsgqtR/wqFBSXI6Dm2+LKb3M69wWTDody3qQ9/GDI/uj7upt8POQXtHcZ+Gual8zq8CMrY8uNh5y21xI3o/prf/G7lciT9KMtpJrsNU7F68lnH0WgqKycqUNGQB8zzkqtv0tl1rIuzSatRUpd3fo2QDjFCSWVwcOLuaYvWqA4oZqQqPTqiXlQOb5aDTc+bqWkquyMha6HdHFKRidHd8K/6lDt4FNsfuCchqUmsS3ZwOVImNZWnURmeQEe/Pr0GX7orQ8GNHJnsjMWwNxfQbp3A5dA3Mrxa7D6uJa0ApY2qqnSqFJ7Jwl6/zd+boW/nO7V/u5r54SRf59Wzobpnq64OiI1oIb29ng29LZ2D1EUnuxgrffqUXJ1hQCvgDFP934RXnF4Et52FU4MwvOjsGFuDdIKsmGJdsITvrmmOTWCSwNlOCoKY4+eK+y/Ep72yMIjBLl6HS2Vy2fCQD8qiQoj5jcAa4e1jIXiDXNlQ/LwdapvjI7VdFma+H2lzXo2XCp2m4oeZhZcnDq0QKVjn0U1wrNrMkHFjoYMNSmHtggCzdPG9z8vBoDmq+s0RSJLad+V7oyQQX6Or3gZisKRGCzmsDFJkzOEZKcfLgA5w48wbEdykWEqoM611yd1GsoPY9y8IR2qONli4W/HZb6fm3AzdoUk/YqdpfX1OwNAPa8XYegB1+QGpMOaxcL7HkrWR1cpkXK55ag8wPxsOfwvCQgDTgW9QSeHDscb63ZCszVRXEZF7lFqq3LGbJc1K5fVoG0CDAf37q4FrQCg9us1YgLURoV60PSmNJvB7LS8jFr9UC08auv8XNXBJqsm3sOz+58UXyAkkxZ3Bv9RqmmBE8QfAgILjgs8nMhwMfThI7wtVdcBkYRDAYd14JX4sHVj9i8WDKMWJMEXJwG13rVUz1aWYb/3gHDf++AcV03Iy2p+krSNG7livWHJlRb/+pST44oQEMfF9z6vBoDfFZRdocrizqleAIXqJ9jVx3smX0cSZGpsHG1xJFQycAjqW5GHsHHvCBRxrW9ninaWXjAWd9CWEsqLC+RUtHO2oCVsYFQJFNZwrIDJP6piqwIKxZbC4eu/4k2XTRvTIxN9bH/6iyp72Wk5mH8n11x7MECbF54Hp/eShfw1ASLtwzXaPIsAPQe3kJlQwYANBpD+D+NxgCdxgKXn6ep4QEg5cLmrh0EWydJt5Mm2HLy91pjyCpz5PacarvmRi1rtyEDAHNL+QoXdAYdB67NohStrAqf3lXfb/lXcGHrDYz+eyBWX5mPbuN8cfPQQ4k2Umdmne+vRjG/HI1NnHGghaQ4Zimfi3b3lqPzg9V41U29pNWaYN3YHhiy4SQaztyGXs08YGooX2JnbqV6ZmnFr+DKGQkj7erVVLOwMcLSHWQejrquGh09bTRv545Fm4fJ/bHoG7BRVsoFU4sBe1cLfPscDwOODqwdTKGjS7ojBXwBTuy8j8vHXyDg8kzYOZvjt66bcPTefBzZcgfj/uwqjMBThGcjB9z5uhY/viZh/rhDKC1R/mHI0tYYu/6dCkNjzQSw+DmHiG13cVK9gq7Mc/RvAr/+pMp+4ImXOPAPNbksWdRv4ohVe8ZCz0B+TlxS3hbQwEJWUSBsjebCRFf18i/KwmDQcfgm6Q3IzijAimknKWm2ymPWyv7oMbi5JoZX7cibmVVgaWuM26FrkJGah7uXPuDUHtVTTmg0GgaNb4sJs7uqlJZAEAR62kwX22dqxcHiA/44veUWgp+G43aK+IN8P+c/pXqTaDQaLv3YAh09cYUPPk+A3vYzsOSgP9r2Fl9y2THvNO6cfoWFe35DhwGS+a+n1gbiatYRlJdy0bxbQ/QyGIte/uICE1JD85vfJmtHve8h6Zes4N+419gcdl1um9rEoXvvsOuG4oq0gHhofnj2PtQzoVYWpDpIjs/CmycRSIzJxPfQRORkFSI3sxBsXRb0DXWgb8BGXW87eDVzRoce3kp/kUf7rsepp4uE29ERKWLGbGDT5Zi/cRhadfbEyHbrcOrJXzgd8BBjZvph+sBdGDC+rVq6fzmZBXhx/ysSojMQGhSHnMwC5OUWw8TMAKYWBjCz5KBNF0+08asPbQqFLitQFDlW2fWqqtCwuhQVlCIhJgMfX0Xi45soZKXnIze7COVlPOjosmBspg8HVws0b+eOFr4e4KihcxiS1AyNbNUvwaMJIj4nIDUxB8GvIhEVnozc7CLkZhVCz4ANti4LJuYGaOjjgubt3FUWEPgvE/sjDS/uheLz+xjk5xYjPSUXJUXlYOtowcTCEI6uFvBq6gRbJ1P4tKurEVmsQe5zUVxQiu0356NuEycAwJw+mxH+QZTjV9WY9bafganrhqHHqDbCMSRFp8O/zUqp7WUZs5Dn37Bo6E74dPHCypPSNSN/BMdgUe8NOBO9Gyy2FlaP2IGlZ8U9TipHcQx2aIHNYddVPbzG8e/qA/+uyqt3JBbe/aXGzMbBFAPHtqm2/i1tjSHgC7B//Q1M+ZvMqueW84TGrKS4HC4e1gBI7cXHNz+hc/8mePc0Ao1bu+HepQ9qGTNjMwP0GdFS/QtREXWEhtVFz4ANjwb28Ghgr1TRUlUgCH6l1zyEpvihjJ8AY53ucDXbLXwvIn04istDwaQbwdl0Kwy0Na94U3HNHTRQkub/I051LOFUR77Qu6Yp/pnrW2HIAGDr9XnIzy7EsPoLpR5zI2GXxD5bFwssPzYZK8fvB0EQCt2oJYWlWDR0J/Q5ujINGQDUaeKMi5XyyqoaMkANY0ajEK77/wF34/G4FdcVAkLkEuvt9OTXDUjDcMt5EAgI8CtFG25dfBFz1w+GAUcXQyd1wLLJx7DuyESkJ+cKjdeB9TcwcX5PPLyiebdcTaKu0PB/kQ8JbmjuEAsAKOMlIiy1HzytruJ9vBOaO8SgIhRfQBT9ukEqweWkG2hs1AB3Uh+giXFDlAvKocvQRV2DOniT/R6dLcgyS9M/zsfuxqK6bx9zP6OxkcigZpRl4lbKfYxzGgEAmBz0J7Y2XIdCXhGMWIZILU2HpbYF2AzNCGRXB04nFKslAUDs2L8otTOUUmpFERunHQMAhYbs6LqrOL+LrCN4IUJxPT5FqGzMXmd+V/vkyuDvfwiZGYVwcDDFzl3URIw1gaNBPzga9FPc8D/Kzoukn3z6MvIaXTyssWKPKJrptznd8NscUn/zcKVE3BV7xwEAzryo/kTQ6kRdoeH/ItpM+0qv7VBULlKySC88I9bWQl8zsnTVBZ8Q4FLiNQyw7Y0/XCfgXXYQ9kUdxdHmpIurvVlryn1t/LYDG7xX4EdhFJx0HTDV1R8suhZMWEag02QnjtcmKhupbtcOY12r7mhqTupL8gkCvW4cwb/dJD/TXmPb4eaJ51g6MgCrzyifJ3n10BPsW3pBuD3uL9k5bGsnHULfCb64doSsJn0tbofS55OGysYsJDtWIwOgQkZ6PiZO9EXDhg54/ToSISFxaNRIM7kl19+FIbeoBANbe0NPu+ZysP5H7UFdoeH/HrKfmOOyxR9OarsxA6TPAMa/F6UNnW5xUGEfsUXxyCzLAoPGwMvMt3B2dMTGb6Kb7CC7vmhq3Ag8ggug9s7MKhNfmCs0ZADAoNFwosswbA15jpU+4oINk1YMxM0Tz/HhcRjG+yxDm56NYOVoKhHEIY1tc07h3llRorazpy2Gz5KdHG5qxREaMlMrI2ixNJOzLDVawN+tEy77ypfD8eDYYmtTxfkIAbvvY9DAHejcaT2GDSV98xXbfXpvwaeQeGzaeBPduv4j3AaAG9c/olvXf7ByRSD09NkoK+WByWSggbc9wsOT8f59NLp13YjQL4lCCaCKfocP2y0xjil7xSWGBAICDWduw9+n7mLz5WdoPT8AGwOfKLweTTGhxTKMbvgXSgpLcXz9NQBAWUk5/FstRx+76dg4RVJpZPnoAPSxm4Enl98DAA6tuIQelpJ+5osB96X238Nyiti/VeP2CY9ZOGAbBrnNxvhmfyP0TaSwfWWGecyT2x4ANkw+jJHeCzG07jw8vPBWOJ4+djMkxlMbeRzfttr6/pKahq6Hjgm3y3g8uG0UF3V9FhOLFrv3w2PzDvQ/cQaRWaKiiqsfPkGnA0fRMmA/orNzUKfKsW4bt4EvUCyHVcaLr/Q6EfraItWU5g6xaO4Qi0a2QdBlKV9jraZh0OgYZNsXsUXx2PGD/D77u4zFWq+l2N90G/SZ1Nxkm7/vwmQXUiHoZeYbMGlM2OpYY3/TbRhmPwB+luSa5v7oYyjk/Tfcr96mVhL7LHT0ceZ7iMR+bR0WbqcEYNuNeajv44rgZ+E4veUW9iw+L7N/bjkPPayn4d7Z17B2MsOJoDW4nRKAPQ8Xyx3XpstzhNqRHforp9gjF6KG6NN7i9j20CG7xLbv3/sitn3mzCux7SGDd4ptd+60jiAIgrhz+xPB4/Fl9ksQBBESnUw0mLFVuC0QEES3ZQeJBjO2EiHRyURqTgHRacl+osGMrcSi47eUuCrVWDV+H5GXXUgQBEFsnnGMOLbuKkEQBMHjiq4jIiia+HfHHeF2wo9UYs/if8X6Obj8ItHd4g+J/rtb/CG1/6AnYURP66lS2wsEAuF2cWGpcH9lhtadK7f96EaLiMTIVKn9V1B5PNVJN8/Fcv9N7LWVeBLXQeLfneh61TamzymphN/Bo8LtUi6XcP1H9L089O4D4bvvsHBbQBDEzfBvBEEQxKPIaKLZzr1EdnExQRAEMevaTbFjCYIgXP/ZSvD4ou9QZMY04l2cI/EuzpEITmgk3M8XlBCfkzoQ7+PdiKjMmWJ9hKb0JD7EuxPf0sepe7m/hLdZH2S+Ny14Xg2O5NfjeHw9cS0mTLhdUF5KtLoYQGz9+EypfrpbTSV62EyT2D/dbz3R3WoqwS3nUeqHx+UT3a2mEp9ffRf2291qKnFwxSWlxiOLWqlJxePxcejgExw6+AQA8PDRIlhZGUEgILBs6SWsWTsYFy/NwsQJB1FYWIYufvIliPbceiW2feJxEFJyCnB+4WjUtSWLQz5c8zsaztyGB58iUd3JBkOmd8XUjmvw55bRaNu7MSKCYgEADCY5UT6y+jIu7L6Hm8mi0Na8rAJYUNSe09ZhSe2/iW893EwOwADnP3E5ZrvYMbdOPBfb7jWuPeQhrX1mcg5sXSWjsLR1WLiw6x6cPW3FxvOr8XWQVPp4mlC9UYXyWP/4GSIXiNJCaAB6epB6nsn5+XAw4sBYh6xUvb1PT9wI/ya3P1ez3XCFpJeCTmPD20a6ykl9q5sqjr52My14noQ7Mjz/OzwM6/zngtkCo76iu6M7dJlauJ8QCT976YLBUWMWotu1Q5jx7Kpw30ofP4zzkD4bSoxKg12V3y+3nFxLbtjGXaJ9hXpJxSyrMuVlXLC0pafS5GUVAiBD9y/te4hDKwNBEKSrUx1qpTFjMhlwcDTFjh1jMG4sGY7J5fIgEAjA/ankUVRYig0bhuHI0WcKk3Y/RifDsZI24/OvZO5EhSGrjLG+9LL2msSjqTNOhawHAKTEZuD7xzjhe33tZ+Ds142YsFR1MeArsSJff9X+AeDIu1WY22cztlwXuQ0rG68ellOkGjMtbaZS7amOpzYgILig07Q0ImWlDpMuXZHYd3BQf4xq3BBrHj2F28ZtGNLAC26m1ItPEuAjJmsuXEy3K26sgEPfyerk/u7P5bZLLfmMp6mrUczLBpthhAYmI1HfaBCCs44gOOsofqvzEAya9DXqz9lnEJ53GYXcdBhoWaMOpwec9NrBWFuyAjQBAWILniEo6zDyyuOhp2UBusAPTc38xeoONtZ/Czs9UZpBKT8PL1Mnop6h6DrOxQxBITdV7NpSSz4jIu8qYgqeULqOMn4+3mTsQm55HHLKYgAQsNCpj9YWc2DEklznFxB8HPnRQerfVEDwcCtxFlJLPqO/w0GYsUl1+cbm1mh0dgcu9RwttiZWFQaNhgf9JEUvZDGp7SoAgI4+G1YOpogJEyW5rzolKV24+eocDPNcgB7W02DtZAY6nY6M5BxhInXVPDNpDPqjM0oKS3F6yy0QBIHfVw6iPN6qSDVmWWXUw5NNtQ0otbt2fQ7lPgHg6FGyUNvlK2Rxtr37SH/2PxuHAwBs7cgf88KFilUNdFhM5BeLtBkTsyQli0J/1jsb31nz1ZelMbndKvQY0xYnN17Hvmei2mYCgQD3/32Nr28iMWvLaOgb6eLF9WAkRKYhKTodL64Hw97dGo51ydwvphYTv/ksRZ8JvuBzBRgyoysWDNiKvMxCif5fXBeF0Vs5mOL+udfwG94KfSb4YsXoPfBqVQfXDz/Bpiuiz2pqxzVo3bMRnl0Nwti/yIhHWe3/uTwbfe1noOOg5jC3NQFbVxuDp/lhwYCtcPN2gIWdicT1/mpi8o4gqSAQRdxouBvPBpPBgb3B0Go7X2xOrvB1GV9S+fvgoP7C1wQgti4WPnemWNv1j59JHB+alo6G1uJrJTQwNGLIqPI5+wzeZe4FQIOJtgv0mOZ4nb4d7zP2gk6TnfgeGDcO2WUiGSYGjYV8bhKCMg8hKPOQxM0+OOsogrOOiLUv5KYiJPskQrJPoq/DPliwVZeIE10HYKLtSuk6TkaJxJoNtWzBoLGQXByMi7GjYcGuj972u+T+DSpz5AfpJWhoMkpoyAAgt6wUF3qMwoCbJzGmbmMsb9FFZh+lfB7O/fgEASGAG8cM7W2cZba9lbQbx/+5jgfn3yLhRxrcvO3h6m2PWZtGSk3MNjTWw+2UAOxacBbPr39EaXEZdA3Y8O3XFBP+7i/lDNIZPa8XSovKcGnfQxAEgcmrBlM+tjJSjVn3R+spd0BVAWSS/2EcPESt6q2msTYxRHhCunC7tFxSgmVj4BOYc/TRt0XNLHo71LXG4VWX4d3KDeY2olnjyLm9cGL9NZjZGKO0uAz6Rro4veUWEn6kgM8T4OH5Nxj+Zw+MW0QmOJtYGmLwVD/sX3oBA6eQX+pBU7rgwfm3Ev2v9ReP6rKwMwUATF0/HNO7rMPJf66jQVt3eLWqA4DMMfFs7opbx5+DY6oPv+Et5bZv0NodvgOa4ePTCJQUl2HUvF7C8exbcgGZKbkS1/uric8/hcaWAXidNAjORpPwIrFntRqzypXbo7Oyxd4zYrORVVwMU11SqutHZha0GMqFhJ/79EXCmNU0H7PJKhCkMSF/Txml4bga/ztAlEk9RkBwhYZMX8sKPWy3gcOyQyE3FeF5VxFfKKneU2HItBmG6G23C8baLijhZeN7/m18yJRfJFeZ69BlmmKg4zFK10GnMdDaYjasdZqAwyJTIPLKE3AhdiTSS7/iS86/aGgyWuG5k4uDhK+bmf0u9l4RtxxtbZwwp1E7XI2RXdmATxBoeXE3cstED/JLmnXCJE/pifA0Og3jF/XF+J/3FqrM2DgCMzaOUOqYqvgvHwj/5eq5GaXKWY1/tQeZZQVIK1UsulqTclaXT7zC5/fR+Pw+BlpaDHQf3BzjZymuCfYyPBZT916Gi6UJ5vRvj5kHrkJAENj1ez+k5xVi8+Vn4AsEeL91psK+fiWX9tzHoKk1XwPtvwhVOat3KWNgptMOP3K2o5tzGB7Ht0NHB/kuNFX5kpqGxXfu41tGJprb2+JtfCLYTCZC58wAQN586m7ajobWVqDTaPiYnIJPf06DHot0Y1VEPrZwsMOHhCQ0sbPB2REiw+u2cRvOjBiCP6/fhrmeLhpYW2F1186SA1EDKm5GWW1K+Xk4FUV6Uqq6505H9UUJPwcclj2GOInnuknjRdomRORdw2CnkzBiOVEat52eD7rbbhEbS+UxVnUzVlzHCJdA6DFFSxLyrkMWcYUvcD95Eeg0JibUEbmypbkZuYJiHI/sBm2GAfraHwCHZaewf2k4ndiAoKEz0fT8TmH+WbvAfVjToit8bSVdttWNPG1GTSB1Znas9VRsj7iFKwnv8dhv2S9fIC0tKUf/Zisl9p878ATnDjzBjnNTUNdb9gfepp4TXK1NEZWShen7RWsSMw5cFWvXcCZ5s6iszVib+J8h0zw1nTRdxuPh+/w/pb7HoNHEAkCqIu+9yu+/mkp9naQmYTNkF+8s4eeABjr6O1Cr8xWRR6Z3UDFk6lLESxMzZvKuQxZPUsn1KHO2/KrKAHA8khQpGOMqXVbteky48PXhsA+40ku6iERDM2uYssUFuZ8P/ANNz+9E0NDa/eCuClKNWYs7SyAgiFojIizNkFVm1vC98GzkILfESOAiMidOQBDg8iTXKpSl1zPyy3Cz/U6ljnuRGYKg7DC8zvwMLsFDPUMXDHPoCm+OKCLpXXYoVoYeEPadzy3CiNeLYKClh3OtSBfwb+9WIL00GwebL4WNjuiHtjniBF5mkooOXhw3LPacAB2GNno9m4nLbbeARRf5659lBOOf8GNyx1v5+soFXAx4MRcL641He/MmUv8mjrrW2NNskcR7tRmeoABZJW9QyktDfTP537X/oZh6nP4Iz7uCO0nz0NxsMky161A6zlq3EbTo1R+ARZWK67gWPwUDHI9Qvo4KyvgFuJk4E9llZB5mM7NJaGQiOzf3yI+OoIN0K/9WR7aCfh/nesLXjc1ll/+JzM2Suv9XT06qC6nGTCDpefxlUK1QHBZCrcw3nUaDttavCeLs/WwWCIhfz8ecCHzMicCWRnPgYeikVv8VBtZZzwYWbFPEFCVh8Mv52NBQ+lOYF8cNs9xHIL0sBxmlOXiY9g4ECPS0bgszbSOYa9f82tazJ+Fo36Ge4oYa4l3KaJiwW8LHmlwfeZM8DC1tVK8m/j+ANpZzYcqugxdpm5BY9JbycVV/G1SocAXKorIbkSAUJ5RXpuI6QrJO4HIc9fppr9O3Iyz3MgiQ57PXa4luthshT3kFAJg0NsoFhejvcBAMOUEi3mfIYJ5SHg8ECESOnS+1nQvHREKr8V1aAoa4qVa0U10YTDqlCEdVqZWh+ZV5+ZB66faS4nKh2ntto9/z2SBA4HiLVTDTNpJ4v5BXrFb/b7NCAQDzPMaio4UoIpNH8NHvuXT3lAnLEF2tRMUtn2YEgSvgYVqd6gmA4HL5GNBrC/wnd4SJqT7ad6iH8aP2oqiwDF4N7LF89SAkJmSje+cN2LV3POq4k4EMFW1OnZ+O0UN348JV0k3Xr8dmXL09D5s33MDb15GwsTXGoKE+ShnD/PIINLQQRQwWcqM0e9GV8LayxD3/8dXWf23Cg9MXHhzJQAJ5xielOARl/HxoM+QXtqyMtLW7qIIHeJwiOcMurVR4tcLQEBCIQvilPMQrex2fs8/ga+4lAEA3242w16NePHas220c+t4eV+InyV2T/DJSupu6Ktd7jUcxj4tXqaJUGB9Le/hY2ss56r9LrTdmhXkllNsW5BbXWmPGI/hg0hhSDRkA6DPVKzaZXJIBAGLuSgBg0hhgM1gorQVVwf898xrbdo9F4MV3aNW6Du7f/YLJU7vA0ckMwUFk7t+VwA84c2E6Zk45jlP/ThNrIyVWCQDwMTgW+w5PxIjBkiUpFKGn5YLc0o+w1OsKADBgVW8R1v8B0EAHnSbt1kMgquAhPI0U51hq0fXAFUiXlSripkvdX8LPEb7mCcgIv2JelnA9jE8o9xuRdh3RBWQFZGudRkoZsgraWs7Fi7TNeJsRgBbm0gV/G5+VvrTxcYSkB0aXqYUudtKTqv+/UeuNmTKuB56aa2G7b5BKIdN7U1fapkJEPnmjXlhvvEb7rYyhFlm4MbMsR8Jg+rsMwO4fv9Z1xucLcPzoM4we1xYLF/fFsyfh2LjuGm7eJ2slde1OluLwn9wRJib6IAgC5eU8sTbSkuP5fAFmz+8JUzMDsJUo3llBC+uToNO0K22fVuXyhERHpuGPMdLDwv16NsT8pZJP+V1bya/WXsfDGgFH/cX2lRSXo3+XfyQmE8PHtsGEKZ1kQXohaAAAIABJREFUnuPe66VS9996tliqkoOq5JXHg8MSr7bMJ8iUGGvdxmIJzQDQ2mI2XqVvw6v0rXA16AJthvz81f4Oh3AhdgSiCh7A1UA8z6oiN6yN5Vyx/cW8TOHryPy7AICgzINob7UY2WVRKOHnSMwKlb0O3s+QfQd9yXsInyhXGPnowekHrqAEbzMCABBoYT5dos3hLoPQ5Gey9Lu0RPhYyo92JEBWkqYrKMmiLjlFl5CUswL1bF4gt/g6TPVH40uCB7ztIxCb4Q8n80MAgM8JzvCyCwWdRt6zQhO9xY7JLb4GI13yd5JXchel5REw1OmEjIIj4Oh0AUe3l9TzSzVmtSXwAwDc68vOcK+KtT2ZSN1w5jaVIhIP3iP9+5o2Zl/yyAVgH1P5slvq0NnSB1u/ncLckG3Y1WQhXPRFfzdTbeWjrzQNg0GHpSU5jvS0fABk4jvrp2L2gN5bcfnGHKSlkq6grKxCsFhMsTb37nwW67OsjAsGg4642Ew0a+6C4mLlZ5+P4lqhmfVRAAAdDBhqq/cZFReVo0WbOpg80w92DmQeX2J8FgLPvcWNy0GwdzTF8CrFVisbmArjsmHnaDRpLj3BlRAQ6Nf5HzC1GDhzdRaMjMmbwoYVV3DuxEsUFZZixvyeEscxmXQ8vh+KjlXk32h0Gu7d+oSe/SSDesr4+XiZvlVi/6OUFWLbnazFty/EitT2OSx7lPELUMonE8a72UrWrvI0GojogkdILfmEk1Hk2Bk0LaHhAGjwdxcliXNYdvDg9MXjlJV4nLISekxzYZI1AAxzPg8DLWuxczQ188eRH51gqGWL3PJY0GlMxBe9wr8xQ1DAJUUTmpmJR4Iqex197ANwMqo33mbswfvMAzBmOSOvPF5o5HrZ7YS1rvywdG/j4eAKihGcdRRfcv6VcDle/BEqNGZXor7KNGZvUuMx/J54moMek4WvI5UTsKBKfNZsuJgfB53GhoneEACAp+0HfE5whqPpHmE7guAJDRlBlMHRdKfYMVVJzdsKS84sOJhuQ16xbLm1Wj8zc60nO1qnKoqKwf0qGD9rIclau6pAVpQgVa63244J71ZiRvA/KvdBhTIVXZbHTv2BPt02YdyE9rCwNMSx01MwYvAuWFlx8M8WMunSydkcPTpvwM49ZL20ym227R6Lg3sfYdbU4/j+LQWLlpIqA3ExGRjSbzvMzamvtQBk9WUBwQWHRd7cCfDxNKGjWpJWXg3t4dVwuNg+OwdTzFzQEzcuB+HEwScSxkxZxgwk3am3nomrk/+1oj8iv6XgemCQmDErKyPTDjr4eSHw7FuhMcvJJt10DRo54NbVYKnGjE5jgIAAmaXhKOaJouMq3GkVVDVmE92f4kPmIWSWhiOt5AsYdDbqcnqjreV8idlMBb3tSR3J8NwrCM39F/nlyTDQsoKzQSfY6EiOra3lfDQ1m4jI/HsIzTmPUn4ePDj90NZSesUPV4MuMNV2Q1DmYRixHDHY6SQAGq7FTwaf4MJBrw3qccSVKya6P0VGaRiCMg9Tug5tBgf+7s+RXByEd5l7kV0WBRZdHy56ndDcfAp0GNSCqpqYTgBXUIIvOedw6Hs7MYO2qqUfTkV8BI0GrG7VVWYfw++dkSjCuSXkGZa/uy9RAkYTaDOdwSfyQaNpIzTRG152X5BVeBQWhtOQmrcRHN0eEsfQaNoSxxSXhfycmQnAoOmDxSQNdzkvSeL4ytR6YwYAnfs2xsNrH+W2mblC/EuYnJ1fnUNSioZGpEjnEZ8VsGRLaupVRCGasKTPoAQ/F6sLuaIgkYr1IzpN9IOi0+g41kJy4Tsk5xuWfNFcFFFYfgz8rFpKfU+eK4OpxcD1u2Tk1bMnZK7M2YszxNq08/XA7YfiP8DKbSqCPyozZwHpdhjYW3IGIQ/az4cM4f9gQIsufU1TXb5+TgAAuCvxcCaL9LQ8GHKkh7AvWz8E/iP24tWzb2jdnlz/u3udLPnRpUcD/DXzlLDtlfPvAADNW7nhUMBDyc5Ark11tl4l3KaqzUgDHc2rKFdQpZ5Rf9QzoiaHpMMwgbfxcHgbD5fbrmK8hlq2cNATf5jo67Bf5nE00GHB9kIPu20y20jDRrcp+jscUuqYqrQwnyZ13exSVCiWvb0PgiCgw2RhoKt0ya5mFpIztrmN2sPj9OZqMWYeNk+Rnr8PXxLqws3yIgiiHDxBLmyMlsJIty8KSp8jJZdMLfoc7wRvhyjQwEA5L0V4DADoajfB5wRXaDGsUc/mBTysn+JLggesjOaCxZD9+6FszEr5XPjeXyEM29djatdYQvX89YNhbKqPi0clf0AcEz38+1yyfk6PFdSSL9XlaXoQfC3k1+Rx1Se/VHsjL2CFl/RcOEc9a3hxXMX2lfDLoMPQRmIxuaBdef0wu5x0xxlpKdbGjCtOAQCxHDN1uJf6GrPcpcvXOOhZS91fleoIvw+8obz7pKvzF7Ht1raXNTUcFBaUYt60E4j+kSbct/3Abxrpu2ETJ6n7HZzMAAAhQbFCY3brWjAMOTpibkuCAK5f+gDfzp5o4+sh05hJQgNUCKH/H5rDy9QSAoLAtzFz8Tw5Vma7pCLpD/SmbL1qGhlgYfgHLAz/EG7bGJEudLaWO9ha7jCwaoeIlI7wsH4s8xgj3d4w0hVp7tJoWvC2jwAA5d2MfZ9sQkpJDi62nwNHPfLH0e7ecrE2Rbwy+NxeUmPra/7zusN/nuzqpZXZP0015eXJAZeUas+kMbAx4ji2fjuFdQ1moD7HBd8L4nEy9gZWe4urTE9w6Ycj0VdxOPoK+tl2gJm2EYr5pRj1mpRd2tlkgUT/M4M34mDzpVgfRmrQWbJN8DIzBK3NGoJPCNDE2ANshmhB+VPud5yMvYk/646CrY45aKAhpigZB6ICJfpWByaNgQnvVsLfpT9amzUEj+Bj2CsySGOyq+qq1/9fKCvlol/nfyD4mSPZvJUb+g5qhhZtlEu6lQvFZ8hv4cmI/pGG3gNED1yZ6fkICYpFYWEp+gxqBtufa818vkBhBYpO1ivwKGU5Dn0nVezL+QUo5mVhiPMZGGpRX9/+H6rzNDFG+LqOkZnMdp3tXCX2vUmNx+oWsl2TNUFlQ6YssoI/ABnGLKWEDGGtMGQVM4I25nUx0a0jLNkcjPup31gbaVnXQXEjDWDMMkRb80a4nPgYCz5tB5PGAI+QHlE50K4TjkRfRWDiIwQmPoKzng3iilMhIAQw1eaASZNSE0jAxZQP65DLJf/Oa7ynYdL71cKAjlZmDcTaX0x4iPD8GEx+vwY6DG1YsU0RU5QMAHDUlT5jep8dhriiZCSWpIMnoBYNusJrMv7+sgdrww7DTscC6WU5KBeQC/Wc/2PvrMObut44/o01dXdvkbaUIkWLu7sNdxg22G+M4aPbcLcBGy4Dho0y3N2KlhYq1N01TRr9/XGJNTfJTZrSbuPzPH1I7z333JOS3Pec877v92VRq+xb3VyNWlVj9174zTGZIZs0ozNGTTB89eoSNSkr0vtaWRGpHh9jiMAGb19HWZuPsVmIjSZW6/X95ds2yQm58K2nWo9OEV+LLriT+RMkEKNQQeE+lfMUgdZfJjKfg71Rz2WvH2UkwcuvCWm7la16qhxr7fx5no01AaVtxj8SHwIAtjafIDt2pctitLiiuTz2v5065u6Y6jsYU30HY3/CedzMfgZjBhu9nFWjIWmg4VKH7TiXdhvhBVF4X5wANxMHzKw7XOZTq8zhVj/jm1fr4GHqhL6u7eFq4oCVQbPwS9Q+9HJpgz4uyg/JX4JmIrokEUeTLyO1PAup5dmoY+6BCd790MyWfFtv7YcDOuegNbXxx6k263A7Oxxn0m6CRWeiu3NrzKpLHo30X+N9ZBoaNfXCxl3qpYuqyls1BU7DTocDAAYMIxLnL4cRZX869yD8KvUDXHD90lu8eEYkhxubyLeeL194hTnzVZ30lZlS/57e4/6CMnQaQ6v/sTKK+WSj1Riy/yJqjZmnmXz5+ig3Bp2c9K8L9G+ksibjFN9BmOKr3Wk9xL0Lhrir5gEp0tK2oaz/HcELlc41tfHHuXYb1V7rb+mDVUHkyZZknG2rvq/KGNFZsnGZMU3Q360D+rtprkj9X8WgW4qVGDelA47uv4/njz+iZRvlhNjdW6+BRqfBwpIIEIn7tAKT/j50VGusXfGXSn6ak4s1rv39hpIxIyOXV4oj8U9xPPE5eCLVEkvaqG/phH7ujRBg5Yw2jqrbY2RceR2D3k0Jv+Dtd/HoElQH43f8iSPffKXUrutPe3Frhe7iy1ncYqyKuILw/CSUCnjaL/hEB6d6aG7njcn12lRLTIHf0U2oEAllvydNXEjaLo/HQfNTykICA3waYHt73Uq8UCGHV4qt72/iWV4Ssrjaq61UJtjOE91cAjDEsyksWMZ6jUGtMSsVyLcx0ssLMMSzldL5qOI0vW5Ym6mtavn/dT7k5WL8xTMQiET4sV0XDPEjamT9+vIZtoQ/Qi/f+tjZg3AYb3z2EP3r+cPPlpiMNT3wK15Plhv3yZfO4UFqMjZ17Y0B9QgF8yvxsVhw5yqs2SbY3K03Wrq4w3vXRlwbOVGln1J+BdY+uY/T0ZE40m8Ypl05j3dTlSMy7R0tsXfnTRzccxtePo5IS8mThcdv+HU8GgerVhzWhXFTO+LWtUgsm38CNDoN3j4OKCrkyELtK4fsK9K5e0Os+ZEIcmnYWC5r1L13Ixw7oFrsUxP74h5iy/uberwDVWJLsrH5vXLFgia2HvixUV/4WX3e+mx7Yu5hR7T+fp372XG4nx0nez87Wo1EF2ftavkj7+/Fu0Ly8POogaGy1yd7jdIoMCyl+akd+DB6PkyY8tX3nPth2BP1FDMCyaORdWVd5FUciX9a5X5e5afgVX4K1kdekx273v1buJlSjy5W6+0t5HPAFxNfwGJ+OewVKkoX8TmY+HgX9rVWr1IPAE/fJKHvtN3oMGoLJi86hsQ0VRXnjftuov2oLRi/4IjKuc0HbqPz2G0YMnsvHr+S789PW3ocbUZsUvkxFEnpBThy7hkKistRVl6Bg2eeIjYxB/lFHAybRRS4zMwpxub9ysrWj17Kx3jwzFMMnbUXeYVlaP+VPGS87fBNiEsiohP5AiEKi8vRdazyKq/nhJ0Gey9USS3PRt/7c2VpArUFoViMIeeOI3ziTLyZMkdmyE68jyBEVmd8h0Uh7THwjHbljoSiAnhaWiNuxv9khsx710ZcTohF5NS5eDhuGgLtNfuMgvbtgFAsRuzX/1OrTnM8bB7W7RgLn7pOSE7MgbGJEfwCXPH9sgFVNmRSDp2eje37JsOnjiNSU/JBo9MweWYXXH+yXBbEIRIRKR10kirBADBwuLxIY7fe1MVnZz07jsCwUIMZMnW8KUjFkLt7EBgWisCwUJxLUU7PiUwh/IFiiQRmxlWXsUvm5CMwLLRKhoyMb56dRGBYKEoEmqX51BmyynAE1NwCbZy9lAwZAOzsMBBb3jykdL0mHuV8RGBYqEEMmaEgXZk1svFERGEK2l6Tl7f/KeIMfoo4o9Ru38fb2NGCPNT4xN8vcPbaG1zaOxMAEQp8+2kMfD5VNwaAt9HpuP4oGg9OqK6Iuo7fjq/6NsOdY/MAAK+iUmXn9q4aDQDoPWUXDqwdCxcdk2W1sW7Pdez+RZ63su/PR5g0jJjJuHxSsZi/+hyObJqAyNgMNKyvOks6cOoxNi0dAnsbcxizyUPijVhMGFkxcWzzBOTkl8LRTjXMPoETj2PJh/BjA3LJI23nqeJh6oSeziEytZLaQljcByxv20nl+ObnjxA+kfhsuVtY4W1Opta+8rlcuFqo/o2bO7vhj6i3st/HBDbW2M+iEGJrNcRNvTO9aXMfFQkqQ+Mf6IY9R9TncjEYdBX5KkBV0goAXN1tSY9LkUCCk4nhWBlBXmPrc7D8dRiWvw6TrVIae7ug2Q/b4WRlgctLJ2HEpj/wIT0Hjb/fiouLJ8LDjvqsvmHYT3qp9utCyOV1oNNoiBhQtZSmdq7elNqF56junmWWl6KxHbX0GTK4Ij6aX6w9ClGKkBqzNU1G4ZvwQ0goyyY7LeNpXpzac4fOPcPGRXLBUBoN6BqiLOKamJqPFkHkM1UuT4DpX8mTG4MDDaP0LBCJcCciHqXcCkgANPBwRAMP5dm4upksIE8KzsotAZNBx/UHH0iNGWhyEW6hkLz0RFEJF199sx+zxnWAq6MVqTH7nMxVkztW04h0LElULtDNZ7PigXKOldSYqetHneDxv5lpj4/iSW6C9oafkR6N66NHY3nw1Kn5YzBhxykc/ka3qg/rIq9VuyGTIpZIMD/8DDa3UA6WKhNWUO7jXHwUennVhymThRupH9Hdg1xIWCAWIbowB/428kjWybdOY3pgK9L2VJj99ITe11Y3pMbM0dgKf7YnVkRiiURtuLkmSjk8BPlp3tet4AtgbspWOV4d9dRScovQ/5eDas8HeTnj2HziYb54Zk/s+/MxBvdoDDsbM4wb1BKxiTmwtTZFVm4JxBIJls4mct6u3f+AkKa+CAlW1tGbMqIN1v12A3tWjlQrgDzh+yO4dngOJBLg7Yd/nw/SEAysF4DAvdsxrqFy1Nas4FbY9eoZZgW3QlppMZo5yz9roQ9uIWzYWBRwy1HXRlVxpTLTmjTH0jadkM8tx7i/5bsP6vpZ8+Q+NnTphQepyWTd/auQQIKgsJ8/28O+qqwa3ROtFu/E/P4dMKJNI3QJ/V2jzN35lDc4Ev/kM44QuJYRhWF3C3Cmk9xNsyv6LuXrmzq4oMmJbTjbZyyaOajP7UscvwjNT21HPk+uHLSkWWcM9tUvmG/z+xt4lpeovWENoTU0n06jwYi0XIN2yPxYj0/NJ2mpjKEjgAQikcyQjescjCEhDWFlZgI6jYZ3SZlYdfo23iVnYeDKQzi9aBzcna0x9St5eP2MMfLaRX/umAIA6Nrmk1TQYbmqddtmvrLXE4e2xsShxNakhTkRnfPjlotKq76eHQKQlF6AXUfvYb3CKlaxTwAworFQLuIgNGopWDQmQgPXgKWg5mFEY+FEylE8yL2LXi79MMBV3tcPEd+iiF+o1B+dRseeZuoNe22CSafj8ojxCDnyG8oFAsxr0QaTGwVjUqNgbA1/jHp7tqBPnfo4O2S07JpjA4aj+aFdsDM2xdWREwEAe14/x8ZnDyEUi7H68T3MadYa37dqh6RZ3+P4+wj4/bYVIW4euDyCCKe3NTYh7Sdy6lyse3offr9txYG+QwzyHgvyyzCyn25ySZ8DnkiAZhdrLl9PH9ztrPBsjfz7cztU/TasUCzC0tfnP8ewVPhQnInR9/fheIepKBXwcDSBuu+pqIKH073HYPCloxjn1xQrWnUjbUcD8HKEYXzg5UI+9sc9Mkhf1QVNUk17Jr0m/4oTWybB5lPyZkJqHiYtPIZ7x+Xaen9eeomE1HwsnqGakd5mxCatho+qz2zGrnN4Ep2sMVpx41/3cfTOS7Ss74G9c4Zp7E8dr9+noUmAOypPBPtM3oXLB2aRX0TCmG8P4o+thC8ygROPtR9+hpuJO1YErkJ+RR4Wv5uP35sfVjq/ofE2WLGssSjiO/R07oPOjsof8OkvJuDX4H1KRhAANr67hbuZH9HfsyFKBDwc+fgc7wYvxunE1/g7NRI93QJwMyMGT3MS8WHoMgBA/TO/IHaYqn+l/plf8E2DDjBnsvF3aiTOda1en5E+/P4mHNObtDBYf0H7dqhEM/4bEIhFaPJ31fywFixjOBlbwo5tBguWMbgiATjCCmSUF6GIz5UFmOmKYmRfVWh5aQ04OmzvuZlaY0fLkVqjK98WpuFJTjx2Rt/VuqL9yrs52Aym1kAKfd5z/T9UVf2lxI4hr06tjmYXV+mcctHVxR8jvVsg2M4Txgz5c4cr4iObW4q08kIU87n4WJqDmOJsRBZlIL+iTNZO12hG0iXXqeQn8DSzR2t7/XNlLu+bhXYjN6NBXWfQ6XRExmbg5mHiSx/+Lhk3H8UgITUPpZwKrNlzHQCUjNrOFSPQZsQmNPJzQ3ZeCdo288X3U+UP6INnn6KcRy2q50VcGjzsNf9Rvh/cAUfvvMTr+Ayd3mfPHQeRUVSKQxOGoom/KyYfPYthwQ3Rt6Efrr2PQ88G9SBqaoIhv/2Bj7n5iFimfaYkNWRSWHQWln8K8LBjE6HiZcJSmDMtZOetWMT7Cw1chbmvZ6CFbSvZeW3MD+qCzi7E//XD7ASIJBI8yk7AksY94G/lhDF1mqP+Gc0PthWvLuNSjxmoZ0kUOpxU3zChv4bGkIbs34w+hmywZ1Msa9RH6cFFFZFEjBsZHxBVlIGjCU8hoKhGoy9cEV8nQ/ay31LK76uxjTsa27hjhl9HiCRi9L21E6mcAtK2fya9oDwGKVSLc7qaWuJS/0kwY1Yt0pMvFupkyPa1GY8QB1+1500YRvA2t4O3uZ3aNvpAasw2vP8b3V0aVcmY0ek0tSurFkFeaBHkhZuPYxAekUy6MgsO9NC4Mps0tDUmDaX2wGxaxxVRKZqDWaTr0+A61PXlKoRCrOjbFW18PfHXmyg0cVeNElJs4x+q31aSE9tZSR3fjm2PdG46/Cz8ZeelGDOI5FjF89pwM5Or9Xua2aCggoOtrYdi9dvruJQaRck5ncIpRN/re5SOXe4xA3U/Gbd/K/+2VVkyJx9D76hXka+Mm6k15gd2R0/XqokqMGh09HILRC+3QMwPJBTdi/jlWPXuCi6nvdNyte7MfHpceyMAyxr1wSifltobqoFBo+Nqt7lIKy9Ezxvb9O5HEarFObPKS1EhFFbZmH3/4oz2RgCGezfDisb9Pov4PBk1WgKmVWMvhEdUvxO9R5P6eB6bqrFN1Kecld7N/NS2GX3nKJ7nEuP9OGIZ2EwmDj95hTr2tvC2I69TJG3Txld/TTShRHk7hi/ig01nqz0PQOm8NrLKS1Hfkoh4SuMUwZZNbA0vadwDSxoTEw1tKzNvc1usaNob3uZEoMSkB3/Alk1NnXvOi98QXZKGACsP7GimX9kQfcnmFeFY0l38nR4OYwYLA9xaYlY91cKWujL08SycbbNLe8NaxsKX58ClKG/GoNHxd9c5YNOr5zFibWSKDc2GopuLPy6nReJm5geD9f0qP4VSu6oYMkXcTW0wuW5bHPhYdb+Th7l8l8nHUn19NJ5IiOBT28EgCYCJH0euGkIG1SjW5Y361pghA0iM2flUQtstqSwHhxLINdgsmMbo6xas13aCUj9mxhjeW3PVVU20GbEJ25cPR/MgzYZieLtG2HnpEQauPISzi8eDWUkZ/FV8OiZtO4WwZRPh7UiteJ6U38YQElYZxSWg0+go5vIg+BS9KPyUtCptU/m+VMniZSKBEw9fM0Lmp1RYAm8zH6XzUsILnsLF2FXpvDZWvb2G6OImKOKX42NpLhifVoF9ru/BCJ+myOSWwJwlN44sOgNdr+xEb/cA5PDKsL7FQKxo2hv1z/yCH4K6gSOswPPcZJlR1MbO5kRU1/74G5gRvgt7WlD3L1aVIQ/WYLhnW9ztSgQ6XEwPR9fby3GrS9X8Rf9EYoqzKCfuNrR2w58ddZeI0oeeroGylR9VI6QNkYQ8XUaRmX4dDXIvKfMDu2N+YHcEXfipShHbgy8dBUBEmtJBw4NhM0jbmTGN8OqruWAzqjbZKBdqn9wsCeote27UFLJ3WVk0OK40C3GfFLfJWBsVhsEeLbGkIbUieuqo66X/NpS6bcjGc8m384o4PDT7n/ql/sCVh2BuwsajddQfplOOnkNkRjbqOtjhj8kjEOTmjA03H+DEiwikF5Wgb5Afphw9hzdpmTg9bbT2DkkItArC8eQjYNPZSOTEI8AyUOX8nFfT4GXmg7jSGJ0jFX9rO1K2ovohSO6XvNxD/iVZ3EhezC9qCLlckmJQyLzATjqNAQCm1OmOAwnVqypBRj+3Fkqv17yntq3yb2PI3T3aGwEItHb9bIasMsF2VVd9pxp4Mse/c5XvRca7ASsQGBaq9/UP1RgvFWhAqYDcRVBVA1eZMb76564ZCtk7UqxL1uLKEnR3aYTVTcirt/JEAgy+txF/pT6vsjGrDlxsDasIoon945TDs3/q1xU/9euqsY0u+JrVwbx65GXgqZyngpjCLPVzciXzJXq7KBc8FYiFmPJsB7J4RZjvPwg9XJoobWnMDN+N6JI0uJva43Drb9H+5iI86r4O0SVp+CnyJE60kf+N2t5YiEfd1wEAfggYgh9eH4KnqQNYdAbiSjPhYqKcm/Y0PwYrI0+BBqCva3P0cg2Gt5mTrK/73daQzkpXRG1FXXMvXMq8i9VB38PXzAOHk86hp3N7OBsrT+KOJP+FqOJYtLNvjgd54fAx88DMOmOwLHITLJhmcGTb403xBxRUFOFoq01ILs9AXkUB/ky9iCk+I2DGNIW7iTPeFL3H+ujfMcqzP6JLE7DAT250vnkdiuY2jWDONMVQd+XagBfTIij93zBodJzq+Hm3gg3NSwOt7qrC2U4zMJTi5KEyVIWGN7Xti2/uX0AZiUH7u+9ESvf6WJqjtY2VEXnV88+NXubZmMGq1SVgroZOqekhfEEPBGIR3EzssDrqjIox63RrKW51WQljBgsTnm7Fz5EnZQZp+MN1aGMfgN0tCHmr7nd+VOlbHY1tvJH9oQi/Nv9axYgBwInk+zib+gQXOxKrzjeFiUgoy5YZM038FEikobwt+oCl7zbiRGv1uwJh6TdkPrb+rvLJ0IeSeNnxaS/k3zcvU1d4mbriWtZ9+FnII8d+eb9T3g+UJ1UZ3BxMaEo+sVr4kloB1+d9F1NqV5uJLdEcDAbIlX6qC38rZxgzWHpVGKAqNNzL0w+9PNXHAFCByrbzQI/aUYamRgNAvlD9CMQCzH6lPt/r+6Cuas99bha8OYgFDQbj25f7lI4fS7qLvq7NZT7aw62/xeh3o4r2AAAgAElEQVTHG/G6MAFNbXyRwS3A//zlZS12Nvsak5+Rhy9XxtvMCR0dG4KvJhR8Z+wlmdEEgCY21H2RUpyMHZDIkSu8CNRscw19rLy9XTmAxIFti9Ry7RqUulLEL9feCEA9S0ed/OQzw3cjoigJc+r3xdHEOxBJxLjW+Sf8GncZx5PuYbJvN5SLKsARVmBRA3lhT8WVMwC17Su363P3J1zutAIzw3fDimWKxjY+SveVUlih/f1asap/tXGm09fod0t3UXGqQsMiiQTNTm1DUYW8fM3S5l0wrQH1oJaCCo7WNkE2taPC+Bdj9i+HRWfJEqxrOy/yP2Jz0ylwYFshiSNf/SSV5cDXXHkl5GXmiCRODpraqOazOJvoFsQz2bcbxj/ZAmMGC780GoOWduTFUvUlh5cHI4Vk9XRuFjxIKn9LjdfP73fgbZFq5F5uhWrVCUNwJT2SUruv6+tWuy6iKAn93FpglFcH+Fm4YfFbojLG8aR76ObcGFPqEH5YbdGTuraPKEqSGTnF+0qhIs0l/Axb7z7m9tobkUBVaHjegzBwhcTEqY+XP6ILc7DqxW2djBlPpN2/aFrFQEBDobcxK6gogxWLWrTak5wkjLt7TO15B2NzPBnwrdrzAPDd0/O4kKL6paPTaLjZexY8zckfYBsibuO36MeoZ+WAKz2VS9bUPbUSABFmr8hXtw/jZV4qRtUJxi/N1Idpj7/3Bx5nq2qVLWnSHZPra3aISu9Nlb4eDbAtRL3v7W1BBobdPKD2a+phZoNjncfCzdRKTQtlVr+5gQOxz8jPNe+LEb6ao1B1HY/Ub0en0bCuyQTMf3UQZ9svIs5B9cFCA02t4K8JQzmvRlMl7Z8jT+Ja5mvZw6/djUW4322N0jZT2xuqPgnFFUGZkEf6XVj5fic8zdyQys3C6iC5zy6Jk46PZcko4BfDw9QFg916oLdzR6z5sBs+Zh6IKo7DLw2/AwA0sKyLddG/wdbICkw6E/j0XkqFHMSVqn72fg78FiOfzsUozwF4WfAOPzckVG+e5L9W+jfETv7/t06hhpQ6Jtdti95uDbW2q4w0zSHYVrngZiNrb5xPk6teDHLXnDOqa3sple8LAPbG5lqv06UY5+fmz7gILH58FRKJBJva98OQOuQ5frfT4hEz5nt4H1mLXR2J2IbowhxMu3MWezsPJb2mMhUUgmXYtdmYKQaDqMOWbY6b3ZZpbBNfmo+eV3Zr7SuXV6bxvKYHv1giQZfLvwJQNUrVhaupFQLOrFGrUrD6zQ08yErAvvYjSXM8DM2gG/sRWah5+ymVU4ipD06qGHQyvn8WhvPJ+iWqFlaUY9L9EzqPZ9HbI1gaSCiJ+1m6IYsn15P8yrM95r8+gNHeRKj0x7JM3MuJxE9B1FT+c3jFuJr5Cr1cglXOxZQoK75YG5mhSMCBrRHxwLNkmeJ4m/mw+fR72xsLwaIzlK7ZFXcZixsoS6ApbhGO95JrZU7wJp+QTPWVV0ce6dlP9lpq1ADgx6itKBMQW2QWTDME2zREsI2ygQm0qo+TrYkt1oGu8shUqfFSNGJSqKhtSBOZdSW9PB9WVqqGvqVdfXiYEiuTtjcWajVOVNqzKOa71TGvPYn8XZz9cTsrWqdrGto5QSyRIGbcfDzISFLbTlEtX/HYnfR4XYdJiRnNFmHdtaWYFPgdvAM9sPk24bvuYaQcxc1is3Cp9DA4xeXYv/Qkrh2+h9UXFyJ02Gb8lUu4GBZ0X4m414mwsDHHwoMz0bCdP3oYjcZ1vjzZfZjLdJzJ/F32e7VtM4olEiVDFmDthL97kIfzHokLV9tPk7/k+mIvBs2HdaXImTmPz+BqGvFhaHh2LSKHLqrKsCmRUU6UBT/YYRTaOyvP/IbeOoi3+el4kBWPJufW491Q8kijyoZ30v0TeJBFfMj+6jYFQbbUag4te3FZZjg6u9TF3vbkEagHYp/hdOIbSn1KDZmziSUe9tdNqLRFmLwQKdXxHEy4hUe5H7C+yUTZeX9Ld9zLiURHx4bws3SDjZE5et4JhbeZIyKLk9HfrSXlh1cLu3o4k/IIp1IeIotbCLbClt+m4EmY8mwH5r8+AHu2JQr5ZbiTHYGhHoTQ9KWOy9H+5mI0sPJAYlk2/CzdsLOZ8oSgl0swBt5fBW8zR7wtSsTdrtVU76mKMqqTfFQ1R3N5pVXqUxNNbHww7flOzK7fFwcTboL+Kfp0qEcIRj7agNn1+uBM6mP82pwINb+TLZ9A3cl+BwdjSzS08lLbHgAmPNmKDo6BuJX9FtPr9pTdd/HbIwiy9la6r5QQR/VSS4pIIKn2JOC+7kE6G7N7afIVeT1r9VuVr3LTEVOUq3RMAiCAxMgZgoR3Kdg+5wDOZe9FTHg8lg/agF/OL5AZoF4mY3GVK9+hG+wwFb0mdcKl0sN4e/e97HgPo9G4VvGHrNoBt4zaKrnajFnva3JJnKZ27jjddaLatuPrkevlheemyMJK3w9bDKNKM2IA2NlmGEIubEUurww8kRDPc5PR0sEw1Xw1Mal+SxVDBgBnu06SrSS5IgHKhXyYVlFORh3Dbx3C63wisKCXuz92tlEvkDy5fiutW5+VudN3ts7jkaLLeCb5dsUk30rpDK2UZaKOhqgXiVbc8gMAIzpTdszf0h1bg9UHwDgb2+BSR3n0Y+UVFp1GV+mf7N5hHZaqbVNdiCQi7Ik/gdl1x1Jq38+li8oxKtqA+vp2FI3OaK8O6HlnBQDgO/9B+M6f2PaSrrYBoLNTEOlrde0V/1+k/jRN95VC1UB98+wkdraq3hp/ze11f1aNrN8YAokIDBodDibqVXaiRn2HJn8qR9BeSorG5nb91FxRdcYuI3Ye/FrUwbPLr7W0BqauJlZtjTs1UDp+aa9yjcF+08krAyhSpZTt65nqc1PiS/IAAD3c/DQaMk2MvUtkupswWaSGTMrVXjPApBNvZdzdP/S6l64sbaKqJyllVkA72etlL6qvMq/UkAHQaDh0IY8nj16qvJ1WE+P5gpyfG/4PR1vJyyoxaAzKhkwd51K0P3AGe+qv0lNbsTbS7u+/kxUDYTULHtuztfvvKlPM52GsX1OMvHoCHc+q19E0YxkhbuwCJI2X71b18/ZHPSv9JidUyEuXCyqzTbRP4jMTyNMk+k3vJvvZPucAaRuWkbKvrkrGbOmbk1rbDPHWXIJeE9IKw+2cNG8LWBkZy1ZjVGRqqpv2zvLxvi9Sr6JSG/mnFGH8gmGgss1oaHVzbTBpDBxKuIVN0dVXa2yQJ7XcqLUUgmM+Ny9z0rDz7WNYGLExol6jmh6OEndOPgYAxLyIR5PO2sWnL/5OKP68uknuoy/KKUGdxvLVq6CCyMsrzi2Bi6/ydimpMWtxZQkupL2kMHRyPhTJrW03t6qHOQ/00h5FNcBT90ir6qKFg1xy5+OnFaqheZMvT2asY1l9My2q1LbxfIEaVDQCm9p6GOReirlemrjXbTUm+nbFfH/DqAuR3XdBoPqdFUVOJD6vkvRUddDZvQ6upsThYLdh6Olp2DSSqjJkbi8MdZ6O3374A7+cJ2qmnVx/AT2MRkMsUl5onM/bDyMTI/SznACaQtHi6/zjmNVyCfpZTsCGqXuwO3wNAMDK3gK75x/FVx4zsaDHKmy6rSyOoNZnllSmXcZEHSllhdob6YCXuaoyg2ob3XKL/ukklspzjrzMbVCiQyixJcu41ozHmKF5C/kLNQ/V6gf/NMbXCcGR+CeU2gaGhWJD82Hoo0d6gqGZeOM0Mjkl8D5E+AzVyVnVBGxTNs5m/a50bOQPAzDyhwEqbU0tTfDN9kn4ZvsklXO7nqsGUZ3OILZU5+6cTHpvJkCsxAZ5tMDShvIQ4j+SHuLPZGr/0ZXR1ddiCGifIQS+NmGkIBR6OyMOwX9tpHxtdaQw6DuepU16YFJ93cps3LsagY8fMvHqyUdkpORDwBfBxt4cjVr4wNPHAcMntwedXrMK3l+o/Sxs2BMnE8MpCw8veHEGC16cwUy/jtUmQkyFv/tPgFBMrHKY/6DP+eTA+TgQtUl7Qz2RPYGiipTrfYklEvBJ6mRRwdCrpFROEQKsNWvhaVsNVlDIZP8n4WlWu1ai+o7HjEkt4bK4kIMx3dZDKCB3yOdmFePW359C/bffAABsOz4Dfg2VCxf2aqRsyK9GyHMYN0VfwN9p4bBhm+N7/4Fo60AUN+WLheh4cxme9Firdnw/vD6CyOIU0AD0c2uOmfUIId8yIRcTn+5EDq8IHRwDsTBgMI4nP8DXdZW3uTZ8OI+wtOfwMXfC0ZB5suMh11VTTa50Xg5rlplKG7LxqRuXLrS+rP591zRP+1QtFed1/2U6byPujrmH3TFEeSw6jYZebg0x0KMxQhx8P0sZlDand2Ntm16g0YBFj6/i0bCZ1X5PKijmgB1O/AXxZREwZVjgK6/58DELlBkyoUSAffHLkclNhDnLGp0dh6O5bTesS5iN48kbMNprgayfpRFDsKoRoRuazo3H/oQVEEtEGOe9GAcSQmXngE/GrHKSNJWkaUC1bIwURZ9JWPI7DPQKIm1HlQvJkejhplkwk0wdRJFsLvV8GqmUjb4fzLcK/iMfC+1bpPqgmIfGZjARpSW/TlfFkc81Hl8K/rX9W67h9MEHOo9p3ug9qBvgip1/EpqHAr76CU2XWz9ipFc73O1G1DF7VUCtICFAGJOjIfNQ14L4G7wplOcBdb/9k8z4lAsr0PX2Ckz0VQ6Rf1uUhOuZb/Gwu+r3TmqgQq4vIjVW93PeY5B7K0QVpyC/ohR2bAtK49KF2qyGYQiiBoai0YWf9QoeE0skuJz2jlI1bBOGEUyZRrBjm8GWbQa7Tz+6crbPWLiYEf/P5/qM0/n6z8EQ9zmwYBET3KURQ2Bj5ITv/Ym84xXvvkJow5Ng0Yloxw8lzyn1uStugcx4vSlUrbVZ7dqM85+FwcvcFk3sdBejbGbvgZd5qbiaprnC7In4V3iYRTx81AWLaFqZ5XBL4WgifwjkcglFksoJ2opwhHy15ciXvZSH40/zC1E/cAOhbdWpaOgb6/H/oCu6jKe5vebggnNHH+tlyKR8/JCByf22YPOR6Qh/EKO2HVfEx3SF1VKwLbXE2mf5sfA0c5AZDEBVjFi6ijJlstHLRTXMPbo4DZ2d9PPFLI84jhtdQhFfloX5rw/hUOtvKI/rC3IiBvyIbF4JulzbrL2xnnBFfHBFfORXaFY8UkfTE4SySzGfBxadASadDp5QgPgJPxhymAZBasiKBYQv3daI2Fl7nHcRLe16ygwZAARYanczPM2/gma28lzUJjYdcTpVOYeu2oxZCwdPhOcSdYMWPA/Djd66Vw+eWK8lXuYR258CsUitL25H1H3Z68n1qWm2KcZwvcpPQy/3ANnvUnkte2P1s6bTiW8wsR75f4JiNGdvjwakbQxBYzs32Sowv4KjdpZ3Ml6eS9Rdywr3c49HE4mxWTiwpeqh0Rkp+diw5Aw8fclljKpS9TepLAd1zZ3VnmfSGLiY/gL93JoDAFxMbAya/MAXC2FEZyLA0h0xJfIdAW3j+oIqTsaWWN9sKH54ebamh0LKqpCeNT0EnfhQEo7jyevhwHbDIHcikb1YkIe08licTd2h1HaoxzdkXcjgCIthwdTsyqjSBm9lQVdFTnQeL3udWFqADhd3yPLGFCkVVGDOY/IPT2+PAJnga8CZNaQRcrMfn0EOT76SCrRR/wWWGlcAmPdEvtda+f5SrbrOrvXU9rXy9XXEFKtGfA67Ja/yzGYwYcFiq+2jqpztOgl9PxnLVmFbSDUuzya9xfPcZADA/xp2wgz/NtU6HilUx6OJmcN2QihU9ZExmQz0HdESVyNWqv0ZO1N5K+/l4zj8dewx6X2qEjtEp9FxO/sdQq4vUvp5mEvsJjzovgqZvEJ882Ifet75GYcS7uh/s0rk8IpVBI6leYLaxvUFcvq6ByFqYChm+XWq6aGo0MfbD328/Yhn5r0wzL57npKqfU2wLGIo4kpf45eg0/jWbwdsjYjnsjXLEW4mdTHU4xvZz6tC+XeiWJBL2p850xqlggLSc1KqtDK73yNU4/lnA/+HVmFbABB6hn6nV+l8j+hhS1D/03WaIuRoILQb1bGyeR+MunNE5fi3DTtiR9QDUp+SOoX5ji518DovHX2v/U56HgDaOPngQPvqlcIBgG0hQ/AsNxl5PA5CLmxV266elQNmN2incvxRdiIm3CNXTVHnZ5vi1xqLG5PLy1zrNQNj7h7VezxSsjPIA3pMzdk493i52uukjJ3ZBWNndkHvxsvVqutLqYr+3gD3FtgZexn3usn/ViHXF6GZglr7NAWppQ0fzsOcaZjUiO9eHcSaJnIFkOl1e2D9+7+wsMEQSuP6gnpm+3fCbP9OSOMU4kLaW+yKvldrBAWoCg3XJBJIMMCNqEieyU2EGdMKlixbhNj3wdKIIRjoPgM00JDOjQeDJt9xSyv/CKFEACaNhUK+fLHQyq4XlqYPwRCPOQCAl4W3Ve5ZrT4zO7YZPo5Yho8leehz7Te12zkMGh1vCzLQ2Fa1eiqdRsPHEcsw5cEJ3MtUVXtm0Oh40H8uHLWUdRjm3QTuptaYeF8ecWPJMsacBu0xK6CdzGBKOdllgtq+xtRpjv3tR+Hrh6dwKyNW5fyixt0w1Y/adqcheDrgfzgY+xyr3lwnPb+p1SC1vsS2Tj640vNrnEuKwIfibJnvUV/qWNpXaTxSdq78m/Q4FUOmyJW3v6hEMJLxa/PpCLm+CI2svZDNK0JbhwAsCJAn7Tay9kKnm8sRZO2FUiEXAZbuWNhgMNh0Fto7NkCXWz/Cx9wJiWXZ8Ld0k+1a/JX6DOs//AUXExtYsUwRXZKOxz2IJNDw/I+4kfUWiWXZKBFysTqK2CFYEigvz3Ex/QXiSskrEMSXZSnVc5vk2wUh1xdhYYMhWsf1BWq4m9lgll8n2UotvbwIfyQ8w4XUtyikWNTU0FAVGq5J5vvvwpaYOSgTFiHQsjUa23SAJYsIhvsx8Bi2xcxFqbAIHqb18HPQadl1Qz3m4EzqdrwvfgpLlh1WNJQ/r+fU24RfosZCLBFjtJeqn5Am0TZt/cJnQV/V/OpAXZ23zwmZAXJwtsLR6wtIWmvm8I6bOLH3Luk5xdD8muJmVgSe58cpGbHPRW1Tt9CVqIGhNT0EGXyxEJncYuRwS8ERViCvgoMSARfFfC5KBDwU87moEAs//S4/TiXPTfF9FvC4OBrzCrODQsAXi2BKMb1FHza/v4n9cQ81ttnXZjxCHKgFTBkSxbB9QMvK7HTyU6x/f0HluK2ROS52Vq3r9IUvVCfDJrbX67oJ33RDbFQaXj7+aOARGYZuzo3wPD9O7XkJJBj+cCPOtNPdkGujlb0PnuVpDtk/1HYiWth7G/zemqBiZKurGoW+GNGZ8DKzg5eZblqWuk4osspL0d2jHmKLCKm8BrbVU9Lln4baAJASAZfUkAFAAb8MU5+qV2v+wj8bTSkJNUndAP1Xqy3bV18UpyEY4ak+MKdMwEN6eb7a81XBz0p7xGMWt6Ra7l1VHI0ttDf6FzL40lH0uXBQ9vMFAlJjtjv2BrreJJJHFwYOQHjv1bKfez1C4Wlmj/fFaVgbFab3jXuajENxfqnKMTJOrL+AvpYTsXrcr0iLI1ToD4WeQVKUvOTId11+Ubpm+ZBN6Gs1CePqfwsAiLj/AT1Nxin9AEBSVBrp8cr9D3eTZ9k/PB+OwU7TMd7/f4h8pD536Z/K941qTqpHEy7u+iegDxj1+XyY+qCYD1YZC5aJRvURTYjEmhOBB3por2pxN1v5Mx5bQkSf7YkdKDt2JGEi9n4cDqGkAsmcF9gZ0wsZ3EjsjOkNAPg9bii2RXfD/o+GC4pqauupvdG/kJO9RiFp4kLZz38VxS1GQM0244F44sN6q9tyWLKUZ+mmDCOc7fAdBtxdj7Mpz7AocCBZFwbjyoE7gESCSyWHkJ2ch2lNF+JCwX6N16TFZsLFxxGXiuWzlkYdAnCNexQ9TcbhGveo7Lh3oDuucY+it/kEXCk7rHU8kY9j8eDcc/yVTUQyUq2C+k9ipG8wRvoG1/QwVDC31H/FqKjK/V9g1cEb8HWzg4+rHZIy8xGbkosfp6jmKflTWJndyNAczn84YQIm+Mq/O+dTF2Oe/w28L74GkYQo2TG93lns/zgSU+qe0PGdqKeFHoUt/w1wBPyaHkKtRGOeWWVDpsivLaYYfDBkHP75LEYtJAymk5c9Ri0cgFe3NEtXFeWVwtGjemowHVt5DoEh9XFp721c2nsbt088RlkRR/uFJNQ9tVL2Iw3++ELNws/tjIqsxpAIpT4sEfjZLSAoIFbsggIiFF6QPxxi3hWiRflxVGTWBz+7JSDhfTp2ChVZRD0nYcnP4Ge3QEWmL/g5bSDinpH1AQCCvCGf7t1VqY+qcP9NPEb1CEbrhl4Y2T0YjyL0k7ICVGsECiQVCueEKOZnYFt0N2yL7oZneUcxrd5pHEuciie51bsF1s9dey2vthO3Iq+wDPdfEd+vrxYeQkxyDrb+cQ98oQi95+yRte369a8AgJIyHi4/fI+cAmLnqM+c3yAQijB8wUGIPpUxefhaOer3xtMYpT6qk3au3tV+j38iao2ZEV1z1L6Hjk5OfXH1dUIFVz4TSYvLgltdYjYZ/zZZdlyxjaFQ7J/FJiKGPPxc0Kx7EPpO64K+07pg+9yDEAlrviAoAMQl5IDLU/47XLj6Fl0Gb8LytWG4cisS/1t+CrceRAMAZnx/DNv33kLXIZvRc8Q2DJ1EaKdJz/ceScjnCAQi9BixFWcvvsLdf+G2qiJGDnfAdn4Lfh4Rll+R1RhGTuFg2R6CiHuO/CJxCdgusTByeg7QiBwyYfEisJ2jAABMyx9h5BQO0Cxg5EieuM3P7QIjh1tKfehLt292gclgoMWkzeg4cydaTNoMd0drte17uWkvopjFLZa9fpjzG3iiEogkQjBoTHR1/g6jvfegjcMUNLIZAL6Ig4Hua+BhFgxHY93rbSWUkifOVoaKduqYPs1hb2OODsF1kJpViC3fD4aflyO+HdMRv58h/79IySpEzxB/ONoSPjl3JysUlXKxfLrhFTiqoj5T2ygt3YLsrJYQibKRkU7I1GVlNoBYXAyhMAkSSTl4vOsQiwtQXCxPscnM8IJIlA0e7xrpNVmZ8q1wHu8qAKjcB9AQzagtXDSTW6TH2wUSI1ORFkfkzTy79BomFsZoP5iQhWIaMTGxwXy0H9IS+ZmF+GH/DKy/tgR9LSdi6uqR+HPDRUgkEizY9zUA4Pyv15CRkI17Z54hNSYDABD1JBYR9z8g/WMWHvxFCFhK+1dHdHg8aWKtYv8TQ4cBAGZvmYCeJuMwdfVIXNh9AxtvLIWVvX6O6M8R+l5axsPtv4hk8iskK9q507qieRNvtGmhPpl2zMz9uH7qWxQWcfBWwY/4b0RQOA2gmcoMESTSXCIGsVqTfU4+/SsRQFi6HsLS9QAApsW3YJjPpXg3+WdOIkxBRaavHn2ocnOHXDqOLxDCiKV5YroueAiupkdpbDPr2Qmc60RIEnV2mgtjhiVm+10CAARaE34xB+O6AAATBiE20MNFP83ArR9uaW3D1jLZlvIuLkP22tneEk8jkuDqYAWRSIw6Crs3YokEvE9VjCvz+/KRAIDMvBK1pYWi4rPQvbWf2j7U8SBbfRTrP43Skk2ws/8DDIYTaDQTSCQVsLHZCRrNGAyGC2g0BoyNe0AgiEA55wisrIg4BzPzGWAwnMBg9CS9RhUhrG02yO4jRW85q4SybO2NSHj3IBrrJxNL+01f78XK0XKNLltnawz7tg+eXHyFVzeJBy+TxcDYpYNxKPQMmvdohJ2Pfpa1X3t5ES7tvQ0Gk465nwq8RT2Jw7FVf+HmHw+xcvQOpf7VMa9DKCRiVWOm2H/3cfKw8Hk7J+PIz2fh1cAdQe389fo7fA74fCHq+DiCzxeCr0ExXhMikRg5uUQ0m431v7NIoyISQRxY1goCprJVkgg0Zn1IJMTWk0RcBEiEAI0FlvU2sF0SwHZJABjUhZwl4k8TQhobNKaXXn1oYujig2j39XYMWaR5u49JIcUmpjgL4XlJBhmXNh5ka0+haOVATTT53cdMZOWX4k54HFhMBn499RAxyTnYfvI+urUiIlwfvk7AH5dfgMEgfxymZhUiO78U5+9EqJU+u/QwCsVlPLV9qON9MXlCvCZyefEQiLlKx94VXcSOmF64lP4ThJ+2gU8lz0UBP4W0DUD4Ok8kzUQGNxJiiQg3MjdiR0wv7I4dgLTytzqPC6ApTPYEAOjIzx+LzAwfZGb4oLR0OySScuTlDoC9vWLwoOKzV/UaUpTuQ6B2eqNN4md79FWN59UxYGZ3DJjZHT1NxuGP+O2wd5WLRx6NIaSv+k3vqnTNuGVDMG7ZEKVj0pXSyeSdSsdHfNcXI77rizNbL2PYt30ojUkxIERb/wDQZ0pn9JlSOyP+PsRmIbgREeVlZMREGYcHIyMm+o3ZgdmTO6O0jAeBQCg7T95HJrq290dFhQAMBh1OjpYAgOzc2hmibUjoJn1QkeUPhtk0MC3mg+0cAX52S9BYDcCyPQQJ/yUE+aPAtFoDYeEcGJn0h0SciYqshqCzAsGy+xP8PKKqbkVmPbBdoiERZUOQr5wQLe1DkDcUTKsVoLEagZ/TFjSGO1h2f1b5ffSbvxcXN02TrcyGLj6Is2tUK/pKCbBywQctD9aJjw4hamAo6lvq99mfUvckpXZUkohXNqUWePbwIFEbztmO2D05uZZQ9vHzInKzruwkVpvtmvpiXN8WAAAnO+WdFg9n4hn143R5Lbh2TZWThG/sJlbD9/frtqKW1kWrKhWiMnzjp/xMNmc6ICx1CSbVOYbDCRMQaNVb1kYk4aOz0zx4mgXjffE1OBsHoLvL9/AwawJ/S3KpOm1YWGrHH+EAACAASURBVM5HUdEC2DtcgEQiAI3GApNZD/YO51HOOQZTszHgcS/DwfE2xGK5XB2n7DeYmU2AgP8GxiZ9Va7hlB0Gj3cDQmEcTE2/AsBUuo8U0qcZlXpmf7afp7WNJpgsBuZ1CMXAmd0xaHZPGBkbNoudzJB9eK5+xjel0QLsj9hg0DHUBA52Fug6dDNsrc1wev/XyM0rRY8RW7Fj9SgkJOfCv54zdh+6j7ArbzFveldk55Zg+dow3Dr7nayPQH9XdB26Gcvn9wMAHNs9BT1HbMPk0W3h5PDvzu1hWvwApoXi9hiT8GNJf7OSK4YYOT0DADDMpoNhNl1+3P4C+LndYeRAFAmlMVxh5PgE/DziM8kwGQaGCTFZotvLRa6NHB8Z7H242lsq/V5WXqGmJcHpTtPRMOwnrf2eSX6FYV7VE+kqkogx8t5eSm3t2Jrl66qCg432vl9Fp6Gpn3uVRKoB1eAaMuxJ3qtIIgALJp9eC/Eodx8e5e4DALS2nwAf89bo7rIAd7KlZWMylNrM87+JxLInuJm1ARKJRG8DpoiFxbewsCBSoeh0YqvZ0Ykw1uYWhCq+iekwletcXInYBIaJG+k1zi7SVaJc49TJOVzpPsAXOasvAHgTmYomDTXXFZNy91EMOrWt/gRkMjmrC+GhMGLrLydK1mdtkLOqLi4+eo/eIf5g0Omo4AvBVrMSl9Lv1k4kluVp7Te875JqUd9oeWkNOELNRhcAVjUdhEGeTQx+/89N31s7kFSmPRl+lh8heiwllxePp3mH0MJuNPhiLjzNgnE0YTKGe23F4YSJGO97EH8kTsfUun9CJBEilfMSHGEBXhWclrX5ut45vC++Bm/zVniY87vMvxldclPJsOkrZ5WVGQhnF81+WEOgeJ9aY8wKyi8hu3Q/OPxISCRCsBh2sGC3hqPFWFiwW+nUVx7nLHJKj4Ir+ACxRAAm3Qpm7CZwMPsKNqbUy8YrjokGFhh0U73HVNsQS8qRWrgahdxrEIjywWLYgcVwhI1JT7hYzgSNVn16b1Sorcas4+TtqCDxP9JoQJ92DbD8a+XP140nMVj+6yWNfZqwWbizn7ye09oDN3H+doTSMStzY1zbo7k+YHJWIe68jMO9V/HIL+GgdUNvLJmgffZNVVrpZb+lMGYY7jMy9fERPMmlJnJdnXqMrS+vRRdnP6wOHlxt9wCAK+mR+P7FGUpt3/ZfTsmvaQgMZcxqAr2eDOEp3gCABs4XYGakPddDE3llp5BYoBr1JBDloqD8bxSUE+rpde13w8a0t8a+0orWIbNkt8pxobgQxdw7KOYSyeAtPJN0HpMEfIhFHEpjSipYiNwy3fwe3rZr4WA+Umu712lNIVTYb3a1mgc3q//pdK9XaQ0hEivXGhOIciEQ5aKcH4X0YqLarra/038RoUiMdk19MXdMR3h+8qWkZBVixPcHcenBe3i52mJ8f3n0bPcQP3QPka9k20/aBoFAhKfHvlPpuzI8vhDnb0fA3toMF3d+LTteUKxdrT3s/ju8+JCKDk3rIMDbCW0bUQuYWNG4H356e1Fru2YXV2FP6zFo76S+5h9Vet/cjhSO5lpVUs531r3IL1WEYhFKBTyEpb5FWOpbmDCMsCdkDJrZeVapTFBl/kx6gZ8p/I2lfC5DVshPxc3MjQbZcqwJqlScs+qISQ0ZOZoXkGIJh9SQ6Y7hxlQdKBoyAMjjUJvdEYiRXLBMxZB9gTp/b5+OjfMHyQwZAHg622BApyAAwOUH7w12L2lY+f/GKQdc2FqZkjVX4vy9d+gUXBcD2zekbMgAYLh3M3RzCdDeEMDMp8eRUa5fio6UndF3KBsyAKhnWX2iupfS3yn9zhXxMeHhQXS5thkv8pPVXKUb+RVlOhmy6vQNVsbGyANz/PQL7KsNVGs9M00UlF9EfN4c2e917LfD1nSASjueMBHJBZrzsTJLfkVakTx4w9lyOjysl6i044sykVSwuNrH5G27Dt6265SOcfgReJ9F9GXObo4AJ12MEIFAJC9Wx2Z6o0KYBL4wnfL14SnyrQA20wuNXO+AbD6TW3YcSVr+5v9V1BkSDyciKTktu2oPd0WiE4n0l66tdE88vv3rbJRweLgVHovUnCL8dfcd7uyarfU6GmjY1vIrNL+4GlyRZiECCSTofoMowNrS3germg6Eq6n65Gwpj3PicSsrGicTw6m9mU9c6aZ/7p027mXHYsmr86TncnilmPCQSG+ggYavfJpjfJ3WlNXxK8RC/Pj6Ai6mRWhvrIAxg4VznWfodI2mMXwsydHesBJ5JNXiK5NUlg9LlmEKzipiyTKGhxl1PdYaM2aKRqOZx3vQaeQPCWOmD/wcySshS1E0ZA1drsKERZ77ZcRwQX2HQ59lTNVBTM5oAMT78LFbh+jsrwAQxsfBfLTGa1MK5ZFqbKY3GrneVdvWwXy01v6+IGf5r5dw4wmhjLJ6bn+D9VsVd/adl3Ho3KweBnci3ABzR3TQ6foX/ZboVJrkeV6izLBJodNoYNNZ4IkEVa7S/FOTAfDU4cGmK7OeHtfeCIQBP5kYrtYQmzKNwBVW/f0CwKPeP1DyS37IW4IAe80R6CllBRhx7/cqj4mMlRGafcL60sXZHztaaXe9SKkRY5Zdekj22swoSK3R0LUvBt1CrSH7nGOqLrgCIrXA136rUgBKUsESrcYnu1RBdFmDIfsCNVKzCjFm8VHwP+Xs1fV0wHfjOiE4gFpUaHWz4dgddG4m92f1nLcH17bpNsuPGhhapeKdYolE6+qO6jiqE122ObVRLjSMrN6Uem1JDVlWmWpZrixOmFZj9l+gRoxZRrE8q9vLdlWV+soqkddV86m0tVdTY6oO8jnyLRCpIWPSrSAUE5p5EohAw5diqdWNQCDCrNWn8O6TJNuMEW0xcUDtimwd/eNRcCsE6DxLLnpbxtUe8k5G1MBQtL2yHkV87UEnhoZJZ+Bt/+XaG1aRQbd3Vfs9dKGprSe+a9Cd9JyzuarbI6YgtJpH9M+gRoyZUCyfCVU1GpIvkqsW2JhSU/yo7jEZGr4wHQn5RMSiCauu7Liv/U7E5hBq7vF5c1DXnjwAhsOXO7aZ9OrbqvkvMPWnE4hJykHTAHfsXjqipodDyvGfVesC9vlO/y2mR71/wKaoGzgc/4RSkq8haONQB3vbkNc3NDSv+i/D4fgnOBz/BNk1XIh0pE8LLG/UV6drGjnu0d7oP0CN+cykVAipC9eyme7VOBI5tW1MRMQisQdvZyaXRbI0bgMWwwkCUTaKuDfVXi8Sy4MSGHRzyu+PBhoY/EcQcHYBogIY2Z8BnVkf/IIJEAuiwTSfBRrDBQzjHqjIHw623Wml64VlO8E0J/yQwvLjEHL2AeJSGDs+gFiYADrTG6iF27mayP5UFmRAx4Y1PBLdoJJjpon5gd3R060BvqKo0FEVrIxM8FvI2Gq/jyIT6oRgjE9LTH1y9LNpUFbGgmVMyZCJJRWg09iy322MNQup/1eocWMWkdGOctvPlfdU28aUXrxF9trFUl7xmgYG/BwPIzKzl5JGWWVEErkoaYUwhfL7o9GM0NwjFgxTYgXCzWoAE+f3oBv3gZHtYUhEqRALNBdulCEuhrHDbWptazG92zbAiSsvseHQbXRuWR/GRkyIJRKcuf4Gd17E1ZrVWs95qrN1XX1mlWlo7YaogaHYF/cQW96rnzzpSy+3QEyt1w4BVuqrblcnTDoDh9pOBADczYrBgpdnDeYD00Rvt4aY6dcRdSwcKLW/n9ISwc5EMVQamLBga59Y1bN0VPI9Ps9LRFjqW1xKeweBWKTXuGsbVTJmtS9fSYwaT50zMCKxvPAnnaaqWq8Y8JJSGApPm1CVNmyGfkEJdJoxICkHv2guQDOFiTORQ0X7tJqiMTwAKsZMIoCgdD0En8qksCz+Bzq7GySSCllf/xTmjemIr3oFY9C8veg0WVXR+/jllxjdp5nSsc5TdoBLsTTI6RtvsOmwstFvPXazSjttSdfujtbYv5R6JJguTK3XDlPrtUNsSTZmPPkD2Tz9t+bYdCZWBQ9Cb7fatdLt5OyH8L5Eeo9YIsHvsffxW+wDSiLIVPAys8Pq4EFoYqvbd1MiEUEiEcDCiMhrlECER2kd0dZdN8HilvY+n9IpBikdf5TzEWGpb3E1PeqzbSkbiioZs7KKcFgat9H5OjbTXbbV1dj1EYyY6ktepBdvVgrOqIwJqx64AqImUD7nPOzMhqht+7nGZEhic8fLXtdzIN/isTLphGLuXWSXHiI1ZqZGykmw2laTUoUXY6YPRLxrEAviwLb/G+KKR6Cz2+o0fgAAjQUasy6MrLdCXHEPDNNRkIgyISheAJbVRtDo2nOTahPOdhaUFDykqJOqImN49yYY3p3QHQy78w5r9t/Q6V5SCkrKIZZIQK+qEq4G6ls64XZP+djSy4vwMOcjHuV8RFJZPgoqOCgX8sGkM2DDNoWbiTVaOfigjUMd+Fk5aS0AXFug02iY4dcRM/w6yo4lluXhTlYMcnll+FCciVROIUoEXFSIhDBlGsGIzoS1kQl8LRxQx9webRzroJmdV5XHIq3vJfsXDLAUxHarSlvHumjrWBfrmxHujIc5H/H1k2Mar6ktclZ6aTNKH3Y0GgvNPXQvLkck5RKzHkfzMRqjB6OyeqOcT8z+yR7CeZyzSMyf/2k8xLaYPhhyTGTomzQt/VtrupdYUoGXqYRkUhO3Z2AxnPTqp3JbL9tVcDQfQ2mc5D6zHWCaU3+Qf0GV1mM362XMACD8Qwo4ChXYOwXX1dD6C18gR1t6Rm0xZlXak5NIBCireKnzdYo5UTllmpOPpUbDnN2c9Ly9QkCERMJHCe+JzuMx9JgMRTH3ruy1mZF6lXBFZ3B0zijSNo7mcod6RvFW0jYAkFooF96lasgAwMh6E7hZgRCWy/92oopH4GU303DVf481+29g7BLV+nnVwdojt/DDzgvYfurBF0P2L6KQ9xyvssYhvnAT3mRPQgFXsxDwf4UqGTN36wX4kD0UaUWq+V1iSTkyireRXEXgZSNXpCBWFar7s6/S5PvoAU6nVc5L8bWTP5xjckbJVmqVKeLeQFbpvs8yJkMQl0fUyKLRWKjveEhjW1crYgXEE5Arj3vZyo1UevFW5JapFkos4t6U/X103T6mMTxh4hwFpqncALLtTsLYSffJzr+ZsDvv8DEll3J7fVdl/ebvxdk1k/Dwt7k4t3YShi7WXG36C/8c3mZPQ7DzUdSxmY8mTgcRkTNT+0VVoIdrg2rtHwDE4lIkpbkgKU05+Kfy75qo0qa1s+UMpBVtQGbJbpTxX8OC3QLGTF+UCz4gu/QgaGDB1Yq8iKejxXgUcW+jmHcPYkkFIjN7wtNmBYwYrhCK85FWtEEWYELkRqnf+7czG4TSiufILSMkafI4Z8HhR8LObDBYDDuIxCUoKL+MsoqXYDM94GwxVecxFfPuorD8KuUxcfgRKKt4BZ4wATxBArgC3bc/JRJii8japCuYWvxKdmZDkFG8AwAglnBBp5motLEy7ohiHuEoTipYBIEoCzamvSASlyKtaANKK+RFKBUnCF8wHAM6BeF1NPXUD30p4fCUfs/ILa72e37h80Cj0Sv9Xr2+xxAHX1zPMJyANhmlnCMwMe6GCv4L8CqewJgdAgCg0y21XCmnSj6zFp5JEIjy8SZd/VaSNv9MYv585HHOqj3PZnqgkesDSuNS9Htp4nOMKaXwZ2SXHiA9R8VnVi6IRlQmURurucdHSh9Y6f+LpXEb+DmSa80p+tfUEeRyC8asOlrv94Xay4ekbMzZeBZXtkyHEYuJhb/+jXWzDacb+YWagy/KhxFDLnIsEBeBVc1BVJr8ZobwmaVkNICn63sAYiSlucPbnagYkZ03Ek72qrtIZBisOGdO6WEU8x6ihPcYNBohueRiOYuyXymtaAPyOWchEOeDRbeDpXF7eNqsAIOuewmEYu4dZJXuA4f/BmIxDwy6BUyNGsLOdADszannASmOyYTlB1NWgN5jqm1w+G+QWrQWnIrXYNJtYGncHtYmnfVWUemydT8yitSHaEeHymuuTTpyFk8SUii1/fHvmzj18p1KGxcrC9z5H/kKWyASIegX5WhTC2M2whcp18Lqsf0gUgpUVe4vzZ6AOg6EUsqlyBjMP3NZaUxS/EO3oIW3O45OHK72vSgikfCRlDcOnIrnMGO3grf9UdBoLLxPDwCdbgV/l6eq10CE9IKFKOFehUTCB4NhCxvTwXCyWoDKXgKRuAiZRaEo5d2DUJQPFsMBNmajYG06EGyW+rpjutxDKMrFh4ym8HY4BgvjTpTet5T36UEQiQthYdwJ3g6aI+QAoLj8ErJLNoEviAeNxoYpuzkcLefCjN1apW25QICme3ZBIFLNmdo7YBC6+io/bDl8Phrt2qkiBzyjRUv80FY5D7NCKETAzu3Y1rsv+vupTgR9t25GPTs7XBs3gfR9+G4lUisSvtW8ZSxtpw5TFguRs5UDqqj2fTsxAVPDzqODlzcODR4iu9bG2BgvZ8i/F75bN+POxMnwslY2jtVtzNKyWsLdmdgZSk7zgLvrazDo9khO84CXeyqlPgy2PnW0mABHC/L/TCq4Wy+Au/UCg4zFyqQzrEw6a2+oBUOOqbZhZtQE/o7UZjxUuP3tFNnruJx89N91hNQAAMDB8fKgHf9QIiFcXVtXKwvc+nYK3Kzl2w3zz1zGpcgYzDt1EdtG9FO5pt3G3zX2CQBNVu0ATyDEo++/hp25PNftflwSxNVQfL1C8BGxWZ0AAEZMb3D5kYhM8wGL4QqRuBR0kvDqnJLNyC5WfsCJheXIKdmBnJIdCPJQ3q58n074c+k0YxizAiAQpSGnZCtySrbC1CgYdZxURWp1vUdVEIn/z95Zh0lVfnH8M7HdwS6bLL3A0p1S0hIioYQCiiitEmIjGKDSiNIoSEgj3d3dsLCw3R3Tvz8uM7PD5MIu4c/P8+zzzNz73ve+d2fmnvue95zvScfRrjLZBQdJyf4NX7f3zba9Eh2CVvVGJHJArckjp+AwOQWHKe+/BWf7Orq2CpWKiHmCi/2rlq3oX6MmIpGI+OxsVl65jFxlmBum1mioPn8udhIJx4e8h4+zM/fS05lz6iQLzpwmWybj29Ztiu26baWwQQqfMwu5SsXXrVozsKb54K9nRYRnEFczbC83VVTcXd8nL387zk6dCAm8wsM4IZ3IybG1zX28HIke//F/y7AWxiK+P/Roz+4bd9l9w3RaSGZ+AVVKm1dTuJ2YQoFCyaXPR+IgNfwJtKgY9lTjNTmevG08TBXUNwobB41Gzr2kN1Co4oyOkSsfkpj5Cw52FahU+qDRfoUq0WhblcALSCXG1x2bNo603L+K5RxPSmqOEIBSwX8HV2PKEZ/xrVljdjWmLKAhPPAMdhLjAACVWr/+J1MqabZECFq6NmIUToU+zyB3d6NZlkqt5pWliwG4NVK/nl/Oy4sZHTpyLSmRlZcvPRdj9iLzcbW2DDq2vMT6d3fVPwyLxZ6EBcdbaG2af5dcxn/867mVmEL1b2ejUKkY0bKx2XZO9ubrQP12RHBnPG7ISoroNEGfspSbYdSZSGRPef/NRu01KLmTIKimmzIygMlcQlOGDMBealxp+knP8aTEpQvq9yKRfaExGLsENSjRaBR4OvcwacgAJIVmsbNPnSQ1Lw+JSGRgyMwx4+QJ4rKz8XI0XUxyfhchF3R35F2rff0/0cDX9mrlz4si/ZofZmay5OI51l67go+TM5NbtaFVmOArlatULL14npknj1PDvzSr3+iji/W7kpTI2F3b2TtgEAAylZIq82Zxb5RhCP0XB/ay+toVHKVSfmnXkVfLCbkx5Wb/bDSWc+99iJeTE+Vm/2zQj6m+e/+9miuJiYxv2px99yP5s4fhGsfQbZs4GHWfcN9SNAstw/gmzYvyb7GZS3FNcJJWoIz3ZBykYSVyjn8zGy5cY9Lm3br37zd7MoHVtDxBq3LuQfM5iZYMZVHRaAQ3l4uDqVIxxhGx+fJLqDW5JtoWnTzZGZKyjFNkivMctuJkL7hBRSIpGo2SnILDuDkaLgfkyy8B4GHj2u29dKHaRTkv26pBXE8Sqi1X9PE1ub+slxcAN1NSaFf+v9y8Z4Xs0eeuRSSSIhH7IJGUtrkPm41ZdFYmLZcvYkT9Rlz/UJien4zRL8yFz5tJl0qVuTF8NAk52ZR/zMhY42xcLFtv3+TOCON1Dm0/5Wb/zOF33iPY3fZwzZbLF9EqrBxr3+jL6dgYvj18wGB/udk/s/2tgfzepTsa4ExsyYRNR2d8j1wZh1wZx+W4lkUSKK762Qx2fjSIUB9Po+0Rwf50qlGZfy7dYt2H+sTvLzbu4aP2zfByFkL0CxRKrsUmkpSdw18nL/Fxh+bUDAnQ9TO8dSNcHO0N+qn11Wy616lGmK8nFx/EM/MtYX1KpdZQ95s59GtUCw8nR4a2LFnV7qUnzvHjrsMAVPL3Zc2QvhZnXtbQSjzNPWgccKGlOI2ZFieH2ja1yy0wPy5bSc1eQlzGl7r3/h7ji/0ctpJTcAyAMr5CdG+w9y9Ep47iYcp7VAs2nAFpx+XmaJvKf1y2UMUgxMM2SafoLMFFGWTmHiJ59N2IyfwvleFxfBxcSZWVjB5vStpwg/cajQyVKgENSptdjjYbs7c3rWdpt568UiZMt61RsCCSueDcad6oGsG0tu0BKO3qRnkvb07GROvaWONyUgIdKlSydTg2cT05iYeZmXz1irCI2CDIsFzL4QdRlPPyJtxXcM+ITLQpLtwc6pOAUEjUku6jrXyzeR9bRg+kgp8QovtOU8tKG452UuqGBZFdIOPAjXs6Q2aun3NRsfSqX53Pujx6ci4kyXgpOp7RbZsyqHnJq3tk5Rfw467DvFm/Jl91tn0x2BKtKpXjWOQDsxGKErGx912l1iARG8+i7CRFKIhqo3CrVncP4Eq0+e9jiM88PJ27GWyLS/9Ctz4FYsJ8l+Dm1IbHZ4BPcw4ANLYL7j5IGQyAnSQQAE/n18nO309G3iajttpxCetm5tGuPYa4e3AlMZF76ek2jSXQzY3ItDQScrJN7lc9Cv4xZRyTcl80YfWiI3ssGEautl1M+KOqbfnsgvFnVhwElTatYhITb7vKks3GLCojnToBpn3YFxPiaRZiKKJZ3d+fi4nxNhuzkkBlJSrtSlIieQoFQ7ZsNNg+okEjapcu3jIUnk5tn6pcjPyxkOPotEy6zlphsG3r6IGU9/OhKJjrJzotk3KlzLluij/azxynooSbVnEZMoD+DWsxZccBVpy8wMBG+tmSSi1c16ftXzE6ZsCytawa3Mdoe71Q2x9M8uTncXdqb7Wdi4M+aMFUNGFG3iaiU0dg95gLJjl7Pqk5S3Gyr04F/+1YSup/0nNoyZGdxM3JttmTWpOLu1MHg23BPjPJyNtEUtYM/Nz1DxXacVUOOIG91Pje8bjhHVCzFtvv3CYqwzZj1q9GTY48eMCJaNPh3isuXtD1a7zvIkPqmH6A8zSzBves0GDp09YTlW6YipIrl5OQk01pVzfdNic7016P7qG1SsyYmUMsdrPe6BE2G7OK3j6ciomhbTnjZNoIP3+uJBlGPl1NSqRPNX3F5sJfNplSpZvOFwd5CgXOjz6AovRdu3QAB6Pus7hrD0D4QlSdN4sP6794xe4m/b2LtYXciB+2bkjl0r6M69gCgPqT5xXZkFnqJ8zXi3rfzOPNhjWL5wIeIyErh/spaVbbvVpFWLeoNnkWfetVB0RsunSdXJmcNe/2pWaw8NBx8n408Zn6PLfU3Dw2Xrxm0FePWtV0r7/o1Jpvt+9n7fkrNCgTTIFSyYYL13CQSunf0PhGdi8ljYY//kqfutUpUCpZcVK46X34iql1MEPcnNqSnb+XuPRJRsYsK3+nUXsn+wh8XN8hNWeZyf7SH0UmPr4Gl5IlzPwr+O+wOqYnPYfuXNkLCPD83Op5krPmAxDqM89gu+jRrScx82cDY6ZdV4vL+JwwX9PRc452+lyvhsHBfNOqNV8d2E/fdWtZ3ctyHmm78hUY3agxs06e4OD9+7QsazgD/PbQQcQikUnjFJ2VSWpeHj7O+lSOHXcEZZ9OFYvXq1RUas6fy+UPR1htl2hidvnL8eNMa9eemymCzJqfi3GpKS3asjiFcZA8fSCVRiMzeK9Q3iYvfy/2FjRpH8fmUazo8QaNF//GoFp1+KKF4HqKycoi2N2dEfUbUW72zxQolczq0JmEnGzupqXRsJDLTq3RcC05iWql/Bi+fSsdi/HDf2XZIpZ171nkvpuEhNJ/4zrS8/PxcnKi34a1yFRK6gY8vRuwOAn0dGfth2/RZeZyMvMLOPLp+9QpE8TdpDR6zltJTFomSwYLuVsrT17kpx1HkCmVrD97FYDrU83nW2n7qf3VHOylEl0/ErGY9SP60XraIlJz8qjg78P64f1YfPgsM/ccQ6VWM33nYav9m6PlL7ZXLL759Vi+3LqXLZdvolSrqR0SSO3gAJ0hA7CTiNl/6x43E4Qf5IPUDD7dtNugn8LGrF+DmnSKqMTw1VvY9SjEf2L7V3incR1McXL8B/x6+BQrTl4gRyanWYUyLHizu8m2jxPmu5R7ST3JlZ0mPuMbAjy/QoOKuwntKFDcMnlMoNcUUnOWcTW6DJUDT2InCUCtziYt9y9yCo7haGesl+fp8jop2QtJz12Dl4swi5Qp7pBTcITU3BVGUYtPcg4tIT5zuRoTRtlSa3Gyr45GIycleyH+Hp/o2uTLL5OQ+R0g5Io9jp/7aJKyZqHRyA2iHEt7fkZCxlTiM6boDKZanc2NOGEWXcHf8AFgQM1abLt9i9OxMSYTjw8OGkyoh369eXSjxmy6eYPBmzciFomo6OPDrZQU3f7CIfuFWfF6T+r/vgAnqZRgdw/upKXq9r1dSz/Dzygo4Mv9+4yOFXDcywAAIABJREFUH7X9H4P3szsZV5Ved+0qkWlpKIvg/gtwc6NTxUq6a5eKxbrjH0+m/qhJUyrPmaV74D/wzmBeX/MXLZYsIibLel06Z6m91TZPwoPYMLP7fL1mmN1XGJuNmb+LK+4ODiy9eJ7LiYnE5WTROqwc37YSXA2VfHzZevsmKXl5nI2PpU+16gbHNwstQ7fVf9IgKJiTMdHs6KdPsJ64bzd3UlPIlMmYuE+4AbUOK6eLJlp3/So3ks2Lswa5u5vt2xqdK1am+bKFhPuW4nx8HBF+xReOXFzsHSfkYGwbY3hdvetXp3d9w/9zv0a16NeoFpPW72Jcxxa6ABBLmOoHoFwpb/aPN1TZGNKiHh2qV2L31TtPtWZmKaHZFJNfa8vk18y7teqGBlH3kcsv/OsZ1AkNNOkWLIyXs5PVNp0jKtM5QpgJfNCiIR+YyHuzjohg71+4Fd+MlOyFZOXvRqlOQ63ORiL2QqU27SLzdu1HWs5KbsbVx9GuCjLFbV04exlfY8FsP/dRpGQvJCbtY5KyZiNCjEx53+LIinoOLZ7O3YlOHcG9pNcf294VBzvhYTI9T5BsMxfi7+ncg6SsWWTl78HDWX9jL+U2jISMqaRkLyAzbxMikQMKZQwaVNhJSiMSGbvBVvbsRa1f55GnMC6Cuv76dcY2NhTO/rt3X+r/vgC1RmNgyMY1bWZyzRSEe1iAmxvx2dkGhuz9evUN2hUoFWy7bfyQ8vg2U8Zswp7dRtus4efiwmctXmHphfOoNRqLhrBqqVKo1GoUj5Zgynh68uOr7Ri6RUgRqexrOsqzpHmSvLLHKTY5q6dl2+1bHI1+wA9t2j3vofwrWHjoDFUC/WhW0XAtM7tAxrdb9jOtd8en6n/3tTu0q2ZaIsmaAkhJM2nzbqJS060aqmeNRqMgKuVtcmUncHFoQJjvCkQiB65EB2MnDTYpZ6VUJfMwdTh58jPYS8NwcWhIkNcPFs8Tmz6RzLxtqDV5ONpVwdGuMqU9JiGVmL5RFeUcWjkr7TpbfMYUcgqOIFPexdm+DkFe3+NgJzyEate3Kvjv1LkPH+dKdDAipESERBntS8n+jZTsRag1uUgl/gR6TsHV8QmKwz5nbJWc+o+n44UxZiDM0MwZMw3QavliNvXp99wXW18Wev+6ijsJqfw9/C3K+/lQ9TNhut6lZvhTGzNTxGdmcy8ljVuJKUzbfdgmY6aVs9o0rD/hFlQ7ikJqbh5TdxzklzeeTGfyWWPJmP3Hy89/xsw2UtPHUSA7gZ/vMuykFVAo72EnLacrAyMWexIaeMPs8QZuxnTZZe5kLKOBv2XBy5LC2qxMrlKhsjG8+T9g7QdvGbx/krWtotBqhnm3lDlerVIBtUZDJf/ic2/4uDi/NIbsP/79RPj5cTUpicMPomheJgwRkK9UWlQsmbR3DxcTEpjbuQvlHiVy/5tJTf8EkdiVUj6/E5vwCmKxK85OHcnJXUOZoIeIRHbEJFh28Ys0Go1mf8zrtA7ewK6H7WgVtI7Dcf1pG7L1qQfYJ+QD0hOF5MPdctMlSYrC592mcWbnJcxNJgPK+jFtz+f4hxreGNvZv2VyDNOHLGDPH4dp8lpdvl7/sU3HPD6e0zsumt1vajyLP/uLNdO3Fmk8Y1t+zbXjt42O+aTtt1w+fANndyc2pSwm5nY8gyOME9VdPJzZkLgQkYk8qSe5rgFf9GTAFz3N7td+7mKJmJ351tXR/9+xNjNrvuMnjnQUAisa/vMDpzpPZOb1fSyPPMGGVsO4mBbD1ujLvFGmDp2CI+h7aBE1vINYc/8sdmIJblJHDnT4iLVRZ5lyeQetS1dmZgPbq0eYIztfRpvPfyfE14P1nw586v7+zVSYNcNIwPqrlq0MAkcKo53NdQ0PZ2aHf/+DWWF1/Kyc33F3FQoTR8UE6NbTUtJG4+ttvuCzFKCMm3BjquX7JfYSD1TqArMHPA8yU7LpFWheYVtL/P0kPu86jYUXp/1fjScvK59Lh64z7tUpJvfnZubR3rEfO/P/RCwxL8dp63X98e16i8bsZUKlVhOdlsm1uCTuJKZwKyGZuIwscmRy5EoVuTI5CpUKVwcHPJwdqezvSyk3F+qGBfFq1YpILfw/S2zMGjXVvYK48NrntNj5E2OrGgfGTKrekSalytOytD6yN1NewOWuXxTbONycHDj980hyC+T0mLqcjZ89edWM4qRAoeT43QfEZmRx8WE8USnpxGdmkSsTgkMc7aT4ujpTKzSQluHleLVqyctW3R1dNK/I/5tLUoOSAtlxHB2akJE1Q2fMCgf75MsOWuxDCpCvTADAXiJkvQe62pYM+az47LUfDd5XbVyJzu+2xt3HjZTYNE5uP8+dc/dJSzCuTVXS4xGJRVRpWNFoPKf+ufBMxqJlch+hMnS9djV497s38SzlQVxkAl++/hM5GXkArJm+lTcnmlBzABQyhdF19ZvUg8r1hLzC53VdJYFSpWb7lVvsvX6Xg7fuoVRZd11n5heQmV/Aw1ThO7bq1CWkEjGv1azCmFebUsrNfG6ONYpaZiUmN53KHkKEYHlX29YZZSol4R7+OgWI4sgN0uLiaM+9ROs5g8+CMX9tY+/1uxbL+ChUKrILZNxPSWfj+Wt4uzjzWZeWNKsYhpujcQrB/ytHNpym+evPLuc2IbknUkkAarX+Pi6RBAFqQIxKlWTxeCnAg+wNRGb+odvoYf98EwALc2r7BW6fuwdA709e493v3jRq0/k9fbmGhCjzIfz/xvFoyU7LYfbRyYQ30D9legd4siFpEQMrjSYhKpmlX64h5k484xYPMx5zoVp0tlzXy0iNr2bZZLhsRalSs/H8NTae1ydnf9alFf0alUz9KbVGQ75KQaCzJ0eT7hLs7EVkjvD9ylLkI1ebN1QOEilZigIcJFIab/+RE50mAFBz1AwuzdbPGmqOMszp8XFzZv/U91Gq1Czbd5Zfd5ygTc2KTHvH2PWVmVeAh7MQnJWTL+O1KcvIyZfx6wevM3rRFo79+KHRMcXN7mumywJZIi03j4/XbNe9XzyoJ43LhxbnsJ6au6njSc8/iKM0lOql/+ZhxnQSc9bibBdONf8/OBPTgPrBQjWIU9E1aRhyifOxrZGIXclX3KZR6E0AEnPWcj/tGxqFCt/ZC3FtKFBG4+3Ulsql5j+36wMhPF+pfIBUqo/ADii1magYIeWmlI/l3FQxQOewY3Qrd1H31zJ4bQkOuWh80X06AI4uDiZvsI9TOqx4IuJelvFoEYlEBoasMMtvzdS93vPHYaP9V47c1L229bqKSuuxv7L3XNFvNMVJcRoyc0zddoCqn89gxfHzxdpvv8OL6bh3DtPqvo6dWMLZlAfU3jqFlc0F3cMIzyB+vraXNw8vYly1V4nPz2TMacPfcWJ+FnW3fseiJgPMnufS7LE643Zp9lj2TxXcznXHzkKDhnMzRjOmazP6/ayvj5aWnceQVxswbN4G3bamE+ZzYOr7nPllFJpnKH9WHAxZup66k+c+72EY4GJfhfrBp8mWnUeDClf7mtQPPkNV/2Uk524waq/WyCjv8y01A7ag1sh12yNTJ+oM2fnY1tQO3Efj0NsmDdn8j5Zz9dgtZg1fjFqlZt+qo5z85zzx9xL5Z5GQFN7esZ/BMSu/28jdC1FMH7KAIxtO88M780h6mELig2Q6uQrrqm8Evk9Oei7/LNpHQa6g/KFdFytsyAAkEj/CguMJC47Hxcm4EG9hpAA30ow/uCre1qVRniXfbnyxKj6/aON5fbT5UHuRFXmv2SMW616X5HU9TEyn0YezWTaxL+Ghfqw/fJlpfx3glZrl+XZIB6IS0gnx88TZQfCTbz52jaU7TpOenc+SCX0oH+jDqx//Rlp2Hs4Odnw/tDOpWXn8uGo/tSoGMX+MPoG304SFuLs4svpL8zfukuSH7YeYtuMwVyaPoTiU21a2GGLwflxEO8ZFCNG/IS7e9Aitxde1DH/sC5v0N3g/uGJTBld8sjytIB8P3msnRJMFertz9YGwNKFSq+k7fSW7J7/H4j2nTR5bv+Lz02d9UvLlCqp+PoOTn32Au9Pz1l1U4SQV3P1ikQMFioe42AvqLCIk5MmNHxLFIgfS8vZxN3W80T4tBcqHHH9QTve+SZl7BvsHT+lLRNPKRDStzD8L9zFn1FK2pAsi1q/2b2HUn0qp4o8p6+k3qQfjFg/jyIbTXNx/Db9lQgCcSCxCXqBgwtIPsXey59X+LZBIra855+StIzN7Hn4+S7CTljPbTgyQlH8cV/swglw76P5eBG6c0peHqNnSvLTOs+JFG09h6re37Npy83bVvY65bZht/+CGvhx6SV5XgVzJyfmjePt74ak+O0/GqV9HM21YFxzsjF1j3ZpWY9OUQRya9SEDvxOiOPf8/D6uTg4cmTOCZtXL0q1pNY7PG0m3pnqpqusPEtk0dfBzM2Ra1BoN1b6YQVL206mtayMZi0p937CnOm9hkjJykCmMlfLfm/M3cqWgGPJx9xYcvBJZbOd8EWg09Vf6LjCu0v0sESEhMm0SclUCao0CJ7uy3EgaQq78GvfTpxDqKQSLpOfvJzbrNzQaIdDFxb4qNUpvwdVMwnp5n++oGbCVBiHnkIqNw/+THggu7LysfEqX9SOoQmnsHe2wd7TjrXLGkx2JVKKL3E6KTjXa7+Bkj72jHTkZubo+9q8+DoBSFUtUTABRMQE8jKtEUupgomICSEp9l/yCA/j5LCU2wfKDmBTA37kFIa6Wp3DPg5g7+puuNojBFhyc7LBzePJ6Vy/LeArjE2g5F6V0WCmy04SbalJ0KsGVTFcFKMnrKhcoqPD7ebqiUKqYs+EoczYIpR+GdW1Mi5rlUShV8KjPfJmCSYu242Rvx7G5I032mS9T0Hrsrywar1f7UKnUJsu1PC9a/riQIC939nw8xHpjoECVypmkr0nIO25yf3WfkYR7vvNUY9pz8Y7Baz8PV2qWNV8ponpYaRp8PIex3ZqzZM8ZNk4SXEYX7sXxz1eCq3Ng67rUHTuLczNGU7d8EGMXbaFWuSB+23HSprSQdZGG8mgN/L6ljNvzD0u/HJPAj9sPMaGTcTWFx/lhxg5OnrnHwL6N8fZ2IaJKEP2HLmLo2y0oVcqNnBwZHV+NYMQnK3mjez1aNqvMyTP3WLryGEqlisVz3zHZb90g4XcifVRlu1bgLgDK2gsPcdr1Mi+n1gS5C65hP9c3AKgRsMVkn/6u+vSMBiHnjPaXqRrMqOZfopQrmX/qOxZf+Yn+FUbhX8aX77dNBCCgnD8ftfqG5JhU/rgzm8WXf6K77xAGfNETvxDTuaMpsWl08xnMT3u+oGIdQeg5IalboRD8kXi4j8bPZ4lBaL6zk7H8V2GkALE5uwj3Mg4KeN7YO+if1l/3e9dCS0OG/TSA10cVv8LFizaewlhzZYkL681ZiPQqyeuau/EY9cMFl5OdVELZAG8Wj+9Dj8+X0qtlTRLTc/h62S6+eac97i6O7L9wl8i4VFZ+1o9TNx7SsIrxovz+C3dZ/dUAsnJLJp1EIhbhaGdHrkxuvbEFYtOz+GLjHr7t8arVtlujBPdhTZ+xVPLUuwoT805yM2M5V1LnkKuIpW6pz554PK/WqmjytTmWjtbf+N5po68xdWHWGIN252YIIr1LCrV/u3Vdmk6wHlzQq7z+hrorujenk74gyKUlUrGzhaOsI5WIcZRKyXmKz3D58fP0blCDsr6WHxorlPNj4tiOpGfkculqDKMm/MXO9WOIT8jk7n3T0XhXb8Ty28wB5ObKOHshinq1w554nNZoUuau9UaPaNajAc16GEYz/nl3tsH7ZdcNBTak9lI2pQjLFkc2nGb1Q/3nviFRCODo9VEXen1kOHlSqvTeIYnEHzupifV/jeXPTwqQo7jPwdg3kRRStm4euMzigUVFqVAhtStCIUPAxePJwp2trRE9jq2CXi/aeAojz7f8Qefn6G/2zu7WxYdtwdp1qR8LuBjbqwVdJi5myQRhFtW1STU6T1zEwk964enqRGJ6DmPeaEH7cb+z9fshdGwYzr24VNp98hsD2tWjYZVQOow3jGjq2DCcThMWIRGL+OeHd5ErlLz/898oHtV/O7PA8GZrClcHe+qXDaZqoB9VAvyo4OeDm5MDDlIpzo8qWqs1Gm4npHDo1j1uJqSw6+ptm/9PWtafu2qTMdNS2JAB+Ds3wt+5Eesi63Iva+NTGbMXnVcCf2VrVDtuZfxBNW/ruY9a6oYF0aJSWSKC/PFxdSbI0x0XB0HpXaZUkpiZQ2xGFhvPX2PbpZtWejPkkzXbWT+8n9n9KpWaMiFCGSYvT+FekZcn/C4DSnuYNWbBj7wqLi4OxMZnUM9CQXJTM6ii8ezzIm1Fm2eWnbsSLw+hWkLhPDOZ4pLF46UA3cqZV3soLqKuPqRCbcvVYx+nevNw3WtbFES0qh1+oUWr65WbZZtrrSjjeStsBClxaSU6nsJEXrb8/314U//kE1bNcEFeIpWgerTuUVLXtX/GBwC0ma+fBQxsX4+B7fVP+ZVDhMjPE/NH6baNfL0ZI1/XF5LcOe09+k7Wp5GIRSJ2TntP997eTsrxeSNRqdUm1c9bhZdjWMuGVA82XXTSHGKRiPCAUoQHaKNTO6PWaOj96yqux1nOfynMlK37+fw184VG5apMq32UcevCg+xtNp/TElKJmN93nSIlK5dJvVqTlp1HTKr1MZQ0jhIf7MXuXE//vUjG7I93zSubOEilhPp4EurjSePyoUzr1RG1RkOz7xeQkWd9Zn8jPonbiSlmpdckEjFRD1OoXyeMxGTL5VQys/JRKYWHvfhHKkm5eXICS3taOqzYSczI4cClu6w/doV7CWk4O9hRObgUHepW5o1mNax3YIGi5qilpI9FqXyIr7c+INHV+U0SU/oikQQa5J+ZQgxwMXmy2QY7HxRPAvXiz9cU+RgHJ33tnMLBF6ZIjtEvONZpbVzOBIzXg/Ky8gG4d+VhsY9He8MvjvHI8qy7R0yF3JvD0cUwMfS1YfrZgq3XJZFKzF5XSWNLYIcpQ3Z9yljm9e9WZENmDrFIxN8f9uPA+PesN37EqlOWny61wgUCpqfombKizwrNcW7GaIa2b8ikXoKB9XZzpkZYgEHuWXHwJDlmrwQuACBLbrmMzdMgFok4PukDvuzaGrENHpTuc/6wuD/qQQrd35rHoaOm69QBjJ7wF+NGdWDuwv0A2NlJGDpqBaPGr6J+nTCTx4xcsIlaI2ZQa4Tl2l5341J17UYuMF8VWqZQUnvkDNp/vpAf1h3gTlwKKrWa7HwZZ+/EMGX1Pqvn0+4312b+P8etttHi4vw6waVPERYcj6uzXl3Ix+tHXJ374OjQmDJBDyz2IQao5PUuOx+0YvfD9shU+puwUp2Lg6R4nhTO7bmMUqEq8nHa3KkJHaZabPfjO3rfrJOb6VDaoxsNQ4cvHRLyLXLScw22a2cpTzOewtgyHo1GY3Y8UdetK0RcPmxeTbqwzqK9o3HAxoe/6HX1bL2ut7/uZfa6CjOyafHJJ72o+Lu7cmXyGDrVqGy9McL6iyV6lD1KJc/+rIusx7rIemy834yN95uxLrIu6yLrkiG/TSkn4yKi2v22oeFiyk+6Y7R/KQWXdH2pCq1RPN63TJVhdK5/HnTRbYvPO8K6yLociR9h0MfmKMNZ6brIuuQook2O8G6WkCd3KG4YGko2R7Bvg5pc/da6Sxpgxu6jZveNG92BTauG07uHUONs06rhun3NG1ek46sRzPrxTWpEBLNxpbAvONCL32cPNBv8UdzIlSoajp2jW84Qi0S837ERc4Z158fBnRjYpi6+7k+uaKNl5QHb1YJKec8zu8/FuQeuzr2s9iEGcJYG0qHMAdqF7iIycyWb79Vi871aHI7tT6vgv20ekCUq1C5LJ5cBXNh/1WhfZko2sXcTTB43+6gwayzIlTG+/VSTklWdXAfqbubvfG3+omcMM1xvKTwzOrfnsu71b+NXmu3j8fGYQpscWJTxfNdvjtnxKOXGIdGmGFDRuEJuckwqn3cTtCHtHe1YeGm6yWNf6dUYsP26+o7vanU8bfs159aZSD5saHptZ+OcnSa3v4xIxCJ+6t0JJ3vr0Z0/bj9kcb9U7EQVL23kowalOh+lOh+xyB4nqT8N/afQMtD2St2m2HT/Fe5k/oWjxJde5c/Rq/w52gSv4EDsYNbfa/xUfRcX97M2UcqpLgWqFE4mfvpMznn2S+v5tQsPn7Gpr5bNbHu4sbVdcdFgjD6I4+LcsZyfM4YPOjemeURZ2tepzEc9WrD3u6FcnDuWi3NNz9BP3RK8R6O7CUsAl+8bF9fMLTD0KJlqU5jM7Dm68HwhRD8cc94JU+jC8+5mruBa6i94OlSlY9gh7MUelo4rMvNPTaWj8wAmdPjO5P6IZuH8sv9Lk/sWXZ7OuzXGcfHANfqGmndXlKkazFuTepjd/0qvRrp1tcL8fuFHhtaeYLS932em+yo8HlP9PevxAMw59i0jm35hcTybUpeYDcL5bOVIBnzxuk3XtTZmgdl9han7anVa9m7M592mme2vx8gXI6exuDg+aRi1v57z1P3E5QoGr3CEX3GiUAuz/7bBK3TbvB2q0TVsH9sfdkH9nEU7UguEh7kWAfNYf68RMTl74RkUgXe2t6NXveqsO3vFYrvJW/bzZVfza58vKufu6tfOD/zw5BHs644In8/bbesxa/NRluw5w8yhxg+4VUL8uBEtrCmvPXKJGmbSP3Ly1lIgO0ZYcDyJKQPw9/0DmfwMUTGBNlehFgOcShjDtdRfKO8xgFeCVhW7IdPy1TrzfvjrJ8yvA4SGB+nyESwx6/A3FvcPMSHT5BPgZRQQoaX7cNM3WlvGU69djWc2HoBKdctZdPvVa1fDajSprdfl6edusY0W/1BfGnSshYOzefFWbe7bvwUHCzWqioKf07MReLUTuxm8d5B4Euzy/IXGI7PWAyAWlWx+pilGv2pdJaWwHufLxK7z+rU8L9cnj2rWKsBo1xkv3osz2J/5KFWmQqCvzmWpPcYU2Tl/4uttmL7hYF8fsD0SXApQu9TX2BfT2lhh1kT/avC+Uec67JavYuHEVez58zC5mfk4uzvRsGMtBn1rucT9vJNTUcqVnN55kVXfb+Le5Qf4BnnTvGdDBn/bB4nU/I26cITeosvT+bj1ZHKz8uk4uBUjZw/Stfm4zWTuXojCN8ibH3dNwsPXzVyXuvHMG7ucO+fv2zyeIVPfZMhUvRHTjsfJ1ZH6HWoZjefO+ft0fq8NPcd0sjierNRsNqcu4capu8z/aDlxkYnI8+XUbVudcUs+wMXDtlydwtd1ZMMp5AUKPEu52/R/1vL45741Yyk3T9/lyIbT7PnzMDkZeZSrHkqXoW0NlEn+LUQE+XM1NtFimxORDy2K2TpL/anv9w3rIusiQoyj1IcqnkMo49b5qfOuAESI0aDmZOJEmgUY5g4FurxCVPbT1zN8Gh5kb8NRIkQNlnKqS3L+OS6nzqSGj23rWk+Dt4sTXs5OpOflm20jUyopUChxNKFc8yKz7oiwJip+ClGBI1fvk5CebbAtI8fwf/XHfsGj0KtZDeylEtYfu0JUYrrZPuWKK0jE3kbbnRyNZbPMIQWQil05EvcOuYoYqnh/SBm3160d91S898NbvPeDeTeWOaT2Upp0rUeTrvWsNzZDaHgQ6+J+M7nv532m3ZyWxjN6nm2qDiU9Htkj/3SVhhWYc+zbpxqT9rqe9toKE96gAuENKjzR5/6yMbhZPT5a84/FNietGLP4vGOcSfoKV7sQIrw/IFsRzfmUHzif8gOtgpbg61jzqcbYo9wRTiSMJz7vGOsi6xLk0gpvxwgcJb5kl2D0oC0k5wsBMq2ChOTbpqV/ZsujnLNnYcwAto99h8ZTf7XYpv/CNfz9ofm8sxcRbdBHnfJBT9zH2qOGEbnBvh7EpBimc6w6KAR/1CgbQJ5Mzvpjlt22nu5jSEjuSelShjEaMrntQSRSgK3369Gl7CkkIgduZyzidsYiKnnargTxH88fzfNe5HjJuBMThL/XL6jU6eTJDiIWuRDgs9j6gTbQoJx1Yd27SebrfyXln+VovJBr1zFUH14d7NKaXdG9OBA7+KnX0iQix0czMg23Mv4kIe8okZl/I1dnFmtxXtVjqg3qR7qBljgcL0T5udoFA4IrtJH/VI4njEOuynwsfaFk8LBBXPh6XBKfbdjN1Nfblfh4ipuzd2KshssXpnAgyJGrwsOO7yMRiTdb1mb63wc5eDmSljUEQeQ8mf5zbhReBl93F1KycknNzsPHzdiz4OE2GqUyhqiYQJwc9W7uwq/3bDhL5LU44h6mUL5KIG9/ZLjsIgao5j1Wp/5RyfNdbqXbtsD/IrP5jODT3nFR8BH3m/0Xv+05xY3YJKZvOUT774QbV/upi0nKyqHmeKFMytZzNzh4/R7RqRnkyxXcjEs2+GAK99n4c8HH2+qb31GoVHT5cRkqtRBCXHvCLLacvU5iprAm1PAzIRFw1FLTOmnPkgLZCVTqFOISWwGQnvkDMvklYhOaokHJw7iqFMhOkZo+DlAZtImKERZwc/P0N9m8/JcvKtHFsS3uLn3wchtGkO9qcvJ3FFvf3i7W1yIyLLiwUgqEVAp3+/IG293ty+FiZ8sTdVEebERU9hzAK4G/0bnMNnqUPULTAOEmJxaZd6EpHwWQ5Cv17lSVRmbULkdhmDOpVBsLAkjFhf9fGtQaORU9DNeTg1yEYIvD8SVfE03L192srx2+rGtnxUGX+lUAeLOFIHL+5wHDlBMPF/0DQbdGgobkmsPmBTp8vKYTFhyPv68+l69wyH79V8I5vucqkxcOpsmrxuLJYoA7GUt0G/KUcQS4vNxFGM0xd9dxqgT5Ma7rKwR7e6BSq/mqV1v83F1xsrNDplTy2eqdNK4Uip+HK/Y2rA8BhPh6rNlnAAAgAElEQVR4kJ6Tz5Q++ic0pUpN5zrh+HsIa0L7vhhK7QmzmD3Iekh7SePo0Jj0zKm4OAvRkXLFVRzsa+LrPbNQm4b4eE0nO3elQZtngUIZRXbeejQaGXdiAgGIjBPUV9Kz53M3tgz342uj1uSQmiVUx9a203IvrprF9l5uQ7kTE8idmEAi48IJ8dM/ZMQkv8Hd2DCiEhqSLztVIteYJzc/Qwl0bg5AltxQgT45/xy5ilhThxiw6b51QVxzqDVyLqcK3wORCemj2Fwh0fdBjmD8r6bpXXEyVRr2YsPgoHyl+eK0mY9Kl2jXxgBOJAoCtrV8jSsFOEsDSJcVTYLKFLUX21aEsnd920QB7iQaK8S/qGjFBCoE+uhC7839maKw1N5rDYUKG9r1t7N3YohOzuDkTSG5eUBrfS5k9yZaY2ZZNMASX767hOT4DDpWHM+o12cb7RcDaNBwPvkLbmcsYn90D8K9nt3Tz/NCqyuo/XCUKjVikQgRIupNnEO9iXNYuE9IaparDJOoCx7L+5r5zmu8v3ADH/9hfp3E2d7OYin3Z0lSyttoNAV4uAmuLDtpWWLi65KUOtS48aMxa9voN5ufWZQkKZlT8POajpfbKGKTrRcRNdc+M/cPygacp2JwHOUDb+JoX0/XXqPJw8f9U1ydOpGdt67ErsUcng6V8HIQjHdBIRGD8ynfA+BjYb1MLJKiUOdyLnkqKk0BcnUWabJrOtddYZLyz7A/djDZCr2ywpH4kRYVNy6nCmkHdzMFRZ8H2f8Qk7sP7WzQy9GwhJBE5EC+MpE8pRBe7SINfNQebmWsMGhboEojLveg2XOHugluJbXGtrzLZ8WGc8a5s8+LwmV6pCZUcCoHC3Js0clPJln2MFkfxBHmbyy6fD06kasPhNl6jbL6B8xgHyHAMNOCIHh2zjLyCw4YbEtM0f9mZ28cxbabP+j+HkcK0CnsMHnKOHIVD+lStmSeRJ8Ht+NTOHLjPoFe7pQp5UX9CiHciE1i69kbxKdnIRGL+WbdHv4Y2ReFSoWdRMJXvdpSJciPY7ei6NmwOomZOXyxehdT+rbnRmwSjSqG8vO2w7SKKK8Ts80ukPPruz2Yu/O4SRklgAaT5nLhh9H8sOkgE7u3fIb/BWPkylsE+u0mX3YYJ4cW2NtF4OE+mvSMbxE9Sj2Uyc+Qk7sWby/hBqptk5giLHinZU5GLPFFobiNq0vfZzp+d2dBf8/BLpw8mXUZL1Pt/TyncS8uAqk0BDfn7vi4C0VJ07PnUzE4zmxfzwYRbYNXsu1BB7ZGGQsTpxZcYl1kXZPrZp72lWkTvIK/I+tzL8u4AnFhMmS3SC24xM6HxgFfXcpsN3lMTZ/ROpWPql5D8XII53jCJzqFjqalDddhGpf+kX8edNHt71RmK39H1te997DXq6Pvj3kbtUZJOXfT+ZTVvUdwM30pJxMn0KT0zxav7XFmnz1J6zJlWXrpPNlywR3acNlvbOvdn9fX/8WRAaZjBCZ1bsl3/xy02Pfy4+dtKg9TXJy+HU2DSqbXZU/f1rt1Q0oZR6h/3rcNb01bZbI2XWF2nNXPgKuH6eXf1haaWRW+11UN9ef6w0TWH73C/UdRi4XHaE0pLDN7HgWyk8jkZ/HzWYKjg5C4L5PrXZd96n9t8tg1Z4TtIo1Go3maStPx2dlcT0qmYUgw+yPv4efiQqPQl6+ybPMvf+XI5A+Krb/qn8zg4rTRZo3bi8zDuKqEBl5/budXKKMokJ/F1ek17saWpWJwHJFx4ZQPvIlCeZ+EtOEoVfEoVSl4u4/Ax30Cd2ICDYzQvbhqlAu8ZlP75IzP8HYfh0TsaeSuBJ7IuFX93PLieuXSpdg4or/FNv9RfJSb/wv3PhSKWFb7fQ7Xho5k/c1r9AyvRtMVCzk20Ly+5vh1O6wq7B8Y/x7+7iWXZjJywSZd4AVg1g1YOKhjy1eDCDVh0LRtGlYO5beRPY32P97P0ekf4uokxFQ0HDtHZwgLj2HvxTt8sshQ/PrxMWr7PD9njJEOpv6eoyYqJpiwR7+5xJS++PuuBuDGhQdUqV0GgKtn7xNRzzAn9okqTbdZvJSuf/xJlRmzcHdwoEChwE4spn5wEBfj47melEyewnBN4K9Ll6n8y0yGb9mqe9928VIazl9AgdL4KUGuUvHW7r+o+Od0+u1ZjUItzIKqr55B0/WGIbPJ+bmErfiBsBXGU8/nxaXpY15KQ/aiUCC/gFypL+OuVgsq5BKJHyF+2ykbcIHS3nOxk+jD2zWPIudU6lTs7Spaba/rW5MH6L+DFYPjqBgcR7nAyzjYVTNq/x8vH0FuwlpeXHYWuQrhexKdJbjakvJyzR4HMK2X9Zp9by9+Nu5orVxarRGCSPDp29Gk5+Sz/9Jd6oyaadDWlCEDODxNeGg/deshDcfOYfKqPdxPTCMhPZtVBy8YGLIGlUJ0hgz0bkx/T0PD3faxmnieJhKyq4YKEi5bTxk/KIvF2v7EiJCgUqcAUFBwTNdmz4azutf7Nxvrmxa50rRMqWRy2zY0LRNK+Z9+wcXenqkHD9E5vDIBbm4Ma9iA60nGi76ZBQXc+miMwfu9QwaZPEdkZiptNgvac2FuXlxLS6Din9P5uWkXsuUy3O2sh80WlaedlSVn57L8+HlWnbxIgZUpvCkq+ftSqbQv3WpXpWmFMk81lqflec7KtLg79yEmqSve7h8TndQVDxdBKT9fdpzkjC9QquJxsm9EUClh7UYi9iY540tyCnYgEftQxn+fxfYVgu7zIKE5cqUQZJGVu0ZnxB4mtkOheoiTfT1C/feU6HVey9zJwYQ5BDpH0CPkRxbe7cV7FYQb44Lb3RhWaTOboieSIruHu10Adb17U96tKdcydnAwaS7DK/2DBjUnkpdyPm09/cr+hpe94Bk5nbqSBj76PKh1D0bTq8ysIo0vX67g14OnWHr0LCob0z9EIuhVrwbDWjagtIf5RP9nyb63BlH199lMaNycOqWF2be9RELFBTPZ0NP62qs1HqZaLk9SXPRsVp2uDavS+/s/SczIYehs09q5WoNlCndnR3ZMHkLHLxcjUyjZcPwqG44br/sd+2k4Lo72JnrQB3+Yo3Dwh5bujapx/WEiaw5f0kU36sbk+j55+dtxdupESOAVHsYJkZJOjnrJsOFf9+CfVSdAJGLE18auaJFGo9Hsi+5Bm5CNFgdXmMn7D7D7zl3is7OJ/OQjeq1azeo3+/DBps383qM715OSCXRzw/NRroZCpSJ8hv5HdHPsaIP3Y5o2YWTjRgD88+Amww8JYd9RAyfq2shVKiqtFERyg1w8ONZT/2El5+dSf90co2NKmoWHz1hU0H5aaoUG8FXXNlQuXcp64yJy/kEs/ReutdhmQOPafNq5ZbGf2xzWXHMglHF5GSiqm/F21gEqubcyacyuZmwnwrMTs262pUvQN5R3a8qsm20ZHb4XgPm3X6N9wETKuzVl4d3evFdB+FyfxphN23GYZceKRxdSLBIxrVdHm6sKPCu2R96mU/lKVtsduHmP4X9uttru625tbY6ALA6iUzKYuno/FyJjcXG0p3F4GSb2boWbk3n5uMc5cDmSY9ej2HPhNnKFiopBvgzv0oSGlc0n9D8vrK2ZPVGl6S9bt+LL1q2o/Iswra0TGIBEJKJ+cLCuzY3kJBqHCv8QO4mEmV068Vp4OHXnzjd4D7Dhmn4msPauIGAZ4GIY4msvKVqV6pLm6837WHvmsvWGT8HFh/H0mPsnw1s35rWa4YT6PNvCfaY4s+cK3/Sfx8zdn1KhZhl+nfgX/yw9hJ2dhE+XvM/VE3eIuh7L5DWjeLfB5yw6PYXtSw8xf8Iq3LxcWH7pB6LvJBJYzg8nF9t/dP9mkgpusyv+Ryq5tzK53/5RHpbETN6XQp1PKUchJ83b/uluQgmZ2Sw4eLpYv9tqjYZP1m5HplTSo87L57b9y0oNOi3rz119psYsxNeTBSOeTq2pVY3ytKpRns/7vvjpWI4uDrzzcQdUCjVLf9rBB192M9j/RJWm3/l7Pefj4tnYX3jqy5ErqD5rDnkKBXHZ2fSKiKC0mxtVZszi0NB38XNxISE7h+qz5vBXXyGyLCE7h2a/LSTYw53VffW6jIdihXWSKQ2Ns+pbB5dnf0yk0fZnybdb99v85S4u5u0/wbz9JwAY1Kwu4zrYrldW3Fw/dZdtiQvo4vc+k9eM5oMf3qROq2o0bC9Upb16QsgdWjltK7/sEGbJ2Zl5bEsyLdn1/86VjK2Uc23CyMrGieeKx5KQpSLTxl8qcnjkhixNmty2QrOmaPb9b6TlFr3Kua18tmE3n23Yzc6xg16IBzNbZmXTdx7m6J0om/q7EmNeSPc/LFMgO4mjQyOLbWauG4FXKcFtXbd5Jd1rLbpHvcsp35OjiKKy1zB8HGtb7HTZG4YRMFPbtWVqO+Ns+Rtj9fW13qtfj/fq1zP7/nFq+xpHlVX18n9uxmzI0vWciHzyG0VxsfTouedqzIIrCmG6PgFexN1Pok4rY9+5WqUmNSEDdx9XlHIlS79Zz9JvBBX0AZ92o1HHWihkiv9mZkCEZxcW3+2LWCRhcHlBEHvtg9EkFdymQ6DpGl5/RQku9tk32zEyfCcfVNrMseQlbI+dwoByiwCYf7sLSrWMk8nLebv8Mv6JnUxywV1m32zH2+WX4WGn/32duR/zzAIYADrMWArA0U+H2aSW8jxZerRortbd1+7QrlpF6w3/w4CUtJEEB1iuEze2lxB1r0FwXS89YLikJAXYfK8WbUO2kJR/nPtZa5CpUgl8zmUg1CYkeeTqoleqflo0Goj4cgYvSL7zc2fZtxt1BqzjQNNGVSIV0+6tphzZdJbm3esRWimAn3ZMYMfyw3Qc2ILkuHR+Gb6Uj+cPxs3r6Sva/jVrF6f2XEUhV3L/eiwd+zVh5I/PNvftSREh4t0Kawy29X5sXUvrfhxWSVi3Ke/WlBX3BjGwnGAURCIxzf2G0txPn/T+YaVtbHg4jnaB45GKHHkrbAG746fRzG8oYvQu+8lb9rP69LP1NGhp9v0CpvfuRGcLa2kFirtk5e/Ay6U3efJLeDi1IyNvC57OXbkaU5WI4Ouk565HInbH0a4SUkkpMvN2IBG74+LQgIy8rfi49kelziArfy+ujk2xkwSQmDkLd6c2pOduIMBzIiKRcaDDjfikIl/Tx2v+4cpk02LIbVp+x4bNY/AoVMFi1Z/HWb7sMC4ujsyeO5DgEG8uXXzAR2MMCwTvOzjJ7PbC/TRrEc6gQS0IDvEmKyufdwcvZO3fo5g3Zw8b1p/RtTfFlBufkqlIp1/oEGp51i/ytT8JcsU14hLbIYTkG9c6c7CvS4CfEPK/7KDlAq1SELQZXexCEeWfop7fD/wT1fS5G7MLyXG8GmL4hHM51bYibcVFgUJJnW+evtDiv4n3v+uDl58Hyy/p0yC0LkYtGg2E1ytHeL1yAPx+SlDx7zO2EwDuPq58/dfIYhvTm6Pb8+bo9rr3HYNGvjTG7HG0wR/W0BoyS7wealhVvF3AeN1rlVrNR6v/Yc/1u0UbYDEzbu12ChQKetY11toDiEkbTwV/Ifnbw8l46UGjkfEwdSw1QgT3NiKJwXtvF6HSu0xxD0+X7jpRgITMn/D3GI2TfQTxGd8R4Gl8k+/3+xqjbdZQqTVoNNaThAH+2XYRjUbDrr3CDKNT+2ls3zWemrXKsO/gJNq0/I42r0Yw6TNBAq/w9sJGqXA/CQmZDH77N7bvGs+WzedxdRWC8LZsPkeHjjWMB/GI29nX+byKIJCwNGr+MzNm9nbVCAuOJSomwGQRzoex+qT6bhGTkMv0keI77kwzaCsFuJf1FxU839afoISKc9pCm+AK7Iu5y+endhkZs5MJ1t18W+5fp2tZy2GjtqBQqYrFkFXw88HH1Rl3RwfyFQpyZQpyZXKiUtORK5/9TPNpMTVDvXLsFhFNKukkwv7jxaf6l0UL0dfSuUZl2kVUokHZYJ2yvEqtIS4jkyN3HrDm9KUiaxV+sXEP3i7OtAovZ7TP0S7caFue7CKezl1Ra/IRiRxwkJZF9Gg9MS13ncH7qzHViQg2Lj8iFglj16DE0c70zPBJUmwAJm3Yxfc921ttt2zJIdZt0C/F9OvflHNn71O3nvVCxOb6KV3aQ9fPlk3n6NW7IQCBgV4M+7Atp05G0rBReaM+KrlV5eNLQ8lX5ekM2eTr4xkU9iGn0o7RPag3UpEdH116j1al2vNa4BsA5CpzuJp1kcpuVfG0M65H9rQ42Osl9H78cxjhtcwHOEkBZKpUjscPI/CRwLCXg+mnpGdB7wo12Bdzl8Q8wwrEWXLbylJMOrmrWIzZp+t3PdFxjnZS3mxYk+61qxHg6Yarg+k8DYCY9EzO3I/h9P0Ydl65jcxE8viLRvNudY22VW+qvxkM/sq0osCLwDeDfufs/uuUrRrIJ7MGElqptMH+jkEj2RFr+gFm8uCFNOtci9Y9n80Ta0lS1HUggPEdW9AqvDxlTARuSMQiQrw9eauhJ281rMm2SzeZ+PfOImmRTli3g9NfGOtHlnIfSkLmz3i79CVffgkP506k5a7Dz2Okbpbl5/4B+fKrZBccxNv1LdCoyJdfxU4ahMhMpWJftyHky6+Snrve5Kzs5FOsj++6epvPurSy+Ns3hUgkKpblDG0/qak5VKkWRHZ2AVWqBuHm5sjNm3EmjRmAvdiBn2v+DoBao6JbYB9CnMMIcgrhTPoJGno3o6p7DU6nHdMZsxR5MnW9GiItoYrgKrX+wSiorK+Flo+M2WtlzyBTpSMWCb70ev7TLB5UkrQPrcTBHu/TcuNvhK34gTJunqQW5JOjkDG2VnNmXDxi9tgAF3c6lwk3qQRSlPyz9eeusv3yLesNC/EkOSbBXh4Ee3nQo041gyc5mVLJ0qPnmLvvxAsjTvwys/63/SyavJH5eyfy1dKhaDQajmy7YGTM/h+ITstg+k7repZa1n7wFhFB/kU6R5ea4XSpGU5ydi7z9p+0Kcw/RyZn+J+bmduvm4GLzkEaRmmPjwGwlwrlb4K9pyIVe1Fd60p0FVzKTvYRBu8BqgUL57aTGgaUBXhONDjmcd5bbjnvtoKfD3eTTM9ACxRKhixdz5phlpOx3+zXhFUrj/NWvyYA/PnHUbbvGm/xGGv9JCRk6vpxd3ciIiKY+XP30quPMEPbsukcb7/T3GQ/Pva+qDVq/o75g5Z+7Ql2FmZBYpGEuPwYovOiGFhmKKujl7Emejl9Qt5GrVEhNlFdoaiYcjECBPrv1b1287BcYV03CgeJF3Zid35dcpBu/efRtscvdOozi0++XMf1W89WeDXMzYs7/cfRPCCMuNxsaviU5la/T5CKLP/TIrz9+bxeaw50f5+q3v44SKQEuXjwSW3bo/9UajVfbLRN9UEiFnHh65FcnzK2WPNLHKRShrVsyNVvx3B9ylhm9O1M26oVrB/4HyZZNHkjweX9KFtFuBmKRCJavGasUPD/QPtfrK+1AZT2cOP6lLFFNmSFKeXmwtfd2nB8km3qOgdu3qPRVNvKsxQVO0lp3UzOGiq1WleX0BQRQf6828LyDL1wmP6mjWfp2E6YILzebSZtWn4nvO5ZH4VCRftXf6Rn95ksWmpeH9IShftZsuigrp927YV70vq/T1O2rCC8kJFhPvVCqVGiRo0aDX4OpZl/9yei86L4O+ZPXgt8g/mRP2MvduCt0CGcTjtmtp+SYte603SqPIFOlSawb5MZOSstr7w2HZEIBvdrhrenCzK5kiMn7/DBJytxdLRj17pnU7IcwE4s4Y9XDRfxFWaiGUs5uRjMvMq6e7G9i2mpLEvcSkjmjfmrbGobEeTP2g/eKvI5noT2EZVoHyHkxJx/INSz2nc7kjrBgag1Gt5e+Tfbhg6k/i+/svfDQey4fptu1avQZt4Sjo95H4C9tyJpW9m0e+H/gYI8OV8NNCw6+82KYc9pNE/GxMvv0zd0CLU8GzzR8YOWmJY+epwwXy+2j3nnic5hCk9nR65MHkP1L2dabZtdIOPAzUhahZv/rno6l2xNwHeXWa42MLBJHbrUDGfi35aL0mrD9Lv3qEf3HvVo0/I71vw9El9ffX7U2+80NztTKgqm+vlguBDEVzhYxFI048RwIVCrb8g7AHxRVaj9F+IcBsD31QUXvFQk1bkjvex9nnrstlKhWhAatYbNV7/jwrHbRvt1U53zlwUf8cEt4xjYpzFd2teg52t1mDm1Dwe2fEJBgYIrN6wXBnyZ6TH3T4tPZFqepSF7nDplhNlFm0rlic3M4qcDR3ktIhyZUsnP3TriKJXSo0bVF04x5XnjF+zNNyuG8c2KYXy9/H1O73vxKwRPuqKvK3g5QxBZTSqIZ8yFt4nOiwJg5Pl+pg41QqXWcOpetNV2Swb1LFZDpkUiFnFogol6eSYY/ufzrcZu7f/UpaZxUIopPl5jWN9QKhUz4oNlrF51Arnc8vr49eum77Xmtj8vPO28dMtTJc3Zw3oDFlrB2GOgm5lVKOsHYDKsVCvXf+tOAtWr2FK2/eXDWokHLRKx6LkZssL8df4ybSqW4/su+nDlrAIZDlIp9X/5lUlt9fWV1BpNkRej/00M+rQrS7/fQlZaDu7erkzsNYeO/Zs+72E9EXK1nJm1lzPmwkBm1l5h/YBHdJq5zGqbEG8PGpUvOU2+Um4utKtWkd3X7lhtu+3STZuNRnGy9oxx5KM5GpYLsWj4Hg/T14bg20LVqkEmZ1Hmtv8/0LFPA1RKFRKp2Ej9AwoZM3c3R4b0b0bLrtOpVT0EHy9XxGIRcrmSE2cFiamuHYwr3M5bdIBtuy/j5upI5Yql+WZiV6NaNVrUag2tuv0EwKGt44rlAouL8et22NTuzBe21XkrafrUrk6LOYvIyMtnSKN6jG3ZhITsbGpOm8vKAb2ICPBn+v4j9F2+hpTcPPZ+WHS368tExyDzeWu9R7xKr+Ft+aTHTO5eiebN0R3oO0p4CIi6GcescX9x55FnQtuPNqox6mYcXw5YQHJcOid2XWb6qBUG+581pR2Fh0mPIoZBR6dZV3Xf9dHgJxpTUZj5ZhebBKXHr9thZMxSkrvhW0pIHE9IqIW//xmSk1qhVN4jMEhY10+ID6d0gP7BND9vPU7OtkfYfr15r8X9hdU9vunWVqdmYg5bw/StcfF2LF/9voO0rDxqVw7mh+FdcHa0Z+GmEyzcdILTyz4yOkauVDHm541cuhNLrUpBtG8UTtcWEbT+YB5uzg5s/lkoSHr04j0+mrlJ10dGdj7tRv5q0Ge3jxcRn5plsK3BO79YHLOTgx2HftP/LrXtTY111upDrNx5zuQ+LTlZBVw4fpfzx24zesobhJT3M9hvsGY2sE9jzlyI4uIV46cNdzdH7O0NF1B/X36YtZsF90devpzE5CzeG72CxbPfNjoe4OyFKLMDtYUxNZsxpmazp+rjaXG0s20RuaQRi0QcHWW4YPxuo3q820gvEaZdL/t/wJpxEYlE/LzJWHE/LDyQGVs//h97Zx3eRNaF8Tded3faQnF396VAcWhxd1ucXWCBxVmc4q7F3YsWt2LFClXqRi1tfL4/hiadxiZpCux+/J4nT5uZO/fe2Jwr57wHhIxAR/dJSvV4VXTB/qd/Y/6grWjRtc4Pcc0nQMCIRco+pQtJx4Ic8VdNl1CITs8qk37pixGHrXcMVxEyaToYDA7MzCci++v3y6RQ3Jh52FrBx8EWUWq8GgHSTb+0xowggFFLFQHcj97EovfsvVg6vjNef1bvnNd/7n7EpZDfk6fv4vH0XTxqVHBFfqEQ5ib/Pim50f6r0GNYczAYwLjOa3H+/TLKeaU78+u3CZg6th1aNvWDpYV63bQT557j0InH2Lp6ACpVIGVI8vlCdAragCHj92DvJuWZwLxlZ1HBxxGRUam4fP0N/Nt+P4VpTRymKRy8OrBjGffk38eoZ0uxovoETHm5Fnvrz8e+2Avo7+mPMc+WY1vdPzDw8V843HAxAKDXg9k40Xg57qSHo4V9bflzQ9PDbzpOfVyl0zUMJrmaIJXIwGIre816V3HFrTPPvrsxW/NxIfIkOZhfhRzVOhu7YcqLIZjmtwAAYMdzxNrIhYjnx2Bh1XWw4FDjwCRSGQbt1JzqBwBmdWyhtYyh2De8NwK3hmgtd/nNR/hXUx3Q7OT8CmlprUDIcgzWr51hmrUBASilsVnRqwN6bT6kprT+gdfFaT2O1CTcPa8vqvqQ99rhi0MwcskRtdcMWxSCuJSv6NehDn4PagGCAN7FpKD3bHrerHQoPotqOmI9RBIppg9ojT5taxqsjeLsuj4LDi7k9ztgoPI2gUpfd/+2VTUaMgDYuOMmWjSuIDdkAGBmysPSud0RE5+h8hqBUIyp49rBz9cRKzZcQVpGHu0XUpasuHRHa5lhzeqq/WH9v5JYmI6/q46GNdcCTkakV1NUfiJyRPmY6vfj9xV1Zd2FaRhQZy56VpyBZzepCUoHzwoAm81CZ8/JKs+XBUurbcZUv/lyQ7a8+jbUtKqPtbX2wt2EVImYX2UNplSYj7W19ioZMgBYcfkOsviFWtsa3Pj7hSpUc3PCtN+0e/AtPn9L7TmZLA+2tofA4zUHh6Nepokudz7GYI2W3IQmXOXA4MouDipKUqFzf9EEv5DMjF1kyABg19y+uLZRfchDRFQyHG3M8XsQOUhhMIAq3k7Y/meg2mt+diKLrRhGvlZePVQyZkd2jkK7nmvxW691+K3XOixfp34vaWg/ZevYpAEZD3XvMVXzLeTkEwBApQrO+HNqJxAEMOOv76fUrQmxVLus1HQaPz59Wb4jFC0GrUezAWsxP/iS/Hijvqsp5TqMJGNwor5kwH/UZoxecASvPibKjwNAfFIWOozcjOYD1yH0AT2nFn1xNLJBLJ8MdowvSAUA/F11NGx5pBxa8b1TAgSEUvJH+Rly89sAACAASURBVDE3DgDkzw2NrrOyIvxqeSHk1VKc/PAP6rZWVpGZv2cULsStV3v+Z+TQI93SO30vhjdTnzGjiK8FJY2w4vvEZpcDi+UCK+t1sHdQuMgX3y/TBTrJN9f1DVB53N1GczqbfQ+UY6IMgZW56gnHh1jytzhrkHKOspoV/r0OfE1/U6zkNWqrnBePYswEQjGCRmxHnRqeWPRnV2xdMwBPX8aiRQBVsDQ3j/ySOTup13BMTKKu6W/dewee7uTo3evb39gvymvNz2++xfD6czGh9WIEuJCuyXP6rEe/KjMwteMKPLj0En0qTMGkdksxviUZF5GZnE0pAwAd7KhuwH0rTZf//+CS4geensdX+xq+F1OHtMKd/ZNx9+AU9OlQC/vPPtFYfsDMfbi8fRy2LQhCTh71Bx84bQ+u7BiHsAO/o13jsvUGYzNYiMiJQtd707G6BqkNN+fNFvR58Ad2x5yTSwlNe7kOw58uxoyKAwEAlSzKocu9afLnv/ixfM+EkroilSkUcKyt1yM5qTz4fPVenGmpiuVSieQzsrPVOxQUIZJIaSntNC3vqfL45gHa495Sc/O1llFHj1bkzHPyas3xb0W8/2bMqvgoq9D/l6Hsmf21jBydrFncR37s5N6xaBHwD67deov2rUhraPFtRJCSlis3TCVxcVaMVmTfvpDL/1JkRa1WyRVv3ifi8fMYNKijENacG7gBS0/8jlotKskNUrOAOlhybDLFQG0I/RP83EKE336H4BmH0WdSB6UydDj6RLvUjre94QU0i8PlsBGXlIULtyNw8PxT3D+k/QdYRPO6vli67VoZ9k4zI7y7YoS3IuPrkmrUpY+i/bLiNLOviWb2ZbOu/gsF+UJ6M9++DfT7LLZH3gVfIsSoCs2QJeSjb9guzKveEb+50ssmbcrjgq+lj1cjIuX7VCy2J5xdNLv1OzgqlvTYbF84u8Rp7ceQ3dpXiGq4qzcMPg7aA4cH7zqOK1P08yiePbgt/DwdsGzvda0ehADkgt/Ef0QKb1SHVdh+ZTp61f6LcvxE+N+U5xRjlpKWq7bC1HTl/a2omDQlYyaRkEHHxffSnr2MBQC4OCkMXNuWlfDmfSKu3nxLMWaV6/vg1JbrqNWikvyYsRnpecMu4U1pamGM5Nh0FOYL1JbRRkRiqtYyFZ3tdapTVzKy+Qiatgc8LhvBc/uAyfylPv+L0vMhOZ1WOV8aN2NVhCa9B5fJwqP0GMTmZ+Jxp9nodnMLbWNWydkez2I1BwF/SElXcrowNC/jtaeW6lVXs/g6k8HQOLuLz9QeGqGJ7i2ro7y7PY7feIlP8enIzOFDKJagQCBWKmtmTN4Lc/ILYWOhWc/w38C2y6Q2Z0njVRLKMmM5D/WqxO4u1pTnbDYTi1dfVCo3bsZBAICdjRkAoFAgwrylZ5Vu0N061kKDOuVwI+w95fjqizOx6AgZm8DmUCPLeUbUDdiCPAGcPO01likJISNgYm4kf04nJXpZO370nbYHD0Om4fa+yahTxZ1yTiwm9/Oycwvh5Vq2M8Rf/Fh61Zir8vjxbeodITRx7iU9JxWWnoOnw82HY3+zocgWFSBPTGa1SBWoHxCXpGl5L61lLr/RTfBbV+jOXtXlWyticQ/lXGv6tqWOqj7OWDjKH4cXD8LVjWNxeyt5nywZ19uiNikFdvZOhFIdEql2haMCAdnPtCzFBMYQXpmayMxRrxlJN7UUxZjNn0lucA4atxuXQt/g6YtY/Nab1FNzd6PeSK+dmEIGQXdZheCdNzF/xTl0DFyPj59TEbJDEf80Z8kZCIRi/PG7v1LjC2eTa83FvRo/PI/BnN7r0N1rEtaHqo90n9hmCWYE/IM6rVRvxDt72WNap5UIcBmHrFTSfXdqxxUYVn8uajZT7CXRWSuv5eGitUxpOL95NPrN2IvWQzeg7/Q9lC/R2v230GrIBoxffAxb5mtOODlg5j4ApONIo76rse2YZu+sX/wc5OeQ+578PNVpjjKS9RvV05lxlIZlb65g+ZsrONFyNNq5VMLMZyfxd036uomNfVXvQRUn8St946gPQTRCBOiszHSrpd0haPiek7T6pIqieLHiFOVDrFOJOgDmsMlJwOGryql++s7Zp7aNW8/JJdzLD8kJxtZTD+TnvuYWwMLUSOV1utJj5m6lY1cevldRkkpibAayM/MxLWgz+jVepHSeQZRYWJVKZZi37Cwio1KRXsJ1vmkDXyyZ251ybMP2G7h68y1MTXmoVMEZC2Z2ochhFTmPqFP8aBHwD7zcbbFvM331gT4VpuBYpHYVATrQUSN4t/j7BWUWp1Hf1XgYMk2nawKn7sbRNdrfy/C4RAzYoTn+aGCjWvijU0ud2i8N3+OzWPEoDL0qVoWPVdnOcrW9Fj8ne5yeMAAA4O89HZejV8Hfe7ra8pejdffQpPN+AqV7T2PzM8EA4Gmm+1Il3UzuZfn70/YemXA5uDNrFExpyMG1WrlDq6PH4Ma19YrpK9orMzHiwsXeEp+/KJaQ7+2cDC6buor1JTUbPWeRRsPNwQpf8wrALxTB0swIOfkCONtaKCmAONiYw9SIi5ikTLBZTJiZ8JCdVwh7azOkf83H7MFt5c4oRZy7G4G4pCwcuvIcMoLQGGdW/DUUCETwdLIGk8lETBLpCDi2ZxMMDWig9j1IT87GvOG7sGTPCFjamCmt3CltMLFYTCwtYbA0MWlUG0wapewCWoQ22Sp9ZK0MZcj+i9AxZL/4uSgyVOoM1u6Vysv5PwMBNzZha6P+IECg841NuNBGObmmJn60ms7mW4+0ltk7vDctQwYAO4f0QMAGzXqZ+x6E62XMHu2Zgq0n7+Pi/XeIS85CRU8HVPB0wJ9D26mUD3R3tML9nZMxde0ZhH9MQI3yrmhbvwJ6tKqu1onkwpqRGPDXAXi52ODokiFgMIDHb+MwY/1ZdG9ZXcmQAcDiXbo5n1X1ccbueX1x7PoL7L/0DF9zC+DrZoe/R/vD113zDHj/uqvIzxUgNTEbswZux85rVNvxc2gz/eQ0WFw2OZa0UsVYa9snx/eHm7X6EIn/By5HR2LGrSuw4hmjpoMTgtsHYOD545jZsDmq2TtCShDocyYEK1t1AAAUisWosTsYfjZ2ONYtSGU9a9r4o76zGwDgfWY6Bl04AbFUir+atkaPCoolpWGXTuHulzisbu2PLuXLJhTCzklzHNOPYleTQXAwIgVf9zZRLWH3MxN846HWMrrkc6Pj1QiQbvqOFma06wXIfbFxvZpiXC/6cn4cNgsbZ2jXpWxa01uu5nHwb2q4TIMqngjbPknttZq0FDWV7dO2Fvq0rUX7WgCYtiIQ0m97fkVOIcUpfYrQ/wPyBMKf9iGT/Tfcb0vD2KvnMKJ6XXTwLo+4XHJ/aV3bTpgUegEAsP7pAzxPSZIvLU68fgFjatXDh6x0RKSnqqzn1EdFipiuJw+inZcvhlavg/sJCldvKUHgXkIc5jZpCTuTsvMa8w9Sv/TyI9n9SZGgcden75+ssaxRpfihDTZL+y317IuyV4/5r8JiMeWPkvyamf3iX82csFBcCxyCCjZUT1xbYxN096uMPW/CcSXmE96PnCw/N7dxS7Tx9MHYWg1Qccc6vB0xGX/dva6ynifJCehXuQYWNG2t1PaL1CRMr98Ug6vqNsLUFY6O4SY61V2KvHfTqrTD6rdkVvYpVdRvNfyMLKchMbV/RB+tZUqyqk9H/B5yQWOZdaH3MaqFfglWf1aW7glFRHQKlo3vDE8na+0X6Ehmag7SkxU6nK7l7GBuSR1A/jJmv/hXE5+TjfZH91KOhQYNRXlrW0yq0wheW1bh9bCJMGYrRtmuZoplWYFEgqzCArX1fMnNUessUhYxqRvmnMCbx1GoUN0DM9b0RWJMOlzL2VOcQ/bdmysXXC0tdKTc1MFhsjCtSjuD9ON7s5+GxBQd3cWSFFfV10S+UPSfyjF45g6ZB27nmYdYNMbwguxWduawKpah+/a5F2jTvQ6lzC9j9gu18EVlo51oSCbVbYyKtvaY07glMgsL0PzQTpS3JvcuauwOxufRU+G7bQ3+atIaw6qTYrqbwh9hY7vOeJWWgtae3rA3MVWqZ+CFEyhvbYtyltaosnMDBlYte8WS9X8ch4mZEf4MHoTHN9+he9U/0axjDYSeeIrzH1eAzWGBkBEY2W4ldt6YVeb9UYeMIFD17ELKMTaThddd5v2gHunG64QUrWUC6+svXuxha6U1SHr4npM4Oqav3m2UBl32uX5kncUpuaxYo5GvUhm99swE0lzsi+oFALiXthEvshSpCJ5nHsLWyHa4lkSN1t78sZVSPRKZEIdiBmJrZDuEJlNlj6LywrDzUycciO6L5MLX8jqyhDHyMrs/d8Uvyo4CkbK6wM9GPWdXlLOygd/2dZh28zIOd+kNAFj84DYWNG0NNpOJF0PHY9vLJ8gVCslzzdui1p5NWPLgNnZ37KGynku9BwEA2EwmLvUZhEYHtqHG7mDsfk2O6Le+eIK+545i6cM78NqyCquelD6mL/TEU4ycE4ByFZ0RNK4NhAIxpq4kVc6L3JAZTAaS49Xnz/oeMBkMvOu2gPJ41PHHGVddyC4QYPBO7fJV87vov2y6c0gPaIvzfUPDoP5CGYlYCpFQAjsVusB6zcwiss+CyzT79v85mLJtUcsmCO9yLgAgMKZCKPLEKTgRNxa9PLeorYfJYKN/uQMAgFTBe4RnHUZtm35ILnyD6Lw7GFGedEkWy7SnsPh/xagM91NKI8ETuOAA0rLzMW9QO7SurTyKMiT9KldHv8rUkfTcxi3l/1sbGePxoDEAgFkNmwMAXgxVdiNXVQ8A+FjZ4OFAaqLTMbXqY0yt+tj+8ilG1TRMjjOpVIbXj6JQvaEPot8loVZjcsmKXSyGiCAI+Fahp3zOYjIoQr1liQlb9yWzHyHyHbg1BEKJZjULc6PSJa50s7bEwq7t8NeZUI3lrr39RHtZ8hekRuOXqDQs2jkMK6cdwbFnCyjn9ZqZpQk+wN6I/BBkhBR5YtIjLDL3OmpYkyNjc44T0gSa0zEwGYof6efcWzBl28nrqWOrcBHlMDXnVvt/xohddsaMTh4sVaRm5WF89ya4sGw4/tp9RfsF/2LcLQwbFjGr3xYMbLwIEwLWoufIlgAAexcrEN+MUuiJpyqXWFRhZ2Zq0L4ZGuUUL2XPlyztA7TONUofYtGhWgWtZU49f6u1zC8UzFpDLstWb+iLaSuVnXP0uhPG5j9Ad4+NEErzUNHyNyTwyaWXbNEXsJm6jWouJ87FF/4zdHJbBlcT0issV5yEI7FUhelxfqQ+naFnaTamJsjiq9cFA4CrU4fB3eb7xnLRUW9gMAALY8NIzKgiJUe/5KnmJjwIRGJw2EyUcyadJ7rP2YPkrDxsndYT1bydwWL+N6JC/L2137R04XL0KqTEZ8LRzUae/Xr18Qno6EsGiBqZcHE6Yimtuqq5OSH13WftBXXkUgKp+bfo9UXMqNIeRizSuaajm2b9wpI8jIrXWsaQMZTJ2fS+z/MClD1XdYWOc0dYZIzG88EfyH5MqHhTxVkCt1PWISL7AjxM6yBV8AFepg3RzoWUADz3ZRZSBe/hYOSHxIKXcDepgwD3ZSieE+5E3ARkCmPgYOQHoSwfQV7bAQBSQoQtHzuoaRcIzzwCkawAL7KOwteiJay5Hqhl0wcsBvk9iM1/iAsJc+BqUhN8SQasuG7o7Fb8O0sg+EMbuJrUBJPBgq95C1Sx6qz1/XoWFin/38NXOf5PL2NmxLKAs3FV3E/bhJrWfWDGJr1+atv0R3jmIdS27Y88cQqcjKnq2RJCCDaDauxkhASjKlBH73VtB8GW543G9mNRKM3G+S+KSO+7aRvRy3MLCqXZsOZq13bTRkCNilqT572MT/ruxowOnraGd4E1BCZGXKw5Fob29fxwYE4/iMQSzB7QBg0qeeD8g7eo5v3/lWeJLkUKIE4e1OBba3tzveSs2lTywfUyMGZFRquxgzesuPrH192nIfLdyQCzpCJ6bzmstUxplxiLM7hxba33lqcxCahXzk3nund86gahNE+twenivoLyPPhDazzLPIS6tgPkx1IK36m9XhO1bUmhgYjsc2hgNxQWHCfK+QsJczTWG5F9Ab7mLdDBdb5O7foH1odUIgWLzYS1vbnSeb2Gx34WvwEAXn09ARteOVS07ICovDuobt0DUkKMrZHt8ChjJ3p4BMuvMec44kPOFWyLbI9HGTvlxx2NK2PHp44IiRmCfAmpN+ZsXA1WHHdsi/wNN5KXo4/XDgCAEcsSXdxXYW9UD5z9MhXdPdbr030KXWkIhN76GF3qdsqCshZALg0uthaQyQisDLkFLoeNsFfR6DN/PzaffqD9YgNy+PPPGXCsik9vvqh96EOn6vQMwZU3kdoLqaD11bVocHG5/KEr9z5pzzXWsw69dDJ00LYCAwAHRwYarD06slWj95/Wq26hNA++5trrzxEnYXtkAGx4nqhlY7jXpg4C2vdopTIRuCzdl8AtrE3Rb0JbsFhMGBkrz3wpM7N1Y3bg0q4bSoUcPOxwMEphmJo4jMPdU49xJtARZ6CQA6rd5h5qtq6KU3NscU1MprO4ffQBlg7YgGY9GmDg0a6oaqXwQHx69RXmdL6Ea+JLSm1WtuqMyiWmnsN8zwAAhvjQy7hKBzqK2KFvNScE/FHoM6LTlcSvuXC1ttD5OpFECqlMJndAqOhhj0Ht62Dz2Qf/mSVGQ3Pv8hsc23oTDCYDtg4WMDJR/GB3XNfdW5COGgUAHHz0ktYeT0nCA+bofI2uGGqZceE55fuaKso76pfbTR3anHBKk1rlc94d+VJkEcVnRMEfWsOc44B+5XbBjKN7zJw+/MhMjBRj5uBphwOfN8KxWI4wAV+ILlaDsShoLeYdUahXLwpcC+dyDtgXuUFebuPEXdg9R3tKhX8b38sjTFcCalTSXqiUrAu9h3/66B4EeXBuPwDAH/3JH1tAY3KEvXDob4br3H8MmUyG4PNT4EPTW5EO2pJGAmQGBX04Hf8S73OSEZ+fhYqWTvi9Mn139oSvOdoLGRA6GeUHNDK8ksuynh0w8/hljWVWXLqjs/iwEcscYpkQY/3ILZpMYQyOxSo8bh9n7EVD++Goa9tf906Xih9nzihDt35/dKcYMgAwMuWByWLixQ3lRG/tBrWglJu+c2wZdbNssSxDJ4qyRN+kiroQFhkLqUx7Qr8fSVx+KE7HdkJIVGOciumItELqPkWOKBphydNxNKo5EvhhlHMfs4/iWsJwHIlqhttJUyAjyNi6XFEswpJn4khUM7zMDMabrB0gCIVaRvHly7TClzgR3RZ5Yu0ODZq4d+WNQQ0ZoJ+KBV0a2ZfDo7QYLKwVgPEVW+p07Z2Pmp0fADL4+HsSWK+awetsW1m75+n5V+/VJs00ZlnhbTYpjyWQKgYAtWyCICVE8mNhqRtR0bKD/LwJyxophQpvyai8uzr1W9EuORDKFdOPi+OxzHE3dZP8uS7XlgZa6xAyqQymlsru8YmfqZ1klOHNNSBIe94jffm7u3ZJnr33lRPdlRVHnrz6bm1pI08gxJxTuqV5+N4wwUZ3r4vo6/MAPcpdwvVE6qDqY/ZRNHNagUCfMNxNngWhlHTPDkuegVxxHNq4bkaQz100d14JCUEmyLwQHwgZJAjyuYsq1kPwJmunUrsAIJEV4nriaPTyvg5zjkepXgc/txCFBcJS1VGSuTQ988691J4csSQb3t9CnliApIIcdL1JP7PE57RMLLmgPXv2UhrZm+kw7ajyNkZJVvTqQFv1XhfopLnJ4hdiwqFzKs+5mtSAg5Efdn7qjuNxE+TH69j2xYSKN3AxYR62fvSHu2kdtHJSqHBUs+4KF+Pq2PmpG/ZH9QNfkgGhlPTmTCp4jX1RpJt78IfW8oeqdi8mzMOWjx3wLlvxHm6PDEDwh9YQSFUnTh1Z/ixYDDa2RXbC3qggxPOfys9dTJiHu2mb8C77krzdR+nKyTr1Qe07LSwQYrb/Urx9QKYt3/Oe6mwRMKY9zm+9hqiXsQia1Q1eVdxgZMqDkSkPAr5hf5BlTTsao6eVl8NQ2cUR9b/DPhUdEdTmFcqVeT+KOPfyPZb36qC9YCl4HqvfUhcAuJsp1GUKJGlK5+s7/CH/v479VLzMDEYDh7lI4Iehn+9j+TkmgwMuQ6HhmCsiHRQ4TDNwmKo3rI9Ft0SQj2EU45cdGI0eVVXvQ+njzQgA1d2cMLV9U6y5plmhZPaJK+hSU7dl66W1u0FKkDOK8zrkMuu//SitcrU9DTNLvfzmo9YyATq+dl0Y3bIBtt1+rLGMKjf94vtfI8qrchRhoKfnBrV11rYNknseFsfFpDoG+4Rg04c2GF9ReS+RxeDKPQ07uS1WOj+qwnm1bRbR2GE0GjuMVjreyW0RhNI83E/fhtZO6pPR6oPSzOzkuotozwlCgOVgvH3wERM2DMM18RGlrJ4TNw7DpYJDaNi5Dk6uu4hZHZZgbL0/1BoyYaFmnb+AwA3Iyxfg3KWXEAjEuPfoE5JTcjB3keJDfB2RgKyvfAQN2yY/1nOgYkS4L+QBPkWlYtOOmxCLpdgX8gB9hmxFRmY+WnX+h9JOUnI2BAKFXFMlZ+3LMUN2aZfBMQRF6dA1scRAo1a67Ah7qr1QKdCmlgBo9t48H9cLhz83wJ3k6QjyUX/jNmbbo1CaJX9++HMDyuNaApl9t5/vY9Szn44rXwbjeHQbiGXKahWHPzdAR49DYDIME7juU8UVl6NXqXyUhhHN6SmU6CqxVP/CMoy4fwAjHxzEyAcHaV3ztaAQeQLtg92O1f106os6br6P0lqmrpdhl3ZLMrltY1rlnsYklGk/ShJYbnuprg/+0FoeY6wLPJY5alj3KFXbqqD8CvO/8rFtxgEEjG6HIX8HwtxGcwI5NoeFYYuDMGyxwvp3txsGfo6yC+ybu8rLGGIhaUxEIgnmzugMHpeNDm2rgsViomnD8ugzZCsmjFRMf6tXJWdF6nJ47T5wD4P7NkZ5H0ds3X0HR08+wcpFvWFnawYjHofSDs/WjCJeeWJcf1SZpz1Q+cSzCPSqq1twqC702nyIVjlbs7LLn6WKtdfuYSTNm6KuTDt6CTEZX7WW61pL9ej5ecYaVLYeBB+LLirPywiJ3ODE5V2Dq0kT+bm+vg/B+Dame5r+D3gsheems0kjOJs0AgCERDUGg0Ed0PX1fYiQz40odfys1PZ0QXhcksYygVtD8G7xFI1litPauSKaO+omx9Rk6VZa5Vbp4XSkiomHVS/fFWfnEO0JLEsLh8XSmqFg9P7TCJ8/scz7UoQdz6dU1+sTo1aELc+7VG2rgvILfHWHTBo3MXi4VkOmDn5OAZy8lGc5hfkCuSRPEWeCSS8fLpeN/HwhuFw2eg7cjNBbZD94XDZ27lfeuMzKUq3pxvumUyiVyuDtZQdHRwvExmcAAAoKRZR2uFy2vB2AVNMoZ6c9CPmvM6FlJsAbk/EV75KUl8lKUnJWFnbyEUKWn8H+hcdxbf8dBLmPwZPLLwzev9oLy2bfks4yEAD0qadayby8RQ88SVuG+6nzcCtpslJs2amYDjgX1xM3EycgPv8GyluSN6/uXhcR8rkRzsf1xPXEMfiUcxLVbcilkddZ23H4cwNcTxyNK18GUZw/imCAKTdoBAzjJPPXsF3w955OefDzBKWul278VNtVu2jFYwFAULm66OhWVf7QRr/tR7SWAaDzcqc6BGIJrTQ93GLal3vWX0OXuvOREEveN57e/YhJfbdgfG8yNOn5/U/oXPsvvA2Pg1QqQ+hZcmYybdB23L1GOskN77yGUgYA1gR1otVffRDm/AF+siflUZBKzfJQdFxSqNq485M9UZhO9R0Q5S5UrjeNzMMmyBoIfrKnUh26tgFIyGsEyvuawpxZ3+o7q+nly6HMzJp0I0fe/sb9UaNFZfjV88HHp1EIv/EG6+8tQqUGilFYdlou+riOglsFFzTuUhfxHxLx7OpLAMCiszOVGmrdryl+4/VFq6AmsLK3wOmNpCFr0IlMy5GWkYffeqzFhpV94efrhCFjd+PA9hGIicvA8xfk3sWYKQfwOToNm9aodje9dOJ3dOu3CeV9HPDPot5o1bwi1m0KRbd+m2D/LRdOUTsVfB2xcWU/yvUXfx+CaUcvab251v07GOHzJ9La3KXL8D0nacn7AED32tRA0uY9G8LfuD8uF5Kzurrta6B/ufHy54ZCIJag7apduD59uMHqrLWg9AbSguuFvr4PVZ4rvidWEmO2ndrz1W1GobrNKK1tM8DU2IYuhARfh4k5j7KsKCgQoXvVP0u91AgAPetUxcnnyl7JxUnKzkXTZdvwaM5YrVJpR2KeYfmbq4rnLUaoLTv58Hm8jE+m1U9D7c8O2nlMa5niYSdSqQx+1dxw7tlC9G21HCG3ZuPdy3hsCBkLfr4A4Q8/Y+7Yfbj8ejFCz4ajYg13pfpEQgkmzO2KWg19KGXaVKI3C9LZTZ8ohKTgMBhMB5g4KrYCCFkG/TpUVUvwIeaTjhnGdmfA5JBhC4WZ3cFPKQ8QZZseip/sA0ACFq812Mb0sqMo3Y2b9WiAu6ceI/zGG4TfeCM/fu/0E4oxS08g36yEyCQcW6WwxMZmRvCsrOwk0ahzHby8GYFbR6ib5UXu/H171UffXorsq3u3DAMAlPO0QzlPO5w/on36zWYzceawYiOaw2ZhxuQOmAGFN2TJdkryZ6eWtGYKw/ecxKFRhomozxMIaRsydftGnpXdUJBbCBMLY+xfcFzlZ2AIkrJz8Tw2EXUMsM/wKTVTq4J5ET+7aK4hCLv4CutOTaIcMzLhwtTCMELbM/2bazVmRQzceQxnJw7SWGZ5ne606souECCUpqxWA29lA6EPEYmpiEhM1VqufRWF81dKwld4+5FSax7eZIiSyzdpMVMz0vgmHwAAIABJREFUIyR/yULlmh7ITMuFq6edcmUAuDw2Tu2/Dw9ve7VlNHH+1XudjJlURM4MuZYLKMcZTN3bLo5MqBgcFhkyADC2Pf7N0JQdMmkcAPK+wLOmP9hVMmbzjtJbMy9f2xvXxNqXDVoGNkbLQHIDtEXvRrQ7RoceAzZrzRukK7ZmJmhb2Verpt2L+CRUmbcWodOGw8VKd4WMIoJvPMTmW49ol1dnQLc+X4Hnoa+RHJ2KSZuGg0lT/UEfBu48hsouDvijY0u9jdrW24+x4Tp9aat9I3rr1c6/ibTEr+AZc5SOe5ZXFlXVB3MjHjpW98Ol19oHa59SM1F57lpcnjIUnnrGe6Xk5GHjjYc4HU5PHX5Zz99oycvRgc6sjMEg97KKcHSxwrN7kXBytUZ8NCmtl5pI7uUW5Avh5GaN1fvJ2XpqUjaYxUKRcr7yIZWQS4qLNg9SWeb3dk2wLlSz56uumSpkYnLCwTbSvoypU70SdRJnbLCNe0NSWFbOcDIUpjUHwIKRzT4wGPS3u5SM2fWETxh554TKwre7jIGnuWJfyS9kJUQyKWL6/6FUttW5bYjNy8LbwOkwKZayvtyhZRo7ZMLm4G2gwmXzQ3Ya/C/uUlm25/hqWNVIvdoyAWDO48sI+fwSCFC0raq/xdnQLwB1/g5GoZa9MYIg9xgAckS5pEd7WoZNIpVh6cXbOseTXZkyVOXxng7U5Z0980jX55NpqmOj6DK0aR3suac6vu5dUhoGfrthjG3VABNaN6Y1sNhz7zn+uRKmvWAxmAwGrf3M74m6pcWvBYVIy9UvT9fkZb0xvtMabLqoiBeKfp+Ed89j9apPFav6dMS9T3HILaS3D+e/dg8AYEHXNmjh5w1HC+03l1PP32LemWu09quKaODtbjBDRhD09p9KOpmwOSxEhMdh6Ywj2HZ6MgCAw2VjYuBmyGQybDo+AR9ef8G8cfvg4eOA1ftIwzZj6E78vrA7lkw7gpYdq2PO6L2IfJtAKQMAo1rUx8OoeDyO1qy1uf3OE4xqoX71iErZCBqwTXpBlFckVixDcfcKtlE7gxszcf5msI06gp9MhhyZOuuuh8sgCMVX7tCnF5j75AqsuMYYXqkexlRuBCaDgafpX7DxzX1Mq9EctewUI3ECgPehZbDgGuFVb8WM7m5yDAbdPIIZNVtiXBXNs7Fyh5ZhYd32GORXR+X5Z+kJ2PL2IebWboNyFjby43OfXMGhTy8ws2ZLjFXTRvVja5AnFsLB2AyPe0yU95nuZI5OGhZtGHM5EIjFOv2wVfF3t3YavSjH1f8Dm5+QxvrN3Q/YNmM/gh+pTxUSHpeIATs0j17fLZ6C7sEH8TElXef+MhgAj80ulfZcEQ/+HAsrk7JRaXkZn4yk7Fyk5/ORlpuP9Dy+/MEXipCRzy8TOTM/J3ucnjBA6fi5/fexZYEiHMXC2gRHni40uCBB1XnrtMpcaaNIY7O0CjFu1pa4Nm1YqeoozsRD53CDhks+Hc/Nu9ci0Ky94byXC0Ri1P07WGs5ul6l4vzNEOWtgKmzZtHmImcNntVGsI2VvX75yZ5gsivA2F4RIiPIGgKpkAxuZ7DcwDbyB4PtAUKaDHE+GRJVvF192iAdQHzAYDmCkJLLwiaOz8BgatfMLQllZjb3yRVwmCy86P07pVADBw80aKOsbsAAsKtlbwy/fRz7Pz6XG6RBN4/Akmuk1ZDRoa69G3a1VF5iWly/Aw59eoE1r8PUGrM8MRnPcrvLGEqf6fJu8ZRSGzRtszu6/dCGTCqT75ndOHQXErH2WDU6nJ4wABdff8SMY9pVFIpDd3SsjZ51qpaZIQOAtaH3vnt8jya6DGqCLoOaaC9YSiIW/Y5Tz99i7mn91V0MIXPmYmVhUEMGgJYha+RDT63FkIYMAEy4ysvIqsgXimjlRNMVQqZ9H7EII5u9AACZ+AXE/H2QCu+CKEwHIdMcRqNLG/K2bI+jMK01AIlehgwoNncMzyAVGDY0pec5UkRrV19UsLTD/GfX0PXKXtQ6vg4A8LI3/XgVfXiWTt6AathqT4NizKb3BVLFu8VTyvRmqgk2i0l7hLb1+Qq8f/wJF7aFYtKm4dj6fIX2izTQtLyX/P9O1f1oB34aksdzx2ERDamxX+hHjzpVcGLc9xaiVdCxup9BPWMB+mEe2wZRnVf8l5Kee2sv3oNUJsP9j3GoPXMDwmMSUWcWqbJRbRp1YHv5haKtmxHaDWgRw5rV1Vpm+J6TtOvTBTF/n9pzDKbqvVEmpxZ4VutgbH8VJo7hMLIp2vZRvS+vTxuENBmmzuR7WNLlny7y3kRmk0tJ1W10T5y4oWk3AMDrzGRkiwrhaVa2+xuvM5MRGEoqDoyu3LBM2wKAY2P7aS9UBuwbrpvTQ5121eE/vLVBnD8qlUiNM7plAzAN7W2jgWpuTgZNlPhvQCSUqH2UFZVdHMpcAUMVTAbDYIHRxTlCQx0fUE6P42VvjYw8Pj4mpiEm7SvmhlzF42Xj8dfRUFqKPLrQjcbeoK5qLHQhpOr36xgsevd+mYSU3mIwVfsH6NWGjNSN5FosBACIcpVltLQhX2ZM5JOikWPCNI8IZtRsiWbOVF1APyt71Hdwx5M08kXc7jpG1aWlIjYvCx0u7oJQqvhhh7Ttj4aOpRN3pYObtSXeLZ6CiMRU9KGRrba0WBob4f6fY3QyHmtGboNXVXd4VnbD2tHbUbNVFUzfpX8WA1Wb8RGLfkfn9fsQnZ6l4grDMaltY4xp+e9Jqmko/pl6GBFPopGdma90zhBxZurYP6IP4jKz5c4eZQmLycTzvyZQApUNCZ0l48a+1JH/55RMdKtXBScfRUBGAKcfR8DdzhJf8wuxOKg9Bm6kpyVJF1+agsYSqYx2TjraMDgoSGsKE/tbAIMDScFRCHMXAAC4FtTMz1LRAwgy+4JrMR8c06EAGJCJ30OU+zcAgGM+rdRtFEGA3I7hmA4BCD5EeSsh5u/QuhdYHLkx8zAjp39vsjSPCAokyntAMoKQGzIAWPbiFv6o1UqpnL70vLpfvgzqaWaNkHb94Gyivzu8vlR1dcS7xVOwI+wp1moRbtUHFpOBY2P70dKJLMnjS+GYuoNUr1h/bxHG1tU9mWNxvO1tVB6/MHkwkrJz5V6chsTWzAS3Z478v03eGTi2DWo3rQD/vmW/2lAST1srvFs8BafD32JH2FPE0pAX05WDI/sYTDxYFXRyltmZmWLrwG6UY6cfR2B6lxYIWncYg1vWwaITN/BwyTgAQNLXXLUGJSI+Bf61/CAjCJga6ba/1cKvnNY0OBMOncPWQd2Ujov5+yDK/YtyTNXSnCpDYGS9k1QMSaGKq3PMxoDBpBpZmfgtGCw3iHIXQpS7kHKOxa0DjonqOERTp88oSGtEqw1VcMzGk0Hb+ZvAT/akbdDkxqyHdzXMfHQRm5p1R0cP5XTrRW7tte2Uv4wVQlYCAGbVaoWXGYnY/u4RxlRuCGueYYI9wzMS0cDBA0fa/bj1/eKMbF4PI5vXQ2RqBkbvO43UXOWRNF14bDaW9mwP/2qlE1Z1KueAdqxAmJgbQ1gogpWDBXo6jCi1e74qXKws5Ht52+880Ro7owlTHhfr+3ZGIx9Pg8cM/tuYM3g7jj5fqL1gGdK9dhW5wsy+B+FYQSODgyZqe7piy8Cu32XJmE426ZDRQUrG6fTTt5jRtQUalHdHh5oVcPLRG7yOT8G4Hafh42iLkMnkNoO7rRUGBR9FSnYers0dgRpezhi48Sgy8wpw6U/VYTPqWN83ADUXqFe8B0glfVVu+hzTweCYDgYASApCIMyZTfuGT8hyYeKgWi2nJBzTkeCYjqRVFqAaT7ptqINrPhNcc2UlKU1QXPMrhKyEWEXc2J2kaAy5dRSL63dA//LUbKwzHl7EiejXlBg0uvFcRWU1ueYXlfmzdmuMrKTb0pMu/TAEiV9zce9TLO59ikVsZjYKRWJk5heAzWLCxtQYLlYWaOjtDldrS7SvUr7Mllp+FPGZ2bj1MRox6V8RkZiCzPwCZOQXwITLgYUxD+ZGPFR3c0JdLzf4V/P7LslF/00Mb7Uca09NhIX1z6d2kicQIibjKx58jsOjqHik5uYji18IoUQCEy4Hdmam8HGwRfMKXmjh5w0bU8MMZH+hHTqzF21u8z8O0jWfZ70FbKPS7aFSjFlR3FgRFa0c8CknHVKCgJOJOR52n0C5OLkgF41Pb0Iz53LY31qhnM8Xi1D12GpUtHLA5U7K3krHol4hKjcLX4UFOB71Wqsxa3Q6GCkFeWAzmXA1sQSDwUBsHrlvU3Lf7G5yDI5FkcHIF+JIpf7OnlTh0rWNu4D9f7qU9Ytf/OK/xS9jRkKJM2MAmFO7DZaEk9P1D9kKBfezHYYoXTzlPpmkbWVDqpSKKYcLJoNBub44sx7pFrN0sv0gNDmzCRKZDHH51LX8N1nJFGMWk5slN2JFlHy+qlFnsH/ylB2/+MUvfkEHrsVf2gv9P0D8h/E6uJTwOrhU5+sufvxIVF63nuh1OKQMeqWg0rr1xNl378u0jV+o53ZCFNHweDBxJvrtj+4KhRf3I4mze+8Sp3eFEYIC0Y/uzg+hRYcVao/vOXCP2LT9JrFy3WX58bYBq4jVG64Sew/dJ5atukgQBEFIpTKiRYcVxJETj4mAPhuIz1GpREJilrzuor8de65Te1xTuy06rCCiY9LlZQL6bCAIgiAmTDv0rd0nRECfDZR6fhT5SR5EfpIHIS44q3Tu7N03ROMx64lxq04QBEEQqVl5RLOxG4gj18OJoUvJe+CDNzFEo1Hr5M8JgiAGLTpENBu7gcjOK5Rf89uUrcTQpSHEuXsRBEEQxLClIcT1px+JwYsPE60nbSIGLjpE9F2wv1jrYrJfhRdL/RoNl8PkJ6S8pR0+5eieCmH+9Rt4O5lUL18eFobZzZsbumsAgHeTJ2Hl3bvoAmWHm1+UPS1cvfGw13isCL+NruUMowtYGgiCQEefGahcxwvvnseiqX91bFt8Fp36N8KERWWfQPJnZ03wNezdOgxeJdToX0ckIMC/BiaNbUs5PmX2EVw5MwVGPA4Ce9ZHS/+VOLSLvkODtnbV8eZtArZtGAS/8k4I7FkPnXqt17lNQ6NpGbJL06ro0rQqrj0hg8BHrzyGsM0TkZSRg38Ok3JWB64+w4Ntk+XXLNkXin1zFfG33f/YjbDNpGRg3eFr0L15NZVt7Z/bD/mFQjx+F4cGlT0BsHVyv9fED19rq3J0FaJzM8uk7tl6hgec7NcXPqvXoNqGjZjUqBGCHz3Cu7Q0pPP5aLGD9A78kpODhTcVmVYbbt0GsVSKtrv3QCqTocGWrbjwgfxy1AzeBABovmMnUvPzMf3yFVyOJFWpz77/gNPvFElCG2/bjnQ+Hy13kq7vdTZtRo5AgPjsbBSIxbgeFYWvhYX4+9Yt+TUl26mzaTNuREXLryneN5/VawBA/lcfpNJ45OfMBT9vpfyYSHCdUiYrrSVksjRkpSrczAWFihjGzJRaACFGVlozFKV7IGTZEBScgExK5r3KSKkCkSAUUkkcCIJewkidXwtB4Ez0W5yKJlOjbHh9H2+zUrHo2Q00PbUFANDt0n4k5OfA94Di9foeXAm+hMzpNPnuOSTycyhlGpwIRnohH81OkZmVT0VH4HrCZ8TlZaNAIsa7rFT59UVM77MJR58vxOrj5N70nE2DcDl6FS4d1p5V4eKXESiUZiI0cQqyRdE4Fq0Q4A6JIpO5nonrh0JpJk7GkoYxKu8KvvDvIU+cCImMVGs/HNUOj9MV340j0R0gkuUhMucMJLJCZAk/yct+b5KSszFkzG609F8pfwBAUko2PNyVXb6/JGTBiKe/+o+2dgGgUKA6r5ejw/cPHdKXQqEYjUevh5u9JQCA/+01udhZwsyY9EKt7OVEuSYuhbrdwy/2PhRdA5ADtJKYGfPwJTXbMJ0vxg81Zp9zMlEgEWPDG/1duzXR2tVXL09GWxMTWBkZoZW3N0w4HKy9/wCVHRxgb2oKN0vyAx9+6jTmtGyJF0nkjdfDyhJZhYVY2eE3lXVKZTIsadcOjmZmWOWvSD4YWK0q/r6pMEzTmzaFvakpZAQBoUSCNR39YcRmw9HMDDwWC219fJCYm4tDL1Ur7hdd09TTQ36Ntr7pSk7mQJhZLEAhX3WQrVQSA0vb/WAyHcBkq85PxWJ7QibLhLmVQiJIIomGkUk3MFnOIAghLKw3gsNrDibLCQyGbnE8uUkeyE3SHlA/9vZpBJavgQVPSGO85uVdVLFxxLy6beD+LfZyeOV6cDMjHY/kfZXJYMom+3Q/OQ6uppaUMjNrtYC98bfPUSrBtHsX0MzZC04mZuCyVHuxfn6bqNKTsVbT8ipKK8gWRQNgIDLnHAACn3IuKL8f4i9o67IKxixbmLGdISVEuJeyCC4m9WHCtgfr2/vb2GEW6tlNQrogAlJChGaO88Fi8OBj0VFe5nshFFGVTwb3a4zAnvVw+/JMnA6ZAF9vMh6zXavK2LzjltL1/QMb4tBRciCQkpqDqpVVx7jx+UKNx9W1CwAbtpD+Bdk5BfAsZlC37SZDGp6Fx9J5qWR7ghv4nOgJ4be0LrEpTfA50ROFwicgIIFQ/BYygpqR4VMCVc4vh38AcSlNEZ1cAwRBZkbI5Yfgc6IP4lPbyMvFJNeRP78V/glH/h4EqQbh6UPXniMlKw83n38CAMwb2h7bzj5ARo76DBGfEtIRnZSF8MhEeDiSnu6vPydh6f7r6N5C9cytNPxQY+ZraYuY/n9gXZOfybsGmH7lCp6PH4dqjmQeKSO2YjU2Kov0oixvaws2k4mRZ85AKpPhWFAQHM3I9BjMb56Sr1LIAPRCsRgsJhOfM8kZaFIuKd2y7clTTGrUCP/4d0DR1+hLTg4AII3PB4/NRq5QCB6bDR6bjbPvP+Dwq9ewNzXFxykKMeji7ai6pnjfDOHFyWb7AQw2LKw2omhWVRwWyw1S8QcAgFSsOi+cld0ZMFlFoz3lmzuDwQMhywWDwQODwYOg4LRSGUPwVViA32s0xeomnUAAMGKRn7WEkOFziSXq4t8DdRSV+ZL/7XMszAePxYaXhQ14LDZ4LDbORpP5vV5lUDMv953QFrP6bVEazX58pTllyKecC/AwbYYv+Xfha9EJn3MVxoyADBJCADO2E76KSO27HFEcWAwuLLjuYDG4YDG4iM67iqcZG+Fl3hZMBhs3kmaCxeBCJMsHi8HF8ZguiM4js0qnC96p7IchcXSwwJXQN2jXZTV27CVTBlWr4gY3Vxu077oGy1dfws5NQwAALBYTO4MHo8+gLQjovQEnzpBpi3p2rQOxWIp2Aauxc99dBK9WxKmOmXwAQ/o3wYRph9ClY02Nx9W1a2lhjNVL+6B7v02YMvsINvxDLrtdPPk7eFw22nddQ8lnpg2B6Bl8XePwJa0zCEIIB+vl8HWNg1iiObi6ODJZDjyd7sHb+RUYDFJTNvXrNPi6RsHD8ca3dl7By+mh/HnHRpXh4WiNat6k1NS1tQoFp9vBZLLjh9smw8nGHK3rkAMrdwcrjO7aGHaWpiqvCWhSBeXd7HE7eDxm9GuFv0eQA/jqvi74c1BbvYQRrod/0nj+P71npi/VHZ1QIBbjfnwcRtariyG1a+NdWhpsTUxgwuFARhDo6FcBADlCvxsXBy8rK/DYbIS8fo3aLuRo6dTbtxjfoIHcgOwOfw7/CuWx9M4ddPKrgOMRERhdvx6ae3nhUXw8Gnl44HhEBPrVqA5HU/JLEvzwEZp5eiHk9WsEVa+G2zExKBCL8SI5GbWcnVW2E/zwEXxsbHAnJhZB1ash9utXed8q2pOaizw2Gy+Sk1EgEqOJpy6SYDLwjMklLC6vBUSCMHCNWlOLMDjIz10GK04NMJgmKmuRSmK+GamD4HBVC6/y89aBxfaFSHgLRiZlEzDfw4dURW/h4o2HKXEYWqku3mal4mRUhHzmpQ9HP79G/wq14GhCDiLGVG2At1mpuJMYjaAKNZHCz8Xud09hzOKALxGhqbMXegxrjn2rLqNbZepqAj9X87JeljASlaz6gMsyhw2vgnwGlcC/j2xRDBhggcngIDxjK2x5lcBmkjFgVa37I0sYiUT+I1Sw7ILwzK2oZ/ctVRJBDlJeZe2Bi0l9AAy4mTYGX5KO99lHYcMrDx6r7JbSju4jb45dO1HjWgP8ayDAv4ZSeQ93WxzbryzfNmRAEwwZoMhC4OpijduXZ1LOF6HuuLp2zx4l36vTxbLbA4CpCRe/j2+H38frJpLNYZMygSymIxgMHrLztoPLLg8uh15mZ4IQgsupDIL4NtNksMBQeYuXAIwfvsNkeErtQvILvbj08aPK45cjI3Wu6/z7D6XtznehsOCExvNSSTJBEGKDtJWT6E7kJLobpC5VeO5bpvH8pVj9P5O3z2KIR9dL52F5NKpTqa7/heGg682YkbOKIAiC+JTgQTleKHxKEISMEIgiCL7gLuVc5BdnyvNc/mn5/zn8oyrLFAqfETID/c4IgiDm77tKtJ2xlRiy8ggR+py8f3X7aw/RdsZWQiBStNNk0kb5/yfCXhH1xq2Tl5m/7ypRb9w6ounkYOLpxy+EVCojNp6+RzSYsIGISckiCIIgdl56TNQfv54IWnxAZT9+zcx+MojSZvH8QYhFD8HhNoS6jHGZqbUgk32FkbF6rzzFsuPPT/RAzdqXBPT/HCvX8dL72l/8e2EwuPic6Al3ezJ+NzGjL4SiV+ByKsDN/gwAgM1ywedEL3g5PQab5QgO2wsJaV0hliahnPNTSKRJiEmuCw7bHW72pxGfSu6Tf0og9659XT8jIb03CILU2C3vpnkJmw4V3OyxYFB71B6zFv3b1Ea3v/bgzN9Uea+dlx5j9RjFdlIuX4gnmxTekQsGtUd9P3d0bEAKXDSdHIxFQ/3xaONEtJu5HaErR0EgkuBx8CTkFwrx6H0cGlai6lFqNWZFm+gWLvG0X5xEEIqCLNV5iswcwsBkexU7QiA3SYVIpt0pCPPWQSIMU2pb28Y+i1MNpvYXKcek4nfgp3coUa4STGz2Iy+1nsrXV5g9HeKCEtmYGVxYOH9EyX0eTe+TIHcxRPnbKef8K1SAIGcBRPzdlLJNLR0BPEVukgcsnD8BDIVnkDDvHwjzNirV39wCyE2C2vbz01pBJqHmWzJzuIX8tFZgslxh5qhaR02QPRuiAmqWAAbTGuZOVOcTQpaOwoxAMGz3g81rqbIuW8cXlOcFWcMhEYRSjrE41WFssxn5qU0pryM3yQNsXguY2B6QPy/5WnOTPFR8twCx4DIKs0ZTjrF5TWBiG6Kyn3TRltGglbMPZh6/jLuRsZARBKxMjDGgUU0MbFRL43V0yMrio3evDVi+PBD16nurLNPHW9kJRCYjsGb1Zdy7FwmxWAJLSxO0aVsFw4Y1pzi3FCc9LRdr1lxBRMQXCARiODlZ4bcO1TBggOoEolFRaVix/Dzi4jJRsaIz6tX3Vlu2CIlEit/akx6C9ep7Y/nyQI3ldXkddN6rsubiicnaCwHgssvB11Xhpu5qR/2O8jikZqava6z8mJfTA0oZa/NxsDYfJ3/u4XgVcSnN4ekUJj/m6xoNAhI1S5C6IZXJUM6JFCXncsj6EtJzUHsM6dg1JqARmlfzxq7LT/Bw40QsP3IT03q1wMYz97DxzD15mVGdqOLaBUIx/NzJLREfF9KxxtuZbMfMmIcvadm6GzNdEfEPQpDzJxhMK5jaHQeT7QdABqnoCYR5G0DIsgB4ycvnJZMfkKndWbC45A9dKnoJfoZ6p5CSNzEAMLE9DDavqZorCLkhM3d68U25mQA/ozfyUlVnqS7IDIJE+AA88yngmZOiujJJFPLTWiE3qZxOxl1lj4h8iPi7wWA5wNzxmfw4P6M7cpN9VV7DM58BnvkMsi/SBOSnkgkzNfWFn9EVMkkUuGYjYWQxDwD5/uanaQ5bIIhCiAoOg8FygLHVGrB5ZKwdIdM9bq8kEuEDSAShYLLcYeZ4DwADIATIT2uF/LSWpa6/OIVZo2FqfxUsDjniK8gaBongOgQ582FkWTaivovP38Thx1SDnycQYtnF21h28TbC50+EEef7Lors33cP+/bdpRwTCHJw+NADHD70ADduKnv9jhixEzHR6fLnXC4bSUlfsWd3GDzcbdG8BTU+cuyYPYiMTAGDwUC5cvaIiEhAREQC9uwOw+UrM8Dlqn7Nfy9UOPc8fRJt8Nfxb8HMuLP2QnpQ3JAVYQhDBpApfRYdDMWeGUGQfMv7NndAW1T0cMCDt7Ho0bQaAhcdxMLBZHjIpccfMDuoNco52WD3jECcvPsaPZoqezYO7VAPk4LPYMvvPZCcSaYnCz5zH/UrumPL+Yf4o29rpWsM/osS5PwJMDgwdyqejoEJFrchTGyVU1sQBKk4X2TIyP9rwtzpJfJSaiqV14eCTFJh2sI5CmAUxZ0wYGp3Qs0sTwKJ8AE4Jn3khgwAmGwfWLhEIzfJGwWZg2Fiqz6jqjbEfHLUZWp3nnLc1O408pIrgoDq+BVdkYpegMlykRsygHx/Te1OgJ/RS33/CsiYMDOHu2AwFKKxDCa9wFFNCHJmk3U7FgvJYBjBzPEhLXd6XTBzfAgmS+GSbWKzG7lJXhDx95SJMcsXipQMWUlqL9xIO4O4IUhOzsa+fXfh4WGLPXtHKZ3PVJE/7dDBB4iJTkejRuWxeIny90QqlVGenz79DJGRKVi0uBcaN6aGErRpvQz+Hf5Ra2ju3/+EypVdEROTjsJCEaKi0uDjo5wGSZ/XoS8rT93GodvU1QR7SzNcXzQSNSatxZPVE8ErNiCJTMpA7+UHVNbVpX5lLBqgHBZTf9pGCMXK3sAMBvBg5QSYqIiRm7zjHG6/oa6yVPFwxMqhndBp4W682qD4XtWYtBaNK3liy9geAIBsfiFa/LFVqQwAyjHqA4iaAAAPWUlEQVQACFi0B/HpyrFgztbmuLJwBOXYpaXkc3MTchWpWxPSqaqiO/kZXl2hCFQPW0vOGk8uIO/JwzpQMwIUMbFbU0zsRk5Ozi4ilywvLiVX++b2b6vyGoMaM6mIdIk1tg4udV0Mpup8WvogEd7+Vqnyl4Nt1BoSwU3KMWEuGTRqbKUqIeI3122hclyLLhS9PkKaBJTIvsqzmAdBTulHmNJv8SpGlkuUzrG4qr9ERRAEORoqbsgMhUwSq/Yci1sTUtFLg7VV3JAVwTMbB2F+MECIVX4nSsPkw+e1FwJAEPguKW+kUhlGjiAD8FUZAACwtTVTOrb7W5yUKkMGkO7wxQneSC4ZlzRkADBufFts3nQd2dkFsLKierfGx5PhKrNmd8bHD8lYuvQcZs86guMnJinVo8/r0Ae+UIRDt1/AzsIUNxYr2hq09gjqTVWdtoUvEKJ5VW9M79Ycng7W8uOLj93A8XuvUc7RBsPa1aNcI5HKMC+wDXo0riZfto5L+4oui/ei0YxgJQPzJPILbr+JgqutJS7+NQwMBiAUS9B18V50XbzXIK8dUBi48Z0ao3V1X/g62yIjl49zT95h44WyiQmOTcnCwgOh8j0zfTCof6ZUQipRsDjV9eiCTGOpsoLJclM6JhW/1XyRAW6AbF4zAIAwX3kPjMmil4lWG0VGg8kup7ngTwSTVfb7Gkw22YZMqj0rsa5EJKbSKheTUbbZuov4+DEZhYX6zfJ1iZECAAsL1QOfenXJ9/tthPL7HXqNHHC5udmgYSNfsNlMZGWpDsTV93XoyrNPZD+ndqPK2O2e1Aeib0tpJfF2ssXGUV0phgwA5vYhA5PPP1GOzQtdNBK9mlSn7L96OlijR6OqKts4962OreN6yAdCPA4b+6cGQSI1zP0zIZOMjyznaINRvzWArzN5L7KzMMWwtvVwrcSsrDi3Vo9F29qaA/zV4eVkg8fBygMYXTDozIyQkl4IhVmqR05FFHfOMHd+j7xkP+QmeYHJcgPb2B8Mpi2YTN2zLeuDqhmgTKp5P4zJdCz1jZDBcpDPCnOTPMA26gAm2x1MlgcIabL2CmhAyNLkbf1bYLBKv4ypvQ1yJiyTphjc0OcJVKtJlOR1QorabN6G5NUr/fd2a9TQbcm3Zk3V5T08yRviy5dxaNK0AuXc4cMP5TdmU1MeZszohGXLzqOgQAgTk7JP6KmKqGRyttiqGjW+i81iomuDKjj7WHmwa2lipLHO+AzlJTtbc9UxmO72ViqPX3tBSuB5lDjvYGkGHoetcslSV4qWSs/MGazyvL2lYWa/2ljxOAxbXj5B7OjptK8xqDFjssgvc9HyFh0YDGNYuMRDKgqHiL8fEuFdQJYHQmZ47S5VyKTKI2kmy1XJ+49yjYze6FsbJjZ7ARAQ5W+HRHgLEuFdENJ0EDLDpKxnMEkFE0KaDAZbvxGTLpDOPWVUN0HPSNCq69vnx2Q5GqxOnftggBCMkvtWqii+HNim9TK15ebO7YpWraliyzJd+6jjuqlAQLqHT5nqLz/Wtl1VLFt2Hn/+cRzr1g9QeZ2urwOg914V0aVBZaw/fw8z91xE8JhulHMtq3mrNGaqeBufigGryb3xVcPoOXfM2nsJV8I/qjynyVi1rVkeF5++V3ueLgVCcanr+FHoYMwIqIshKoJj0hOF2dNhbL0FHONOSuc1be6zuLVhzK2torwBVkIZHHJ/RAWSQuU9Dq7pQEiEYZCK34L1zR2WAiHWqV+ENF3DWQa4ZqPBNVO4j0sEN1GQNaTUy5kco99QCEBUEAKjkjmPiNKP4koizNsIjnEPg9cLADKpsqSPTJoMZrH9RgZD9Ui3JCL+EQCK5UZDYsrjgi/UvhxWza30MXWvXsWjYSPVnq9F1K7lJf9flQPGzZvvsGTxWdjamSude63jrE5d+aJ9sf+1d+bBUVVZHP5e9+usnQ1CEgKBsCQKCIzihpSKASFUoEANjMqIS7nASEAUa3SAQhQdZDFRoDCDZKaCxASXSlAMZREYFhFxEmEQxICQBEgIIRDSnaWTXuaPl15ev9dJZ3FqmOnvr+7b977l5uWde84993dvvS1eVr5s2WcApKTIE73Cw4M4ftzz+qfO3gd411d2IkODuXf4IA6cPMfoBenE9gplwugE+keGUV1naLdtRU0dqau2ygzPlrSZ3J6gnM6wszznGwqLf3G0SYyN5NPXnvDqWu148vK6giDAY2tyPP6+YNo4xt48kMxjP7D2yEFmDx/N91XnKUx1enNpRV9ReLaUEZHRFDw0u8PyR7/Mo6S6kknxQ9kwcZqjfPE/dvHlmVPkTJvFmGinDuXZuqs8UvAJgaKOQ7OlSKDXxsxQNYKQvh1psmlB0NF0bR66QPmDbU/CCAh7R9HKav4Vjegm2WKTXgiiv3rqfGcIithI49XnMdWvxj/UKVljs9Y7sildEQOkzKOGmhRCY8tkv5nqVwEQHJmvei7j5XvRR8lTh1ubOqcr2Fy/su1TNw15mzFsMX6kMGbGms5J7XiD1XIBS8uRDpNLuoJNxYM2GdYSGL4OS6s0IlULpzbVvUpg+BrXq8TScpjfSpb0xaS7WV2oTIV2Z2hU9+dFt2//nhfmKlOUZedJiGb6jDEUtOkVuvP1TinZZtQouSB0TEwYly5dx2BoJiSk/RAaQFhYIHV16jsbLF8uZca6J4eUFJcRHKwMJb61MpW0+dmcOHGBESOcRqAr92HHm75yZcPcGdhskL23mF8u1nD4l3Ku/NDA9YZmj23mpOdy7Jw0RRAXGc5HaanERKgbV4AWs0WWUJI2dRzPTurZ/52WVvU5vvaw2eDkec/Rp6YWyTH4y+F9jjBgfKYzWW7sx5nkTJvF+glyb9RTeXzmWs69sFjVVVozPpm145OJz1wrCzkm5WUpQpBeGTONNhYxMMXpWQmiY2TvvsYptO8Z6isHUl85AEEbgyD4YzVfACwI2hj8gpWhA/uaJ0HQoxHjsFouY7NKo7mgXl1Pf7cjBiQjaCIxGTdgMn6IRhyEzVKFzWbEP+RlTAbldij66G8xVo+jvnIAGm0/bDaTY42VLvAhtH7qywZsllqpjTgE0GA1S+KYrkbUTmPtE5hNUtaYRhyMIPg7XswaMVFRvyvoo/ZjvHxf2zUNBPywmk8jaCJU6zddk3TmrOYzsu+uBEZsVG0b2ve0qvetjypC080wp3/IYuqrhuBYrC6ImJuLMFbf0+78ZWtTAa2NeQjaKARErG3zuiEx3ofCO8NT48Z0aMweHqPi7XeBJUunM3nSu6xbN5uExGhaWix8/tkRnnpanriwYMEkCvKLeXDiKnI+eZE+fUJobDTx9c5j/PhjuWoa/Mfb5jFxwipmTE/nmWfuZ+asO/HzE6moqCVryz7eWCH3wPO2p5E8eTXJk1eTmzef8PAgKspryd56kIryWh5/XD4oLS2VxLFXvKlUhBnepm6/5M+fkl/gzOjryn10tq9cEQR4MmmMrOzAiXPMz8xHJyrFsY+dq+L2of3ZsmCmx2O6MiddihAUpy9E1P42g6tyl/R6+zYt1XVGosPV576CA/xoaG5RZFIC/G33P8nYcYBR8VI0JFDUsenoEcbGygcQVQ0GBoUp3y+eygFyTjqXs0wdcpPjs93ATR6UwJWmRiIDPXugXhkzQRtFQOgyWoxbAGsHISqBgNBlNNe/hc1ySSbqo49UqhKAlFFotVzAZjM6XuYAWr8x0EPbTgRH5mK8PBEwOwyMRhzicd2URhuHGJCMuXkXVstFR7kgBBEYkaHaRhD0BPX+Ow1XUt3m3AT89X9U1Bf973UYM6tZvljUrnbRXTRiPBoxEau5FKvZqS4Q1DuHhpopivqtbmFX9+/g2ZgB+IcswmR4H9fsVHPzbvz03TNmWt0IsFkAaVTor09Dq7vFoTSj0Sk3OBU0vQmMWE9j7ePYLJcdz6Lofw+CxvOIubvMumMk23/wbCyXpHRtnz13kpKG8/bKAhYulD8rDyQNZ6DbRpJTp/6Or746yqO/38DgwVGUldVgtUo98qaKQREEgZEj4zh+/DxZWfvIytqHTqeltW2kX1l5jdhY54tJp9PSr18EFy9eI/WRD4gfFClbcO1uNOxZjJ6SRgAMBqUX1Nn7sNOZvmqP8hppPtuTAsxDHjIR1bh0TQpZ/laGDKDmujPydKlO+lx6sYbocL2j31yZdscwcg+or5M8dKoMkMKwAF+nzuGlop2sL1ZXEOoMSw441YDu7KsMyWoEocN55g6Nmavn5R5y84Sf/jn89N7v6KqPPtRxpW6iERNVlTJMhnSV2hJBvf7q9fHl/eTdXIOf/nn89O1nfvYE+qjdHVdqw37tLY05NNe95tW9CJo+jnquiikdnUONgNClBIQuVa2v9vx5OlZX/h49xRvTJ/KnKfezvGA3B0+XYbVBWGBAj8lZuVK053UyP9xDSUkZFRW1DBseqypNtejlKTz19H2sfKuAn366QP+4XowaNYBFi5JVjiqR8f4fMBiaSH9vFyUl5TQ0NBMTE8b944cRpbL5ZPbWufz8cyXp7xVSXl7LLSP7c9ddQxVe2XffneaLLyTVG08yWvPmTWDTpiLF2rSu3Edn+wqkNV0bdx5ixexJDOwTgSBIC6PXfLGv3XO8s30PE0cnENCmdnK2+ipv5xWpemtT7xjG1r0l5B8+QfJtNxHgJ2K12cjdf5TtB//lMaOwM/jrRKrrjFitVhZnSc7Egs0F/JjxEku3SVv6jL3ZKQv1+swkcg8c49aXMtj1xrMOD27r3mKOlJ7npn59HHWjgvQUPCxF2lzDjHEhYZy6eoWbe8kHCZ7KAUfIcETWByREKEPwhWdL2fRg+1uFCbYbVdm2De/krDxjMqRjMqT/x1943cVbOav2sIdQPWkz1lcOuOH6xYePniB7TzHr8tXDxd+8+ZxqmK7qmoHk5R+ptnllxn3McQtZAjyZkcfRs5WKcq1GQ0mGXNPRk1oHwLr8/WTvKVaoe6x/fjoLN+9wZKbOnXI3w/pHsXDzDgASYiPZ9spjMjUTgHte3ahIZLozMY7N852L6HeX/8qKb/dQ32Ji8+QZMo/qlb2F7DhzisRevdn5yJwOy1M+z6ai/jofp6QyOqov736/n89KT5A0YDAFZ35m21QpAeTDo0fIP32SU1edsnp2Q+gzZj5j5jNmPnz4uKF4IHcLex+Vi9nfkFvA2Kw1GC4pRzn/D/S0dmF7+AyZDx8+/htxN2TwP+CZ+fDhw4cPH/8GYZ8LJWp7nMMAAAAASUVORK5CYII=\" y=\"-10.744997\"/>\r\n   </g>\r\n   <g id=\"matplotlib.axis_1\">\r\n    <g id=\"xtick_1\">\r\n     <g id=\"line2d_1\">\r\n      <path clip-path=\"url(#p5f5fb72d57)\" d=\"M 35.322894 445.744997 \r\nL 35.322894 10.864997 \r\n\" style=\"fill:none;stroke:#ffffff;stroke-linecap:round;\"/>\r\n     </g>\r\n     <g id=\"text_1\">\r\n      <!-- 0 -->\r\n      <defs>\r\n       <path d=\"M 4.15625 35.296875 \r\nQ 4.15625 48 6.765625 55.734375 \r\nQ 9.375 63.484375 14.515625 67.671875 \r\nQ 19.671875 71.875 27.484375 71.875 \r\nQ 33.25 71.875 37.59375 69.546875 \r\nQ 41.9375 67.234375 44.765625 62.859375 \r\nQ 47.609375 58.5 49.21875 52.21875 \r\nQ 50.828125 45.953125 50.828125 35.296875 \r\nQ 50.828125 22.703125 48.234375 14.96875 \r\nQ 45.65625 7.234375 40.5 3 \r\nQ 35.359375 -1.21875 27.484375 -1.21875 \r\nQ 17.140625 -1.21875 11.234375 6.203125 \r\nQ 4.15625 15.140625 4.15625 35.296875 \r\nz\r\nM 13.1875 35.296875 \r\nQ 13.1875 17.671875 17.3125 11.828125 \r\nQ 21.4375 6 27.484375 6 \r\nQ 33.546875 6 37.671875 11.859375 \r\nQ 41.796875 17.71875 41.796875 35.296875 \r\nQ 41.796875 52.984375 37.671875 58.78125 \r\nQ 33.546875 64.59375 27.390625 64.59375 \r\nQ 21.34375 64.59375 17.71875 59.46875 \r\nQ 13.1875 52.9375 13.1875 35.296875 \r\nz\r\n\" id=\"ArialMT-48\"/>\r\n      </defs>\r\n      <g style=\"fill:#262626;\" transform=\"translate(32.264378 463.118591)scale(0.11 -0.11)\">\r\n       <use xlink:href=\"#ArialMT-48\"/>\r\n      </g>\r\n     </g>\r\n    </g>\r\n    <g id=\"xtick_2\">\r\n     <g id=\"line2d_2\">\r\n      <path clip-path=\"url(#p5f5fb72d57)\" d=\"M 89.682894 445.744997 \r\nL 89.682894 10.864997 \r\n\" style=\"fill:none;stroke:#ffffff;stroke-linecap:round;\"/>\r\n     </g>\r\n     <g id=\"text_2\">\r\n      <!-- 100 -->\r\n      <defs>\r\n       <path d=\"M 37.25 0 \r\nL 28.46875 0 \r\nL 28.46875 56 \r\nQ 25.296875 52.984375 20.140625 49.953125 \r\nQ 14.984375 46.921875 10.890625 45.40625 \r\nL 10.890625 53.90625 \r\nQ 18.265625 57.375 23.78125 62.296875 \r\nQ 29.296875 67.234375 31.59375 71.875 \r\nL 37.25 71.875 \r\nz\r\n\" id=\"ArialMT-49\"/>\r\n      </defs>\r\n      <g style=\"fill:#262626;\" transform=\"translate(80.507347 463.118591)scale(0.11 -0.11)\">\r\n       <use xlink:href=\"#ArialMT-49\"/>\r\n       <use x=\"55.615234\" xlink:href=\"#ArialMT-48\"/>\r\n       <use x=\"111.230469\" xlink:href=\"#ArialMT-48\"/>\r\n      </g>\r\n     </g>\r\n    </g>\r\n    <g id=\"xtick_3\">\r\n     <g id=\"line2d_3\">\r\n      <path clip-path=\"url(#p5f5fb72d57)\" d=\"M 144.042894 445.744997 \r\nL 144.042894 10.864997 \r\n\" style=\"fill:none;stroke:#ffffff;stroke-linecap:round;\"/>\r\n     </g>\r\n     <g id=\"text_3\">\r\n      <!-- 200 -->\r\n      <defs>\r\n       <path d=\"M 50.34375 8.453125 \r\nL 50.34375 0 \r\nL 3.03125 0 \r\nQ 2.9375 3.171875 4.046875 6.109375 \r\nQ 5.859375 10.9375 9.828125 15.625 \r\nQ 13.8125 20.3125 21.34375 26.46875 \r\nQ 33.015625 36.03125 37.109375 41.625 \r\nQ 41.21875 47.21875 41.21875 52.203125 \r\nQ 41.21875 57.421875 37.46875 61 \r\nQ 33.734375 64.59375 27.734375 64.59375 \r\nQ 21.390625 64.59375 17.578125 60.78125 \r\nQ 13.765625 56.984375 13.71875 50.25 \r\nL 4.6875 51.171875 \r\nQ 5.609375 61.28125 11.65625 66.578125 \r\nQ 17.71875 71.875 27.9375 71.875 \r\nQ 38.234375 71.875 44.234375 66.15625 \r\nQ 50.25 60.453125 50.25 52 \r\nQ 50.25 47.703125 48.484375 43.546875 \r\nQ 46.734375 39.40625 42.65625 34.8125 \r\nQ 38.578125 30.21875 29.109375 22.21875 \r\nQ 21.1875 15.578125 18.9375 13.203125 \r\nQ 16.703125 10.84375 15.234375 8.453125 \r\nz\r\n\" id=\"ArialMT-50\"/>\r\n      </defs>\r\n      <g style=\"fill:#262626;\" transform=\"translate(134.867347 463.118591)scale(0.11 -0.11)\">\r\n       <use xlink:href=\"#ArialMT-50\"/>\r\n       <use x=\"55.615234\" xlink:href=\"#ArialMT-48\"/>\r\n       <use x=\"111.230469\" xlink:href=\"#ArialMT-48\"/>\r\n      </g>\r\n     </g>\r\n    </g>\r\n    <g id=\"xtick_4\">\r\n     <g id=\"line2d_4\">\r\n      <path clip-path=\"url(#p5f5fb72d57)\" d=\"M 198.402894 445.744997 \r\nL 198.402894 10.864997 \r\n\" style=\"fill:none;stroke:#ffffff;stroke-linecap:round;\"/>\r\n     </g>\r\n     <g id=\"text_4\">\r\n      <!-- 300 -->\r\n      <defs>\r\n       <path d=\"M 4.203125 18.890625 \r\nL 12.984375 20.0625 \r\nQ 14.5 12.59375 18.140625 9.296875 \r\nQ 21.78125 6 27 6 \r\nQ 33.203125 6 37.46875 10.296875 \r\nQ 41.75 14.59375 41.75 20.953125 \r\nQ 41.75 27 37.796875 30.921875 \r\nQ 33.84375 34.859375 27.734375 34.859375 \r\nQ 25.25 34.859375 21.53125 33.890625 \r\nL 22.515625 41.609375 \r\nQ 23.390625 41.5 23.921875 41.5 \r\nQ 29.546875 41.5 34.03125 44.421875 \r\nQ 38.53125 47.359375 38.53125 53.46875 \r\nQ 38.53125 58.296875 35.25 61.46875 \r\nQ 31.984375 64.65625 26.8125 64.65625 \r\nQ 21.6875 64.65625 18.265625 61.421875 \r\nQ 14.84375 58.203125 13.875 51.765625 \r\nL 5.078125 53.328125 \r\nQ 6.6875 62.15625 12.390625 67.015625 \r\nQ 18.109375 71.875 26.609375 71.875 \r\nQ 32.46875 71.875 37.390625 69.359375 \r\nQ 42.328125 66.84375 44.9375 62.5 \r\nQ 47.5625 58.15625 47.5625 53.265625 \r\nQ 47.5625 48.640625 45.0625 44.828125 \r\nQ 42.578125 41.015625 37.703125 38.765625 \r\nQ 44.046875 37.3125 47.5625 32.6875 \r\nQ 51.078125 28.078125 51.078125 21.140625 \r\nQ 51.078125 11.765625 44.234375 5.25 \r\nQ 37.40625 -1.265625 26.953125 -1.265625 \r\nQ 17.53125 -1.265625 11.296875 4.34375 \r\nQ 5.078125 9.96875 4.203125 18.890625 \r\nz\r\n\" id=\"ArialMT-51\"/>\r\n      </defs>\r\n      <g style=\"fill:#262626;\" transform=\"translate(189.227347 463.118591)scale(0.11 -0.11)\">\r\n       <use xlink:href=\"#ArialMT-51\"/>\r\n       <use x=\"55.615234\" xlink:href=\"#ArialMT-48\"/>\r\n       <use x=\"111.230469\" xlink:href=\"#ArialMT-48\"/>\r\n      </g>\r\n     </g>\r\n    </g>\r\n    <g id=\"xtick_5\">\r\n     <g id=\"line2d_5\">\r\n      <path clip-path=\"url(#p5f5fb72d57)\" d=\"M 252.762894 445.744997 \r\nL 252.762894 10.864997 \r\n\" style=\"fill:none;stroke:#ffffff;stroke-linecap:round;\"/>\r\n     </g>\r\n     <g id=\"text_5\">\r\n      <!-- 400 -->\r\n      <defs>\r\n       <path d=\"M 32.328125 0 \r\nL 32.328125 17.140625 \r\nL 1.265625 17.140625 \r\nL 1.265625 25.203125 \r\nL 33.9375 71.578125 \r\nL 41.109375 71.578125 \r\nL 41.109375 25.203125 \r\nL 50.78125 25.203125 \r\nL 50.78125 17.140625 \r\nL 41.109375 17.140625 \r\nL 41.109375 0 \r\nz\r\nM 32.328125 25.203125 \r\nL 32.328125 57.46875 \r\nL 9.90625 25.203125 \r\nz\r\n\" id=\"ArialMT-52\"/>\r\n      </defs>\r\n      <g style=\"fill:#262626;\" transform=\"translate(243.587347 463.118591)scale(0.11 -0.11)\">\r\n       <use xlink:href=\"#ArialMT-52\"/>\r\n       <use x=\"55.615234\" xlink:href=\"#ArialMT-48\"/>\r\n       <use x=\"111.230469\" xlink:href=\"#ArialMT-48\"/>\r\n      </g>\r\n     </g>\r\n    </g>\r\n    <g id=\"xtick_6\">\r\n     <g id=\"line2d_6\">\r\n      <path clip-path=\"url(#p5f5fb72d57)\" d=\"M 307.122894 445.744997 \r\nL 307.122894 10.864997 \r\n\" style=\"fill:none;stroke:#ffffff;stroke-linecap:round;\"/>\r\n     </g>\r\n     <g id=\"text_6\">\r\n      <!-- 500 -->\r\n      <defs>\r\n       <path d=\"M 4.15625 18.75 \r\nL 13.375 19.53125 \r\nQ 14.40625 12.796875 18.140625 9.390625 \r\nQ 21.875 6 27.15625 6 \r\nQ 33.5 6 37.890625 10.78125 \r\nQ 42.28125 15.578125 42.28125 23.484375 \r\nQ 42.28125 31 38.0625 35.34375 \r\nQ 33.84375 39.703125 27 39.703125 \r\nQ 22.75 39.703125 19.328125 37.765625 \r\nQ 15.921875 35.84375 13.96875 32.765625 \r\nL 5.71875 33.84375 \r\nL 12.640625 70.609375 \r\nL 48.25 70.609375 \r\nL 48.25 62.203125 \r\nL 19.671875 62.203125 \r\nL 15.828125 42.96875 \r\nQ 22.265625 47.46875 29.34375 47.46875 \r\nQ 38.71875 47.46875 45.15625 40.96875 \r\nQ 51.609375 34.46875 51.609375 24.265625 \r\nQ 51.609375 14.546875 45.953125 7.46875 \r\nQ 39.0625 -1.21875 27.15625 -1.21875 \r\nQ 17.390625 -1.21875 11.203125 4.25 \r\nQ 5.03125 9.71875 4.15625 18.75 \r\nz\r\n\" id=\"ArialMT-53\"/>\r\n      </defs>\r\n      <g style=\"fill:#262626;\" transform=\"translate(297.947347 463.118591)scale(0.11 -0.11)\">\r\n       <use xlink:href=\"#ArialMT-53\"/>\r\n       <use x=\"55.615234\" xlink:href=\"#ArialMT-48\"/>\r\n       <use x=\"111.230469\" xlink:href=\"#ArialMT-48\"/>\r\n      </g>\r\n     </g>\r\n    </g>\r\n    <g id=\"xtick_7\">\r\n     <g id=\"line2d_7\">\r\n      <path clip-path=\"url(#p5f5fb72d57)\" d=\"M 361.482894 445.744997 \r\nL 361.482894 10.864997 \r\n\" style=\"fill:none;stroke:#ffffff;stroke-linecap:round;\"/>\r\n     </g>\r\n     <g id=\"text_7\">\r\n      <!-- 600 -->\r\n      <defs>\r\n       <path d=\"M 49.75 54.046875 \r\nL 41.015625 53.375 \r\nQ 39.84375 58.546875 37.703125 60.890625 \r\nQ 34.125 64.65625 28.90625 64.65625 \r\nQ 24.703125 64.65625 21.53125 62.3125 \r\nQ 17.390625 59.28125 14.984375 53.46875 \r\nQ 12.59375 47.65625 12.5 36.921875 \r\nQ 15.671875 41.75 20.265625 44.09375 \r\nQ 24.859375 46.4375 29.890625 46.4375 \r\nQ 38.671875 46.4375 44.84375 39.96875 \r\nQ 51.03125 33.5 51.03125 23.25 \r\nQ 51.03125 16.5 48.125 10.71875 \r\nQ 45.21875 4.9375 40.140625 1.859375 \r\nQ 35.0625 -1.21875 28.609375 -1.21875 \r\nQ 17.625 -1.21875 10.6875 6.859375 \r\nQ 3.765625 14.9375 3.765625 33.5 \r\nQ 3.765625 54.25 11.421875 63.671875 \r\nQ 18.109375 71.875 29.4375 71.875 \r\nQ 37.890625 71.875 43.28125 67.140625 \r\nQ 48.6875 62.40625 49.75 54.046875 \r\nz\r\nM 13.875 23.1875 \r\nQ 13.875 18.65625 15.796875 14.5 \r\nQ 17.71875 10.359375 21.1875 8.171875 \r\nQ 24.65625 6 28.46875 6 \r\nQ 34.03125 6 38.03125 10.484375 \r\nQ 42.046875 14.984375 42.046875 22.703125 \r\nQ 42.046875 30.125 38.078125 34.390625 \r\nQ 34.125 38.671875 28.125 38.671875 \r\nQ 22.171875 38.671875 18.015625 34.390625 \r\nQ 13.875 30.125 13.875 23.1875 \r\nz\r\n\" id=\"ArialMT-54\"/>\r\n      </defs>\r\n      <g style=\"fill:#262626;\" transform=\"translate(352.307347 463.118591)scale(0.11 -0.11)\">\r\n       <use xlink:href=\"#ArialMT-54\"/>\r\n       <use x=\"55.615234\" xlink:href=\"#ArialMT-48\"/>\r\n       <use x=\"111.230469\" xlink:href=\"#ArialMT-48\"/>\r\n      </g>\r\n     </g>\r\n    </g>\r\n    <g id=\"xtick_8\">\r\n     <g id=\"line2d_8\">\r\n      <path clip-path=\"url(#p5f5fb72d57)\" d=\"M 415.842894 445.744997 \r\nL 415.842894 10.864997 \r\n\" style=\"fill:none;stroke:#ffffff;stroke-linecap:round;\"/>\r\n     </g>\r\n     <g id=\"text_8\">\r\n      <!-- 700 -->\r\n      <defs>\r\n       <path d=\"M 4.734375 62.203125 \r\nL 4.734375 70.65625 \r\nL 51.078125 70.65625 \r\nL 51.078125 63.8125 \r\nQ 44.234375 56.546875 37.515625 44.484375 \r\nQ 30.8125 32.421875 27.15625 19.671875 \r\nQ 24.515625 10.6875 23.78125 0 \r\nL 14.75 0 \r\nQ 14.890625 8.453125 18.0625 20.40625 \r\nQ 21.234375 32.375 27.171875 43.484375 \r\nQ 33.109375 54.59375 39.796875 62.203125 \r\nz\r\n\" id=\"ArialMT-55\"/>\r\n      </defs>\r\n      <g style=\"fill:#262626;\" transform=\"translate(406.667347 463.118591)scale(0.11 -0.11)\">\r\n       <use xlink:href=\"#ArialMT-55\"/>\r\n       <use x=\"55.615234\" xlink:href=\"#ArialMT-48\"/>\r\n       <use x=\"111.230469\" xlink:href=\"#ArialMT-48\"/>\r\n      </g>\r\n     </g>\r\n    </g>\r\n   </g>\r\n   <g id=\"matplotlib.axis_2\">\r\n    <g id=\"ytick_1\">\r\n     <g id=\"line2d_9\">\r\n      <path clip-path=\"url(#p5f5fb72d57)\" d=\"M 35.051094 11.136797 \r\nL 469.931094 11.136797 \r\n\" style=\"fill:none;stroke:#ffffff;stroke-linecap:round;\"/>\r\n     </g>\r\n     <g id=\"text_9\">\r\n      <!-- 0 -->\r\n      <g style=\"fill:#262626;\" transform=\"translate(19.434063 15.073594)scale(0.11 -0.11)\">\r\n       <use xlink:href=\"#ArialMT-48\"/>\r\n      </g>\r\n     </g>\r\n    </g>\r\n    <g id=\"ytick_2\">\r\n     <g id=\"line2d_10\">\r\n      <path clip-path=\"url(#p5f5fb72d57)\" d=\"M 35.051094 65.496797 \r\nL 469.931094 65.496797 \r\n\" style=\"fill:none;stroke:#ffffff;stroke-linecap:round;\"/>\r\n     </g>\r\n     <g id=\"text_10\">\r\n      <!-- 100 -->\r\n      <g style=\"fill:#262626;\" transform=\"translate(7.2 69.433594)scale(0.11 -0.11)\">\r\n       <use xlink:href=\"#ArialMT-49\"/>\r\n       <use x=\"55.615234\" xlink:href=\"#ArialMT-48\"/>\r\n       <use x=\"111.230469\" xlink:href=\"#ArialMT-48\"/>\r\n      </g>\r\n     </g>\r\n    </g>\r\n    <g id=\"ytick_3\">\r\n     <g id=\"line2d_11\">\r\n      <path clip-path=\"url(#p5f5fb72d57)\" d=\"M 35.051094 119.856797 \r\nL 469.931094 119.856797 \r\n\" style=\"fill:none;stroke:#ffffff;stroke-linecap:round;\"/>\r\n     </g>\r\n     <g id=\"text_11\">\r\n      <!-- 200 -->\r\n      <g style=\"fill:#262626;\" transform=\"translate(7.2 123.793594)scale(0.11 -0.11)\">\r\n       <use xlink:href=\"#ArialMT-50\"/>\r\n       <use x=\"55.615234\" xlink:href=\"#ArialMT-48\"/>\r\n       <use x=\"111.230469\" xlink:href=\"#ArialMT-48\"/>\r\n      </g>\r\n     </g>\r\n    </g>\r\n    <g id=\"ytick_4\">\r\n     <g id=\"line2d_12\">\r\n      <path clip-path=\"url(#p5f5fb72d57)\" d=\"M 35.051094 174.216797 \r\nL 469.931094 174.216797 \r\n\" style=\"fill:none;stroke:#ffffff;stroke-linecap:round;\"/>\r\n     </g>\r\n     <g id=\"text_12\">\r\n      <!-- 300 -->\r\n      <g style=\"fill:#262626;\" transform=\"translate(7.2 178.153594)scale(0.11 -0.11)\">\r\n       <use xlink:href=\"#ArialMT-51\"/>\r\n       <use x=\"55.615234\" xlink:href=\"#ArialMT-48\"/>\r\n       <use x=\"111.230469\" xlink:href=\"#ArialMT-48\"/>\r\n      </g>\r\n     </g>\r\n    </g>\r\n    <g id=\"ytick_5\">\r\n     <g id=\"line2d_13\">\r\n      <path clip-path=\"url(#p5f5fb72d57)\" d=\"M 35.051094 228.576797 \r\nL 469.931094 228.576797 \r\n\" style=\"fill:none;stroke:#ffffff;stroke-linecap:round;\"/>\r\n     </g>\r\n     <g id=\"text_13\">\r\n      <!-- 400 -->\r\n      <g style=\"fill:#262626;\" transform=\"translate(7.2 232.513594)scale(0.11 -0.11)\">\r\n       <use xlink:href=\"#ArialMT-52\"/>\r\n       <use x=\"55.615234\" xlink:href=\"#ArialMT-48\"/>\r\n       <use x=\"111.230469\" xlink:href=\"#ArialMT-48\"/>\r\n      </g>\r\n     </g>\r\n    </g>\r\n    <g id=\"ytick_6\">\r\n     <g id=\"line2d_14\">\r\n      <path clip-path=\"url(#p5f5fb72d57)\" d=\"M 35.051094 282.936797 \r\nL 469.931094 282.936797 \r\n\" style=\"fill:none;stroke:#ffffff;stroke-linecap:round;\"/>\r\n     </g>\r\n     <g id=\"text_14\">\r\n      <!-- 500 -->\r\n      <g style=\"fill:#262626;\" transform=\"translate(7.2 286.873594)scale(0.11 -0.11)\">\r\n       <use xlink:href=\"#ArialMT-53\"/>\r\n       <use x=\"55.615234\" xlink:href=\"#ArialMT-48\"/>\r\n       <use x=\"111.230469\" xlink:href=\"#ArialMT-48\"/>\r\n      </g>\r\n     </g>\r\n    </g>\r\n    <g id=\"ytick_7\">\r\n     <g id=\"line2d_15\">\r\n      <path clip-path=\"url(#p5f5fb72d57)\" d=\"M 35.051094 337.296797 \r\nL 469.931094 337.296797 \r\n\" style=\"fill:none;stroke:#ffffff;stroke-linecap:round;\"/>\r\n     </g>\r\n     <g id=\"text_15\">\r\n      <!-- 600 -->\r\n      <g style=\"fill:#262626;\" transform=\"translate(7.2 341.233594)scale(0.11 -0.11)\">\r\n       <use xlink:href=\"#ArialMT-54\"/>\r\n       <use x=\"55.615234\" xlink:href=\"#ArialMT-48\"/>\r\n       <use x=\"111.230469\" xlink:href=\"#ArialMT-48\"/>\r\n      </g>\r\n     </g>\r\n    </g>\r\n    <g id=\"ytick_8\">\r\n     <g id=\"line2d_16\">\r\n      <path clip-path=\"url(#p5f5fb72d57)\" d=\"M 35.051094 391.656797 \r\nL 469.931094 391.656797 \r\n\" style=\"fill:none;stroke:#ffffff;stroke-linecap:round;\"/>\r\n     </g>\r\n     <g id=\"text_16\">\r\n      <!-- 700 -->\r\n      <g style=\"fill:#262626;\" transform=\"translate(7.2 395.593594)scale(0.11 -0.11)\">\r\n       <use xlink:href=\"#ArialMT-55\"/>\r\n       <use x=\"55.615234\" xlink:href=\"#ArialMT-48\"/>\r\n       <use x=\"111.230469\" xlink:href=\"#ArialMT-48\"/>\r\n      </g>\r\n     </g>\r\n    </g>\r\n   </g>\r\n   <g id=\"patch_3\">\r\n    <path d=\"M 35.051094 445.744997 \r\nL 35.051094 10.864997 \r\n\" style=\"fill:none;stroke:#ffffff;stroke-linecap:square;stroke-linejoin:miter;stroke-width:1.25;\"/>\r\n   </g>\r\n   <g id=\"patch_4\">\r\n    <path d=\"M 469.931094 445.744997 \r\nL 469.931094 10.864997 \r\n\" style=\"fill:none;stroke:#ffffff;stroke-linecap:square;stroke-linejoin:miter;stroke-width:1.25;\"/>\r\n   </g>\r\n   <g id=\"patch_5\">\r\n    <path d=\"M 35.051094 445.744997 \r\nL 469.931094 445.744997 \r\n\" style=\"fill:none;stroke:#ffffff;stroke-linecap:square;stroke-linejoin:miter;stroke-width:1.25;\"/>\r\n   </g>\r\n   <g id=\"patch_6\">\r\n    <path d=\"M 35.051094 10.864997 \r\nL 469.931094 10.864997 \r\n\" style=\"fill:none;stroke:#ffffff;stroke-linecap:square;stroke-linejoin:miter;stroke-width:1.25;\"/>\r\n   </g>\r\n  </g>\r\n </g>\r\n <defs>\r\n  <clipPath id=\"p5f5fb72d57\">\r\n   <rect height=\"434.88\" width=\"434.88\" x=\"35.051094\" y=\"10.864997\"/>\r\n  </clipPath>\r\n </defs>\r\n</svg>\r\n",
      "image/png": "[encoded data removed]"
     },
     "metadata": {}
    }
   ],
   "source": [
    "words_covid = list(itertools.chain(*covid_19_tweets['words_list'].tolist()))\n",
    "\n",
    "counts_words = collections.Counter(words_covid)\n",
    "\n",
    "wc = WordCloud(width = 800, height = 800, \n",
    "                background_color ='white', \n",
    "                min_font_size = 10).generate(\" \".join(counts_words)) \n",
    "                \n",
    "plt.figure(figsize=(10,8))\n",
    "plt.imshow(wc)"
   ]
  },
  {
   "source": [
    "# -------------------------------------------------------------------------\n",
    "## Sentiment Analysis"
   ],
   "cell_type": "markdown",
   "metadata": {}
  },
  {
   "cell_type": "code",
   "execution_count": 77,
   "metadata": {},
   "outputs": [],
   "source": [
    "sentiment_objects = [TextBlob(tweet) for tweet in covid_19_tweets]"
   ]
  },
  {
   "source": [
    "import plotly.figure_factory as ff\n",
    "\n",
    "sentiment_objects = [TextBlob(tweet) for tweet in covid_19_tweets['Tweet']]\n",
    "\n",
    "all_sentiment = [tweet.sentiment.polarity for tweet in sentiment_objects]\n",
    "pos_counter = 0\n",
    "neg_counter = 0\n",
    "neu_counter = 0\n",
    "\n",
    "print(len(covid_19_tweets))\n",
    "\n",
    "sentiment_values = [[tweet.sentiment.polarity, str(tweet)] for tweet in sentiment_objects]\n",
    "print(sentiment_values[0])\n",
    "# Create dataframe containing the polarity value and tweet text\n",
    "\n",
    "sentiment_df = pd.DataFrame(sentiment_values, columns=[\"polarity\", \"tweet\"])\n",
    "# sentiment_df = sentiment_df[sentiment_df.polarity != 0]\n",
    "#print(sentiment_df)\n",
    "x = sentiment_df['polarity'].values # array with polarity only\n",
    "\n",
    "sns.distplot(x, color = 'red');\n",
    "\n",
    "# Calculating the mean\n",
    "mean = sentiment_df['polarity'].mean()\n",
    "\n",
    "#ploting the mean\n",
    "plt.axvline(mean, 0,1, color = 'blue')\n",
    "\n",
    "plt.ylabel(\"Frequency (x100)\")\n",
    "plt.xlabel(\"Polarity\")\n",
    "\n",
    "      \n",
    "# plt.savefig('x.png')"
   ],
   "cell_type": "code",
   "metadata": {},
   "execution_count": 78,
   "outputs": [
    {
     "output_type": "stream",
     "name": "stdout",
     "text": [
      "25827\n[-0.11964285714285713, 'olganyc1211 hello fbi dhsgov id like report activated domestic terrorist cell namely catholic church america bioterrorism mass murder mean unchecked covid19 large gathering weaponized supreme court yes ill hold']\n"
     ]
    },
    {
     "output_type": "execute_result",
     "data": {
      "text/plain": [
       "Text(0.5, 0, 'Polarity')"
      ]
     },
     "metadata": {},
     "execution_count": 78
    },
    {
     "output_type": "display_data",
     "data": {
      "text/plain": "<Figure size 432x288 with 1 Axes>",
      "image/svg+xml": "<?xml version=\"1.0\" encoding=\"utf-8\" standalone=\"no\"?>\r\n<!DOCTYPE svg PUBLIC \"-//W3C//DTD SVG 1.1//EN\"\r\n  \"http://www.w3.org/Graphics/SVG/1.1/DTD/svg11.dtd\">\r\n<!-- Created with matplotlib (https://matplotlib.org/) -->\r\n<svg height=\"266.514844pt\" version=\"1.1\" viewBox=\"0 0 380.078281 266.514844\" width=\"380.078281pt\" xmlns=\"http://www.w3.org/2000/svg\" xmlns:xlink=\"http://www.w3.org/1999/xlink\">\r\n <defs>\r\n  <style type=\"text/css\">\r\n*{stroke-linecap:butt;stroke-linejoin:round;}\r\n  </style>\r\n </defs>\r\n <g id=\"figure_1\">\r\n  <g id=\"patch_1\">\r\n   <path d=\"M 0 266.514844 \r\nL 380.078281 266.514844 \r\nL 380.078281 0 \r\nL 0 0 \r\nz\r\n\" style=\"fill:#ffffff;\"/>\r\n  </g>\r\n  <g id=\"axes_1\">\r\n   <g id=\"patch_2\">\r\n    <path d=\"M 38.078281 224.64 \r\nL 372.878281 224.64 \r\nL 372.878281 7.2 \r\nL 38.078281 7.2 \r\nz\r\n\" style=\"fill:#eaeaf2;\"/>\r\n   </g>\r\n   <g id=\"matplotlib.axis_1\">\r\n    <g id=\"xtick_1\">\r\n     <g id=\"line2d_1\">\r\n      <path clip-path=\"url(#pfcf6eb64ce)\" d=\"M 62.146843 224.64 \r\nL 62.146843 7.2 \r\n\" style=\"fill:none;stroke:#ffffff;stroke-linecap:round;\"/>\r\n     </g>\r\n     <g id=\"text_1\">\r\n      <!-- −1.0 -->\r\n      <defs>\r\n       <path d=\"M 52.828125 31.203125 \r\nL 5.5625 31.203125 \r\nL 5.5625 39.40625 \r\nL 52.828125 39.40625 \r\nz\r\n\" id=\"ArialMT-8722\"/>\r\n       <path d=\"M 37.25 0 \r\nL 28.46875 0 \r\nL 28.46875 56 \r\nQ 25.296875 52.984375 20.140625 49.953125 \r\nQ 14.984375 46.921875 10.890625 45.40625 \r\nL 10.890625 53.90625 \r\nQ 18.265625 57.375 23.78125 62.296875 \r\nQ 29.296875 67.234375 31.59375 71.875 \r\nL 37.25 71.875 \r\nz\r\n\" id=\"ArialMT-49\"/>\r\n       <path d=\"M 9.078125 0 \r\nL 9.078125 10.015625 \r\nL 19.09375 10.015625 \r\nL 19.09375 0 \r\nz\r\n\" id=\"ArialMT-46\"/>\r\n       <path d=\"M 4.15625 35.296875 \r\nQ 4.15625 48 6.765625 55.734375 \r\nQ 9.375 63.484375 14.515625 67.671875 \r\nQ 19.671875 71.875 27.484375 71.875 \r\nQ 33.25 71.875 37.59375 69.546875 \r\nQ 41.9375 67.234375 44.765625 62.859375 \r\nQ 47.609375 58.5 49.21875 52.21875 \r\nQ 50.828125 45.953125 50.828125 35.296875 \r\nQ 50.828125 22.703125 48.234375 14.96875 \r\nQ 45.65625 7.234375 40.5 3 \r\nQ 35.359375 -1.21875 27.484375 -1.21875 \r\nQ 17.140625 -1.21875 11.234375 6.203125 \r\nQ 4.15625 15.140625 4.15625 35.296875 \r\nz\r\nM 13.1875 35.296875 \r\nQ 13.1875 17.671875 17.3125 11.828125 \r\nQ 21.4375 6 27.484375 6 \r\nQ 33.546875 6 37.671875 11.859375 \r\nQ 41.796875 17.71875 41.796875 35.296875 \r\nQ 41.796875 52.984375 37.671875 58.78125 \r\nQ 33.546875 64.59375 27.390625 64.59375 \r\nQ 21.34375 64.59375 17.71875 59.46875 \r\nQ 13.1875 52.9375 13.1875 35.296875 \r\nz\r\n\" id=\"ArialMT-48\"/>\r\n      </defs>\r\n      <g style=\"fill:#262626;\" transform=\"translate(51.289499 242.013594)scale(0.11 -0.11)\">\r\n       <use xlink:href=\"#ArialMT-8722\"/>\r\n       <use x=\"58.398438\" xlink:href=\"#ArialMT-49\"/>\r\n       <use x=\"114.013672\" xlink:href=\"#ArialMT-46\"/>\r\n       <use x=\"141.796875\" xlink:href=\"#ArialMT-48\"/>\r\n      </g>\r\n     </g>\r\n    </g>\r\n    <g id=\"xtick_2\">\r\n     <g id=\"line2d_2\">\r\n      <path clip-path=\"url(#pfcf6eb64ce)\" d=\"M 133.812562 224.64 \r\nL 133.812562 7.2 \r\n\" style=\"fill:none;stroke:#ffffff;stroke-linecap:round;\"/>\r\n     </g>\r\n     <g id=\"text_2\">\r\n      <!-- −0.5 -->\r\n      <defs>\r\n       <path d=\"M 4.15625 18.75 \r\nL 13.375 19.53125 \r\nQ 14.40625 12.796875 18.140625 9.390625 \r\nQ 21.875 6 27.15625 6 \r\nQ 33.5 6 37.890625 10.78125 \r\nQ 42.28125 15.578125 42.28125 23.484375 \r\nQ 42.28125 31 38.0625 35.34375 \r\nQ 33.84375 39.703125 27 39.703125 \r\nQ 22.75 39.703125 19.328125 37.765625 \r\nQ 15.921875 35.84375 13.96875 32.765625 \r\nL 5.71875 33.84375 \r\nL 12.640625 70.609375 \r\nL 48.25 70.609375 \r\nL 48.25 62.203125 \r\nL 19.671875 62.203125 \r\nL 15.828125 42.96875 \r\nQ 22.265625 47.46875 29.34375 47.46875 \r\nQ 38.71875 47.46875 45.15625 40.96875 \r\nQ 51.609375 34.46875 51.609375 24.265625 \r\nQ 51.609375 14.546875 45.953125 7.46875 \r\nQ 39.0625 -1.21875 27.15625 -1.21875 \r\nQ 17.390625 -1.21875 11.203125 4.25 \r\nQ 5.03125 9.71875 4.15625 18.75 \r\nz\r\n\" id=\"ArialMT-53\"/>\r\n      </defs>\r\n      <g style=\"fill:#262626;\" transform=\"translate(122.955218 242.013594)scale(0.11 -0.11)\">\r\n       <use xlink:href=\"#ArialMT-8722\"/>\r\n       <use x=\"58.398438\" xlink:href=\"#ArialMT-48\"/>\r\n       <use x=\"114.013672\" xlink:href=\"#ArialMT-46\"/>\r\n       <use x=\"141.796875\" xlink:href=\"#ArialMT-53\"/>\r\n      </g>\r\n     </g>\r\n    </g>\r\n    <g id=\"xtick_3\">\r\n     <g id=\"line2d_3\">\r\n      <path clip-path=\"url(#pfcf6eb64ce)\" d=\"M 205.478281 224.64 \r\nL 205.478281 7.2 \r\n\" style=\"fill:none;stroke:#ffffff;stroke-linecap:round;\"/>\r\n     </g>\r\n     <g id=\"text_3\">\r\n      <!-- 0.0 -->\r\n      <g style=\"fill:#262626;\" transform=\"translate(197.833281 242.013594)scale(0.11 -0.11)\">\r\n       <use xlink:href=\"#ArialMT-48\"/>\r\n       <use x=\"55.615234\" xlink:href=\"#ArialMT-46\"/>\r\n       <use x=\"83.398438\" xlink:href=\"#ArialMT-48\"/>\r\n      </g>\r\n     </g>\r\n    </g>\r\n    <g id=\"xtick_4\">\r\n     <g id=\"line2d_4\">\r\n      <path clip-path=\"url(#pfcf6eb64ce)\" d=\"M 277.144 224.64 \r\nL 277.144 7.2 \r\n\" style=\"fill:none;stroke:#ffffff;stroke-linecap:round;\"/>\r\n     </g>\r\n     <g id=\"text_4\">\r\n      <!-- 0.5 -->\r\n      <g style=\"fill:#262626;\" transform=\"translate(269.499 242.013594)scale(0.11 -0.11)\">\r\n       <use xlink:href=\"#ArialMT-48\"/>\r\n       <use x=\"55.615234\" xlink:href=\"#ArialMT-46\"/>\r\n       <use x=\"83.398438\" xlink:href=\"#ArialMT-53\"/>\r\n      </g>\r\n     </g>\r\n    </g>\r\n    <g id=\"xtick_5\">\r\n     <g id=\"line2d_5\">\r\n      <path clip-path=\"url(#pfcf6eb64ce)\" d=\"M 348.809719 224.64 \r\nL 348.809719 7.2 \r\n\" style=\"fill:none;stroke:#ffffff;stroke-linecap:round;\"/>\r\n     </g>\r\n     <g id=\"text_5\">\r\n      <!-- 1.0 -->\r\n      <g style=\"fill:#262626;\" transform=\"translate(341.164719 242.013594)scale(0.11 -0.11)\">\r\n       <use xlink:href=\"#ArialMT-49\"/>\r\n       <use x=\"55.615234\" xlink:href=\"#ArialMT-46\"/>\r\n       <use x=\"83.398438\" xlink:href=\"#ArialMT-48\"/>\r\n      </g>\r\n     </g>\r\n    </g>\r\n    <g id=\"text_6\">\r\n     <!-- Polarity -->\r\n     <defs>\r\n      <path d=\"M 7.71875 0 \r\nL 7.71875 71.578125 \r\nL 34.71875 71.578125 \r\nQ 41.84375 71.578125 45.609375 70.90625 \r\nQ 50.875 70.015625 54.4375 67.546875 \r\nQ 58.015625 65.09375 60.1875 60.640625 \r\nQ 62.359375 56.203125 62.359375 50.875 \r\nQ 62.359375 41.75 56.546875 35.421875 \r\nQ 50.734375 29.109375 35.546875 29.109375 \r\nL 17.1875 29.109375 \r\nL 17.1875 0 \r\nz\r\nM 17.1875 37.546875 \r\nL 35.6875 37.546875 \r\nQ 44.875 37.546875 48.734375 40.96875 \r\nQ 52.59375 44.390625 52.59375 50.59375 \r\nQ 52.59375 55.078125 50.3125 58.265625 \r\nQ 48.046875 61.46875 44.34375 62.5 \r\nQ 41.9375 63.140625 35.5 63.140625 \r\nL 17.1875 63.140625 \r\nz\r\n\" id=\"ArialMT-80\"/>\r\n      <path d=\"M 3.328125 25.921875 \r\nQ 3.328125 40.328125 11.328125 47.265625 \r\nQ 18.015625 53.03125 27.640625 53.03125 \r\nQ 38.328125 53.03125 45.109375 46.015625 \r\nQ 51.90625 39.015625 51.90625 26.65625 \r\nQ 51.90625 16.65625 48.90625 10.90625 \r\nQ 45.90625 5.171875 40.15625 2 \r\nQ 34.421875 -1.171875 27.640625 -1.171875 \r\nQ 16.75 -1.171875 10.03125 5.8125 \r\nQ 3.328125 12.796875 3.328125 25.921875 \r\nz\r\nM 12.359375 25.921875 \r\nQ 12.359375 15.96875 16.703125 11.015625 \r\nQ 21.046875 6.0625 27.640625 6.0625 \r\nQ 34.1875 6.0625 38.53125 11.03125 \r\nQ 42.875 16.015625 42.875 26.21875 \r\nQ 42.875 35.84375 38.5 40.796875 \r\nQ 34.125 45.75 27.640625 45.75 \r\nQ 21.046875 45.75 16.703125 40.8125 \r\nQ 12.359375 35.890625 12.359375 25.921875 \r\nz\r\n\" id=\"ArialMT-111\"/>\r\n      <path d=\"M 6.390625 0 \r\nL 6.390625 71.578125 \r\nL 15.1875 71.578125 \r\nL 15.1875 0 \r\nz\r\n\" id=\"ArialMT-108\"/>\r\n      <path d=\"M 40.4375 6.390625 \r\nQ 35.546875 2.25 31.03125 0.53125 \r\nQ 26.515625 -1.171875 21.34375 -1.171875 \r\nQ 12.796875 -1.171875 8.203125 3 \r\nQ 3.609375 7.171875 3.609375 13.671875 \r\nQ 3.609375 17.484375 5.34375 20.625 \r\nQ 7.078125 23.78125 9.890625 25.6875 \r\nQ 12.703125 27.59375 16.21875 28.5625 \r\nQ 18.796875 29.25 24.03125 29.890625 \r\nQ 34.671875 31.15625 39.703125 32.90625 \r\nQ 39.75 34.71875 39.75 35.203125 \r\nQ 39.75 40.578125 37.25 42.78125 \r\nQ 33.890625 45.75 27.25 45.75 \r\nQ 21.046875 45.75 18.09375 43.578125 \r\nQ 15.140625 41.40625 13.71875 35.890625 \r\nL 5.125 37.0625 \r\nQ 6.296875 42.578125 8.984375 45.96875 \r\nQ 11.671875 49.359375 16.75 51.1875 \r\nQ 21.828125 53.03125 28.515625 53.03125 \r\nQ 35.15625 53.03125 39.296875 51.46875 \r\nQ 43.453125 49.90625 45.40625 47.53125 \r\nQ 47.359375 45.171875 48.140625 41.546875 \r\nQ 48.578125 39.3125 48.578125 33.453125 \r\nL 48.578125 21.734375 \r\nQ 48.578125 9.46875 49.140625 6.21875 \r\nQ 49.703125 2.984375 51.375 0 \r\nL 42.1875 0 \r\nQ 40.828125 2.734375 40.4375 6.390625 \r\nz\r\nM 39.703125 26.03125 \r\nQ 34.90625 24.078125 25.34375 22.703125 \r\nQ 19.921875 21.921875 17.671875 20.9375 \r\nQ 15.4375 19.96875 14.203125 18.09375 \r\nQ 12.984375 16.21875 12.984375 13.921875 \r\nQ 12.984375 10.40625 15.640625 8.0625 \r\nQ 18.3125 5.71875 23.4375 5.71875 \r\nQ 28.515625 5.71875 32.46875 7.9375 \r\nQ 36.421875 10.15625 38.28125 14.015625 \r\nQ 39.703125 17 39.703125 22.796875 \r\nz\r\n\" id=\"ArialMT-97\"/>\r\n      <path d=\"M 6.5 0 \r\nL 6.5 51.859375 \r\nL 14.40625 51.859375 \r\nL 14.40625 44 \r\nQ 17.4375 49.515625 20 51.265625 \r\nQ 22.5625 53.03125 25.640625 53.03125 \r\nQ 30.078125 53.03125 34.671875 50.203125 \r\nL 31.640625 42.046875 \r\nQ 28.421875 43.953125 25.203125 43.953125 \r\nQ 22.3125 43.953125 20.015625 42.21875 \r\nQ 17.71875 40.484375 16.75 37.40625 \r\nQ 15.28125 32.71875 15.28125 27.15625 \r\nL 15.28125 0 \r\nz\r\n\" id=\"ArialMT-114\"/>\r\n      <path d=\"M 6.640625 61.46875 \r\nL 6.640625 71.578125 \r\nL 15.4375 71.578125 \r\nL 15.4375 61.46875 \r\nz\r\nM 6.640625 0 \r\nL 6.640625 51.859375 \r\nL 15.4375 51.859375 \r\nL 15.4375 0 \r\nz\r\n\" id=\"ArialMT-105\"/>\r\n      <path d=\"M 25.78125 7.859375 \r\nL 27.046875 0.09375 \r\nQ 23.34375 -0.6875 20.40625 -0.6875 \r\nQ 15.625 -0.6875 12.984375 0.828125 \r\nQ 10.359375 2.34375 9.28125 4.8125 \r\nQ 8.203125 7.28125 8.203125 15.1875 \r\nL 8.203125 45.015625 \r\nL 1.765625 45.015625 \r\nL 1.765625 51.859375 \r\nL 8.203125 51.859375 \r\nL 8.203125 64.703125 \r\nL 16.9375 69.96875 \r\nL 16.9375 51.859375 \r\nL 25.78125 51.859375 \r\nL 25.78125 45.015625 \r\nL 16.9375 45.015625 \r\nL 16.9375 14.703125 \r\nQ 16.9375 10.9375 17.40625 9.859375 \r\nQ 17.875 8.796875 18.921875 8.15625 \r\nQ 19.96875 7.515625 21.921875 7.515625 \r\nQ 23.390625 7.515625 25.78125 7.859375 \r\nz\r\n\" id=\"ArialMT-116\"/>\r\n      <path d=\"M 6.203125 -19.96875 \r\nL 5.21875 -11.71875 \r\nQ 8.109375 -12.5 10.25 -12.5 \r\nQ 13.1875 -12.5 14.9375 -11.515625 \r\nQ 16.703125 -10.546875 17.828125 -8.796875 \r\nQ 18.65625 -7.46875 20.515625 -2.25 \r\nQ 20.75 -1.515625 21.296875 -0.09375 \r\nL 1.609375 51.859375 \r\nL 11.078125 51.859375 \r\nL 21.875 21.828125 \r\nQ 23.96875 16.109375 25.640625 9.8125 \r\nQ 27.15625 15.875 29.25 21.625 \r\nL 40.328125 51.859375 \r\nL 49.125 51.859375 \r\nL 29.390625 -0.875 \r\nQ 26.21875 -9.421875 24.46875 -12.640625 \r\nQ 22.125 -17 19.09375 -19.015625 \r\nQ 16.0625 -21.046875 11.859375 -21.046875 \r\nQ 9.328125 -21.046875 6.203125 -19.96875 \r\nz\r\n\" id=\"ArialMT-121\"/>\r\n     </defs>\r\n     <g style=\"fill:#262626;\" transform=\"translate(185.472031 256.789219)scale(0.12 -0.12)\">\r\n      <use xlink:href=\"#ArialMT-80\"/>\r\n      <use x=\"66.699219\" xlink:href=\"#ArialMT-111\"/>\r\n      <use x=\"122.314453\" xlink:href=\"#ArialMT-108\"/>\r\n      <use x=\"144.53125\" xlink:href=\"#ArialMT-97\"/>\r\n      <use x=\"200.146484\" xlink:href=\"#ArialMT-114\"/>\r\n      <use x=\"233.447266\" xlink:href=\"#ArialMT-105\"/>\r\n      <use x=\"255.664062\" xlink:href=\"#ArialMT-116\"/>\r\n      <use x=\"283.447266\" xlink:href=\"#ArialMT-121\"/>\r\n     </g>\r\n    </g>\r\n   </g>\r\n   <g id=\"matplotlib.axis_2\">\r\n    <g id=\"ytick_1\">\r\n     <g id=\"line2d_6\">\r\n      <path clip-path=\"url(#pfcf6eb64ce)\" d=\"M 38.078281 224.64 \r\nL 372.878281 224.64 \r\n\" style=\"fill:none;stroke:#ffffff;stroke-linecap:round;\"/>\r\n     </g>\r\n     <g id=\"text_7\">\r\n      <!-- 0 -->\r\n      <g style=\"fill:#262626;\" transform=\"translate(22.46125 228.576797)scale(0.11 -0.11)\">\r\n       <use xlink:href=\"#ArialMT-48\"/>\r\n      </g>\r\n     </g>\r\n    </g>\r\n    <g id=\"ytick_2\">\r\n     <g id=\"line2d_7\">\r\n      <path clip-path=\"url(#pfcf6eb64ce)\" d=\"M 38.078281 176.998065 \r\nL 372.878281 176.998065 \r\n\" style=\"fill:none;stroke:#ffffff;stroke-linecap:round;\"/>\r\n     </g>\r\n     <g id=\"text_8\">\r\n      <!-- 2 -->\r\n      <defs>\r\n       <path d=\"M 50.34375 8.453125 \r\nL 50.34375 0 \r\nL 3.03125 0 \r\nQ 2.9375 3.171875 4.046875 6.109375 \r\nQ 5.859375 10.9375 9.828125 15.625 \r\nQ 13.8125 20.3125 21.34375 26.46875 \r\nQ 33.015625 36.03125 37.109375 41.625 \r\nQ 41.21875 47.21875 41.21875 52.203125 \r\nQ 41.21875 57.421875 37.46875 61 \r\nQ 33.734375 64.59375 27.734375 64.59375 \r\nQ 21.390625 64.59375 17.578125 60.78125 \r\nQ 13.765625 56.984375 13.71875 50.25 \r\nL 4.6875 51.171875 \r\nQ 5.609375 61.28125 11.65625 66.578125 \r\nQ 17.71875 71.875 27.9375 71.875 \r\nQ 38.234375 71.875 44.234375 66.15625 \r\nQ 50.25 60.453125 50.25 52 \r\nQ 50.25 47.703125 48.484375 43.546875 \r\nQ 46.734375 39.40625 42.65625 34.8125 \r\nQ 38.578125 30.21875 29.109375 22.21875 \r\nQ 21.1875 15.578125 18.9375 13.203125 \r\nQ 16.703125 10.84375 15.234375 8.453125 \r\nz\r\n\" id=\"ArialMT-50\"/>\r\n      </defs>\r\n      <g style=\"fill:#262626;\" transform=\"translate(22.46125 180.934862)scale(0.11 -0.11)\">\r\n       <use xlink:href=\"#ArialMT-50\"/>\r\n      </g>\r\n     </g>\r\n    </g>\r\n    <g id=\"ytick_3\">\r\n     <g id=\"line2d_8\">\r\n      <path clip-path=\"url(#pfcf6eb64ce)\" d=\"M 38.078281 129.35613 \r\nL 372.878281 129.35613 \r\n\" style=\"fill:none;stroke:#ffffff;stroke-linecap:round;\"/>\r\n     </g>\r\n     <g id=\"text_9\">\r\n      <!-- 4 -->\r\n      <defs>\r\n       <path d=\"M 32.328125 0 \r\nL 32.328125 17.140625 \r\nL 1.265625 17.140625 \r\nL 1.265625 25.203125 \r\nL 33.9375 71.578125 \r\nL 41.109375 71.578125 \r\nL 41.109375 25.203125 \r\nL 50.78125 25.203125 \r\nL 50.78125 17.140625 \r\nL 41.109375 17.140625 \r\nL 41.109375 0 \r\nz\r\nM 32.328125 25.203125 \r\nL 32.328125 57.46875 \r\nL 9.90625 25.203125 \r\nz\r\n\" id=\"ArialMT-52\"/>\r\n      </defs>\r\n      <g style=\"fill:#262626;\" transform=\"translate(22.46125 133.292927)scale(0.11 -0.11)\">\r\n       <use xlink:href=\"#ArialMT-52\"/>\r\n      </g>\r\n     </g>\r\n    </g>\r\n    <g id=\"ytick_4\">\r\n     <g id=\"line2d_9\">\r\n      <path clip-path=\"url(#pfcf6eb64ce)\" d=\"M 38.078281 81.714195 \r\nL 372.878281 81.714195 \r\n\" style=\"fill:none;stroke:#ffffff;stroke-linecap:round;\"/>\r\n     </g>\r\n     <g id=\"text_10\">\r\n      <!-- 6 -->\r\n      <defs>\r\n       <path d=\"M 49.75 54.046875 \r\nL 41.015625 53.375 \r\nQ 39.84375 58.546875 37.703125 60.890625 \r\nQ 34.125 64.65625 28.90625 64.65625 \r\nQ 24.703125 64.65625 21.53125 62.3125 \r\nQ 17.390625 59.28125 14.984375 53.46875 \r\nQ 12.59375 47.65625 12.5 36.921875 \r\nQ 15.671875 41.75 20.265625 44.09375 \r\nQ 24.859375 46.4375 29.890625 46.4375 \r\nQ 38.671875 46.4375 44.84375 39.96875 \r\nQ 51.03125 33.5 51.03125 23.25 \r\nQ 51.03125 16.5 48.125 10.71875 \r\nQ 45.21875 4.9375 40.140625 1.859375 \r\nQ 35.0625 -1.21875 28.609375 -1.21875 \r\nQ 17.625 -1.21875 10.6875 6.859375 \r\nQ 3.765625 14.9375 3.765625 33.5 \r\nQ 3.765625 54.25 11.421875 63.671875 \r\nQ 18.109375 71.875 29.4375 71.875 \r\nQ 37.890625 71.875 43.28125 67.140625 \r\nQ 48.6875 62.40625 49.75 54.046875 \r\nz\r\nM 13.875 23.1875 \r\nQ 13.875 18.65625 15.796875 14.5 \r\nQ 17.71875 10.359375 21.1875 8.171875 \r\nQ 24.65625 6 28.46875 6 \r\nQ 34.03125 6 38.03125 10.484375 \r\nQ 42.046875 14.984375 42.046875 22.703125 \r\nQ 42.046875 30.125 38.078125 34.390625 \r\nQ 34.125 38.671875 28.125 38.671875 \r\nQ 22.171875 38.671875 18.015625 34.390625 \r\nQ 13.875 30.125 13.875 23.1875 \r\nz\r\n\" id=\"ArialMT-54\"/>\r\n      </defs>\r\n      <g style=\"fill:#262626;\" transform=\"translate(22.46125 85.650991)scale(0.11 -0.11)\">\r\n       <use xlink:href=\"#ArialMT-54\"/>\r\n      </g>\r\n     </g>\r\n    </g>\r\n    <g id=\"ytick_5\">\r\n     <g id=\"line2d_10\">\r\n      <path clip-path=\"url(#pfcf6eb64ce)\" d=\"M 38.078281 34.072259 \r\nL 372.878281 34.072259 \r\n\" style=\"fill:none;stroke:#ffffff;stroke-linecap:round;\"/>\r\n     </g>\r\n     <g id=\"text_11\">\r\n      <!-- 8 -->\r\n      <defs>\r\n       <path d=\"M 17.671875 38.8125 \r\nQ 12.203125 40.828125 9.5625 44.53125 \r\nQ 6.9375 48.25 6.9375 53.421875 \r\nQ 6.9375 61.234375 12.546875 66.546875 \r\nQ 18.171875 71.875 27.484375 71.875 \r\nQ 36.859375 71.875 42.578125 66.421875 \r\nQ 48.296875 60.984375 48.296875 53.171875 \r\nQ 48.296875 48.1875 45.671875 44.5 \r\nQ 43.0625 40.828125 37.75 38.8125 \r\nQ 44.34375 36.671875 47.78125 31.875 \r\nQ 51.21875 27.09375 51.21875 20.453125 \r\nQ 51.21875 11.28125 44.71875 5.03125 \r\nQ 38.234375 -1.21875 27.640625 -1.21875 \r\nQ 17.046875 -1.21875 10.546875 5.046875 \r\nQ 4.046875 11.328125 4.046875 20.703125 \r\nQ 4.046875 27.6875 7.59375 32.390625 \r\nQ 11.140625 37.109375 17.671875 38.8125 \r\nz\r\nM 15.921875 53.71875 \r\nQ 15.921875 48.640625 19.1875 45.40625 \r\nQ 22.46875 42.1875 27.6875 42.1875 \r\nQ 32.765625 42.1875 36.015625 45.375 \r\nQ 39.265625 48.578125 39.265625 53.21875 \r\nQ 39.265625 58.0625 35.90625 61.359375 \r\nQ 32.5625 64.65625 27.59375 64.65625 \r\nQ 22.5625 64.65625 19.234375 61.421875 \r\nQ 15.921875 58.203125 15.921875 53.71875 \r\nz\r\nM 13.09375 20.65625 \r\nQ 13.09375 16.890625 14.875 13.375 \r\nQ 16.65625 9.859375 20.171875 7.921875 \r\nQ 23.6875 6 27.734375 6 \r\nQ 34.03125 6 38.125 10.046875 \r\nQ 42.234375 14.109375 42.234375 20.359375 \r\nQ 42.234375 26.703125 38.015625 30.859375 \r\nQ 33.796875 35.015625 27.4375 35.015625 \r\nQ 21.234375 35.015625 17.15625 30.90625 \r\nQ 13.09375 26.8125 13.09375 20.65625 \r\nz\r\n\" id=\"ArialMT-56\"/>\r\n      </defs>\r\n      <g style=\"fill:#262626;\" transform=\"translate(22.46125 38.009056)scale(0.11 -0.11)\">\r\n       <use xlink:href=\"#ArialMT-56\"/>\r\n      </g>\r\n     </g>\r\n    </g>\r\n    <g id=\"text_12\">\r\n     <!-- Frequency (x100) -->\r\n     <defs>\r\n      <path d=\"M 8.203125 0 \r\nL 8.203125 71.578125 \r\nL 56.5 71.578125 \r\nL 56.5 63.140625 \r\nL 17.671875 63.140625 \r\nL 17.671875 40.96875 \r\nL 51.265625 40.96875 \r\nL 51.265625 32.515625 \r\nL 17.671875 32.515625 \r\nL 17.671875 0 \r\nz\r\n\" id=\"ArialMT-70\"/>\r\n      <path d=\"M 42.09375 16.703125 \r\nL 51.171875 15.578125 \r\nQ 49.03125 7.625 43.21875 3.21875 \r\nQ 37.40625 -1.171875 28.375 -1.171875 \r\nQ 17 -1.171875 10.328125 5.828125 \r\nQ 3.65625 12.84375 3.65625 25.484375 \r\nQ 3.65625 38.578125 10.390625 45.796875 \r\nQ 17.140625 53.03125 27.875 53.03125 \r\nQ 38.28125 53.03125 44.875 45.953125 \r\nQ 51.46875 38.875 51.46875 26.03125 \r\nQ 51.46875 25.25 51.421875 23.6875 \r\nL 12.75 23.6875 \r\nQ 13.234375 15.140625 17.578125 10.59375 \r\nQ 21.921875 6.0625 28.421875 6.0625 \r\nQ 33.25 6.0625 36.671875 8.59375 \r\nQ 40.09375 11.140625 42.09375 16.703125 \r\nz\r\nM 13.234375 30.90625 \r\nL 42.1875 30.90625 \r\nQ 41.609375 37.453125 38.875 40.71875 \r\nQ 34.671875 45.796875 27.984375 45.796875 \r\nQ 21.921875 45.796875 17.796875 41.75 \r\nQ 13.671875 37.703125 13.234375 30.90625 \r\nz\r\n\" id=\"ArialMT-101\"/>\r\n      <path d=\"M 39.65625 -19.875 \r\nL 39.65625 5.515625 \r\nQ 37.59375 2.640625 33.90625 0.734375 \r\nQ 30.21875 -1.171875 26.078125 -1.171875 \r\nQ 16.84375 -1.171875 10.171875 6.203125 \r\nQ 3.515625 13.578125 3.515625 26.421875 \r\nQ 3.515625 34.234375 6.21875 40.421875 \r\nQ 8.9375 46.625 14.078125 49.828125 \r\nQ 19.234375 53.03125 25.390625 53.03125 \r\nQ 35.015625 53.03125 40.53125 44.921875 \r\nL 40.53125 51.859375 \r\nL 48.4375 51.859375 \r\nL 48.4375 -19.875 \r\nz\r\nM 12.546875 26.078125 \r\nQ 12.546875 16.0625 16.75 11.0625 \r\nQ 20.953125 6.0625 26.8125 6.0625 \r\nQ 32.421875 6.0625 36.46875 10.8125 \r\nQ 40.53125 15.578125 40.53125 25.296875 \r\nQ 40.53125 35.640625 36.25 40.859375 \r\nQ 31.984375 46.09375 26.21875 46.09375 \r\nQ 20.515625 46.09375 16.53125 41.234375 \r\nQ 12.546875 36.375 12.546875 26.078125 \r\nz\r\n\" id=\"ArialMT-113\"/>\r\n      <path d=\"M 40.578125 0 \r\nL 40.578125 7.625 \r\nQ 34.515625 -1.171875 24.125 -1.171875 \r\nQ 19.53125 -1.171875 15.546875 0.578125 \r\nQ 11.578125 2.34375 9.640625 5 \r\nQ 7.71875 7.671875 6.9375 11.53125 \r\nQ 6.390625 14.109375 6.390625 19.734375 \r\nL 6.390625 51.859375 \r\nL 15.1875 51.859375 \r\nL 15.1875 23.09375 \r\nQ 15.1875 16.21875 15.71875 13.8125 \r\nQ 16.546875 10.359375 19.234375 8.375 \r\nQ 21.921875 6.390625 25.875 6.390625 \r\nQ 29.828125 6.390625 33.296875 8.421875 \r\nQ 36.765625 10.453125 38.203125 13.9375 \r\nQ 39.65625 17.4375 39.65625 24.078125 \r\nL 39.65625 51.859375 \r\nL 48.4375 51.859375 \r\nL 48.4375 0 \r\nz\r\n\" id=\"ArialMT-117\"/>\r\n      <path d=\"M 6.59375 0 \r\nL 6.59375 51.859375 \r\nL 14.5 51.859375 \r\nL 14.5 44.484375 \r\nQ 20.21875 53.03125 31 53.03125 \r\nQ 35.6875 53.03125 39.625 51.34375 \r\nQ 43.5625 49.65625 45.515625 46.921875 \r\nQ 47.46875 44.1875 48.25 40.4375 \r\nQ 48.734375 37.984375 48.734375 31.890625 \r\nL 48.734375 0 \r\nL 39.9375 0 \r\nL 39.9375 31.546875 \r\nQ 39.9375 36.921875 38.90625 39.578125 \r\nQ 37.890625 42.234375 35.28125 43.8125 \r\nQ 32.671875 45.40625 29.15625 45.40625 \r\nQ 23.53125 45.40625 19.453125 41.84375 \r\nQ 15.375 38.28125 15.375 28.328125 \r\nL 15.375 0 \r\nz\r\n\" id=\"ArialMT-110\"/>\r\n      <path d=\"M 40.4375 19 \r\nL 49.078125 17.875 \r\nQ 47.65625 8.9375 41.8125 3.875 \r\nQ 35.984375 -1.171875 27.484375 -1.171875 \r\nQ 16.84375 -1.171875 10.375 5.78125 \r\nQ 3.90625 12.75 3.90625 25.734375 \r\nQ 3.90625 34.125 6.6875 40.421875 \r\nQ 9.46875 46.734375 15.15625 49.875 \r\nQ 20.84375 53.03125 27.546875 53.03125 \r\nQ 35.984375 53.03125 41.359375 48.75 \r\nQ 46.734375 44.484375 48.25 36.625 \r\nL 39.703125 35.296875 \r\nQ 38.484375 40.53125 35.375 43.15625 \r\nQ 32.28125 45.796875 27.875 45.796875 \r\nQ 21.234375 45.796875 17.078125 41.03125 \r\nQ 12.9375 36.28125 12.9375 25.984375 \r\nQ 12.9375 15.53125 16.9375 10.796875 \r\nQ 20.953125 6.0625 27.390625 6.0625 \r\nQ 32.5625 6.0625 36.03125 9.234375 \r\nQ 39.5 12.40625 40.4375 19 \r\nz\r\n\" id=\"ArialMT-99\"/>\r\n      <path id=\"ArialMT-32\"/>\r\n      <path d=\"M 23.390625 -21.046875 \r\nQ 16.109375 -11.859375 11.078125 0.4375 \r\nQ 6.0625 12.75 6.0625 25.921875 \r\nQ 6.0625 37.546875 9.8125 48.1875 \r\nQ 14.203125 60.546875 23.390625 72.796875 \r\nL 29.6875 72.796875 \r\nQ 23.78125 62.640625 21.875 58.296875 \r\nQ 18.890625 51.5625 17.1875 44.234375 \r\nQ 15.09375 35.109375 15.09375 25.875 \r\nQ 15.09375 2.390625 29.6875 -21.046875 \r\nz\r\n\" id=\"ArialMT-40\"/>\r\n      <path d=\"M 0.734375 0 \r\nL 19.671875 26.953125 \r\nL 2.15625 51.859375 \r\nL 13.140625 51.859375 \r\nL 21.09375 39.703125 \r\nQ 23.34375 36.234375 24.703125 33.890625 \r\nQ 26.859375 37.109375 28.65625 39.59375 \r\nL 37.40625 51.859375 \r\nL 47.90625 51.859375 \r\nL 29.984375 27.4375 \r\nL 49.265625 0 \r\nL 38.484375 0 \r\nL 27.828125 16.109375 \r\nL 25 20.453125 \r\nL 11.375 0 \r\nz\r\n\" id=\"ArialMT-120\"/>\r\n      <path d=\"M 12.359375 -21.046875 \r\nL 6.0625 -21.046875 \r\nQ 20.65625 2.390625 20.65625 25.875 \r\nQ 20.65625 35.0625 18.5625 44.09375 \r\nQ 16.890625 51.421875 13.921875 58.15625 \r\nQ 12.015625 62.546875 6.0625 72.796875 \r\nL 12.359375 72.796875 \r\nQ 21.53125 60.546875 25.921875 48.1875 \r\nQ 29.6875 37.546875 29.6875 25.921875 \r\nQ 29.6875 12.75 24.625 0.4375 \r\nQ 19.578125 -11.859375 12.359375 -21.046875 \r\nz\r\n\" id=\"ArialMT-41\"/>\r\n     </defs>\r\n     <g style=\"fill:#262626;\" transform=\"translate(15.935625 162.9375)rotate(-90)scale(0.12 -0.12)\">\r\n      <use xlink:href=\"#ArialMT-70\"/>\r\n      <use x=\"61.083984\" xlink:href=\"#ArialMT-114\"/>\r\n      <use x=\"94.384766\" xlink:href=\"#ArialMT-101\"/>\r\n      <use x=\"150\" xlink:href=\"#ArialMT-113\"/>\r\n      <use x=\"205.615234\" xlink:href=\"#ArialMT-117\"/>\r\n      <use x=\"261.230469\" xlink:href=\"#ArialMT-101\"/>\r\n      <use x=\"316.845703\" xlink:href=\"#ArialMT-110\"/>\r\n      <use x=\"372.460938\" xlink:href=\"#ArialMT-99\"/>\r\n      <use x=\"422.460938\" xlink:href=\"#ArialMT-121\"/>\r\n      <use x=\"472.460938\" xlink:href=\"#ArialMT-32\"/>\r\n      <use x=\"500.244141\" xlink:href=\"#ArialMT-40\"/>\r\n      <use x=\"533.544922\" xlink:href=\"#ArialMT-120\"/>\r\n      <use x=\"583.544922\" xlink:href=\"#ArialMT-49\"/>\r\n      <use x=\"639.160156\" xlink:href=\"#ArialMT-48\"/>\r\n      <use x=\"694.775391\" xlink:href=\"#ArialMT-48\"/>\r\n      <use x=\"750.390625\" xlink:href=\"#ArialMT-41\"/>\r\n     </g>\r\n    </g>\r\n   </g>\r\n   <g id=\"patch_3\">\r\n    <path clip-path=\"url(#pfcf6eb64ce)\" d=\"M 62.146843 224.64 \r\nL 67.880101 224.64 \r\nL 67.880101 222.795344 \r\nL 62.146843 222.795344 \r\nz\r\n\" style=\"fill:#ff0000;opacity:0.4;stroke:#ffffff;stroke-linejoin:miter;\"/>\r\n   </g>\r\n   <g id=\"patch_4\">\r\n    <path clip-path=\"url(#pfcf6eb64ce)\" d=\"M 67.880101 224.64 \r\nL 73.613358 224.64 \r\nL 73.613358 224.64 \r\nL 67.880101 224.64 \r\nz\r\n\" style=\"fill:#ff0000;opacity:0.4;stroke:#ffffff;stroke-linejoin:miter;\"/>\r\n   </g>\r\n   <g id=\"patch_5\">\r\n    <path clip-path=\"url(#pfcf6eb64ce)\" d=\"M 73.613358 224.64 \r\nL 79.346616 224.64 \r\nL 79.346616 224.432476 \r\nL 73.613358 224.432476 \r\nz\r\n\" style=\"fill:#ff0000;opacity:0.4;stroke:#ffffff;stroke-linejoin:miter;\"/>\r\n   </g>\r\n   <g id=\"patch_6\">\r\n    <path clip-path=\"url(#pfcf6eb64ce)\" d=\"M 79.346616 224.64 \r\nL 85.079873 224.64 \r\nL 85.079873 224.547767 \r\nL 79.346616 224.547767 \r\nz\r\n\" style=\"fill:#ff0000;opacity:0.4;stroke:#ffffff;stroke-linejoin:miter;\"/>\r\n   </g>\r\n   <g id=\"patch_7\">\r\n    <path clip-path=\"url(#pfcf6eb64ce)\" d=\"M 85.079873 224.64 \r\nL 90.813131 224.64 \r\nL 90.813131 224.616942 \r\nL 85.079873 224.616942 \r\nz\r\n\" style=\"fill:#ff0000;opacity:0.4;stroke:#ffffff;stroke-linejoin:miter;\"/>\r\n   </g>\r\n   <g id=\"patch_8\">\r\n    <path clip-path=\"url(#pfcf6eb64ce)\" d=\"M 90.813131 224.64 \r\nL 96.546388 224.64 \r\nL 96.546388 222.541704 \r\nL 90.813131 222.541704 \r\nz\r\n\" style=\"fill:#ff0000;opacity:0.4;stroke:#ffffff;stroke-linejoin:miter;\"/>\r\n   </g>\r\n   <g id=\"patch_9\">\r\n    <path clip-path=\"url(#pfcf6eb64ce)\" d=\"M 96.546388 224.64 \r\nL 102.279646 224.64 \r\nL 102.279646 224.201894 \r\nL 96.546388 224.201894 \r\nz\r\n\" style=\"fill:#ff0000;opacity:0.4;stroke:#ffffff;stroke-linejoin:miter;\"/>\r\n   </g>\r\n   <g id=\"patch_10\">\r\n    <path clip-path=\"url(#pfcf6eb64ce)\" d=\"M 102.279646 224.64 \r\nL 108.012903 224.64 \r\nL 108.012903 222.311122 \r\nL 102.279646 222.311122 \r\nz\r\n\" style=\"fill:#ff0000;opacity:0.4;stroke:#ffffff;stroke-linejoin:miter;\"/>\r\n   </g>\r\n   <g id=\"patch_11\">\r\n    <path clip-path=\"url(#pfcf6eb64ce)\" d=\"M 108.012903 224.64 \r\nL 113.746161 224.64 \r\nL 113.746161 223.902138 \r\nL 108.012903 223.902138 \r\nz\r\n\" style=\"fill:#ff0000;opacity:0.4;stroke:#ffffff;stroke-linejoin:miter;\"/>\r\n   </g>\r\n   <g id=\"patch_12\">\r\n    <path clip-path=\"url(#pfcf6eb64ce)\" d=\"M 113.746161 224.64 \r\nL 119.479418 224.64 \r\nL 119.479418 224.271069 \r\nL 113.746161 224.271069 \r\nz\r\n\" style=\"fill:#ff0000;opacity:0.4;stroke:#ffffff;stroke-linejoin:miter;\"/>\r\n   </g>\r\n   <g id=\"patch_13\">\r\n    <path clip-path=\"url(#pfcf6eb64ce)\" d=\"M 119.479418 224.64 \r\nL 125.212676 224.64 \r\nL 125.212676 221.365735 \r\nL 119.479418 221.365735 \r\nz\r\n\" style=\"fill:#ff0000;opacity:0.4;stroke:#ffffff;stroke-linejoin:miter;\"/>\r\n   </g>\r\n   <g id=\"patch_14\">\r\n    <path clip-path=\"url(#pfcf6eb64ce)\" d=\"M 125.212676 224.64 \r\nL 130.945933 224.64 \r\nL 130.945933 223.809905 \r\nL 125.212676 223.809905 \r\nz\r\n\" style=\"fill:#ff0000;opacity:0.4;stroke:#ffffff;stroke-linejoin:miter;\"/>\r\n   </g>\r\n   <g id=\"patch_15\">\r\n    <path clip-path=\"url(#pfcf6eb64ce)\" d=\"M 130.945933 224.64 \r\nL 136.679191 224.64 \r\nL 136.679191 217.099968 \r\nL 130.945933 217.099968 \r\nz\r\n\" style=\"fill:#ff0000;opacity:0.4;stroke:#ffffff;stroke-linejoin:miter;\"/>\r\n   </g>\r\n   <g id=\"patch_16\">\r\n    <path clip-path=\"url(#pfcf6eb64ce)\" d=\"M 136.679191 224.64 \r\nL 142.412449 224.64 \r\nL 142.412449 222.518645 \r\nL 136.679191 222.518645 \r\nz\r\n\" style=\"fill:#ff0000;opacity:0.4;stroke:#ffffff;stroke-linejoin:miter;\"/>\r\n   </g>\r\n   <g id=\"patch_17\">\r\n    <path clip-path=\"url(#pfcf6eb64ce)\" d=\"M 142.412449 224.64 \r\nL 148.145706 224.64 \r\nL 148.145706 223.371799 \r\nL 142.412449 223.371799 \r\nz\r\n\" style=\"fill:#ff0000;opacity:0.4;stroke:#ffffff;stroke-linejoin:miter;\"/>\r\n   </g>\r\n   <g id=\"patch_18\">\r\n    <path clip-path=\"url(#pfcf6eb64ce)\" d=\"M 148.145706 224.64 \r\nL 153.878964 224.64 \r\nL 153.878964 215.947058 \r\nL 148.145706 215.947058 \r\nz\r\n\" style=\"fill:#ff0000;opacity:0.4;stroke:#ffffff;stroke-linejoin:miter;\"/>\r\n   </g>\r\n   <g id=\"patch_19\">\r\n    <path clip-path=\"url(#pfcf6eb64ce)\" d=\"M 153.878964 224.64 \r\nL 159.612221 224.64 \r\nL 159.612221 219.175206 \r\nL 153.878964 219.175206 \r\nz\r\n\" style=\"fill:#ff0000;opacity:0.4;stroke:#ffffff;stroke-linejoin:miter;\"/>\r\n   </g>\r\n   <g id=\"patch_20\">\r\n    <path clip-path=\"url(#pfcf6eb64ce)\" d=\"M 159.612221 224.64 \r\nL 165.345479 224.64 \r\nL 165.345479 215.78565 \r\nL 159.612221 215.78565 \r\nz\r\n\" style=\"fill:#ff0000;opacity:0.4;stroke:#ffffff;stroke-linejoin:miter;\"/>\r\n   </g>\r\n   <g id=\"patch_21\">\r\n    <path clip-path=\"url(#pfcf6eb64ce)\" d=\"M 165.345479 224.64 \r\nL 171.078736 224.64 \r\nL 171.078736 215.301428 \r\nL 165.345479 215.301428 \r\nz\r\n\" style=\"fill:#ff0000;opacity:0.4;stroke:#ffffff;stroke-linejoin:miter;\"/>\r\n   </g>\r\n   <g id=\"patch_22\">\r\n    <path clip-path=\"url(#pfcf6eb64ce)\" d=\"M 171.078736 224.64 \r\nL 176.811994 224.64 \r\nL 176.811994 211.450708 \r\nL 171.078736 211.450708 \r\nz\r\n\" style=\"fill:#ff0000;opacity:0.4;stroke:#ffffff;stroke-linejoin:miter;\"/>\r\n   </g>\r\n   <g id=\"patch_23\">\r\n    <path clip-path=\"url(#pfcf6eb64ce)\" d=\"M 176.811994 224.64 \r\nL 182.545251 224.64 \r\nL 182.545251 215.762592 \r\nL 176.811994 215.762592 \r\nz\r\n\" style=\"fill:#ff0000;opacity:0.4;stroke:#ffffff;stroke-linejoin:miter;\"/>\r\n   </g>\r\n   <g id=\"patch_24\">\r\n    <path clip-path=\"url(#pfcf6eb64ce)\" d=\"M 182.545251 224.64 \r\nL 188.278509 224.64 \r\nL 188.278509 208.199502 \r\nL 182.545251 208.199502 \r\nz\r\n\" style=\"fill:#ff0000;opacity:0.4;stroke:#ffffff;stroke-linejoin:miter;\"/>\r\n   </g>\r\n   <g id=\"patch_25\">\r\n    <path clip-path=\"url(#pfcf6eb64ce)\" d=\"M 188.278509 224.64 \r\nL 194.011766 224.64 \r\nL 194.011766 206.493195 \r\nL 188.278509 206.493195 \r\nz\r\n\" style=\"fill:#ff0000;opacity:0.4;stroke:#ffffff;stroke-linejoin:miter;\"/>\r\n   </g>\r\n   <g id=\"patch_26\">\r\n    <path clip-path=\"url(#pfcf6eb64ce)\" d=\"M 194.011766 224.64 \r\nL 199.745024 224.64 \r\nL 199.745024 206.608486 \r\nL 194.011766 206.608486 \r\nz\r\n\" style=\"fill:#ff0000;opacity:0.4;stroke:#ffffff;stroke-linejoin:miter;\"/>\r\n   </g>\r\n   <g id=\"patch_27\">\r\n    <path clip-path=\"url(#pfcf6eb64ce)\" d=\"M 199.745024 224.64 \r\nL 205.478281 224.64 \r\nL 205.478281 211.081777 \r\nL 199.745024 211.081777 \r\nz\r\n\" style=\"fill:#ff0000;opacity:0.4;stroke:#ffffff;stroke-linejoin:miter;\"/>\r\n   </g>\r\n   <g id=\"patch_28\">\r\n    <path clip-path=\"url(#pfcf6eb64ce)\" d=\"M 205.478281 224.64 \r\nL 211.211539 224.64 \r\nL 211.211539 17.554286 \r\nL 205.478281 17.554286 \r\nz\r\n\" style=\"fill:#ff0000;opacity:0.4;stroke:#ffffff;stroke-linejoin:miter;\"/>\r\n   </g>\r\n   <g id=\"patch_29\">\r\n    <path clip-path=\"url(#pfcf6eb64ce)\" d=\"M 211.211539 224.64 \r\nL 216.944796 224.64 \r\nL 216.944796 201.973787 \r\nL 211.211539 201.973787 \r\nz\r\n\" style=\"fill:#ff0000;opacity:0.4;stroke:#ffffff;stroke-linejoin:miter;\"/>\r\n   </g>\r\n   <g id=\"patch_30\">\r\n    <path clip-path=\"url(#pfcf6eb64ce)\" d=\"M 216.944796 224.64 \r\nL 222.678054 224.64 \r\nL 222.678054 198.2153 \r\nL 216.944796 198.2153 \r\nz\r\n\" style=\"fill:#ff0000;opacity:0.4;stroke:#ffffff;stroke-linejoin:miter;\"/>\r\n   </g>\r\n   <g id=\"patch_31\">\r\n    <path clip-path=\"url(#pfcf6eb64ce)\" d=\"M 222.678054 224.64 \r\nL 228.411311 224.64 \r\nL 228.411311 197.108507 \r\nL 222.678054 197.108507 \r\nz\r\n\" style=\"fill:#ff0000;opacity:0.4;stroke:#ffffff;stroke-linejoin:miter;\"/>\r\n   </g>\r\n   <g id=\"patch_32\">\r\n    <path clip-path=\"url(#pfcf6eb64ce)\" d=\"M 228.411311 224.64 \r\nL 234.144569 224.64 \r\nL 234.144569 208.291735 \r\nL 228.411311 208.291735 \r\nz\r\n\" style=\"fill:#ff0000;opacity:0.4;stroke:#ffffff;stroke-linejoin:miter;\"/>\r\n   </g>\r\n   <g id=\"patch_33\">\r\n    <path clip-path=\"url(#pfcf6eb64ce)\" d=\"M 234.144569 224.64 \r\nL 239.877826 224.64 \r\nL 239.877826 191.897353 \r\nL 234.144569 191.897353 \r\nz\r\n\" style=\"fill:#ff0000;opacity:0.4;stroke:#ffffff;stroke-linejoin:miter;\"/>\r\n   </g>\r\n   <g id=\"patch_34\">\r\n    <path clip-path=\"url(#pfcf6eb64ce)\" d=\"M 239.877826 224.64 \r\nL 245.611084 224.64 \r\nL 245.611084 205.363343 \r\nL 239.877826 205.363343 \r\nz\r\n\" style=\"fill:#ff0000;opacity:0.4;stroke:#ffffff;stroke-linejoin:miter;\"/>\r\n   </g>\r\n   <g id=\"patch_35\">\r\n    <path clip-path=\"url(#pfcf6eb64ce)\" d=\"M 245.611084 224.64 \r\nL 251.344341 224.64 \r\nL 251.344341 211.289301 \r\nL 245.611084 211.289301 \r\nz\r\n\" style=\"fill:#ff0000;opacity:0.4;stroke:#ffffff;stroke-linejoin:miter;\"/>\r\n   </g>\r\n   <g id=\"patch_36\">\r\n    <path clip-path=\"url(#pfcf6eb64ce)\" d=\"M 251.344341 224.64 \r\nL 257.077599 224.64 \r\nL 257.077599 211.635174 \r\nL 251.344341 211.635174 \r\nz\r\n\" style=\"fill:#ff0000;opacity:0.4;stroke:#ffffff;stroke-linejoin:miter;\"/>\r\n   </g>\r\n   <g id=\"patch_37\">\r\n    <path clip-path=\"url(#pfcf6eb64ce)\" d=\"M 257.077599 224.64 \r\nL 262.810856 224.64 \r\nL 262.810856 208.407026 \r\nL 257.077599 208.407026 \r\nz\r\n\" style=\"fill:#ff0000;opacity:0.4;stroke:#ffffff;stroke-linejoin:miter;\"/>\r\n   </g>\r\n   <g id=\"patch_38\">\r\n    <path clip-path=\"url(#pfcf6eb64ce)\" d=\"M 262.810856 224.64 \r\nL 268.544114 224.64 \r\nL 268.544114 220.581756 \r\nL 262.810856 220.581756 \r\nz\r\n\" style=\"fill:#ff0000;opacity:0.4;stroke:#ffffff;stroke-linejoin:miter;\"/>\r\n   </g>\r\n   <g id=\"patch_39\">\r\n    <path clip-path=\"url(#pfcf6eb64ce)\" d=\"M 268.544114 224.64 \r\nL 274.277371 224.64 \r\nL 274.277371 219.982243 \r\nL 268.544114 219.982243 \r\nz\r\n\" style=\"fill:#ff0000;opacity:0.4;stroke:#ffffff;stroke-linejoin:miter;\"/>\r\n   </g>\r\n   <g id=\"patch_40\">\r\n    <path clip-path=\"url(#pfcf6eb64ce)\" d=\"M 274.277371 224.64 \r\nL 280.010629 224.64 \r\nL 280.010629 203.034465 \r\nL 274.277371 203.034465 \r\nz\r\n\" style=\"fill:#ff0000;opacity:0.4;stroke:#ffffff;stroke-linejoin:miter;\"/>\r\n   </g>\r\n   <g id=\"patch_41\">\r\n    <path clip-path=\"url(#pfcf6eb64ce)\" d=\"M 280.010629 224.64 \r\nL 285.743887 224.64 \r\nL 285.743887 222.357238 \r\nL 280.010629 222.357238 \r\nz\r\n\" style=\"fill:#ff0000;opacity:0.4;stroke:#ffffff;stroke-linejoin:miter;\"/>\r\n   </g>\r\n   <g id=\"patch_42\">\r\n    <path clip-path=\"url(#pfcf6eb64ce)\" d=\"M 285.743887 224.64 \r\nL 291.477144 224.64 \r\nL 291.477144 217.445841 \r\nL 285.743887 217.445841 \r\nz\r\n\" style=\"fill:#ff0000;opacity:0.4;stroke:#ffffff;stroke-linejoin:miter;\"/>\r\n   </g>\r\n   <g id=\"patch_43\">\r\n    <path clip-path=\"url(#pfcf6eb64ce)\" d=\"M 291.477144 224.64 \r\nL 297.210402 224.64 \r\nL 297.210402 223.348741 \r\nL 291.477144 223.348741 \r\nz\r\n\" style=\"fill:#ff0000;opacity:0.4;stroke:#ffffff;stroke-linejoin:miter;\"/>\r\n   </g>\r\n   <g id=\"patch_44\">\r\n    <path clip-path=\"url(#pfcf6eb64ce)\" d=\"M 297.210402 224.64 \r\nL 302.943659 224.64 \r\nL 302.943659 223.164275 \r\nL 297.210402 223.164275 \r\nz\r\n\" style=\"fill:#ff0000;opacity:0.4;stroke:#ffffff;stroke-linejoin:miter;\"/>\r\n   </g>\r\n   <g id=\"patch_45\">\r\n    <path clip-path=\"url(#pfcf6eb64ce)\" d=\"M 302.943659 224.64 \r\nL 308.676917 224.64 \r\nL 308.676917 220.397291 \r\nL 302.943659 220.397291 \r\nz\r\n\" style=\"fill:#ff0000;opacity:0.4;stroke:#ffffff;stroke-linejoin:miter;\"/>\r\n   </g>\r\n   <g id=\"patch_46\">\r\n    <path clip-path=\"url(#pfcf6eb64ce)\" d=\"M 308.676917 224.64 \r\nL 314.410174 224.64 \r\nL 314.410174 223.971312 \r\nL 308.676917 223.971312 \r\nz\r\n\" style=\"fill:#ff0000;opacity:0.4;stroke:#ffffff;stroke-linejoin:miter;\"/>\r\n   </g>\r\n   <g id=\"patch_47\">\r\n    <path clip-path=\"url(#pfcf6eb64ce)\" d=\"M 314.410174 224.64 \r\nL 320.143432 224.64 \r\nL 320.143432 224.38636 \r\nL 314.410174 224.38636 \r\nz\r\n\" style=\"fill:#ff0000;opacity:0.4;stroke:#ffffff;stroke-linejoin:miter;\"/>\r\n   </g>\r\n   <g id=\"patch_48\">\r\n    <path clip-path=\"url(#pfcf6eb64ce)\" d=\"M 320.143432 224.64 \r\nL 325.876689 224.64 \r\nL 325.876689 218.160645 \r\nL 320.143432 218.160645 \r\nz\r\n\" style=\"fill:#ff0000;opacity:0.4;stroke:#ffffff;stroke-linejoin:miter;\"/>\r\n   </g>\r\n   <g id=\"patch_49\">\r\n    <path clip-path=\"url(#pfcf6eb64ce)\" d=\"M 325.876689 224.64 \r\nL 331.609947 224.64 \r\nL 331.609947 224.224952 \r\nL 325.876689 224.224952 \r\nz\r\n\" style=\"fill:#ff0000;opacity:0.4;stroke:#ffffff;stroke-linejoin:miter;\"/>\r\n   </g>\r\n   <g id=\"patch_50\">\r\n    <path clip-path=\"url(#pfcf6eb64ce)\" d=\"M 331.609947 224.64 \r\nL 337.343204 224.64 \r\nL 337.343204 224.294127 \r\nL 331.609947 224.294127 \r\nz\r\n\" style=\"fill:#ff0000;opacity:0.4;stroke:#ffffff;stroke-linejoin:miter;\"/>\r\n   </g>\r\n   <g id=\"patch_51\">\r\n    <path clip-path=\"url(#pfcf6eb64ce)\" d=\"M 337.343204 224.64 \r\nL 343.076462 224.64 \r\nL 343.076462 224.616942 \r\nL 337.343204 224.616942 \r\nz\r\n\" style=\"fill:#ff0000;opacity:0.4;stroke:#ffffff;stroke-linejoin:miter;\"/>\r\n   </g>\r\n   <g id=\"patch_52\">\r\n    <path clip-path=\"url(#pfcf6eb64ce)\" d=\"M 343.076462 224.64 \r\nL 348.809719 224.64 \r\nL 348.809719 222.541704 \r\nL 343.076462 222.541704 \r\nz\r\n\" style=\"fill:#ff0000;opacity:0.4;stroke:#ffffff;stroke-linejoin:miter;\"/>\r\n   </g>\r\n   <g id=\"line2d_11\">\r\n    <path clip-path=\"url(#pfcf6eb64ce)\" d=\"M 53.296463 224.616962 \r\nL 55.693027 224.493623 \r\nL 58.089591 224.080776 \r\nL 60.486155 223.453963 \r\nL 62.882719 223.271503 \r\nL 67.675847 224.379947 \r\nL 70.072412 224.580183 \r\nL 84.451796 224.408929 \r\nL 86.84836 223.971971 \r\nL 89.244924 223.306117 \r\nL 91.641488 223.087822 \r\nL 96.434616 223.927193 \r\nL 98.83118 223.844458 \r\nL 103.624308 222.888324 \r\nL 106.020873 223.042647 \r\nL 108.417437 223.561908 \r\nL 110.814001 223.835803 \r\nL 113.210565 223.747864 \r\nL 115.607129 223.220563 \r\nL 118.003693 222.422808 \r\nL 120.400257 222.227585 \r\nL 125.193385 223.440307 \r\nL 127.589949 223.16571 \r\nL 129.986513 221.591287 \r\nL 132.383077 219.316403 \r\nL 134.779641 218.781031 \r\nL 137.176205 220.471949 \r\nL 139.572769 221.919714 \r\nL 141.969334 221.992481 \r\nL 144.365898 220.723813 \r\nL 146.762462 218.677479 \r\nL 149.159026 217.971298 \r\nL 151.55559 219.060254 \r\nL 153.952154 219.776949 \r\nL 156.348718 219.214525 \r\nL 161.141846 216.78541 \r\nL 163.53841 216.595433 \r\nL 165.934974 216.667601 \r\nL 168.331538 215.987188 \r\nL 170.728102 215.505662 \r\nL 173.124666 214.865236 \r\nL 175.52123 213.044062 \r\nL 177.917794 211.703512 \r\nL 180.314359 211.682786 \r\nL 182.710923 211.323546 \r\nL 185.107487 209.784367 \r\nL 187.504051 207.746196 \r\nL 189.900615 206.342193 \r\nL 192.297179 205.985223 \r\nL 194.693743 206.038174 \r\nL 197.090307 203.391682 \r\nL 199.486871 186.735564 \r\nL 201.883435 137.844009 \r\nL 204.279999 78.936777 \r\nL 206.676563 78.084123 \r\nL 209.073127 135.484194 \r\nL 211.469691 183.440099 \r\nL 213.866255 199.472022 \r\nL 216.26282 200.875619 \r\nL 218.659384 198.862414 \r\nL 221.055948 197.14816 \r\nL 223.452512 196.533347 \r\nL 225.849076 197.626746 \r\nL 228.24564 200.358127 \r\nL 230.642204 201.522147 \r\nL 233.038768 200.114585 \r\nL 235.435332 198.477897 \r\nL 237.831896 198.264762 \r\nL 240.22846 200.725499 \r\nL 242.625024 205.346345 \r\nL 245.021588 209.517653 \r\nL 247.418152 211.663067 \r\nL 249.814716 212.679785 \r\nL 252.211281 212.841723 \r\nL 254.607845 212.336612 \r\nL 259.400973 212.409378 \r\nL 261.797537 212.271568 \r\nL 264.194101 213.82342 \r\nL 266.590665 216.707252 \r\nL 268.987229 218.555766 \r\nL 271.383793 217.726606 \r\nL 273.780357 213.026216 \r\nL 276.176921 207.874565 \r\nL 278.573485 209.268064 \r\nL 280.970049 215.593649 \r\nL 283.366613 219.841638 \r\nL 285.763177 220.623872 \r\nL 288.159742 220.009587 \r\nL 290.556306 219.528497 \r\nL 292.95287 220.387751 \r\nL 295.349434 222.020638 \r\nL 297.745998 222.963554 \r\nL 300.142562 223.001792 \r\nL 302.539126 222.218805 \r\nL 304.93569 221.308506 \r\nL 307.332254 221.677137 \r\nL 309.728818 222.902933 \r\nL 312.125382 223.571791 \r\nL 314.521946 223.173143 \r\nL 319.315074 219.723195 \r\nL 321.711638 220.287704 \r\nL 324.108203 222.379636 \r\nL 326.504767 223.77498 \r\nL 328.901331 224.230145 \r\nL 333.694459 224.33385 \r\nL 340.884151 224.546907 \r\nL 343.280715 224.328304 \r\nL 348.073843 223.081559 \r\nL 350.470407 223.290524 \r\nL 352.866971 224.00395 \r\nL 355.263535 224.473426 \r\nL 357.660099 224.614378 \r\nL 357.660099 224.614378 \r\n\" style=\"fill:none;stroke:#ff0000;stroke-linecap:round;stroke-width:1.5;\"/>\r\n   </g>\r\n   <g id=\"line2d_12\">\r\n    <path clip-path=\"url(#pfcf6eb64ce)\" d=\"M 214.398937 224.64 \r\nL 214.398937 7.2 \r\n\" style=\"fill:none;stroke:#0000ff;stroke-linecap:round;stroke-width:1.5;\"/>\r\n   </g>\r\n   <g id=\"patch_53\">\r\n    <path d=\"M 38.078281 224.64 \r\nL 38.078281 7.2 \r\n\" style=\"fill:none;stroke:#ffffff;stroke-linecap:square;stroke-linejoin:miter;stroke-width:1.25;\"/>\r\n   </g>\r\n   <g id=\"patch_54\">\r\n    <path d=\"M 372.878281 224.64 \r\nL 372.878281 7.2 \r\n\" style=\"fill:none;stroke:#ffffff;stroke-linecap:square;stroke-linejoin:miter;stroke-width:1.25;\"/>\r\n   </g>\r\n   <g id=\"patch_55\">\r\n    <path d=\"M 38.078281 224.64 \r\nL 372.878281 224.64 \r\n\" style=\"fill:none;stroke:#ffffff;stroke-linecap:square;stroke-linejoin:miter;stroke-width:1.25;\"/>\r\n   </g>\r\n   <g id=\"patch_56\">\r\n    <path d=\"M 38.078281 7.2 \r\nL 372.878281 7.2 \r\n\" style=\"fill:none;stroke:#ffffff;stroke-linecap:square;stroke-linejoin:miter;stroke-width:1.25;\"/>\r\n   </g>\r\n  </g>\r\n </g>\r\n <defs>\r\n  <clipPath id=\"pfcf6eb64ce\">\r\n   <rect height=\"217.44\" width=\"334.8\" x=\"38.078281\" y=\"7.2\"/>\r\n  </clipPath>\r\n </defs>\r\n</svg>\r\n",
      "image/png": "[encoded data removed]"
     },
     "metadata": {}
    }
   ]
  },
  {
   "source": [
    "# -------------------------------------------------------------------------\n",
    "## Bar chart for polarity"
   ],
   "cell_type": "markdown",
   "metadata": {}
  },
  {
   "cell_type": "code",
   "execution_count": 79,
   "metadata": {},
   "outputs": [
    {
     "output_type": "execute_result",
     "data": {
      "text/plain": [
       "       polarity                                              tweet\n",
       "0     -0.119643  olganyc1211 hello fbi dhsgov id like report ac...\n",
       "1     -1.000000  gilliland1tide must contest three worst disast...\n",
       "2      0.283333  invented diet called chimp diet eat mostly fru...\n",
       "3     -0.200000  people told youll find one someday like whens ...\n",
       "4     -0.600000                 havent seen mf covid19 fucked link\n",
       "...         ...                                                ...\n",
       "25822  0.000000  people coronavirus covid19 pick one also yall ...\n",
       "25823  0.200000  swkoti rice pasta canned soup getting ready co...\n",
       "25824  0.000000  theyre chasing journalist wouldnt stay quiet c...\n",
       "25825  0.000000  calling 2021 summer olympics olympics tokyo co...\n",
       "25826  0.166667  douginnc hurricaneeve81 madmamavotes beantownd...\n",
       "\n",
       "[25827 rows x 2 columns]"
      ],
      "text/html": "<div>\n<style scoped>\n    .dataframe tbody tr th:only-of-type {\n        vertical-align: middle;\n    }\n\n    .dataframe tbody tr th {\n        vertical-align: top;\n    }\n\n    .dataframe thead th {\n        text-align: right;\n    }\n</style>\n<table border=\"1\" class=\"dataframe\">\n  <thead>\n    <tr style=\"text-align: right;\">\n      <th></th>\n      <th>polarity</th>\n      <th>tweet</th>\n    </tr>\n  </thead>\n  <tbody>\n    <tr>\n      <th>0</th>\n      <td>-0.119643</td>\n      <td>olganyc1211 hello fbi dhsgov id like report ac...</td>\n    </tr>\n    <tr>\n      <th>1</th>\n      <td>-1.000000</td>\n      <td>gilliland1tide must contest three worst disast...</td>\n    </tr>\n    <tr>\n      <th>2</th>\n      <td>0.283333</td>\n      <td>invented diet called chimp diet eat mostly fru...</td>\n    </tr>\n    <tr>\n      <th>3</th>\n      <td>-0.200000</td>\n      <td>people told youll find one someday like whens ...</td>\n    </tr>\n    <tr>\n      <th>4</th>\n      <td>-0.600000</td>\n      <td>havent seen mf covid19 fucked link</td>\n    </tr>\n    <tr>\n      <th>...</th>\n      <td>...</td>\n      <td>...</td>\n    </tr>\n    <tr>\n      <th>25822</th>\n      <td>0.000000</td>\n      <td>people coronavirus covid19 pick one also yall ...</td>\n    </tr>\n    <tr>\n      <th>25823</th>\n      <td>0.200000</td>\n      <td>swkoti rice pasta canned soup getting ready co...</td>\n    </tr>\n    <tr>\n      <th>25824</th>\n      <td>0.000000</td>\n      <td>theyre chasing journalist wouldnt stay quiet c...</td>\n    </tr>\n    <tr>\n      <th>25825</th>\n      <td>0.000000</td>\n      <td>calling 2021 summer olympics olympics tokyo co...</td>\n    </tr>\n    <tr>\n      <th>25826</th>\n      <td>0.166667</td>\n      <td>douginnc hurricaneeve81 madmamavotes beantownd...</td>\n    </tr>\n  </tbody>\n</table>\n<p>25827 rows × 2 columns</p>\n</div>"
     },
     "metadata": {},
     "execution_count": 79
    }
   ],
   "source": [
    "sentiment_df"
   ]
  },
  {
   "cell_type": "code",
   "execution_count": 80,
   "metadata": {},
   "outputs": [
    {
     "output_type": "execute_result",
     "data": {
      "text/plain": [
       "2        0.283333\n",
       "6        0.197857\n",
       "7        0.350000\n",
       "8        0.150000\n",
       "9        0.380000\n",
       "           ...   \n",
       "25819    0.200000\n",
       "25820    0.250000\n",
       "25821    0.166667\n",
       "25823    0.200000\n",
       "25826    0.166667\n",
       "Name: polarity, Length: 9317, dtype: float64"
      ]
     },
     "metadata": {},
     "execution_count": 80
    }
   ],
   "source": [
    "neg = sentiment_df['polarity'].astype('float')\n",
    "neg = neg[neg <= -0.1]\n",
    "neg\n",
    "pos = sentiment_df['polarity'].astype('float')\n",
    "pos = pos[pos >= 0.1]\n",
    "pos"
   ]
  },
  {
   "cell_type": "code",
   "execution_count": 81,
   "metadata": {},
   "outputs": [
    {
     "output_type": "execute_result",
     "data": {
      "text/plain": [
       "5        0.000000\n",
       "10       0.000000\n",
       "14       0.000000\n",
       "17       0.000000\n",
       "20       0.000000\n",
       "           ...   \n",
       "25810    0.066667\n",
       "25814    0.000000\n",
       "25822    0.000000\n",
       "25824    0.000000\n",
       "25825    0.000000\n",
       "Name: polarity, Length: 11949, dtype: float64"
      ]
     },
     "metadata": {},
     "execution_count": 81
    }
   ],
   "source": [
    "neutrals = sentiment_df['polarity'].astype('float')\n",
    "neutrals = neutrals[neutrals < 0.1]\n",
    "neutrals = neutrals[neutrals > -0.1]\n",
    "neutrals"
   ]
  },
  {
   "cell_type": "code",
   "execution_count": 85,
   "metadata": {},
   "outputs": [],
   "source": [
    "def polarity_category(pol):\n",
    "    if (pol < 0.1 and pol > -0.1):\n",
    "        return \"neutral\"\n",
    "    if pol >= 0.1:\n",
    "        return \"positive\"\n",
    "    if pol <= -0.1:\n",
    "        return \"negative\""
   ]
  },
  {
   "cell_type": "code",
   "execution_count": 87,
   "metadata": {},
   "outputs": [
    {
     "output_type": "execute_result",
     "data": {
      "text/plain": [
       "      Date                                              Tweet  \\\n",
       "0       11  olganyc1211 hello fbi dhsgov id like report ac...   \n",
       "1       11  gilliland1tide must contest three worst disast...   \n",
       "2       11  invented diet called chimp diet eat mostly fru...   \n",
       "3       11  people told youll find one someday like whens ...   \n",
       "4       11                 havent seen mf covid19 fucked link   \n",
       "...    ...                                                ...   \n",
       "25822   03  people coronavirus covid19 pick one also yall ...   \n",
       "25823   03  swkoti rice pasta canned soup getting ready co...   \n",
       "25824   03  theyre chasing journalist wouldnt stay quiet c...   \n",
       "25825   03  calling 2021 summer olympics olympics tokyo co...   \n",
       "25826   03  douginnc hurricaneeve81 madmamavotes beantownd...   \n",
       "\n",
       "                  User Keyword  \\\n",
       "0      HereNowForever1   COVID   \n",
       "1           profstan72   COVID   \n",
       "2       blackbettyblog  corona   \n",
       "3       GravityOcean13  corona   \n",
       "4      In_Jay_We_Trust   COVID   \n",
       "...                ...     ...   \n",
       "25822         _lydiamj   COVID   \n",
       "25823    babybellarose   COVID   \n",
       "25824          amici09   COVID   \n",
       "25825         kraichdm   COVID   \n",
       "25826          Frodo60   COVID   \n",
       "\n",
       "                                              words_list sentiment_pol  \n",
       "0      [olganyc1211, hello, fbi, dhsgov, id, like, re...      negative  \n",
       "1      [gilliland1tide, must, contest, three, worst, ...      negative  \n",
       "2      [invented, diet, called, chimp, diet, eat, mos...      positive  \n",
       "3      [people, told, youll, find, one, someday, like...      negative  \n",
       "4              [havent, seen, mf, covid19, fucked, link]      negative  \n",
       "...                                                  ...           ...  \n",
       "25822  [people, coronavirus, covid19, pick, one, also...       neutral  \n",
       "25823  [swkoti, rice, pasta, canned, soup, getting, r...      positive  \n",
       "25824  [theyre, chasing, journalist, wouldnt, stay, q...       neutral  \n",
       "25825  [calling, 2021, summer, olympics, olympics, to...       neutral  \n",
       "25826  [douginnc, hurricaneeve81, madmamavotes, beant...      positive  \n",
       "\n",
       "[25827 rows x 6 columns]"
      ],
      "text/html": "<div>\n<style scoped>\n    .dataframe tbody tr th:only-of-type {\n        vertical-align: middle;\n    }\n\n    .dataframe tbody tr th {\n        vertical-align: top;\n    }\n\n    .dataframe thead th {\n        text-align: right;\n    }\n</style>\n<table border=\"1\" class=\"dataframe\">\n  <thead>\n    <tr style=\"text-align: right;\">\n      <th></th>\n      <th>Date</th>\n      <th>Tweet</th>\n      <th>User</th>\n      <th>Keyword</th>\n      <th>words_list</th>\n      <th>sentiment_pol</th>\n    </tr>\n  </thead>\n  <tbody>\n    <tr>\n      <th>0</th>\n      <td>11</td>\n      <td>olganyc1211 hello fbi dhsgov id like report ac...</td>\n      <td>HereNowForever1</td>\n      <td>COVID</td>\n      <td>[olganyc1211, hello, fbi, dhsgov, id, like, re...</td>\n      <td>negative</td>\n    </tr>\n    <tr>\n      <th>1</th>\n      <td>11</td>\n      <td>gilliland1tide must contest three worst disast...</td>\n      <td>profstan72</td>\n      <td>COVID</td>\n      <td>[gilliland1tide, must, contest, three, worst, ...</td>\n      <td>negative</td>\n    </tr>\n    <tr>\n      <th>2</th>\n      <td>11</td>\n      <td>invented diet called chimp diet eat mostly fru...</td>\n      <td>blackbettyblog</td>\n      <td>corona</td>\n      <td>[invented, diet, called, chimp, diet, eat, mos...</td>\n      <td>positive</td>\n    </tr>\n    <tr>\n      <th>3</th>\n      <td>11</td>\n      <td>people told youll find one someday like whens ...</td>\n      <td>GravityOcean13</td>\n      <td>corona</td>\n      <td>[people, told, youll, find, one, someday, like...</td>\n      <td>negative</td>\n    </tr>\n    <tr>\n      <th>4</th>\n      <td>11</td>\n      <td>havent seen mf covid19 fucked link</td>\n      <td>In_Jay_We_Trust</td>\n      <td>COVID</td>\n      <td>[havent, seen, mf, covid19, fucked, link]</td>\n      <td>negative</td>\n    </tr>\n    <tr>\n      <th>...</th>\n      <td>...</td>\n      <td>...</td>\n      <td>...</td>\n      <td>...</td>\n      <td>...</td>\n      <td>...</td>\n    </tr>\n    <tr>\n      <th>25822</th>\n      <td>03</td>\n      <td>people coronavirus covid19 pick one also yall ...</td>\n      <td>_lydiamj</td>\n      <td>COVID</td>\n      <td>[people, coronavirus, covid19, pick, one, also...</td>\n      <td>neutral</td>\n    </tr>\n    <tr>\n      <th>25823</th>\n      <td>03</td>\n      <td>swkoti rice pasta canned soup getting ready co...</td>\n      <td>babybellarose</td>\n      <td>COVID</td>\n      <td>[swkoti, rice, pasta, canned, soup, getting, r...</td>\n      <td>positive</td>\n    </tr>\n    <tr>\n      <th>25824</th>\n      <td>03</td>\n      <td>theyre chasing journalist wouldnt stay quiet c...</td>\n      <td>amici09</td>\n      <td>COVID</td>\n      <td>[theyre, chasing, journalist, wouldnt, stay, q...</td>\n      <td>neutral</td>\n    </tr>\n    <tr>\n      <th>25825</th>\n      <td>03</td>\n      <td>calling 2021 summer olympics olympics tokyo co...</td>\n      <td>kraichdm</td>\n      <td>COVID</td>\n      <td>[calling, 2021, summer, olympics, olympics, to...</td>\n      <td>neutral</td>\n    </tr>\n    <tr>\n      <th>25826</th>\n      <td>03</td>\n      <td>douginnc hurricaneeve81 madmamavotes beantownd...</td>\n      <td>Frodo60</td>\n      <td>COVID</td>\n      <td>[douginnc, hurricaneeve81, madmamavotes, beant...</td>\n      <td>positive</td>\n    </tr>\n  </tbody>\n</table>\n<p>25827 rows × 6 columns</p>\n</div>"
     },
     "metadata": {},
     "execution_count": 87
    }
   ],
   "source": [
    "covid_19_tweets['sentiment_pol'] = sentiment_df['polarity']\n",
    "covid_19_tweets['sentiment_pol'] = covid_19_tweets['sentiment_pol'].apply(lambda x: polarity_category(x))\n",
    "covid_19_tweets"
   ]
  },
  {
   "cell_type": "code",
   "execution_count": 95,
   "metadata": {},
   "outputs": [],
   "source": [
    "pol_by_month = covid_19_tweets[['Date','Tweet','sentiment_pol']].groupby(['Date','sentiment_pol'])['Tweet'].count().reset_index().rename(columns={'Tweet':'number_of_tweets'})\n",
    "pol_by_month = pol_by_month[:-3]"
   ]
  },
  {
   "cell_type": "code",
   "execution_count": 98,
   "metadata": {},
   "outputs": [
    {
     "output_type": "display_data",
     "data": {
      "application/vnd.plotly.v1+json": {
       "config": {
        "plotlyServerURL": "https://plot.ly"
       },
       "data": [
        {
         "alignmentgroup": "True",
         "hovertemplate": "sentiment_pol=negative<br>Date=%{x}<br>number_of_tweets=%{y}<extra></extra>",
         "legendgroup": "negative",
         "marker": {
          "color": "red"
         },
         "name": "negative",
         "offsetgroup": "negative",
         "orientation": "v",
         "showlegend": true,
         "textposition": "auto",
         "type": "bar",
         "x": [
          "03",
          "04",
          "05",
          "06",
          "07",
          "08",
          "09",
          "10"
         ],
         "xaxis": "x",
         "y": [
          144,
          129,
          60,
          38,
          42,
          15,
          14,
          49
         ],
         "yaxis": "y"
        },
        {
         "alignmentgroup": "True",
         "hovertemplate": "sentiment_pol=neutral<br>Date=%{x}<br>number_of_tweets=%{y}<extra></extra>",
         "legendgroup": "neutral",
         "marker": {
          "color": "grey"
         },
         "name": "neutral",
         "offsetgroup": "neutral",
         "orientation": "v",
         "showlegend": true,
         "textposition": "auto",
         "type": "bar",
         "x": [
          "03",
          "04",
          "05",
          "06",
          "07",
          "08",
          "09",
          "10"
         ],
         "xaxis": "x",
         "y": [
          366,
          381,
          268,
          127,
          161,
          93,
          59,
          86
         ],
         "yaxis": "y"
        },
        {
         "alignmentgroup": "True",
         "hovertemplate": "sentiment_pol=positive<br>Date=%{x}<br>number_of_tweets=%{y}<extra></extra>",
         "legendgroup": "positive",
         "marker": {
          "color": "green"
         },
         "name": "positive",
         "offsetgroup": "positive",
         "orientation": "v",
         "showlegend": true,
         "textposition": "auto",
         "type": "bar",
         "x": [
          "03",
          "04",
          "05",
          "06",
          "07",
          "08",
          "09",
          "10"
         ],
         "xaxis": "x",
         "y": [
          273,
          326,
          231,
          70,
          88,
          57,
          46,
          116
         ],
         "yaxis": "y"
        }
       ],
       "layout": {
        "barmode": "relative",
        "legend": {
         "title": {
          "text": "sentiment_pol"
         },
         "tracegroupgap": 0
        },
        "template": {
         "data": {
          "bar": [
           {
            "error_x": {
             "color": "#2a3f5f"
            },
            "error_y": {
             "color": "#2a3f5f"
            },
            "marker": {
             "line": {
              "color": "#E5ECF6",
              "width": 0.5
             }
            },
            "type": "bar"
           }
          ],
          "barpolar": [
           {
            "marker": {
             "line": {
              "color": "#E5ECF6",
              "width": 0.5
             }
            },
            "type": "barpolar"
           }
          ],
          "carpet": [
           {
            "aaxis": {
             "endlinecolor": "#2a3f5f",
             "gridcolor": "white",
             "linecolor": "white",
             "minorgridcolor": "white",
             "startlinecolor": "#2a3f5f"
            },
            "baxis": {
             "endlinecolor": "#2a3f5f",
             "gridcolor": "white",
             "linecolor": "white",
             "minorgridcolor": "white",
             "startlinecolor": "#2a3f5f"
            },
            "type": "carpet"
           }
          ],
          "choropleth": [
           {
            "colorbar": {
             "outlinewidth": 0,
             "ticks": ""
            },
            "type": "choropleth"
           }
          ],
          "contour": [
           {
            "colorbar": {
             "outlinewidth": 0,
             "ticks": ""
            },
            "colorscale": [
             [
              0,
              "#0d0887"
             ],
             [
              0.1111111111111111,
              "#46039f"
             ],
             [
              0.2222222222222222,
              "#7201a8"
             ],
             [
              0.3333333333333333,
              "#9c179e"
             ],
             [
              0.4444444444444444,
              "#bd3786"
             ],
             [
              0.5555555555555556,
              "#d8576b"
             ],
             [
              0.6666666666666666,
              "#ed7953"
             ],
             [
              0.7777777777777778,
              "#fb9f3a"
             ],
             [
              0.8888888888888888,
              "#fdca26"
             ],
             [
              1,
              "#f0f921"
             ]
            ],
            "type": "contour"
           }
          ],
          "contourcarpet": [
           {
            "colorbar": {
             "outlinewidth": 0,
             "ticks": ""
            },
            "type": "contourcarpet"
           }
          ],
          "heatmap": [
           {
            "colorbar": {
             "outlinewidth": 0,
             "ticks": ""
            },
            "colorscale": [
             [
              0,
              "#0d0887"
             ],
             [
              0.1111111111111111,
              "#46039f"
             ],
             [
              0.2222222222222222,
              "#7201a8"
             ],
             [
              0.3333333333333333,
              "#9c179e"
             ],
             [
              0.4444444444444444,
              "#bd3786"
             ],
             [
              0.5555555555555556,
              "#d8576b"
             ],
             [
              0.6666666666666666,
              "#ed7953"
             ],
             [
              0.7777777777777778,
              "#fb9f3a"
             ],
             [
              0.8888888888888888,
              "#fdca26"
             ],
             [
              1,
              "#f0f921"
             ]
            ],
            "type": "heatmap"
           }
          ],
          "heatmapgl": [
           {
            "colorbar": {
             "outlinewidth": 0,
             "ticks": ""
            },
            "colorscale": [
             [
              0,
              "#0d0887"
             ],
             [
              0.1111111111111111,
              "#46039f"
             ],
             [
              0.2222222222222222,
              "#7201a8"
             ],
             [
              0.3333333333333333,
              "#9c179e"
             ],
             [
              0.4444444444444444,
              "#bd3786"
             ],
             [
              0.5555555555555556,
              "#d8576b"
             ],
             [
              0.6666666666666666,
              "#ed7953"
             ],
             [
              0.7777777777777778,
              "#fb9f3a"
             ],
             [
              0.8888888888888888,
              "#fdca26"
             ],
             [
              1,
              "#f0f921"
             ]
            ],
            "type": "heatmapgl"
           }
          ],
          "histogram": [
           {
            "marker": {
             "colorbar": {
              "outlinewidth": 0,
              "ticks": ""
             }
            },
            "type": "histogram"
           }
          ],
          "histogram2d": [
           {
            "colorbar": {
             "outlinewidth": 0,
             "ticks": ""
            },
            "colorscale": [
             [
              0,
              "#0d0887"
             ],
             [
              0.1111111111111111,
              "#46039f"
             ],
             [
              0.2222222222222222,
              "#7201a8"
             ],
             [
              0.3333333333333333,
              "#9c179e"
             ],
             [
              0.4444444444444444,
              "#bd3786"
             ],
             [
              0.5555555555555556,
              "#d8576b"
             ],
             [
              0.6666666666666666,
              "#ed7953"
             ],
             [
              0.7777777777777778,
              "#fb9f3a"
             ],
             [
              0.8888888888888888,
              "#fdca26"
             ],
             [
              1,
              "#f0f921"
             ]
            ],
            "type": "histogram2d"
           }
          ],
          "histogram2dcontour": [
           {
            "colorbar": {
             "outlinewidth": 0,
             "ticks": ""
            },
            "colorscale": [
             [
              0,
              "#0d0887"
             ],
             [
              0.1111111111111111,
              "#46039f"
             ],
             [
              0.2222222222222222,
              "#7201a8"
             ],
             [
              0.3333333333333333,
              "#9c179e"
             ],
             [
              0.4444444444444444,
              "#bd3786"
             ],
             [
              0.5555555555555556,
              "#d8576b"
             ],
             [
              0.6666666666666666,
              "#ed7953"
             ],
             [
              0.7777777777777778,
              "#fb9f3a"
             ],
             [
              0.8888888888888888,
              "#fdca26"
             ],
             [
              1,
              "#f0f921"
             ]
            ],
            "type": "histogram2dcontour"
           }
          ],
          "mesh3d": [
           {
            "colorbar": {
             "outlinewidth": 0,
             "ticks": ""
            },
            "type": "mesh3d"
           }
          ],
          "parcoords": [
           {
            "line": {
             "colorbar": {
              "outlinewidth": 0,
              "ticks": ""
             }
            },
            "type": "parcoords"
           }
          ],
          "pie": [
           {
            "automargin": true,
            "type": "pie"
           }
          ],
          "scatter": [
           {
            "marker": {
             "colorbar": {
              "outlinewidth": 0,
              "ticks": ""
             }
            },
            "type": "scatter"
           }
          ],
          "scatter3d": [
           {
            "line": {
             "colorbar": {
              "outlinewidth": 0,
              "ticks": ""
             }
            },
            "marker": {
             "colorbar": {
              "outlinewidth": 0,
              "ticks": ""
             }
            },
            "type": "scatter3d"
           }
          ],
          "scattercarpet": [
           {
            "marker": {
             "colorbar": {
              "outlinewidth": 0,
              "ticks": ""
             }
            },
            "type": "scattercarpet"
           }
          ],
          "scattergeo": [
           {
            "marker": {
             "colorbar": {
              "outlinewidth": 0,
              "ticks": ""
             }
            },
            "type": "scattergeo"
           }
          ],
          "scattergl": [
           {
            "marker": {
             "colorbar": {
              "outlinewidth": 0,
              "ticks": ""
             }
            },
            "type": "scattergl"
           }
          ],
          "scattermapbox": [
           {
            "marker": {
             "colorbar": {
              "outlinewidth": 0,
              "ticks": ""
             }
            },
            "type": "scattermapbox"
           }
          ],
          "scatterpolar": [
           {
            "marker": {
             "colorbar": {
              "outlinewidth": 0,
              "ticks": ""
             }
            },
            "type": "scatterpolar"
           }
          ],
          "scatterpolargl": [
           {
            "marker": {
             "colorbar": {
              "outlinewidth": 0,
              "ticks": ""
             }
            },
            "type": "scatterpolargl"
           }
          ],
          "scatterternary": [
           {
            "marker": {
             "colorbar": {
              "outlinewidth": 0,
              "ticks": ""
             }
            },
            "type": "scatterternary"
           }
          ],
          "surface": [
           {
            "colorbar": {
             "outlinewidth": 0,
             "ticks": ""
            },
            "colorscale": [
             [
              0,
              "#0d0887"
             ],
             [
              0.1111111111111111,
              "#46039f"
             ],
             [
              0.2222222222222222,
              "#7201a8"
             ],
             [
              0.3333333333333333,
              "#9c179e"
             ],
             [
              0.4444444444444444,
              "#bd3786"
             ],
             [
              0.5555555555555556,
              "#d8576b"
             ],
             [
              0.6666666666666666,
              "#ed7953"
             ],
             [
              0.7777777777777778,
              "#fb9f3a"
             ],
             [
              0.8888888888888888,
              "#fdca26"
             ],
             [
              1,
              "#f0f921"
             ]
            ],
            "type": "surface"
           }
          ],
          "table": [
           {
            "cells": {
             "fill": {
              "color": "#EBF0F8"
             },
             "line": {
              "color": "white"
             }
            },
            "header": {
             "fill": {
              "color": "#C8D4E3"
             },
             "line": {
              "color": "white"
             }
            },
            "type": "table"
           }
          ]
         },
         "layout": {
          "annotationdefaults": {
           "arrowcolor": "#2a3f5f",
           "arrowhead": 0,
           "arrowwidth": 1
          },
          "coloraxis": {
           "colorbar": {
            "outlinewidth": 0,
            "ticks": ""
           }
          },
          "colorscale": {
           "diverging": [
            [
             0,
             "#8e0152"
            ],
            [
             0.1,
             "#c51b7d"
            ],
            [
             0.2,
             "#de77ae"
            ],
            [
             0.3,
             "#f1b6da"
            ],
            [
             0.4,
             "#fde0ef"
            ],
            [
             0.5,
             "#f7f7f7"
            ],
            [
             0.6,
             "#e6f5d0"
            ],
            [
             0.7,
             "#b8e186"
            ],
            [
             0.8,
             "#7fbc41"
            ],
            [
             0.9,
             "#4d9221"
            ],
            [
             1,
             "#276419"
            ]
           ],
           "sequential": [
            [
             0,
             "#0d0887"
            ],
            [
             0.1111111111111111,
             "#46039f"
            ],
            [
             0.2222222222222222,
             "#7201a8"
            ],
            [
             0.3333333333333333,
             "#9c179e"
            ],
            [
             0.4444444444444444,
             "#bd3786"
            ],
            [
             0.5555555555555556,
             "#d8576b"
            ],
            [
             0.6666666666666666,
             "#ed7953"
            ],
            [
             0.7777777777777778,
             "#fb9f3a"
            ],
            [
             0.8888888888888888,
             "#fdca26"
            ],
            [
             1,
             "#f0f921"
            ]
           ],
           "sequentialminus": [
            [
             0,
             "#0d0887"
            ],
            [
             0.1111111111111111,
             "#46039f"
            ],
            [
             0.2222222222222222,
             "#7201a8"
            ],
            [
             0.3333333333333333,
             "#9c179e"
            ],
            [
             0.4444444444444444,
             "#bd3786"
            ],
            [
             0.5555555555555556,
             "#d8576b"
            ],
            [
             0.6666666666666666,
             "#ed7953"
            ],
            [
             0.7777777777777778,
             "#fb9f3a"
            ],
            [
             0.8888888888888888,
             "#fdca26"
            ],
            [
             1,
             "#f0f921"
            ]
           ]
          },
          "colorway": [
           "#636efa",
           "#EF553B",
           "#00cc96",
           "#ab63fa",
           "#FFA15A",
           "#19d3f3",
           "#FF6692",
           "#B6E880",
           "#FF97FF",
           "#FECB52"
          ],
          "font": {
           "color": "#2a3f5f"
          },
          "geo": {
           "bgcolor": "white",
           "lakecolor": "white",
           "landcolor": "#E5ECF6",
           "showlakes": true,
           "showland": true,
           "subunitcolor": "white"
          },
          "hoverlabel": {
           "align": "left"
          },
          "hovermode": "closest",
          "mapbox": {
           "style": "light"
          },
          "paper_bgcolor": "white",
          "plot_bgcolor": "#E5ECF6",
          "polar": {
           "angularaxis": {
            "gridcolor": "white",
            "linecolor": "white",
            "ticks": ""
           },
           "bgcolor": "#E5ECF6",
           "radialaxis": {
            "gridcolor": "white",
            "linecolor": "white",
            "ticks": ""
           }
          },
          "scene": {
           "xaxis": {
            "backgroundcolor": "#E5ECF6",
            "gridcolor": "white",
            "gridwidth": 2,
            "linecolor": "white",
            "showbackground": true,
            "ticks": "",
            "zerolinecolor": "white"
           },
           "yaxis": {
            "backgroundcolor": "#E5ECF6",
            "gridcolor": "white",
            "gridwidth": 2,
            "linecolor": "white",
            "showbackground": true,
            "ticks": "",
            "zerolinecolor": "white"
           },
           "zaxis": {
            "backgroundcolor": "#E5ECF6",
            "gridcolor": "white",
            "gridwidth": 2,
            "linecolor": "white",
            "showbackground": true,
            "ticks": "",
            "zerolinecolor": "white"
           }
          },
          "shapedefaults": {
           "line": {
            "color": "#2a3f5f"
           }
          },
          "ternary": {
           "aaxis": {
            "gridcolor": "white",
            "linecolor": "white",
            "ticks": ""
           },
           "baxis": {
            "gridcolor": "white",
            "linecolor": "white",
            "ticks": ""
           },
           "bgcolor": "#E5ECF6",
           "caxis": {
            "gridcolor": "white",
            "linecolor": "white",
            "ticks": ""
           }
          },
          "title": {
           "x": 0.05
          },
          "xaxis": {
           "automargin": true,
           "gridcolor": "white",
           "linecolor": "white",
           "ticks": "",
           "title": {
            "standoff": 15
           },
           "zerolinecolor": "white",
           "zerolinewidth": 2
          },
          "yaxis": {
           "automargin": true,
           "gridcolor": "white",
           "linecolor": "white",
           "ticks": "",
           "title": {
            "standoff": 15
           },
           "zerolinecolor": "white",
           "zerolinewidth": 2
          }
         }
        },
        "title": {
         "text": "Sentiment by month"
        },
        "xaxis": {
         "anchor": "y",
         "domain": [
          0,
          1
         ],
         "title": {
          "text": "Date"
         }
        },
        "yaxis": {
         "anchor": "x",
         "domain": [
          0,
          1
         ],
         "title": {
          "text": "number_of_tweets"
         }
        }
       }
      }
     },
     "metadata": {}
    }
   ],
   "source": [
    "tweet_polarity = px.bar(pol_by_month, x=\"Date\", y=\"number_of_tweets\", color=\"sentiment_pol\",\n",
    "color_discrete_sequence=[\"red\", \"grey\", \"green\"],\n",
    "title=\"Sentiment by month\")\n",
    "                    \n",
    "tweet_polarity.show()"
   ]
  },
  {
   "cell_type": "code",
   "execution_count": 99,
   "metadata": {},
   "outputs": [
    {
     "output_type": "display_data",
     "data": {
      "application/vnd.plotly.v1+json": {
       "config": {
        "plotlyServerURL": "https://plot.ly"
       },
       "data": [
        {
         "alignmentgroup": "True",
         "hovertemplate": "color=Negative<br>Distribution of sentiment=%{x}<br>Number of tweets=%{y}<extra></extra>",
         "legendgroup": "Negative",
         "marker": {
          "color": "red"
         },
         "name": "Negative",
         "offsetgroup": "Negative",
         "orientation": "v",
         "showlegend": true,
         "textposition": "auto",
         "type": "bar",
         "x": [
          "Negative"
         ],
         "xaxis": "x",
         "y": [
          9317
         ],
         "yaxis": "y"
        },
        {
         "alignmentgroup": "True",
         "hovertemplate": "color=Neutral<br>Distribution of sentiment=%{x}<br>Number of tweets=%{y}<extra></extra>",
         "legendgroup": "Neutral",
         "marker": {
          "color": "grey"
         },
         "name": "Neutral",
         "offsetgroup": "Neutral",
         "orientation": "v",
         "showlegend": true,
         "textposition": "auto",
         "type": "bar",
         "x": [
          "Neutral"
         ],
         "xaxis": "x",
         "y": [
          11949
         ],
         "yaxis": "y"
        },
        {
         "alignmentgroup": "True",
         "hovertemplate": "color=Positive<br>Distribution of sentiment=%{x}<br>Number of tweets=%{y}<extra></extra>",
         "legendgroup": "Positive",
         "marker": {
          "color": "green"
         },
         "name": "Positive",
         "offsetgroup": "Positive",
         "orientation": "v",
         "showlegend": true,
         "textposition": "auto",
         "type": "bar",
         "x": [
          "Positive"
         ],
         "xaxis": "x",
         "y": [
          4561
         ],
         "yaxis": "y"
        }
       ],
       "layout": {
        "barmode": "relative",
        "legend": {
         "title": {
          "text": "color"
         },
         "tracegroupgap": 0
        },
        "margin": {
         "t": 60
        },
        "template": {
         "data": {
          "bar": [
           {
            "error_x": {
             "color": "#2a3f5f"
            },
            "error_y": {
             "color": "#2a3f5f"
            },
            "marker": {
             "line": {
              "color": "#E5ECF6",
              "width": 0.5
             }
            },
            "type": "bar"
           }
          ],
          "barpolar": [
           {
            "marker": {
             "line": {
              "color": "#E5ECF6",
              "width": 0.5
             }
            },
            "type": "barpolar"
           }
          ],
          "carpet": [
           {
            "aaxis": {
             "endlinecolor": "#2a3f5f",
             "gridcolor": "white",
             "linecolor": "white",
             "minorgridcolor": "white",
             "startlinecolor": "#2a3f5f"
            },
            "baxis": {
             "endlinecolor": "#2a3f5f",
             "gridcolor": "white",
             "linecolor": "white",
             "minorgridcolor": "white",
             "startlinecolor": "#2a3f5f"
            },
            "type": "carpet"
           }
          ],
          "choropleth": [
           {
            "colorbar": {
             "outlinewidth": 0,
             "ticks": ""
            },
            "type": "choropleth"
           }
          ],
          "contour": [
           {
            "colorbar": {
             "outlinewidth": 0,
             "ticks": ""
            },
            "colorscale": [
             [
              0,
              "#0d0887"
             ],
             [
              0.1111111111111111,
              "#46039f"
             ],
             [
              0.2222222222222222,
              "#7201a8"
             ],
             [
              0.3333333333333333,
              "#9c179e"
             ],
             [
              0.4444444444444444,
              "#bd3786"
             ],
             [
              0.5555555555555556,
              "#d8576b"
             ],
             [
              0.6666666666666666,
              "#ed7953"
             ],
             [
              0.7777777777777778,
              "#fb9f3a"
             ],
             [
              0.8888888888888888,
              "#fdca26"
             ],
             [
              1,
              "#f0f921"
             ]
            ],
            "type": "contour"
           }
          ],
          "contourcarpet": [
           {
            "colorbar": {
             "outlinewidth": 0,
             "ticks": ""
            },
            "type": "contourcarpet"
           }
          ],
          "heatmap": [
           {
            "colorbar": {
             "outlinewidth": 0,
             "ticks": ""
            },
            "colorscale": [
             [
              0,
              "#0d0887"
             ],
             [
              0.1111111111111111,
              "#46039f"
             ],
             [
              0.2222222222222222,
              "#7201a8"
             ],
             [
              0.3333333333333333,
              "#9c179e"
             ],
             [
              0.4444444444444444,
              "#bd3786"
             ],
             [
              0.5555555555555556,
              "#d8576b"
             ],
             [
              0.6666666666666666,
              "#ed7953"
             ],
             [
              0.7777777777777778,
              "#fb9f3a"
             ],
             [
              0.8888888888888888,
              "#fdca26"
             ],
             [
              1,
              "#f0f921"
             ]
            ],
            "type": "heatmap"
           }
          ],
          "heatmapgl": [
           {
            "colorbar": {
             "outlinewidth": 0,
             "ticks": ""
            },
            "colorscale": [
             [
              0,
              "#0d0887"
             ],
             [
              0.1111111111111111,
              "#46039f"
             ],
             [
              0.2222222222222222,
              "#7201a8"
             ],
             [
              0.3333333333333333,
              "#9c179e"
             ],
             [
              0.4444444444444444,
              "#bd3786"
             ],
             [
              0.5555555555555556,
              "#d8576b"
             ],
             [
              0.6666666666666666,
              "#ed7953"
             ],
             [
              0.7777777777777778,
              "#fb9f3a"
             ],
             [
              0.8888888888888888,
              "#fdca26"
             ],
             [
              1,
              "#f0f921"
             ]
            ],
            "type": "heatmapgl"
           }
          ],
          "histogram": [
           {
            "marker": {
             "colorbar": {
              "outlinewidth": 0,
              "ticks": ""
             }
            },
            "type": "histogram"
           }
          ],
          "histogram2d": [
           {
            "colorbar": {
             "outlinewidth": 0,
             "ticks": ""
            },
            "colorscale": [
             [
              0,
              "#0d0887"
             ],
             [
              0.1111111111111111,
              "#46039f"
             ],
             [
              0.2222222222222222,
              "#7201a8"
             ],
             [
              0.3333333333333333,
              "#9c179e"
             ],
             [
              0.4444444444444444,
              "#bd3786"
             ],
             [
              0.5555555555555556,
              "#d8576b"
             ],
             [
              0.6666666666666666,
              "#ed7953"
             ],
             [
              0.7777777777777778,
              "#fb9f3a"
             ],
             [
              0.8888888888888888,
              "#fdca26"
             ],
             [
              1,
              "#f0f921"
             ]
            ],
            "type": "histogram2d"
           }
          ],
          "histogram2dcontour": [
           {
            "colorbar": {
             "outlinewidth": 0,
             "ticks": ""
            },
            "colorscale": [
             [
              0,
              "#0d0887"
             ],
             [
              0.1111111111111111,
              "#46039f"
             ],
             [
              0.2222222222222222,
              "#7201a8"
             ],
             [
              0.3333333333333333,
              "#9c179e"
             ],
             [
              0.4444444444444444,
              "#bd3786"
             ],
             [
              0.5555555555555556,
              "#d8576b"
             ],
             [
              0.6666666666666666,
              "#ed7953"
             ],
             [
              0.7777777777777778,
              "#fb9f3a"
             ],
             [
              0.8888888888888888,
              "#fdca26"
             ],
             [
              1,
              "#f0f921"
             ]
            ],
            "type": "histogram2dcontour"
           }
          ],
          "mesh3d": [
           {
            "colorbar": {
             "outlinewidth": 0,
             "ticks": ""
            },
            "type": "mesh3d"
           }
          ],
          "parcoords": [
           {
            "line": {
             "colorbar": {
              "outlinewidth": 0,
              "ticks": ""
             }
            },
            "type": "parcoords"
           }
          ],
          "pie": [
           {
            "automargin": true,
            "type": "pie"
           }
          ],
          "scatter": [
           {
            "marker": {
             "colorbar": {
              "outlinewidth": 0,
              "ticks": ""
             }
            },
            "type": "scatter"
           }
          ],
          "scatter3d": [
           {
            "line": {
             "colorbar": {
              "outlinewidth": 0,
              "ticks": ""
             }
            },
            "marker": {
             "colorbar": {
              "outlinewidth": 0,
              "ticks": ""
             }
            },
            "type": "scatter3d"
           }
          ],
          "scattercarpet": [
           {
            "marker": {
             "colorbar": {
              "outlinewidth": 0,
              "ticks": ""
             }
            },
            "type": "scattercarpet"
           }
          ],
          "scattergeo": [
           {
            "marker": {
             "colorbar": {
              "outlinewidth": 0,
              "ticks": ""
             }
            },
            "type": "scattergeo"
           }
          ],
          "scattergl": [
           {
            "marker": {
             "colorbar": {
              "outlinewidth": 0,
              "ticks": ""
             }
            },
            "type": "scattergl"
           }
          ],
          "scattermapbox": [
           {
            "marker": {
             "colorbar": {
              "outlinewidth": 0,
              "ticks": ""
             }
            },
            "type": "scattermapbox"
           }
          ],
          "scatterpolar": [
           {
            "marker": {
             "colorbar": {
              "outlinewidth": 0,
              "ticks": ""
             }
            },
            "type": "scatterpolar"
           }
          ],
          "scatterpolargl": [
           {
            "marker": {
             "colorbar": {
              "outlinewidth": 0,
              "ticks": ""
             }
            },
            "type": "scatterpolargl"
           }
          ],
          "scatterternary": [
           {
            "marker": {
             "colorbar": {
              "outlinewidth": 0,
              "ticks": ""
             }
            },
            "type": "scatterternary"
           }
          ],
          "surface": [
           {
            "colorbar": {
             "outlinewidth": 0,
             "ticks": ""
            },
            "colorscale": [
             [
              0,
              "#0d0887"
             ],
             [
              0.1111111111111111,
              "#46039f"
             ],
             [
              0.2222222222222222,
              "#7201a8"
             ],
             [
              0.3333333333333333,
              "#9c179e"
             ],
             [
              0.4444444444444444,
              "#bd3786"
             ],
             [
              0.5555555555555556,
              "#d8576b"
             ],
             [
              0.6666666666666666,
              "#ed7953"
             ],
             [
              0.7777777777777778,
              "#fb9f3a"
             ],
             [
              0.8888888888888888,
              "#fdca26"
             ],
             [
              1,
              "#f0f921"
             ]
            ],
            "type": "surface"
           }
          ],
          "table": [
           {
            "cells": {
             "fill": {
              "color": "#EBF0F8"
             },
             "line": {
              "color": "white"
             }
            },
            "header": {
             "fill": {
              "color": "#C8D4E3"
             },
             "line": {
              "color": "white"
             }
            },
            "type": "table"
           }
          ]
         },
         "layout": {
          "annotationdefaults": {
           "arrowcolor": "#2a3f5f",
           "arrowhead": 0,
           "arrowwidth": 1
          },
          "coloraxis": {
           "colorbar": {
            "outlinewidth": 0,
            "ticks": ""
           }
          },
          "colorscale": {
           "diverging": [
            [
             0,
             "#8e0152"
            ],
            [
             0.1,
             "#c51b7d"
            ],
            [
             0.2,
             "#de77ae"
            ],
            [
             0.3,
             "#f1b6da"
            ],
            [
             0.4,
             "#fde0ef"
            ],
            [
             0.5,
             "#f7f7f7"
            ],
            [
             0.6,
             "#e6f5d0"
            ],
            [
             0.7,
             "#b8e186"
            ],
            [
             0.8,
             "#7fbc41"
            ],
            [
             0.9,
             "#4d9221"
            ],
            [
             1,
             "#276419"
            ]
           ],
           "sequential": [
            [
             0,
             "#0d0887"
            ],
            [
             0.1111111111111111,
             "#46039f"
            ],
            [
             0.2222222222222222,
             "#7201a8"
            ],
            [
             0.3333333333333333,
             "#9c179e"
            ],
            [
             0.4444444444444444,
             "#bd3786"
            ],
            [
             0.5555555555555556,
             "#d8576b"
            ],
            [
             0.6666666666666666,
             "#ed7953"
            ],
            [
             0.7777777777777778,
             "#fb9f3a"
            ],
            [
             0.8888888888888888,
             "#fdca26"
            ],
            [
             1,
             "#f0f921"
            ]
           ],
           "sequentialminus": [
            [
             0,
             "#0d0887"
            ],
            [
             0.1111111111111111,
             "#46039f"
            ],
            [
             0.2222222222222222,
             "#7201a8"
            ],
            [
             0.3333333333333333,
             "#9c179e"
            ],
            [
             0.4444444444444444,
             "#bd3786"
            ],
            [
             0.5555555555555556,
             "#d8576b"
            ],
            [
             0.6666666666666666,
             "#ed7953"
            ],
            [
             0.7777777777777778,
             "#fb9f3a"
            ],
            [
             0.8888888888888888,
             "#fdca26"
            ],
            [
             1,
             "#f0f921"
            ]
           ]
          },
          "colorway": [
           "#636efa",
           "#EF553B",
           "#00cc96",
           "#ab63fa",
           "#FFA15A",
           "#19d3f3",
           "#FF6692",
           "#B6E880",
           "#FF97FF",
           "#FECB52"
          ],
          "font": {
           "color": "#2a3f5f"
          },
          "geo": {
           "bgcolor": "white",
           "lakecolor": "white",
           "landcolor": "#E5ECF6",
           "showlakes": true,
           "showland": true,
           "subunitcolor": "white"
          },
          "hoverlabel": {
           "align": "left"
          },
          "hovermode": "closest",
          "mapbox": {
           "style": "light"
          },
          "paper_bgcolor": "white",
          "plot_bgcolor": "#E5ECF6",
          "polar": {
           "angularaxis": {
            "gridcolor": "white",
            "linecolor": "white",
            "ticks": ""
           },
           "bgcolor": "#E5ECF6",
           "radialaxis": {
            "gridcolor": "white",
            "linecolor": "white",
            "ticks": ""
           }
          },
          "scene": {
           "xaxis": {
            "backgroundcolor": "#E5ECF6",
            "gridcolor": "white",
            "gridwidth": 2,
            "linecolor": "white",
            "showbackground": true,
            "ticks": "",
            "zerolinecolor": "white"
           },
           "yaxis": {
            "backgroundcolor": "#E5ECF6",
            "gridcolor": "white",
            "gridwidth": 2,
            "linecolor": "white",
            "showbackground": true,
            "ticks": "",
            "zerolinecolor": "white"
           },
           "zaxis": {
            "backgroundcolor": "#E5ECF6",
            "gridcolor": "white",
            "gridwidth": 2,
            "linecolor": "white",
            "showbackground": true,
            "ticks": "",
            "zerolinecolor": "white"
           }
          },
          "shapedefaults": {
           "line": {
            "color": "#2a3f5f"
           }
          },
          "ternary": {
           "aaxis": {
            "gridcolor": "white",
            "linecolor": "white",
            "ticks": ""
           },
           "baxis": {
            "gridcolor": "white",
            "linecolor": "white",
            "ticks": ""
           },
           "bgcolor": "#E5ECF6",
           "caxis": {
            "gridcolor": "white",
            "linecolor": "white",
            "ticks": ""
           }
          },
          "title": {
           "x": 0.05
          },
          "xaxis": {
           "automargin": true,
           "gridcolor": "white",
           "linecolor": "white",
           "ticks": "",
           "title": {
            "standoff": 15
           },
           "zerolinecolor": "white",
           "zerolinewidth": 2
          },
          "yaxis": {
           "automargin": true,
           "gridcolor": "white",
           "linecolor": "white",
           "ticks": "",
           "title": {
            "standoff": 15
           },
           "zerolinecolor": "white",
           "zerolinewidth": 2
          }
         }
        },
        "xaxis": {
         "anchor": "y",
         "domain": [
          0,
          1
         ],
         "title": {
          "text": "Distribution of sentiment"
         }
        },
        "yaxis": {
         "anchor": "x",
         "domain": [
          0,
          1
         ],
         "title": {
          "text": "Number of tweets"
         }
        }
       }
      }
     },
     "metadata": {}
    }
   ],
   "source": [
    "tweet_polarity = px.bar(x = [\"Negative\", \"Neutral\" ,\"Positive\"], \n",
    "                    y = [len(pos),len(neutrals),len(neg)], \n",
    "                    title = '', \n",
    "                    labels = dict(x = 'Distribution of sentiment', y = 'Number of tweets'),\n",
    "                    color = [\"Negative\", \"Neutral\" ,\"Positive\"],\n",
    "                    color_discrete_sequence=[\"red\", \"grey\", \"green\"])\n",
    "                    \n",
    "tweet_polarity.show()"
   ]
  },
  {
   "cell_type": "code",
   "execution_count": 101,
   "metadata": {},
   "outputs": [
    {
     "output_type": "execute_result",
     "data": {
      "text/plain": [
       "      Date                                              Tweet  \\\n",
       "2       11  invented diet called chimp diet eat mostly fru...   \n",
       "6       11  thanksgiving hawaii large family indoor gather...   \n",
       "7       11  day day putting trust help better career close...   \n",
       "8       11  join u sat 28 nov virtual banquet shaykh yaser...   \n",
       "9       11  say people ableist embrace eugenics think immu...   \n",
       "...    ...                                                ...   \n",
       "25819   03  seattletimes two novel coronavirus case identi...   \n",
       "25820   03  darnjenjennifer mavola1 charliekirk11 darnjenj...   \n",
       "25821   03  ewarren abramson1234 number trump misfit manag...   \n",
       "25823   03  swkoti rice pasta canned soup getting ready co...   \n",
       "25826   03  douginnc hurricaneeve81 madmamavotes beantownd...   \n",
       "\n",
       "                  User Keyword  \\\n",
       "2       blackbettyblog  corona   \n",
       "6         TheTomGeorge   COVID   \n",
       "7      MuchachoGomez57   COVID   \n",
       "8           Khaberdaar   COVID   \n",
       "9         LauraDurnell   COVID   \n",
       "...                ...     ...   \n",
       "25819          EdJoyce   COVID   \n",
       "25820      akmediaarts  corona   \n",
       "25821          Frodo60   COVID   \n",
       "25823    babybellarose   COVID   \n",
       "25826          Frodo60   COVID   \n",
       "\n",
       "                                              words_list sentiment_pol  \n",
       "2      [invented, diet, called, chimp, diet, eat, mos...      positive  \n",
       "6      [thanksgiving, hawaii, large, family, indoor, ...      positive  \n",
       "7      [day, day, putting, trust, help, better, caree...      positive  \n",
       "8      [join, u, sat, 28, nov, virtual, banquet, shay...      positive  \n",
       "9      [say, people, ableist, embrace, eugenics, thin...      positive  \n",
       "...                                                  ...           ...  \n",
       "25819  [seattletimes, two, novel, coronavirus, case, ...      positive  \n",
       "25820  [darnjenjennifer, mavola1, charliekirk11, darn...      positive  \n",
       "25821  [ewarren, abramson1234, number, trump, misfit,...      positive  \n",
       "25823  [swkoti, rice, pasta, canned, soup, getting, r...      positive  \n",
       "25826  [douginnc, hurricaneeve81, madmamavotes, beant...      positive  \n",
       "\n",
       "[9317 rows x 6 columns]"
      ],
      "text/html": "<div>\n<style scoped>\n    .dataframe tbody tr th:only-of-type {\n        vertical-align: middle;\n    }\n\n    .dataframe tbody tr th {\n        vertical-align: top;\n    }\n\n    .dataframe thead th {\n        text-align: right;\n    }\n</style>\n<table border=\"1\" class=\"dataframe\">\n  <thead>\n    <tr style=\"text-align: right;\">\n      <th></th>\n      <th>Date</th>\n      <th>Tweet</th>\n      <th>User</th>\n      <th>Keyword</th>\n      <th>words_list</th>\n      <th>sentiment_pol</th>\n    </tr>\n  </thead>\n  <tbody>\n    <tr>\n      <th>2</th>\n      <td>11</td>\n      <td>invented diet called chimp diet eat mostly fru...</td>\n      <td>blackbettyblog</td>\n      <td>corona</td>\n      <td>[invented, diet, called, chimp, diet, eat, mos...</td>\n      <td>positive</td>\n    </tr>\n    <tr>\n      <th>6</th>\n      <td>11</td>\n      <td>thanksgiving hawaii large family indoor gather...</td>\n      <td>TheTomGeorge</td>\n      <td>COVID</td>\n      <td>[thanksgiving, hawaii, large, family, indoor, ...</td>\n      <td>positive</td>\n    </tr>\n    <tr>\n      <th>7</th>\n      <td>11</td>\n      <td>day day putting trust help better career close...</td>\n      <td>MuchachoGomez57</td>\n      <td>COVID</td>\n      <td>[day, day, putting, trust, help, better, caree...</td>\n      <td>positive</td>\n    </tr>\n    <tr>\n      <th>8</th>\n      <td>11</td>\n      <td>join u sat 28 nov virtual banquet shaykh yaser...</td>\n      <td>Khaberdaar</td>\n      <td>COVID</td>\n      <td>[join, u, sat, 28, nov, virtual, banquet, shay...</td>\n      <td>positive</td>\n    </tr>\n    <tr>\n      <th>9</th>\n      <td>11</td>\n      <td>say people ableist embrace eugenics think immu...</td>\n      <td>LauraDurnell</td>\n      <td>COVID</td>\n      <td>[say, people, ableist, embrace, eugenics, thin...</td>\n      <td>positive</td>\n    </tr>\n    <tr>\n      <th>...</th>\n      <td>...</td>\n      <td>...</td>\n      <td>...</td>\n      <td>...</td>\n      <td>...</td>\n      <td>...</td>\n    </tr>\n    <tr>\n      <th>25819</th>\n      <td>03</td>\n      <td>seattletimes two novel coronavirus case identi...</td>\n      <td>EdJoyce</td>\n      <td>COVID</td>\n      <td>[seattletimes, two, novel, coronavirus, case, ...</td>\n      <td>positive</td>\n    </tr>\n    <tr>\n      <th>25820</th>\n      <td>03</td>\n      <td>darnjenjennifer mavola1 charliekirk11 darnjenj...</td>\n      <td>akmediaarts</td>\n      <td>corona</td>\n      <td>[darnjenjennifer, mavola1, charliekirk11, darn...</td>\n      <td>positive</td>\n    </tr>\n    <tr>\n      <th>25821</th>\n      <td>03</td>\n      <td>ewarren abramson1234 number trump misfit manag...</td>\n      <td>Frodo60</td>\n      <td>COVID</td>\n      <td>[ewarren, abramson1234, number, trump, misfit,...</td>\n      <td>positive</td>\n    </tr>\n    <tr>\n      <th>25823</th>\n      <td>03</td>\n      <td>swkoti rice pasta canned soup getting ready co...</td>\n      <td>babybellarose</td>\n      <td>COVID</td>\n      <td>[swkoti, rice, pasta, canned, soup, getting, r...</td>\n      <td>positive</td>\n    </tr>\n    <tr>\n      <th>25826</th>\n      <td>03</td>\n      <td>douginnc hurricaneeve81 madmamavotes beantownd...</td>\n      <td>Frodo60</td>\n      <td>COVID</td>\n      <td>[douginnc, hurricaneeve81, madmamavotes, beant...</td>\n      <td>positive</td>\n    </tr>\n  </tbody>\n</table>\n<p>9317 rows × 6 columns</p>\n</div>"
     },
     "metadata": {},
     "execution_count": 101
    }
   ],
   "source": [
    "positive_tweets = covid_19_tweets[covid_19_tweets['sentiment_pol'] == 'positive']\n",
    "positive_tweets\n",
    "negative_tweets = covid_19_tweets[covid_19_tweets['sentiment_pol'] == 'negative']\n",
    "negative_tweets"
   ]
  },
  {
   "cell_type": "code",
   "execution_count": null,
   "metadata": {},
   "outputs": [],
   "source": []
  },
  {
   "source": [
    "# -------------------------------------------------------------------------\n",
    "## Frequency of words"
   ],
   "cell_type": "markdown",
   "metadata": {}
  },
  {
   "cell_type": "code",
   "execution_count": 100,
   "metadata": {},
   "outputs": [
    {
     "output_type": "display_data",
     "data": {
      "application/vnd.plotly.v1+json": {
       "config": {
        "plotlyServerURL": "https://plot.ly"
       },
       "data": [
        {
         "alignmentgroup": "True",
         "hovertemplate": "Distribution of sentiment=%{x}<br>Number of tweets=%{y}<extra></extra>",
         "legendgroup": "",
         "marker": {
          "color": "#636efa"
         },
         "name": "",
         "offsetgroup": "",
         "orientation": "v",
         "showlegend": false,
         "textposition": "auto",
         "type": "bar",
         "x": [
          "covid19",
          "amp",
          "people",
          "ha",
          "corona",
          "covid",
          "get",
          "u",
          "wa",
          "case",
          "trump",
          "vaccine",
          "new",
          "one",
          "mask",
          "death",
          "dont",
          "like",
          "virus",
          "time",
          "day",
          "coronavirus",
          "pandemic",
          "positive",
          "test",
          "im",
          "19",
          "thanksgiving",
          "need",
          "today"
         ],
         "xaxis": "x",
         "y": [
          20911,
          2886,
          2657,
          2499,
          2191,
          2083,
          2015,
          1971,
          1843,
          1781,
          1644,
          1581,
          1488,
          1478,
          1446,
          1426,
          1382,
          1354,
          1294,
          1263,
          1228,
          1214,
          1186,
          1164,
          1164,
          1142,
          1137,
          1127,
          1063,
          1055
         ],
         "yaxis": "y"
        }
       ],
       "layout": {
        "barmode": "relative",
        "legend": {
         "tracegroupgap": 0
        },
        "margin": {
         "t": 60
        },
        "template": {
         "data": {
          "bar": [
           {
            "error_x": {
             "color": "#2a3f5f"
            },
            "error_y": {
             "color": "#2a3f5f"
            },
            "marker": {
             "line": {
              "color": "#E5ECF6",
              "width": 0.5
             }
            },
            "type": "bar"
           }
          ],
          "barpolar": [
           {
            "marker": {
             "line": {
              "color": "#E5ECF6",
              "width": 0.5
             }
            },
            "type": "barpolar"
           }
          ],
          "carpet": [
           {
            "aaxis": {
             "endlinecolor": "#2a3f5f",
             "gridcolor": "white",
             "linecolor": "white",
             "minorgridcolor": "white",
             "startlinecolor": "#2a3f5f"
            },
            "baxis": {
             "endlinecolor": "#2a3f5f",
             "gridcolor": "white",
             "linecolor": "white",
             "minorgridcolor": "white",
             "startlinecolor": "#2a3f5f"
            },
            "type": "carpet"
           }
          ],
          "choropleth": [
           {
            "colorbar": {
             "outlinewidth": 0,
             "ticks": ""
            },
            "type": "choropleth"
           }
          ],
          "contour": [
           {
            "colorbar": {
             "outlinewidth": 0,
             "ticks": ""
            },
            "colorscale": [
             [
              0,
              "#0d0887"
             ],
             [
              0.1111111111111111,
              "#46039f"
             ],
             [
              0.2222222222222222,
              "#7201a8"
             ],
             [
              0.3333333333333333,
              "#9c179e"
             ],
             [
              0.4444444444444444,
              "#bd3786"
             ],
             [
              0.5555555555555556,
              "#d8576b"
             ],
             [
              0.6666666666666666,
              "#ed7953"
             ],
             [
              0.7777777777777778,
              "#fb9f3a"
             ],
             [
              0.8888888888888888,
              "#fdca26"
             ],
             [
              1,
              "#f0f921"
             ]
            ],
            "type": "contour"
           }
          ],
          "contourcarpet": [
           {
            "colorbar": {
             "outlinewidth": 0,
             "ticks": ""
            },
            "type": "contourcarpet"
           }
          ],
          "heatmap": [
           {
            "colorbar": {
             "outlinewidth": 0,
             "ticks": ""
            },
            "colorscale": [
             [
              0,
              "#0d0887"
             ],
             [
              0.1111111111111111,
              "#46039f"
             ],
             [
              0.2222222222222222,
              "#7201a8"
             ],
             [
              0.3333333333333333,
              "#9c179e"
             ],
             [
              0.4444444444444444,
              "#bd3786"
             ],
             [
              0.5555555555555556,
              "#d8576b"
             ],
             [
              0.6666666666666666,
              "#ed7953"
             ],
             [
              0.7777777777777778,
              "#fb9f3a"
             ],
             [
              0.8888888888888888,
              "#fdca26"
             ],
             [
              1,
              "#f0f921"
             ]
            ],
            "type": "heatmap"
           }
          ],
          "heatmapgl": [
           {
            "colorbar": {
             "outlinewidth": 0,
             "ticks": ""
            },
            "colorscale": [
             [
              0,
              "#0d0887"
             ],
             [
              0.1111111111111111,
              "#46039f"
             ],
             [
              0.2222222222222222,
              "#7201a8"
             ],
             [
              0.3333333333333333,
              "#9c179e"
             ],
             [
              0.4444444444444444,
              "#bd3786"
             ],
             [
              0.5555555555555556,
              "#d8576b"
             ],
             [
              0.6666666666666666,
              "#ed7953"
             ],
             [
              0.7777777777777778,
              "#fb9f3a"
             ],
             [
              0.8888888888888888,
              "#fdca26"
             ],
             [
              1,
              "#f0f921"
             ]
            ],
            "type": "heatmapgl"
           }
          ],
          "histogram": [
           {
            "marker": {
             "colorbar": {
              "outlinewidth": 0,
              "ticks": ""
             }
            },
            "type": "histogram"
           }
          ],
          "histogram2d": [
           {
            "colorbar": {
             "outlinewidth": 0,
             "ticks": ""
            },
            "colorscale": [
             [
              0,
              "#0d0887"
             ],
             [
              0.1111111111111111,
              "#46039f"
             ],
             [
              0.2222222222222222,
              "#7201a8"
             ],
             [
              0.3333333333333333,
              "#9c179e"
             ],
             [
              0.4444444444444444,
              "#bd3786"
             ],
             [
              0.5555555555555556,
              "#d8576b"
             ],
             [
              0.6666666666666666,
              "#ed7953"
             ],
             [
              0.7777777777777778,
              "#fb9f3a"
             ],
             [
              0.8888888888888888,
              "#fdca26"
             ],
             [
              1,
              "#f0f921"
             ]
            ],
            "type": "histogram2d"
           }
          ],
          "histogram2dcontour": [
           {
            "colorbar": {
             "outlinewidth": 0,
             "ticks": ""
            },
            "colorscale": [
             [
              0,
              "#0d0887"
             ],
             [
              0.1111111111111111,
              "#46039f"
             ],
             [
              0.2222222222222222,
              "#7201a8"
             ],
             [
              0.3333333333333333,
              "#9c179e"
             ],
             [
              0.4444444444444444,
              "#bd3786"
             ],
             [
              0.5555555555555556,
              "#d8576b"
             ],
             [
              0.6666666666666666,
              "#ed7953"
             ],
             [
              0.7777777777777778,
              "#fb9f3a"
             ],
             [
              0.8888888888888888,
              "#fdca26"
             ],
             [
              1,
              "#f0f921"
             ]
            ],
            "type": "histogram2dcontour"
           }
          ],
          "mesh3d": [
           {
            "colorbar": {
             "outlinewidth": 0,
             "ticks": ""
            },
            "type": "mesh3d"
           }
          ],
          "parcoords": [
           {
            "line": {
             "colorbar": {
              "outlinewidth": 0,
              "ticks": ""
             }
            },
            "type": "parcoords"
           }
          ],
          "pie": [
           {
            "automargin": true,
            "type": "pie"
           }
          ],
          "scatter": [
           {
            "marker": {
             "colorbar": {
              "outlinewidth": 0,
              "ticks": ""
             }
            },
            "type": "scatter"
           }
          ],
          "scatter3d": [
           {
            "line": {
             "colorbar": {
              "outlinewidth": 0,
              "ticks": ""
             }
            },
            "marker": {
             "colorbar": {
              "outlinewidth": 0,
              "ticks": ""
             }
            },
            "type": "scatter3d"
           }
          ],
          "scattercarpet": [
           {
            "marker": {
             "colorbar": {
              "outlinewidth": 0,
              "ticks": ""
             }
            },
            "type": "scattercarpet"
           }
          ],
          "scattergeo": [
           {
            "marker": {
             "colorbar": {
              "outlinewidth": 0,
              "ticks": ""
             }
            },
            "type": "scattergeo"
           }
          ],
          "scattergl": [
           {
            "marker": {
             "colorbar": {
              "outlinewidth": 0,
              "ticks": ""
             }
            },
            "type": "scattergl"
           }
          ],
          "scattermapbox": [
           {
            "marker": {
             "colorbar": {
              "outlinewidth": 0,
              "ticks": ""
             }
            },
            "type": "scattermapbox"
           }
          ],
          "scatterpolar": [
           {
            "marker": {
             "colorbar": {
              "outlinewidth": 0,
              "ticks": ""
             }
            },
            "type": "scatterpolar"
           }
          ],
          "scatterpolargl": [
           {
            "marker": {
             "colorbar": {
              "outlinewidth": 0,
              "ticks": ""
             }
            },
            "type": "scatterpolargl"
           }
          ],
          "scatterternary": [
           {
            "marker": {
             "colorbar": {
              "outlinewidth": 0,
              "ticks": ""
             }
            },
            "type": "scatterternary"
           }
          ],
          "surface": [
           {
            "colorbar": {
             "outlinewidth": 0,
             "ticks": ""
            },
            "colorscale": [
             [
              0,
              "#0d0887"
             ],
             [
              0.1111111111111111,
              "#46039f"
             ],
             [
              0.2222222222222222,
              "#7201a8"
             ],
             [
              0.3333333333333333,
              "#9c179e"
             ],
             [
              0.4444444444444444,
              "#bd3786"
             ],
             [
              0.5555555555555556,
              "#d8576b"
             ],
             [
              0.6666666666666666,
              "#ed7953"
             ],
             [
              0.7777777777777778,
              "#fb9f3a"
             ],
             [
              0.8888888888888888,
              "#fdca26"
             ],
             [
              1,
              "#f0f921"
             ]
            ],
            "type": "surface"
           }
          ],
          "table": [
           {
            "cells": {
             "fill": {
              "color": "#EBF0F8"
             },
             "line": {
              "color": "white"
             }
            },
            "header": {
             "fill": {
              "color": "#C8D4E3"
             },
             "line": {
              "color": "white"
             }
            },
            "type": "table"
           }
          ]
         },
         "layout": {
          "annotationdefaults": {
           "arrowcolor": "#2a3f5f",
           "arrowhead": 0,
           "arrowwidth": 1
          },
          "coloraxis": {
           "colorbar": {
            "outlinewidth": 0,
            "ticks": ""
           }
          },
          "colorscale": {
           "diverging": [
            [
             0,
             "#8e0152"
            ],
            [
             0.1,
             "#c51b7d"
            ],
            [
             0.2,
             "#de77ae"
            ],
            [
             0.3,
             "#f1b6da"
            ],
            [
             0.4,
             "#fde0ef"
            ],
            [
             0.5,
             "#f7f7f7"
            ],
            [
             0.6,
             "#e6f5d0"
            ],
            [
             0.7,
             "#b8e186"
            ],
            [
             0.8,
             "#7fbc41"
            ],
            [
             0.9,
             "#4d9221"
            ],
            [
             1,
             "#276419"
            ]
           ],
           "sequential": [
            [
             0,
             "#0d0887"
            ],
            [
             0.1111111111111111,
             "#46039f"
            ],
            [
             0.2222222222222222,
             "#7201a8"
            ],
            [
             0.3333333333333333,
             "#9c179e"
            ],
            [
             0.4444444444444444,
             "#bd3786"
            ],
            [
             0.5555555555555556,
             "#d8576b"
            ],
            [
             0.6666666666666666,
             "#ed7953"
            ],
            [
             0.7777777777777778,
             "#fb9f3a"
            ],
            [
             0.8888888888888888,
             "#fdca26"
            ],
            [
             1,
             "#f0f921"
            ]
           ],
           "sequentialminus": [
            [
             0,
             "#0d0887"
            ],
            [
             0.1111111111111111,
             "#46039f"
            ],
            [
             0.2222222222222222,
             "#7201a8"
            ],
            [
             0.3333333333333333,
             "#9c179e"
            ],
            [
             0.4444444444444444,
             "#bd3786"
            ],
            [
             0.5555555555555556,
             "#d8576b"
            ],
            [
             0.6666666666666666,
             "#ed7953"
            ],
            [
             0.7777777777777778,
             "#fb9f3a"
            ],
            [
             0.8888888888888888,
             "#fdca26"
            ],
            [
             1,
             "#f0f921"
            ]
           ]
          },
          "colorway": [
           "#636efa",
           "#EF553B",
           "#00cc96",
           "#ab63fa",
           "#FFA15A",
           "#19d3f3",
           "#FF6692",
           "#B6E880",
           "#FF97FF",
           "#FECB52"
          ],
          "font": {
           "color": "#2a3f5f"
          },
          "geo": {
           "bgcolor": "white",
           "lakecolor": "white",
           "landcolor": "#E5ECF6",
           "showlakes": true,
           "showland": true,
           "subunitcolor": "white"
          },
          "hoverlabel": {
           "align": "left"
          },
          "hovermode": "closest",
          "mapbox": {
           "style": "light"
          },
          "paper_bgcolor": "white",
          "plot_bgcolor": "#E5ECF6",
          "polar": {
           "angularaxis": {
            "gridcolor": "white",
            "linecolor": "white",
            "ticks": ""
           },
           "bgcolor": "#E5ECF6",
           "radialaxis": {
            "gridcolor": "white",
            "linecolor": "white",
            "ticks": ""
           }
          },
          "scene": {
           "xaxis": {
            "backgroundcolor": "#E5ECF6",
            "gridcolor": "white",
            "gridwidth": 2,
            "linecolor": "white",
            "showbackground": true,
            "ticks": "",
            "zerolinecolor": "white"
           },
           "yaxis": {
            "backgroundcolor": "#E5ECF6",
            "gridcolor": "white",
            "gridwidth": 2,
            "linecolor": "white",
            "showbackground": true,
            "ticks": "",
            "zerolinecolor": "white"
           },
           "zaxis": {
            "backgroundcolor": "#E5ECF6",
            "gridcolor": "white",
            "gridwidth": 2,
            "linecolor": "white",
            "showbackground": true,
            "ticks": "",
            "zerolinecolor": "white"
           }
          },
          "shapedefaults": {
           "line": {
            "color": "#2a3f5f"
           }
          },
          "ternary": {
           "aaxis": {
            "gridcolor": "white",
            "linecolor": "white",
            "ticks": ""
           },
           "baxis": {
            "gridcolor": "white",
            "linecolor": "white",
            "ticks": ""
           },
           "bgcolor": "#E5ECF6",
           "caxis": {
            "gridcolor": "white",
            "linecolor": "white",
            "ticks": ""
           }
          },
          "title": {
           "x": 0.05
          },
          "xaxis": {
           "automargin": true,
           "gridcolor": "white",
           "linecolor": "white",
           "ticks": "",
           "title": {
            "standoff": 15
           },
           "zerolinecolor": "white",
           "zerolinewidth": 2
          },
          "yaxis": {
           "automargin": true,
           "gridcolor": "white",
           "linecolor": "white",
           "ticks": "",
           "title": {
            "standoff": 15
           },
           "zerolinecolor": "white",
           "zerolinewidth": 2
          }
         }
        },
        "xaxis": {
         "anchor": "y",
         "domain": [
          0,
          1
         ],
         "title": {
          "text": "Distribution of sentiment"
         }
        },
        "yaxis": {
         "anchor": "x",
         "domain": [
          0,
          1
         ],
         "title": {
          "text": "Number of tweets"
         }
        }
       }
      }
     },
     "metadata": {}
    }
   ],
   "source": [
    "words_covid = list(itertools.chain(*covid_19_tweets['words_list'].tolist()))\n",
    "words_covid_df = pd.DataFrame(columns = ['words'])\n",
    "words_covid_df['words'] = words_covid\n",
    "\n",
    "words_covid_df = words_covid_df['words'].value_counts(sort=True).to_frame().reset_index().rename(columns={'words':'occurences','index': 'words'})\n",
    "words_covid_df = words_covid_df.head(30)\n",
    "word_occurences = px.bar(x = words_covid_df['words'], \n",
    "                    y = words_covid_df['occurences'],\n",
    "                    title = '', \n",
    "                    labels = dict(x = 'Distribution of sentiment', y = 'Number of tweets'))\n",
    "                    \n",
    "word_occurences.show()"
   ]
  },
  {
   "source": [
    "# -------------------------------------------------------------------------\n",
    "## Over time"
   ],
   "cell_type": "markdown",
   "metadata": {}
  },
  {
   "cell_type": "code",
   "execution_count": 101,
   "metadata": {},
   "outputs": [
    {
     "output_type": "execute_result",
     "data": {
      "text/plain": [
       "Date  Keyword\n",
       "03    COVID        677\n",
       "      corona       106\n",
       "04    COVID        772\n",
       "      corona        64\n",
       "05    COVID        528\n",
       "      corona        31\n",
       "06    COVID        224\n",
       "      corona        11\n",
       "07    COVID        277\n",
       "      corona        14\n",
       "08    COVID        162\n",
       "      corona         3\n",
       "09    COVID        105\n",
       "      corona        14\n",
       "10    COVID        247\n",
       "      corona         4\n",
       "11    COVID      19693\n",
       "      corona      2895\n",
       "Name: Keyword, dtype: int64"
      ]
     },
     "metadata": {},
     "execution_count": 101
    }
   ],
   "source": [
    "by_keyword = covid_19_tweets[['Keyword','Date']]\n",
    "by_keyword = by_keyword[['Keyword','Date']].groupby(['Date','Keyword'])['Keyword'].count()\n",
    "by_keyword"
   ]
  },
  {
   "cell_type": "code",
   "execution_count": 102,
   "metadata": {},
   "outputs": [],
   "source": [
    "count2 = 0\n",
    "month = 2\n",
    "final_vals = []\n",
    "for i in range(0,len(by_keyword)):\n",
    "    keyword = \"Covid\" if count2%2 == 0 else \"corona\"\n",
    "    month = month + 1 if count2%2 == 0 else month\n",
    "    count2 = count2 + 1\n",
    "    counts = by_keyword[i]\n",
    "    curr = [month,keyword,counts]\n",
    "    final_vals.append(curr)\n",
    "df = pd.DataFrame(final_vals, columns=['Month', 'Keyword','Count'])\n",
    "df_nonov = df[:-2]"
   ]
  },
  {
   "cell_type": "code",
   "execution_count": 103,
   "metadata": {},
   "outputs": [
    {
     "output_type": "execute_result",
     "data": {
      "text/plain": [
       "    Month Keyword  Count  nov\n",
       "0       3   Covid    677    0\n",
       "1       3  corona    106    0\n",
       "2       4   Covid    772    0\n",
       "3       4  corona     64    0\n",
       "4       5   Covid    528    0\n",
       "5       5  corona     31    0\n",
       "6       6   Covid    224    0\n",
       "7       6  corona     11    0\n",
       "8       7   Covid    277    0\n",
       "9       7  corona     14    0\n",
       "10      8   Covid    162    0\n",
       "11      8  corona      3    0\n",
       "12      9   Covid    105    0\n",
       "13      9  corona     14    0\n",
       "14     10   Covid    247    0\n",
       "15     10  corona      4    0\n",
       "16     11   Covid  19693    1\n",
       "17     11  corona   2895    1"
      ],
      "text/html": "<div>\n<style scoped>\n    .dataframe tbody tr th:only-of-type {\n        vertical-align: middle;\n    }\n\n    .dataframe tbody tr th {\n        vertical-align: top;\n    }\n\n    .dataframe thead th {\n        text-align: right;\n    }\n</style>\n<table border=\"1\" class=\"dataframe\">\n  <thead>\n    <tr style=\"text-align: right;\">\n      <th></th>\n      <th>Month</th>\n      <th>Keyword</th>\n      <th>Count</th>\n      <th>nov</th>\n    </tr>\n  </thead>\n  <tbody>\n    <tr>\n      <th>0</th>\n      <td>3</td>\n      <td>Covid</td>\n      <td>677</td>\n      <td>0</td>\n    </tr>\n    <tr>\n      <th>1</th>\n      <td>3</td>\n      <td>corona</td>\n      <td>106</td>\n      <td>0</td>\n    </tr>\n    <tr>\n      <th>2</th>\n      <td>4</td>\n      <td>Covid</td>\n      <td>772</td>\n      <td>0</td>\n    </tr>\n    <tr>\n      <th>3</th>\n      <td>4</td>\n      <td>corona</td>\n      <td>64</td>\n      <td>0</td>\n    </tr>\n    <tr>\n      <th>4</th>\n      <td>5</td>\n      <td>Covid</td>\n      <td>528</td>\n      <td>0</td>\n    </tr>\n    <tr>\n      <th>5</th>\n      <td>5</td>\n      <td>corona</td>\n      <td>31</td>\n      <td>0</td>\n    </tr>\n    <tr>\n      <th>6</th>\n      <td>6</td>\n      <td>Covid</td>\n      <td>224</td>\n      <td>0</td>\n    </tr>\n    <tr>\n      <th>7</th>\n      <td>6</td>\n      <td>corona</td>\n      <td>11</td>\n      <td>0</td>\n    </tr>\n    <tr>\n      <th>8</th>\n      <td>7</td>\n      <td>Covid</td>\n      <td>277</td>\n      <td>0</td>\n    </tr>\n    <tr>\n      <th>9</th>\n      <td>7</td>\n      <td>corona</td>\n      <td>14</td>\n      <td>0</td>\n    </tr>\n    <tr>\n      <th>10</th>\n      <td>8</td>\n      <td>Covid</td>\n      <td>162</td>\n      <td>0</td>\n    </tr>\n    <tr>\n      <th>11</th>\n      <td>8</td>\n      <td>corona</td>\n      <td>3</td>\n      <td>0</td>\n    </tr>\n    <tr>\n      <th>12</th>\n      <td>9</td>\n      <td>Covid</td>\n      <td>105</td>\n      <td>0</td>\n    </tr>\n    <tr>\n      <th>13</th>\n      <td>9</td>\n      <td>corona</td>\n      <td>14</td>\n      <td>0</td>\n    </tr>\n    <tr>\n      <th>14</th>\n      <td>10</td>\n      <td>Covid</td>\n      <td>247</td>\n      <td>0</td>\n    </tr>\n    <tr>\n      <th>15</th>\n      <td>10</td>\n      <td>corona</td>\n      <td>4</td>\n      <td>0</td>\n    </tr>\n    <tr>\n      <th>16</th>\n      <td>11</td>\n      <td>Covid</td>\n      <td>19693</td>\n      <td>1</td>\n    </tr>\n    <tr>\n      <th>17</th>\n      <td>11</td>\n      <td>corona</td>\n      <td>2895</td>\n      <td>1</td>\n    </tr>\n  </tbody>\n</table>\n</div>"
     },
     "metadata": {},
     "execution_count": 103
    }
   ],
   "source": [
    "df_nonov[\"nov\"] = 0\n",
    "df_nonov\n",
    "df_nonov.loc[16] = [11,'Covid', 19693, 1]\n",
    "df_nonov.loc[17] = [11,'corona', 2895, 1]\n",
    "#df_nonov.append([11,'Covid', 19693, 1], axis=0)\n",
    "df_nonov"
   ]
  },
  {
   "cell_type": "code",
   "execution_count": null,
   "metadata": {},
   "outputs": [],
   "source": []
  },
  {
   "cell_type": "code",
   "execution_count": 104,
   "metadata": {},
   "outputs": [
    {
     "output_type": "display_data",
     "data": {
      "application/vnd.plotly.v1+json": {
       "config": {
        "plotlyServerURL": "https://plot.ly"
       },
       "data": [
        {
         "alignmentgroup": "True",
         "hovertemplate": "Keyword=Covid<br>Month=%{x}<br>Count=%{y}<extra></extra>",
         "legendgroup": "Covid",
         "marker": {
          "color": "#636efa"
         },
         "name": "Covid",
         "offsetgroup": "Covid",
         "orientation": "v",
         "showlegend": true,
         "textposition": "auto",
         "type": "bar",
         "x": [
          3,
          4,
          5,
          6,
          7,
          8,
          9,
          10,
          11
         ],
         "xaxis": "x",
         "y": [
          677,
          772,
          528,
          224,
          277,
          162,
          105,
          247,
          19693
         ],
         "yaxis": "y"
        },
        {
         "alignmentgroup": "True",
         "hovertemplate": "Keyword=corona<br>Month=%{x}<br>Count=%{y}<extra></extra>",
         "legendgroup": "corona",
         "marker": {
          "color": "#EF553B"
         },
         "name": "corona",
         "offsetgroup": "corona",
         "orientation": "v",
         "showlegend": true,
         "textposition": "auto",
         "type": "bar",
         "x": [
          3,
          4,
          5,
          6,
          7,
          8,
          9,
          10,
          11
         ],
         "xaxis": "x",
         "y": [
          106,
          64,
          31,
          11,
          14,
          3,
          14,
          4,
          2895
         ],
         "yaxis": "y"
        }
       ],
       "layout": {
        "barmode": "relative",
        "legend": {
         "title": {
          "text": "Keyword"
         },
         "tracegroupgap": 0
        },
        "template": {
         "data": {
          "bar": [
           {
            "error_x": {
             "color": "#2a3f5f"
            },
            "error_y": {
             "color": "#2a3f5f"
            },
            "marker": {
             "line": {
              "color": "#E5ECF6",
              "width": 0.5
             }
            },
            "type": "bar"
           }
          ],
          "barpolar": [
           {
            "marker": {
             "line": {
              "color": "#E5ECF6",
              "width": 0.5
             }
            },
            "type": "barpolar"
           }
          ],
          "carpet": [
           {
            "aaxis": {
             "endlinecolor": "#2a3f5f",
             "gridcolor": "white",
             "linecolor": "white",
             "minorgridcolor": "white",
             "startlinecolor": "#2a3f5f"
            },
            "baxis": {
             "endlinecolor": "#2a3f5f",
             "gridcolor": "white",
             "linecolor": "white",
             "minorgridcolor": "white",
             "startlinecolor": "#2a3f5f"
            },
            "type": "carpet"
           }
          ],
          "choropleth": [
           {
            "colorbar": {
             "outlinewidth": 0,
             "ticks": ""
            },
            "type": "choropleth"
           }
          ],
          "contour": [
           {
            "colorbar": {
             "outlinewidth": 0,
             "ticks": ""
            },
            "colorscale": [
             [
              0,
              "#0d0887"
             ],
             [
              0.1111111111111111,
              "#46039f"
             ],
             [
              0.2222222222222222,
              "#7201a8"
             ],
             [
              0.3333333333333333,
              "#9c179e"
             ],
             [
              0.4444444444444444,
              "#bd3786"
             ],
             [
              0.5555555555555556,
              "#d8576b"
             ],
             [
              0.6666666666666666,
              "#ed7953"
             ],
             [
              0.7777777777777778,
              "#fb9f3a"
             ],
             [
              0.8888888888888888,
              "#fdca26"
             ],
             [
              1,
              "#f0f921"
             ]
            ],
            "type": "contour"
           }
          ],
          "contourcarpet": [
           {
            "colorbar": {
             "outlinewidth": 0,
             "ticks": ""
            },
            "type": "contourcarpet"
           }
          ],
          "heatmap": [
           {
            "colorbar": {
             "outlinewidth": 0,
             "ticks": ""
            },
            "colorscale": [
             [
              0,
              "#0d0887"
             ],
             [
              0.1111111111111111,
              "#46039f"
             ],
             [
              0.2222222222222222,
              "#7201a8"
             ],
             [
              0.3333333333333333,
              "#9c179e"
             ],
             [
              0.4444444444444444,
              "#bd3786"
             ],
             [
              0.5555555555555556,
              "#d8576b"
             ],
             [
              0.6666666666666666,
              "#ed7953"
             ],
             [
              0.7777777777777778,
              "#fb9f3a"
             ],
             [
              0.8888888888888888,
              "#fdca26"
             ],
             [
              1,
              "#f0f921"
             ]
            ],
            "type": "heatmap"
           }
          ],
          "heatmapgl": [
           {
            "colorbar": {
             "outlinewidth": 0,
             "ticks": ""
            },
            "colorscale": [
             [
              0,
              "#0d0887"
             ],
             [
              0.1111111111111111,
              "#46039f"
             ],
             [
              0.2222222222222222,
              "#7201a8"
             ],
             [
              0.3333333333333333,
              "#9c179e"
             ],
             [
              0.4444444444444444,
              "#bd3786"
             ],
             [
              0.5555555555555556,
              "#d8576b"
             ],
             [
              0.6666666666666666,
              "#ed7953"
             ],
             [
              0.7777777777777778,
              "#fb9f3a"
             ],
             [
              0.8888888888888888,
              "#fdca26"
             ],
             [
              1,
              "#f0f921"
             ]
            ],
            "type": "heatmapgl"
           }
          ],
          "histogram": [
           {
            "marker": {
             "colorbar": {
              "outlinewidth": 0,
              "ticks": ""
             }
            },
            "type": "histogram"
           }
          ],
          "histogram2d": [
           {
            "colorbar": {
             "outlinewidth": 0,
             "ticks": ""
            },
            "colorscale": [
             [
              0,
              "#0d0887"
             ],
             [
              0.1111111111111111,
              "#46039f"
             ],
             [
              0.2222222222222222,
              "#7201a8"
             ],
             [
              0.3333333333333333,
              "#9c179e"
             ],
             [
              0.4444444444444444,
              "#bd3786"
             ],
             [
              0.5555555555555556,
              "#d8576b"
             ],
             [
              0.6666666666666666,
              "#ed7953"
             ],
             [
              0.7777777777777778,
              "#fb9f3a"
             ],
             [
              0.8888888888888888,
              "#fdca26"
             ],
             [
              1,
              "#f0f921"
             ]
            ],
            "type": "histogram2d"
           }
          ],
          "histogram2dcontour": [
           {
            "colorbar": {
             "outlinewidth": 0,
             "ticks": ""
            },
            "colorscale": [
             [
              0,
              "#0d0887"
             ],
             [
              0.1111111111111111,
              "#46039f"
             ],
             [
              0.2222222222222222,
              "#7201a8"
             ],
             [
              0.3333333333333333,
              "#9c179e"
             ],
             [
              0.4444444444444444,
              "#bd3786"
             ],
             [
              0.5555555555555556,
              "#d8576b"
             ],
             [
              0.6666666666666666,
              "#ed7953"
             ],
             [
              0.7777777777777778,
              "#fb9f3a"
             ],
             [
              0.8888888888888888,
              "#fdca26"
             ],
             [
              1,
              "#f0f921"
             ]
            ],
            "type": "histogram2dcontour"
           }
          ],
          "mesh3d": [
           {
            "colorbar": {
             "outlinewidth": 0,
             "ticks": ""
            },
            "type": "mesh3d"
           }
          ],
          "parcoords": [
           {
            "line": {
             "colorbar": {
              "outlinewidth": 0,
              "ticks": ""
             }
            },
            "type": "parcoords"
           }
          ],
          "pie": [
           {
            "automargin": true,
            "type": "pie"
           }
          ],
          "scatter": [
           {
            "marker": {
             "colorbar": {
              "outlinewidth": 0,
              "ticks": ""
             }
            },
            "type": "scatter"
           }
          ],
          "scatter3d": [
           {
            "line": {
             "colorbar": {
              "outlinewidth": 0,
              "ticks": ""
             }
            },
            "marker": {
             "colorbar": {
              "outlinewidth": 0,
              "ticks": ""
             }
            },
            "type": "scatter3d"
           }
          ],
          "scattercarpet": [
           {
            "marker": {
             "colorbar": {
              "outlinewidth": 0,
              "ticks": ""
             }
            },
            "type": "scattercarpet"
           }
          ],
          "scattergeo": [
           {
            "marker": {
             "colorbar": {
              "outlinewidth": 0,
              "ticks": ""
             }
            },
            "type": "scattergeo"
           }
          ],
          "scattergl": [
           {
            "marker": {
             "colorbar": {
              "outlinewidth": 0,
              "ticks": ""
             }
            },
            "type": "scattergl"
           }
          ],
          "scattermapbox": [
           {
            "marker": {
             "colorbar": {
              "outlinewidth": 0,
              "ticks": ""
             }
            },
            "type": "scattermapbox"
           }
          ],
          "scatterpolar": [
           {
            "marker": {
             "colorbar": {
              "outlinewidth": 0,
              "ticks": ""
             }
            },
            "type": "scatterpolar"
           }
          ],
          "scatterpolargl": [
           {
            "marker": {
             "colorbar": {
              "outlinewidth": 0,
              "ticks": ""
             }
            },
            "type": "scatterpolargl"
           }
          ],
          "scatterternary": [
           {
            "marker": {
             "colorbar": {
              "outlinewidth": 0,
              "ticks": ""
             }
            },
            "type": "scatterternary"
           }
          ],
          "surface": [
           {
            "colorbar": {
             "outlinewidth": 0,
             "ticks": ""
            },
            "colorscale": [
             [
              0,
              "#0d0887"
             ],
             [
              0.1111111111111111,
              "#46039f"
             ],
             [
              0.2222222222222222,
              "#7201a8"
             ],
             [
              0.3333333333333333,
              "#9c179e"
             ],
             [
              0.4444444444444444,
              "#bd3786"
             ],
             [
              0.5555555555555556,
              "#d8576b"
             ],
             [
              0.6666666666666666,
              "#ed7953"
             ],
             [
              0.7777777777777778,
              "#fb9f3a"
             ],
             [
              0.8888888888888888,
              "#fdca26"
             ],
             [
              1,
              "#f0f921"
             ]
            ],
            "type": "surface"
           }
          ],
          "table": [
           {
            "cells": {
             "fill": {
              "color": "#EBF0F8"
             },
             "line": {
              "color": "white"
             }
            },
            "header": {
             "fill": {
              "color": "#C8D4E3"
             },
             "line": {
              "color": "white"
             }
            },
            "type": "table"
           }
          ]
         },
         "layout": {
          "annotationdefaults": {
           "arrowcolor": "#2a3f5f",
           "arrowhead": 0,
           "arrowwidth": 1
          },
          "coloraxis": {
           "colorbar": {
            "outlinewidth": 0,
            "ticks": ""
           }
          },
          "colorscale": {
           "diverging": [
            [
             0,
             "#8e0152"
            ],
            [
             0.1,
             "#c51b7d"
            ],
            [
             0.2,
             "#de77ae"
            ],
            [
             0.3,
             "#f1b6da"
            ],
            [
             0.4,
             "#fde0ef"
            ],
            [
             0.5,
             "#f7f7f7"
            ],
            [
             0.6,
             "#e6f5d0"
            ],
            [
             0.7,
             "#b8e186"
            ],
            [
             0.8,
             "#7fbc41"
            ],
            [
             0.9,
             "#4d9221"
            ],
            [
             1,
             "#276419"
            ]
           ],
           "sequential": [
            [
             0,
             "#0d0887"
            ],
            [
             0.1111111111111111,
             "#46039f"
            ],
            [
             0.2222222222222222,
             "#7201a8"
            ],
            [
             0.3333333333333333,
             "#9c179e"
            ],
            [
             0.4444444444444444,
             "#bd3786"
            ],
            [
             0.5555555555555556,
             "#d8576b"
            ],
            [
             0.6666666666666666,
             "#ed7953"
            ],
            [
             0.7777777777777778,
             "#fb9f3a"
            ],
            [
             0.8888888888888888,
             "#fdca26"
            ],
            [
             1,
             "#f0f921"
            ]
           ],
           "sequentialminus": [
            [
             0,
             "#0d0887"
            ],
            [
             0.1111111111111111,
             "#46039f"
            ],
            [
             0.2222222222222222,
             "#7201a8"
            ],
            [
             0.3333333333333333,
             "#9c179e"
            ],
            [
             0.4444444444444444,
             "#bd3786"
            ],
            [
             0.5555555555555556,
             "#d8576b"
            ],
            [
             0.6666666666666666,
             "#ed7953"
            ],
            [
             0.7777777777777778,
             "#fb9f3a"
            ],
            [
             0.8888888888888888,
             "#fdca26"
            ],
            [
             1,
             "#f0f921"
            ]
           ]
          },
          "colorway": [
           "#636efa",
           "#EF553B",
           "#00cc96",
           "#ab63fa",
           "#FFA15A",
           "#19d3f3",
           "#FF6692",
           "#B6E880",
           "#FF97FF",
           "#FECB52"
          ],
          "font": {
           "color": "#2a3f5f"
          },
          "geo": {
           "bgcolor": "white",
           "lakecolor": "white",
           "landcolor": "#E5ECF6",
           "showlakes": true,
           "showland": true,
           "subunitcolor": "white"
          },
          "hoverlabel": {
           "align": "left"
          },
          "hovermode": "closest",
          "mapbox": {
           "style": "light"
          },
          "paper_bgcolor": "white",
          "plot_bgcolor": "#E5ECF6",
          "polar": {
           "angularaxis": {
            "gridcolor": "white",
            "linecolor": "white",
            "ticks": ""
           },
           "bgcolor": "#E5ECF6",
           "radialaxis": {
            "gridcolor": "white",
            "linecolor": "white",
            "ticks": ""
           }
          },
          "scene": {
           "xaxis": {
            "backgroundcolor": "#E5ECF6",
            "gridcolor": "white",
            "gridwidth": 2,
            "linecolor": "white",
            "showbackground": true,
            "ticks": "",
            "zerolinecolor": "white"
           },
           "yaxis": {
            "backgroundcolor": "#E5ECF6",
            "gridcolor": "white",
            "gridwidth": 2,
            "linecolor": "white",
            "showbackground": true,
            "ticks": "",
            "zerolinecolor": "white"
           },
           "zaxis": {
            "backgroundcolor": "#E5ECF6",
            "gridcolor": "white",
            "gridwidth": 2,
            "linecolor": "white",
            "showbackground": true,
            "ticks": "",
            "zerolinecolor": "white"
           }
          },
          "shapedefaults": {
           "line": {
            "color": "#2a3f5f"
           }
          },
          "ternary": {
           "aaxis": {
            "gridcolor": "white",
            "linecolor": "white",
            "ticks": ""
           },
           "baxis": {
            "gridcolor": "white",
            "linecolor": "white",
            "ticks": ""
           },
           "bgcolor": "#E5ECF6",
           "caxis": {
            "gridcolor": "white",
            "linecolor": "white",
            "ticks": ""
           }
          },
          "title": {
           "x": 0.05
          },
          "xaxis": {
           "automargin": true,
           "gridcolor": "white",
           "linecolor": "white",
           "ticks": "",
           "title": {
            "standoff": 15
           },
           "zerolinecolor": "white",
           "zerolinewidth": 2
          },
          "yaxis": {
           "automargin": true,
           "gridcolor": "white",
           "linecolor": "white",
           "ticks": "",
           "title": {
            "standoff": 15
           },
           "zerolinecolor": "white",
           "zerolinewidth": 2
          }
         }
        },
        "title": {
         "text": "Word usage per month"
        },
        "xaxis": {
         "anchor": "y",
         "domain": [
          0,
          1
         ],
         "title": {
          "text": "Month"
         }
        },
        "yaxis": {
         "anchor": "x",
         "domain": [
          0,
          1
         ],
         "title": {
          "text": "Count"
         }
        }
       }
      }
     },
     "metadata": {}
    }
   ],
   "source": [
    "fig = px.bar(df, x=\"Month\", y=\"Count\", color=\"Keyword\", title=\"Word usage per month\")\n",
    "fig.show()"
   ]
  },
  {
   "cell_type": "code",
   "execution_count": 106,
   "metadata": {},
   "outputs": [
    {
     "output_type": "display_data",
     "data": {
      "application/vnd.plotly.v1+json": {
       "config": {
        "plotlyServerURL": "https://plot.ly"
       },
       "data": [
        {
         "alignmentgroup": "True",
         "hovertemplate": "Keyword=Covid<br>Month=%{x}<br>Count=%{y}<extra></extra>",
         "legendgroup": "Covid",
         "marker": {
          "color": "#636efa"
         },
         "name": "Covid",
         "offsetgroup": "Covid",
         "orientation": "v",
         "showlegend": true,
         "textposition": "auto",
         "type": "bar",
         "x": [
          3,
          4,
          5,
          6,
          7,
          8,
          9,
          10
         ],
         "xaxis": "x",
         "y": [
          677,
          772,
          528,
          224,
          277,
          162,
          105,
          247
         ],
         "yaxis": "y"
        },
        {
         "alignmentgroup": "True",
         "hovertemplate": "Keyword=corona<br>Month=%{x}<br>Count=%{y}<extra></extra>",
         "legendgroup": "corona",
         "marker": {
          "color": "#EF553B"
         },
         "name": "corona",
         "offsetgroup": "corona",
         "orientation": "v",
         "showlegend": true,
         "textposition": "auto",
         "type": "bar",
         "x": [
          3,
          4,
          5,
          6,
          7,
          8,
          9,
          10
         ],
         "xaxis": "x",
         "y": [
          106,
          64,
          31,
          11,
          14,
          3,
          14,
          4
         ],
         "yaxis": "y"
        }
       ],
       "layout": {
        "barmode": "relative",
        "legend": {
         "title": {
          "text": "Keyword"
         },
         "tracegroupgap": 0
        },
        "template": {
         "data": {
          "bar": [
           {
            "error_x": {
             "color": "#2a3f5f"
            },
            "error_y": {
             "color": "#2a3f5f"
            },
            "marker": {
             "line": {
              "color": "#E5ECF6",
              "width": 0.5
             }
            },
            "type": "bar"
           }
          ],
          "barpolar": [
           {
            "marker": {
             "line": {
              "color": "#E5ECF6",
              "width": 0.5
             }
            },
            "type": "barpolar"
           }
          ],
          "carpet": [
           {
            "aaxis": {
             "endlinecolor": "#2a3f5f",
             "gridcolor": "white",
             "linecolor": "white",
             "minorgridcolor": "white",
             "startlinecolor": "#2a3f5f"
            },
            "baxis": {
             "endlinecolor": "#2a3f5f",
             "gridcolor": "white",
             "linecolor": "white",
             "minorgridcolor": "white",
             "startlinecolor": "#2a3f5f"
            },
            "type": "carpet"
           }
          ],
          "choropleth": [
           {
            "colorbar": {
             "outlinewidth": 0,
             "ticks": ""
            },
            "type": "choropleth"
           }
          ],
          "contour": [
           {
            "colorbar": {
             "outlinewidth": 0,
             "ticks": ""
            },
            "colorscale": [
             [
              0,
              "#0d0887"
             ],
             [
              0.1111111111111111,
              "#46039f"
             ],
             [
              0.2222222222222222,
              "#7201a8"
             ],
             [
              0.3333333333333333,
              "#9c179e"
             ],
             [
              0.4444444444444444,
              "#bd3786"
             ],
             [
              0.5555555555555556,
              "#d8576b"
             ],
             [
              0.6666666666666666,
              "#ed7953"
             ],
             [
              0.7777777777777778,
              "#fb9f3a"
             ],
             [
              0.8888888888888888,
              "#fdca26"
             ],
             [
              1,
              "#f0f921"
             ]
            ],
            "type": "contour"
           }
          ],
          "contourcarpet": [
           {
            "colorbar": {
             "outlinewidth": 0,
             "ticks": ""
            },
            "type": "contourcarpet"
           }
          ],
          "heatmap": [
           {
            "colorbar": {
             "outlinewidth": 0,
             "ticks": ""
            },
            "colorscale": [
             [
              0,
              "#0d0887"
             ],
             [
              0.1111111111111111,
              "#46039f"
             ],
             [
              0.2222222222222222,
              "#7201a8"
             ],
             [
              0.3333333333333333,
              "#9c179e"
             ],
             [
              0.4444444444444444,
              "#bd3786"
             ],
             [
              0.5555555555555556,
              "#d8576b"
             ],
             [
              0.6666666666666666,
              "#ed7953"
             ],
             [
              0.7777777777777778,
              "#fb9f3a"
             ],
             [
              0.8888888888888888,
              "#fdca26"
             ],
             [
              1,
              "#f0f921"
             ]
            ],
            "type": "heatmap"
           }
          ],
          "heatmapgl": [
           {
            "colorbar": {
             "outlinewidth": 0,
             "ticks": ""
            },
            "colorscale": [
             [
              0,
              "#0d0887"
             ],
             [
              0.1111111111111111,
              "#46039f"
             ],
             [
              0.2222222222222222,
              "#7201a8"
             ],
             [
              0.3333333333333333,
              "#9c179e"
             ],
             [
              0.4444444444444444,
              "#bd3786"
             ],
             [
              0.5555555555555556,
              "#d8576b"
             ],
             [
              0.6666666666666666,
              "#ed7953"
             ],
             [
              0.7777777777777778,
              "#fb9f3a"
             ],
             [
              0.8888888888888888,
              "#fdca26"
             ],
             [
              1,
              "#f0f921"
             ]
            ],
            "type": "heatmapgl"
           }
          ],
          "histogram": [
           {
            "marker": {
             "colorbar": {
              "outlinewidth": 0,
              "ticks": ""
             }
            },
            "type": "histogram"
           }
          ],
          "histogram2d": [
           {
            "colorbar": {
             "outlinewidth": 0,
             "ticks": ""
            },
            "colorscale": [
             [
              0,
              "#0d0887"
             ],
             [
              0.1111111111111111,
              "#46039f"
             ],
             [
              0.2222222222222222,
              "#7201a8"
             ],
             [
              0.3333333333333333,
              "#9c179e"
             ],
             [
              0.4444444444444444,
              "#bd3786"
             ],
             [
              0.5555555555555556,
              "#d8576b"
             ],
             [
              0.6666666666666666,
              "#ed7953"
             ],
             [
              0.7777777777777778,
              "#fb9f3a"
             ],
             [
              0.8888888888888888,
              "#fdca26"
             ],
             [
              1,
              "#f0f921"
             ]
            ],
            "type": "histogram2d"
           }
          ],
          "histogram2dcontour": [
           {
            "colorbar": {
             "outlinewidth": 0,
             "ticks": ""
            },
            "colorscale": [
             [
              0,
              "#0d0887"
             ],
             [
              0.1111111111111111,
              "#46039f"
             ],
             [
              0.2222222222222222,
              "#7201a8"
             ],
             [
              0.3333333333333333,
              "#9c179e"
             ],
             [
              0.4444444444444444,
              "#bd3786"
             ],
             [
              0.5555555555555556,
              "#d8576b"
             ],
             [
              0.6666666666666666,
              "#ed7953"
             ],
             [
              0.7777777777777778,
              "#fb9f3a"
             ],
             [
              0.8888888888888888,
              "#fdca26"
             ],
             [
              1,
              "#f0f921"
             ]
            ],
            "type": "histogram2dcontour"
           }
          ],
          "mesh3d": [
           {
            "colorbar": {
             "outlinewidth": 0,
             "ticks": ""
            },
            "type": "mesh3d"
           }
          ],
          "parcoords": [
           {
            "line": {
             "colorbar": {
              "outlinewidth": 0,
              "ticks": ""
             }
            },
            "type": "parcoords"
           }
          ],
          "pie": [
           {
            "automargin": true,
            "type": "pie"
           }
          ],
          "scatter": [
           {
            "marker": {
             "colorbar": {
              "outlinewidth": 0,
              "ticks": ""
             }
            },
            "type": "scatter"
           }
          ],
          "scatter3d": [
           {
            "line": {
             "colorbar": {
              "outlinewidth": 0,
              "ticks": ""
             }
            },
            "marker": {
             "colorbar": {
              "outlinewidth": 0,
              "ticks": ""
             }
            },
            "type": "scatter3d"
           }
          ],
          "scattercarpet": [
           {
            "marker": {
             "colorbar": {
              "outlinewidth": 0,
              "ticks": ""
             }
            },
            "type": "scattercarpet"
           }
          ],
          "scattergeo": [
           {
            "marker": {
             "colorbar": {
              "outlinewidth": 0,
              "ticks": ""
             }
            },
            "type": "scattergeo"
           }
          ],
          "scattergl": [
           {
            "marker": {
             "colorbar": {
              "outlinewidth": 0,
              "ticks": ""
             }
            },
            "type": "scattergl"
           }
          ],
          "scattermapbox": [
           {
            "marker": {
             "colorbar": {
              "outlinewidth": 0,
              "ticks": ""
             }
            },
            "type": "scattermapbox"
           }
          ],
          "scatterpolar": [
           {
            "marker": {
             "colorbar": {
              "outlinewidth": 0,
              "ticks": ""
             }
            },
            "type": "scatterpolar"
           }
          ],
          "scatterpolargl": [
           {
            "marker": {
             "colorbar": {
              "outlinewidth": 0,
              "ticks": ""
             }
            },
            "type": "scatterpolargl"
           }
          ],
          "scatterternary": [
           {
            "marker": {
             "colorbar": {
              "outlinewidth": 0,
              "ticks": ""
             }
            },
            "type": "scatterternary"
           }
          ],
          "surface": [
           {
            "colorbar": {
             "outlinewidth": 0,
             "ticks": ""
            },
            "colorscale": [
             [
              0,
              "#0d0887"
             ],
             [
              0.1111111111111111,
              "#46039f"
             ],
             [
              0.2222222222222222,
              "#7201a8"
             ],
             [
              0.3333333333333333,
              "#9c179e"
             ],
             [
              0.4444444444444444,
              "#bd3786"
             ],
             [
              0.5555555555555556,
              "#d8576b"
             ],
             [
              0.6666666666666666,
              "#ed7953"
             ],
             [
              0.7777777777777778,
              "#fb9f3a"
             ],
             [
              0.8888888888888888,
              "#fdca26"
             ],
             [
              1,
              "#f0f921"
             ]
            ],
            "type": "surface"
           }
          ],
          "table": [
           {
            "cells": {
             "fill": {
              "color": "#EBF0F8"
             },
             "line": {
              "color": "white"
             }
            },
            "header": {
             "fill": {
              "color": "#C8D4E3"
             },
             "line": {
              "color": "white"
             }
            },
            "type": "table"
           }
          ]
         },
         "layout": {
          "annotationdefaults": {
           "arrowcolor": "#2a3f5f",
           "arrowhead": 0,
           "arrowwidth": 1
          },
          "coloraxis": {
           "colorbar": {
            "outlinewidth": 0,
            "ticks": ""
           }
          },
          "colorscale": {
           "diverging": [
            [
             0,
             "#8e0152"
            ],
            [
             0.1,
             "#c51b7d"
            ],
            [
             0.2,
             "#de77ae"
            ],
            [
             0.3,
             "#f1b6da"
            ],
            [
             0.4,
             "#fde0ef"
            ],
            [
             0.5,
             "#f7f7f7"
            ],
            [
             0.6,
             "#e6f5d0"
            ],
            [
             0.7,
             "#b8e186"
            ],
            [
             0.8,
             "#7fbc41"
            ],
            [
             0.9,
             "#4d9221"
            ],
            [
             1,
             "#276419"
            ]
           ],
           "sequential": [
            [
             0,
             "#0d0887"
            ],
            [
             0.1111111111111111,
             "#46039f"
            ],
            [
             0.2222222222222222,
             "#7201a8"
            ],
            [
             0.3333333333333333,
             "#9c179e"
            ],
            [
             0.4444444444444444,
             "#bd3786"
            ],
            [
             0.5555555555555556,
             "#d8576b"
            ],
            [
             0.6666666666666666,
             "#ed7953"
            ],
            [
             0.7777777777777778,
             "#fb9f3a"
            ],
            [
             0.8888888888888888,
             "#fdca26"
            ],
            [
             1,
             "#f0f921"
            ]
           ],
           "sequentialminus": [
            [
             0,
             "#0d0887"
            ],
            [
             0.1111111111111111,
             "#46039f"
            ],
            [
             0.2222222222222222,
             "#7201a8"
            ],
            [
             0.3333333333333333,
             "#9c179e"
            ],
            [
             0.4444444444444444,
             "#bd3786"
            ],
            [
             0.5555555555555556,
             "#d8576b"
            ],
            [
             0.6666666666666666,
             "#ed7953"
            ],
            [
             0.7777777777777778,
             "#fb9f3a"
            ],
            [
             0.8888888888888888,
             "#fdca26"
            ],
            [
             1,
             "#f0f921"
            ]
           ]
          },
          "colorway": [
           "#636efa",
           "#EF553B",
           "#00cc96",
           "#ab63fa",
           "#FFA15A",
           "#19d3f3",
           "#FF6692",
           "#B6E880",
           "#FF97FF",
           "#FECB52"
          ],
          "font": {
           "color": "#2a3f5f"
          },
          "geo": {
           "bgcolor": "white",
           "lakecolor": "white",
           "landcolor": "#E5ECF6",
           "showlakes": true,
           "showland": true,
           "subunitcolor": "white"
          },
          "hoverlabel": {
           "align": "left"
          },
          "hovermode": "closest",
          "mapbox": {
           "style": "light"
          },
          "paper_bgcolor": "white",
          "plot_bgcolor": "#E5ECF6",
          "polar": {
           "angularaxis": {
            "gridcolor": "white",
            "linecolor": "white",
            "ticks": ""
           },
           "bgcolor": "#E5ECF6",
           "radialaxis": {
            "gridcolor": "white",
            "linecolor": "white",
            "ticks": ""
           }
          },
          "scene": {
           "xaxis": {
            "backgroundcolor": "#E5ECF6",
            "gridcolor": "white",
            "gridwidth": 2,
            "linecolor": "white",
            "showbackground": true,
            "ticks": "",
            "zerolinecolor": "white"
           },
           "yaxis": {
            "backgroundcolor": "#E5ECF6",
            "gridcolor": "white",
            "gridwidth": 2,
            "linecolor": "white",
            "showbackground": true,
            "ticks": "",
            "zerolinecolor": "white"
           },
           "zaxis": {
            "backgroundcolor": "#E5ECF6",
            "gridcolor": "white",
            "gridwidth": 2,
            "linecolor": "white",
            "showbackground": true,
            "ticks": "",
            "zerolinecolor": "white"
           }
          },
          "shapedefaults": {
           "line": {
            "color": "#2a3f5f"
           }
          },
          "ternary": {
           "aaxis": {
            "gridcolor": "white",
            "linecolor": "white",
            "ticks": ""
           },
           "baxis": {
            "gridcolor": "white",
            "linecolor": "white",
            "ticks": ""
           },
           "bgcolor": "#E5ECF6",
           "caxis": {
            "gridcolor": "white",
            "linecolor": "white",
            "ticks": ""
           }
          },
          "title": {
           "x": 0.05
          },
          "xaxis": {
           "automargin": true,
           "gridcolor": "white",
           "linecolor": "white",
           "ticks": "",
           "title": {
            "standoff": 15
           },
           "zerolinecolor": "white",
           "zerolinewidth": 2
          },
          "yaxis": {
           "automargin": true,
           "gridcolor": "white",
           "linecolor": "white",
           "ticks": "",
           "title": {
            "standoff": 15
           },
           "zerolinecolor": "white",
           "zerolinewidth": 2
          }
         }
        },
        "title": {
         "text": "Word usage per month"
        },
        "xaxis": {
         "anchor": "y",
         "domain": [
          0,
          1
         ],
         "title": {
          "text": "Month"
         }
        },
        "yaxis": {
         "anchor": "x",
         "domain": [
          0,
          1
         ],
         "title": {
          "text": "Count"
         }
        }
       }
      }
     },
     "metadata": {}
    }
   ],
   "source": [
    "df_nonov = df[:-2]\n",
    "fig = px.bar(df_nonov, x=\"Month\", y=\"Count\", color=\"Keyword\", title=\"Word usage per month\")\n",
    "fig.show()"
   ]
  },
  {
   "source": [
    "# -------------------------------------------------------------------------\n",
    "## LDA"
   ],
   "cell_type": "markdown",
   "metadata": {}
  },
  {
   "cell_type": "code",
   "execution_count": 108,
   "metadata": {},
   "outputs": [],
   "source": [
    "tweets_column = covid_19_tweets['Tweet']\n",
    "count_vectorizer = CountVectorizer(stop_words='english')\n",
    "feature_matrix = count_vectorizer.fit_transform(tweets_column)"
   ]
  },
  {
   "cell_type": "code",
   "execution_count": 109,
   "metadata": {},
   "outputs": [
    {
     "output_type": "display_data",
     "data": {
      "text/plain": "array([[0.00344912, 0.00344946, 0.00344884, ..., 0.0034487 , 0.00344975,\n        0.96895925],\n       [0.01000127, 0.42099915, 0.01000099, ..., 0.01000086, 0.01000089,\n        0.01000066],\n       [0.23823334, 0.00384728, 0.00384687, ..., 0.00384667, 0.00384724,\n        0.00384635],\n       ...,\n       [0.0125044 , 0.74750554, 0.01250443, ..., 0.01250297, 0.01250385,\n        0.01250117],\n       [0.01111296, 0.89998013, 0.01111576, ..., 0.01111332, 0.01111242,\n        0.01111275],\n       [0.00138895, 0.00138894, 0.00138896, ..., 0.00138891, 0.98749944,\n        0.00138896]])"
     },
     "metadata": {}
    }
   ],
   "source": [
    "lda_model = LatentDirichletAllocation()\n",
    "\n",
    "lda_output = lda_model.fit_transform(feature_matrix)\n",
    "display(lda_output)"
   ]
  },
  {
   "cell_type": "code",
   "execution_count": 110,
   "metadata": {},
   "outputs": [
    {
     "output_type": "display_data",
     "data": {
      "text/plain": "(25827, 10)"
     },
     "metadata": {}
    }
   ],
   "source": [
    "display(lda_output.shape)"
   ]
  },
  {
   "cell_type": "code",
   "execution_count": 111,
   "metadata": {},
   "outputs": [
    {
     "output_type": "execute_result",
     "data": {
      "text/plain": [
       "<IPython.core.display.HTML object>"
      ],
      "text/html": "\n<link rel=\"stylesheet\" type=\"text/css\" href=\"https://cdn.rawgit.com/bmabey/pyLDAvis/files/ldavis.v1.0.0.css\">\n\n\n<div id=\"ldavis_el1318027757953671528808007815\"></div>\n<script type=\"text/javascript\">\n\nvar ldavis_el1318027757953671528808007815_data = {\"mdsDat\": {\"x\": [32.42095184326172, 0.648955225944519, 71.01968383789062, 3.7859814167022705, -42.666500091552734, -3.6216893196105957, -3.632401704788208, -36.58440017700195, 44.391380310058594, 40.235809326171875], \"y\": [8.115229606628418, 71.70709991455078, 9.971006393432617, 33.18513488769531, -9.22206974029541, -43.52651596069336, -4.171707630157471, 35.804412841796875, 50.61538314819336, -31.591665267944336], \"topics\": [1, 2, 3, 4, 5, 6, 7, 8, 9, 10], \"cluster\": [1, 1, 1, 1, 1, 1, 1, 1, 1, 1], \"Freq\": [23.691567746241958, 20.448177772844346, 11.616132852484657, 10.881176465743563, 7.360228990534259, 7.037081910403704, 6.430184519518556, 4.237817783470081, 4.206337381259665, 4.091294577499228]}, \"tinfo\": {\"Term\": [\"covid19\", \"amp\", \"cruise\", \"vaccine\", \"case\", \"wa\", \"ship\", \"positive\", \"covid\", \"tested\", \"test\", \"19\", \"life\", \"new\", \"school\", \"email\", \"corona\", \"good\", \"22\", \"county\", \"today\", \"death\", \"people\", \"got\", \"govsisolak\", \"ha\", \"testing\", \"mask\", \"thanksgiving\", \"morning\", \"na\", \"gon\", \"vampire\", \"wan\", \"senschumer\", \"stevenmnuchin1\", \"nigga\", \"stimuluspackage\", \"compromise\", \"hybrid\", \"tf\", \"scurvy\", \"yearsthe\", \"epstein\", \"magically\", \"harvest\", \"motivationwords\", \"perishis\", \"erase\", \"strut\", \"cannibal\", \"taiwan\", \"covid19pedo\", \"sunlightbiden\", \"millionampour\", \"senatemajldr\", \"yall\", \"ivankatrump\", \"intense\", \"sentedcruz\", \"disappear\", \"ignoring\", \"bitch\", \"asshole\", \"voting\", \"stimulus\", \"democrat\", \"god\", \"speakerpelosi\", \"selfish\", \"aint\", \"realdonaldtrump\", \"election\", \"bed\", \"tedcruz\", \"shit\", \"political\", \"real\", \"corona\", \"senator\", \"know\", \"thats\", \"like\", \"party\", \"think\", \"worse\", \"work\", \"gop\", \"thing\", \"dont\", \"republican\", \"people\", \"covid19\", \"time\", \"wa\", \"pandemic\", \"year\", \"ha\", \"doesnt\", \"going\", \"life\", \"need\", \"virus\", \"right\", \"want\", \"amp\", \"country\", \"mask\", \"trump\", \"im\", \"covid\", \"death\", \"help\", \"jr\", \"distancing\", \"saban\", \"auburn\", \"ibottaapp\", \"nick\", \"cheering\", \"passover\", \"denialism\", \"consultant\", \"darkness\", \"mayo\", \"rwilson\", \"scamming\", \"freecovid19my\", \"walmarthelp\", \"tested\", \"plaguecovid19\", \"swearingin\", \"tumps\", \"congressvaccinationday\", \"emily\", \"raven\", \"alabama\", \"syndrome\", \"900\", \"safepass\", \"coughing\", \"45sshows\", \"stockpilesjk\", \"social\", \"gsaemily\", \"negative\", \"wore\", \"distance\", \"positive\", \"false\", \"wear\", \"donald\", \"thanksgiving\", \"precaution\", \"test\", \"coach\", \"terrible\", \"wearing\", \"mask\", \"trump\", \"everyday\", \"people\", \"dinner\", \"family\", \"sick\", \"protect\", \"covid19\", \"amp\", \"home\", \"im\", \"getting\", \"virus\", \"safe\", \"day\", \"wa\", \"dont\", \"stay\", \"ha\", \"american\", \"testing\", \"going\", \"corona\", \"covid\", \"like\", \"year\", \"time\", \"pfizer\", \"fda\", \"malala\", \"couragehonestyand\", \"respondersthat\", \"sturgis\", \"mink\", \"approved\", \"warp\", \"authorization\", \"model\", \"mutated\", \"95\", \"speed\", \"parton\", \"abbott\", \"moderna\", \"culling\", \"biontech\", \"maxhalf\", \"jordanboeing\", \"republicansyes\", \"television\", \"authorizes\", \"traced\", \"modernatx\", \"dolly\", \"graf\", \"approval\", \"10tv\", \"role\", \"motorcycle\", \"posted\", \"responder\", \"met\", \"dollyparton\", \"efficacy\", \"confirms\", \"county\", \"photo\", \"vaccine\", \"restaurant\", \"minnesota\", \"surge\", \"emergency\", \"california\", \"covid19\", \"new\", \"distribution\", \"say\", \"starving\", \"coronavirus\", \"state\", \"case\", \"come\", \"youtube\", \"home\", \"outbreak\", \"today\", \"stay\", \"soon\", \"care\", \"need\", \"safe\", \"hospital\", \"news\", \"week\", \"mask\", \"health\", \"im\", \"covid\", \"pandemic\", \"corona\", \"2500\", \"attempting\", \"jordanpompeo\", \"doctrinecovid19\", \"soundhound\", \"coronavirusbidentrump\", \"oxford\", \"mohammad\", \"alyemeni19\", \"videoag\", \"07\", \"cadeservesbetter\", \"gavinnewsomsenkamalaharris\", \"turkeysi\", \"nonecovid19my\", \"3000\", \"senfeinsteinyou\", \"awwrrite\", \"garciasenate2022\", \"bigot\", \"alyemeni\", \"garciaforchange2022\", \"pork\", \"khalifa\", \"unconscionable\", \"capitolhill\", \"antidisability\", \"115\", \"05\", \"giveaway\", \"bliss\", \"supreme\", \"york\", \"nasser\", \"reform\", \"therapy\", \"recount\", \"allah\", \"highly\", \"affordable\", \"notice\", \"closure\", \"washyourhands\", \"dead\", \"250000\", \"michael\", \"blessed\", \"treating\", \"university\", \"vote\", \"covid19\", \"effective\", \"count\", \"rising\", \"help\", \"time\", \"gathering\", \"new\", \"family\", \"holiday\", \"food\", \"stayhome\", \"day\", \"stay\", \"death\", \"coronavirus\", \"dont\", \"american\", \"realdonaldtrump\", \"community\", \"vaccine\", \"wearamask\", \"need\", \"ha\", \"friend\", \"covid\", \"amp\", \"thanksgiving\", \"health\", \"people\", \"virus\", \"safe\", \"trump\", \"im\", \"pandemic\", \"email\", \"govsisolak\", \"ignored\", \"videosisolak\", \"wheelchairuser\", \"hungry\", \"nvgopassembly\", \"videocovid19my\", \"nvgopsenate\", \"destitute\", \"mickywhitenv\", \"cumulative\", \"monthswatch\", \"22\", \"inactiverecovered\", \"quadriplegic\", \"tndeptofhealth\", \"meghindelaney\", \"active\", \"pigolak\", \"sisolak\", \"monthscovid19my\", \"wheelchairuserwatch\", \"ebenezersisolak\", \"37th\", \"cruiseships15\", \"maydeathsreports\", \"gregmortimor\", \"nosemouth\", \"greased\", \"nevada\", \"lazy\", \"covid19my\", \"reported\", \"24\", \"homeless\", \"case\", \"confirmed\", \"dog\", \"tweet\", \"covid19\", \"amp\", \"death\", \"number\", \"month\", \"ha\", \"corona\", \"covid\", \"new\", \"wa\", \"19\", \"virus\", \"people\", \"county\", \"year\", \"mask\", \"officially\", \"silence\", \"requesting\", \"altered\", \"epidemicjtmharding\", \"bernardino\", \"grassley\", \"thrown\", \"chuck\", \"obsessively\", \"covid19meanwhiledonald\", \"america15000\", \"violencecontinues\", \"days1500000\", \"held\", \"organized\", \"scorpio\", \"avgnew\", \"smartnews\", \"vols\", \"dereliction\", \"urgently\", \"24hour\", \"ourswent\", \"fulmer\", \"hart\", \"smu\", \"birthday\", \"phillip\", \"skipped\", \"1st\", \"g20\", \"international\", \"moment\", \"morning\", \"football\", \"tracing\", \"december\", \"ca\", \"angeles\", \"san\", \"los\", \"game\", \"medium\", \"good\", \"golf\", \"2020\", \"life\", \"got\", \"lost\", \"19\", \"wa\", \"covid\", \"test\", \"news\", \"covid19\", \"today\", \"positive\", \"new\", \"corona\", \"ha\", \"america\", \"year\", \"case\", \"cruise\", \"ship\", \"vet\", \"oddsthank\", \"princess\", \"doc\", \"huntington\", \"ruby\", \"cdcdirector\", \"crew\", \"cruiselaw\", \"carnival\", \"incredible\", \"vessel\", \"onboard\", \"cvsjob\", \"transferred\", \"healthycareer\", \"passenger\", \"pharmd\", \"memoriam\", \"hopkins\", \"spoxhhs\", \"voyage\", \"avenue\", \"southernstateparkway\", \"nihdirector\", \"floater\", \"ptcovid19\", \"cdcemergency\", \"nih\", \"sanitation\", \"costa\", \"pharmacist\", \"statedept\", \"beach\", \"industry\", \"click\", \"service\", \"fighting\", \"listen\", \"crisis\", \"member\", \"cdcgov\", \"department\", \"heart\", \"testing\", \"daily\", \"covid19\", \"apply\", \"report\", \"doctor\", \"great\", \"health\", \"job\", \"rate\", \"infected\", \"case\", \"new\", \"state\", \"amp\", \"death\", \"spread\", \"covid\", \"profitable\", \"oligarch\", \"countrywith\", \"20m\", \"covidoversight\", \"rulesscrew\", \"suppression\", \"upconniving\", \"45sdiscourages\", \"benefitsstockpiles\", \"consistant\", \"perpetrated\", \"asteroid\", \"unsuspecting\", \"pathologist\", \"muhammad\", \"hedge\", \"rulesif\", \"benefitshealth\", \"oligarchical\", \"min20m\", \"mercy\", \"travelgov\", \"vigilant\", \"alyemeniplanetsaqarnibiruplanetxvaccinecovid19\", \"qetran\", \"america13102018imam\", \"thespybrief\", \"jeffersonsnotesi\", \"dena\", \"coronavirusoutbreakyou\", \"deathfull\", \"jk\", \"toxic\", \"45s\", \"mitch\", \"discourages\", \"bungling\", \"strike\", \"walk\", \"authority\", \"negligence\", \"avoiding\", \"decade\", \"proven\", \"penny\", \"step\", \"worldwide\", \"voter\", \"covid19\", \"amp\", \"great\", \"covid\", \"business\", \"ha\", \"trump\", \"health\", \"19\", \"state\", \"case\", \"worker\", \"new\", \"leave\", \"coronavirus\", \"response\", \"rate\", \"public\", \"narrative\", \"600\", \"lowincome\", \"firstthe\", \"appealing\", \"timemostly\", \"condone\", \"ifad\", \"accountability\", \"teamcvs\", \"doug\", \"trumpf\", \"musical\", \"nowhiring\", \"wr\", \"newhouse\", \"fairfaxcounty\", \"prefilled\", \"lamborn\", \"perplexed\", \"dumbfounded\", \"7345441052\", \"requirement\", \"distracted\", \"joyner\", \"washtenaw\", \"4659\", \"eau\", \"govinslee\", \"cashapp\", \"reservecovid19\", \"rural\", \"financing\", \"shift\", \"project\", \"talent\", \"recovered\", \"placed\", \"raider\", \"young\", \"shame\", \"financial\", \"factor\", \"community\", \"list\", \"link\", \"amp\", \"join\", \"today\", \"covid\", \"death\", \"covid19\", \"million\", \"19\", \"case\", \"people\", \"new\", \"ha\", \"thank\", \"love\", \"great\", \"health\", \"risk\", \"corona\", \"rife\", \"rubyprincessdecades\", \"4corners\", \"jfergusonau\", \"shoulder\", \"th\", \"shell\", \"rambling\", \"marchactive\", \"updatetotal\", \"wiped\", \"apr\", \"section13coronasantiagolive\", \"4psouthern\", \"mcconnellgop\", \"wstimulusgop\", \"2this\", \"pocketbook\", \"2give\", \"pandemicprofiteer\", \"coronavirusthe\", \"activequestions\", \"healthtowsorg\", \"marchdaily\", \"wilkins\", \"petty\", \"swine\", \"pstcovid19losangelescounty\", \"disrupt\", \"98new\", \"building\", \"nyc\", \"kelly\", \"cuomo\", \"emmy\", \"loeffler\", \"school\", \"shut\", \"november\", \"beating\", \"20k\", \"nycmayor\", \"rise\", \"dolphin\", \"11182020new\", \"google\", \"cbs\", \"powerful\", \"1h\", \"feel\", \"19\", \"covid19\", \"dad\", \"brother\", \"excellent\", \"app\", \"mom\", \"briefing\", \"case\", \"help\", \"business\", \"ha\", \"covid\", \"need\", \"old\", \"like\", \"home\", \"come\", \"people\", \"corona\", \"realdonaldtrump\", \"death\", \"week\", \"died\", \"today\"], \"Freq\": [18587.0, 2555.0, 409.0, 1415.0, 1533.0, 1665.0, 341.0, 1046.0, 1811.0, 595.0, 1039.0, 971.0, 873.0, 1289.0, 448.0, 231.0, 1986.0, 620.0, 215.0, 490.0, 922.0, 1250.0, 2416.0, 617.0, 193.0, 2222.0, 540.0, 1321.0, 1022.0, 273.0, 199.4183032673698, 138.10563430222248, 57.29252386484646, 62.71550512703306, 43.2271845191652, 33.85041287145376, 32.63424649761475, 22.598200578849212, 22.598197095037282, 22.59817226979374, 20.722782198360314, 18.847464879389427, 17.909778068189652, 17.909774722750964, 17.90975237940236, 16.972093892327518, 16.972093405731663, 16.972093405731663, 16.972093405731663, 16.972093226646514, 16.972091444793598, 16.9623126460719, 16.03440895120711, 16.03440895120711, 16.03440895120711, 95.13899904119712, 231.33305342416867, 37.16677728638255, 14.159019161134562, 14.158998103558838, 39.58109136066252, 30.74701886380046, 61.753395887361805, 32.452559735169835, 43.91683663663822, 78.3238797672018, 112.6253736790704, 173.2640297006686, 69.05705592006485, 51.9115869770893, 72.08245525561819, 625.47402255499, 259.5095378118999, 73.63823350061803, 55.311673657543636, 161.52617010158008, 80.9430123836818, 260.1916907533501, 1056.3462688468264, 104.11274070909796, 507.71789996684066, 252.47046014753184, 650.4197458730958, 126.80880621378657, 338.10364186446066, 105.90356767506114, 335.82404190307255, 170.78011566452267, 274.0123211798939, 583.1013272808179, 176.34975711864598, 937.506482521688, 4481.248494183738, 518.3649069095417, 673.4006989245089, 477.9011968801201, 433.31985896025554, 741.4714016312956, 199.9679076046907, 328.7571943376362, 363.51729859338644, 370.0793857258215, 412.7765224167465, 255.18671418272078, 274.1478756601136, 576.5629833215547, 227.52825843611242, 348.11981518374506, 349.43920882846595, 289.0489303264349, 316.9031719047687, 286.14355281720515, 262.07507075859417, 184.20532542949536, 147.49133784463564, 68.79074822885602, 37.64711494445698, 29.403229156219226, 67.44397310081102, 20.236507803078656, 18.41136304379464, 17.495383694511073, 17.495383694511073, 17.49536148746104, 17.495324547856235, 16.57939516927216, 16.579345731410495, 14.747408216206257, 14.747408216206257, 564.9616864212489, 13.831428337408244, 13.831427861907157, 13.821749172018972, 12.915439641631574, 12.915420787056348, 39.46796580919179, 50.92673941267774, 11.999441838836027, 11.999427937074465, 9.251458825831953, 9.251432418682878, 9.251290288613088, 9.251290288613088, 259.90431310810254, 42.87058555940369, 151.58809531440403, 15.66338110738616, 96.24576079921246, 801.4479184650859, 44.30667867340149, 366.76311731429263, 188.01697654598493, 676.7492993464263, 69.3902449033939, 628.2013418962412, 91.11521838211158, 45.250516779104906, 170.66084441093062, 726.757179769382, 771.4763141376931, 48.418124849175584, 1031.1319630495198, 73.21039670847426, 445.22944533574713, 175.4609255258948, 161.21790081719803, 4177.42836937724, 898.3463055343533, 343.93417832451195, 409.5935308146447, 216.15652248892619, 423.09400109001615, 247.05266443721757, 361.9134247076248, 473.6949485925268, 374.79649214195183, 236.99507484214698, 502.033766456907, 286.06704097383556, 219.25062680895977, 249.981850015276, 354.5170679746213, 303.2439051368331, 251.2177964193174, 230.1340624349548, 226.27930021581105, 145.31168399076068, 105.19852106689069, 64.23649867973435, 56.21807326321434, 41.07215612504513, 36.617468516125726, 35.72653268343976, 37.44134672194429, 33.05370598670419, 30.38091914817444, 87.37436911762407, 25.926219032549163, 54.32510679397293, 49.01444040746597, 22.36248086985474, 19.645392002562044, 40.07751570419083, 16.12593981086156, 16.12593452757174, 16.125927318012838, 16.125927318012838, 15.235000335685903, 14.34330301701227, 14.247501729777113, 30.9911726951478, 12.532090811427935, 29.238143968738438, 23.220747249234506, 36.44713127522416, 10.780317561655892, 101.05123249284703, 34.76358365590749, 68.63524066436985, 50.02654004093209, 82.67336002734213, 38.57913099905361, 27.671709127741533, 33.48433697424235, 334.8653991334607, 70.78753567273678, 734.2696287588595, 113.18338178480991, 66.15514329533394, 112.28003331748621, 115.23373032473798, 133.44533772264472, 2987.0352256710125, 397.8613127229684, 58.65576613813434, 269.3223719593158, 58.964027887745914, 288.4394273964191, 236.02319861386098, 304.7355908107339, 153.1495830158437, 80.8321155081397, 179.6067288211192, 84.2173620763657, 176.6147646619472, 142.36271060474976, 90.41972115821285, 128.2266551815422, 142.42886202828456, 116.84296796846557, 112.97513009272848, 103.69304217062891, 116.98176029706138, 137.8828414653957, 119.07242429910386, 125.32973219186339, 132.5981512940959, 112.83493425480043, 108.16071930483197, 37.584935696348595, 34.968814346725054, 34.968810538923016, 27.120449428045145, 23.63229167972336, 23.632153702123574, 49.76824845561535, 68.05486304599762, 21.015283080399012, 18.40001464074715, 15.78391889720898, 14.039850998734245, 14.039850998734245, 14.039819350450715, 14.039819350450715, 42.80789390298675, 13.16781055081888, 13.167809391700006, 13.167807990809317, 13.16777291060447, 12.295764877456143, 11.42372965170213, 10.551679339768452, 10.5516773140617, 10.551674439951421, 10.55167322834631, 10.551659442178385, 10.551478388325076, 40.331579973772044, 10.504155439261304, 31.480745688117835, 47.01098043375696, 148.291514886753, 68.79281190366328, 21.016165552078323, 47.401729111524624, 40.4877852369216, 49.98779893090575, 51.39286353628826, 24.646104547089628, 48.9205434228121, 36.701715402704046, 33.70782794317741, 193.02769340881895, 119.82061044877193, 49.106455724804036, 37.67434675035476, 40.117894379768266, 62.65457284404498, 114.4178359757003, 2413.531193211891, 81.61277424976946, 64.07173119847998, 73.60936890252478, 215.61178146605178, 272.7157945389201, 84.61698042937834, 271.540229409564, 220.27179542091963, 133.90060203326095, 90.616571742392, 88.59542414933213, 191.9621562733964, 142.77042147974214, 195.8813762704483, 179.33890631242423, 186.15298400726138, 155.03358186667288, 157.99962973590016, 109.35821594361292, 183.1267991932783, 101.52753860288577, 142.94637397421042, 182.5477771162237, 93.67695457545945, 160.55891633067938, 172.43203716594346, 131.27774208599095, 116.00405664958511, 144.14286235846618, 120.75212212662613, 101.4055561115661, 111.7374314776628, 103.71615013971055, 102.12707966430276, 230.42977521792145, 192.32124066507328, 173.69036078034313, 152.51895647864833, 132.1943899029587, 94.08578680511555, 85.61725220988366, 67.83325324275367, 66.13953882546669, 63.598964546836065, 55.97725390573427, 53.43659834659518, 51.74296801398001, 211.53850307304677, 42.42753593530549, 40.73382366828382, 39.886963947891736, 36.49954029659638, 83.79314911243496, 30.57154085447364, 29.724674218927632, 27.184112545643057, 26.337255174945692, 25.490398203460035, 23.796658646079717, 22.94980998773354, 22.94980998773354, 22.94980998773354, 20.409181619026455, 18.715542071612436, 54.92394804637523, 34.80587403657684, 28.030984701794257, 170.67699785854785, 85.9429040404607, 85.84913556301342, 491.9118048510735, 59.71067297312327, 49.02159739651567, 81.1017343295529, 992.256177776216, 327.46128262591276, 211.98559592227122, 128.88314722372976, 120.28968275367573, 253.30875908426992, 172.57572468001527, 164.7213767322114, 118.80169356680263, 125.45842384585411, 98.88143853782765, 84.1248665206468, 82.29975711177232, 69.03417151216968, 69.60764219521347, 68.54849968443301, 104.16042209883052, 90.51123412030637, 85.39278193075488, 77.71512183990582, 73.44975034885987, 46.1513523968205, 29.089824840894295, 23.118315978346338, 22.265240723475728, 17.146805774325408, 17.146805774325408, 17.146805774325408, 17.146805774325408, 17.146805774325408, 123.62816223733117, 14.587538761201557, 13.734500747244379, 12.02835249774019, 12.028338128590235, 11.175264654394951, 10.322198429808829, 77.7137945526039, 9.469118519741295, 8.61605656006935, 8.616053313232538, 8.616051156178587, 8.61604737609899, 109.2573059310381, 6.909902590564648, 6.8204751633815155, 134.5349499282229, 23.74760687316003, 92.50655436355524, 114.42002803975033, 189.02275526414624, 69.8575027206785, 42.15964351649448, 122.5185945015516, 78.78631833655328, 28.90016618859996, 68.07232536656144, 28.79453649544541, 149.5645940543698, 102.60891530482166, 200.91822114051402, 55.331020942164365, 178.67575959657182, 246.57459919363052, 182.27481831144334, 146.38263955830433, 223.16000442592073, 308.90383259123666, 314.0884431774283, 215.74218617649788, 120.82555809272728, 992.6147650323616, 172.64484281925183, 144.0459678059876, 150.8799274708314, 163.91932098637403, 160.45291644586953, 102.7115519144531, 102.93932176470156, 107.41821332442218, 406.3846270730284, 338.4516975555201, 70.79447619982638, 66.58553606664012, 64.0601626115654, 90.79424978215611, 39.648262836818745, 34.59752378361803, 34.59751682953557, 174.9675122030506, 27.02143064819909, 24.496044676636018, 90.59238213632443, 23.65427895941992, 39.757685641669575, 19.44533284634914, 18.603535558028867, 16.919965679356615, 116.8715517736504, 15.236385976475457, 15.236385358919499, 15.234171003158204, 14.39458833555835, 13.552800078063289, 26.179663182930128, 11.869229558069414, 23.609247167168327, 11.027439139557858, 11.027439139557858, 10.185648225556214, 34.96010389199238, 27.01962763897603, 16.919976829419454, 64.9439451263082, 41.751783747739104, 59.75757622263065, 84.39289709315307, 46.915327803871065, 134.03366792077858, 106.81534632270224, 104.79937977265611, 110.45646390577521, 143.35584331869146, 79.10068661459049, 46.116686053466225, 88.69263183900482, 162.7119761146821, 99.86999760397235, 1107.2039495430968, 46.03587132665798, 77.05506520916524, 86.84331424458146, 100.51957943544693, 116.13119584447594, 83.0068122852676, 79.22592017416405, 71.03361636270331, 128.56432798725078, 114.0832085611223, 90.6355796451331, 106.30846564811657, 89.5850525743899, 77.59965322882401, 80.04782514835141, 39.19831496954226, 39.17170920402902, 35.20663332547812, 34.35978462250506, 32.01327936726441, 30.41661445665065, 28.02160472068221, 26.424933241725252, 22.433250100669166, 17.64323372755363, 17.643225662768383, 13.651517693668115, 11.256506209325062, 10.458204805021301, 10.458199300799228, 10.458197499836634, 8.861534048795061, 8.063195711840084, 8.063195711840084, 8.063195711840084, 8.063195711840084, 63.078792822789254, 16.58248720596595, 26.051818675244306, 6.466524613750842, 6.466524613750842, 6.466524613750842, 6.4665234636338225, 6.4665234636338225, 6.4665234636338225, 6.4665234636338225, 6.4665234636338225, 30.960691515716174, 14.411646252354466, 10.450714074304562, 57.07125188872615, 14.20712662901569, 8.859912827492591, 17.697376737763662, 48.921567200596876, 33.94374873176325, 27.89482554628901, 24.428249109698026, 27.740192529259453, 25.298720403046385, 28.58980389199806, 39.072154338654705, 33.51405281060944, 33.84270149270565, 474.3448557492925, 153.85889651540492, 66.51885366255165, 122.46699415556252, 58.23257832903156, 107.39686195359967, 83.9576334812463, 65.37412626482981, 70.08653207580929, 65.42968749355808, 71.08665882293552, 46.29689065085063, 60.55683191606506, 32.711451436384856, 41.373478599548555, 34.42532969827395, 33.918113156103296, 31.93350914554725, 44.14840365098169, 30.527303170525748, 29.726063373473554, 26.52110698876329, 26.521104944360474, 23.31613988000766, 20.111169913603586, 17.7074463784563, 32.930659370985445, 13.70123507092852, 11.297495837303929, 10.496267447175615, 8.836579808432111, 8.092543180606537, 8.092526540411376, 7.291292883951742, 7.291284185045067, 6.490059526432766, 6.4900560150169, 5.688813729485245, 5.688802936113524, 5.688801718928215, 38.020836193239674, 5.611759904646209, 4.887569649827924, 4.887562286756488, 4.887562286756488, 4.8875622672566665, 9.694628916691302, 4.086328969044384, 31.13411812507588, 48.415747389501384, 28.92488121615807, 42.297097555401244, 40.850330748548814, 11.200087696620564, 26.861392923051138, 19.615433705266632, 18.249400704956198, 39.244297452259225, 34.08353557687215, 34.032655557263965, 15.043018083420302, 80.60595727666875, 47.83539244387402, 41.061845003755025, 204.62320984900714, 43.81036927742927, 112.11110634418853, 150.9557824693282, 111.28539678468867, 381.41846982193977, 62.60638289773562, 79.17900221822964, 77.90612877346916, 82.83973438859059, 65.41717712868166, 64.39140113596258, 37.871095555671076, 36.93017451585851, 36.38421711757224, 36.69029363085901, 34.481868678561135, 36.95485087853007, 8.816067719592283, 8.02183212293602, 8.02183212293602, 7.227572174371113, 7.227570800255979, 6.433357777134644, 10.72985500843775, 5.63911679854585, 5.639109415900748, 5.639109415900748, 5.639098790145527, 4.844875326235721, 4.844875326235721, 4.844875326235721, 4.844875177781555, 4.844875177781555, 4.844875177781555, 4.844875177781555, 4.844875177781555, 4.844874401094049, 4.844874401094049, 4.844868047575606, 4.844868047575606, 4.844866621008254, 4.8448508318199135, 6.162547348558461, 8.795024490813574, 4.050630037854064, 4.050627046339421, 4.0506267236254345, 75.8283397728162, 120.64866507574686, 31.75591812555072, 43.87914657388949, 17.445634513888898, 21.362018053090914, 154.68388206520464, 73.47893637176406, 70.85622553326792, 9.483183711595382, 12.642527496678515, 13.817857583920185, 63.24834878439701, 6.291354578097817, 6.271663258849205, 23.505320989470203, 13.564546767358243, 14.123991869179436, 10.222799570638056, 48.89121341589946, 106.29037454161674, 580.7794736561593, 26.458742890385444, 21.543489974392863, 16.00156113905795, 21.31084368578343, 26.010605465134276, 20.988423345837553, 75.17161811637017, 51.10572774635084, 38.98003274090499, 74.33047821480721, 65.47813753686782, 42.49311045716709, 25.705307050172166, 42.98201880290395, 36.94261718758554, 32.24766042608108, 48.303752689530974, 43.50145735794901, 32.938975493188245, 29.435086546096876, 27.237630804317845, 25.71847421784328, 25.33469103722646], \"Total\": [18587.0, 2555.0, 409.0, 1415.0, 1533.0, 1665.0, 341.0, 1046.0, 1811.0, 595.0, 1039.0, 971.0, 873.0, 1289.0, 448.0, 231.0, 1986.0, 620.0, 215.0, 490.0, 922.0, 1250.0, 2416.0, 617.0, 193.0, 2222.0, 540.0, 1321.0, 1022.0, 273.0, 201.44976073329573, 139.59160549769894, 58.05399323835855, 63.66889868896119, 43.98871133397608, 34.61187236028612, 33.6471120461557, 23.35965510177896, 23.35965432250614, 23.359652771968356, 21.48428075154093, 19.608915940813933, 18.671230877183604, 18.67123073363442, 18.671228620196977, 17.733546195602077, 17.733546038818698, 17.733546038818698, 17.733546038818698, 17.733546135536113, 17.73354613896224, 17.732664467818275, 16.795861350358994, 16.795861350358994, 16.795861350358994, 99.76590834214015, 243.67771708073658, 39.16231624443609, 14.920489897177779, 14.920487707789357, 42.04033864565243, 32.62569579953911, 69.40714209282626, 35.2764165940935, 48.92506825227535, 91.0862677793753, 134.93091793422008, 217.3947471147144, 80.50989125650129, 60.378606913124536, 86.63759069033503, 949.7773520785813, 360.54233910674446, 88.99022323212247, 64.99296804609307, 216.57470173811728, 99.67716136483999, 378.57774448662127, 1986.6216349146216, 135.36278556161216, 858.8501216278908, 391.7053756351631, 1230.1401642121457, 175.6066307825617, 597.1692021513259, 143.90536126536622, 601.7770643508712, 262.9679428610504, 478.98944643339877, 1260.7406338501855, 274.9523507543148, 2416.8471421258214, 18587.860974022948, 1145.3904921820363, 1665.7900810157266, 1070.8971495402038, 944.703515150583, 2222.574688094111, 350.8263905231526, 734.9258519052444, 873.2996776087273, 955.1097355301202, 1172.0227913137571, 530.0479462824442, 600.4530159345337, 2555.8501715753187, 450.2779822769043, 1321.1729344977948, 1486.2328751507807, 1034.103102743027, 1811.0627038861267, 1250.618886881918, 733.2819006840771, 184.9689669852912, 148.3273774403045, 69.55437833701077, 38.410757587455706, 30.166859955019667, 69.45087482563086, 21.006418293152635, 19.17499483253468, 18.259006145155386, 18.259006145155386, 18.259005453167433, 18.259002591493854, 17.34301735120547, 17.34301562989643, 15.511039148208019, 15.511039148208019, 595.7032844939444, 14.59505090304096, 14.595050973521277, 14.594321515575563, 13.679062218315263, 13.679060525498398, 41.8379803441191, 54.036852272586344, 12.763073518965006, 12.763072259567647, 10.015104560338111, 10.01510433201354, 10.015082650448338, 10.015082650448338, 289.26815987668124, 47.38178063903185, 175.9283275643548, 17.22126979138211, 112.04128103643433, 1046.4022343329757, 50.43324540383147, 492.18881672481854, 244.67074918474452, 1022.4875227129684, 87.52007399433688, 1039.4081165518462, 118.9960078396089, 54.67557308474314, 248.3718361119954, 1321.1729344977948, 1486.2328751507807, 60.052496586238256, 2416.8471421258214, 101.21455449338335, 913.1640564411202, 302.1300008335821, 279.32371723597544, 18587.860974022948, 2555.8501715753187, 749.293117954468, 1034.103102743027, 438.86251083052497, 1172.0227913137571, 556.997599610832, 1093.6027259340358, 1665.7900810157266, 1260.7406338501855, 601.8404588560517, 2222.574688094111, 870.0432129992981, 540.6392095911395, 734.9258519052444, 1986.6216349146216, 1811.0627038861267, 1230.1401642121457, 944.703515150583, 1145.3904921820363, 146.07782955579344, 105.98341642630834, 65.0026297672975, 56.98420355593803, 41.83828704146486, 37.383604927762825, 36.492669291690035, 38.27804729231231, 33.81985940258477, 31.147051965664364, 89.76679364054148, 26.692370339248015, 56.04476316391612, 50.65293278518255, 23.12862523860254, 20.45813881026477, 41.78930150964246, 16.892071493060374, 16.89207166225122, 16.89207103587297, 16.89207103587297, 16.001135087138085, 15.110181509055733, 15.10815106346407, 32.879135111008054, 13.32768834443763, 31.09849157455332, 24.814502942124527, 38.96258092755526, 11.546454186292125, 109.28819339829656, 37.30482330543165, 77.13112018618187, 56.28106719798123, 96.49682264394653, 42.899348110978174, 30.22025441319594, 37.221126261341865, 490.0977583640074, 90.22824535868432, 1415.2050939867565, 160.03327503940488, 86.66798976907062, 174.60347116002427, 188.4779143701466, 239.30286330309445, 18587.860974022948, 1289.3923562010561, 83.0077769642341, 917.2740783877618, 84.03297867190452, 1077.179243340811, 888.180653037457, 1533.3280316995986, 471.4300701347816, 158.1382466720461, 749.293117954468, 171.61311460279907, 922.4081402021492, 601.8404588560517, 217.54169877844978, 643.742843664823, 955.1097355301202, 556.997599610832, 498.27047652410226, 395.1352155819657, 663.9065276496517, 1321.1729344977948, 754.2387762101852, 1034.103102743027, 1811.0627038861267, 1070.8971495402038, 1986.6216349146216, 38.3529582272997, 35.736837163908284, 35.73683699094828, 27.88847288846419, 24.400311154458333, 24.400307161194576, 51.40243790730319, 70.46678389130405, 21.78411075609323, 19.168067321912872, 16.55194688790024, 14.807866256997329, 14.807866256997329, 14.807865311488941, 14.807865311488941, 45.18109090865062, 13.935825816514491, 13.935825903687656, 13.935825600145394, 13.935825744750744, 13.063785271049928, 12.191744935796525, 11.319704247946483, 11.319704187525733, 11.319704711478595, 11.319704049306003, 11.319703627607103, 11.3197045240484, 43.39314257415427, 11.320734371082795, 33.942391834633824, 51.31865757017821, 183.84155905346947, 81.70589457444787, 23.386676076560956, 55.67694416324267, 48.44897169880984, 61.05848901973919, 63.817818797393066, 28.623899242097053, 63.73495516902271, 46.858597672506804, 42.9506471809349, 362.129024006929, 204.15921648542889, 71.30610030435255, 51.076593188957176, 55.72003471692324, 104.15210458660432, 238.4449603066819, 18587.860974022948, 154.74783670715922, 110.28090081698402, 137.5355391910165, 733.2819006840771, 1145.3904921820363, 182.50918005061706, 1289.3923562010561, 913.1640564411202, 423.7293236986834, 234.71088190289618, 228.34265180951644, 1093.6027259340358, 601.8404588560517, 1250.618886881918, 1077.179243340811, 1260.7406338501855, 870.0432129992981, 949.7773520785813, 396.2027150120298, 1415.2050939867565, 352.3133489061431, 955.1097355301202, 2222.574688094111, 339.74378891077185, 1811.0627038861267, 2555.8501715753187, 1022.4875227129684, 754.2387762101852, 2416.8471421258214, 1172.0227913137571, 556.997599610832, 1486.2328751507807, 1034.103102743027, 1070.8971495402038, 231.2003548559598, 193.09178342582075, 174.46092679141094, 153.28949939948308, 132.96492834821925, 94.85635889643319, 86.38778726246568, 68.60378794733357, 66.91007373705143, 64.36950251655524, 56.74778845513967, 54.207212800924715, 52.513502849872914, 215.09291933716509, 43.19807479980873, 41.50436052396573, 40.657503361007784, 37.27007490955809, 85.58834972015201, 31.342075154746617, 30.495218489626648, 27.954646698128236, 27.107789588025614, 26.260932479122896, 24.56721879182877, 23.72036103241069, 23.72036103241069, 23.72036103241069, 21.179786130238888, 19.486075610430483, 58.40815903659683, 37.16484997952698, 29.59575034489947, 235.6474142792173, 116.23638582506688, 123.94704702316733, 1533.3280316995986, 100.58255443144003, 77.69187315322311, 193.4813193390191, 18587.860974022948, 2555.8501715753187, 1250.618886881918, 511.8100073901488, 446.8391005447031, 2222.574688094111, 1986.6216349146216, 1811.0627038861267, 1289.3923562010561, 1665.7900810157266, 971.962747930959, 1172.0227913137571, 2416.8471421258214, 490.0977583640074, 944.703515150583, 1321.1729344977948, 104.93036042965973, 91.28116106087343, 86.1627115032872, 78.48503711623107, 74.21966221736452, 46.92126483786662, 29.8597670898591, 23.888242638174656, 23.03516776983825, 17.916717564374366, 17.916717564374366, 17.916717564374366, 17.916717564374366, 17.916717564374366, 129.33199450067357, 15.357494593907193, 14.504417842916668, 12.798267919444504, 12.798268359443236, 11.945193941657921, 11.092118709314775, 83.53575560928245, 10.239042830826868, 9.385968393809948, 9.385968270437756, 9.385968375915967, 9.385968871560179, 120.6035922189648, 7.679818403428107, 7.679024488727846, 157.40897334655625, 27.576565470037444, 119.6311911339287, 151.9664440141039, 273.25292414622743, 96.44775808459417, 55.49716344354745, 190.53110100663108, 116.85600165356772, 36.234326962959074, 105.00776578304607, 37.97837822785065, 372.7739775492465, 223.6680687405915, 620.8521582084352, 97.01532070409907, 542.4041126603075, 873.2996776087273, 617.9891320421933, 487.1933025943845, 971.962747930959, 1665.7900810157266, 1811.0627038861267, 1039.4081165518462, 395.1352155819657, 18587.860974022948, 922.4081402021492, 1046.4022343329757, 1289.3923562010561, 1986.6216349146216, 2222.574688094111, 444.1308721341922, 944.703515150583, 1533.3280316995986, 409.0215001273345, 341.64790792767985, 71.56552526128078, 67.35657808523167, 64.83121027691361, 92.55631971916654, 40.41931920277338, 35.36858276782513, 35.36858311724191, 179.12997133087694, 27.79247882513043, 25.26711162864036, 93.4800498559455, 24.425321191222196, 41.21974071050368, 20.21637431358364, 19.374585664642613, 17.691006272924525, 122.70242775410036, 16.007427605783334, 16.007427593707693, 16.007507321634833, 15.165638089287905, 14.323849487860832, 27.751933732802073, 12.640270148588115, 25.224394387522786, 11.798480837095754, 11.798480837095754, 10.956691647506565, 37.960336518818224, 29.389058846036416, 18.489345332100456, 78.49489329111144, 50.52834084799227, 77.83076347925052, 119.18336531487215, 61.146919771642764, 240.72962865943413, 181.78260326930447, 184.27408411022054, 219.21731795066586, 329.55123604468395, 155.45655537716905, 70.44224208347345, 201.20679793967994, 540.6392095911395, 251.1329729381208, 18587.860974022948, 70.78331641661352, 229.02947047798656, 303.6996678589147, 439.8068065417555, 754.2387762101852, 332.41058811426564, 301.89795585845013, 231.0546366579478, 1533.3280316995986, 1289.3923562010561, 888.180653037457, 2555.8501715753187, 1250.618886881918, 592.713484453869, 1811.0627038861267, 39.97370423996985, 39.976778954346, 35.9820221356178, 35.189312499717474, 32.788677051097665, 31.19200364927717, 28.79699437586976, 27.200321403554327, 23.208639371634188, 18.418620661258704, 18.418620996602673, 14.426944128266934, 12.031935410498335, 11.233592889449053, 11.233593954631237, 11.233594335871075, 9.636919858736277, 8.83858346106603, 8.83858346106603, 8.83858346106603, 8.83858346106603, 69.94031392730244, 18.476356651952475, 29.087284003337793, 7.2419105904553245, 7.2419105904553245, 7.2419105904553245, 7.241910783998363, 7.241910783998363, 7.241910783998363, 7.241910783998363, 7.241910783998363, 37.51663705575579, 16.87973162971847, 12.075791390711412, 78.86013409579677, 17.926241730245987, 10.483877878636232, 24.241628713720946, 92.91809561119851, 60.75044069955351, 49.065025913609894, 42.95039284373324, 53.765722478506405, 46.76808565081244, 56.54667404886517, 124.99535164465559, 98.06868735569107, 102.79333082330238, 18587.860974022948, 2555.8501715753187, 439.8068065417555, 1811.0627038861267, 414.47320233050243, 2222.574688094111, 1486.2328751507807, 754.2387762101852, 971.962747930959, 888.180653037457, 1533.3280316995986, 341.5843465662835, 1289.3923562010561, 127.4115180021049, 1077.179243340811, 243.96198569005998, 301.89795585845013, 358.1804389009752, 44.92352847335615, 31.302414011931575, 30.50117172425921, 27.296203056385895, 27.296203221774658, 24.091235244489706, 20.886267839389742, 18.482541718303683, 34.50447626580617, 14.476332175497246, 12.072608111460129, 11.271364424710008, 9.672137929141902, 8.867638543303496, 8.867639552988372, 8.066397807082312, 8.066397810733385, 7.265154650821673, 7.265155149087168, 6.463913208118604, 6.463914485926812, 6.463913309173743, 43.673564825897586, 6.4683024005987715, 5.662671074250943, 5.662671182500688, 5.662671182500688, 5.662671844252043, 11.311949694467629, 4.861429334731276, 39.74700483138136, 63.50015090660755, 38.117820849985506, 58.692018709432105, 59.91563558523874, 15.48499094810163, 50.59914900397322, 34.05136058602719, 31.37163917761438, 92.63527245545379, 79.0395866873454, 82.79935235670547, 24.654054134259905, 396.2027150120298, 169.71209111620007, 133.51409343678, 2555.8501715753187, 166.41029875666442, 922.4081402021492, 1811.0627038861267, 1250.618886881918, 18587.860974022948, 423.29958701825535, 971.962747930959, 1533.3280316995986, 2416.8471421258214, 1289.3923562010561, 2222.574688094111, 398.0553198142049, 361.40833988183675, 439.8068065417555, 754.2387762101852, 312.26604667881395, 1986.6216349146216, 9.591881308106945, 8.797638397999297, 8.797638397999297, 8.003399120617415, 8.003398971526137, 7.209154224422226, 12.059295576526265, 6.414912214895836, 6.414912727501419, 6.414912727501419, 6.41491419023818, 5.620670334319107, 5.620670334319107, 5.620670334319107, 5.6206703488672405, 5.6206703488672405, 5.6206703488672405, 5.6206703488672405, 5.6206703488672405, 5.620670476133685, 5.620670476133685, 5.6206708164988655, 5.6206708164988655, 5.620670936711885, 5.620670959755506, 7.2270962982266305, 10.395454598507104, 4.826428574891869, 4.82642915640523, 4.826428833110129, 102.11999886307727, 176.69155237770067, 43.89393565296551, 64.87821966325315, 24.54799606200595, 33.260943204972094, 448.51002259769723, 181.33936612057516, 173.86079418341052, 13.222137016994708, 19.50068021717897, 22.26329262948282, 189.90541025830373, 8.072747195384915, 8.066722880035709, 54.101171909435394, 25.41757048866613, 27.53026460834747, 17.120404684533156, 234.7775555413403, 971.962747930959, 18587.860974022948, 95.51308541432485, 67.90536930725438, 40.41221115714188, 71.78158015661127, 111.31352924928214, 82.22523348850564, 1533.3280316995986, 733.2819006840771, 414.47320233050243, 2222.574688094111, 1811.0627038861267, 955.1097355301202, 207.3231786929639, 1230.1401642121457, 749.293117954468, 471.4300701347816, 2416.8471421258214, 1986.6216349146216, 949.7773520785813, 1250.618886881918, 663.9065276496517, 442.10837172362744, 922.4081402021492], \"Category\": [\"Default\", \"Default\", \"Default\", \"Default\", \"Default\", \"Default\", \"Default\", \"Default\", \"Default\", \"Default\", \"Default\", \"Default\", \"Default\", \"Default\", \"Default\", \"Default\", \"Default\", \"Default\", \"Default\", \"Default\", \"Default\", \"Default\", \"Default\", \"Default\", \"Default\", \"Default\", \"Default\", \"Default\", \"Default\", \"Default\", \"Topic1\", \"Topic1\", \"Topic1\", \"Topic1\", \"Topic1\", \"Topic1\", \"Topic1\", \"Topic1\", \"Topic1\", \"Topic1\", \"Topic1\", \"Topic1\", \"Topic1\", \"Topic1\", \"Topic1\", \"Topic1\", \"Topic1\", \"Topic1\", \"Topic1\", \"Topic1\", \"Topic1\", \"Topic1\", \"Topic1\", \"Topic1\", \"Topic1\", \"Topic1\", \"Topic1\", \"Topic1\", \"Topic1\", \"Topic1\", \"Topic1\", \"Topic1\", \"Topic1\", \"Topic1\", \"Topic1\", \"Topic1\", \"Topic1\", \"Topic1\", \"Topic1\", \"Topic1\", \"Topic1\", \"Topic1\", \"Topic1\", \"Topic1\", \"Topic1\", \"Topic1\", \"Topic1\", \"Topic1\", \"Topic1\", \"Topic1\", \"Topic1\", \"Topic1\", \"Topic1\", \"Topic1\", \"Topic1\", \"Topic1\", \"Topic1\", \"Topic1\", \"Topic1\", \"Topic1\", \"Topic1\", \"Topic1\", \"Topic1\", \"Topic1\", \"Topic1\", \"Topic1\", \"Topic1\", \"Topic1\", \"Topic1\", \"Topic1\", \"Topic1\", \"Topic1\", \"Topic1\", \"Topic1\", \"Topic1\", \"Topic1\", \"Topic1\", \"Topic1\", \"Topic1\", \"Topic1\", \"Topic1\", \"Topic1\", \"Topic1\", \"Topic2\", \"Topic2\", \"Topic2\", \"Topic2\", \"Topic2\", \"Topic2\", \"Topic2\", \"Topic2\", \"Topic2\", \"Topic2\", \"Topic2\", \"Topic2\", \"Topic2\", \"Topic2\", \"Topic2\", \"Topic2\", \"Topic2\", \"Topic2\", \"Topic2\", \"Topic2\", \"Topic2\", \"Topic2\", \"Topic2\", \"Topic2\", \"Topic2\", \"Topic2\", \"Topic2\", \"Topic2\", \"Topic2\", \"Topic2\", \"Topic2\", \"Topic2\", \"Topic2\", \"Topic2\", \"Topic2\", \"Topic2\", \"Topic2\", \"Topic2\", \"Topic2\", \"Topic2\", \"Topic2\", \"Topic2\", \"Topic2\", \"Topic2\", \"Topic2\", \"Topic2\", \"Topic2\", \"Topic2\", \"Topic2\", \"Topic2\", \"Topic2\", \"Topic2\", \"Topic2\", \"Topic2\", \"Topic2\", \"Topic2\", \"Topic2\", \"Topic2\", \"Topic2\", \"Topic2\", \"Topic2\", \"Topic2\", \"Topic2\", \"Topic2\", \"Topic2\", \"Topic2\", \"Topic2\", \"Topic2\", \"Topic2\", \"Topic2\", \"Topic2\", \"Topic2\", \"Topic2\", \"Topic3\", \"Topic3\", \"Topic3\", \"Topic3\", \"Topic3\", \"Topic3\", \"Topic3\", \"Topic3\", \"Topic3\", \"Topic3\", \"Topic3\", \"Topic3\", \"Topic3\", \"Topic3\", \"Topic3\", \"Topic3\", \"Topic3\", \"Topic3\", \"Topic3\", \"Topic3\", \"Topic3\", \"Topic3\", \"Topic3\", \"Topic3\", \"Topic3\", \"Topic3\", \"Topic3\", \"Topic3\", \"Topic3\", \"Topic3\", \"Topic3\", \"Topic3\", \"Topic3\", \"Topic3\", \"Topic3\", \"Topic3\", \"Topic3\", \"Topic3\", \"Topic3\", \"Topic3\", \"Topic3\", \"Topic3\", \"Topic3\", \"Topic3\", \"Topic3\", \"Topic3\", \"Topic3\", \"Topic3\", \"Topic3\", \"Topic3\", \"Topic3\", \"Topic3\", \"Topic3\", \"Topic3\", \"Topic3\", \"Topic3\", \"Topic3\", \"Topic3\", \"Topic3\", \"Topic3\", \"Topic3\", \"Topic3\", \"Topic3\", \"Topic3\", \"Topic3\", \"Topic3\", \"Topic3\", \"Topic3\", \"Topic3\", \"Topic3\", \"Topic3\", \"Topic3\", \"Topic3\", \"Topic4\", \"Topic4\", \"Topic4\", \"Topic4\", \"Topic4\", \"Topic4\", \"Topic4\", \"Topic4\", \"Topic4\", \"Topic4\", \"Topic4\", \"Topic4\", \"Topic4\", \"Topic4\", \"Topic4\", \"Topic4\", \"Topic4\", \"Topic4\", \"Topic4\", \"Topic4\", \"Topic4\", \"Topic4\", \"Topic4\", \"Topic4\", \"Topic4\", \"Topic4\", \"Topic4\", \"Topic4\", \"Topic4\", \"Topic4\", \"Topic4\", \"Topic4\", \"Topic4\", \"Topic4\", \"Topic4\", \"Topic4\", \"Topic4\", \"Topic4\", \"Topic4\", \"Topic4\", \"Topic4\", \"Topic4\", \"Topic4\", \"Topic4\", \"Topic4\", \"Topic4\", \"Topic4\", \"Topic4\", \"Topic4\", \"Topic4\", \"Topic4\", \"Topic4\", \"Topic4\", \"Topic4\", \"Topic4\", \"Topic4\", \"Topic4\", \"Topic4\", \"Topic4\", \"Topic4\", \"Topic4\", \"Topic4\", \"Topic4\", \"Topic4\", \"Topic4\", \"Topic4\", \"Topic4\", \"Topic4\", \"Topic4\", \"Topic4\", \"Topic4\", \"Topic4\", \"Topic4\", \"Topic4\", \"Topic4\", \"Topic4\", \"Topic4\", \"Topic4\", \"Topic4\", \"Topic4\", \"Topic4\", \"Topic4\", \"Topic4\", \"Topic4\", \"Topic4\", \"Topic5\", \"Topic5\", \"Topic5\", \"Topic5\", \"Topic5\", \"Topic5\", \"Topic5\", \"Topic5\", \"Topic5\", \"Topic5\", \"Topic5\", \"Topic5\", \"Topic5\", \"Topic5\", \"Topic5\", \"Topic5\", \"Topic5\", \"Topic5\", \"Topic5\", \"Topic5\", \"Topic5\", \"Topic5\", \"Topic5\", \"Topic5\", \"Topic5\", \"Topic5\", \"Topic5\", \"Topic5\", \"Topic5\", \"Topic5\", \"Topic5\", \"Topic5\", \"Topic5\", \"Topic5\", \"Topic5\", \"Topic5\", \"Topic5\", \"Topic5\", \"Topic5\", \"Topic5\", \"Topic5\", \"Topic5\", \"Topic5\", \"Topic5\", \"Topic5\", \"Topic5\", \"Topic5\", \"Topic5\", \"Topic5\", \"Topic5\", \"Topic5\", \"Topic5\", \"Topic5\", \"Topic5\", \"Topic5\", \"Topic5\", \"Topic6\", \"Topic6\", \"Topic6\", \"Topic6\", \"Topic6\", \"Topic6\", \"Topic6\", \"Topic6\", \"Topic6\", \"Topic6\", \"Topic6\", \"Topic6\", \"Topic6\", \"Topic6\", \"Topic6\", \"Topic6\", \"Topic6\", \"Topic6\", \"Topic6\", \"Topic6\", \"Topic6\", \"Topic6\", \"Topic6\", \"Topic6\", \"Topic6\", \"Topic6\", \"Topic6\", \"Topic6\", \"Topic6\", \"Topic6\", \"Topic6\", \"Topic6\", \"Topic6\", \"Topic6\", \"Topic6\", \"Topic6\", \"Topic6\", \"Topic6\", \"Topic6\", \"Topic6\", \"Topic6\", \"Topic6\", \"Topic6\", \"Topic6\", \"Topic6\", \"Topic6\", \"Topic6\", \"Topic6\", \"Topic6\", \"Topic6\", \"Topic6\", \"Topic6\", \"Topic6\", \"Topic6\", \"Topic6\", \"Topic6\", \"Topic6\", \"Topic6\", \"Topic6\", \"Topic6\", \"Topic6\", \"Topic6\", \"Topic6\", \"Topic6\", \"Topic7\", \"Topic7\", \"Topic7\", \"Topic7\", \"Topic7\", \"Topic7\", \"Topic7\", \"Topic7\", \"Topic7\", \"Topic7\", \"Topic7\", \"Topic7\", \"Topic7\", \"Topic7\", \"Topic7\", \"Topic7\", \"Topic7\", \"Topic7\", \"Topic7\", \"Topic7\", \"Topic7\", \"Topic7\", \"Topic7\", \"Topic7\", \"Topic7\", \"Topic7\", \"Topic7\", \"Topic7\", \"Topic7\", \"Topic7\", \"Topic7\", \"Topic7\", \"Topic7\", \"Topic7\", \"Topic7\", \"Topic7\", \"Topic7\", \"Topic7\", \"Topic7\", \"Topic7\", \"Topic7\", \"Topic7\", \"Topic7\", \"Topic7\", \"Topic7\", \"Topic7\", \"Topic7\", \"Topic7\", \"Topic7\", \"Topic7\", \"Topic7\", \"Topic7\", \"Topic7\", \"Topic7\", \"Topic7\", \"Topic7\", \"Topic7\", \"Topic7\", \"Topic7\", \"Topic7\", \"Topic7\", \"Topic7\", \"Topic7\", \"Topic7\", \"Topic8\", \"Topic8\", \"Topic8\", \"Topic8\", \"Topic8\", \"Topic8\", \"Topic8\", \"Topic8\", \"Topic8\", \"Topic8\", \"Topic8\", \"Topic8\", \"Topic8\", \"Topic8\", \"Topic8\", \"Topic8\", \"Topic8\", \"Topic8\", \"Topic8\", \"Topic8\", \"Topic8\", \"Topic8\", \"Topic8\", \"Topic8\", \"Topic8\", \"Topic8\", \"Topic8\", \"Topic8\", \"Topic8\", \"Topic8\", \"Topic8\", \"Topic8\", \"Topic8\", \"Topic8\", \"Topic8\", \"Topic8\", \"Topic8\", \"Topic8\", \"Topic8\", \"Topic8\", \"Topic8\", \"Topic8\", \"Topic8\", \"Topic8\", \"Topic8\", \"Topic8\", \"Topic8\", \"Topic8\", \"Topic8\", \"Topic8\", \"Topic8\", \"Topic8\", \"Topic8\", \"Topic8\", \"Topic8\", \"Topic8\", \"Topic8\", \"Topic8\", \"Topic8\", \"Topic8\", \"Topic8\", \"Topic8\", \"Topic8\", \"Topic8\", \"Topic8\", \"Topic8\", \"Topic8\", \"Topic9\", \"Topic9\", \"Topic9\", \"Topic9\", \"Topic9\", \"Topic9\", \"Topic9\", \"Topic9\", \"Topic9\", \"Topic9\", \"Topic9\", \"Topic9\", \"Topic9\", \"Topic9\", \"Topic9\", \"Topic9\", \"Topic9\", \"Topic9\", \"Topic9\", \"Topic9\", \"Topic9\", \"Topic9\", \"Topic9\", \"Topic9\", \"Topic9\", \"Topic9\", \"Topic9\", \"Topic9\", \"Topic9\", \"Topic9\", \"Topic9\", \"Topic9\", \"Topic9\", \"Topic9\", \"Topic9\", \"Topic9\", \"Topic9\", \"Topic9\", \"Topic9\", \"Topic9\", \"Topic9\", \"Topic9\", \"Topic9\", \"Topic9\", \"Topic9\", \"Topic9\", \"Topic9\", \"Topic9\", \"Topic9\", \"Topic9\", \"Topic9\", \"Topic9\", \"Topic9\", \"Topic9\", \"Topic9\", \"Topic9\", \"Topic9\", \"Topic9\", \"Topic9\", \"Topic9\", \"Topic9\", \"Topic9\", \"Topic9\", \"Topic9\", \"Topic10\", \"Topic10\", \"Topic10\", \"Topic10\", \"Topic10\", \"Topic10\", \"Topic10\", \"Topic10\", \"Topic10\", \"Topic10\", \"Topic10\", \"Topic10\", \"Topic10\", \"Topic10\", \"Topic10\", \"Topic10\", \"Topic10\", \"Topic10\", \"Topic10\", \"Topic10\", \"Topic10\", \"Topic10\", \"Topic10\", \"Topic10\", \"Topic10\", \"Topic10\", \"Topic10\", \"Topic10\", \"Topic10\", \"Topic10\", \"Topic10\", \"Topic10\", \"Topic10\", \"Topic10\", \"Topic10\", \"Topic10\", \"Topic10\", \"Topic10\", \"Topic10\", \"Topic10\", \"Topic10\", \"Topic10\", \"Topic10\", \"Topic10\", \"Topic10\", \"Topic10\", \"Topic10\", \"Topic10\", \"Topic10\", \"Topic10\", \"Topic10\", \"Topic10\", \"Topic10\", \"Topic10\", \"Topic10\", \"Topic10\", \"Topic10\", \"Topic10\", \"Topic10\", \"Topic10\", \"Topic10\", \"Topic10\", \"Topic10\", \"Topic10\", \"Topic10\", \"Topic10\", \"Topic10\", \"Topic10\", \"Topic10\", \"Topic10\", \"Topic10\", \"Topic10\", \"Topic10\", \"Topic10\", \"Topic10\"], \"logprob\": [30.0, 29.0, 28.0, 27.0, 26.0, 25.0, 24.0, 23.0, 22.0, 21.0, 20.0, 19.0, 18.0, 17.0, 16.0, 15.0, 14.0, 13.0, 12.0, 11.0, 10.0, 9.0, 8.0, 7.0, 6.0, 5.0, 4.0, 3.0, 2.0, 1.0, -6.0992, -6.4666, -7.3465, -7.256, -7.6282, -7.8727, -7.9093, -8.2768, -8.2768, -8.2768, -8.3634, -8.4583, -8.5093, -8.5093, -8.5093, -8.5631, -8.5631, -8.5631, -8.5631, -8.5631, -8.5631, -8.5637, -8.6199, -8.6199, -8.6199, -6.8393, -5.9508, -7.7792, -8.7443, -8.7443, -7.7163, -7.9689, -7.2715, -7.9149, -7.6124, -7.0338, -6.6706, -6.2398, -7.1597, -7.4451, -7.1168, -4.9561, -5.8359, -7.0955, -7.3817, -6.31, -7.0009, -5.8332, -4.4321, -6.7492, -5.1647, -5.8634, -4.917, -6.552, -5.5713, -6.7321, -5.5781, -6.2543, -5.7815, -5.0263, -6.2222, -4.5514, -2.987, -5.144, -4.8823, -5.2252, -5.3232, -4.786, -6.0965, -5.5993, -5.4988, -5.4809, -5.3717, -5.8527, -5.781, -5.0376, -5.9674, -5.5421, -5.5383, -5.7281, -5.6361, -5.7382, -5.826, -6.0314, -6.2537, -7.0164, -7.6192, -7.8663, -7.0361, -8.2399, -8.3345, -8.3855, -8.3855, -8.3855, -8.3855, -8.4393, -8.4393, -8.5564, -8.5564, -4.9107, -8.6205, -8.6205, -8.6212, -8.689, -8.689, -7.5719, -7.317, -8.7626, -8.7626, -9.0226, -9.0226, -9.0227, -9.0227, -5.6871, -7.4892, -6.2263, -8.4961, -6.6805, -4.561, -7.4563, -5.3427, -6.0109, -4.7301, -7.0077, -4.8046, -6.7353, -7.4352, -6.1077, -4.6588, -4.5991, -7.3675, -4.309, -6.9541, -5.1488, -6.08, -6.1647, -2.91, -4.4469, -5.407, -5.2323, -5.8714, -5.1998, -5.7378, -5.356, -5.0869, -5.321, -5.7794, -5.0288, -5.5912, -5.8572, -5.726, -5.3767, -5.5329, -5.7211, -5.8088, -5.8257, -5.703, -6.0261, -6.5194, -6.6527, -6.9666, -7.0814, -7.106, -7.0591, -7.1838, -7.2681, -6.2117, -7.4267, -6.6869, -6.7898, -7.5745, -7.7041, -6.9911, -7.9015, -7.9015, -7.9015, -7.9015, -7.9583, -8.0186, -8.0253, -7.2482, -8.1536, -7.3065, -7.5369, -7.0861, -8.3042, -6.0663, -7.1334, -6.4531, -6.7694, -6.267, -7.0292, -7.3615, -7.1708, -4.8682, -6.4222, -4.083, -5.9529, -6.4899, -5.9609, -5.935, -5.7882, -2.6799, -4.6958, -6.6102, -5.086, -6.605, -5.0174, -5.218, -4.9625, -5.6505, -6.2896, -5.4912, -6.2485, -5.508, -5.7235, -6.1775, -5.8281, -5.7231, -5.9211, -5.9548, -6.0405, -5.9199, -5.7555, -5.9022, -5.851, -5.7946, -5.956, -5.9983, -6.99, -7.0621, -7.0621, -7.3163, -7.454, -7.454, -6.7092, -6.3962, -7.5713, -7.7042, -7.8576, -7.9747, -7.9747, -7.9747, -7.9747, -6.8598, -8.0388, -8.0388, -8.0388, -8.0388, -8.1073, -8.1809, -8.2603, -8.2603, -8.2603, -8.2603, -8.2603, -8.2603, -6.9194, -8.2648, -7.1672, -6.7662, -5.6174, -6.3855, -7.5713, -6.7579, -6.9156, -6.7048, -6.6771, -7.4119, -6.7264, -7.0137, -7.0988, -5.3537, -5.8306, -6.7226, -6.9876, -6.9247, -6.4789, -5.8767, -2.8277, -6.2146, -6.4566, -6.3178, -5.2431, -5.0081, -6.1784, -5.0125, -5.2217, -5.7195, -6.1099, -6.1325, -5.3593, -5.6553, -5.3391, -5.4273, -5.39, -5.5729, -5.554, -5.9219, -5.4064, -5.9962, -5.6541, -5.4096, -6.0767, -5.5379, -5.4666, -5.7392, -5.8629, -5.6458, -5.8228, -5.9974, -5.9004, -5.9749, -5.9903, -4.7857, -4.9665, -5.0683, -5.1983, -5.3413, -5.6814, -5.7757, -6.0086, -6.0339, -6.073, -6.2007, -6.2471, -6.2793, -4.8712, -6.4778, -6.5186, -6.5396, -6.6283, -5.7973, -6.8056, -6.8336, -6.923, -6.9546, -6.9873, -7.0561, -7.0923, -7.0923, -7.0923, -7.2096, -7.2963, -6.2197, -6.6758, -6.8923, -5.0858, -5.7719, -5.773, -4.0273, -6.1361, -6.3334, -5.8299, -3.3256, -4.4343, -4.8691, -5.3667, -5.4357, -4.691, -5.0748, -5.1214, -5.4482, -5.3936, -5.6317, -5.7933, -5.8153, -5.991, -5.9827, -5.9981, -5.5348, -5.6752, -5.7335, -5.8277, -5.8841, -6.3488, -6.8103, -7.0401, -7.0777, -7.3389, -7.3389, -7.3389, -7.3389, -7.3389, -5.3634, -7.5006, -7.5608, -7.6935, -7.6935, -7.767, -7.8464, -5.8277, -7.9327, -8.0271, -8.0271, -8.0271, -8.0271, -5.487, -8.2478, -8.2608, -5.2789, -7.0132, -5.6534, -5.4408, -4.9389, -5.9343, -6.4393, -5.3725, -5.814, -6.8169, -5.9602, -6.8205, -5.173, -5.5498, -4.8778, -6.1674, -4.9952, -4.6731, -4.9752, -5.1945, -4.7728, -4.4477, -4.431, -4.8066, -5.3864, -3.2804, -5.0295, -5.2106, -5.1642, -5.0813, -5.1027, -5.5488, -5.5466, -5.504, -4.0832, -4.2662, -5.8308, -5.892, -5.9307, -5.5819, -6.4105, -6.5468, -6.5468, -4.9259, -6.7939, -6.892, -5.5842, -6.927, -6.4077, -7.1229, -7.1672, -7.262, -5.3295, -7.3668, -7.3668, -7.367, -7.4237, -7.4839, -6.8256, -7.6166, -6.9289, -7.6901, -7.6901, -7.7696, -6.5363, -6.794, -7.262, -5.917, -6.3588, -6.0002, -5.655, -6.2422, -5.1924, -5.4194, -5.4385, -5.3859, -5.1252, -5.7198, -6.2594, -5.6054, -4.9986, -5.4867, -3.0809, -6.2611, -5.746, -5.6264, -5.4802, -5.3358, -5.6716, -5.7182, -5.8274, -5.2341, -5.3536, -5.5837, -5.4242, -5.5953, -5.739, -5.7079, -6.0049, -6.0056, -6.1123, -6.1367, -6.2074, -6.2586, -6.3406, -6.3993, -6.563, -6.8032, -6.8032, -7.0597, -7.2526, -7.3262, -7.3262, -7.3262, -7.4919, -7.5863, -7.5863, -7.5863, -7.5863, -5.5292, -6.8652, -6.4135, -7.8069, -7.8069, -7.8069, -7.8069, -7.8069, -7.8069, -7.8069, -7.8069, -6.2409, -7.0055, -7.3269, -5.6293, -7.0198, -7.492, -6.8002, -5.7834, -6.1489, -6.3451, -6.4778, -6.3507, -6.4428, -6.3205, -6.0082, -6.1616, -6.1519, -3.5116, -4.6375, -5.4761, -4.8657, -5.6091, -4.997, -5.2433, -5.4935, -5.4238, -5.4926, -5.4097, -5.8385, -5.57, -6.1859, -5.9509, -6.1348, -6.1496, -6.2099, -5.8786, -6.2475, -6.2741, -6.3882, -6.3882, -6.517, -6.6648, -6.7921, -6.1717, -7.0486, -7.2415, -7.3151, -7.4872, -7.5752, -7.5752, -7.6794, -7.6794, -7.7959, -7.7959, -7.9276, -7.9276, -7.9276, -6.028, -7.9413, -8.0794, -8.0794, -8.0794, -8.0794, -7.3946, -8.2585, -6.2278, -5.7863, -6.3014, -5.9214, -5.9562, -7.2502, -6.3754, -6.6898, -6.762, -5.9963, -6.1373, -6.1388, -6.9552, -5.2765, -5.7984, -5.951, -4.345, -5.8863, -4.9466, -4.6491, -4.954, -3.7222, -5.5293, -5.2944, -5.3106, -5.2492, -5.4853, -5.5011, -6.0319, -6.0571, -6.072, -6.0636, -6.1257, -6.0564, -7.4618, -7.5562, -7.5562, -7.6605, -7.6605, -7.7769, -7.2654, -7.9087, -7.9087, -7.9087, -7.9087, -8.0605, -8.0605, -8.0605, -8.0605, -8.0605, -8.0605, -8.0605, -8.0605, -8.0605, -8.0605, -8.0605, -8.0605, -8.0605, -8.0605, -7.8199, -7.4642, -8.2395, -8.2395, -8.2395, -5.3099, -4.8455, -6.1803, -5.857, -6.7793, -6.5768, -4.597, -5.3414, -5.3777, -7.3889, -7.1013, -7.0124, -5.4913, -7.7992, -7.8023, -6.4812, -7.0309, -6.9905, -7.3138, -5.7488, -4.9722, -3.274, -6.3628, -6.5683, -6.8657, -6.5792, -6.3799, -6.5944, -5.3186, -5.7045, -5.9753, -5.3299, -5.4567, -5.889, -6.3917, -5.8776, -6.029, -6.1649, -5.7609, -5.8656, -6.1437, -6.2562, -6.3338, -6.3912, -6.4062], \"loglift\": [30.0, 29.0, 28.0, 27.0, 26.0, 25.0, 24.0, 23.0, 22.0, 21.0, 20.0, 19.0, 18.0, 17.0, 16.0, 15.0, 14.0, 13.0, 12.0, 11.0, 10.0, 9.0, 8.0, 7.0, 6.0, 5.0, 4.0, 3.0, 2.0, 1.0, 1.4299, 1.4293, 1.4268, 1.425, 1.4226, 1.4178, 1.4095, 1.4069, 1.4069, 1.4069, 1.404, 1.4004, 1.3984, 1.3984, 1.3984, 1.3962, 1.3962, 1.3962, 1.3962, 1.3962, 1.3962, 1.3956, 1.3937, 1.3937, 1.3937, 1.3926, 1.3881, 1.3878, 1.3877, 1.3877, 1.3798, 1.3807, 1.3232, 1.3566, 1.3321, 1.2891, 1.2594, 1.2132, 1.2866, 1.289, 1.2561, 1.0223, 1.1112, 1.2507, 1.2788, 1.1468, 1.2319, 1.065, 0.8084, 1.1776, 0.9144, 1.0008, 0.8028, 1.1145, 0.8712, 1.1334, 0.8568, 1.0084, 0.8815, 0.669, 0.9959, 0.4931, 0.0174, 0.6472, 0.5343, 0.6332, 0.6607, 0.3423, 0.8779, 0.6356, 0.5636, 0.4919, 0.3965, 0.7091, 0.656, -0.049, 0.7575, 0.1063, -0.0076, 0.1654, -0.303, -0.0348, 0.4112, 1.5831, 1.5816, 1.5762, 1.5672, 1.5616, 1.558, 1.5499, 1.5466, 1.5446, 1.5446, 1.5446, 1.5446, 1.5422, 1.5422, 1.5368, 1.5368, 1.5343, 1.5335, 1.5335, 1.5329, 1.5298, 1.5298, 1.529, 1.528, 1.5256, 1.5256, 1.508, 1.508, 1.5079, 1.5079, 1.4802, 1.4872, 1.4384, 1.4925, 1.4353, 1.3206, 1.4578, 1.2931, 1.3239, 1.1746, 1.3552, 1.0837, 1.3203, 1.3981, 1.212, 0.9896, 0.9316, 1.3719, 0.7355, 1.2634, 0.869, 1.0438, 1.0377, 0.0945, 0.5417, 0.8086, 0.6612, 0.8791, 0.5684, 0.7743, 0.4814, 0.3298, 0.3742, 0.6553, 0.0995, 0.475, 0.6847, 0.5089, -0.1362, -0.1999, -0.0013, 0.1751, -0.0345, 2.1475, 2.1453, 2.1409, 2.1392, 2.1343, 2.1321, 2.1316, 2.1307, 2.1299, 2.1279, 2.1258, 2.1237, 2.1216, 2.1199, 2.1191, 2.1122, 2.111, 2.1064, 2.1064, 2.1064, 2.1064, 2.1037, 2.1007, 2.0941, 2.0936, 2.0912, 2.0911, 2.0864, 2.086, 2.0841, 2.0744, 2.0822, 2.0361, 2.035, 1.9982, 2.0466, 2.0647, 2.047, 1.7719, 1.9101, 1.4966, 1.8064, 1.8827, 1.7113, 1.6608, 1.5687, 0.3245, 0.977, 1.8055, 0.9273, 1.7985, 0.8352, 0.8275, 0.537, 1.0284, 1.4817, 0.7244, 1.4409, 0.4998, 0.7112, 1.2748, 0.5393, 0.2498, 0.591, 0.6688, 0.815, 0.4167, -0.1071, 0.3068, 0.0424, -0.4616, -0.0976, -0.7578, 2.1979, 2.1964, 2.1964, 2.1902, 2.1862, 2.1861, 2.1858, 2.1833, 2.1822, 2.1772, 2.1706, 2.1649, 2.1649, 2.1649, 2.1649, 2.1642, 2.1614, 2.1614, 2.1614, 2.1614, 2.1575, 2.1531, 2.1479, 2.1479, 2.1479, 2.1479, 2.1479, 2.1479, 2.145, 2.1433, 2.1428, 2.1305, 2.0032, 2.0461, 2.1113, 2.0572, 2.0386, 2.0181, 2.0016, 2.0685, 1.9536, 1.9738, 1.9758, 1.589, 1.6852, 1.8451, 1.9138, 1.8896, 1.7099, 1.4839, 0.1767, 1.5783, 1.6751, 1.593, 0.9941, 0.7831, 1.4495, 0.6603, 0.7961, 1.0661, 1.2664, 1.2714, 0.4782, 0.7794, 0.3643, 0.4253, 0.3053, 0.4932, 0.4245, 0.9308, 0.1733, 0.9739, 0.3188, -0.2813, 0.9298, -0.2049, -0.478, 0.1655, 0.3461, -0.6013, -0.0546, 0.5147, -0.3697, -0.0815, -0.1319, 2.6057, 2.6051, 2.6047, 2.604, 2.6033, 2.6009, 2.6001, 2.5978, 2.5975, 2.597, 2.5954, 2.5948, 2.5943, 2.5924, 2.5911, 2.5903, 2.5899, 2.5882, 2.5879, 2.5842, 2.5835, 2.5811, 2.5802, 2.5793, 2.5772, 2.5761, 2.5761, 2.5761, 2.572, 2.5687, 2.5476, 2.5435, 2.5548, 2.2865, 2.3071, 2.2418, 1.4722, 2.0876, 2.1486, 1.7396, -0.3212, 0.5543, 0.8342, 1.23, 1.2968, 0.4373, 0.1657, 0.2117, 0.2246, 0.023, 0.3237, -0.0251, -0.7708, 0.6491, 0.0011, -0.3497, 2.6466, 2.6455, 2.645, 2.6441, 2.6435, 2.6374, 2.6279, 2.6212, 2.62, 2.6101, 2.6101, 2.6101, 2.6101, 2.6101, 2.6089, 2.6025, 2.5994, 2.5919, 2.5919, 2.5874, 2.582, 2.5817, 2.5758, 2.5684, 2.5684, 2.5684, 2.5684, 2.5552, 2.5483, 2.5354, 2.497, 2.5045, 2.3968, 2.3702, 2.2854, 2.3314, 2.3791, 2.2124, 2.2598, 2.4278, 2.2205, 2.3771, 1.7407, 1.8747, 1.5258, 2.0924, 1.5435, 1.3894, 1.433, 1.4515, 1.1825, 0.969, 0.902, 1.0817, 1.4691, -0.2759, 0.9782, 0.671, 0.5085, 0.1592, 0.0256, 1.1898, 0.4372, -0.0045, 2.7377, 2.7348, 2.7333, 2.7327, 2.7322, 2.7249, 2.7249, 2.7221, 2.7221, 2.7207, 2.716, 2.7132, 2.7128, 2.7121, 2.7081, 2.7053, 2.7036, 2.6996, 2.6955, 2.6948, 2.6948, 2.6947, 2.692, 2.6888, 2.6858, 2.6812, 2.678, 2.6766, 2.6766, 2.6712, 2.6618, 2.6601, 2.6555, 2.5547, 2.5534, 2.4799, 2.399, 2.4792, 2.1586, 2.2125, 2.1798, 2.0587, 1.9118, 2.0685, 2.3205, 1.925, 1.5434, 1.8221, -0.0765, 2.314, 1.6548, 1.4922, 1.2682, 0.8732, 1.3567, 1.4064, 1.5647, 0.2654, 0.3192, 0.4618, -0.4356, 0.108, 0.711, -0.3749, 3.1415, 3.1408, 3.1393, 3.1373, 3.1372, 3.1359, 3.1338, 3.1322, 3.1271, 3.1181, 3.1181, 3.1059, 3.0945, 3.0896, 3.0896, 3.0896, 3.0772, 3.0693, 3.0693, 3.0693, 3.0693, 3.0579, 3.053, 3.0509, 3.0479, 3.0479, 3.0479, 3.0479, 3.0479, 3.0479, 3.0479, 3.0479, 2.9691, 3.003, 3.0166, 2.8377, 2.9286, 2.9928, 2.8465, 2.5196, 2.5791, 2.5964, 2.5968, 2.4994, 2.5467, 2.4791, 1.9983, 2.0874, 2.0501, -0.5072, 0.351, 1.2723, 0.4673, 1.1986, 0.1312, 0.2874, 0.7155, 0.5315, 0.5529, 0.0898, 1.1626, 0.1028, 1.8014, -0.0983, 1.2029, 0.975, 0.7437, 3.1512, 3.1435, 3.1428, 3.1398, 3.1398, 3.1359, 3.1308, 3.1257, 3.1219, 3.1135, 3.1022, 3.0973, 3.0782, 3.0771, 3.0771, 3.0676, 3.0676, 3.0558, 3.0558, 3.0408, 3.0408, 3.0408, 3.03, 3.0265, 3.0214, 3.0214, 3.0214, 3.0214, 3.0143, 2.9949, 2.9243, 2.8974, 2.8926, 2.841, 2.7856, 2.8446, 2.5353, 2.617, 2.6268, 2.3097, 2.3274, 2.2795, 2.6746, 1.5762, 1.9022, 1.9895, 0.6436, 1.834, 1.0611, 0.6839, 0.7493, -0.7178, 1.2574, 0.661, 0.1889, -0.2047, 0.1874, -0.3729, 0.8162, 0.8876, 0.6764, 0.1454, 0.9652, -0.8159, 3.112, 3.104, 3.104, 3.0943, 3.0943, 3.0825, 3.0795, 3.0674, 3.0674, 3.0674, 3.0674, 3.0478, 3.0478, 3.0478, 3.0478, 3.0478, 3.0478, 3.0478, 3.0478, 3.0478, 3.0478, 3.0478, 3.0478, 3.0478, 3.0478, 3.037, 3.0291, 3.0211, 3.0211, 3.0211, 2.8986, 2.8148, 2.8726, 2.8052, 2.8548, 2.7535, 2.1318, 2.2929, 2.2987, 2.8639, 2.7629, 2.7193, 2.0969, 2.947, 2.9446, 2.3627, 2.5683, 2.5289, 2.6807, 1.6273, 0.9832, -0.2696, 1.9126, 2.0483, 2.2699, 1.9819, 1.7425, 1.8308, 0.1809, 0.5327, 0.8323, -0.2016, -0.1236, 0.0838, 1.1087, -0.1578, 0.1865, 0.514, -0.7164, -0.6251, -0.1653, -0.5529, 0.0028, 0.352, -0.3985]}, \"token.table\": {\"Topic\": [4, 5, 8, 10, 4, 3, 5, 10, 4, 1, 2, 3, 4, 5, 6, 7, 8, 9, 10, 5, 10, 4, 6, 8, 9, 1, 2, 3, 4, 5, 6, 7, 8, 9, 10, 5, 10, 8, 5, 7, 2, 5, 7, 9, 10, 6, 4, 1, 2, 4, 8, 10, 10, 4, 8, 5, 7, 8, 8, 2, 9, 10, 10, 9, 9, 2, 3, 5, 10, 3, 8, 9, 1, 5, 10, 2, 4, 8, 1, 5, 6, 1, 2, 4, 7, 8, 9, 6, 4, 4, 8, 1, 2, 3, 4, 5, 6, 7, 8, 9, 8, 6, 1, 2, 3, 4, 6, 7, 8, 9, 10, 1, 2, 3, 4, 5, 6, 7, 8, 9, 10, 6, 8, 4, 4, 6, 9, 10, 9, 1, 3, 7, 9, 3, 8, 3, 10, 1, 7, 8, 8, 4, 2, 4, 5, 7, 8, 10, 3, 3, 7, 9, 6, 2, 8, 10, 4, 1, 2, 5, 7, 9, 1, 10, 1, 5, 6, 8, 9, 8, 8, 6, 4, 3, 3, 4, 6, 1, 6, 8, 1, 2, 4, 5, 8, 4, 5, 1, 3, 4, 8, 9, 10, 1, 2, 3, 5, 6, 10, 2, 6, 8, 10, 5, 8, 1, 2, 3, 4, 7, 8, 9, 10, 1, 3, 6, 7, 9, 4, 1, 3, 4, 5, 7, 8, 9, 10, 1, 4, 1, 2, 3, 4, 5, 6, 7, 8, 9, 7, 1, 2, 3, 4, 5, 6, 7, 8, 9, 10, 9, 3, 5, 7, 9, 10, 7, 7, 1, 2, 3, 4, 5, 6, 7, 8, 2, 6, 4, 7, 9, 10, 1, 4, 2, 3, 4, 6, 8, 1, 2, 3, 4, 5, 6, 7, 9, 10, 1, 2, 3, 4, 5, 6, 7, 8, 9, 10, 1, 9, 4, 5, 6, 7, 8, 9, 10, 3, 5, 7, 2, 8, 2, 1, 2, 3, 4, 5, 6, 7, 8, 9, 10, 1, 2, 3, 4, 5, 6, 7, 8, 9, 10, 4, 8, 10, 7, 8, 2, 1, 2, 4, 5, 6, 1, 2, 3, 4, 5, 6, 7, 8, 9, 10, 8, 1, 2, 3, 5, 6, 7, 8, 9, 3, 1, 2, 3, 4, 5, 6, 7, 8, 9, 10, 1, 2, 3, 4, 5, 6, 7, 8, 9, 10, 6, 5, 10, 1, 8, 7, 8, 1, 2, 3, 7, 8, 10, 7, 8, 7, 5, 3, 5, 1, 2, 3, 4, 5, 6, 10, 7, 1, 2, 4, 6, 10, 1, 2, 3, 5, 7, 8, 9, 10, 2, 1, 2, 3, 4, 5, 6, 7, 8, 9, 10, 6, 1, 2, 3, 4, 5, 6, 7, 8, 9, 1, 2, 3, 4, 5, 6, 7, 8, 9, 10, 8, 1, 4, 7, 8, 3, 6, 1, 2, 4, 7, 8, 2, 1, 2, 3, 4, 7, 6, 5, 1, 2, 3, 4, 5, 6, 7, 8, 9, 10, 1, 2, 3, 4, 6, 1, 2, 3, 8, 10, 1, 2, 3, 4, 2, 9, 1, 2, 3, 4, 7, 7, 8, 1, 2, 3, 4, 5, 6, 7, 8, 9, 10, 4, 1, 2, 3, 4, 5, 6, 7, 8, 9, 10, 2, 3, 4, 5, 6, 3, 6, 1, 3, 6, 10, 1, 2, 5, 7, 8, 1, 2, 3, 4, 5, 6, 8, 9, 10, 9, 9, 9, 5, 1, 2, 3, 4, 3, 4, 1, 2, 3, 6, 9, 5, 1, 3, 5, 7, 10, 2, 2, 5, 6, 10, 6, 1, 1, 1, 2, 3, 7, 9, 1, 3, 4, 6, 8, 10, 2, 3, 6, 8, 9, 10, 9, 1, 2, 1, 2, 3, 4, 5, 6, 7, 8, 9, 10, 3, 1, 2, 3, 4, 5, 6, 10, 1, 2, 3, 4, 7, 10, 1, 2, 8, 9, 10, 7, 9, 9, 7, 1, 2, 3, 4, 5, 7, 8, 9, 1, 2, 3, 5, 6, 9, 10, 2, 1, 2, 3, 4, 6, 6, 1, 6, 1, 2, 3, 4, 6, 7, 9, 10, 4, 4, 1, 2, 3, 4, 5, 7, 4, 1, 2, 3, 4, 5, 6, 8, 9, 10, 4, 1, 2, 3, 4, 5, 6, 8, 1, 2, 3, 4, 5, 6, 7, 8, 9, 10, 1, 3, 6, 8, 1, 3, 1, 2, 3, 4, 5, 6, 7, 8, 3, 5, 9, 10, 1, 2, 3, 4, 5, 6, 7, 8, 9, 10, 1, 2, 3, 4, 5, 6, 7, 9, 5, 3, 8, 6, 5, 1, 2, 3, 4, 5, 6, 7, 8, 9, 10, 5, 2, 4, 1, 2, 3, 4, 5, 6, 7, 8, 9, 10, 6, 1, 1, 2, 3, 4, 5, 6, 7, 8, 9, 10, 10, 7, 1, 2, 4, 5, 6, 7, 8, 9, 8, 6, 8, 1, 2, 3, 4, 5, 7, 8, 9, 10, 2, 4, 5, 6, 7, 1, 2, 3, 4, 5, 7, 8, 9, 10, 1, 2, 3, 4, 5, 6, 9, 10, 1, 2, 4, 5, 7, 1, 2, 3, 4, 5, 6, 7, 8, 9, 10, 5, 7, 1, 2, 9, 5, 1, 6, 1, 2, 3, 4, 5, 6, 8, 9, 10, 5, 6, 7, 1, 3, 7, 8, 10, 1, 2, 3, 4, 5, 6, 7, 8, 9, 1, 1, 2, 3, 6, 1, 6, 8, 10, 2, 8, 1, 2, 4, 5, 6, 7, 8, 9, 1, 2, 3, 4, 5, 6, 7, 8, 9, 10, 3, 4, 9, 2, 1, 10, 4, 1, 2, 3, 4, 5, 6, 7, 8, 9, 10, 9, 5, 10, 1, 2, 3, 4, 5, 7, 8, 10, 1, 2, 3, 4, 5, 6, 7, 8, 9, 10, 1, 2, 3, 4, 5, 6, 7, 8, 9, 10, 1, 3, 4, 5, 6, 7, 8, 9, 10, 1, 2, 3, 4, 5, 6, 7, 8, 9, 10, 1, 2, 3, 4, 5, 6, 7, 1, 9, 10, 4, 6, 8, 10, 1, 2, 4, 5, 6, 7, 8, 9, 10, 1, 2, 3, 4, 5, 6, 7, 8, 9, 9, 1, 3, 10, 10, 1, 2, 3, 4, 5, 7, 9, 10, 3, 5, 2, 10, 1, 2, 3, 5, 6, 8, 10, 5, 1, 2, 3, 4, 7, 8, 9, 7, 4, 7, 8, 3, 6, 1, 2, 3, 4, 5, 1, 2, 3, 4, 5, 7, 8, 9, 1, 8, 3, 1, 3, 4, 9, 4, 8, 10, 3, 9, 3, 7, 3, 4, 8, 1, 2, 3, 6, 10, 1, 2, 3, 4, 6, 1, 2, 3, 4, 5, 6, 7, 8, 9, 10, 5, 5, 1, 2, 3, 4, 6, 7, 8, 10, 1, 3, 6, 8, 9, 3, 1, 3, 9, 4, 8, 1, 2, 3, 4, 5, 6, 7, 8, 9, 10, 2, 4, 5, 6, 2, 7, 8, 10, 5, 6, 9, 1, 2, 3, 4, 5, 6, 7, 8, 9, 10, 9, 1, 2, 3, 4, 5, 6, 7, 9, 10, 2, 6, 1, 3, 5, 7, 7, 9, 4, 5, 1, 3, 4, 10, 1, 2, 3, 4, 5, 6, 9, 10, 9, 1, 2, 3, 4, 5, 7, 8, 9, 10, 5, 5, 3, 4, 10, 2, 4, 5, 9, 10, 6, 7, 6, 1, 2, 3, 4, 5, 6, 10, 8, 8, 7, 10, 6, 6, 1, 2, 3, 4, 5, 6, 7, 4, 7, 1, 2, 3, 4, 5, 6, 7, 8, 9, 10, 10, 3, 1, 2, 3, 4, 6, 7, 8, 10, 2, 7, 8, 2, 8, 1, 6, 8, 1, 2, 3, 4, 5, 6, 7, 8, 9, 10, 1, 8, 9, 10, 3, 7, 9, 7, 6, 1, 3, 4, 5, 6, 5, 1, 4, 6, 7, 8, 9, 10, 2, 10, 1, 2, 9, 4, 2, 5, 6, 7, 9, 10, 3, 6, 1, 3, 4, 9, 10, 1, 2, 4, 10, 9, 7, 8, 1, 3, 8, 9, 10, 1, 2, 3, 4, 5, 8, 1, 2, 8, 9, 10, 7, 1, 2, 3, 4, 5, 7, 8, 9, 10, 8, 5, 1, 4, 5, 7, 9, 10, 10, 1, 2, 3, 4, 5, 6, 7, 8, 9, 10, 2, 8, 1, 2, 4, 6, 9, 1, 2, 3, 4, 5, 6, 7, 8, 10, 1, 4, 1, 2, 5, 7, 9, 4, 9, 2, 3, 4, 5, 6, 7, 8, 9, 10, 2, 3, 4, 5, 7, 8, 9, 1, 2, 4, 6, 7, 8, 9, 3, 6, 3, 7, 9, 4, 6, 8, 9, 1, 3, 4, 3, 1, 2, 3, 4, 5, 6, 7, 8, 9, 10, 1, 3, 4, 5, 6, 9, 10, 10, 1, 2, 3, 4, 5, 6, 7, 8, 9, 10, 1, 2, 3, 4, 5, 7, 8, 9, 10, 1, 2, 4, 7, 8, 9, 1, 2, 3, 4, 5, 7, 8, 9, 10, 3, 4, 8, 7, 10, 8, 8, 1, 3, 9, 2, 2, 1, 2, 3, 4, 5, 6, 7, 8, 9, 10, 2, 1, 2, 3, 6, 7, 8, 1, 2, 3, 4, 5, 6, 7, 8, 9, 2, 1, 2, 3, 4, 5, 6, 7, 8, 9, 10, 6, 1, 10, 1, 2, 4, 6, 7, 1, 3, 7, 8, 1, 3, 4, 9, 4, 1, 1, 1, 2, 3, 4, 5, 7, 8, 9, 10, 1, 2, 5, 6, 9, 1, 10, 1, 2, 4, 6, 8, 9, 7, 8, 1, 2, 5, 10, 10, 1, 2, 3, 5, 10, 1, 2, 3, 5, 6, 7, 8, 10, 6, 5, 6, 6, 6, 1, 2, 3, 4, 8, 9, 1, 2, 3, 4, 5, 6, 7, 8, 10, 4, 7, 1, 3, 4, 8, 3, 9, 7, 1, 2, 3, 4, 5, 7, 8, 9, 10, 1, 3, 1, 2, 3, 4, 5, 6, 7, 8, 9, 10, 1, 7, 8, 1, 2, 3, 4, 7, 8, 10, 1, 2, 3, 4, 5, 6, 7, 8, 9, 10, 1, 2, 3, 4, 8, 9, 10, 1, 1, 5, 10, 1, 2, 2, 4, 8, 10, 1, 3, 1, 8, 4, 7, 1, 2, 3, 4, 7, 2, 8, 10, 2, 1, 5, 6, 9, 9, 1, 2, 3, 8, 3, 1, 2, 5, 6, 8, 1, 2, 4, 5, 6, 7, 9, 10, 2, 6, 10, 2, 3, 4, 5, 6, 7, 9, 10, 1, 10, 1, 2, 3, 4, 5, 6, 7, 8, 9, 10, 1, 2, 3, 4, 5, 6, 7, 8, 1, 2, 3, 4, 5, 6, 7, 8, 9, 10, 3, 4, 5, 9, 8, 1, 2, 3, 4, 5, 6, 7, 8, 10, 1, 2, 3, 4, 5, 6, 8, 6, 1, 2, 3, 4, 5, 6, 7, 8, 9, 10, 9, 5, 1, 2, 3, 4, 5, 6, 7, 8, 9, 10, 6, 8, 9, 3, 6, 2, 4, 6, 7, 9, 7, 7, 8, 2, 4, 5, 8, 9, 1, 2, 3, 4, 5, 6, 7, 8, 10, 9, 2, 4, 1, 2, 3, 5, 6, 8, 9, 10, 4, 1, 3, 4, 6, 7, 8, 8, 8, 10, 6, 7, 1, 2, 3, 4, 6, 7, 9, 1, 7, 7, 4, 5, 5, 2, 8, 6, 1, 2, 3, 4, 5, 6, 7, 8, 9, 10, 6, 1, 2, 4, 6, 9, 1, 2, 4, 8, 9, 1, 9, 7, 1, 2, 3, 5, 6, 7, 8, 9, 10, 1, 2, 4, 8, 9, 2, 1, 1, 2, 3, 4, 8, 9, 3, 9, 2, 3, 4, 7, 1, 2, 3, 4, 5, 1, 2, 3, 4, 5, 6, 7, 8, 10, 1, 2, 3, 5, 1, 2, 3, 4, 5, 6, 7, 8, 9, 10, 5, 5, 10, 10, 2, 10, 1, 2, 3, 4, 5, 6, 7, 8, 9, 1, 2, 3, 4, 7, 8, 9, 2, 7, 8, 9, 1, 2, 3, 6, 9, 9, 10, 1, 3, 4, 9, 1, 2, 3, 4, 5, 6, 7, 8, 9, 10, 1, 3, 4, 1, 2, 3, 6, 7, 8, 9, 1, 2, 3, 4, 6, 9, 10], \"Freq\": [0.9218046361045239, 0.023045115902613097, 0.023045115902613097, 0.023045115902613097, 0.9666536576247884, 0.9526734201274646, 0.12396607827881319, 0.7437964696728792, 0.9717568136721946, 0.11111536962697618, 0.11934613774749295, 0.016461536241033508, 0.09774037143113647, 0.10185575549139483, 0.22943266135940454, 0.06070191488881107, 0.0720192210545216, 0.08127883519010295, 0.109057677596847, 0.3504590055292615, 0.5840983425487691, 0.07623453571214422, 0.8576385267616224, 0.025411511904048074, 0.03811726785607211, 0.1308987124964248, 0.0921821918988907, 0.10140041108877977, 0.1438042193622695, 0.08665126038495725, 0.3300122469980287, 0.08480761654697945, 0.007374575351911256, 0.01843643837977814, 0.003687287675955628, 0.3076815748567759, 0.666643412189681, 0.9662024513912563, 0.9856205432205938, 0.013947460517272553, 0.08603158063646071, 0.7398715934735621, 0.10323789676375286, 0.01720631612729214, 0.05161894838187643, 0.8789884121691083, 0.9907971055268309, 0.3526659302453717, 0.048981379200746064, 0.5877765504089528, 0.009796275840149214, 0.8895736077116981, 0.8895736077116981, 0.9517255811051474, 0.044266306097913835, 0.9769115585840172, 0.08281030763492576, 0.8281030763492576, 0.9479228681922905, 0.8986446057534137, 0.8829755143564514, 0.9093349417292838, 0.8895736100142057, 0.9903389555892941, 0.928230270583093, 0.9402124939788208, 0.9635155356453959, 0.017842880289729555, 0.8287701193394408, 0.9776060366725589, 0.02898174695643756, 0.9563976495624396, 0.011683833176708012, 0.9814419868434731, 0.8895735337004697, 0.034935841254265736, 0.8733960313566435, 0.06987168250853147, 0.8310480407672747, 0.06925400339727289, 0.09233867119636385, 0.037011778367679424, 0.9438003483758253, 0.8188869525388326, 0.032755478101553305, 0.13102191240621322, 0.016377739050776653, 0.9938200052640255, 0.918569905354512, 0.9640053814969745, 0.8285106430211753, 0.29946128122301446, 0.200391383675551, 0.05854130309622839, 0.06304448025747672, 0.03827700587061087, 0.23191362380428937, 0.04728336019310754, 0.04278018303185921, 0.01801270864499335, 0.8285106430211753, 0.9488345138510657, 0.2884914177247912, 0.328719304658527, 0.039078518735629085, 0.17815207070654437, 0.08965071945232556, 0.018389891169707805, 0.03677978233941561, 0.004597472792426951, 0.01609115477349433, 0.2257565824542686, 0.3513507990362794, 0.03677836871871967, 0.06729658957042323, 0.12794177203214183, 0.004695110900262085, 0.041473479618981755, 0.0602539232200301, 0.08020814454614396, 0.0043038516585735785, 0.8003460373265815, 0.19318697452710587, 0.9717568906285327, 0.6408329253777688, 0.027862301103381254, 0.027862301103381254, 0.2925541615855031, 0.9891485559596666, 0.04238286861755282, 0.12714860585265844, 0.6498706521358099, 0.18365909734272887, 0.9239634321693496, 0.05133130178718609, 0.9666114814438564, 0.8895736100142057, 0.9071216152197816, 0.028347550475618176, 0.028347550475618176, 0.9142336311415094, 0.979381578718655, 0.9893061836512734, 0.03292157187618063, 0.03292157187618063, 0.18106864531899347, 0.5596667218950707, 0.18106864531899347, 0.9631730166010947, 0.9266521059520046, 0.9368716519119051, 0.036033525073534814, 0.9376268785378614, 0.11641337061087055, 0.5587841789321787, 0.30267476358826345, 0.9328474745483136, 0.11563550963237533, 0.06424194979576407, 0.02569677991830563, 0.7709033975491689, 0.02569677991830563, 0.22689221841704052, 0.6806766552511216, 0.8315520212482004, 0.011237189476327031, 0.07866032633428922, 0.0337115684289811, 0.0337115684289811, 0.9051224141560703, 0.9772718777938013, 0.9803657288214631, 0.93284748518736, 0.9471899196210057, 0.03316650794893159, 0.05804138891063028, 0.9037873416083858, 0.8932798287110018, 0.07203869586379046, 0.028815478345516184, 0.07831375881320145, 0.13704907792310253, 0.7439807087254138, 0.019578439703300362, 0.019578439703300362, 0.91331218350878, 0.058923366677985804, 0.5716006875987794, 0.06080858378710419, 0.08513201730194586, 0.012161716757420837, 0.012161716757420837, 0.2553960519058376, 0.029452751975333688, 0.38288577567933796, 0.058905503950667376, 0.04417912796300053, 0.1619901358643353, 0.3239802717286706, 0.11750881446923661, 0.039169604823078866, 0.08813161085192746, 0.7442224916384985, 0.0953845525077866, 0.8584609725700794, 0.3064130546580663, 0.2605717315202453, 0.05790482922672118, 0.05307942679116109, 0.06755563409784138, 0.13993667063124285, 0.019301609742240395, 0.09409534749342192, 0.05134524470371364, 0.008557540783952274, 0.6760457219322296, 0.23105360116671136, 0.034230163135809094, 0.945443439116991, 0.18804622468308801, 0.555781064063349, 0.004178804992957512, 0.06686087988732019, 0.05014565991549014, 0.05014565991549014, 0.04178804992957512, 0.04596685492253263, 0.9586351126157125, 0.9717568544271612, 0.29048866615030694, 0.2267986377430204, 0.1988371618568946, 0.13514713344960805, 0.0139807379430629, 0.007767076635034945, 0.051262705791230635, 0.048155875137216655, 0.0279614758861258, 0.9498513463959178, 0.10695689155191157, 0.052826269607956326, 0.19891373123983555, 0.02086963737598275, 0.3208706746557347, 0.06978284997594231, 0.08413072567193045, 0.046304507927961716, 0.05086974110395794, 0.048913212599959566, 0.8228032795669769, 0.07868572650921983, 0.27540004278226937, 0.07868572650921983, 0.039342863254609915, 0.5508000855645387, 0.9895787989012704, 0.9126842592376613, 0.00643266536797884, 0.07719198441574607, 0.032163326839894195, 0.21871062251128054, 0.02573066147191536, 0.07075931904776724, 0.5081805640703283, 0.05789398831180956, 0.9520899622625961, 0.9550614182548444, 0.08177026772031742, 0.7686405165709839, 0.04906216063219046, 0.08177026772031742, 0.19206720745039585, 0.7896096306294051, 0.7647315372348973, 0.016807286532635107, 0.033614573065270215, 0.1764765085926686, 0.008403643266317554, 0.23121138617406597, 0.2672718775957093, 0.32454442279478984, 0.03606049142164332, 0.019090848399693522, 0.044545312932618215, 0.010606026888718622, 0.0021212053777437245, 0.06787857208779918, 0.05300317035778612, 0.15648555058013044, 0.13124594564785136, 0.27511169376184225, 0.04543128887810239, 0.0050479209864558216, 0.0479552493713303, 0.06562297282392568, 0.20444079995146075, 0.015143762959367464, 0.984603611100545, 0.9575669599659966, 0.019884163921918066, 0.596524917657542, 0.06959457372671324, 0.1193049835315084, 0.0298262458828771, 0.13918914745342648, 0.019884163921918066, 0.8865932687876251, 0.053732925381068185, 0.026866462690534092, 0.9503575458991591, 0.9772718600008172, 0.9310473891543415, 0.5315556729278161, 0.17869532565281698, 0.05436364836761756, 0.0005033671145149774, 0.0870825108110911, 0.0825522067804563, 0.024664988611233892, 0.0005033671145149774, 0.018624583237054165, 0.022148153038659007, 0.21909074228729034, 0.1373958892310126, 0.2673649736387272, 0.16617475792129224, 0.04456082893978786, 0.02320876507280618, 0.06405619160094506, 0.03806237471940213, 0.02320876507280618, 0.014853609646595954, 0.9835941753294315, 0.8285106208788883, 0.8895735875694623, 0.9194484550237312, 0.05408520323669007, 0.8986426602897454, 0.16321955902293353, 0.09974528606957049, 0.5803362098593192, 0.10881303934862235, 0.05440651967431118, 0.5063538724391556, 0.06218380889603666, 0.12214676747435772, 0.05330040762517428, 0.10660081525034856, 0.028871054130302734, 0.03553360508344952, 0.04219615603659631, 0.006662550953146785, 0.037754455401165114, 0.9727079781142784, 0.038767775766662946, 0.00816163700350799, 0.6835370990437941, 0.14078823831051282, 0.02856572951227796, 0.06529309602806392, 0.0020404092508769975, 0.03468695726490895, 0.9827284844830393, 0.17503535317677874, 0.1673050852131355, 0.07343754565461064, 0.08889808158189708, 0.09110672957150943, 0.17337886718456946, 0.044172959792246995, 0.06736376368317668, 0.0833764616078662, 0.03589052983120068, 0.24107131026331227, 0.22471655054002576, 0.16069627399163441, 0.12986970385530816, 0.053368163307566566, 0.0534219618592879, 0.059554996755520354, 0.025500513515913863, 0.0204972482058295, 0.03125695855009695, 0.9488345138510657, 0.946081774366147, 0.03378863479879097, 0.9526156275193363, 0.9759466644577153, 0.9769442751528814, 0.016747616145477966, 0.33300288810407036, 0.04105515058817306, 0.04561683398685896, 0.5017851738554485, 0.036493467189487164, 0.03193178379080127, 0.9926128574502957, 0.004889718509607368, 0.971485853056984, 0.9696311101072023, 0.9471899291080519, 0.9777296647706609, 0.030826986473748673, 0.030826986473748673, 0.061653972947497346, 0.15413493236874337, 0.015413493236874336, 0.015413493236874336, 0.6781937024224708, 0.9398322223997236, 0.15704654430261272, 0.3245628582253996, 0.08375815696139345, 0.14657677468243854, 0.2722140101245287, 0.15927816858145508, 0.1752059854396006, 0.09556690114887305, 0.0876029927198003, 0.39819542145363773, 0.015927816858145507, 0.003981954214536377, 0.06769322164711841, 0.9310474244395918, 0.16916563539286467, 0.3310160000660379, 0.0896120663162202, 0.17556649727259468, 0.05212130387780155, 0.07315270719691445, 0.06583743647722301, 0.012801723759460029, 0.01463054143938289, 0.016459359119305753, 0.9488345138510657, 0.14911812205079358, 0.15740246216472656, 0.04418314727430921, 0.5329592139963548, 0.011045786818577303, 0.002761446704644326, 0.022091573637154607, 0.06903616761610815, 0.011045786818577303, 0.22868677500390558, 0.1431291354045423, 0.07356357797328432, 0.1567224052474318, 0.169516070981916, 0.03438297666142636, 0.07196436975647379, 0.009595249300863171, 0.08875605603298434, 0.023188519143752664, 0.8285106208788883, 0.24178973890282848, 0.03719842136966592, 0.20459131753316256, 0.5207778991753229, 0.35164862663375984, 0.6455638966560069, 0.8374655840931018, 0.11857919774769583, 0.01482239971846198, 0.02223359957769297, 0.8285106208788883, 0.9310473891543415, 0.014196027417966179, 0.09937219192576324, 0.15615630159762797, 0.07098013708983089, 0.6530172612264442, 0.901541018633559, 0.9942596648706394, 0.27142666295180423, 0.20809377492971656, 0.018095110863453615, 0.15154655348142404, 0.06333288802208766, 0.17868921977660446, 0.042975888300702335, 0.002261888857931702, 0.004523777715863404, 0.05880911030622425, 0.12844002589419926, 0.7212401454058882, 0.029640005975584447, 0.09880001991861483, 0.019760003983722966, 0.951467121546048, 0.0237866780386512, 0.16735242362252992, 0.7809779769051396, 0.8287700638248335, 0.00892528174213586, 0.8568270472450426, 0.05355169045281516, 0.07140225393708688, 0.9910510287230102, 0.9276004163696149, 0.06023531990447559, 0.10842357582805605, 0.7107767748728119, 0.09637651184716094, 0.024094127961790234, 0.9831851598692698, 0.010804232526035932, 0.20744178103371183, 0.283174494744432, 0.07902544039379499, 0.07902544039379499, 0.026341813464598327, 0.003292726683074791, 0.2864672214275068, 0.013170906732299164, 0.013170906732299164, 0.013170906732299164, 0.968141931183629, 0.5700825405459373, 0.25083631784021243, 0.06270907946005311, 0.008551238108189061, 0.031354539730026554, 0.017102476216378122, 0.02565371432456718, 0.008551238108189061, 0.014252063513648433, 0.011401650810918746, 0.18019902766907606, 0.05148543647687888, 0.07722815471531831, 0.6306965968417663, 0.05148543647687888, 0.93252111378063, 0.032155900475194135, 0.09324151009596293, 0.9091047234356386, 0.12387356816669387, 0.7432414090001632, 0.08174250525099966, 0.7683795493593968, 0.05313262841314978, 0.032697002100399865, 0.061306878938249744, 0.4624265961981187, 0.29744420853223763, 0.019829613902149174, 0.14753232743198985, 0.03648648957995448, 0.011897768341289505, 0.0055522918926017685, 0.00793184556085967, 0.011104583785203537, 0.9111535716593056, 0.9282301015991404, 0.882975411170136, 0.9519844742708462, 0.03231062938515819, 0.09046976227844293, 0.3424926714826768, 0.5298943219165944, 0.926530915893731, 0.06618077970669507, 0.7211358328793189, 0.10539677557466968, 0.019415195500597046, 0.1442271665758638, 0.008320798071684449, 0.9948081617058605, 0.28120005559863503, 0.6101510640347741, 0.047750952837504065, 0.047750952837504065, 0.01061132285277868, 0.9503576635082067, 0.16294609099237156, 0.08147304549618578, 0.04073652274809289, 0.692520886717579, 0.9835668584182917, 0.9640500006019815, 0.9586351180292443, 0.08326048514602155, 0.7993006574018069, 0.04995629108761293, 0.04995629108761293, 0.01665209702920431, 0.14846997549006039, 0.07423498774503019, 0.1979599673200805, 0.12372497957505031, 0.049489991830020126, 0.395919934640161, 0.162245121156017, 0.04056128028900425, 0.04056128028900425, 0.04056128028900425, 0.6084192043350637, 0.0811225605780085, 0.8677975180799533, 0.09914095275772486, 0.8724403842679788, 0.16097874085507044, 0.48731659646602954, 0.019711682553682094, 0.24092056454500335, 0.04599392595859155, 0.0054754673760228035, 0.010950934752045607, 0.007665654326431925, 0.013141121702454728, 0.006570560851227364, 0.9907210348612216, 0.33648872362541254, 0.28963586337377284, 0.01703740372786899, 0.09370572050327945, 0.029815456523770732, 0.025556105591803484, 0.20870819566639512, 0.038507535232234234, 0.1155226056967027, 0.1485290644671892, 0.08251614692621621, 0.588615181407009, 0.02200430584699099, 0.45894078780101216, 0.03623216745797464, 0.060386945763291074, 0.4106312311903793, 0.02415477830531643, 0.23611003460612104, 0.7607990003975011, 0.9891485619529563, 0.9323234195893051, 0.24711253065801853, 0.11503514358218105, 0.07669009572145404, 0.38771103948068425, 0.042605608734141126, 0.004260560873414113, 0.08095065659486814, 0.042605608734141126, 0.010368307359958556, 0.17626122511929543, 0.010368307359958556, 0.020736614719917112, 0.7257815151970989, 0.020736614719917112, 0.031104922079875665, 0.9670531971891091, 0.2825658720878421, 0.35909412911163274, 0.05003770651555538, 0.2766790830860121, 0.029433945009150222, 0.9588781616007153, 0.10878802159970091, 0.8703041727976073, 0.013412953427897093, 0.46677077929081884, 0.05096922302600895, 0.005365181371158837, 0.4023886028369128, 0.008047772056738256, 0.04023886028369128, 0.013412953427897093, 0.9022498467551262, 0.9328474948670691, 0.043833411545552294, 0.3725839981371945, 0.06575011731832844, 0.4657299976714931, 0.01643752932958211, 0.03287505865916422, 0.945443439116991, 0.2552052117371468, 0.49218147977878307, 0.0638013029342867, 0.029622033505204537, 0.08886610051561361, 0.03873650535295978, 0.004557235923877621, 0.009114471847755242, 0.018228943695510483, 0.9716684129695627, 0.7957873973316923, 0.04139934436985683, 0.09199854304412629, 0.00919985430441263, 0.00919985430441263, 0.045999271522063144, 0.00919985430441263, 0.4476642087730215, 0.34017037140807105, 0.07347680022414335, 0.04626317051149766, 0.020410222284484265, 0.005442725942529137, 0.04626317051149766, 0.0027213629712645685, 0.012246133370690557, 0.006803407428161421, 0.32984480974506475, 0.010307650304533273, 0.5669207667493301, 0.08246120243626619, 0.9885981288629482, 0.007163754556977885, 0.24160341236929606, 0.29314547367474586, 0.009664136494771842, 0.09825205436351372, 0.017717583573748377, 0.32374857257485673, 0.01127482591056715, 0.004832068247385921, 0.01848388795854526, 0.425129423046541, 0.11090332775127157, 0.4436133110050863, 0.650269375573108, 0.09887136704620356, 0.0038027448863924445, 0.05323842840949423, 0.019013724431962222, 0.022816469318354668, 0.0038027448863924445, 0.05704117329588667, 0.015210979545569778, 0.07605489772784889, 0.2589042293855031, 0.2928854094923504, 0.06634420878003518, 0.07119866308101336, 0.01779966577025334, 0.2945035609260098, 0.08840209044503382, 0.8840209044503382, 0.9943457799889234, 0.9268773206396059, 0.04029901394085243, 0.9712065038125802, 0.9750552332779466, 0.19781412817161612, 0.19326667694928013, 0.013642353667008007, 0.04547451222336003, 0.029558432945184017, 0.04774823783452803, 0.22964628672796814, 0.1523396159482561, 0.08185412200204804, 0.011368628055840007, 0.9696311101072023, 0.9075218242131183, 0.08442063481052264, 0.333397120002036, 0.22586417576386242, 0.04229329187610173, 0.08233694056730442, 0.11383194515589082, 0.0719885819167689, 0.019346931390131644, 0.0481423641568392, 0.02879543276670756, 0.03329471913650562, 0.9588781508249754, 0.9586351095538919, 0.11137056678797903, 0.2691455364042827, 0.15777496961630363, 0.15379744937387582, 0.013258400808092742, 0.005303360323237097, 0.15379744937387582, 0.08617960525260282, 0.04905608298994315, 0.0013258400808092742, 0.8895735337004697, 0.9609402505281971, 0.22365049521582572, 0.15407034114867993, 0.08449018708153416, 0.004970011004796127, 0.06461014306234965, 0.4423309794268553, 0.004970011004796127, 0.019880044019184508, 0.9339083578495382, 0.9587728116212899, 0.0386601940169875, 0.35729778650690924, 0.12000841684201533, 0.07909645655496464, 0.29456611406676486, 0.03000210421050383, 0.03954822827748232, 0.005454928038273424, 0.004091196028705068, 0.06955033248798616, 0.10968723362707512, 0.7991498449972616, 0.015669604803867875, 0.015669604803867875, 0.04700881441160363, 0.12271985225402415, 0.394119525508116, 0.08023990339686195, 0.3162396192699853, 0.0023599971587312334, 0.018879977269849867, 0.016519980111118635, 0.023599971587312335, 0.02595996874604357, 0.136128302203622, 0.4590993721377055, 0.24022641565345057, 0.09075220146908132, 0.005338364792298902, 0.010676729584597804, 0.009342138386523077, 0.04937987432876484, 0.08874757619634097, 0.032271845889578536, 0.18556311386507657, 0.6938446866259385, 0.9370603241721999, 0.46159668460484127, 0.12844429484656453, 0.2267844580884655, 0.03010413160466356, 0.06221520531630469, 0.020069421069775707, 0.022076363176753277, 0.03211107371164113, 0.006020826320932713, 0.010034710534887853, 0.9909720454548736, 0.9896257727481811, 0.9846036764553306, 0.9613198073395933, 0.973892026017947, 0.9973579941372085, 0.9501713063982509, 0.03065068730316938, 0.2794692320653602, 0.3964788413384002, 0.12087769553000008, 0.10057024268096006, 0.0009670215642400006, 0.06285640167560004, 0.012571280335120007, 0.012571280335120007, 0.01353830189936001, 0.9722655510607608, 0.021394939380991317, 0.9734697418351049, 0.07551389387455856, 0.00839043265272873, 0.7047963428292133, 0.15102778774911713, 0.058733028569101106, 0.0779036519688939, 0.28997470455088287, 0.11252749728840229, 0.14715134260791068, 0.0173119226597542, 0.0173119226597542, 0.30728662721063704, 0.00432798066493855, 0.02163990332469275, 0.9383069923627715, 0.09194926419887732, 0.09194926419887732, 0.041795120090398784, 0.7773892336814173, 0.9447857927774306, 0.02553475115614677, 0.8285106208788883, 0.8746283790805114, 0.1599290467075455, 0.8263000746556518, 0.3820576255421321, 0.20155795993167597, 0.08423317728487952, 0.012033311040697074, 0.012033311040697074, 0.24969120409446427, 0.05414989968313683, 0.0030083277601742685, 0.09013865194686022, 0.13821259965185234, 0.11417562579935628, 0.17426806043059642, 0.02403697385249606, 0.030046217315620072, 0.060092434631240144, 0.07211092155748818, 0.26440671237745667, 0.03605546077874409, 0.9471899547439436, 0.9793815834586898, 0.8829755312357427, 0.9947614618760982, 0.25060409453752935, 0.7290300932000855, 0.9717568425614826, 0.5914885347365629, 0.22471906929952098, 0.011643475093239429, 0.0733538930874084, 0.017465212639859142, 0.026779992714450685, 0.0081504325652676, 0.005821737546619714, 0.0163008651305352, 0.02561564520512674, 0.8258598580312316, 0.9417500681229837, 0.05381428960702764, 0.3845806153819665, 0.07848583987387071, 0.03924291993693536, 0.06278867189909657, 0.03139433594954828, 0.03139433594954828, 0.25900327158377334, 0.11772875981080606, 0.4168099557722342, 0.19580907262926386, 0.04122296265879239, 0.03320738658624943, 0.0034352468882326995, 0.28283532713115894, 0.0011450822960775665, 0.006870493776465399, 0.0034352468882326995, 0.017176234441163497, 0.5283950714805725, 0.20404178914095955, 0.06015574659932672, 0.05040076066430077, 0.043897436707616797, 0.03739411275093283, 0.008942070440440458, 0.005690408462098474, 0.025200380332150385, 0.03495536626717634, 0.044939076059719855, 0.044939076059719855, 0.14979692019906618, 0.014979692019906619, 0.07489846009953309, 0.14230707418911287, 0.0823883061094864, 0.3070836864080857, 0.14230707418911287, 0.14730830216971852, 0.0294616604339437, 0.04124632460752118, 0.17087763051687346, 0.02356932834715496, 0.06481565295467615, 0.15909296634329598, 0.01178466417357748, 0.28283194016585955, 0.06481565295467615, 0.19536116635081027, 0.11938737943660628, 0.005426699065300285, 0.027133495326501427, 0.016280097195900855, 0.0705470878489037, 0.56980340185653, 0.2705876362115496, 0.06013058582478879, 0.6313711511602823, 0.05266154304960136, 0.7635923742192198, 0.1579846291488041, 0.02633077152480068, 0.2976231389632229, 0.1908893236108947, 0.0636297745369649, 0.016420586977281264, 0.2996757123353831, 0.05747205442048443, 0.01026286686080079, 0.016420586977281264, 0.04926176093184379, 0.21582235768411506, 0.3015979100970326, 0.09961031893113004, 0.16601719821855004, 0.05810601937649252, 0.011067813214570003, 0.022135626429140007, 0.022135626429140007, 0.10237727223477253, 0.9835687714298333, 0.964050109724922, 0.98457555069869, 0.9353205966898592, 0.8895735146745702, 0.2634023078381348, 0.5502686143629999, 0.1044526393151224, 0.019679482769515814, 0.0522263196575612, 0.006812128650986244, 0.000756903183442916, 0.003027612733771664, 0.9471899547439436, 0.9696311101072023, 0.9310475703596004, 0.8895736077116981, 0.20119098918938963, 0.20566190006026494, 0.004470910870875325, 0.05812184132137922, 0.46050381970015847, 0.0178836434835013, 0.04470910870875325, 0.9659223945044346, 0.04551644284522163, 0.21847892565706384, 0.03337872475316253, 0.16385919424279788, 0.4339234217911129, 0.04248201332220686, 0.06372301998331029, 0.9370649913728987, 0.05719162204730295, 0.042893716535477217, 0.9007680472450215, 0.8601319476212493, 0.13471946167561735, 0.042072136706330004, 0.042072136706330004, 0.22438472910042667, 0.6871782328700566, 0.9868225973998827, 0.2504136626890416, 0.205528194848553, 0.07323418437132348, 0.19607862267160803, 0.05197264697319731, 0.06378461219437852, 0.009449572176944965, 0.1488307617868832, 0.9526156275193363, 0.9051224141560703, 0.986499499728231, 0.13845942466156594, 0.7615268356386127, 0.06922971233078297, 0.023076570776927655, 0.20289085459281253, 0.7227986694868946, 0.06340339206025392, 0.9691779829897822, 0.022279953631949016, 0.9571827849472526, 0.023929569623681316, 0.9754129646515637, 0.9649936643183674, 0.028382166597599044, 0.035934535783535906, 0.4671489651859668, 0.02695090183765193, 0.2245908486470994, 0.2335744825929834, 0.11844720139881297, 0.09212560108796564, 0.013160800155423664, 0.026321600310847328, 0.7501656088591488, 0.2372218542889029, 0.16336976757631994, 0.0850417968205501, 0.0671382606478027, 0.2685530425912108, 0.08727973884214353, 0.013427652129560543, 0.03580707234549478, 0.03133118830230793, 0.008951768086373695, 0.9658501604961383, 0.9902215083358478, 0.05123458438273875, 0.003659613170195625, 0.087830716084695, 0.1317460741270425, 0.6916668891669732, 0.025617292191369375, 0.003659613170195625, 0.003659613170195625, 0.9586351180292443, 0.9382164797682861, 0.053612370272473495, 0.8901870319518335, 0.9305078221520428, 0.9740611144514968, 0.987839346523032, 0.004964016816698653, 0.9794422098009534, 0.8444923142862031, 0.14686822857151358, 0.3873900414119815, 0.1758960188032781, 0.14867401589324697, 0.14972101600517124, 0.011517001231167018, 0.009423001007318469, 0.021987002350409762, 0.01675200179078839, 0.03350400358157678, 0.043974004700819525, 0.8639882053354837, 0.011368265859677417, 0.011368265859677417, 0.11368265859677416, 0.12228669787241855, 0.16304893049655805, 0.5706712567379533, 0.14266781418448832, 0.9416492645409116, 0.03424179143785133, 0.017120895718925666, 0.05118690186318164, 0.024042332693312587, 0.30867252941736806, 0.21095208040583946, 0.09229153517755477, 0.11710942699000647, 0.08841373958185919, 0.04730910626748606, 0.05041134274404252, 0.010082268548808504, 0.8677975184727422, 0.11894662421008753, 0.10882350725603752, 0.26320104080530005, 0.09110805258645002, 0.05567714324727501, 0.3062242878600126, 0.030369350862150007, 0.0025307792385125005, 0.022777013146612506, 0.9647106702142452, 0.0143986667196156, 0.9807676793994082, 0.02634328595860224, 0.02634328595860224, 0.9220150085510784, 0.9514599094546179, 0.03964416289394241, 0.9454434994852267, 0.9442965985121786, 0.07844988651423991, 0.09413986381708789, 0.7688088878395511, 0.06275990921139192, 0.10353110420634169, 0.1265380162521954, 0.06902073613756113, 0.011503456022926855, 0.16104838432097596, 0.11503456022926854, 0.005751728011463428, 0.4083726888139033, 0.9021567535633594, 0.3243391055334709, 0.13090795223338886, 0.04689240080001989, 0.1856157531667454, 0.2520466543001069, 0.025400050433344108, 0.005861550100002486, 0.019538500333341622, 0.007815400133336647, 0.995511086986318, 0.9863985542651184, 0.033957480814783024, 0.27731942665406134, 0.6848091964314575, 0.17966794339768424, 0.08983397169884212, 0.04491698584942106, 0.04491698584942106, 0.6288378018918949, 0.9488345138510657, 0.9947061134135932, 0.9911335439442868, 0.2942266290945606, 0.17846533240161874, 0.004823387362205912, 0.02894032417323547, 0.18328871976382466, 0.18328871976382466, 0.12540807141735372, 0.9755663417640151, 0.9051224141560703, 0.9704088213686201, 0.0242602205342155, 0.9767218154158411, 0.9588781489969117, 0.08157884688709947, 0.10488708885484217, 0.4894730813225968, 0.11654120983871354, 0.04661648393548541, 0.029135302459678384, 0.13402239131452057, 0.9727165098699738, 0.019454330197399478, 0.446354722491541, 0.17928892618907089, 0.10551900343419275, 0.09524724203794391, 0.015874540339657316, 0.039219452603859256, 0.06256436486806119, 0.028947691207610402, 0.025212505245338093, 0.001867592981136155, 0.8895735875694623, 0.9512022341596498, 0.7232073153163161, 0.10250182421806055, 0.03416727473935352, 0.03986182052924577, 0.04555636631913802, 0.02277818315956901, 0.028472728949461266, 0.005694545789892253, 0.008149797997510142, 0.9535263657086867, 0.040748989987550714, 0.9387225476305716, 0.8901870621625355, 0.4244281454866867, 0.05305351818583584, 0.5128506757964132, 0.3881089472522245, 0.4265888322143321, 0.014895439340170664, 0.059581757360682656, 0.033928500719277624, 0.00993029289344711, 0.007033957466191703, 0.005378908650617184, 0.03434226292317125, 0.01986058578689422, 0.9586351180292443, 0.9704064752402821, 0.9282302850948039, 0.8302089459458659, 0.9926215390859037, 0.8280793472632243, 0.16561586945264484, 0.937064990665998, 0.91147988562794, 0.02216600790638675, 0.7868932806767296, 0.02216600790638675, 0.0443320158127735, 0.11083003953193374, 0.9890857528399867, 0.1762044128851072, 0.029367402147517867, 0.11746960859007147, 0.029367402147517867, 0.029367402147517867, 0.5873480429503574, 0.029367402147517867, 0.9592292684010456, 0.8895736077116981, 0.8126234624953099, 0.1705506032397564, 0.010032388425868023, 0.9717568373745736, 0.7654800168795451, 0.011467865421416408, 0.13761438505699689, 0.06211760436600554, 0.008600899066062305, 0.012423520873201107, 0.8945805510596153, 0.10371948418082497, 0.18161830520451833, 0.03632366104090367, 0.18161830520451833, 0.07264732208180734, 0.5085312545726514, 0.1256854513252785, 0.7883905583131106, 0.034277850361439585, 0.034277850361439585, 0.8258599146711093, 0.9871788560885527, 0.9756413807906189, 0.06676053689373646, 0.1335210737874729, 0.03338026844686823, 0.6842955031607987, 0.06676053689373646, 0.10740226536028698, 0.5763921574335401, 0.0644413592161722, 0.11814249189631568, 0.1288827184323444, 0.003580075512009566, 0.2779673321902191, 0.1496747173331949, 0.5345525619042675, 0.0213821024761707, 0.8287701636793859, 0.9323234195893051, 0.18984844680141705, 0.36294556006153256, 0.2540618920430728, 0.019543222464851753, 0.008375666770650752, 0.008375666770650752, 0.08934044555360802, 0.025127000311952256, 0.03908644492970351, 0.8285106430211753, 0.9878480112065695, 0.06375184888098308, 0.12750369776196616, 0.12750369776196616, 0.06375184888098308, 0.5737666399288477, 0.03187592444049154, 0.9353206714298625, 0.26167782347304286, 0.08943419283255895, 0.07618468278329096, 0.043060907660120974, 0.026499020098535987, 0.04968566268475497, 0.26167782347304286, 0.11262083541877795, 0.03643615263548698, 0.046373285172437974, 0.9321673675264294, 0.047803454744945094, 0.6867809948854198, 0.17433671408629886, 0.10565861459775688, 0.029056119014383146, 0.0026414653649439223, 0.6580489612983419, 0.08001875369387837, 0.014740296733082858, 0.16635477741622084, 0.0031586350142320412, 0.018951810085392245, 0.016846053409237553, 0.0063172700284640825, 0.03474498515655245, 0.14448191064851756, 0.825610917991529, 0.21739496051872814, 0.07905271291590114, 0.09881589114487643, 0.07905271291590114, 0.5336058121823327, 0.8979471871612839, 0.08551877972964608, 0.15281876138889325, 0.10042375748412985, 0.10915625813492374, 0.1135225084603207, 0.043662503253969503, 0.33620127505556513, 0.08295875618254205, 0.0174650013015878, 0.043662503253969503, 0.00424362814698703, 0.025461768881922184, 0.07214167849877952, 0.7256604131347822, 0.140039728850572, 0.01697451258794812, 0.01697451258794812, 0.6401109120076801, 0.2727745363669091, 0.010910981454676366, 0.043643925818705465, 0.010910981454676366, 0.00727398763645091, 0.01454797527290182, 0.9374334957060134, 0.9865056300689558, 0.045794292450659725, 0.06869143867598959, 0.8700915565625348, 0.050318256897207626, 0.12579564224301906, 0.025159128448603813, 0.7799329819067182, 0.07107185771600788, 0.8883982214500984, 0.01776796442900197, 0.9799636385535083, 0.44269192060605683, 0.09837598235690151, 0.07788098603254703, 0.03689099338383807, 0.040989992648708964, 0.020494996324354482, 0.06148498897306345, 0.1393659750056105, 0.04508899191357986, 0.032791994118967174, 0.09373050696054655, 0.7061031524361173, 0.14372011067283805, 0.031243502320182182, 0.006248700464036436, 0.012497400928072873, 0.006248700464036436, 0.9382935120760206, 0.48108855394775807, 0.2226213700620998, 0.03773243560374573, 0.05848527518580588, 0.022639461362247437, 0.05848527518580588, 0.039619057383933017, 0.024526083142434724, 0.015092974241498292, 0.039619057383933017, 0.09478402945717519, 0.042126235314300084, 0.37387033841441325, 0.03159467648572506, 0.010531558828575021, 0.042126235314300084, 0.047392014728587596, 0.021063117657150042, 0.33174410310011315, 0.21812543998780154, 0.094521023994714, 0.5380427519699105, 0.08725017599512062, 0.02908339199837354, 0.03635423999796693, 0.18894145113600955, 0.28181097796557353, 0.06404794953763035, 0.18253665618224652, 0.08005993692203794, 0.022416782338170623, 0.0544407571069858, 0.1088815142139716, 0.012809589907526071, 0.9241620422062377, 0.05490071537858837, 0.009150119229764728, 0.9895788086776145, 0.9093349417292838, 0.9051224141560703, 0.961784960572586, 0.11023595849866887, 0.11023595849866887, 0.7559037154194437, 0.9802215874977701, 0.992029569521495, 0.10592505253383971, 0.4434489487433629, 0.2100547651942245, 0.18132932721894596, 0.0017953398734549104, 0.0035906797469098207, 0.025134758228368744, 0.023339418354913835, 0.0017953398734549104, 0.0053860196203647315, 0.8986426398024704, 0.0190462103929737, 0.057138631178921095, 0.26664694550163176, 0.6475711533611058, 0.9187092428324353, 0.06805253650610632, 0.2518331275707856, 0.18206117880658523, 0.2932602221495295, 0.08067381575860663, 0.06214064186811592, 0.06977194876420033, 0.04905840147482836, 0.0010901866994406301, 0.009811680294965671, 0.9802216847855958, 0.22073085329645048, 0.0267552549450243, 0.089184183150081, 0.2140420395601944, 0.020066441208768226, 0.03121446410252835, 0.011148022893760125, 0.015607232051264176, 0.0267552549450243, 0.3455887097065639, 0.9652231583246201, 0.9689469860214691, 0.8895736100142057, 0.8612321923031439, 0.06624863017716491, 0.033124315088582455, 0.016562157544291228, 0.016562157544291228, 0.9522290888607379, 0.010023464093270925, 0.02004692818654185, 0.02004692818654185, 0.7683057021064554, 0.02955021931178675, 0.18468887069866718, 0.014775109655893374, 0.9328474803835808, 0.9775235212855073, 0.938307130047176, 0.08723479580367398, 0.0623105684311957, 0.1329292126532175, 0.03738634105871742, 0.029078265267891326, 0.5566410779853482, 0.03738634105871742, 0.020770189477065232, 0.03738634105871742, 0.44281608073747253, 0.0885632161474945, 0.025303776042141287, 0.012651888021070644, 0.4301641927164019, 0.08292358319390779, 0.9121594151329857, 0.15334282578618572, 0.017038091754020636, 0.06815236701608254, 0.03407618350804127, 0.017038091754020636, 0.7155998536688667, 0.9893226100818038, 0.008780969911968672, 0.7480098030835145, 0.18469377853913937, 0.05079078909826333, 0.018469377853913938, 0.8746283953735219, 0.40256013661954265, 0.12131949322780737, 0.055145224194457894, 0.01102904483889158, 0.40256013661954265, 0.3078145160805327, 0.5792208635924002, 0.043027835581149726, 0.029788501556180583, 0.006619667012484573, 0.019859001037453722, 0.0033098335062422867, 0.006619667012484573, 0.9969198347434918, 0.9837607823733054, 0.9115741212019058, 0.9376268463026693, 0.9588781001895629, 0.06913999801611853, 0.898819974209541, 0.017284999504029633, 0.003456999900805927, 0.003456999900805927, 0.006913999801611854, 0.37234240816742237, 0.09193639707837589, 0.41371378685269156, 0.013790459561756384, 0.032177738977431564, 0.022984099269593973, 0.0045968198539187944, 0.009193639707837589, 0.032177738977431564, 0.9835940143580837, 0.9493467986790115, 0.8570375505808194, 0.024841668132777377, 0.08694583846472081, 0.024841668132777377, 0.9673674811250795, 0.01974219349234856, 0.9231395288200078, 0.2530733717627687, 0.28175502056254914, 0.07254769990532701, 0.14340824399890226, 0.050614674352553735, 0.1315981533166397, 0.025307337176276867, 0.013497246494014329, 0.03036880461153224, 0.28560215738281486, 0.7021053035660866, 0.28485196016685843, 0.1835212233486084, 0.26571170987896675, 0.02702152981820001, 0.040532294727300015, 0.005629485378791668, 0.10245663389400837, 0.07318330992429169, 0.01238486783334167, 0.004503588303033335, 0.05937262038793432, 0.8312166854310804, 0.09895436731322385, 0.11464832412754662, 0.3937920698293993, 0.23594292791466118, 0.23760449782955315, 0.00664627965956792, 0.00996941948935188, 0.00166156991489198, 0.09196704966673598, 0.17955471601600836, 0.10072581630166322, 0.38976511525426205, 0.12262273288898132, 0.0481732164920998, 0.013138149952390855, 0.03503506653970895, 0.0043793833174636185, 0.008758766634927237, 0.15200565261030155, 0.2720101151973817, 0.13600505759869086, 0.09600357006966413, 0.31201160272640843, 0.008000297505805344, 0.016000595011610688, 0.9823218936578483, 0.8563310573765935, 0.0658716197981995, 0.0658716197981995, 0.9846035782543909, 0.8986446057534137, 0.041251353686231174, 0.08250270737246235, 0.7425243663521611, 0.12375406105869352, 0.9586351128009211, 0.9897386854878208, 0.9526156275193363, 0.9723236958181443, 0.9158462482329658, 0.07794436155174177, 0.09736347099548485, 0.1317270489938913, 0.6414534559702532, 0.10881799699495366, 0.01718178899920321, 0.9592292637688739, 0.096195889321051, 0.8657630038894589, 0.9402124012032733, 0.9586827761192948, 0.06457866222534629, 0.19373598667603886, 0.7103652844788092, 0.9670957967997246, 0.8462453962864713, 0.06154511972992519, 0.06154511972992519, 0.030772559864962596, 0.9265275861583537, 0.09144851563330421, 0.8230366406997379, 0.018289703126660842, 0.036579406253321685, 0.018289703126660842, 0.04136969811497055, 0.6041900096791047, 0.06830810618983509, 0.009620860026737336, 0.20781057657752647, 0.03655926810160188, 0.01058294602941107, 0.022127978061495874, 0.9484587624524732, 0.047003266103839376, 0.0033573761502742414, 0.4050760583303227, 0.1257770409427486, 0.024045610768466643, 0.0036993247336102528, 0.09433278070706146, 0.3014949657892356, 0.018496623668051264, 0.027744935502076896, 0.9774588334074812, 0.8322751619980591, 0.26629464479830656, 0.2361480812362341, 0.10048854520690813, 0.1758549541120892, 0.01507328178103622, 0.037683204452590546, 0.06029312712414488, 0.01507328178103622, 0.09546411794656272, 0.002512213630172703, 0.08410860581634876, 0.6621107690426524, 0.07726255650571572, 0.12811892281327542, 0.01075807748813763, 0.030318218375660597, 0.003912028177504593, 0.0019560140887522966, 0.643340673054011, 0.1506234115483597, 0.01021175671514303, 0.028082330966643334, 0.05105878357571515, 0.05105878357571515, 0.015317635072714546, 0.02042351343028606, 0.01021175671514303, 0.017870574251500303, 0.07184302335760656, 0.8441555244518771, 0.03592151167880328, 0.03592151167880328, 0.8285106208788883, 0.5720376556106407, 0.1294391775469333, 0.05219321675279569, 0.11273734818603869, 0.07933368946424944, 0.008350914680447309, 0.002087728670111827, 0.025052744041341928, 0.020877286701118273, 0.5660037369347607, 0.24113768674143654, 0.025118509035566304, 0.03684047991883058, 0.04521331626401935, 0.056935287147283624, 0.028467643573641812, 0.9628167441352425, 0.4522475116876337, 0.19731262092935373, 0.04190710533012822, 0.23834666156510426, 0.003492258777510685, 0.009603711638154384, 0.022699682053819455, 0.011349841026909727, 0.003492258777510685, 0.018334358581931096, 0.9547040559184569, 0.9838282406283128, 0.12901013641740056, 0.1973096204030832, 0.19188902643596553, 0.0639630088119885, 0.03686003897640016, 0.18755255126227138, 0.03469180138955309, 0.009757069140811807, 0.12142130486343582, 0.02710296983558835, 0.05924264804301741, 0.8293970726022437, 0.05924264804301741, 0.9428471854669038, 0.03041442533764206, 0.05405681685067824, 0.01801893895022608, 0.7567954359094953, 0.12613257265158256, 0.03603787790045216, 0.9806661328852979, 0.05412322455327391, 0.9200948174056566, 0.14357492849103068, 0.7178746424551533, 0.0538405981841365, 0.0538405981841365, 0.03589373212275767, 0.23482188143940322, 0.5187612337816042, 0.043061892298343285, 0.07535831152210075, 0.02624084061930294, 0.02825936682078778, 0.012111157208909049, 0.05651873364157556, 0.004037052402969683, 0.8872040352166399, 0.9592772082661546, 0.9454434994852267, 0.10336915247593428, 0.07752686435695072, 0.1395483558425113, 0.4186450675275339, 0.16539064396149486, 0.015505372871390144, 0.05685303386176386, 0.010336915247593429, 0.971756797581972, 0.00960134222893674, 0.15362147566298784, 0.6048845604230146, 0.12481744897617762, 0.09601342228936739, 0.01920268445787348, 0.8901871465710954, 0.9558710580751638, 0.9353205966898592, 0.9337319023583799, 0.05985460912553717, 0.16110739070172794, 0.12436359983993034, 0.5186527402415276, 0.12930987937901847, 0.002119834088180631, 0.04875618402815451, 0.014838838617264415, 0.981844603970117, 0.9825868741748606, 0.9920977976586339, 0.9390618103382002, 0.991198912401206, 0.9981114205433692, 0.06875856816918685, 0.8938613861994291, 0.9488345138510657, 0.35238222589260004, 0.3609144831781351, 0.021330643213837774, 0.10324031315497482, 0.07167096119849492, 0.055459672355978214, 0.012798385928302665, 0.002559677185660533, 0.011091934471195643, 0.009385483014088621, 0.9208724490975713, 0.43196551467275296, 0.054519919327629014, 0.47809775410382366, 0.00838767989655831, 0.020969199741395775, 0.2529346971419085, 0.3210325002185762, 0.04864128791190549, 0.3307607578009573, 0.03891303032952439, 0.8993344633291073, 0.0817576784844643, 0.9773908900582007, 0.4040124909314106, 0.28454965928898757, 0.03121641831862311, 0.07503946711207478, 0.18549756270104886, 0.004802525895172786, 0.0012006314737931965, 0.0006003157368965982, 0.012606630474828562, 0.15067032861479263, 0.1399081622851646, 0.16143249494442066, 0.5273461501517742, 0.010762166329628045, 0.9670531971891091, 0.9894941061847334, 0.4563221313387053, 0.32975102921556076, 0.023315729338473992, 0.16154469613085554, 0.001665409238462428, 0.02664654781539885, 0.9757580481685235, 0.8829755143564514, 0.0931301450045562, 0.06984760875341714, 0.7916062325387276, 0.02328253625113905, 0.176761431880809, 0.7456487988535276, 0.03453959013762935, 0.032507849541298206, 0.01015870298165569, 0.16178779537299023, 0.19017161912263766, 0.21287867812235559, 0.2895150022464036, 0.0482525003744006, 0.06812117699915379, 0.017030294249788448, 0.002838382374964741, 0.014191911874823706, 0.26975683333833583, 0.6884838582217228, 0.02818354975176643, 0.01207866417932847, 0.21539176682935424, 0.2952222818080659, 0.17622962740583528, 0.039162139423518955, 0.08434922337373313, 0.10543652921716641, 0.024099778106780892, 0.0030124722633476115, 0.016568597448411864, 0.04066837555519276, 0.9927429859873108, 0.9591339019203926, 0.8895735110274976, 0.9353203834168864, 0.9290836386528676, 0.058067727415804224, 0.5583463044781187, 0.1944241595950592, 0.023264429353254946, 0.13792483116572576, 0.009970469722823548, 0.023264429353254946, 0.0033234899076078498, 0.026587919260862798, 0.023264429353254946, 0.10539124629651113, 0.3191012735088809, 0.20199988873497968, 0.13173905787063891, 0.08782603858042594, 0.13466659248998644, 0.02049274233543272, 0.09177241220082179, 0.5302406038269704, 0.34669577942532676, 0.040787738755920795, 0.7365952113801549, 0.12508220570606404, 0.055592091424917355, 0.04864307999680269, 0.03474505714057335, 0.9021566508422211, 0.8895736077116981, 0.9479734247652356, 0.012311343178769293, 0.024622686357538587, 0.008207562119179529, 0.4583448595837828, 0.24346262749254052, 0.033873061216353466, 0.0486925254985081, 0.0740973214107732, 0.10902891579013771, 0.006351198978066274, 0.008468265304088366, 0.010585331630110457, 0.00740973214107732, 0.9640499931901194, 0.190381327161289, 0.8050410405677363, 0.16192536171589675, 0.24828555463104166, 0.04318009645757246, 0.08636019291514492, 0.02159004822878623, 0.010795024114393115, 0.4210059404613315, 0.1264716184787154, 0.03161790461967885, 0.5122100548387973, 0.16441310402233, 0.018970742771807308, 0.08853013293510077, 0.05691222831542193], \"Term\": [\"05\", \"05\", \"05\", \"05\", \"07\", \"10tv\", \"11182020new\", \"11182020new\", \"115\", \"19\", \"19\", \"19\", \"19\", \"19\", \"19\", \"19\", \"19\", \"19\", \"19\", \"1h\", \"1h\", \"1st\", \"1st\", \"1st\", \"1st\", \"2020\", \"2020\", \"2020\", \"2020\", \"2020\", \"2020\", \"2020\", \"2020\", \"2020\", \"2020\", \"20k\", \"20k\", \"20m\", \"22\", \"22\", \"24\", \"24\", \"24\", \"24\", \"24\", \"24hour\", \"2500\", \"250000\", \"250000\", \"250000\", \"250000\", \"2give\", \"2this\", \"3000\", \"3000\", \"37th\", \"45s\", \"45s\", \"45sdiscourages\", \"45sshows\", \"4659\", \"4corners\", \"4psouthern\", \"600\", \"7345441052\", \"900\", \"95\", \"95\", \"98new\", \"abbott\", \"accountability\", \"accountability\", \"active\", \"active\", \"activequestions\", \"affordable\", \"affordable\", \"affordable\", \"aint\", \"aint\", \"aint\", \"alabama\", \"alabama\", \"allah\", \"allah\", \"allah\", \"allah\", \"altered\", \"alyemeni\", \"alyemeni19\", \"alyemeniplanetsaqarnibiruplanetxvaccinecovid19\", \"america\", \"america\", \"america\", \"america\", \"america\", \"america\", \"america\", \"america\", \"america\", \"america13102018imam\", \"america15000\", \"american\", \"american\", \"american\", \"american\", \"american\", \"american\", \"american\", \"american\", \"american\", \"amp\", \"amp\", \"amp\", \"amp\", \"amp\", \"amp\", \"amp\", \"amp\", \"amp\", \"amp\", \"angeles\", \"angeles\", \"antidisability\", \"app\", \"app\", \"app\", \"app\", \"appealing\", \"apply\", \"apply\", \"apply\", \"apply\", \"approval\", \"approval\", \"approved\", \"apr\", \"asshole\", \"asshole\", \"asshole\", \"asteroid\", \"attempting\", \"auburn\", \"authority\", \"authority\", \"authority\", \"authority\", \"authority\", \"authorization\", \"authorizes\", \"avenue\", \"avenue\", \"avgnew\", \"avoiding\", \"avoiding\", \"avoiding\", \"awwrrite\", \"beach\", \"beach\", \"beach\", \"beach\", \"beach\", \"beating\", \"beating\", \"bed\", \"bed\", \"bed\", \"bed\", \"bed\", \"benefitshealth\", \"benefitsstockpiles\", \"bernardino\", \"bigot\", \"biontech\", \"birthday\", \"birthday\", \"birthday\", \"bitch\", \"bitch\", \"bitch\", \"blessed\", \"blessed\", \"blessed\", \"blessed\", \"blessed\", \"bliss\", \"bliss\", \"briefing\", \"briefing\", \"briefing\", \"briefing\", \"briefing\", \"briefing\", \"brother\", \"brother\", \"brother\", \"brother\", \"brother\", \"brother\", \"building\", \"building\", \"building\", \"building\", \"bungling\", \"bungling\", \"business\", \"business\", \"business\", \"business\", \"business\", \"business\", \"business\", \"business\", \"ca\", \"ca\", \"ca\", \"ca\", \"ca\", \"cadeservesbetter\", \"california\", \"california\", \"california\", \"california\", \"california\", \"california\", \"california\", \"california\", \"cannibal\", \"capitolhill\", \"care\", \"care\", \"care\", \"care\", \"care\", \"care\", \"care\", \"care\", \"care\", \"carnival\", \"case\", \"case\", \"case\", \"case\", \"case\", \"case\", \"case\", \"case\", \"case\", \"case\", \"cashapp\", \"cbs\", \"cbs\", \"cbs\", \"cbs\", \"cbs\", \"cdcdirector\", \"cdcemergency\", \"cdcgov\", \"cdcgov\", \"cdcgov\", \"cdcgov\", \"cdcgov\", \"cdcgov\", \"cdcgov\", \"cdcgov\", \"cheering\", \"chuck\", \"click\", \"click\", \"click\", \"click\", \"closure\", \"closure\", \"coach\", \"coach\", \"coach\", \"coach\", \"coach\", \"come\", \"come\", \"come\", \"come\", \"come\", \"come\", \"come\", \"come\", \"come\", \"community\", \"community\", \"community\", \"community\", \"community\", \"community\", \"community\", \"community\", \"community\", \"community\", \"compromise\", \"condone\", \"confirmed\", \"confirmed\", \"confirmed\", \"confirmed\", \"confirmed\", \"confirmed\", \"confirmed\", \"confirms\", \"confirms\", \"confirms\", \"congressvaccinationday\", \"consistant\", \"consultant\", \"corona\", \"corona\", \"corona\", \"corona\", \"corona\", \"corona\", \"corona\", \"corona\", \"corona\", \"corona\", \"coronavirus\", \"coronavirus\", \"coronavirus\", \"coronavirus\", \"coronavirus\", \"coronavirus\", \"coronavirus\", \"coronavirus\", \"coronavirus\", \"coronavirus\", \"coronavirusbidentrump\", \"coronavirusoutbreakyou\", \"coronavirusthe\", \"costa\", \"costa\", \"coughing\", \"count\", \"count\", \"count\", \"count\", \"count\", \"country\", \"country\", \"country\", \"country\", \"country\", \"country\", \"country\", \"country\", \"country\", \"country\", \"countrywith\", \"county\", \"county\", \"county\", \"county\", \"county\", \"county\", \"county\", \"county\", \"couragehonestyand\", \"covid\", \"covid\", \"covid\", \"covid\", \"covid\", \"covid\", \"covid\", \"covid\", \"covid\", \"covid\", \"covid19\", \"covid19\", \"covid19\", \"covid19\", \"covid19\", \"covid19\", \"covid19\", \"covid19\", \"covid19\", \"covid19\", \"covid19meanwhiledonald\", \"covid19my\", \"covid19my\", \"covid19pedo\", \"covidoversight\", \"crew\", \"crew\", \"crisis\", \"crisis\", \"crisis\", \"crisis\", \"crisis\", \"crisis\", \"cruise\", \"cruise\", \"cruiselaw\", \"cruiseships15\", \"culling\", \"cumulative\", \"cuomo\", \"cuomo\", \"cuomo\", \"cuomo\", \"cuomo\", \"cuomo\", \"cuomo\", \"cvsjob\", \"dad\", \"dad\", \"dad\", \"dad\", \"dad\", \"daily\", \"daily\", \"daily\", \"daily\", \"daily\", \"daily\", \"daily\", \"daily\", \"darkness\", \"day\", \"day\", \"day\", \"day\", \"day\", \"day\", \"day\", \"day\", \"day\", \"day\", \"days1500000\", \"dead\", \"dead\", \"dead\", \"dead\", \"dead\", \"dead\", \"dead\", \"dead\", \"dead\", \"death\", \"death\", \"death\", \"death\", \"death\", \"death\", \"death\", \"death\", \"death\", \"death\", \"deathfull\", \"decade\", \"decade\", \"decade\", \"decade\", \"december\", \"december\", \"democrat\", \"democrat\", \"democrat\", \"democrat\", \"dena\", \"denialism\", \"department\", \"department\", \"department\", \"department\", \"department\", \"dereliction\", \"destitute\", \"died\", \"died\", \"died\", \"died\", \"died\", \"died\", \"died\", \"died\", \"died\", \"died\", \"dinner\", \"dinner\", \"dinner\", \"dinner\", \"dinner\", \"disappear\", \"disappear\", \"discourages\", \"discourages\", \"disrupt\", \"distance\", \"distance\", \"distance\", \"distance\", \"distancing\", \"distracted\", \"distribution\", \"distribution\", \"distribution\", \"distribution\", \"distribution\", \"doc\", \"doc\", \"doctor\", \"doctor\", \"doctor\", \"doctor\", \"doctor\", \"doctor\", \"doctor\", \"doctor\", \"doctor\", \"doctor\", \"doctrinecovid19\", \"doesnt\", \"doesnt\", \"doesnt\", \"doesnt\", \"doesnt\", \"doesnt\", \"doesnt\", \"doesnt\", \"doesnt\", \"doesnt\", \"dog\", \"dog\", \"dog\", \"dog\", \"dog\", \"dolly\", \"dolly\", \"dollyparton\", \"dollyparton\", \"dolphin\", \"dolphin\", \"donald\", \"donald\", \"donald\", \"donald\", \"donald\", \"dont\", \"dont\", \"dont\", \"dont\", \"dont\", \"dont\", \"dont\", \"dont\", \"dont\", \"doug\", \"dumbfounded\", \"eau\", \"ebenezersisolak\", \"effective\", \"effective\", \"effective\", \"effective\", \"efficacy\", \"efficacy\", \"election\", \"election\", \"election\", \"election\", \"election\", \"email\", \"emergency\", \"emergency\", \"emergency\", \"emergency\", \"emergency\", \"emily\", \"emmy\", \"emmy\", \"emmy\", \"emmy\", \"epidemicjtmharding\", \"epstein\", \"erase\", \"everyday\", \"everyday\", \"everyday\", \"everyday\", \"everyday\", \"excellent\", \"excellent\", \"excellent\", \"excellent\", \"excellent\", \"excellent\", \"factor\", \"factor\", \"factor\", \"factor\", \"factor\", \"factor\", \"fairfaxcounty\", \"false\", \"false\", \"family\", \"family\", \"family\", \"family\", \"family\", \"family\", \"family\", \"family\", \"family\", \"family\", \"fda\", \"feel\", \"feel\", \"feel\", \"feel\", \"feel\", \"feel\", \"feel\", \"fighting\", \"fighting\", \"fighting\", \"fighting\", \"fighting\", \"fighting\", \"financial\", \"financial\", \"financial\", \"financial\", \"financial\", \"financing\", \"financing\", \"firstthe\", \"floater\", \"food\", \"food\", \"food\", \"food\", \"food\", \"food\", \"food\", \"food\", \"football\", \"football\", \"football\", \"football\", \"football\", \"football\", \"football\", \"freecovid19my\", \"friend\", \"friend\", \"friend\", \"friend\", \"friend\", \"fulmer\", \"g20\", \"g20\", \"game\", \"game\", \"game\", \"game\", \"game\", \"game\", \"game\", \"game\", \"garciaforchange2022\", \"garciasenate2022\", \"gathering\", \"gathering\", \"gathering\", \"gathering\", \"gathering\", \"gathering\", \"gavinnewsomsenkamalaharris\", \"getting\", \"getting\", \"getting\", \"getting\", \"getting\", \"getting\", \"getting\", \"getting\", \"getting\", \"giveaway\", \"god\", \"god\", \"god\", \"god\", \"god\", \"god\", \"god\", \"going\", \"going\", \"going\", \"going\", \"going\", \"going\", \"going\", \"going\", \"going\", \"going\", \"golf\", \"golf\", \"golf\", \"golf\", \"gon\", \"gon\", \"good\", \"good\", \"good\", \"good\", \"good\", \"good\", \"good\", \"good\", \"google\", \"google\", \"google\", \"google\", \"gop\", \"gop\", \"gop\", \"gop\", \"gop\", \"gop\", \"gop\", \"gop\", \"gop\", \"gop\", \"got\", \"got\", \"got\", \"got\", \"got\", \"got\", \"govinslee\", \"govinslee\", \"govsisolak\", \"graf\", \"graf\", \"grassley\", \"greased\", \"great\", \"great\", \"great\", \"great\", \"great\", \"great\", \"great\", \"great\", \"great\", \"great\", \"gregmortimor\", \"gsaemily\", \"gsaemily\", \"ha\", \"ha\", \"ha\", \"ha\", \"ha\", \"ha\", \"ha\", \"ha\", \"ha\", \"ha\", \"hart\", \"harvest\", \"health\", \"health\", \"health\", \"health\", \"health\", \"health\", \"health\", \"health\", \"health\", \"health\", \"healthtowsorg\", \"healthycareer\", \"heart\", \"heart\", \"heart\", \"heart\", \"heart\", \"heart\", \"heart\", \"heart\", \"hedge\", \"held\", \"held\", \"help\", \"help\", \"help\", \"help\", \"help\", \"help\", \"help\", \"help\", \"help\", \"highly\", \"highly\", \"highly\", \"highly\", \"highly\", \"holiday\", \"holiday\", \"holiday\", \"holiday\", \"holiday\", \"holiday\", \"holiday\", \"holiday\", \"holiday\", \"home\", \"home\", \"home\", \"home\", \"home\", \"home\", \"home\", \"home\", \"homeless\", \"homeless\", \"homeless\", \"homeless\", \"hopkins\", \"hospital\", \"hospital\", \"hospital\", \"hospital\", \"hospital\", \"hospital\", \"hospital\", \"hospital\", \"hospital\", \"hospital\", \"hungry\", \"huntington\", \"hybrid\", \"ibottaapp\", \"ifad\", \"ignored\", \"ignoring\", \"ignoring\", \"im\", \"im\", \"im\", \"im\", \"im\", \"im\", \"im\", \"im\", \"im\", \"inactiverecovered\", \"incredible\", \"incredible\", \"industry\", \"industry\", \"industry\", \"industry\", \"industry\", \"infected\", \"infected\", \"infected\", \"infected\", \"infected\", \"infected\", \"infected\", \"infected\", \"infected\", \"intense\", \"international\", \"international\", \"international\", \"international\", \"ivankatrump\", \"ivankatrump\", \"jeffersonsnotesi\", \"jfergusonau\", \"jk\", \"jk\", \"job\", \"job\", \"job\", \"job\", \"job\", \"job\", \"job\", \"job\", \"join\", \"join\", \"join\", \"join\", \"join\", \"join\", \"join\", \"join\", \"join\", \"join\", \"jordanboeing\", \"jordanpompeo\", \"joyner\", \"jr\", \"kelly\", \"kelly\", \"khalifa\", \"know\", \"know\", \"know\", \"know\", \"know\", \"know\", \"know\", \"know\", \"know\", \"know\", \"lamborn\", \"lazy\", \"lazy\", \"leave\", \"leave\", \"leave\", \"leave\", \"leave\", \"leave\", \"leave\", \"leave\", \"life\", \"life\", \"life\", \"life\", \"life\", \"life\", \"life\", \"life\", \"life\", \"life\", \"like\", \"like\", \"like\", \"like\", \"like\", \"like\", \"like\", \"like\", \"like\", \"like\", \"link\", \"link\", \"link\", \"link\", \"link\", \"link\", \"link\", \"link\", \"link\", \"list\", \"list\", \"list\", \"list\", \"list\", \"list\", \"list\", \"list\", \"list\", \"list\", \"listen\", \"listen\", \"listen\", \"listen\", \"listen\", \"listen\", \"listen\", \"loeffler\", \"loeffler\", \"loeffler\", \"los\", \"los\", \"los\", \"los\", \"lost\", \"lost\", \"lost\", \"lost\", \"lost\", \"lost\", \"lost\", \"lost\", \"lost\", \"love\", \"love\", \"love\", \"love\", \"love\", \"love\", \"love\", \"love\", \"love\", \"lowincome\", \"magically\", \"malala\", \"marchactive\", \"marchdaily\", \"mask\", \"mask\", \"mask\", \"mask\", \"mask\", \"mask\", \"mask\", \"mask\", \"maxhalf\", \"maydeathsreports\", \"mayo\", \"mcconnellgop\", \"medium\", \"medium\", \"medium\", \"medium\", \"medium\", \"medium\", \"medium\", \"meghindelaney\", \"member\", \"member\", \"member\", \"member\", \"member\", \"member\", \"member\", \"memoriam\", \"mercy\", \"mercy\", \"mercy\", \"met\", \"met\", \"michael\", \"michael\", \"michael\", \"michael\", \"mickywhitenv\", \"million\", \"million\", \"million\", \"million\", \"million\", \"million\", \"million\", \"million\", \"millionampour\", \"min20m\", \"mink\", \"minnesota\", \"minnesota\", \"minnesota\", \"minnesota\", \"mitch\", \"mitch\", \"mitch\", \"model\", \"model\", \"moderna\", \"moderna\", \"modernatx\", \"mohammad\", \"mohammad\", \"mom\", \"mom\", \"mom\", \"mom\", \"mom\", \"moment\", \"moment\", \"moment\", \"moment\", \"moment\", \"month\", \"month\", \"month\", \"month\", \"month\", \"month\", \"month\", \"month\", \"month\", \"month\", \"monthscovid19my\", \"monthswatch\", \"morning\", \"morning\", \"morning\", \"morning\", \"morning\", \"morning\", \"morning\", \"morning\", \"motivationwords\", \"motorcycle\", \"motorcycle\", \"muhammad\", \"musical\", \"mutated\", \"na\", \"na\", \"narrative\", \"nasser\", \"nasser\", \"need\", \"need\", \"need\", \"need\", \"need\", \"need\", \"need\", \"need\", \"need\", \"need\", \"negative\", \"negative\", \"negative\", \"negative\", \"negligence\", \"negligence\", \"negligence\", \"negligence\", \"nevada\", \"nevada\", \"nevada\", \"new\", \"new\", \"new\", \"new\", \"new\", \"new\", \"new\", \"new\", \"new\", \"new\", \"newhouse\", \"news\", \"news\", \"news\", \"news\", \"news\", \"news\", \"news\", \"news\", \"news\", \"nick\", \"nick\", \"nigga\", \"nih\", \"nih\", \"nih\", \"nihdirector\", \"nihdirector\", \"nonecovid19my\", \"nosemouth\", \"notice\", \"notice\", \"notice\", \"notice\", \"november\", \"november\", \"november\", \"november\", \"november\", \"november\", \"november\", \"november\", \"nowhiring\", \"number\", \"number\", \"number\", \"number\", \"number\", \"number\", \"number\", \"number\", \"number\", \"nvgopassembly\", \"nvgopsenate\", \"nyc\", \"nyc\", \"nyc\", \"nycmayor\", \"nycmayor\", \"nycmayor\", \"nycmayor\", \"nycmayor\", \"obsessively\", \"oddsthank\", \"officially\", \"old\", \"old\", \"old\", \"old\", \"old\", \"old\", \"old\", \"oligarch\", \"oligarchical\", \"onboard\", \"onboard\", \"organized\", \"ourswent\", \"outbreak\", \"outbreak\", \"outbreak\", \"outbreak\", \"outbreak\", \"outbreak\", \"outbreak\", \"oxford\", \"oxford\", \"pandemic\", \"pandemic\", \"pandemic\", \"pandemic\", \"pandemic\", \"pandemic\", \"pandemic\", \"pandemic\", \"pandemic\", \"pandemic\", \"pandemicprofiteer\", \"parton\", \"party\", \"party\", \"party\", \"party\", \"party\", \"party\", \"party\", \"party\", \"passenger\", \"passenger\", \"passenger\", \"passover\", \"pathologist\", \"penny\", \"penny\", \"penny\", \"people\", \"people\", \"people\", \"people\", \"people\", \"people\", \"people\", \"people\", \"people\", \"people\", \"perishis\", \"perpetrated\", \"perplexed\", \"petty\", \"pfizer\", \"pharmacist\", \"pharmacist\", \"pharmd\", \"phillip\", \"photo\", \"photo\", \"photo\", \"photo\", \"photo\", \"pigolak\", \"placed\", \"placed\", \"placed\", \"placed\", \"placed\", \"placed\", \"placed\", \"plaguecovid19\", \"pocketbook\", \"political\", \"political\", \"political\", \"pork\", \"positive\", \"positive\", \"positive\", \"positive\", \"positive\", \"positive\", \"posted\", \"posted\", \"powerful\", \"powerful\", \"powerful\", \"powerful\", \"powerful\", \"precaution\", \"precaution\", \"precaution\", \"precaution\", \"prefilled\", \"princess\", \"profitable\", \"project\", \"project\", \"project\", \"project\", \"project\", \"protect\", \"protect\", \"protect\", \"protect\", \"protect\", \"protect\", \"proven\", \"proven\", \"proven\", \"proven\", \"pstcovid19losangelescounty\", \"ptcovid19\", \"public\", \"public\", \"public\", \"public\", \"public\", \"public\", \"public\", \"public\", \"public\", \"qetran\", \"quadriplegic\", \"raider\", \"raider\", \"raider\", \"raider\", \"raider\", \"raider\", \"rambling\", \"rate\", \"rate\", \"rate\", \"rate\", \"rate\", \"rate\", \"rate\", \"rate\", \"rate\", \"rate\", \"raven\", \"raven\", \"real\", \"real\", \"real\", \"real\", \"real\", \"realdonaldtrump\", \"realdonaldtrump\", \"realdonaldtrump\", \"realdonaldtrump\", \"realdonaldtrump\", \"realdonaldtrump\", \"realdonaldtrump\", \"realdonaldtrump\", \"realdonaldtrump\", \"recount\", \"recount\", \"recovered\", \"recovered\", \"recovered\", \"recovered\", \"recovered\", \"reform\", \"reform\", \"report\", \"report\", \"report\", \"report\", \"report\", \"report\", \"report\", \"report\", \"report\", \"reported\", \"reported\", \"reported\", \"reported\", \"reported\", \"reported\", \"reported\", \"republican\", \"republican\", \"republican\", \"republican\", \"republican\", \"republican\", \"republican\", \"republicansyes\", \"requesting\", \"requirement\", \"requirement\", \"requirement\", \"reservecovid19\", \"reservecovid19\", \"reservecovid19\", \"reservecovid19\", \"responder\", \"responder\", \"responder\", \"respondersthat\", \"response\", \"response\", \"response\", \"response\", \"response\", \"response\", \"response\", \"response\", \"response\", \"response\", \"restaurant\", \"restaurant\", \"restaurant\", \"restaurant\", \"restaurant\", \"restaurant\", \"restaurant\", \"rife\", \"right\", \"right\", \"right\", \"right\", \"right\", \"right\", \"right\", \"right\", \"right\", \"right\", \"rise\", \"rise\", \"rise\", \"rise\", \"rise\", \"rise\", \"rise\", \"rise\", \"rise\", \"rising\", \"rising\", \"rising\", \"rising\", \"rising\", \"rising\", \"risk\", \"risk\", \"risk\", \"risk\", \"risk\", \"risk\", \"risk\", \"risk\", \"risk\", \"role\", \"role\", \"role\", \"ruby\", \"rubyprincessdecades\", \"rulesif\", \"rulesscrew\", \"rural\", \"rural\", \"rural\", \"rwilson\", \"saban\", \"safe\", \"safe\", \"safe\", \"safe\", \"safe\", \"safe\", \"safe\", \"safe\", \"safe\", \"safe\", \"safepass\", \"san\", \"san\", \"san\", \"san\", \"sanitation\", \"sanitation\", \"say\", \"say\", \"say\", \"say\", \"say\", \"say\", \"say\", \"say\", \"say\", \"scamming\", \"school\", \"school\", \"school\", \"school\", \"school\", \"school\", \"school\", \"school\", \"school\", \"school\", \"scorpio\", \"scurvy\", \"section13coronasantiagolive\", \"selfish\", \"selfish\", \"selfish\", \"selfish\", \"selfish\", \"senatemajldr\", \"senatemajldr\", \"senatemajldr\", \"senatemajldr\", \"senator\", \"senator\", \"senator\", \"senator\", \"senfeinsteinyou\", \"senschumer\", \"sentedcruz\", \"service\", \"service\", \"service\", \"service\", \"service\", \"service\", \"service\", \"service\", \"service\", \"shame\", \"shame\", \"shame\", \"shame\", \"shame\", \"shell\", \"shell\", \"shift\", \"shift\", \"shift\", \"shift\", \"shift\", \"shift\", \"ship\", \"ship\", \"shit\", \"shit\", \"shit\", \"shit\", \"shoulder\", \"shut\", \"shut\", \"shut\", \"shut\", \"shut\", \"sick\", \"sick\", \"sick\", \"sick\", \"sick\", \"sick\", \"sick\", \"sick\", \"silence\", \"sisolak\", \"skipped\", \"smartnews\", \"smu\", \"social\", \"social\", \"social\", \"social\", \"social\", \"social\", \"soon\", \"soon\", \"soon\", \"soon\", \"soon\", \"soon\", \"soon\", \"soon\", \"soon\", \"soundhound\", \"southernstateparkway\", \"speakerpelosi\", \"speakerpelosi\", \"speakerpelosi\", \"speakerpelosi\", \"speed\", \"speed\", \"spoxhhs\", \"spread\", \"spread\", \"spread\", \"spread\", \"spread\", \"spread\", \"spread\", \"spread\", \"spread\", \"starving\", \"starving\", \"state\", \"state\", \"state\", \"state\", \"state\", \"state\", \"state\", \"state\", \"state\", \"state\", \"statedept\", \"statedept\", \"statedept\", \"stay\", \"stay\", \"stay\", \"stay\", \"stay\", \"stay\", \"stay\", \"stayhome\", \"stayhome\", \"stayhome\", \"stayhome\", \"stayhome\", \"stayhome\", \"stayhome\", \"stayhome\", \"stayhome\", \"stayhome\", \"step\", \"step\", \"step\", \"step\", \"step\", \"step\", \"step\", \"stevenmnuchin1\", \"stimulus\", \"stimulus\", \"stimulus\", \"stimuluspackage\", \"stockpilesjk\", \"strike\", \"strike\", \"strike\", \"strike\", \"strut\", \"sturgis\", \"sunlightbiden\", \"suppression\", \"supreme\", \"supreme\", \"surge\", \"surge\", \"surge\", \"surge\", \"surge\", \"swearingin\", \"swine\", \"swine\", \"syndrome\", \"taiwan\", \"talent\", \"talent\", \"talent\", \"teamcvs\", \"tedcruz\", \"tedcruz\", \"tedcruz\", \"tedcruz\", \"television\", \"terrible\", \"terrible\", \"terrible\", \"terrible\", \"terrible\", \"test\", \"test\", \"test\", \"test\", \"test\", \"test\", \"test\", \"test\", \"tested\", \"tested\", \"tested\", \"testing\", \"testing\", \"testing\", \"testing\", \"testing\", \"testing\", \"testing\", \"testing\", \"tf\", \"th\", \"thank\", \"thank\", \"thank\", \"thank\", \"thank\", \"thank\", \"thank\", \"thank\", \"thank\", \"thank\", \"thanksgiving\", \"thanksgiving\", \"thanksgiving\", \"thanksgiving\", \"thanksgiving\", \"thanksgiving\", \"thanksgiving\", \"thanksgiving\", \"thats\", \"thats\", \"thats\", \"thats\", \"thats\", \"thats\", \"thats\", \"thats\", \"thats\", \"thats\", \"therapy\", \"therapy\", \"therapy\", \"therapy\", \"thespybrief\", \"thing\", \"thing\", \"thing\", \"thing\", \"thing\", \"thing\", \"thing\", \"thing\", \"thing\", \"think\", \"think\", \"think\", \"think\", \"think\", \"think\", \"think\", \"thrown\", \"time\", \"time\", \"time\", \"time\", \"time\", \"time\", \"time\", \"time\", \"time\", \"time\", \"timemostly\", \"tndeptofhealth\", \"today\", \"today\", \"today\", \"today\", \"today\", \"today\", \"today\", \"today\", \"today\", \"today\", \"toxic\", \"toxic\", \"toxic\", \"traced\", \"traced\", \"tracing\", \"tracing\", \"tracing\", \"tracing\", \"tracing\", \"transferred\", \"travelgov\", \"travelgov\", \"treating\", \"treating\", \"treating\", \"treating\", \"treating\", \"trump\", \"trump\", \"trump\", \"trump\", \"trump\", \"trump\", \"trump\", \"trump\", \"trump\", \"trumpf\", \"tumps\", \"turkeysi\", \"tweet\", \"tweet\", \"tweet\", \"tweet\", \"tweet\", \"tweet\", \"tweet\", \"tweet\", \"unconscionable\", \"university\", \"university\", \"university\", \"university\", \"university\", \"university\", \"unsuspecting\", \"upconniving\", \"updatetotal\", \"urgently\", \"urgently\", \"vaccine\", \"vaccine\", \"vaccine\", \"vaccine\", \"vaccine\", \"vaccine\", \"vaccine\", \"vampire\", \"vessel\", \"vet\", \"videoag\", \"videocovid19my\", \"videosisolak\", \"vigilant\", \"vigilant\", \"violencecontinues\", \"virus\", \"virus\", \"virus\", \"virus\", \"virus\", \"virus\", \"virus\", \"virus\", \"virus\", \"virus\", \"vols\", \"vote\", \"vote\", \"vote\", \"vote\", \"vote\", \"voter\", \"voter\", \"voter\", \"voter\", \"voter\", \"voting\", \"voting\", \"voyage\", \"wa\", \"wa\", \"wa\", \"wa\", \"wa\", \"wa\", \"wa\", \"wa\", \"wa\", \"walk\", \"walk\", \"walk\", \"walk\", \"walk\", \"walmarthelp\", \"wan\", \"want\", \"want\", \"want\", \"want\", \"want\", \"want\", \"warp\", \"washtenaw\", \"washyourhands\", \"washyourhands\", \"washyourhands\", \"washyourhands\", \"wear\", \"wear\", \"wear\", \"wear\", \"wear\", \"wearamask\", \"wearamask\", \"wearamask\", \"wearamask\", \"wearamask\", \"wearamask\", \"wearamask\", \"wearamask\", \"wearamask\", \"wearing\", \"wearing\", \"wearing\", \"wearing\", \"week\", \"week\", \"week\", \"week\", \"week\", \"week\", \"week\", \"week\", \"week\", \"week\", \"wheelchairuser\", \"wheelchairuserwatch\", \"wilkins\", \"wiped\", \"wore\", \"wore\", \"work\", \"work\", \"work\", \"work\", \"work\", \"work\", \"work\", \"work\", \"work\", \"worker\", \"worker\", \"worker\", \"worker\", \"worker\", \"worker\", \"worker\", \"worldwide\", \"worldwide\", \"worldwide\", \"worldwide\", \"worse\", \"worse\", \"worse\", \"worse\", \"worse\", \"wr\", \"wstimulusgop\", \"yall\", \"yall\", \"yall\", \"yall\", \"year\", \"year\", \"year\", \"year\", \"year\", \"year\", \"year\", \"year\", \"year\", \"year\", \"yearsthe\", \"york\", \"york\", \"young\", \"young\", \"young\", \"young\", \"young\", \"young\", \"young\", \"youtube\", \"youtube\", \"youtube\", \"youtube\", \"youtube\", \"youtube\", \"youtube\"]}, \"R\": 30, \"lambda.step\": 0.01, \"plot.opts\": {\"xlab\": \"PC1\", \"ylab\": \"PC2\"}, \"topic.order\": [2, 1, 3, 9, 5, 4, 10, 7, 6, 8]};\n\nfunction LDAvis_load_lib(url, callback){\n  var s = document.createElement('script');\n  s.src = url;\n  s.async = true;\n  s.onreadystatechange = s.onload = callback;\n  s.onerror = function(){console.warn(\"failed to load library \" + url);};\n  document.getElementsByTagName(\"head\")[0].appendChild(s);\n}\n\nif(typeof(LDAvis) !== \"undefined\"){\n   // already loaded: just create the visualization\n   !function(LDAvis){\n       new LDAvis(\"#\" + \"ldavis_el1318027757953671528808007815\", ldavis_el1318027757953671528808007815_data);\n   }(LDAvis);\n}else if(typeof define === \"function\" && define.amd){\n   // require.js is available: use it to load d3/LDAvis\n   require.config({paths: {d3: \"https://cdnjs.cloudflare.com/ajax/libs/d3/3.5.5/d3.min\"}});\n   require([\"d3\"], function(d3){\n      window.d3 = d3;\n      LDAvis_load_lib(\"https://cdn.rawgit.com/bmabey/pyLDAvis/files/ldavis.v1.0.0.js\", function(){\n        new LDAvis(\"#\" + \"ldavis_el1318027757953671528808007815\", ldavis_el1318027757953671528808007815_data);\n      });\n    });\n}else{\n    // require.js not available: dynamically load d3 & LDAvis\n    LDAvis_load_lib(\"https://cdnjs.cloudflare.com/ajax/libs/d3/3.5.5/d3.min.js\", function(){\n         LDAvis_load_lib(\"https://cdn.rawgit.com/bmabey/pyLDAvis/files/ldavis.v1.0.0.js\", function(){\n                 new LDAvis(\"#\" + \"ldavis_el1318027757953671528808007815\", ldavis_el1318027757953671528808007815_data);\n            })\n         });\n}\n</script>"
     },
     "metadata": {},
     "execution_count": 111
    }
   ],
   "source": [
    "panel = pyLDAvis.sklearn.prepare(lda_model, feature_matrix, count_vectorizer, mds='tsne')\n",
    "pyLDAvis.display(panel)"
   ]
  }
 ]
}